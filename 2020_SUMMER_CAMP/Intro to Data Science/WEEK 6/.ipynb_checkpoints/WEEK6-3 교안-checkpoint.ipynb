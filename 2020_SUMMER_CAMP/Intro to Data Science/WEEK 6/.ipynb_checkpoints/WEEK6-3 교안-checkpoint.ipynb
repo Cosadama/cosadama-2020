{
 "cells": [
  {
   "cell_type": "markdown",
   "metadata": {
    "colab_type": "text",
    "id": "9nqZpefriGju"
   },
   "source": [
    "# [프로젝트] 청와대 청원으로 하는 한글 자연어 처리  \n",
    "- 일자: 2020/08/23  \n",
    "- 작성자: 김보겸  \n",
    "- 참고자료: 파이썬으로 데이터 주무르기(민형기), Intro to DS in SPRINGRUSH (박하람)\n",
    "\n",
    "교재에 있는 프로젝트는 애인 선물 구하기라는 주제라... 애인 선물 구하기 보다는 청와대 청원 분석이 저희의 까오를 더 살려주는 주제 아니겠습니까? 😎 데이터 범위는 '답변된 청원'으로만 한정할 것이고요, 현재(2020.08.23)은 179호까지 답변된 청원이 있습니다.\n",
    "\n",
    "먼저 [청와대 청원 홈페이지](https://www1.president.go.kr/petitions/answer)에서 모든 청원들을 가져와 데이터 프레임에 담고, 여러 카테고리 중 청원수가 많은 상위 1개의 카테고리를 선택해 청원 내용을 wordcloud로 시각화해보겠습니다. 또한 gensim을 활용해 Word2Vec으로 유사한 단어들도 함께 파악해보겠습니다!"
   ]
  },
  {
   "cell_type": "markdown",
   "metadata": {
    "colab_type": "text",
    "id": "k9XTHp5UjbZa"
   },
   "source": [
    "## 답변된 청원 웹크롤링 하기  \n",
    "자, 코드를 짜기 전에 우선 어떤 식으로 프로젝트를 진행할지 생각해봅시다. 어떻게 하면 '답변된 청원'을 모두 가져올 수 있을까요? 여러 페이지에 걸쳐 있는 청원들을 어떻게 웹크롤링으로 가져올 수 있을까요? 이러한 사고 없이 코드만 먼저 보시게 되면 실질적인 문제 해결 역량은 성장하지 못할 수도...🌝 그러니 한번 어떻게 크롤링해올 것인가 고민해보시고, 이제까지 배운 크롤링들을 모두 활용하여 크롤링해봐야지! 라는 생각으로 최대한 고민하고 해보고 잘 안풀릴 때 코드를 보시면 더욱 더욱 큰 도움이 될 수 있을 것 같습니다. 참고로 아래 크롤링 코드는 모두 하람님의 코드를 베이스로 제 나름 응용하면서 짠 것이라 비효율적이고 지저분할 수 있지만, 어쨌든 데이터가 잘 가져와지긴 했습니다\n",
    "\n",
    "**힌트**\n",
    "\n",
    "- urllib과 BeautifulSoup을 활용해 웹크롤링\n",
    "- 여러 페이지의 웹크롤링은 지난 스터디 '샌드위치 맛집 크롤링'을 활용\n",
    "\n",
    "빈공간에 한번 생각해보시고 아래 코드를 보시면 더욱 도움이 됩니다! 따로 부연설명은 많이 적지 않았구요, 혼자 먼저 해보시고 잘 안되는 부분에서 고민을 하고 이 코드를 보시면 해결이 될 수 있을 것 같네요~🙃"
   ]
  },
  {
   "cell_type": "code",
   "execution_count": 1,
   "metadata": {
    "colab": {
     "base_uri": "https://localhost:8080/",
     "height": 105
    },
    "colab_type": "code",
    "executionInfo": {
     "elapsed": 4078,
     "status": "ok",
     "timestamp": 1598240792342,
     "user": {
      "displayName": "김보겸",
      "photoUrl": "",
      "userId": "10542318974879873360"
     },
     "user_tz": -540
    },
    "id": "2kpKRST5hc-K",
    "outputId": "6bc990cb-f8fe-4ea6-aa25-3c2437186d3d"
   },
   "outputs": [
    {
     "name": "stdout",
     "output_type": "stream",
     "text": [
      "fonts-nanum is already the newest version (20170925-1).\n",
      "The following package was automatically installed and is no longer required:\n",
      "  libnvidia-common-440\n",
      "Use 'apt autoremove' to remove it.\n",
      "0 upgraded, 0 newly installed, 0 to remove and 35 not upgraded.\n"
     ]
    }
   ],
   "source": [
    "# 한글 폰트 설정\n",
    "import matplotlib as mpl\n",
    "import matplotlib.pyplot as plt\n",
    " \n",
    "%config InlineBackend.figure_format = 'retina'\n",
    " \n",
    "!apt -qq -y install fonts-nanum\n",
    " \n",
    "import matplotlib.font_manager as fm\n",
    "fontpath = '/usr/share/fonts/truetype/nanum/NanumBarunGothic.ttf'\n",
    "font = fm.FontProperties(fname=fontpath, size=9)\n",
    "plt.rc('font', family='NanumBarunGothic') \n",
    "mpl.font_manager._rebuild()"
   ]
  },
  {
   "cell_type": "markdown",
   "metadata": {
    "colab_type": "text",
    "id": "PfrGtBg_lCB5"
   },
   "source": [
    "까먹지 말고 런타임 다시 시작 해주시고 셀 실행 해주세요"
   ]
  },
  {
   "cell_type": "code",
   "execution_count": 2,
   "metadata": {
    "colab": {
     "base_uri": "https://localhost:8080/",
     "height": 1000
    },
    "colab_type": "code",
    "executionInfo": {
     "elapsed": 76254,
     "status": "ok",
     "timestamp": 1598240973401,
     "user": {
      "displayName": "김보겸",
      "photoUrl": "",
      "userId": "10542318974879873360"
     },
     "user_tz": -540
    },
    "id": "sO6_WuV5kov7",
    "outputId": "bfb5b7c0-84c9-4ddd-df91-73b8d4a14522"
   },
   "outputs": [
    {
     "name": "stdout",
     "output_type": "stream",
     "text": [
      "\r",
      "0% [Working]\r",
      "            \r",
      "Get:1 https://cloud.r-project.org/bin/linux/ubuntu bionic-cran35/ InRelease [3,626 B]\n",
      "\r",
      "0% [Connecting to archive.ubuntu.com (91.189.88.152)] [Connecting to security.u\r",
      "0% [Connecting to archive.ubuntu.com (91.189.88.152)] [Connecting to security.u\r",
      "0% [1 InRelease gpgv 3,626 B] [Connecting to archive.ubuntu.com (91.189.88.152)\r",
      "                                                                               \r",
      "Ign:2 https://developer.download.nvidia.com/compute/cuda/repos/ubuntu1804/x86_64  InRelease\n",
      "\r",
      "0% [1 InRelease gpgv 3,626 B] [Connecting to archive.ubuntu.com (91.189.88.152)\r",
      "                                                                               \r",
      "Ign:3 https://developer.download.nvidia.com/compute/machine-learning/repos/ubuntu1804/x86_64  InRelease\n",
      "\r",
      "0% [1 InRelease gpgv 3,626 B] [Connecting to archive.ubuntu.com (91.189.88.152)\r",
      "                                                                               \r",
      "Get:4 https://developer.download.nvidia.com/compute/cuda/repos/ubuntu1804/x86_64  Release [697 B]\n",
      "\r",
      "0% [1 InRelease gpgv 3,626 B] [Connecting to archive.ubuntu.com (91.189.88.152)\r",
      "0% [1 InRelease gpgv 3,626 B] [Waiting for headers] [Connecting to security.ubu\r",
      "                                                                               \r",
      "Hit:5 https://developer.download.nvidia.com/compute/machine-learning/repos/ubuntu1804/x86_64  Release\n",
      "\r",
      "0% [1 InRelease gpgv 3,626 B] [Waiting for headers] [Connecting to security.ubu\r",
      "                                                                               \r",
      "Get:6 https://developer.download.nvidia.com/compute/cuda/repos/ubuntu1804/x86_64  Release.gpg [836 B]\n",
      "\r",
      "0% [1 InRelease gpgv 3,626 B] [Waiting for headers] [Connecting to security.ubu\r",
      "0% [1 InRelease gpgv 3,626 B] [Waiting for headers] [Connecting to security.ubu\r",
      "                                                                               \r",
      "Hit:7 http://archive.ubuntu.com/ubuntu bionic InRelease\n",
      "\r",
      "                                                                               \r",
      "0% [1 InRelease gpgv 3,626 B] [Waiting for headers] [Waiting for headers]\r",
      "                                                                         \r",
      "Hit:8 http://ppa.launchpad.net/graphics-drivers/ppa/ubuntu bionic InRelease\n",
      "\r",
      "0% [1 InRelease gpgv 3,626 B] [Waiting for headers] [Waiting for headers] [Conn\r",
      "0% [Waiting for headers] [Waiting for headers] [Connecting to ppa.launchpad.net\r",
      "0% [Release.gpg gpgv 564 B] [Waiting for headers] [Waiting for headers] [Connec\r",
      "                                                                               \r",
      "Get:9 http://security.ubuntu.com/ubuntu bionic-security InRelease [88.7 kB]\n",
      "\r",
      "0% [Release.gpg gpgv 564 B] [Waiting for headers] [9 InRelease 14.2 kB/88.7 kB \r",
      "                                                                               \r",
      "Get:10 http://archive.ubuntu.com/ubuntu bionic-updates InRelease [88.7 kB]\n",
      "Get:12 http://ppa.launchpad.net/marutter/c2d4u3.5/ubuntu bionic InRelease [15.4 kB]\n",
      "Ign:13 https://developer.download.nvidia.com/compute/cuda/repos/ubuntu1804/x86_64  Packages\n",
      "Get:13 https://developer.download.nvidia.com/compute/cuda/repos/ubuntu1804/x86_64  Packages [255 kB]\n",
      "Get:14 http://archive.ubuntu.com/ubuntu bionic-backports InRelease [74.6 kB]\n",
      "Get:15 http://ppa.launchpad.net/marutter/c2d4u3.5/ubuntu bionic/main Sources [1,857 kB]\n",
      "Get:16 http://security.ubuntu.com/ubuntu bionic-security/restricted amd64 Packages [101 kB]\n",
      "Get:17 http://archive.ubuntu.com/ubuntu bionic-updates/main amd64 Packages [1,341 kB]\n",
      "Get:18 http://security.ubuntu.com/ubuntu bionic-security/universe amd64 Packages [890 kB]\n",
      "Get:19 http://security.ubuntu.com/ubuntu bionic-security/multiverse amd64 Packages [9,834 B]\n",
      "Get:20 http://security.ubuntu.com/ubuntu bionic-security/main amd64 Packages [1,043 kB]\n",
      "Get:21 http://archive.ubuntu.com/ubuntu bionic-updates/restricted amd64 Packages [117 kB]\n",
      "Get:22 http://archive.ubuntu.com/ubuntu bionic-updates/multiverse amd64 Packages [27.4 kB]\n",
      "Get:23 http://archive.ubuntu.com/ubuntu bionic-updates/universe amd64 Packages [1,417 kB]\n",
      "Get:24 http://ppa.launchpad.net/marutter/c2d4u3.5/ubuntu bionic/main amd64 Packages [896 kB]\n",
      "Fetched 8,227 kB in 4s (2,188 kB/s)\n",
      "Reading package lists... Done\n",
      "Reading package lists... Done\n",
      "Building dependency tree       \n",
      "Reading state information... Done\n",
      "python-dev is already the newest version (2.7.15~rc1-1).\n",
      "g++ is already the newest version (4:7.4.0-1ubuntu2.3).\n",
      "g++ set to manually installed.\n",
      "python3-dev is already the newest version (3.6.7-1~18.04).\n",
      "The following package was automatically installed and is no longer required:\n",
      "  libnvidia-common-440\n",
      "Use 'apt autoremove' to remove it.\n",
      "The following additional packages will be installed:\n",
      "  fonts-dejavu-core fonts-dejavu-extra libatk-wrapper-java\n",
      "  libatk-wrapper-java-jni libxxf86dga1 openjdk-8-jdk-headless openjdk-8-jre\n",
      "  openjdk-8-jre-headless x11-utils\n",
      "Suggested packages:\n",
      "  openjdk-8-demo openjdk-8-source visualvm icedtea-8-plugin libnss-mdns\n",
      "  fonts-ipafont-gothic fonts-ipafont-mincho fonts-wqy-microhei\n",
      "  fonts-wqy-zenhei fonts-indic mesa-utils\n",
      "The following NEW packages will be installed:\n",
      "  fonts-dejavu-core fonts-dejavu-extra libatk-wrapper-java\n",
      "  libatk-wrapper-java-jni libxxf86dga1 openjdk-8-jdk openjdk-8-jdk-headless\n",
      "  openjdk-8-jre openjdk-8-jre-headless x11-utils\n",
      "0 upgraded, 10 newly installed, 0 to remove and 60 not upgraded.\n",
      "Need to get 40.7 MB of archives.\n",
      "After this operation, 153 MB of additional disk space will be used.\n",
      "Get:1 http://archive.ubuntu.com/ubuntu bionic/main amd64 libxxf86dga1 amd64 2:1.1.4-1 [13.7 kB]\n",
      "Get:2 http://archive.ubuntu.com/ubuntu bionic/main amd64 fonts-dejavu-core all 2.37-1 [1,041 kB]\n",
      "Get:3 http://archive.ubuntu.com/ubuntu bionic/main amd64 fonts-dejavu-extra all 2.37-1 [1,953 kB]\n",
      "Get:4 http://archive.ubuntu.com/ubuntu bionic/main amd64 x11-utils amd64 7.7+3build1 [196 kB]\n",
      "Get:5 http://archive.ubuntu.com/ubuntu bionic/main amd64 libatk-wrapper-java all 0.33.3-20ubuntu0.1 [34.7 kB]\n",
      "Get:6 http://archive.ubuntu.com/ubuntu bionic/main amd64 libatk-wrapper-java-jni amd64 0.33.3-20ubuntu0.1 [28.3 kB]\n",
      "Get:7 http://archive.ubuntu.com/ubuntu bionic-updates/universe amd64 openjdk-8-jre-headless amd64 8u265-b01-0ubuntu2~18.04 [27.5 MB]\n",
      "Get:8 http://archive.ubuntu.com/ubuntu bionic-updates/universe amd64 openjdk-8-jre amd64 8u265-b01-0ubuntu2~18.04 [69.6 kB]\n",
      "Get:9 http://archive.ubuntu.com/ubuntu bionic-updates/universe amd64 openjdk-8-jdk-headless amd64 8u265-b01-0ubuntu2~18.04 [8,262 kB]\n",
      "Get:10 http://archive.ubuntu.com/ubuntu bionic-updates/universe amd64 openjdk-8-jdk amd64 8u265-b01-0ubuntu2~18.04 [1,610 kB]\n",
      "Fetched 40.7 MB in 3s (13.1 MB/s)\n",
      "Selecting previously unselected package libxxf86dga1:amd64.\n",
      "(Reading database ... 144505 files and directories currently installed.)\n",
      "Preparing to unpack .../0-libxxf86dga1_2%3a1.1.4-1_amd64.deb ...\n",
      "Unpacking libxxf86dga1:amd64 (2:1.1.4-1) ...\n",
      "Selecting previously unselected package fonts-dejavu-core.\n",
      "Preparing to unpack .../1-fonts-dejavu-core_2.37-1_all.deb ...\n",
      "Unpacking fonts-dejavu-core (2.37-1) ...\n",
      "Selecting previously unselected package fonts-dejavu-extra.\n",
      "Preparing to unpack .../2-fonts-dejavu-extra_2.37-1_all.deb ...\n",
      "Unpacking fonts-dejavu-extra (2.37-1) ...\n",
      "Selecting previously unselected package x11-utils.\n",
      "Preparing to unpack .../3-x11-utils_7.7+3build1_amd64.deb ...\n",
      "Unpacking x11-utils (7.7+3build1) ...\n",
      "Selecting previously unselected package libatk-wrapper-java.\n",
      "Preparing to unpack .../4-libatk-wrapper-java_0.33.3-20ubuntu0.1_all.deb ...\n",
      "Unpacking libatk-wrapper-java (0.33.3-20ubuntu0.1) ...\n",
      "Selecting previously unselected package libatk-wrapper-java-jni:amd64.\n",
      "Preparing to unpack .../5-libatk-wrapper-java-jni_0.33.3-20ubuntu0.1_amd64.deb ...\n",
      "Unpacking libatk-wrapper-java-jni:amd64 (0.33.3-20ubuntu0.1) ...\n",
      "Selecting previously unselected package openjdk-8-jre-headless:amd64.\n",
      "Preparing to unpack .../6-openjdk-8-jre-headless_8u265-b01-0ubuntu2~18.04_amd64.deb ...\n",
      "Unpacking openjdk-8-jre-headless:amd64 (8u265-b01-0ubuntu2~18.04) ...\n",
      "Selecting previously unselected package openjdk-8-jre:amd64.\n",
      "Preparing to unpack .../7-openjdk-8-jre_8u265-b01-0ubuntu2~18.04_amd64.deb ...\n",
      "Unpacking openjdk-8-jre:amd64 (8u265-b01-0ubuntu2~18.04) ...\n",
      "Selecting previously unselected package openjdk-8-jdk-headless:amd64.\n",
      "Preparing to unpack .../8-openjdk-8-jdk-headless_8u265-b01-0ubuntu2~18.04_amd64.deb ...\n",
      "Unpacking openjdk-8-jdk-headless:amd64 (8u265-b01-0ubuntu2~18.04) ...\n",
      "Selecting previously unselected package openjdk-8-jdk:amd64.\n",
      "Preparing to unpack .../9-openjdk-8-jdk_8u265-b01-0ubuntu2~18.04_amd64.deb ...\n",
      "Unpacking openjdk-8-jdk:amd64 (8u265-b01-0ubuntu2~18.04) ...\n",
      "Setting up fonts-dejavu-core (2.37-1) ...\n",
      "Setting up libxxf86dga1:amd64 (2:1.1.4-1) ...\n",
      "Setting up fonts-dejavu-extra (2.37-1) ...\n",
      "Setting up openjdk-8-jre-headless:amd64 (8u265-b01-0ubuntu2~18.04) ...\n",
      "update-alternatives: using /usr/lib/jvm/java-8-openjdk-amd64/jre/bin/orbd to provide /usr/bin/orbd (orbd) in auto mode\n",
      "update-alternatives: using /usr/lib/jvm/java-8-openjdk-amd64/jre/bin/servertool to provide /usr/bin/servertool (servertool) in auto mode\n",
      "update-alternatives: using /usr/lib/jvm/java-8-openjdk-amd64/jre/bin/tnameserv to provide /usr/bin/tnameserv (tnameserv) in auto mode\n",
      "Setting up openjdk-8-jdk-headless:amd64 (8u265-b01-0ubuntu2~18.04) ...\n",
      "update-alternatives: using /usr/lib/jvm/java-8-openjdk-amd64/bin/idlj to provide /usr/bin/idlj (idlj) in auto mode\n",
      "update-alternatives: using /usr/lib/jvm/java-8-openjdk-amd64/bin/wsimport to provide /usr/bin/wsimport (wsimport) in auto mode\n",
      "update-alternatives: using /usr/lib/jvm/java-8-openjdk-amd64/bin/jsadebugd to provide /usr/bin/jsadebugd (jsadebugd) in auto mode\n",
      "update-alternatives: using /usr/lib/jvm/java-8-openjdk-amd64/bin/native2ascii to provide /usr/bin/native2ascii (native2ascii) in auto mode\n",
      "update-alternatives: using /usr/lib/jvm/java-8-openjdk-amd64/bin/javah to provide /usr/bin/javah (javah) in auto mode\n",
      "update-alternatives: using /usr/lib/jvm/java-8-openjdk-amd64/bin/clhsdb to provide /usr/bin/clhsdb (clhsdb) in auto mode\n",
      "update-alternatives: using /usr/lib/jvm/java-8-openjdk-amd64/bin/jhat to provide /usr/bin/jhat (jhat) in auto mode\n",
      "update-alternatives: using /usr/lib/jvm/java-8-openjdk-amd64/bin/extcheck to provide /usr/bin/extcheck (extcheck) in auto mode\n",
      "update-alternatives: using /usr/lib/jvm/java-8-openjdk-amd64/bin/hsdb to provide /usr/bin/hsdb (hsdb) in auto mode\n",
      "update-alternatives: using /usr/lib/jvm/java-8-openjdk-amd64/bin/schemagen to provide /usr/bin/schemagen (schemagen) in auto mode\n",
      "update-alternatives: using /usr/lib/jvm/java-8-openjdk-amd64/bin/xjc to provide /usr/bin/xjc (xjc) in auto mode\n",
      "update-alternatives: using /usr/lib/jvm/java-8-openjdk-amd64/bin/wsgen to provide /usr/bin/wsgen (wsgen) in auto mode\n",
      "Setting up x11-utils (7.7+3build1) ...\n",
      "Setting up libatk-wrapper-java (0.33.3-20ubuntu0.1) ...\n",
      "Setting up libatk-wrapper-java-jni:amd64 (0.33.3-20ubuntu0.1) ...\n",
      "Setting up openjdk-8-jre:amd64 (8u265-b01-0ubuntu2~18.04) ...\n",
      "update-alternatives: using /usr/lib/jvm/java-8-openjdk-amd64/jre/bin/policytool to provide /usr/bin/policytool (policytool) in auto mode\n",
      "Setting up openjdk-8-jdk:amd64 (8u265-b01-0ubuntu2~18.04) ...\n",
      "update-alternatives: using /usr/lib/jvm/java-8-openjdk-amd64/bin/appletviewer to provide /usr/bin/appletviewer (appletviewer) in auto mode\n",
      "update-alternatives: using /usr/lib/jvm/java-8-openjdk-amd64/bin/jconsole to provide /usr/bin/jconsole (jconsole) in auto mode\n",
      "Processing triggers for man-db (2.8.3-2ubuntu0.1) ...\n",
      "Processing triggers for hicolor-icon-theme (0.17-2) ...\n",
      "Processing triggers for fontconfig (2.12.6-0ubuntu2) ...\n",
      "Processing triggers for mime-support (3.60ubuntu1) ...\n",
      "Processing triggers for libc-bin (2.27-3ubuntu1) ...\n",
      "/sbin/ldconfig.real: /usr/local/lib/python3.6/dist-packages/ideep4py/lib/libmkldnn.so.0 is not a symbolic link\n",
      "\n",
      "Collecting JPype1-py3\n",
      "\u001b[?25l  Downloading https://files.pythonhosted.org/packages/9b/81/63f5e4202c598f362ee4684b41890f993d6e58309c5d90703f570ab85f62/JPype1-py3-0.5.5.4.tar.gz (88kB)\n",
      "\u001b[K     |████████████████████████████████| 92kB 3.5MB/s \n",
      "\u001b[?25hBuilding wheels for collected packages: JPype1-py3\n",
      "  Building wheel for JPype1-py3 (setup.py) ... \u001b[?25l\u001b[?25hdone\n",
      "  Created wheel for JPype1-py3: filename=JPype1_py3-0.5.5.4-cp36-cp36m-linux_x86_64.whl size=2678404 sha256=75b529ba90292186c0cabae397d535ac3089da203c4b5c0d1ff52f31f8774143\n",
      "  Stored in directory: /root/.cache/pip/wheels/52/37/1f/1015d908d12a0e9b239543d031fda0cded9823aa1306939541\n",
      "Successfully built JPype1-py3\n",
      "Installing collected packages: JPype1-py3\n",
      "Successfully installed JPype1-py3-0.5.5.4\n",
      "Collecting konlpy\n",
      "\u001b[?25l  Downloading https://files.pythonhosted.org/packages/85/0e/f385566fec837c0b83f216b2da65db9997b35dd675e107752005b7d392b1/konlpy-0.5.2-py2.py3-none-any.whl (19.4MB)\n",
      "\u001b[K     |████████████████████████████████| 19.4MB 1.5MB/s \n",
      "\u001b[?25hCollecting beautifulsoup4==4.6.0\n",
      "\u001b[?25l  Downloading https://files.pythonhosted.org/packages/9e/d4/10f46e5cfac773e22707237bfcd51bbffeaf0a576b0a847ec7ab15bd7ace/beautifulsoup4-4.6.0-py3-none-any.whl (86kB)\n",
      "\u001b[K     |████████████████████████████████| 92kB 10.8MB/s \n",
      "\u001b[?25hRequirement already satisfied: numpy>=1.6 in /usr/local/lib/python3.6/dist-packages (from konlpy) (1.18.5)\n",
      "Collecting JPype1>=0.7.0\n",
      "\u001b[?25l  Downloading https://files.pythonhosted.org/packages/8b/f7/a368401e630f0e390dd0e62c39fb928e5b23741b53c2360ee7d376660927/JPype1-1.0.2-cp36-cp36m-manylinux2010_x86_64.whl (3.8MB)\n",
      "\u001b[K     |████████████████████████████████| 3.8MB 40.9MB/s \n",
      "\u001b[?25hRequirement already satisfied: lxml>=4.1.0 in /usr/local/lib/python3.6/dist-packages (from konlpy) (4.2.6)\n",
      "Collecting colorama\n",
      "  Downloading https://files.pythonhosted.org/packages/c9/dc/45cdef1b4d119eb96316b3117e6d5708a08029992b2fee2c143c7a0a5cc5/colorama-0.4.3-py2.py3-none-any.whl\n",
      "Collecting tweepy>=3.7.0\n",
      "  Downloading https://files.pythonhosted.org/packages/bb/7c/99d51f80f3b77b107ebae2634108717362c059a41384a1810d13e2429a81/tweepy-3.9.0-py2.py3-none-any.whl\n",
      "Requirement already satisfied: typing-extensions; python_version < \"3.8\" in /usr/local/lib/python3.6/dist-packages (from JPype1>=0.7.0->konlpy) (3.7.4.2)\n",
      "Requirement already satisfied: requests[socks]>=2.11.1 in /usr/local/lib/python3.6/dist-packages (from tweepy>=3.7.0->konlpy) (2.23.0)\n",
      "Requirement already satisfied: requests-oauthlib>=0.7.0 in /usr/local/lib/python3.6/dist-packages (from tweepy>=3.7.0->konlpy) (1.3.0)\n",
      "Requirement already satisfied: six>=1.10.0 in /usr/local/lib/python3.6/dist-packages (from tweepy>=3.7.0->konlpy) (1.15.0)\n",
      "Requirement already satisfied: certifi>=2017.4.17 in /usr/local/lib/python3.6/dist-packages (from requests[socks]>=2.11.1->tweepy>=3.7.0->konlpy) (2020.6.20)\n",
      "Requirement already satisfied: chardet<4,>=3.0.2 in /usr/local/lib/python3.6/dist-packages (from requests[socks]>=2.11.1->tweepy>=3.7.0->konlpy) (3.0.4)\n",
      "Requirement already satisfied: urllib3!=1.25.0,!=1.25.1,<1.26,>=1.21.1 in /usr/local/lib/python3.6/dist-packages (from requests[socks]>=2.11.1->tweepy>=3.7.0->konlpy) (1.24.3)\n",
      "Requirement already satisfied: idna<3,>=2.5 in /usr/local/lib/python3.6/dist-packages (from requests[socks]>=2.11.1->tweepy>=3.7.0->konlpy) (2.10)\n",
      "Requirement already satisfied: PySocks!=1.5.7,>=1.5.6; extra == \"socks\" in /usr/local/lib/python3.6/dist-packages (from requests[socks]>=2.11.1->tweepy>=3.7.0->konlpy) (1.7.1)\n",
      "Requirement already satisfied: oauthlib>=3.0.0 in /usr/local/lib/python3.6/dist-packages (from requests-oauthlib>=0.7.0->tweepy>=3.7.0->konlpy) (3.1.0)\n",
      "Installing collected packages: beautifulsoup4, JPype1, colorama, tweepy, konlpy\n",
      "  Found existing installation: beautifulsoup4 4.6.3\n",
      "    Uninstalling beautifulsoup4-4.6.3:\n",
      "      Successfully uninstalled beautifulsoup4-4.6.3\n",
      "  Found existing installation: tweepy 3.6.0\n",
      "    Uninstalling tweepy-3.6.0:\n",
      "      Successfully uninstalled tweepy-3.6.0\n",
      "Successfully installed JPype1-1.0.2 beautifulsoup4-4.6.0 colorama-0.4.3 konlpy-0.5.2 tweepy-3.9.0\n"
     ]
    }
   ],
   "source": [
    "# 자연어 처리 모듈 설치\n",
    "!apt-get update \n",
    "!apt-get install g++ openjdk-8-jdk python-dev python3-dev \n",
    "!pip3 install JPype1-py3 \n",
    "!pip3 install konlpy \n",
    "!JAVA_HOME=\"C:\\Program Files\\Java\\jdk-13.0.2\""
   ]
  },
  {
   "cell_type": "code",
   "execution_count": 3,
   "metadata": {
    "colab": {},
    "colab_type": "code",
    "executionInfo": {
     "elapsed": 820,
     "status": "ok",
     "timestamp": 1598241071032,
     "user": {
      "displayName": "김보겸",
      "photoUrl": "",
      "userId": "10542318974879873360"
     },
     "user_tz": -540
    },
    "id": "m5Xmr8h3lLhL"
   },
   "outputs": [],
   "source": [
    "from urllib.request import urlopen\n",
    "from bs4 import BeautifulSoup\n",
    "import pandas as pd"
   ]
  },
  {
   "cell_type": "code",
   "execution_count": 4,
   "metadata": {
    "colab": {},
    "colab_type": "code",
    "executionInfo": {
     "elapsed": 787,
     "status": "ok",
     "timestamp": 1598241165771,
     "user": {
      "displayName": "김보겸",
      "photoUrl": "",
      "userId": "10542318974879873360"
     },
     "user_tz": -540
    },
    "id": "mUbyN81Fl1xQ"
   },
   "outputs": [],
   "source": [
    "titles = []\n",
    "start_date = []\n",
    "end_date = []\n",
    "num_consent = []\n",
    "answer_date =[]\n",
    "address = []\n",
    "\n",
    "def get_info(url):\n",
    "  res = urlopen(url)\n",
    "  soup = BeautifulSoup(res, 'html.parser')\n",
    "\n",
    "  contents = soup.find_all(class_='ans_name_title')\n",
    "  for n in range(0, len(contents)):\n",
    "    content = contents[n]\n",
    "    titles.append(content.a.get_text())\n",
    "    add_url = str(content.find('a')['href'])\n",
    "    address.append('https://www1.president.go.kr'+add_url)\n",
    "\n",
    "  infos = soup.find_all(class_='ans_name_info')\n",
    "  for n in range(0,len(infos)):\n",
    "    info = infos[n]\n",
    "    start_date.append(info.find(class_='ans_list1_2').get_text()[2:-2])\n",
    "    end_date.append(info.find(class_='ans_list2_2').get_text()[2:-2])\n",
    "    num_consent.append(info.find(class_='ans_list3_2').get_text()[2:-2])\n",
    "    answer_date.append(info.find(class_='ans_list4_2').get_text()[2:-2])"
   ]
  },
  {
   "cell_type": "code",
   "execution_count": 5,
   "metadata": {
    "colab": {},
    "colab_type": "code",
    "executionInfo": {
     "elapsed": 13306,
     "status": "ok",
     "timestamp": 1598241229203,
     "user": {
      "displayName": "김보겸",
      "photoUrl": "",
      "userId": "10542318974879873360"
     },
     "user_tz": -540
    },
    "id": "T6H9n13EmM52"
   },
   "outputs": [],
   "source": [
    "for n in range(1,13):\n",
    "  url = 'https://www1.president.go.kr/petitions/answer?page=%d'%n\n",
    "  get_info(url)"
   ]
  },
  {
   "cell_type": "code",
   "execution_count": 6,
   "metadata": {
    "colab": {
     "base_uri": "https://localhost:8080/",
     "height": 565
    },
    "colab_type": "code",
    "executionInfo": {
     "elapsed": 912,
     "status": "ok",
     "timestamp": 1598241239149,
     "user": {
      "displayName": "김보겸",
      "photoUrl": "",
      "userId": "10542318974879873360"
     },
     "user_tz": -540
    },
    "id": "Df9Ybd7VmZU-",
    "outputId": "bea58dc8-f9b1-4e96-cea5-df1692babb65"
   },
   "outputs": [
    {
     "data": {
      "text/html": [
       "<div>\n",
       "<style scoped>\n",
       "    .dataframe tbody tr th:only-of-type {\n",
       "        vertical-align: middle;\n",
       "    }\n",
       "\n",
       "    .dataframe tbody tr th {\n",
       "        vertical-align: top;\n",
       "    }\n",
       "\n",
       "    .dataframe thead th {\n",
       "        text-align: right;\n",
       "    }\n",
       "</style>\n",
       "<table border=\"1\" class=\"dataframe\">\n",
       "  <thead>\n",
       "    <tr style=\"text-align: right;\">\n",
       "      <th></th>\n",
       "      <th>제목</th>\n",
       "      <th>청원시작일</th>\n",
       "      <th>청원종료일</th>\n",
       "      <th>참여인원</th>\n",
       "      <th>청원답변일</th>\n",
       "      <th>URL</th>\n",
       "    </tr>\n",
       "  </thead>\n",
       "  <tbody>\n",
       "    <tr>\n",
       "      <th>0</th>\n",
       "      <td>공기업 비정규직의 정규화 그만해주십오.</td>\n",
       "      <td>2020. 06. 23</td>\n",
       "      <td>2020. 07. 23</td>\n",
       "      <td>352,266</td>\n",
       "      <td>2020. 08. 21</td>\n",
       "      <td>https://www1.president.go.kr/petitions/589941</td>\n",
       "    </tr>\n",
       "    <tr>\n",
       "      <th>1</th>\n",
       "      <td>'저의 딸이 강간 당하는 것을 목격하여..'  그 충격과 고통으로 딸이 평생 남을 ...</td>\n",
       "      <td>2020. 06. 11</td>\n",
       "      <td>2020. 07. 11</td>\n",
       "      <td>286,148</td>\n",
       "      <td>2020. 08. 12</td>\n",
       "      <td>https://www1.president.go.kr/petitions/589634</td>\n",
       "    </tr>\n",
       "    <tr>\n",
       "      <th>2</th>\n",
       "      <td>강서구 데이트폭력 살인미수사건 강력한 처벌을 촉구합니다</td>\n",
       "      <td>2020. 07. 01</td>\n",
       "      <td>2020. 07. 31</td>\n",
       "      <td>212,867</td>\n",
       "      <td>2020. 08. 12</td>\n",
       "      <td>https://www1.president.go.kr/petitions/590258</td>\n",
       "    </tr>\n",
       "    <tr>\n",
       "      <th>3</th>\n",
       "      <td>저희 아파트 경비아저씨의 억울함을 풀어주세요...</td>\n",
       "      <td>2020. 05. 11</td>\n",
       "      <td>2020. 06. 10</td>\n",
       "      <td>446,434</td>\n",
       "      <td>2020. 07. 08</td>\n",
       "      <td>https://www1.president.go.kr/petitions/588752</td>\n",
       "    </tr>\n",
       "    <tr>\n",
       "      <th>4</th>\n",
       "      <td>울산 초등학교 1학년 아이에게 팬티빨기 숙제내고 학생 사진에 '섹시팬티', '공주님...</td>\n",
       "      <td>2020. 04. 28</td>\n",
       "      <td>2020. 05. 28</td>\n",
       "      <td>225,764</td>\n",
       "      <td>2020. 06. 26</td>\n",
       "      <td>https://www1.president.go.kr/petitions/588455</td>\n",
       "    </tr>\n",
       "  </tbody>\n",
       "</table>\n",
       "</div>"
      ],
      "text/plain": [
       "                                                  제목  ...                                            URL\n",
       "0                              공기업 비정규직의 정규화 그만해주십오.  ...  https://www1.president.go.kr/petitions/589941\n",
       "1  '저의 딸이 강간 당하는 것을 목격하여..'  그 충격과 고통으로 딸이 평생 남을 ...  ...  https://www1.president.go.kr/petitions/589634\n",
       "2                     강서구 데이트폭력 살인미수사건 강력한 처벌을 촉구합니다  ...  https://www1.president.go.kr/petitions/590258\n",
       "3                        저희 아파트 경비아저씨의 억울함을 풀어주세요...  ...  https://www1.president.go.kr/petitions/588752\n",
       "4  울산 초등학교 1학년 아이에게 팬티빨기 숙제내고 학생 사진에 '섹시팬티', '공주님...  ...  https://www1.president.go.kr/petitions/588455\n",
       "\n",
       "[5 rows x 6 columns]"
      ]
     },
     "execution_count": 6,
     "metadata": {
      "tags": []
     },
     "output_type": "execute_result"
    }
   ],
   "source": [
    "data = {'제목':titles, '청원시작일':start_date, '청원종료일': end_date,\n",
    "       '참여인원': num_consent, '청원답변일':answer_date, 'URL':address}\n",
    "df = pd.DataFrame(data)\n",
    "df.head()"
   ]
  },
  {
   "cell_type": "code",
   "execution_count": 7,
   "metadata": {
    "colab": {},
    "colab_type": "code",
    "executionInfo": {
     "elapsed": 1650,
     "status": "ok",
     "timestamp": 1598241349315,
     "user": {
      "displayName": "김보겸",
      "photoUrl": "",
      "userId": "10542318974879873360"
     },
     "user_tz": -540
    },
    "id": "BHcFB-N5meyx"
   },
   "outputs": [],
   "source": [
    "# 1차 저장 \n",
    "df.to_csv('BlueHouse Petition data.csv', sep=',', encoding='utf-8')"
   ]
  },
  {
   "cell_type": "markdown",
   "metadata": {
    "colab_type": "text",
    "id": "0Q2sJzuNm591"
   },
   "source": [
    "여기까지 1차 저장을 해주었습니다. 각 청원 페이지에 들어가 세부 내용과 함께 청원 답변 등까지 모두 가져와 볼거에요."
   ]
  },
  {
   "cell_type": "code",
   "execution_count": 8,
   "metadata": {
    "colab": {
     "base_uri": "https://localhost:8080/",
     "height": 548
    },
    "colab_type": "code",
    "executionInfo": {
     "elapsed": 812,
     "status": "ok",
     "timestamp": 1598241405749,
     "user": {
      "displayName": "김보겸",
      "photoUrl": "",
      "userId": "10542318974879873360"
     },
     "user_tz": -540
    },
    "id": "3jJNO58tm5gY",
    "outputId": "22faa5dd-6f5b-4c09-9bb6-382668082766"
   },
   "outputs": [
    {
     "data": {
      "text/html": [
       "<div>\n",
       "<style scoped>\n",
       "    .dataframe tbody tr th:only-of-type {\n",
       "        vertical-align: middle;\n",
       "    }\n",
       "\n",
       "    .dataframe tbody tr th {\n",
       "        vertical-align: top;\n",
       "    }\n",
       "\n",
       "    .dataframe thead th {\n",
       "        text-align: right;\n",
       "    }\n",
       "</style>\n",
       "<table border=\"1\" class=\"dataframe\">\n",
       "  <thead>\n",
       "    <tr style=\"text-align: right;\">\n",
       "      <th></th>\n",
       "      <th>제목</th>\n",
       "      <th>청원시작일</th>\n",
       "      <th>청원종료일</th>\n",
       "      <th>참여인원</th>\n",
       "      <th>청원답변일</th>\n",
       "      <th>URL</th>\n",
       "    </tr>\n",
       "  </thead>\n",
       "  <tbody>\n",
       "    <tr>\n",
       "      <th>0</th>\n",
       "      <td>공기업 비정규직의 정규화 그만해주십오.</td>\n",
       "      <td>2020. 06. 23</td>\n",
       "      <td>2020. 07. 23</td>\n",
       "      <td>352266</td>\n",
       "      <td>2020. 08. 21</td>\n",
       "      <td>https://www1.president.go.kr/petitions/589941</td>\n",
       "    </tr>\n",
       "    <tr>\n",
       "      <th>1</th>\n",
       "      <td>'저의 딸이 강간 당하는 것을 목격하여..'  그 충격과 고통으로 딸이 평생 남을 ...</td>\n",
       "      <td>2020. 06. 11</td>\n",
       "      <td>2020. 07. 11</td>\n",
       "      <td>286148</td>\n",
       "      <td>2020. 08. 12</td>\n",
       "      <td>https://www1.president.go.kr/petitions/589634</td>\n",
       "    </tr>\n",
       "    <tr>\n",
       "      <th>2</th>\n",
       "      <td>강서구 데이트폭력 살인미수사건 강력한 처벌을 촉구합니다</td>\n",
       "      <td>2020. 07. 01</td>\n",
       "      <td>2020. 07. 31</td>\n",
       "      <td>212867</td>\n",
       "      <td>2020. 08. 12</td>\n",
       "      <td>https://www1.president.go.kr/petitions/590258</td>\n",
       "    </tr>\n",
       "    <tr>\n",
       "      <th>3</th>\n",
       "      <td>저희 아파트 경비아저씨의 억울함을 풀어주세요...</td>\n",
       "      <td>2020. 05. 11</td>\n",
       "      <td>2020. 06. 10</td>\n",
       "      <td>446434</td>\n",
       "      <td>2020. 07. 08</td>\n",
       "      <td>https://www1.president.go.kr/petitions/588752</td>\n",
       "    </tr>\n",
       "    <tr>\n",
       "      <th>4</th>\n",
       "      <td>울산 초등학교 1학년 아이에게 팬티빨기 숙제내고 학생 사진에 '섹시팬티', '공주님...</td>\n",
       "      <td>2020. 04. 28</td>\n",
       "      <td>2020. 05. 28</td>\n",
       "      <td>225764</td>\n",
       "      <td>2020. 06. 26</td>\n",
       "      <td>https://www1.president.go.kr/petitions/588455</td>\n",
       "    </tr>\n",
       "  </tbody>\n",
       "</table>\n",
       "</div>"
      ],
      "text/plain": [
       "                                                  제목  ...                                            URL\n",
       "0                              공기업 비정규직의 정규화 그만해주십오.  ...  https://www1.president.go.kr/petitions/589941\n",
       "1  '저의 딸이 강간 당하는 것을 목격하여..'  그 충격과 고통으로 딸이 평생 남을 ...  ...  https://www1.president.go.kr/petitions/589634\n",
       "2                     강서구 데이트폭력 살인미수사건 강력한 처벌을 촉구합니다  ...  https://www1.president.go.kr/petitions/590258\n",
       "3                        저희 아파트 경비아저씨의 억울함을 풀어주세요...  ...  https://www1.president.go.kr/petitions/588752\n",
       "4  울산 초등학교 1학년 아이에게 팬티빨기 숙제내고 학생 사진에 '섹시팬티', '공주님...  ...  https://www1.president.go.kr/petitions/588455\n",
       "\n",
       "[5 rows x 6 columns]"
      ]
     },
     "execution_count": 8,
     "metadata": {
      "tags": []
     },
     "output_type": "execute_result"
    }
   ],
   "source": [
    "# thousands는 왜 할까요? \n",
    "petition = pd.read_csv('BlueHouse Petition data.csv', thousands=',', encoding= 'utf-8', index_col=0)\n",
    "petition.head()"
   ]
  },
  {
   "cell_type": "code",
   "execution_count": 9,
   "metadata": {
    "colab": {
     "base_uri": "https://localhost:8080/",
     "height": 34
    },
    "colab_type": "code",
    "executionInfo": {
     "elapsed": 1005,
     "status": "ok",
     "timestamp": 1598241416920,
     "user": {
      "displayName": "김보겸",
      "photoUrl": "",
      "userId": "10542318974879873360"
     },
     "user_tz": -540
    },
    "id": "897OO3sBnHfV",
    "outputId": "3247b4a6-c8e4-492e-e775-7efe890eac51"
   },
   "outputs": [
    {
     "data": {
      "text/plain": [
       "180"
      ]
     },
     "execution_count": 9,
     "metadata": {
      "tags": []
     },
     "output_type": "execute_result"
    }
   ],
   "source": [
    "len(petition)"
   ]
  },
  {
   "cell_type": "markdown",
   "metadata": {
    "colab_type": "text",
    "id": "rLo5Fy1UneHg"
   },
   "source": [
    "의도한 청원 개수만큼 가져와졌습니다! 아래 코드는 대략 5-7분 정도 소요됩니다. 중간에 time.sleep()을 넣은 이유는 청와대 청원에서 웹크롤링(?) 매크로(?)를 막는 게 있는 것 같은데 시간을 주어서 헷갈리게(?) 하면 크롤링 됩니다 ㅎㅎ"
   ]
  },
  {
   "cell_type": "code",
   "execution_count": 17,
   "metadata": {
    "colab": {
     "base_uri": "https://localhost:8080/",
     "height": 139,
     "referenced_widgets": [
      "3d2ac665d710445bb20853c9c595f8c4",
      "fafb3443d6204f739effbd6b8cfba1c1",
      "caf51030896d475aad0f611320522a96",
      "ea47e67c6d6b4eed8343ca18cba48ea5",
      "11c9e014ff80474894c00ff4056ecf98",
      "03fe61df2bad4de0b68b1822e5a78292",
      "8565ee4dfe724126ab88ed6fe33edc73",
      "3fcdcf4617a243f896710ab980cde015"
     ]
    },
    "colab_type": "code",
    "executionInfo": {
     "elapsed": 470373,
     "status": "ok",
     "timestamp": 1598242724491,
     "user": {
      "displayName": "김보겸",
      "photoUrl": "",
      "userId": "10542318974879873360"
     },
     "user_tz": -540
    },
    "id": "R5NcLvbmnKKk",
    "outputId": "1587b692-757e-4a15-898c-e18bb367f3f6"
   },
   "outputs": [
    {
     "name": "stderr",
     "output_type": "stream",
     "text": [
      "/usr/local/lib/python3.6/dist-packages/ipykernel_launcher.py:12: TqdmDeprecationWarning: This function will be removed in tqdm==5.0.0\n",
      "Please use `tqdm.notebook.tqdm` instead of `tqdm.tqdm_notebook`\n",
      "  if sys.path[0] == '':\n"
     ]
    },
    {
     "data": {
      "application/vnd.jupyter.widget-view+json": {
       "model_id": "3d2ac665d710445bb20853c9c595f8c4",
       "version_major": 2,
       "version_minor": 0
      },
      "text/plain": [
       "HBox(children=(FloatProgress(value=0.0, max=180.0), HTML(value='')))"
      ]
     },
     "metadata": {
      "tags": []
     },
     "output_type": "display_data"
    },
    {
     "name": "stdout",
     "output_type": "stream",
     "text": [
      "\n"
     ]
    }
   ],
   "source": [
    "import re \n",
    "import time\n",
    "from tqdm import tqdm_notebook\n",
    "from urllib.request import urlopen\n",
    "from bs4 import BeautifulSoup\n",
    "\n",
    "category =[]\n",
    "content = []\n",
    "answer = []\n",
    "person = []\n",
    "\n",
    "for n in tqdm_notebook(petition.index): \n",
    "    url = urlopen(petition['URL'][n]) \n",
    "    if n / 2 == 0:\n",
    "        time.sleep(1)\n",
    "    else: \n",
    "        time.sleep(2)\n",
    "    soup = BeautifulSoup(url, \"html.parser\") \n",
    "    \n",
    "    # get category \n",
    "    sector = soup.find('ul', class_='petitionsView_info_list')\n",
    "    try: \n",
    "        category.append(sector.li.get_text()[4:])\n",
    "    except AttributeError:\n",
    "        print('AttributeError: index-', n, 'URL-', petition['URL'][n])\n",
    "    person.append(sector.find_all('li')[3].get_text()[3:-6])\n",
    "\n",
    "\n",
    "    # get petition content \n",
    "    content_raw = soup.find_all('div', class_='View_write')\n",
    "    try: \n",
    "        if len(content_raw) > 1:\n",
    "            content_raw_text = content_raw[1].get_text()\n",
    "        else: \n",
    "            content_raw_text = content_raw[0].get_text()   \n",
    "    except IndexError: \n",
    "        print('IndexError:', petition['URL'][n])\n",
    "    \n",
    "    content_split = re.split('\\r|\\t|\\n|\\xa0', content_raw_text)\n",
    "    content.append(''.join(content_split))\n",
    "\n",
    "    # get petition answer \n",
    "    answer_raw = soup.find_all('div', class_='pr_tk25')\n",
    "    if len(answer_raw) > 1: \n",
    "        answer_raw_text = re.split(\"\\r|\\t|\\n|\\xa0\", answer_raw[1].get_text())\n",
    "    else: \n",
    "        answer_raw_text = re.split(\"\\r|\\t|\\n|\\xa0\", answer_raw[0].get_text())\n",
    "    answer_raw_text = ' '.join(answer_raw_text)\n",
    "    answer.append(answer_raw_text[7:])"
   ]
  },
  {
   "cell_type": "code",
   "execution_count": 18,
   "metadata": {
    "colab": {
     "base_uri": "https://localhost:8080/",
     "height": 34
    },
    "colab_type": "code",
    "executionInfo": {
     "elapsed": 822,
     "status": "ok",
     "timestamp": 1598242726917,
     "user": {
      "displayName": "김보겸",
      "photoUrl": "",
      "userId": "10542318974879873360"
     },
     "user_tz": -540
    },
    "id": "FS4TUHSJnpRi",
    "outputId": "eb027b25-05a1-426c-a1a1-6f711b870920"
   },
   "outputs": [
    {
     "name": "stdout",
     "output_type": "stream",
     "text": [
      "180 180 180 180\n"
     ]
    }
   ],
   "source": [
    "print(len(category), len(content), len(answer), len(person))"
   ]
  },
  {
   "cell_type": "markdown",
   "metadata": {
    "colab_type": "text",
    "id": "JVN85C9QpcFj"
   },
   "source": [
    "깰끔쓰하게 잘 가져왔네요"
   ]
  },
  {
   "cell_type": "code",
   "execution_count": 19,
   "metadata": {
    "colab": {},
    "colab_type": "code",
    "executionInfo": {
     "elapsed": 781,
     "status": "ok",
     "timestamp": 1598242729937,
     "user": {
      "displayName": "김보겸",
      "photoUrl": "",
      "userId": "10542318974879873360"
     },
     "user_tz": -540
    },
    "id": "OVsoDKJRpZTb"
   },
   "outputs": [],
   "source": [
    "petition['카테고리'] = category\n",
    "petition['청원내용'] = content\n",
    "petition['청원답변'] = answer\n",
    "petition['청원인'] = person"
   ]
  },
  {
   "cell_type": "markdown",
   "metadata": {
    "colab_type": "text",
    "id": "5o4IfCCVpiIv"
   },
   "source": [
    "갯수만 봤을 때는 잘 가져온 것처럼 보여도, 이상한 데이터가 크롤링되는 경우도 있어요. 크롤링한 데이터를 저장해 파일로 열어본 후 전체를 쭉 확인해보는 것도 중요한 작업입니다"
   ]
  },
  {
   "cell_type": "code",
   "execution_count": 20,
   "metadata": {
    "colab": {
     "base_uri": "https://localhost:8080/",
     "height": 1000
    },
    "colab_type": "code",
    "executionInfo": {
     "elapsed": 908,
     "status": "ok",
     "timestamp": 1598242737274,
     "user": {
      "displayName": "김보겸",
      "photoUrl": "",
      "userId": "10542318974879873360"
     },
     "user_tz": -540
    },
    "id": "f088bcrKphWV",
    "outputId": "3f9c0d3d-450e-47df-d425-30013805c92c"
   },
   "outputs": [
    {
     "data": {
      "text/html": [
       "<div>\n",
       "<style scoped>\n",
       "    .dataframe tbody tr th:only-of-type {\n",
       "        vertical-align: middle;\n",
       "    }\n",
       "\n",
       "    .dataframe tbody tr th {\n",
       "        vertical-align: top;\n",
       "    }\n",
       "\n",
       "    .dataframe thead th {\n",
       "        text-align: right;\n",
       "    }\n",
       "</style>\n",
       "<table border=\"1\" class=\"dataframe\">\n",
       "  <thead>\n",
       "    <tr style=\"text-align: right;\">\n",
       "      <th></th>\n",
       "      <th>제목</th>\n",
       "      <th>청원시작일</th>\n",
       "      <th>청원종료일</th>\n",
       "      <th>참여인원</th>\n",
       "      <th>청원답변일</th>\n",
       "      <th>URL</th>\n",
       "      <th>카테고리</th>\n",
       "      <th>청원내용</th>\n",
       "      <th>청원답변</th>\n",
       "      <th>청원인</th>\n",
       "    </tr>\n",
       "  </thead>\n",
       "  <tbody>\n",
       "    <tr>\n",
       "      <th>150</th>\n",
       "      <td>합정 **** 불법 누드촬영</td>\n",
       "      <td>2018. 05. 17</td>\n",
       "      <td>2018. 06. 16</td>\n",
       "      <td>201590</td>\n",
       "      <td>2018. 05. 21</td>\n",
       "      <td>https://www1.president.go.kr/petitions/235102</td>\n",
       "      <td>인권/성평등</td>\n",
       "      <td></td>\n",
       "      <td></td>\n",
       "      <td>naver</td>\n",
       "    </tr>\n",
       "    <tr>\n",
       "      <th>151</th>\n",
       "      <td>위장•몰래카메라 판매금지와 몰카범죄 처벌을 강화해주세요.</td>\n",
       "      <td>2018. 03. 23</td>\n",
       "      <td>2018. 04. 22</td>\n",
       "      <td>209494</td>\n",
       "      <td>2018. 05. 21</td>\n",
       "      <td>https://www1.president.go.kr/petitions/173355</td>\n",
       "      <td>안전/환경</td>\n",
       "      <td></td>\n",
       "      <td></td>\n",
       "      <td>naver</td>\n",
       "    </tr>\n",
       "    <tr>\n",
       "      <th>152</th>\n",
       "      <td>여성도 대한민국 국민입니다. 성별 관계없는 국가의 보호를 요청합니다.</td>\n",
       "      <td>2018. 05. 11</td>\n",
       "      <td>2018. 06. 10</td>\n",
       "      <td>419006</td>\n",
       "      <td>2018. 05. 21</td>\n",
       "      <td>https://www1.president.go.kr/petitions/230552</td>\n",
       "      <td>인권/성평등</td>\n",
       "      <td></td>\n",
       "      <td></td>\n",
       "      <td>naver</td>\n",
       "    </tr>\n",
       "    <tr>\n",
       "      <th>155</th>\n",
       "      <td>다산신도시 실버택배 비용은 입주민들의 관리비로 충당해야합니다.</td>\n",
       "      <td>2018. 04. 17</td>\n",
       "      <td>2018. 05. 17</td>\n",
       "      <td>302082</td>\n",
       "      <td>2018. 05. 04</td>\n",
       "      <td>https://www1.president.go.kr/petitions/203181</td>\n",
       "      <td>행정</td>\n",
       "      <td></td>\n",
       "      <td></td>\n",
       "      <td>naver</td>\n",
       "    </tr>\n",
       "  </tbody>\n",
       "</table>\n",
       "</div>"
      ],
      "text/plain": [
       "                                         제목         청원시작일  ... 청원답변    청원인\n",
       "150                         합정 **** 불법 누드촬영  2018. 05. 17  ...       naver\n",
       "151         위장•몰래카메라 판매금지와 몰카범죄 처벌을 강화해주세요.  2018. 03. 23  ...       naver\n",
       "152  여성도 대한민국 국민입니다. 성별 관계없는 국가의 보호를 요청합니다.  2018. 05. 11  ...       naver\n",
       "155      다산신도시 실버택배 비용은 입주민들의 관리비로 충당해야합니다.  2018. 04. 17  ...       naver\n",
       "\n",
       "[4 rows x 10 columns]"
      ]
     },
     "execution_count": 20,
     "metadata": {
      "tags": []
     },
     "output_type": "execute_result"
    }
   ],
   "source": [
    "petition[petition['청원내용'] == '']"
   ]
  },
  {
   "cell_type": "code",
   "execution_count": 21,
   "metadata": {
    "colab": {
     "base_uri": "https://localhost:8080/",
     "height": 213
    },
    "colab_type": "code",
    "executionInfo": {
     "elapsed": 5329,
     "status": "ok",
     "timestamp": 1598242799093,
     "user": {
      "displayName": "김보겸",
      "photoUrl": "",
      "userId": "10542318974879873360"
     },
     "user_tz": -540
    },
    "id": "FYT0BDijqCnv",
    "outputId": "c9837f85-f717-48fd-abad-57dd82cb2ed2"
   },
   "outputs": [
    {
     "name": "stderr",
     "output_type": "stream",
     "text": [
      "/usr/local/lib/python3.6/dist-packages/ipykernel_launcher.py:9: SettingWithCopyWarning: \n",
      "A value is trying to be set on a copy of a slice from a DataFrame\n",
      "\n",
      "See the caveats in the documentation: https://pandas.pydata.org/pandas-docs/stable/user_guide/indexing.html#returning-a-view-versus-a-copy\n",
      "  if __name__ == '__main__':\n",
      "/usr/local/lib/python3.6/dist-packages/ipykernel_launcher.py:15: SettingWithCopyWarning: \n",
      "A value is trying to be set on a copy of a slice from a DataFrame\n",
      "\n",
      "See the caveats in the documentation: https://pandas.pydata.org/pandas-docs/stable/user_guide/indexing.html#returning-a-view-versus-a-copy\n",
      "  from ipykernel import kernelapp as app\n"
     ]
    }
   ],
   "source": [
    "for n in [150, 151, 152, 155]:\n",
    "    url = urlopen(petition['URL'][n]) \n",
    "    soup = BeautifulSoup(url, \"html.parser\") \n",
    "    \n",
    "    # get petition content \n",
    "    content_raw = soup.find_all('div', class_='View_write')\n",
    "    content_raw_text = content_raw[2].get_text()\n",
    "    content_split = re.split('\\r|\\t|\\n|\\xa0', content_raw_text)\n",
    "    petition['청원내용'][n] = ''.join(content_split)\n",
    "    \n",
    "    # get petition answer \n",
    "    answer_raw = soup.find_all('div', class_='pr_tk25')\n",
    "    answer_raw_text = re.split(\"\\r|\\t|\\n|\\xa0\", answer_raw[2].get_text())\n",
    "    answer_raw_text = ' '.join(answer_raw_text)\n",
    "    petition['청원답변'][n] = answer_raw_text[7:]"
   ]
  },
  {
   "cell_type": "code",
   "execution_count": 22,
   "metadata": {
    "colab": {
     "base_uri": "https://localhost:8080/",
     "height": 64
    },
    "colab_type": "code",
    "executionInfo": {
     "elapsed": 769,
     "status": "ok",
     "timestamp": 1598242806485,
     "user": {
      "displayName": "김보겸",
      "photoUrl": "",
      "userId": "10542318974879873360"
     },
     "user_tz": -540
    },
    "id": "ee2NHpdhsajP",
    "outputId": "352214cd-a5ff-4bcb-a7ad-dfdc840d630c"
   },
   "outputs": [
    {
     "data": {
      "text/html": [
       "<div>\n",
       "<style scoped>\n",
       "    .dataframe tbody tr th:only-of-type {\n",
       "        vertical-align: middle;\n",
       "    }\n",
       "\n",
       "    .dataframe tbody tr th {\n",
       "        vertical-align: top;\n",
       "    }\n",
       "\n",
       "    .dataframe thead th {\n",
       "        text-align: right;\n",
       "    }\n",
       "</style>\n",
       "<table border=\"1\" class=\"dataframe\">\n",
       "  <thead>\n",
       "    <tr style=\"text-align: right;\">\n",
       "      <th></th>\n",
       "      <th>제목</th>\n",
       "      <th>청원시작일</th>\n",
       "      <th>청원종료일</th>\n",
       "      <th>참여인원</th>\n",
       "      <th>청원답변일</th>\n",
       "      <th>URL</th>\n",
       "      <th>카테고리</th>\n",
       "      <th>청원내용</th>\n",
       "      <th>청원답변</th>\n",
       "      <th>청원인</th>\n",
       "    </tr>\n",
       "  </thead>\n",
       "  <tbody>\n",
       "  </tbody>\n",
       "</table>\n",
       "</div>"
      ],
      "text/plain": [
       "Empty DataFrame\n",
       "Columns: [제목, 청원시작일, 청원종료일, 참여인원, 청원답변일, URL, 카테고리, 청원내용, 청원답변, 청원인]\n",
       "Index: []"
      ]
     },
     "execution_count": 22,
     "metadata": {
      "tags": []
     },
     "output_type": "execute_result"
    }
   ],
   "source": [
    "petition[petition['청원내용'] == '']"
   ]
  },
  {
   "cell_type": "code",
   "execution_count": 23,
   "metadata": {
    "colab": {},
    "colab_type": "code",
    "executionInfo": {
     "elapsed": 751,
     "status": "ok",
     "timestamp": 1598242815184,
     "user": {
      "displayName": "김보겸",
      "photoUrl": "",
      "userId": "10542318974879873360"
     },
     "user_tz": -540
    },
    "id": "Yoh7avYpsdeh"
   },
   "outputs": [],
   "source": [
    "petition.to_csv('Final BlueHouse Petition data.csv', sep=',', encoding='utf-8')"
   ]
  },
  {
   "cell_type": "markdown",
   "metadata": {
    "colab_type": "text",
    "id": "wwJcRKXBshLU"
   },
   "source": [
    "여기까지가 데이터를 가져오는 과정이었습니다! 이 파일들은 다운로드를 해두신다음에 다음에 실행하실 때에는 파일을 드래그 하여 넣으신 다음에 쓰세요. 매번 크롤링해서 프로젝트를 진행하려면 시간이 너무 오래 걸립니다 ㅠ"
   ]
  },
  {
   "cell_type": "markdown",
   "metadata": {
    "colab_type": "text",
    "id": "vO2Xxt9xsuHZ"
   },
   "source": [
    "## EDA(Exploratory Data Analysis) - 탐색적 자료 분석\n",
    "\n",
    "1, 2주차 때 탐색적 자료 분석에 대해서 배웠었죠? 이번에도 EDA를 해볼겁니다"
   ]
  },
  {
   "cell_type": "code",
   "execution_count": 24,
   "metadata": {
    "colab": {
     "base_uri": "https://localhost:8080/",
     "height": 72
    },
    "colab_type": "code",
    "executionInfo": {
     "elapsed": 746,
     "status": "ok",
     "timestamp": 1598242919365,
     "user": {
      "displayName": "김보겸",
      "photoUrl": "",
      "userId": "10542318974879873360"
     },
     "user_tz": -540
    },
    "id": "Y_zMWb31sfmh",
    "outputId": "bde6780c-9efc-4769-d9f4-3644d7251479"
   },
   "outputs": [
    {
     "name": "stderr",
     "output_type": "stream",
     "text": [
      "/usr/local/lib/python3.6/dist-packages/statsmodels/tools/_testing.py:19: FutureWarning: pandas.util.testing is deprecated. Use the functions in the public API at pandas.testing instead.\n",
      "  import pandas.util.testing as tm\n"
     ]
    }
   ],
   "source": [
    "import pandas as pd\n",
    "import platform\n",
    "import matplotlib.pyplot as plt\n",
    "import seaborn as sns\n",
    "%matplotlib inline"
   ]
  },
  {
   "cell_type": "code",
   "execution_count": 25,
   "metadata": {
    "colab": {
     "base_uri": "https://localhost:8080/",
     "height": 1000
    },
    "colab_type": "code",
    "executionInfo": {
     "elapsed": 810,
     "status": "ok",
     "timestamp": 1598242934412,
     "user": {
      "displayName": "김보겸",
      "photoUrl": "",
      "userId": "10542318974879873360"
     },
     "user_tz": -540
    },
    "id": "w7M2jK-ws5Ck",
    "outputId": "811679c1-1f0f-45ac-ff11-e09dcdabf4b1"
   },
   "outputs": [
    {
     "data": {
      "text/html": [
       "<div>\n",
       "<style scoped>\n",
       "    .dataframe tbody tr th:only-of-type {\n",
       "        vertical-align: middle;\n",
       "    }\n",
       "\n",
       "    .dataframe tbody tr th {\n",
       "        vertical-align: top;\n",
       "    }\n",
       "\n",
       "    .dataframe thead th {\n",
       "        text-align: right;\n",
       "    }\n",
       "</style>\n",
       "<table border=\"1\" class=\"dataframe\">\n",
       "  <thead>\n",
       "    <tr style=\"text-align: right;\">\n",
       "      <th></th>\n",
       "      <th>제목</th>\n",
       "      <th>청원시작일</th>\n",
       "      <th>청원종료일</th>\n",
       "      <th>참여인원</th>\n",
       "      <th>청원답변일</th>\n",
       "      <th>URL</th>\n",
       "      <th>카테고리</th>\n",
       "      <th>청원내용</th>\n",
       "      <th>청원답변</th>\n",
       "      <th>청원인</th>\n",
       "    </tr>\n",
       "  </thead>\n",
       "  <tbody>\n",
       "    <tr>\n",
       "      <th>0</th>\n",
       "      <td>공기업 비정규직의 정규화 그만해주십오.</td>\n",
       "      <td>2020-06-23</td>\n",
       "      <td>2020-07-23</td>\n",
       "      <td>352266</td>\n",
       "      <td>2020-08-21</td>\n",
       "      <td>https://www1.president.go.kr/petitions/589941</td>\n",
       "      <td>일자리</td>\n",
       "      <td>매번 동의만 하다가 처음으로 청원 글을 써봅니다. 공기업 비정규직의 정규직 전환 이...</td>\n",
       "      <td>국민 여러분, 안녕하십니까? 고용노동부 차관 임서정입니다.  지난 6.22일 인천국...</td>\n",
       "      <td>naver</td>\n",
       "    </tr>\n",
       "    <tr>\n",
       "      <th>1</th>\n",
       "      <td>'저의 딸이 강간 당하는 것을 목격하여..'  그 충격과 고통으로 딸이 평생 남을 ...</td>\n",
       "      <td>2020-06-11</td>\n",
       "      <td>2020-07-11</td>\n",
       "      <td>286148</td>\n",
       "      <td>2020-08-12</td>\n",
       "      <td>https://www1.president.go.kr/petitions/589634</td>\n",
       "      <td>인권/성평등</td>\n",
       "      <td>국민청원 사유  :  저는 성폭행 당한 딸의 엄마입니다.  그냥 피눈물이 주루륵 납...</td>\n",
       "      <td>안녕하십니까. 디지털소통센터장 강정수입니다.   오늘은 데이트 폭력 엄중처벌 청원과...</td>\n",
       "      <td>naver</td>\n",
       "    </tr>\n",
       "    <tr>\n",
       "      <th>2</th>\n",
       "      <td>강서구 데이트폭력 살인미수사건 강력한 처벌을 촉구합니다</td>\n",
       "      <td>2020-07-01</td>\n",
       "      <td>2020-07-31</td>\n",
       "      <td>212867</td>\n",
       "      <td>2020-08-12</td>\n",
       "      <td>https://www1.president.go.kr/petitions/590258</td>\n",
       "      <td>인권/성평등</td>\n",
       "      <td>얼마전 강서구 화곡동에서 데이트폭력 살인미수사건이 있었습니다.피해자는 사실 그 전부...</td>\n",
       "      <td>안녕하십니까. 디지털소통센터장 강정수입니다.   오늘은 데이트 폭력 엄중처벌 청원과...</td>\n",
       "      <td>kakao</td>\n",
       "    </tr>\n",
       "    <tr>\n",
       "      <th>3</th>\n",
       "      <td>저희 아파트 경비아저씨의 억울함을 풀어주세요...</td>\n",
       "      <td>2020-05-11</td>\n",
       "      <td>2020-06-10</td>\n",
       "      <td>446434</td>\n",
       "      <td>2020-07-08</td>\n",
       "      <td>https://www1.president.go.kr/petitions/588752</td>\n",
       "      <td>인권/성평등</td>\n",
       "      <td>안녕하세요 저는 **동 **아파트 2동에 거주한지 이제 2년째 되가는 입주민입니다....</td>\n",
       "      <td>안녕하십니까. 국토교통비서관 윤성원입니다.   안녕하십니까 고용노동비서관 조성재입니...</td>\n",
       "      <td>kakao</td>\n",
       "    </tr>\n",
       "    <tr>\n",
       "      <th>4</th>\n",
       "      <td>울산 초등학교 1학년 아이에게 팬티빨기 숙제내고 학생 사진에 '섹시팬티', '공주님...</td>\n",
       "      <td>2020-04-28</td>\n",
       "      <td>2020-05-28</td>\n",
       "      <td>225764</td>\n",
       "      <td>2020-06-26</td>\n",
       "      <td>https://www1.president.go.kr/petitions/588455</td>\n",
       "      <td>육아/교육</td>\n",
       "      <td>안녕하십니까?저는 아이들의 인권이 최우선이라고 생각하며두 남매를 열심히 키우고 있는...</td>\n",
       "      <td>안녕하십니까. 청와대 교육비서관 박경미입니다.   울산의 한 초등학교 교사의 성비위...</td>\n",
       "      <td>naver</td>\n",
       "    </tr>\n",
       "  </tbody>\n",
       "</table>\n",
       "</div>"
      ],
      "text/plain": [
       "                                                  제목  ...    청원인\n",
       "0                              공기업 비정규직의 정규화 그만해주십오.  ...  naver\n",
       "1  '저의 딸이 강간 당하는 것을 목격하여..'  그 충격과 고통으로 딸이 평생 남을 ...  ...  naver\n",
       "2                     강서구 데이트폭력 살인미수사건 강력한 처벌을 촉구합니다  ...  kakao\n",
       "3                        저희 아파트 경비아저씨의 억울함을 풀어주세요...  ...  kakao\n",
       "4  울산 초등학교 1학년 아이에게 팬티빨기 숙제내고 학생 사진에 '섹시팬티', '공주님...  ...  naver\n",
       "\n",
       "[5 rows x 10 columns]"
      ]
     },
     "execution_count": 25,
     "metadata": {
      "tags": []
     },
     "output_type": "execute_result"
    }
   ],
   "source": [
    "petition = pd.read_csv('Final BlueHouse Petition data.csv', \n",
    "                       index_col=0, parse_dates=['청원시작일','청원종료일','청원답변일'])\n",
    "petition.head()"
   ]
  },
  {
   "cell_type": "code",
   "execution_count": 26,
   "metadata": {
    "colab": {
     "base_uri": "https://localhost:8080/",
     "height": 34
    },
    "colab_type": "code",
    "executionInfo": {
     "elapsed": 760,
     "status": "ok",
     "timestamp": 1598242944726,
     "user": {
      "displayName": "김보겸",
      "photoUrl": "",
      "userId": "10542318974879873360"
     },
     "user_tz": -540
    },
    "id": "6UtKS7Pks8so",
    "outputId": "6f0166bd-5789-4fdf-d694-c3f92056c5e2"
   },
   "outputs": [
    {
     "data": {
      "text/plain": [
       "(180, 10)"
      ]
     },
     "execution_count": 26,
     "metadata": {
      "tags": []
     },
     "output_type": "execute_result"
    }
   ],
   "source": [
    "petition.shape"
   ]
  },
  {
   "cell_type": "markdown",
   "metadata": {
    "colab_type": "text",
    "id": "E5_RLusZtAYo"
   },
   "source": [
    "## 필요한 데이터만 남기기  \n",
    "분석에 필요한 데이터들만 남겨봅시다!"
   ]
  },
  {
   "cell_type": "code",
   "execution_count": 27,
   "metadata": {
    "colab": {
     "base_uri": "https://localhost:8080/",
     "height": 531
    },
    "colab_type": "code",
    "executionInfo": {
     "elapsed": 798,
     "status": "ok",
     "timestamp": 1598242972542,
     "user": {
      "displayName": "김보겸",
      "photoUrl": "",
      "userId": "10542318974879873360"
     },
     "user_tz": -540
    },
    "id": "y2IvTzVms_Oq",
    "outputId": "34380928-662f-46a9-8150-6597cf586730"
   },
   "outputs": [
    {
     "data": {
      "text/html": [
       "<div>\n",
       "<style scoped>\n",
       "    .dataframe tbody tr th:only-of-type {\n",
       "        vertical-align: middle;\n",
       "    }\n",
       "\n",
       "    .dataframe tbody tr th {\n",
       "        vertical-align: top;\n",
       "    }\n",
       "\n",
       "    .dataframe thead th {\n",
       "        text-align: right;\n",
       "    }\n",
       "</style>\n",
       "<table border=\"1\" class=\"dataframe\">\n",
       "  <thead>\n",
       "    <tr style=\"text-align: right;\">\n",
       "      <th></th>\n",
       "      <th>제목</th>\n",
       "      <th>청원시작일</th>\n",
       "      <th>참여인원</th>\n",
       "      <th>청원답변일</th>\n",
       "      <th>카테고리</th>\n",
       "      <th>청원내용</th>\n",
       "    </tr>\n",
       "  </thead>\n",
       "  <tbody>\n",
       "    <tr>\n",
       "      <th>0</th>\n",
       "      <td>공기업 비정규직의 정규화 그만해주십오.</td>\n",
       "      <td>2020-06-23</td>\n",
       "      <td>352266</td>\n",
       "      <td>2020-08-21</td>\n",
       "      <td>일자리</td>\n",
       "      <td>매번 동의만 하다가 처음으로 청원 글을 써봅니다. 공기업 비정규직의 정규직 전환 이...</td>\n",
       "    </tr>\n",
       "    <tr>\n",
       "      <th>1</th>\n",
       "      <td>'저의 딸이 강간 당하는 것을 목격하여..'  그 충격과 고통으로 딸이 평생 남을 ...</td>\n",
       "      <td>2020-06-11</td>\n",
       "      <td>286148</td>\n",
       "      <td>2020-08-12</td>\n",
       "      <td>인권/성평등</td>\n",
       "      <td>국민청원 사유  :  저는 성폭행 당한 딸의 엄마입니다.  그냥 피눈물이 주루륵 납...</td>\n",
       "    </tr>\n",
       "    <tr>\n",
       "      <th>2</th>\n",
       "      <td>강서구 데이트폭력 살인미수사건 강력한 처벌을 촉구합니다</td>\n",
       "      <td>2020-07-01</td>\n",
       "      <td>212867</td>\n",
       "      <td>2020-08-12</td>\n",
       "      <td>인권/성평등</td>\n",
       "      <td>얼마전 강서구 화곡동에서 데이트폭력 살인미수사건이 있었습니다.피해자는 사실 그 전부...</td>\n",
       "    </tr>\n",
       "    <tr>\n",
       "      <th>3</th>\n",
       "      <td>저희 아파트 경비아저씨의 억울함을 풀어주세요...</td>\n",
       "      <td>2020-05-11</td>\n",
       "      <td>446434</td>\n",
       "      <td>2020-07-08</td>\n",
       "      <td>인권/성평등</td>\n",
       "      <td>안녕하세요 저는 **동 **아파트 2동에 거주한지 이제 2년째 되가는 입주민입니다....</td>\n",
       "    </tr>\n",
       "    <tr>\n",
       "      <th>4</th>\n",
       "      <td>울산 초등학교 1학년 아이에게 팬티빨기 숙제내고 학생 사진에 '섹시팬티', '공주님...</td>\n",
       "      <td>2020-04-28</td>\n",
       "      <td>225764</td>\n",
       "      <td>2020-06-26</td>\n",
       "      <td>육아/교육</td>\n",
       "      <td>안녕하십니까?저는 아이들의 인권이 최우선이라고 생각하며두 남매를 열심히 키우고 있는...</td>\n",
       "    </tr>\n",
       "  </tbody>\n",
       "</table>\n",
       "</div>"
      ],
      "text/plain": [
       "                                                  제목  ...                                               청원내용\n",
       "0                              공기업 비정규직의 정규화 그만해주십오.  ...  매번 동의만 하다가 처음으로 청원 글을 써봅니다. 공기업 비정규직의 정규직 전환 이...\n",
       "1  '저의 딸이 강간 당하는 것을 목격하여..'  그 충격과 고통으로 딸이 평생 남을 ...  ...  국민청원 사유  :  저는 성폭행 당한 딸의 엄마입니다.  그냥 피눈물이 주루륵 납...\n",
       "2                     강서구 데이트폭력 살인미수사건 강력한 처벌을 촉구합니다  ...  얼마전 강서구 화곡동에서 데이트폭력 살인미수사건이 있었습니다.피해자는 사실 그 전부...\n",
       "3                        저희 아파트 경비아저씨의 억울함을 풀어주세요...  ...  안녕하세요 저는 **동 **아파트 2동에 거주한지 이제 2년째 되가는 입주민입니다....\n",
       "4  울산 초등학교 1학년 아이에게 팬티빨기 숙제내고 학생 사진에 '섹시팬티', '공주님...  ...  안녕하십니까?저는 아이들의 인권이 최우선이라고 생각하며두 남매를 열심히 키우고 있는...\n",
       "\n",
       "[5 rows x 6 columns]"
      ]
     },
     "execution_count": 27,
     "metadata": {
      "tags": []
     },
     "output_type": "execute_result"
    }
   ],
   "source": [
    "petition.drop(['URL', '청원종료일','청원답변','청원인'], axis=1, inplace=True)\n",
    "petition.head()"
   ]
  },
  {
   "cell_type": "code",
   "execution_count": 29,
   "metadata": {
    "colab": {
     "base_uri": "https://localhost:8080/",
     "height": 298
    },
    "colab_type": "code",
    "executionInfo": {
     "elapsed": 770,
     "status": "ok",
     "timestamp": 1598242993700,
     "user": {
      "displayName": "김보겸",
      "photoUrl": "",
      "userId": "10542318974879873360"
     },
     "user_tz": -540
    },
    "id": "I8zqsgFZtGAP",
    "outputId": "7115b50e-11a0-4bb7-8a17-1d0e3c091939"
   },
   "outputs": [
    {
     "data": {
      "text/plain": [
       "인권/성평등         49\n",
       "정치개혁           24\n",
       "기타             23\n",
       "안전/환경          22\n",
       "문화/예술/체육/언론    15\n",
       "육아/교육          12\n",
       "반려동물            8\n",
       "보건복지            6\n",
       "교통/건축/국토        5\n",
       "외교/통일/국방        5\n",
       "행정              3\n",
       "경제민주화           2\n",
       "미래              2\n",
       "일자리             2\n",
       "성장동력            2\n",
       "Name: 카테고리, dtype: int64"
      ]
     },
     "execution_count": 29,
     "metadata": {
      "tags": []
     },
     "output_type": "execute_result"
    }
   ],
   "source": [
    "# 카테고리별 청원수\n",
    "petition_cate = petition['카테고리'].value_counts()\n",
    "petition_cate"
   ]
  },
  {
   "cell_type": "code",
   "execution_count": 30,
   "metadata": {
    "colab": {
     "base_uri": "https://localhost:8080/",
     "height": 593
    },
    "colab_type": "code",
    "executionInfo": {
     "elapsed": 1383,
     "status": "ok",
     "timestamp": 1598242999447,
     "user": {
      "displayName": "김보겸",
      "photoUrl": "",
      "userId": "10542318974879873360"
     },
     "user_tz": -540
    },
    "id": "OcZE1VLNtIte",
    "outputId": "3ca06b0b-8d94-49df-c66b-aa8568f4adad"
   },
   "outputs": [
    {
     "data": {
      "image/png": "[encoded data removed]",
      "text/plain": [
       "<Figure size 720x720 with 1 Axes>"
      ]
     },
     "metadata": {
      "image/png": {
       "height": 576,
       "width": 664
      },
      "needs_background": "light",
      "tags": []
     },
     "output_type": "display_data"
    }
   ],
   "source": [
    "petition_cate.sort_values().plot(kind='barh', grid=True, figsize=(10,10))\n",
    "plt.show()"
   ]
  },
  {
   "cell_type": "markdown",
   "metadata": {
    "colab_type": "text",
    "id": "EAbjS6VgtN8V"
   },
   "source": [
    "인권/성평등 청원이 압도적으로 많네요"
   ]
  },
  {
   "cell_type": "markdown",
   "metadata": {
    "colab_type": "text",
    "id": "fF-zrKietSMZ"
   },
   "source": [
    "## WordCloud 시각화  \n",
    "저번 시간에 배운 자연어처리와 wordcloud를 활용해 시각화를 진행해보겠습니다. 청원 데이터 전부를 하기에는 너무 오래걸리니까, 가장 많은 청원 영역인 인권/성평등 분야만 골라 진행해볼게요"
   ]
  },
  {
   "cell_type": "code",
   "execution_count": 31,
   "metadata": {
    "colab": {
     "base_uri": "https://localhost:8080/",
     "height": 34
    },
    "colab_type": "code",
    "executionInfo": {
     "elapsed": 968,
     "status": "ok",
     "timestamp": 1598243090296,
     "user": {
      "displayName": "김보겸",
      "photoUrl": "",
      "userId": "10542318974879873360"
     },
     "user_tz": -540
    },
    "id": "Xv6LsCWdtMXL",
    "outputId": "a4de40ad-2e12-48fd-91cb-669eaaf64d26"
   },
   "outputs": [
    {
     "data": {
      "text/plain": [
       "(49, 6)"
      ]
     },
     "execution_count": 31,
     "metadata": {
      "tags": []
     },
     "output_type": "execute_result"
    }
   ],
   "source": [
    "humanRights = petition[petition['카테고리'] == '인권/성평등']\n",
    "humanRights.shape"
   ]
  },
  {
   "cell_type": "code",
   "execution_count": 32,
   "metadata": {
    "colab": {
     "base_uri": "https://localhost:8080/",
     "height": 776
    },
    "colab_type": "code",
    "executionInfo": {
     "elapsed": 15210,
     "status": "ok",
     "timestamp": 1598243124097,
     "user": {
      "displayName": "김보겸",
      "photoUrl": "",
      "userId": "10542318974879873360"
     },
     "user_tz": -540
    },
    "id": "Y8k9SP00titn",
    "outputId": "64a7917b-509d-4eba-b3b9-3ca4a251d2be"
   },
   "outputs": [
    {
     "name": "stdout",
     "output_type": "stream",
     "text": [
      "\r",
      "0% [Working]\r",
      "            \r",
      "Hit:1 https://cloud.r-project.org/bin/linux/ubuntu bionic-cran35/ InRelease\n",
      "\r",
      "0% [Connecting to archive.ubuntu.com (91.189.88.152)] [Connecting to security.u\r",
      "                                                                               \r",
      "Ign:2 https://developer.download.nvidia.com/compute/cuda/repos/ubuntu1804/x86_64  InRelease\n",
      "\r",
      "0% [Connecting to archive.ubuntu.com (91.189.88.152)] [Connecting to security.u\r",
      "0% [1 InRelease gpgv 3,626 B] [Connecting to archive.ubuntu.com (91.189.88.152)\r",
      "                                                                               \r",
      "Ign:3 https://developer.download.nvidia.com/compute/machine-learning/repos/ubuntu1804/x86_64  InRelease\n",
      "\r",
      "0% [1 InRelease gpgv 3,626 B] [Connecting to archive.ubuntu.com (91.189.88.152)\r",
      "                                                                               \r",
      "Hit:4 https://developer.download.nvidia.com/compute/cuda/repos/ubuntu1804/x86_64  Release\n",
      "\r",
      "0% [1 InRelease gpgv 3,626 B] [Connecting to archive.ubuntu.com (91.189.88.152)\r",
      "                                                                               \r",
      "Hit:5 https://developer.download.nvidia.com/compute/machine-learning/repos/ubuntu1804/x86_64  Release\n",
      "\r",
      "0% [1 InRelease gpgv 3,626 B] [Connecting to archive.ubuntu.com (91.189.88.152)\r",
      "                                                                               \r",
      "0% [Waiting for headers] [Waiting for headers] [Waiting for headers]\r",
      "0% [Release.gpg gpgv 697 B] [Waiting for headers] [Waiting for headers] [Waitin\r",
      "                                                                               \r",
      "Hit:6 http://ppa.launchpad.net/graphics-drivers/ppa/ubuntu bionic InRelease\n",
      "\r",
      "0% [Release.gpg gpgv 697 B] [Waiting for headers] [Waiting for headers] [Connec\r",
      "                                                                               \r",
      "Get:7 http://security.ubuntu.com/ubuntu bionic-security InRelease [88.7 kB]\n",
      "\r",
      "0% [Release.gpg gpgv 697 B] [Waiting for headers] [7 InRelease 8,378 B/88.7 kB \r",
      "                                                                               \r",
      "Hit:8 http://archive.ubuntu.com/ubuntu bionic InRelease\n",
      "Get:9 http://archive.ubuntu.com/ubuntu bionic-updates InRelease [88.7 kB]\n",
      "Hit:11 http://ppa.launchpad.net/marutter/c2d4u3.5/ubuntu bionic InRelease\n",
      "Get:13 http://archive.ubuntu.com/ubuntu bionic-backports InRelease [74.6 kB]\n",
      "Fetched 252 kB in 2s (145 kB/s)\n",
      "Reading package lists... Done\n",
      "Reading package lists... Done\n",
      "Building dependency tree       \n",
      "Reading state information... Done\n",
      "python-dev is already the newest version (2.7.15~rc1-1).\n",
      "g++ is already the newest version (4:7.4.0-1ubuntu2.3).\n",
      "python3-dev is already the newest version (3.6.7-1~18.04).\n",
      "openjdk-8-jdk is already the newest version (8u265-b01-0ubuntu2~18.04).\n",
      "The following package was automatically installed and is no longer required:\n",
      "  libnvidia-common-440\n",
      "Use 'apt autoremove' to remove it.\n",
      "0 upgraded, 0 newly installed, 0 to remove and 60 not upgraded.\n",
      "Requirement already satisfied: JPype1-py3 in /usr/local/lib/python3.6/dist-packages (0.5.5.4)\n",
      "Requirement already satisfied: konlpy in /usr/local/lib/python3.6/dist-packages (0.5.2)\n",
      "Requirement already satisfied: lxml>=4.1.0 in /usr/local/lib/python3.6/dist-packages (from konlpy) (4.2.6)\n",
      "Requirement already satisfied: JPype1>=0.7.0 in /usr/local/lib/python3.6/dist-packages (from konlpy) (1.0.2)\n",
      "Requirement already satisfied: colorama in /usr/local/lib/python3.6/dist-packages (from konlpy) (0.4.3)\n",
      "Requirement already satisfied: beautifulsoup4==4.6.0 in /usr/local/lib/python3.6/dist-packages (from konlpy) (4.6.0)\n",
      "Requirement already satisfied: tweepy>=3.7.0 in /usr/local/lib/python3.6/dist-packages (from konlpy) (3.9.0)\n",
      "Requirement already satisfied: numpy>=1.6 in /usr/local/lib/python3.6/dist-packages (from konlpy) (1.18.5)\n",
      "Requirement already satisfied: typing-extensions; python_version < \"3.8\" in /usr/local/lib/python3.6/dist-packages (from JPype1>=0.7.0->konlpy) (3.7.4.2)\n",
      "Requirement already satisfied: six>=1.10.0 in /usr/local/lib/python3.6/dist-packages (from tweepy>=3.7.0->konlpy) (1.15.0)\n",
      "Requirement already satisfied: requests-oauthlib>=0.7.0 in /usr/local/lib/python3.6/dist-packages (from tweepy>=3.7.0->konlpy) (1.3.0)\n",
      "Requirement already satisfied: requests[socks]>=2.11.1 in /usr/local/lib/python3.6/dist-packages (from tweepy>=3.7.0->konlpy) (2.23.0)\n",
      "Requirement already satisfied: oauthlib>=3.0.0 in /usr/local/lib/python3.6/dist-packages (from requests-oauthlib>=0.7.0->tweepy>=3.7.0->konlpy) (3.1.0)\n",
      "Requirement already satisfied: certifi>=2017.4.17 in /usr/local/lib/python3.6/dist-packages (from requests[socks]>=2.11.1->tweepy>=3.7.0->konlpy) (2020.6.20)\n",
      "Requirement already satisfied: chardet<4,>=3.0.2 in /usr/local/lib/python3.6/dist-packages (from requests[socks]>=2.11.1->tweepy>=3.7.0->konlpy) (3.0.4)\n",
      "Requirement already satisfied: urllib3!=1.25.0,!=1.25.1,<1.26,>=1.21.1 in /usr/local/lib/python3.6/dist-packages (from requests[socks]>=2.11.1->tweepy>=3.7.0->konlpy) (1.24.3)\n",
      "Requirement already satisfied: idna<3,>=2.5 in /usr/local/lib/python3.6/dist-packages (from requests[socks]>=2.11.1->tweepy>=3.7.0->konlpy) (2.10)\n",
      "Requirement already satisfied: PySocks!=1.5.7,>=1.5.6; extra == \"socks\" in /usr/local/lib/python3.6/dist-packages (from requests[socks]>=2.11.1->tweepy>=3.7.0->konlpy) (1.7.1)\n"
     ]
    }
   ],
   "source": [
    "# 자연어처리 모듈 설치\n",
    "!apt-get update \n",
    "!apt-get install g++ openjdk-8-jdk python-dev python3-dev \n",
    "!pip3 install JPype1-py3 \n",
    "!pip3 install konlpy \n",
    "!JAVA_HOME=\"C:\\Program Files\\Java\\jdk-13.0.2\""
   ]
  },
  {
   "cell_type": "code",
   "execution_count": 33,
   "metadata": {
    "colab": {},
    "colab_type": "code",
    "executionInfo": {
     "elapsed": 3594,
     "status": "ok",
     "timestamp": 1598243140796,
     "user": {
      "displayName": "김보겸",
      "photoUrl": "",
      "userId": "10542318974879873360"
     },
     "user_tz": -540
    },
    "id": "BwX08irrtnfj"
   },
   "outputs": [],
   "source": [
    "import nltk \n",
    "from konlpy.tag import Okt \n",
    "okt = Okt()"
   ]
  },
  {
   "cell_type": "markdown",
   "metadata": {
    "colab_type": "text",
    "id": "MENsPcvutvNw"
   },
   "source": [
    "모든 청원내용을 하나의 변수 humanRights_text에다가 모두 넣어두겠습니다"
   ]
  },
  {
   "cell_type": "code",
   "execution_count": 34,
   "metadata": {
    "colab": {
     "base_uri": "https://localhost:8080/",
     "height": 1000
    },
    "colab_type": "code",
    "executionInfo": {
     "elapsed": 16469,
     "status": "ok",
     "timestamp": 1598243211026,
     "user": {
      "displayName": "김보겸",
      "photoUrl": "",
      "userId": "10542318974879873360"
     },
     "user_tz": -540
    },
    "id": "mWa3YbTZtuZ1",
    "outputId": "25af5ccf-c01b-484d-b84c-082999add2b2"
   },
   "outputs": [
    {
     "data": {
      "text/plain": [
       "['국민',\n",
       " '청원',\n",
       " '사유',\n",
       " ':',\n",
       " '저',\n",
       " '는',\n",
       " '성폭행',\n",
       " '당한',\n",
       " '딸',\n",
       " '의',\n",
       " '엄마',\n",
       " '입니다',\n",
       " '.',\n",
       " '그냥',\n",
       " '피',\n",
       " '눈물',\n",
       " '이',\n",
       " '주루',\n",
       " '륵',\n",
       " '납니다',\n",
       " '.',\n",
       " '저',\n",
       " '의',\n",
       " '딸',\n",
       " '이',\n",
       " '성폭행',\n",
       " '당하는',\n",
       " '것',\n",
       " '을',\n",
       " '목격',\n",
       " '까지',\n",
       " '했거든요',\n",
       " '~',\n",
       " '->',\n",
       " '저',\n",
       " '의',\n",
       " '사건',\n",
       " '을',\n",
       " '덮으려는',\n",
       " '분',\n",
       " '들',\n",
       " '께',\n",
       " '묻고',\n",
       " '싶습니다',\n",
       " '.',\n",
       " '본인',\n",
       " '들',\n",
       " '딸',\n",
       " '이',\n",
       " '성폭행',\n",
       " '당해도',\n",
       " '무마',\n",
       " '덮겠습니까',\n",
       " '???',\n",
       " '가해자',\n",
       " '는',\n",
       " '2019년',\n",
       " '3월',\n",
       " '14일',\n",
       " '저',\n",
       " '의',\n",
       " '딸',\n",
       " '에게',\n",
       " '많은',\n",
       " '양',\n",
       " '의',\n",
       " '출혈',\n",
       " '이',\n",
       " '날',\n",
       " '정도',\n",
       " '의',\n",
       " '유사',\n",
       " '강간',\n",
       " '과',\n",
       " '강제',\n",
       " '성추행',\n",
       " '을',\n",
       " '하였고',\n",
       " ',',\n",
       " '‘',\n",
       " '비밀',\n",
       " '의',\n",
       " '장소',\n",
       " '’',\n",
       " '‘',\n",
       " '변태',\n",
       " '짓',\n",
       " '’',\n",
       " '‘',\n",
       " '계획',\n",
       " '범',\n",
       " '’',\n",
       " '으로',\n",
       " '중',\n",
       " '2',\n",
       " '가',\n",
       " '할',\n",
       " '수',\n",
       " '없는',\n",
       " '최악',\n",
       " '의',\n",
       " '성범죄',\n",
       " '를',\n",
       " '독단',\n",
       " '적',\n",
       " '으로',\n",
       " '저질렀습니다',\n",
       " '.',\n",
       " '->',\n",
       " '그럼에도',\n",
       " '반성',\n",
       " '은커녕',\n",
       " '5',\n",
       " '개월',\n",
       " '만에',\n",
       " '또',\n",
       " '다른',\n",
       " '피해자',\n",
       " '에게',\n",
       " '성폭행',\n",
       " '을',\n",
       " '저질렀습니다',\n",
       " '.',\n",
       " '->',\n",
       " '★',\n",
       " '그런데',\n",
       " '~!!!',\n",
       " '수',\n",
       " '사관',\n",
       " '님',\n",
       " '들은',\n",
       " '[',\n",
       " '명확한',\n",
       " '증거',\n",
       " '가',\n",
       " '다',\n",
       " '있는',\n",
       " '확실한',\n",
       " '성폭행',\n",
       " '사건',\n",
       " ']',\n",
       " '을',\n",
       " '가해자',\n",
       " '가',\n",
       " 'ADHD',\n",
       " '미성년',\n",
       " '자',\n",
       " '라는',\n",
       " '이유',\n",
       " '로',\n",
       " '애',\n",
       " '들',\n",
       " '장난',\n",
       " '으로',\n",
       " '치부',\n",
       " '하여',\n",
       " '초동수사',\n",
       " '때',\n",
       " '부터',\n",
       " '이를',\n",
       " '무시',\n",
       " ',',\n",
       " '결국',\n",
       " '5',\n",
       " '개월',\n",
       " '만에',\n",
       " '또',\n",
       " '다른',\n",
       " '피해자',\n",
       " '발생',\n",
       " '.',\n",
       " '->',\n",
       " '경찰',\n",
       " '검사',\n",
       " '자신',\n",
       " '들',\n",
       " '의',\n",
       " '부조리',\n",
       " '를',\n",
       " '무마',\n",
       " '하기',\n",
       " '위해',\n",
       " '잘',\n",
       " '못',\n",
       " '된',\n",
       " '수사',\n",
       " '와',\n",
       " '결과',\n",
       " '반복',\n",
       " ',',\n",
       " '각종',\n",
       " '거짓말',\n",
       " '과',\n",
       " '부정행위',\n",
       " '까지',\n",
       " '서슴없이',\n",
       " '하며',\n",
       " '사건',\n",
       " '을',\n",
       " '은폐',\n",
       " '하려',\n",
       " '불기소처분',\n",
       " '까지',\n",
       " '하였습니다',\n",
       " '.=>',\n",
       " '저',\n",
       " '의',\n",
       " '피해자',\n",
       " '측은',\n",
       " '잘',\n",
       " '못',\n",
       " '된',\n",
       " '수사',\n",
       " '와',\n",
       " '결과',\n",
       " '반복',\n",
       " '으로',\n",
       " '수',\n",
       " '차례',\n",
       " '‘',\n",
       " '이의신청',\n",
       " '’',\n",
       " '을',\n",
       " '하였지만',\n",
       " '~!!!',\n",
       " '☞',\n",
       " '★',\n",
       " '그런',\n",
       " '저',\n",
       " '의',\n",
       " '‘',\n",
       " '이의신청',\n",
       " '’',\n",
       " '민원',\n",
       " '이',\n",
       " '->',\n",
       " '1년',\n",
       " '이',\n",
       " '넘어가도록',\n",
       " '경찰',\n",
       " '검사',\n",
       " '뿐',\n",
       " '만',\n",
       " '아니라',\n",
       " '경찰',\n",
       " '을',\n",
       " '감찰',\n",
       " '하는',\n",
       " '상급',\n",
       " '기관',\n",
       " '인',\n",
       " '청문',\n",
       " '감사',\n",
       " '실과',\n",
       " '수',\n",
       " '사',\n",
       " '심의',\n",
       " '계',\n",
       " ',',\n",
       " '그',\n",
       " '외',\n",
       " '관련',\n",
       " '된',\n",
       " '기관',\n",
       " '과',\n",
       " '대검찰청',\n",
       " '까지',\n",
       " '대놓고',\n",
       " '같이',\n",
       " '합세',\n",
       " '민원',\n",
       " '거부',\n",
       " '~!',\n",
       " '->',\n",
       " '전화하면',\n",
       " '전화',\n",
       " '를',\n",
       " '안',\n",
       " '받거나',\n",
       " '자리',\n",
       " '없다',\n",
       " ',',\n",
       " '휴가',\n",
       " '갔다',\n",
       " '거나',\n",
       " ',',\n",
       " '급히',\n",
       " '쉬는',\n",
       " '날',\n",
       " ',',\n",
       " '또는',\n",
       " '아파',\n",
       " '휴직',\n",
       " '냈다는',\n",
       " '이유',\n",
       " '로',\n",
       " '전화',\n",
       " '를',\n",
       " '회피',\n",
       " '하는',\n",
       " '것',\n",
       " '으로',\n",
       " '수사',\n",
       " '방임',\n",
       " '민원',\n",
       " '거부',\n",
       " '!',\n",
       " '직접',\n",
       " '찾아가',\n",
       " '면담',\n",
       " '요청',\n",
       " '해도',\n",
       " '만날',\n",
       " '수',\n",
       " '없다',\n",
       " '면담',\n",
       " '거절',\n",
       " '!',\n",
       " '=>',\n",
       " '다시',\n",
       " '‘',\n",
       " '저',\n",
       " '의',\n",
       " '민원',\n",
       " '대상자',\n",
       " '’',\n",
       " '이자',\n",
       " '‘',\n",
       " '기피',\n",
       " '신청',\n",
       " '대상자',\n",
       " '’',\n",
       " '인',\n",
       " '‘',\n",
       " '서울',\n",
       " '청',\n",
       " '여',\n",
       " '청과',\n",
       " '반복',\n",
       " '재',\n",
       " '배정',\n",
       " '~!!!’',\n",
       " '되는',\n",
       " '어이없는',\n",
       " '일',\n",
       " '들',\n",
       " '이',\n",
       " '반복',\n",
       " '되었습니다',\n",
       " '[',\n",
       " '참고',\n",
       " '사항',\n",
       " ']',\n",
       " '저',\n",
       " '의',\n",
       " '‘',\n",
       " '이의신청',\n",
       " '’',\n",
       " '민원',\n",
       " '이',\n",
       " '수',\n",
       " '차례',\n",
       " '거부',\n",
       " '된',\n",
       " '이유',\n",
       " '???',\n",
       " '(',\n",
       " '이의신청',\n",
       " '이란',\n",
       " '?',\n",
       " '본',\n",
       " '사건',\n",
       " '을',\n",
       " '수',\n",
       " '사',\n",
       " '심의',\n",
       " '계',\n",
       " '에서',\n",
       " '재',\n",
       " '수사',\n",
       " '또는',\n",
       " '재',\n",
       " '검토',\n",
       " '하',\n",
       " '여',\n",
       " '결과',\n",
       " '를',\n",
       " '내면',\n",
       " ',',\n",
       " '그',\n",
       " '결과',\n",
       " '로',\n",
       " '‘',\n",
       " '민간',\n",
       " '심의',\n",
       " '위원회',\n",
       " '’',\n",
       " '의',\n",
       " '심의',\n",
       " '를',\n",
       " '걸쳐',\n",
       " '공정하게',\n",
       " '심사',\n",
       " '를',\n",
       " '보는',\n",
       " '것',\n",
       " '으로',\n",
       " '->',\n",
       " '잘',\n",
       " '못',\n",
       " '된',\n",
       " '수사',\n",
       " '와',\n",
       " '결과',\n",
       " '시',\n",
       " ',',\n",
       " '정정',\n",
       " '또는',\n",
       " '정상처리',\n",
       " '하게',\n",
       " '하는',\n",
       " '것',\n",
       " '이며',\n",
       " ',',\n",
       " '경찰',\n",
       " '의',\n",
       " '부실',\n",
       " '수사',\n",
       " '방임',\n",
       " '...',\n",
       " '등',\n",
       " '부정행위',\n",
       " '가',\n",
       " '발견',\n",
       " '이',\n",
       " '되면',\n",
       " '징계',\n",
       " '처리',\n",
       " '도',\n",
       " '됩니다',\n",
       " '.)',\n",
       " '☞',\n",
       " '그렇기에',\n",
       " '‘',\n",
       " '민간',\n",
       " '심의',\n",
       " '위원회',\n",
       " '의',\n",
       " '심의',\n",
       " '’',\n",
       " '를',\n",
       " '공정하게',\n",
       " '본다면',\n",
       " '경찰',\n",
       " '의',\n",
       " '부실',\n",
       " '수사',\n",
       " '방임',\n",
       " '...',\n",
       " '등',\n",
       " '부정행위',\n",
       " '가',\n",
       " '밝혀',\n",
       " '질',\n",
       " '것',\n",
       " '이며',\n",
       " ',',\n",
       " '징계',\n",
       " '처리',\n",
       " '될',\n",
       " '것',\n",
       " '이',\n",
       " '뻔하기',\n",
       " '때문',\n",
       " '에',\n",
       " '이를',\n",
       " '면',\n",
       " '하기',\n",
       " '위해',\n",
       " '민원',\n",
       " '이',\n",
       " '계속',\n",
       " '거부',\n",
       " '된',\n",
       " '것',\n",
       " '입니다',\n",
       " '.',\n",
       " '★★★',\n",
       " '문재인',\n",
       " '대통령',\n",
       " '님',\n",
       " '께',\n",
       " '청원',\n",
       " '합니다',\n",
       " '!!!',\n",
       " '저',\n",
       " '의',\n",
       " '사건',\n",
       " '은',\n",
       " '피해자',\n",
       " '측',\n",
       " '에서',\n",
       " '수',\n",
       " '차례',\n",
       " '민원',\n",
       " '을',\n",
       " '넣었지만',\n",
       " '거부',\n",
       " '되었습니다',\n",
       " '.',\n",
       " '결국',\n",
       " '이의신청',\n",
       " '하여',\n",
       " '‘',\n",
       " '민간',\n",
       " '심의',\n",
       " '위',\n",
       " '회의',\n",
       " '’',\n",
       " '심의',\n",
       " '를',\n",
       " '공정하게',\n",
       " '봐야하는데',\n",
       " ',',\n",
       " '⓵',\n",
       " '경찰',\n",
       " '맘대로',\n",
       " '저',\n",
       " '의',\n",
       " '‘',\n",
       " '이의신청',\n",
       " '을',\n",
       " '종료',\n",
       " '’',\n",
       " '하였고',\n",
       " ',',\n",
       " '⓶',\n",
       " '검사',\n",
       " '의',\n",
       " '부정행위',\n",
       " '지휘',\n",
       " '로',\n",
       " '‘',\n",
       " '민간',\n",
       " '심의',\n",
       " '위원회',\n",
       " '’',\n",
       " '심의',\n",
       " '를',\n",
       " '걸치지',\n",
       " '않았으며',\n",
       " ',',\n",
       " '그',\n",
       " '잘',\n",
       " '못',\n",
       " '된',\n",
       " '결과',\n",
       " '그대로',\n",
       " '‘',\n",
       " '불기소',\n",
       " '처분',\n",
       " '’',\n",
       " '을',\n",
       " '하였습니다',\n",
       " '.',\n",
       " '불기소처분',\n",
       " '사유',\n",
       " '또한',\n",
       " '각종',\n",
       " '거짓말',\n",
       " '로',\n",
       " '조작',\n",
       " '된',\n",
       " '것',\n",
       " '으로',\n",
       " '억',\n",
       " '장이',\n",
       " '무너집니다',\n",
       " '.',\n",
       " '이는',\n",
       " '저',\n",
       " '의',\n",
       " '일만이',\n",
       " '아닙니다',\n",
       " '.',\n",
       " '성범죄',\n",
       " '는',\n",
       " '증거',\n",
       " '수집',\n",
       " '이',\n",
       " '어렵고',\n",
       " ',',\n",
       " '우리나라',\n",
       " '법',\n",
       " '은',\n",
       " '미성년',\n",
       " '자',\n",
       " '에',\n",
       " '대해',\n",
       " '관대',\n",
       " '하다',\n",
       " '보니',\n",
       " '많은',\n",
       " '사건',\n",
       " '들',\n",
       " '이',\n",
       " '애초',\n",
       " '부터',\n",
       " '제대로',\n",
       " '수사',\n",
       " '가',\n",
       " '이루어지지',\n",
       " '않았다',\n",
       " '봅니다',\n",
       " '.',\n",
       " '부실',\n",
       " '수사',\n",
       " '방임',\n",
       " ',',\n",
       " '부정행위',\n",
       " ',',\n",
       " '사건',\n",
       " '조작',\n",
       " '까지',\n",
       " '억',\n",
       " '장이',\n",
       " '무너지고',\n",
       " '또',\n",
       " '무너집니다',\n",
       " '.',\n",
       " '얼마나',\n",
       " '많은',\n",
       " '분',\n",
       " '들',\n",
       " '이',\n",
       " '피',\n",
       " '눈물',\n",
       " '을',\n",
       " '흘렸을지',\n",
       " '뼈',\n",
       " '져',\n",
       " '리',\n",
       " '게',\n",
       " '느낍니다',\n",
       " '.',\n",
       " '문재인',\n",
       " '대통령',\n",
       " '님',\n",
       " '께서',\n",
       " '변호사',\n",
       " '출신',\n",
       " '으로',\n",
       " '부실',\n",
       " '수사',\n",
       " '의',\n",
       " '이',\n",
       " '심각한',\n",
       " '현',\n",
       " '상태',\n",
       " '를',\n",
       " '모를',\n",
       " '수',\n",
       " '없다',\n",
       " '봅니다',\n",
       " '.',\n",
       " '만약',\n",
       " '문재인',\n",
       " '대통령',\n",
       " '님',\n",
       " '이',\n",
       " '이번',\n",
       " '저',\n",
       " '의',\n",
       " '사건',\n",
       " '을',\n",
       " '무시',\n",
       " '한',\n",
       " '다',\n",
       " '면',\n",
       " '문재인',\n",
       " '대통령',\n",
       " '님',\n",
       " '또한',\n",
       " '방관',\n",
       " '자',\n",
       " '입니다',\n",
       " '.',\n",
       " '부디',\n",
       " '문제',\n",
       " '인',\n",
       " '대통령',\n",
       " '님',\n",
       " '과',\n",
       " '국가',\n",
       " '에서',\n",
       " '책임',\n",
       " '을',\n",
       " '지시',\n",
       " '고',\n",
       " '저',\n",
       " '의',\n",
       " '사건',\n",
       " '을',\n",
       " '명명백백',\n",
       " '진상',\n",
       " '규명',\n",
       " '’',\n",
       " '하여',\n",
       " '주실',\n",
       " '것',\n",
       " '을',\n",
       " '간곡히',\n",
       " '부탁드립니다',\n",
       " '.',\n",
       " '->',\n",
       " '그리하여',\n",
       " '⓵',\n",
       " '또',\n",
       " '다른',\n",
       " '피해자',\n",
       " '가',\n",
       " '발생',\n",
       " '하지',\n",
       " '않도록',\n",
       " '가해자',\n",
       " '를',\n",
       " '강력히',\n",
       " '처벌',\n",
       " '하여야',\n",
       " '할',\n",
       " '것',\n",
       " '이며',\n",
       " ',',\n",
       " '부실',\n",
       " '수사',\n",
       " '역시',\n",
       " '강력',\n",
       " '범죄',\n",
       " '입니다',\n",
       " '.',\n",
       " '이',\n",
       " '피해',\n",
       " '의',\n",
       " '고통',\n",
       " '또한',\n",
       " '생명',\n",
       " '을',\n",
       " '저',\n",
       " '버릴',\n",
       " '수',\n",
       " '있을',\n",
       " '만큼의',\n",
       " '고통',\n",
       " '이',\n",
       " '따르는',\n",
       " '위증',\n",
       " '한',\n",
       " '범죄',\n",
       " '의',\n",
       " '피해',\n",
       " '입니다',\n",
       " '.',\n",
       " '저',\n",
       " '의',\n",
       " '사건',\n",
       " '의',\n",
       " '⓶',\n",
       " '부실',\n",
       " '수사',\n",
       " '에',\n",
       " '대한',\n",
       " '민낯',\n",
       " '을',\n",
       " '밝혀',\n",
       " ',',\n",
       " '관련',\n",
       " '된',\n",
       " '경찰',\n",
       " '검사',\n",
       " '...',\n",
       " '등',\n",
       " '모든',\n",
       " '분들',\n",
       " '징계',\n",
       " '처리',\n",
       " '하여',\n",
       " '더',\n",
       " '이상',\n",
       " '의',\n",
       " '이',\n",
       " '같은',\n",
       " '피해',\n",
       " '로',\n",
       " '고통',\n",
       " '을',\n",
       " '받는',\n",
       " '일',\n",
       " '을',\n",
       " '없게',\n",
       " '해',\n",
       " '주실',\n",
       " '것',\n",
       " '을',\n",
       " '간곡히',\n",
       " '부탁드립니다',\n",
       " '.(',\n",
       " '부실',\n",
       " '수사',\n",
       " '조작',\n",
       " '녹음',\n",
       " '...',\n",
       " '등',\n",
       " '증거',\n",
       " '자료',\n",
       " '다',\n",
       " '있음',\n",
       " ')',\n",
       " '⚊',\n",
       " '저',\n",
       " '의',\n",
       " '딸',\n",
       " '사건',\n",
       " '(',\n",
       " '성폭행',\n",
       " ')',\n",
       " '당일',\n",
       " '의',\n",
       " '내용',\n",
       " '⚊',\n",
       " '사건',\n",
       " '발생',\n",
       " '장소',\n",
       " '가',\n",
       " '저희',\n",
       " '집',\n",
       " '옥상',\n",
       " '입니다',\n",
       " '.',\n",
       " '그',\n",
       " '옥상',\n",
       " '은',\n",
       " '저',\n",
       " '의',\n",
       " '딸',\n",
       " '이',\n",
       " '지적',\n",
       " '3',\n",
       " '급',\n",
       " '이라',\n",
       " '밖',\n",
       " '은',\n",
       " '위험',\n",
       " '할',\n",
       " '것',\n",
       " '같아',\n",
       " '방학',\n",
       " '동안',\n",
       " '저',\n",
       " '의',\n",
       " '딸',\n",
       " '여자',\n",
       " '친구',\n",
       " '와',\n",
       " '안전하게',\n",
       " '놀',\n",
       " '수',\n",
       " '있는',\n",
       " '곳',\n",
       " '으로',\n",
       " '여자',\n",
       " '친구',\n",
       " '또한',\n",
       " '엄마',\n",
       " '에게',\n",
       " '이야기',\n",
       " '하여',\n",
       " '텐트',\n",
       " '를',\n",
       " '가지',\n",
       " '고',\n",
       " '와',\n",
       " '각자',\n",
       " '의',\n",
       " '소지품',\n",
       " '이불',\n",
       " '책',\n",
       " '..',\n",
       " '등',\n",
       " '으로',\n",
       " '둘',\n",
       " '만의',\n",
       " '공간',\n",
       " '을',\n",
       " '꾸며',\n",
       " '놓아',\n",
       " '방학',\n",
       " '내내',\n",
       " '놀았던',\n",
       " '곳',\n",
       " '입니다',\n",
       " '.',\n",
       " '사건',\n",
       " '발생',\n",
       " '후',\n",
       " '에',\n",
       " '알았는데',\n",
       " '그',\n",
       " '장소',\n",
       " '를',\n",
       " '저',\n",
       " '의',\n",
       " '딸',\n",
       " '이',\n",
       " '학교',\n",
       " '에',\n",
       " '가서',\n",
       " '친구',\n",
       " '들',\n",
       " '한테',\n",
       " '‘',\n",
       " '비밀',\n",
       " '에',\n",
       " '장소',\n",
       " '’',\n",
       " '라고',\n",
       " '이야기',\n",
       " '하고',\n",
       " '다녔다고',\n",
       " '합니다',\n",
       " '.',\n",
       " '학교',\n",
       " '선생님',\n",
       " '께서는',\n",
       " '가해자',\n",
       " '에게',\n",
       " '직접',\n",
       " '들었다고',\n",
       " '합니다',\n",
       " '가해자',\n",
       " '는',\n",
       " '저',\n",
       " '의',\n",
       " '집',\n",
       " '옥상',\n",
       " '을',\n",
       " '비밀',\n",
       " '에',\n",
       " '장소라',\n",
       " '듣고',\n",
       " ',',\n",
       " '저',\n",
       " '의',\n",
       " '딸',\n",
       " '에게',\n",
       " '몇',\n",
       " '칠',\n",
       " '전',\n",
       " '부터',\n",
       " '옥상',\n",
       " '에',\n",
       " '가자고',\n",
       " '계속',\n",
       " '하였고',\n",
       " '저',\n",
       " '의',\n",
       " '딸',\n",
       " '은',\n",
       " '가해자',\n",
       " '에게',\n",
       " '안',\n",
       " '간다',\n",
       " '고',\n",
       " '하면',\n",
       " '때리고',\n",
       " '화내',\n",
       " '니까',\n",
       " '집',\n",
       " '에',\n",
       " '오게',\n",
       " '된',\n",
       " '것',\n",
       " '이라고',\n",
       " '하였습니다',\n",
       " '.',\n",
       " '그러나',\n",
       " '남자',\n",
       " '애하',\n",
       " '고',\n",
       " '옥상',\n",
       " '에서',\n",
       " '논다',\n",
       " '하여',\n",
       " '엄마',\n",
       " '인',\n",
       " '저',\n",
       " '는',\n",
       " '안',\n",
       " '된다고',\n",
       " '하였고',\n",
       " '알겠다고',\n",
       " ...]"
      ]
     },
     "execution_count": 34,
     "metadata": {
      "tags": []
     },
     "output_type": "execute_result"
    }
   ],
   "source": [
    "humanRights_text = ''\n",
    "\n",
    "for each_line in humanRights['청원내용']: \n",
    "  humanRights_text = humanRights_text + each_line + '\\n'\n",
    "\n",
    "# 형태소 단위로 쪼갠 token 만들기\n",
    "tokens_ko = okt.morphs(humanRights_text)\n",
    "tokens_ko"
   ]
  },
  {
   "cell_type": "markdown",
   "metadata": {
    "colab_type": "text",
    "id": "PIHgui2LuFVb"
   },
   "source": [
    "token이 몇 개인지 봅시다"
   ]
  },
  {
   "cell_type": "code",
   "execution_count": 35,
   "metadata": {
    "colab": {
     "base_uri": "https://localhost:8080/",
     "height": 52
    },
    "colab_type": "code",
    "executionInfo": {
     "elapsed": 794,
     "status": "ok",
     "timestamp": 1598243273724,
     "user": {
      "displayName": "김보겸",
      "photoUrl": "",
      "userId": "10542318974879873360"
     },
     "user_tz": -540
    },
    "id": "pdnEGLJ9t8aD",
    "outputId": "11cf6898-586a-438c-f18d-1f7cd89486db"
   },
   "outputs": [
    {
     "name": "stdout",
     "output_type": "stream",
     "text": [
      "35442\n",
      "6513\n"
     ]
    }
   ],
   "source": [
    "ko = nltk.Text(tokens_ko, name='인권/성평등 청원내용')\n",
    "print(len(ko.tokens)) # 중복 제거 전\n",
    "print(len(set(ko.tokens))) # 중복 제거 후"
   ]
  },
  {
   "cell_type": "code",
   "execution_count": 36,
   "metadata": {
    "colab": {
     "base_uri": "https://localhost:8080/",
     "height": 1000
    },
    "colab_type": "code",
    "executionInfo": {
     "elapsed": 844,
     "status": "ok",
     "timestamp": 1598243315982,
     "user": {
      "displayName": "김보겸",
      "photoUrl": "",
      "userId": "10542318974879873360"
     },
     "user_tz": -540
    },
    "id": "ZRu-S7tPuPit",
    "outputId": "05493ecf-76f8-447f-a2ff-1e221d89def4"
   },
   "outputs": [
    {
     "data": {
      "text/plain": [
       "[('.', 1211),\n",
       " ('을', 1057),\n",
       " ('이', 845),\n",
       " ('의', 722),\n",
       " ('를', 570),\n",
       " ('에', 559),\n",
       " (',', 530),\n",
       " ('가', 467),\n",
       " ('들', 392),\n",
       " ('은', 374),\n",
       " ('는', 314),\n",
       " ('으로', 286),\n",
       " ('한', 269),\n",
       " ('피해자', 256),\n",
       " ('것', 248),\n",
       " ('가해자', 225),\n",
       " ('수', 195),\n",
       " ('로', 193),\n",
       " ('도', 193),\n",
       " ('그', 184),\n",
       " ('에서', 176),\n",
       " ('입니다', 172),\n",
       " ('사건', 170),\n",
       " ('과', 170),\n",
       " ('할', 151),\n",
       " ('하고', 151),\n",
       " ('하는', 150),\n",
       " ('제', 150),\n",
       " ('적', 145),\n",
       " ('합니다', 141),\n",
       " (\"'\", 140),\n",
       " ('와', 138),\n",
       " ('저', 133),\n",
       " ('여성', 122),\n",
       " ('에게', 120),\n",
       " ('고', 120),\n",
       " (')', 115),\n",
       " ('인', 114),\n",
       " ('(', 109),\n",
       " ('‘', 100),\n",
       " ('사람', 99),\n",
       " ('하여', 94),\n",
       " ('처벌', 93),\n",
       " ('’', 88),\n",
       " ('등', 87),\n",
       " ('?', 85),\n",
       " ('딸', 81),\n",
       " ('있습니다', 81),\n",
       " ('까지', 80),\n",
       " ('생각', 80),\n",
       " ('된', 79),\n",
       " ('다', 78),\n",
       " ('말', 77),\n",
       " ('수사', 75),\n",
       " ('국민', 68),\n",
       " ('못', 68),\n",
       " ('또한', 68),\n",
       " ('안', 67),\n",
       " ('경찰', 66),\n",
       " ('2', 64),\n",
       " ('만', 64),\n",
       " ('1', 64),\n",
       " ('그리고', 61),\n",
       " ('했습니다', 58),\n",
       " ('일', 57),\n",
       " ('증거', 56),\n",
       " ('진술', 56),\n",
       " ('있는', 54),\n",
       " ('위', 54),\n",
       " ('범죄', 54),\n",
       " ('더', 54),\n",
       " ('해', 53),\n",
       " ('성', 53),\n",
       " ('보호', 53),\n",
       " ('사진', 52),\n",
       " ('성범죄', 50),\n",
       " (':', 49),\n",
       " ('성폭행', 49),\n",
       " ('\\n', 49),\n",
       " ('자신', 48),\n",
       " ('법', 48),\n",
       " ('피해', 48),\n",
       " ('하지', 47),\n",
       " ('강간', 46),\n",
       " ('..', 46),\n",
       " ('청소년', 46),\n",
       " ('위해', 45),\n",
       " ('정말', 45),\n",
       " ('명', 45),\n",
       " ('->', 44),\n",
       " ('많은', 44),\n",
       " ('검사', 43),\n",
       " ('3', 43),\n",
       " ('중', 42),\n",
       " ('촬영', 42),\n",
       " ('물', 42),\n",
       " ('아동', 42),\n",
       " ('청원', 41),\n",
       " ('분', 41),\n",
       " ('이유', 41)]"
      ]
     },
     "execution_count": 36,
     "metadata": {
      "tags": []
     },
     "output_type": "execute_result"
    }
   ],
   "source": [
    "ko = nltk.Text(tokens_ko, name='청원내용')\n",
    "ko.vocab().most_common(100) # 가장 많이 쓰인 단어를 나열해볼게요"
   ]
  },
  {
   "cell_type": "markdown",
   "metadata": {
    "colab_type": "text",
    "id": "L0JAuRkhudeN"
   },
   "source": [
    "불용어가 한가득이네요... 이제 한땀한땀 불용어를 제거해주도록 합시다"
   ]
  },
  {
   "cell_type": "code",
   "execution_count": 40,
   "metadata": {
    "colab": {
     "base_uri": "https://localhost:8080/",
     "height": 897
    },
    "colab_type": "code",
    "executionInfo": {
     "elapsed": 820,
     "status": "ok",
     "timestamp": 1598243501013,
     "user": {
      "displayName": "김보겸",
      "photoUrl": "",
      "userId": "10542318974879873360"
     },
     "user_tz": -540
    },
    "id": "5tz7rwg5uZ2I",
    "outputId": "4471cbfb-2e9b-4696-f963-b4e7e373c0a5"
   },
   "outputs": [
    {
     "data": {
      "text/plain": [
       "[('피해자', 256),\n",
       " ('가해자', 225),\n",
       " ('사건', 170),\n",
       " ('여성', 122),\n",
       " ('사람', 99),\n",
       " ('처벌', 93),\n",
       " ('생각', 80),\n",
       " ('수사', 75),\n",
       " ('국민', 68),\n",
       " ('경찰', 66),\n",
       " ('증거', 56),\n",
       " ('진술', 56),\n",
       " ('범죄', 54),\n",
       " ('성', 53),\n",
       " ('보호', 53),\n",
       " ('사진', 52),\n",
       " ('성범죄', 50),\n",
       " ('성폭행', 49),\n",
       " ('자신', 48),\n",
       " ('법', 48),\n",
       " ('피해', 48),\n",
       " ('강간', 46),\n",
       " ('청소년', 46),\n",
       " ('검사', 43),\n",
       " ('촬영', 42),\n",
       " ('아동', 42),\n",
       " ('청원', 41),\n",
       " ('이유', 41),\n",
       " ('내용', 40),\n",
       " ('친구', 40),\n",
       " ('폭행', 39),\n",
       " ('이상', 37),\n",
       " ('행위', 37),\n",
       " ('남성', 37),\n",
       " ('술', 37),\n",
       " ('여자', 36),\n",
       " ('결과', 33),\n",
       " ('국가', 33),\n",
       " ('모든', 33),\n",
       " ('신고', 33),\n",
       " ('사실', 33),\n",
       " ('영상', 33),\n",
       " ('우리', 33),\n",
       " ('재판', 33),\n",
       " ('성폭력', 33),\n",
       " ('판결', 32),\n",
       " ('사회', 32),\n",
       " ('중위', 32),\n",
       " ('아이', 31),\n",
       " ('알', 31)]"
      ]
     },
     "execution_count": 40,
     "metadata": {
      "tags": []
     },
     "output_type": "execute_result"
    }
   ],
   "source": [
    "stop_words = ['.','을','이','의','를','에',',','가','들','은','는','으로','한','도',\n",
    "              '수','에서','로','것','그','과','제','입니다','할','하고','적',\"'\",'하는',\n",
    "              '합니다','와','에게','고','인',')','?','하여','등','저','있습니다','말','까지',\n",
    "              '(','1','그리고','다','2','만','딸','했습니다','안','된','못','일','더','위',\n",
    "              '있는','해','\\n','또한','명','하지','..','정말','물','많은','\"',\n",
    "              '중','3','게','너무','A','자','이런','때','되지','위해','에는','없는',\n",
    "              '및','요','때문','관련','대한','전','라고','되었습니다','하기','나','후','같은','해서',\n",
    "              '글','되어','주','차','하','내','없이','대해','잘', '‘', '’', ':', '->', '분','님','하였습니다', '서', '부터','”']\n",
    "\n",
    "tokens_ko = [each_word for each_word in tokens_ko if each_word not in stop_words]\n",
    "\n",
    "ko = nltk.Text(tokens_ko, name='인권/성평등 청원내용')\n",
    "ko.vocab().most_common(50)"
   ]
  },
  {
   "cell_type": "code",
   "execution_count": 41,
   "metadata": {
    "colab": {
     "base_uri": "https://localhost:8080/",
     "height": 406
    },
    "colab_type": "code",
    "executionInfo": {
     "elapsed": 1447,
     "status": "ok",
     "timestamp": 1598243515679,
     "user": {
      "displayName": "김보겸",
      "photoUrl": "",
      "userId": "10542318974879873360"
     },
     "user_tz": -540
    },
    "id": "2rlrJ02cunPo",
    "outputId": "aa8fbe81-a056-4777-8557-c8aefbea2fee"
   },
   "outputs": [
    {
     "data": {
      "image/png": "[encoded data removed]",
      "text/plain": [
       "<Figure size 1080x432 with 1 Axes>"
      ]
     },
     "metadata": {
      "image/png": {
       "height": 389,
       "width": 890
      },
      "needs_background": "light",
      "tags": []
     },
     "output_type": "display_data"
    }
   ],
   "source": [
    "plt.figure(figsize=(15,6))\n",
    "ko.plot(50)\n",
    "plt.show()"
   ]
  },
  {
   "cell_type": "markdown",
   "metadata": {
    "colab_type": "text",
    "id": "W9A3Gi0MvLcQ"
   },
   "source": [
    "'피해자', '가해자', '사건', '여성', '사람' 순으로 Top 5 words가 나왔습니다. 인권/성평등 청원의 경우 여성과 관련한 (피해와 가해가 있는)사건사고에 대한 청원이 많은 것을 알 수 있습니다"
   ]
  },
  {
   "cell_type": "code",
   "execution_count": 42,
   "metadata": {
    "colab": {},
    "colab_type": "code",
    "executionInfo": {
     "elapsed": 1066,
     "status": "ok",
     "timestamp": 1598243623978,
     "user": {
      "displayName": "김보겸",
      "photoUrl": "",
      "userId": "10542318974879873360"
     },
     "user_tz": -540
    },
    "id": "Wa5jm_lCvKcy"
   },
   "outputs": [],
   "source": [
    "from wordcloud import WordCloud, STOPWORDS\n",
    "from PIL import Image"
   ]
  },
  {
   "cell_type": "code",
   "execution_count": 43,
   "metadata": {
    "colab": {},
    "colab_type": "code",
    "executionInfo": {
     "elapsed": 926,
     "status": "ok",
     "timestamp": 1598243628643,
     "user": {
      "displayName": "김보겸",
      "photoUrl": "",
      "userId": "10542318974879873360"
     },
     "user_tz": -540
    },
    "id": "hRb6rBfdvk-W"
   },
   "outputs": [],
   "source": [
    "data = dict(ko.vocab().most_common(150))"
   ]
  },
  {
   "cell_type": "code",
   "execution_count": 44,
   "metadata": {
    "colab": {
     "base_uri": "https://localhost:8080/",
     "height": 366
    },
    "colab_type": "code",
    "executionInfo": {
     "elapsed": 2138,
     "status": "ok",
     "timestamp": 1598243637028,
     "user": {
      "displayName": "김보겸",
      "photoUrl": "",
      "userId": "10542318974879873360"
     },
     "user_tz": -540
    },
    "id": "nmFoEYzivmKA",
    "outputId": "f853f6be-fc4b-4d6a-accf-6f4c61f30247"
   },
   "outputs": [
    {
     "data": {
      "image/png": "[encoded data removed]",
      "text/plain": [
       "<Figure size 864x576 with 1 Axes>"
      ]
     },
     "metadata": {
      "image/png": {
       "height": 349,
       "width": 683
      },
      "needs_background": "light",
      "tags": []
     },
     "output_type": "display_data"
    }
   ],
   "source": [
    "# for win : font_path='c:/Windows/Fonts/malgun.ttf'\n",
    "# 나눔바른고딕 글씨체 있으면 가능, 없을 경우 font_path를 바꾸세요!\n",
    "wordcloud = WordCloud(font_path='/usr/share/fonts/truetype/nanum/NanumBarunGothic.ttf',\n",
    "                      relative_scaling = 0.2,\n",
    "                      background_color='white',).generate_from_frequencies(data)\n",
    "plt.figure(figsize=(12,8))\n",
    "plt.imshow(wordcloud)\n",
    "plt.axis(\"off\")\n",
    "plt.show()"
   ]
  },
  {
   "cell_type": "markdown",
   "metadata": {
    "colab_type": "text",
    "id": "Nq4J_Rii2MAw"
   },
   "source": [
    "## Word2Vec을 이용해 단어간 유사성 찾기  \n",
    "저번과 같이 이런 것도 있구나~ 정도만 생각하고 넘어가지면 됩니다. word2vec이라는게 있는데 이것을 통해서 (맥락 포함한) 단어간 유사성을 볼 수 있겠구나 하구요. gensim이라는 모듈에서 word2vec을 제공하고 있습니다.\n"
   ]
  },
  {
   "cell_type": "code",
   "execution_count": 52,
   "metadata": {
    "colab": {},
    "colab_type": "code",
    "executionInfo": {
     "elapsed": 783,
     "status": "ok",
     "timestamp": 1598245594969,
     "user": {
      "displayName": "김보겸",
      "photoUrl": "",
      "userId": "10542318974879873360"
     },
     "user_tz": -540
    },
    "id": "pgeOhbJKvn6I"
   },
   "outputs": [],
   "source": [
    "import gensim \n",
    "from gensim.models import word2vec"
   ]
  },
  {
   "cell_type": "code",
   "execution_count": 83,
   "metadata": {
    "colab": {},
    "colab_type": "code",
    "executionInfo": {
     "elapsed": 9300,
     "status": "ok",
     "timestamp": 1598246081328,
     "user": {
      "displayName": "김보겸",
      "photoUrl": "",
      "userId": "10542318974879873360"
     },
     "user_tz": -540
    },
    "id": "UvM_D3VX2ai-"
   },
   "outputs": [],
   "source": [
    "okt = Okt()\n",
    "results = []\n",
    "\n",
    "for line in humanRights['청원내용']: \n",
    "  # 형태소 분석 \n",
    "  malist = okt.pos(line, norm=True, stem=True)\n",
    "  # print(malist)\n",
    "  r = []\n",
    "\n",
    "  # word2vec 실행\n",
    "  for word in malist: \n",
    "    if not word[1] in ['Josa', 'Eomi','punctuation']:\n",
    "      r.append(word[0])\n",
    "\n",
    "  r1 = (\" \".join(r)).strip()\n",
    "  results.append(r1)\n",
    "  # print(r1)"
   ]
  },
  {
   "cell_type": "code",
   "execution_count": 84,
   "metadata": {
    "colab": {},
    "colab_type": "code",
    "executionInfo": {
     "elapsed": 8847,
     "status": "ok",
     "timestamp": 1598246081335,
     "user": {
      "displayName": "김보겸",
      "photoUrl": "",
      "userId": "10542318974879873360"
     },
     "user_tz": -540
    },
    "id": "dTjVcGMO2cOw"
   },
   "outputs": [],
   "source": [
    "data_file = 'human_rights.data'\n",
    "with open(data_file, 'w', encoding='utf-8') as fp: \n",
    "  fp.write(\"\\n\".join(results))"
   ]
  },
  {
   "cell_type": "markdown",
   "metadata": {
    "colab_type": "text",
    "id": "tg0gJdb72iPG"
   },
   "source": [
    "만든 데이터 날라가지 않도록 우선 저장부터 해두고요!"
   ]
  },
  {
   "cell_type": "code",
   "execution_count": 85,
   "metadata": {
    "colab": {
     "base_uri": "https://localhost:8080/",
     "height": 72
    },
    "colab_type": "code",
    "executionInfo": {
     "elapsed": 10985,
     "status": "ok",
     "timestamp": 1598246084532,
     "user": {
      "displayName": "김보겸",
      "photoUrl": "",
      "userId": "10542318974879873360"
     },
     "user_tz": -540
    },
    "id": "C-VpJVzQ2hHe",
    "outputId": "f8e1ec92-4cc0-4ac4-aede-612166386693"
   },
   "outputs": [
    {
     "name": "stderr",
     "output_type": "stream",
     "text": [
      "/usr/local/lib/python3.6/dist-packages/smart_open/smart_open_lib.py:254: UserWarning: This function is deprecated, use smart_open.open instead. See the migration notes for details: https://github.com/RaRe-Technologies/smart_open/blob/master/README.rst#migrating-to-the-new-open-function\n",
      "  'See the migration notes for details: %s' % _MIGRATION_NOTES_URL\n"
     ]
    }
   ],
   "source": [
    "data = word2vec.LineSentence(data_file)\n",
    "model = word2vec.Word2Vec(data, size=200, window=10, hs=1, min_count=2, sg=1)\n",
    "\n",
    "model.save('human_rights.model')"
   ]
  },
  {
   "cell_type": "code",
   "execution_count": 86,
   "metadata": {
    "colab": {
     "base_uri": "https://localhost:8080/",
     "height": 318
    },
    "colab_type": "code",
    "executionInfo": {
     "elapsed": 8874,
     "status": "ok",
     "timestamp": 1598246084534,
     "user": {
      "displayName": "김보겸",
      "photoUrl": "",
      "userId": "10542318974879873360"
     },
     "user_tz": -540
    },
    "id": "nMhL_YFg2j-C",
    "outputId": "f100e44a-c639-4b68-8763-afd75259e7f6"
   },
   "outputs": [
    {
     "name": "stderr",
     "output_type": "stream",
     "text": [
      "/usr/local/lib/python3.6/dist-packages/smart_open/smart_open_lib.py:254: UserWarning: This function is deprecated, use smart_open.open instead. See the migration notes for details: https://github.com/RaRe-Technologies/smart_open/blob/master/README.rst#migrating-to-the-new-open-function\n",
      "  'See the migration notes for details: %s' % _MIGRATION_NOTES_URL\n",
      "/usr/local/lib/python3.6/dist-packages/ipykernel_launcher.py:3: DeprecationWarning: Call to deprecated `most_similar` (Method will be removed in 4.0.0, use self.wv.most_similar() instead).\n",
      "  This is separate from the ipykernel package so we can avoid doing imports until\n",
      "/usr/local/lib/python3.6/dist-packages/gensim/matutils.py:737: FutureWarning: Conversion of the second argument of issubdtype from `int` to `np.signedinteger` is deprecated. In future, it will be treated as `np.int64 == np.dtype(int).type`.\n",
      "  if np.issubdtype(vec.dtype, np.int):\n"
     ]
    },
    {
     "data": {
      "text/plain": [
       "[('학교폭력', 0.8526480197906494),\n",
       " ('셋째', 0.845543384552002),\n",
       " ('알려지다', 0.8331659436225891),\n",
       " ('범죄', 0.8305543065071106),\n",
       " ('모범생', 0.8297005891799927),\n",
       " ('협조', 0.8266674280166626),\n",
       " ('보이지', 0.8222059011459351),\n",
       " ('옮기다', 0.8222049474716187),\n",
       " ('보복', 0.8220915794372559),\n",
       " ('계속', 0.8220640420913696)]"
      ]
     },
     "execution_count": 86,
     "metadata": {
      "tags": []
     },
     "output_type": "execute_result"
    }
   ],
   "source": [
    "model = word2vec.Word2Vec.load(\"human_rights.model\")\n",
    "# 1st 단어: 피해자\n",
    "model.most_similar(positive=['피해자'])"
   ]
  },
  {
   "cell_type": "markdown",
   "metadata": {
    "colab_type": "text",
    "id": "qX6ySkKO2pWT"
   },
   "source": [
    "피해자와 긍정적으로 연관된 단어는 '학교폭력', '셋째', '알려지다'가 있는데... 흠...어떤 의미에서 긍정적인건지는 잘 모르겠습니다"
   ]
  },
  {
   "cell_type": "code",
   "execution_count": 78,
   "metadata": {
    "colab": {
     "base_uri": "https://localhost:8080/",
     "height": 283
    },
    "colab_type": "code",
    "executionInfo": {
     "elapsed": 6942,
     "status": "ok",
     "timestamp": 1598245933553,
     "user": {
      "displayName": "김보겸",
      "photoUrl": "",
      "userId": "10542318974879873360"
     },
     "user_tz": -540
    },
    "id": "Q4DDv7h12lsl",
    "outputId": "bffc58b0-cb34-4476-b682-0cceaedbce31"
   },
   "outputs": [
    {
     "name": "stderr",
     "output_type": "stream",
     "text": [
      "/usr/local/lib/python3.6/dist-packages/ipykernel_launcher.py:2: DeprecationWarning: Call to deprecated `most_similar` (Method will be removed in 4.0.0, use self.wv.most_similar() instead).\n",
      "  \n",
      "/usr/local/lib/python3.6/dist-packages/gensim/matutils.py:737: FutureWarning: Conversion of the second argument of issubdtype from `int` to `np.signedinteger` is deprecated. In future, it will be treated as `np.int64 == np.dtype(int).type`.\n",
      "  if np.issubdtype(vec.dtype, np.int):\n"
     ]
    },
    {
     "data": {
      "text/plain": [
       "[('사이', 0.8772937059402466),\n",
       " ('위협', 0.8641153573989868),\n",
       " ('은', 0.8633514642715454),\n",
       " ('뒤', 0.8534380197525024),\n",
       " ('친구', 0.8467189073562622),\n",
       " ('방치', 0.8399537801742554),\n",
       " ('친하다', 0.8385121822357178),\n",
       " ('오빠', 0.8384188413619995),\n",
       " ('자신', 0.8361759781837463),\n",
       " ('후배', 0.8358298540115356)]"
      ]
     },
     "execution_count": 78,
     "metadata": {
      "tags": []
     },
     "output_type": "execute_result"
    }
   ],
   "source": [
    "# 2nd 단어: 가해자\n",
    "model.most_similar(positive=['가해자'])"
   ]
  },
  {
   "cell_type": "markdown",
   "metadata": {
    "colab_type": "text",
    "id": "TDCcYDc33dji"
   },
   "source": [
    "가해자와는 사이, 위협, 친구, 친하다, 후배 등이 있습니다. 친밀한 관계에 있는 사람이 가해자가 되는 경우가 많다는 것을 나타내주는 것 같습니다."
   ]
  },
  {
   "cell_type": "code",
   "execution_count": 87,
   "metadata": {
    "colab": {
     "base_uri": "https://localhost:8080/",
     "height": 283
    },
    "colab_type": "code",
    "executionInfo": {
     "elapsed": 929,
     "status": "ok",
     "timestamp": 1598246174391,
     "user": {
      "displayName": "김보겸",
      "photoUrl": "",
      "userId": "10542318974879873360"
     },
     "user_tz": -540
    },
    "id": "QpvksIhf3BM6",
    "outputId": "1bbf49d5-7b85-48f3-b8c7-f8e8e9bba3bc"
   },
   "outputs": [
    {
     "name": "stderr",
     "output_type": "stream",
     "text": [
      "/usr/local/lib/python3.6/dist-packages/ipykernel_launcher.py:1: DeprecationWarning: Call to deprecated `most_similar` (Method will be removed in 4.0.0, use self.wv.most_similar() instead).\n",
      "  \"\"\"Entry point for launching an IPython kernel.\n",
      "/usr/local/lib/python3.6/dist-packages/gensim/matutils.py:737: FutureWarning: Conversion of the second argument of issubdtype from `int` to `np.signedinteger` is deprecated. In future, it will be treated as `np.int64 == np.dtype(int).type`.\n",
      "  if np.issubdtype(vec.dtype, np.int):\n"
     ]
    },
    {
     "data": {
      "text/plain": [
       "[('남성', 0.918696403503418),\n",
       " ('Target', 0.910691499710083),\n",
       " ('이루어지다', 0.8895960450172424),\n",
       " ('34%', 0.8868642449378967),\n",
       " ('→', 0.8758751153945923),\n",
       " ('법제', 0.8718467950820923),\n",
       " ('아청법', 0.8716122508049011),\n",
       " ('화장실', 0.870795726776123),\n",
       " ('여로', 0.8663198947906494),\n",
       " ('거나', 0.8585917353630066)]"
      ]
     },
     "execution_count": 87,
     "metadata": {
      "tags": []
     },
     "output_type": "execute_result"
    }
   ],
   "source": [
    "model.most_similar(positive=['여성', '성범죄'])"
   ]
  },
  {
   "cell_type": "markdown",
   "metadata": {
    "colab_type": "text",
    "id": "VU8hMbyi5Vas"
   },
   "source": [
    "여성과 성범죄 두 단어와 연관되는 단어는 남성, 아청법, 화장실 등이 있네요. Target, 34%, -> 와 같은 불용어도 보이는데,,, 불용어처리를 더 잘 해야겠네요"
   ]
  },
  {
   "cell_type": "markdown",
   "metadata": {
    "colab_type": "text",
    "id": "RtFw4FBE5p6a"
   },
   "source": [
    "## 과제  \n",
    "여기서 끝내긴 너무 아쉬울 것 같네요. 종강 기념 과제가 나갑니다! 여러분의 원망소리가 여기까지 들리는 것 같지만, 직접 해봐야 실력이 늘어나니 어쩔 수 없습니다 🧙 EDA 중심으로 한번 배워본 것들을 복습해봅시다.\n",
    "\n",
    "- 과제1: 참여인원순 Top10 카테고리를 정렬하여 데이터프레임으로 나타내고, 이를 잘 나타낼 수 있는 표를 사용해 시각화 해주세요.  \n",
    "- 과제2: petition의 청원시작일 칼럼은 청원이 게시된 날짜, 청원답변일은 청원이 답변된 날짜를 의미합니다. 이를 활용해 1) 청원 게시일부터 청원이 답변된 날짜까지의 평균을 구하고, 2) 카테고리별 평균 청원답변일수를 구하여 데이터프레임으로 나타내세요.  \n",
    "- 과제3: 카테고리 정치개혁의 청원내용을 wordcloud로 시각화하세요.  \n",
    "\n",
    "## 공부를 끝내며  \n",
    "드디어 길고 길었던 한글 자연어 처리 기초가 마무리되었습니다. 이번주에는 양이 정말 많죠? 또 컨퍼런스 준비하랴, 과제도 하랴 고생이 많을겁니다. 하지만 이게 다 피가 되고 살이 되고~~~ 다 그런거 아니겠습니까? ㅎㅎ \n",
    "\n",
    "여튼 코사다마의 데이터 사이언스 입문 스터디는 한글 자연어 처리 기초를 마지막으로 끝이납니다. 열심히 공부하시느니라 고생많으셨어요. 짝짝짝~~ 🙌🙌🙌 완벽하게 모든 코드를 섭렵하고 이해하고 그러지는 못했을 겁니다. 그게 당연한거에요. 실제 엔지니어들도 모든 코드들을 다 외워서 쓰지 않습니다. 뻥인 것 같다고요? 아니에요! 진짜 엔지니어들도 매일매일 구글링 해가면서 코딩합니다. 중요한 것은 이러한 분석기법이, 코딩기법이 있다는 것을 아는 것입니다.👩‍💻\n",
    "\n",
    "데이터사이언스 입문 스터디의 궁극적인 목표는 '기술적 상상력💻'을 길러주는 것입니다. 어떤 문제상황을 기술로서 해결할 수 있다는 가능성을 보여주는게 스터디의 가장 큰 목적입니다. 계속 까먹고, 잘 못하고 그런게 무슨 상관이 있나요. 예전에는 이런 방식으로 분석하는 것이 여러분들의 선택지에 없었다면, 이제는 잘 못하더라도 이렇게 해석하고 분석할 수 있다는 선택지의 방향이 생겼다는 사실에 주목해봅시다. 자, 이제 자신이 정말 대단해보이지 않나요?\n",
    "\n",
    "방학동안 정말 고생많으셨습니다. 지금 SQL과정에 있는 학생들이 10주 동안 진행한걸 6주만에 끝냈으니 당연히 힘들었을거에요. 고생한 자신에게 박수를 쳐주며 우리 다음 학기 머신러닝 커리에서도 보도록 합시다. 그럼 20000~~ 🌞"
   ]
  }
 ],
 "metadata": {
  "colab": {
   "authorship_tag": "ABX9TyMP5Pfff87xOP6XlR1Nn9d3",
   "collapsed_sections": [],
   "name": "WEEK6-3 교안.ipynb",
   "provenance": []
  },
  "kernelspec": {
   "display_name": "Python 3",
   "language": "python",
   "name": "python3"
  },
  "language_info": {
   "codemirror_mode": {
    "name": "ipython",
    "version": 3
   },
   "file_extension": ".py",
   "mimetype": "text/x-python",
   "name": "python",
   "nbconvert_exporter": "python",
   "pygments_lexer": "ipython3",
   "version": "3.8.5"
  },
  "widgets": {
   "application/vnd.jupyter.widget-state+json": {
    "03fe61df2bad4de0b68b1822e5a78292": {
     "model_module": "@jupyter-widgets/base",
     "model_name": "LayoutModel",
     "state": {
      "_model_module": "@jupyter-widgets/base",
      "_model_module_version": "1.2.0",
      "_model_name": "LayoutModel",
      "_view_count": null,
      "_view_module": "@jupyter-widgets/base",
      "_view_module_version": "1.2.0",
      "_view_name": "LayoutView",
      "align_content": null,
      "align_items": null,
      "align_self": null,
      "border": null,
      "bottom": null,
      "display": null,
      "flex": null,
      "flex_flow": null,
      "grid_area": null,
      "grid_auto_columns": null,
      "grid_auto_flow": null,
      "grid_auto_rows": null,
      "grid_column": null,
      "grid_gap": null,
      "grid_row": null,
      "grid_template_areas": null,
      "grid_template_columns": null,
      "grid_template_rows": null,
      "height": null,
      "justify_content": null,
      "justify_items": null,
      "left": null,
      "margin": null,
      "max_height": null,
      "max_width": null,
      "min_height": null,
      "min_width": null,
      "object_fit": null,
      "object_position": null,
      "order": null,
      "overflow": null,
      "overflow_x": null,
      "overflow_y": null,
      "padding": null,
      "right": null,
      "top": null,
      "visibility": null,
      "width": null
     }
    },
    "11c9e014ff80474894c00ff4056ecf98": {
     "model_module": "@jupyter-widgets/controls",
     "model_name": "ProgressStyleModel",
     "state": {
      "_model_module": "@jupyter-widgets/controls",
      "_model_module_version": "1.5.0",
      "_model_name": "ProgressStyleModel",
      "_view_count": null,
      "_view_module": "@jupyter-widgets/base",
      "_view_module_version": "1.2.0",
      "_view_name": "StyleView",
      "bar_color": null,
      "description_width": "initial"
     }
    },
    "3d2ac665d710445bb20853c9c595f8c4": {
     "model_module": "@jupyter-widgets/controls",
     "model_name": "HBoxModel",
     "state": {
      "_dom_classes": [],
      "_model_module": "@jupyter-widgets/controls",
      "_model_module_version": "1.5.0",
      "_model_name": "HBoxModel",
      "_view_count": null,
      "_view_module": "@jupyter-widgets/controls",
      "_view_module_version": "1.5.0",
      "_view_name": "HBoxView",
      "box_style": "",
      "children": [
       "IPY_MODEL_caf51030896d475aad0f611320522a96",
       "IPY_MODEL_ea47e67c6d6b4eed8343ca18cba48ea5"
      ],
      "layout": "IPY_MODEL_fafb3443d6204f739effbd6b8cfba1c1"
     }
    },
    "3fcdcf4617a243f896710ab980cde015": {
     "model_module": "@jupyter-widgets/base",
     "model_name": "LayoutModel",
     "state": {
      "_model_module": "@jupyter-widgets/base",
      "_model_module_version": "1.2.0",
      "_model_name": "LayoutModel",
      "_view_count": null,
      "_view_module": "@jupyter-widgets/base",
      "_view_module_version": "1.2.0",
      "_view_name": "LayoutView",
      "align_content": null,
      "align_items": null,
      "align_self": null,
      "border": null,
      "bottom": null,
      "display": null,
      "flex": null,
      "flex_flow": null,
      "grid_area": null,
      "grid_auto_columns": null,
      "grid_auto_flow": null,
      "grid_auto_rows": null,
      "grid_column": null,
      "grid_gap": null,
      "grid_row": null,
      "grid_template_areas": null,
      "grid_template_columns": null,
      "grid_template_rows": null,
      "height": null,
      "justify_content": null,
      "justify_items": null,
      "left": null,
      "margin": null,
      "max_height": null,
      "max_width": null,
      "min_height": null,
      "min_width": null,
      "object_fit": null,
      "object_position": null,
      "order": null,
      "overflow": null,
      "overflow_x": null,
      "overflow_y": null,
      "padding": null,
      "right": null,
      "top": null,
      "visibility": null,
      "width": null
     }
    },
    "8565ee4dfe724126ab88ed6fe33edc73": {
     "model_module": "@jupyter-widgets/controls",
     "model_name": "DescriptionStyleModel",
     "state": {
      "_model_module": "@jupyter-widgets/controls",
      "_model_module_version": "1.5.0",
      "_model_name": "DescriptionStyleModel",
      "_view_count": null,
      "_view_module": "@jupyter-widgets/base",
      "_view_module_version": "1.2.0",
      "_view_name": "StyleView",
      "description_width": ""
     }
    },
    "caf51030896d475aad0f611320522a96": {
     "model_module": "@jupyter-widgets/controls",
     "model_name": "FloatProgressModel",
     "state": {
      "_dom_classes": [],
      "_model_module": "@jupyter-widgets/controls",
      "_model_module_version": "1.5.0",
      "_model_name": "FloatProgressModel",
      "_view_count": null,
      "_view_module": "@jupyter-widgets/controls",
      "_view_module_version": "1.5.0",
      "_view_name": "ProgressView",
      "bar_style": "success",
      "description": "100%",
      "description_tooltip": null,
      "layout": "IPY_MODEL_03fe61df2bad4de0b68b1822e5a78292",
      "max": 180,
      "min": 0,
      "orientation": "horizontal",
      "style": "IPY_MODEL_11c9e014ff80474894c00ff4056ecf98",
      "value": 180
     }
    },
    "ea47e67c6d6b4eed8343ca18cba48ea5": {
     "model_module": "@jupyter-widgets/controls",
     "model_name": "HTMLModel",
     "state": {
      "_dom_classes": [],
      "_model_module": "@jupyter-widgets/controls",
      "_model_module_version": "1.5.0",
      "_model_name": "HTMLModel",
      "_view_count": null,
      "_view_module": "@jupyter-widgets/controls",
      "_view_module_version": "1.5.0",
      "_view_name": "HTMLView",
      "description": "",
      "description_tooltip": null,
      "layout": "IPY_MODEL_3fcdcf4617a243f896710ab980cde015",
      "placeholder": "​",
      "style": "IPY_MODEL_8565ee4dfe724126ab88ed6fe33edc73",
      "value": " 180/180 [09:04&lt;00:00,  3.02s/it]"
     }
    },
    "fafb3443d6204f739effbd6b8cfba1c1": {
     "model_module": "@jupyter-widgets/base",
     "model_name": "LayoutModel",
     "state": {
      "_model_module": "@jupyter-widgets/base",
      "_model_module_version": "1.2.0",
      "_model_name": "LayoutModel",
      "_view_count": null,
      "_view_module": "@jupyter-widgets/base",
      "_view_module_version": "1.2.0",
      "_view_name": "LayoutView",
      "align_content": null,
      "align_items": null,
      "align_self": null,
      "border": null,
      "bottom": null,
      "display": null,
      "flex": null,
      "flex_flow": null,
      "grid_area": null,
      "grid_auto_columns": null,
      "grid_auto_flow": null,
      "grid_auto_rows": null,
      "grid_column": null,
      "grid_gap": null,
      "grid_row": null,
      "grid_template_areas": null,
      "grid_template_columns": null,
      "grid_template_rows": null,
      "height": null,
      "justify_content": null,
      "justify_items": null,
      "left": null,
      "margin": null,
      "max_height": null,
      "max_width": null,
      "min_height": null,
      "min_width": null,
      "object_fit": null,
      "object_position": null,
      "order": null,
      "overflow": null,
      "overflow_x": null,
      "overflow_y": null,
      "padding": null,
      "right": null,
      "top": null,
      "visibility": null,
      "width": null
     }
    }
   }
  }
 },
 "nbformat": 4,
 "nbformat_minor": 1
}
