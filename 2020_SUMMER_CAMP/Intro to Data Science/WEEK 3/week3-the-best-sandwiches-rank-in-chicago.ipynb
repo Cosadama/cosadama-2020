{
 "cells": [
  {
   "cell_type": "markdown",
   "metadata": {},
   "source": [
    "# 🦉COSADAMA Introduction to Data Science Study\n",
    "일자: 2020-07-28   \n",
    "작성자: 김가윤   \n",
    "참고자료: 파이썬으로 데이터 주무르기(민형기), 점프 투 파이썬(박응용), 파이썬 입문과 크롤링 기초 부트캠프(잔재미코딩), COSADAMA Spring Rush Introduction to Data Science(박하람)   \n",
    "교재: 139 - 158쪽 (깃헙 교안으로 공부하면서, 궁금한 부분은 교재를 참고하세요. 혹은 깃헙 교안을 다 보고 교재를 복습 겸 읽어봐도 됩니다!)   \n",
    "학습키워드: 웹크롤링, Folium, tqdm\n",
    "\n",
    "## [프로젝트] 시카고 샌드위치 맛집 분석"
   ]
  },
  {
   "cell_type": "markdown",
   "metadata": {},
   "source": [
    "* 학습목표\n",
    "    1. 지난 시간에 배운 HTML/CSS 지식, 정규 표현식, BeautifulSoup과 urllib 등을 활용해 시카고 샌드위치 맛집 분석을 해봅니다.\n",
    "    2. 샌드위치 맛집의 이름, 샌드위치 이름, 가게의 주소 등의 정보를 얻고, 주소로 Google Maps를 이용해 위도와 경도를 찾아주는 Folium으로 시각화 해봅니다. \n",
    "    3. 더불어 웹 크롤링을 하여 정보를 가져올 때에는 꽤 시간이 걸리기 때문에 걸리는 시간을 시각화 해 알려주는 tqdm 모듈도 사용해봅니다.\n",
    "    \n",
    "그럼 시작해볼까요~? 🥪"
   ]
  },
  {
   "cell_type": "markdown",
   "metadata": {},
   "source": [
    "## 1. urllib과 BeautifulSoup으로 사이트에 접근하기   \n",
    "urllib과 BeautifulSoup으로 시카고 샌드위치 맛집 랭킹을 알려주는 사이트를 불러와 볼게요. 여기에서는 가게이름, 가게 메인 메뉴, 각 가게 소개 페이지를 가져와 볼거에요. 우선 필요한 모듈들을 모두 import 해봅시다."
   ]
  },
  {
   "cell_type": "code",
   "execution_count": 1,
   "metadata": {},
   "outputs": [],
   "source": [
    "from urllib.request import urlopen \n",
    "from bs4 import BeautifulSoup"
   ]
  },
  {
   "cell_type": "markdown",
   "metadata": {},
   "source": [
    "* [시카고 샌드위치 맛집 사이트](https://www.chicagomag.com/Chicago-Magazine/November-2012/Best-Sandwiches-Chicago/)"
   ]
  },
  {
   "cell_type": "markdown",
   "metadata": {},
   "source": [
    "교재에서는 url을 두 부분으로 나누어 놓았어요. 지금은 url이 너무 길어서 나누어 놓은 것이지만, 이렇게 쪼개는 방식은 후에 상대경로를 절대경로로 바꾸기 위해서 알아두어야 할 필요가 있습니다.\n",
    "* [절대경로 & 상대경로](http://jaguarkim2108.blogspot.com/2014/04/html_9450.html) 개념만 여기서 살짝 이해하고 다음 순서에 본격적으로 알아볼게요.\n",
    "\n",
    "이후에 html을 읽어와 보기로 해요."
   ]
  },
  {
   "cell_type": "code",
   "execution_count": 2,
   "metadata": {},
   "outputs": [],
   "source": [
    "url_base = 'https://www.chicagomag.com'\n",
    "url_sub = '/Chicago-Magazine/November-2012/Best-Sandwiches-Chicago/'\n",
    "url = url_base + url_sub\n",
    "html = urlopen(url)\n",
    "\n",
    "soup = BeautifulSoup(html, 'html.parser')\n",
    "# soup"
   ]
  },
  {
   "cell_type": "markdown",
   "metadata": {},
   "source": [
    "그 다음 크롬의 개발자 도구를 확인해 우선 1위의 BLT와 다른 정보들이 담겨있는 태그와 클라스가 무엇인지 확인해봅니다. div 태그에 class는 sammy네요. find_all을 사용해 가져와볼게요."
   ]
  },
  {
   "cell_type": "code",
   "execution_count": 3,
   "metadata": {},
   "outputs": [
    {
     "name": "stdout",
     "output_type": "stream",
     "text": [
      "[<div class=\"sammy\" style=\"position: relative;\">\n",
      "<div class=\"sammyRank\">1</div>\n",
      "<div class=\"sammyListing\"><a href=\"/Chicago-Magazine/November-2012/Best-Sandwiches-in-Chicago-Old-Oak-Tap-BLT/\"><b>BLT</b><br>\r\n",
      "Old Oak Tap<br>\n",
      "<em>Read more</em> </br></br></a></div>\n",
      "</div>, <div class=\"sammy\" style=\"position: relative;\">\n",
      "<div class=\"sammyRank\">2</div>\n",
      "<div class=\"sammyListing\"><a href=\"/Chicago-Magazine/November-2012/Best-Sandwiches-in-Chicago-Au-Cheval-Fried-Bologna/\"><b>Fried Bologna</b><br/>\r\n",
      "Au Cheval<br/>\n",
      "<em>Read more</em> </a></div>\n",
      "</div>, <div class=\"sammy\" style=\"position: relative;\">\n",
      "<div class=\"sammyRank\">3</div>\n",
      "<div class=\"sammyListing\"><a href=\"/Chicago-Magazine/November-2012/Best-Sandwiches-in-Chicago-Xoco-Woodland-Mushroom/\"><b>Woodland Mushroom</b><br/>\r\n",
      "Xoco<br/>\n",
      "<em>Read more</em> </a></div>\n",
      "</div>, <div class=\"sammy\" style=\"position: relative;\">\n",
      "<div class=\"sammyRank\">4</div>\n",
      "<div class=\"sammyListing\"><a href=\"/Chicago-Magazine/November-2012/Best-Sandwiches-in-Chicago-Als-Deli-Roast-Beef/\"><b>Roast Beef</b><br/>\r\n",
      "Al’s Deli<br/>\n",
      "<em>Read more</em> </a></div>\n",
      "</div>, <div class=\"sammy\" style=\"position: relative;\">\n",
      "<div class=\"sammyRank\">5</div>\n",
      "<div class=\"sammyListing\"><a href=\"/Chicago-Magazine/November-2012/Best-Sandwiches-in-Chicago-Publican-Quality-Meats-PB-L/\"><b>PB&amp;L</b><br/>\r\n",
      "Publican Quality Meats<br/>\n",
      "<em>Read more</em> </a></div>\n",
      "</div>, <div class=\"sammy\" style=\"position: relative;\">\n",
      "<div class=\"sammyRank\">6</div>\n",
      "<div class=\"sammyListing\"><a href=\"http://www.chicagomag.com/Chicago-Magazine/November-2012/Best-Sandwiches-in-Chicago-Hendrickx-Belgian-Bread-Crafter-Belgian-Chicken-Curry-Salad/\"><b>Belgian Chicken Curry Salad</b><br/>\r\n",
      "Hendrickx Belgian Bread Crafter<br/>\n",
      "<em>Read more</em> </a></div>\n",
      "</div>, <div class=\"sammy\" style=\"position: relative;\">\n",
      "<div class=\"sammyRank\">7</div>\n",
      "<div class=\"sammyListing\"><a href=\"/Chicago-Magazine/November-2012/Best-Sandwiches-in-Chicago-Acadia-Lobster-Roll/\"><b>Lobster Roll</b><br/>\r\n",
      "Acadia<br/>\n",
      "<em>Read more</em> </a></div>\n",
      "</div>, <div class=\"sammy\" style=\"position: relative;\">\n",
      "<div class=\"sammyRank\">8</div>\n",
      "<div class=\"sammyListing\"><a href=\"/Chicago-Magazine/November-2012/Best-Sandwiches-in-Chicago-Birchwood-Kitchen-Smoked-Salmon-Salad/\"><b>Smoked Salmon Salad</b><br/>\r\n",
      "Birchwood Kitchen<br/>\n",
      "<em>Read more</em> </a></div>\n",
      "</div>, <div class=\"sammy\" style=\"position: relative;\">\n",
      "<div class=\"sammyRank\">9</div>\n",
      "<div class=\"sammyListing\"><a href=\"/Chicago-Magazine/November-2012/Best-Sandwiches-in-Chicago-Cemitas-Puebla-Atomica-Cemitas/\"><b>Atomica Cemitas</b><br/>\r\n",
      "Cemitas Puebla<br/>\n",
      "<em>Read more</em> </a></div>\n",
      "</div>, <div class=\"sammy\" style=\"position: relative;\">\n",
      "<div class=\"sammyRank\">10</div>\n",
      "<div class=\"sammyListing\"><a href=\"/Chicago-Magazine/November-2012/Best-Sandwiches-in-Chicago-Nana-Grilled-Laughing-Bird-Shrimp-and-Fried-Oyster-Po-Boy/\"><b>Grilled Laughing Bird Shrimp and Fried Po’ Boy</b><br/>\r\n",
      "Nana<br/>\n",
      "<em>Read more</em> </a></div>\n",
      "</div>, <div class=\"sammy\" style=\"position: relative;\">\n",
      "<div class=\"sammyRank\">11</div>\n",
      "<div class=\"sammyListing\"><a href=\"http://www.chicagomag.com/Chicago-Magazine/November-2012/Best-Sandwiches-in-Chicago-Lula-Cafe-Ham-and-Raclette-Panino/\"><b>Ham and Raclette Panino</b><br/>\r\n",
      "Lula Cafe<br/>\n",
      "<em>Read more</em> </a></div>\n",
      "</div>, <div class=\"sammy\" style=\"position: relative;\">\n",
      "<div class=\"sammyRank\">12</div>\n",
      "<div class=\"sammyListing\"><a href=\"http://www.chicagomag.com/Chicago-Magazine/November-2012/Best-Sandwiches-in-Chicago-Ricobenes-Breaded-Steak/\"><b>Breaded Steak</b><br/>\r\n",
      "Ricobene’s<br/>\n",
      "<em>Read more</em> </a></div>\n",
      "</div>, <div class=\"sammy\" style=\"position: relative;\">\n",
      "<div class=\"sammyRank\">13</div>\n",
      "<div class=\"sammyListing\"><a href=\"http://www.chicagomag.com/Chicago-Magazine/November-2012/Best-Sandwiches-in-Chicago-Frog-n-Snail-The-Hawkeye/\"><b>The Hawkeye</b><br/>\r\n",
      "Frog n Snail<br/>\n",
      "<em>Read more</em> </a></div>\n",
      "</div>, <div class=\"sammy\" style=\"position: relative;\">\n",
      "<div class=\"sammyRank\">14</div>\n",
      "<div class=\"sammyListing\"><a href=\"http://www.chicagomag.com/Chicago-Magazine/November-2012/Best-Sandwiches-in-Chicago-Crosbys-Kitchen-Chicken-Dip/\"><b>Chicken Dip</b><br/>\r\n",
      "Crosby’s Kitchen<br/>\n",
      "<em>Read more</em> </a></div>\n",
      "</div>, <div class=\"sammy\" style=\"position: relative;\">\n",
      "<div class=\"sammyRank\">15</div>\n",
      "<div class=\"sammyListing\"><a href=\"http://www.chicagomag.com/Chicago-Magazine/November-2012/Best-Sandwiches-in-Chicago-Longman-and-Eagle-Wild-Boar-Sloppy-Joe/\"><b>Wild Boar Sloppy Joe</b><br/>\r\n",
      "Longman &amp; Eagle<br/>\n",
      "<em>Read more</em> </a></div>\n",
      "</div>, <div class=\"sammy\" style=\"position: relative;\">\n",
      "<div class=\"sammyRank\">16</div>\n",
      "<div class=\"sammyListing\"><a href=\"http://www.chicagomag.com/Chicago-Magazine/November-2012/Best-Sandwiches-in-Chicago-Bari-Meatball-Sub/\"><b>Meatball Sub</b><br/>\r\n",
      "Bari<br/>\n",
      "<em>Read more</em> </a></div>\n",
      "</div>, <div class=\"sammy\" style=\"position: relative;\">\n",
      "<div class=\"sammyRank\">17</div>\n",
      "<div class=\"sammyListing\"><a href=\"http://www.chicagomag.com/Chicago-Magazine/November-2012/Best-Sandwiches-in-Chicago-Mannys-Corned-Beef/\"><b>Corned Beef</b><br/>\r\n",
      "Manny’s<br/>\n",
      "<em>Read more</em> </a></div>\n",
      "</div>, <div class=\"sammy\" style=\"position: relative;\">\n",
      "<div class=\"sammyRank\">18</div>\n",
      "<div class=\"sammyListing\"><a href=\"http://www.chicagomag.com/Chicago-Magazine/November-2012/Best-Sandwiches-in-Chicago-Eggys-Turkey-Club/\"><b>Turkey Club</b><br/>\r\n",
      "Eggy’s<br/>\n",
      "<em>Read more</em> </a></div>\n",
      "</div>, <div class=\"sammy\" style=\"position: relative;\">\n",
      "<div class=\"sammyRank\">19</div>\n",
      "<div class=\"sammyListing\"><a href=\"http://www.chicagomag.com/Chicago-Magazine/November-2012/Best-Sandwiches-in-Chicago-Old-Jerusalem-Falafel/\"><b>Falafel</b><br/>\r\n",
      "Old Jerusalem<br/>\n",
      "<em>Read more</em> </a></div>\n",
      "</div>, <div class=\"sammy\" style=\"position: relative;\">\n",
      "<div class=\"sammyRank\">20</div>\n",
      "<div class=\"sammyListing\"><a href=\"http://www.chicagomag.com/Chicago-Magazine/November-2012/Best-Sandwiches-in-Chicago-Mindys-HotChocolate-Crab-Cake/\"><b>Crab Cake</b><br/>\r\n",
      "Mindy’s HotChocolate<br/>\n",
      "<em>Read more</em> </a></div>\n",
      "</div>, <div class=\"sammy\" style=\"position: relative;\">\n",
      "<div class=\"sammyRank\">21</div>\n",
      "<div class=\"sammyListing\"><a href=\"http://www.chicagomag.com/Chicago-Magazine/November-2012/Best-Sandwiches-in-Chicago-Olgas-Delicatessen-Chicken-Schnitzel/\"><b>Chicken Schnitzel</b><br/>\r\n",
      "Olga’s Delicatessen<br/>\n",
      "<em>Read more</em> </a></div>\n",
      "</div>, <div class=\"sammy\" style=\"position: relative;\">\n",
      "<div class=\"sammyRank\">22</div>\n",
      "<div class=\"sammyListing\"><a href=\"http://www.chicagomag.com/Chicago-Magazine/November-2012/Best-Sandwiches-in-Chicago-Dawali-Mediterranean-Kitchen-Shawarma/\"><b>Shawarma</b><br/>\r\n",
      "Dawali Mediterranean Kitchen<br/>\n",
      "<em>Read more</em> </a></div>\n",
      "</div>, <div class=\"sammy\" style=\"position: relative;\">\n",
      "<div class=\"sammyRank\">23</div>\n",
      "<div class=\"sammyListing\"><a href=\"http://www.chicagomag.com/Chicago-Magazine/November-2012/Best-Sandwiches-in-Chicago-Big-Jones-Toasted-Pimiento-Cheese/\"><b>Toasted Pimiento Cheese</b><br/>\r\n",
      "Big Jones<br/>\n",
      "<em>Read more</em> </a></div>\n",
      "</div>, <div class=\"sammy\" style=\"position: relative;\">\n",
      "<div class=\"sammyRank\">24</div>\n",
      "<div class=\"sammyListing\"><a href=\"http://www.chicagomag.com/Chicago-Magazine/November-2012/Best-Sandwiches-in-Chicago-La-Pane-Vegetarian-Panino/\"><b>Vegetarian Panino</b><br/>\r\n",
      "La Pane<br/>\n",
      "<em>Read more</em> </a></div>\n",
      "</div>, <div class=\"sammy\" style=\"position: relative;\">\n",
      "<div class=\"sammyRank\">25</div>\n",
      "<div class=\"sammyListing\"><a href=\"/Chicago-Magazine/November-2012/Best-Sandwiches-in-Chicago-Pastoral-Cali-Chevre/\"><b>Cali Chèvre</b><br/>\r\n",
      "Pastoral<br/>\n",
      "<em>Read more</em> </a></div>\n",
      "</div>, <div class=\"sammy\" style=\"position: relative;\">\n",
      "<div class=\"sammyRank\">26</div>\n",
      "<div class=\"sammyListing\"><a href=\"http://www.chicagomag.com/Chicago-Magazine/November-2012/Best-Sandwiches-in-Chicago-Maxs-Deli-Pastrami/\"><b>Pastrami</b><br/>\r\n",
      "Max’s Deli<br/>\n",
      "<em>Read more</em> </a></div>\n",
      "</div>, <div class=\"sammy\" style=\"position: relative;\">\n",
      "<div class=\"sammyRank\">27</div>\n",
      "<div class=\"sammyListing\"><a href=\"http://www.chicagomag.com/Chicago-Magazine/November-2012/Best-Sandwiches-in-Chicago-Luckys-Sandwich-Co-The-Fredo/\"><b>The Fredo</b><br/>\r\n",
      "Lucky’s Sandwich Co.<br/>\n",
      "<em>Read more</em> </a></div>\n",
      "</div>, <div class=\"sammy\" style=\"position: relative;\">\n",
      "<div class=\"sammyRank\">28</div>\n",
      "<div class=\"sammyListing\"><a href=\"http://www.chicagomag.com/Chicago-Magazine/November-2012/Best-Sandwiches-in-Chicago-City-Provisions-Smoked-Ham/\"><b>Smoked Ham</b><br/>\r\n",
      "City Provisions<br/>\n",
      "<em>Read more</em> </a></div>\n",
      "</div>, <div class=\"sammy\" style=\"position: relative;\">\n",
      "<div class=\"sammyRank\">29</div>\n",
      "<div class=\"sammyListing\"><a href=\"http://www.chicagomag.com/Chicago-Magazine/November-2012/Best-Sandwiches-in-Chicago-Papas-Cache-Sabroso-Jibarito/\"><b>Jibarito</b><br/>\r\n",
      "Papa’s Cache Sabroso<br/>\n",
      "<em>Read more</em> </a></div>\n",
      "</div>, <div class=\"sammy\" style=\"position: relative;\">\n",
      "<div class=\"sammyRank\">30</div>\n",
      "<div class=\"sammyListing\"><a href=\"http://www.chicagomag.com/Chicago-Magazine/November-2012/Best-Sandwiches-in-Chicago-Bavettes-Bar-and-Boeuf-Shaved-Prime-Rib/\"><b>Shaved Prime Rib</b><br/>\r\n",
      "Bavette’s Bar &amp; Boeuf<br/>\n",
      "<em>Read more</em> </a></div>\n",
      "</div>, <div class=\"sammy\" style=\"position: relative;\">\n",
      "<div class=\"sammyRank\">31</div>\n",
      "<div class=\"sammyListing\"><a href=\"http://www.chicagomag.com/Chicago-Magazine/November-2012/Best-Sandwiches-in-Chicago-Hannahs-Bretzel-Serrano-Ham-and-Manchego-Cheese/\"><b>Serrano Ham and Manchego Cheese</b><br/>\r\n",
      "Hannah’s Bretzel<br/>\n",
      "<em>Read more</em> </a></div>\n",
      "</div>, <div class=\"sammy\" style=\"position: relative;\">\n",
      "<div class=\"sammyRank\">32</div>\n",
      "<div class=\"sammyListing\"><a href=\"http://www.chicagomag.com/Chicago-Magazine/November-2012/Best-Sandwiches-in-Chicago-La-Fournette-Tuna-Salad/\"><b>Tuna Salad</b><br/>\r\n",
      "La Fournette<br/>\n",
      "<em>Read more</em> </a></div>\n",
      "</div>, <div class=\"sammy\" style=\"position: relative;\">\n",
      "<div class=\"sammyRank\">33</div>\n",
      "<div class=\"sammyListing\"><a href=\"http://www.chicagomag.com/Chicago-Magazine/November-2012/Best-Sandwiches-in-Chicago-Paramount-Room-Paramount-Reuben/\"><b>Paramount Reuben</b><br/>\r\n",
      "Paramount Room<br/>\n",
      "<em>Read more</em> </a></div>\n",
      "</div>, <div class=\"sammy\" style=\"position: relative;\">\n",
      "<div class=\"sammyRank\">34</div>\n",
      "<div class=\"sammyListing\"><a href=\"http://www.chicagomag.com/Chicago-Magazine/November-2012/Best-Sandwiches-in-Chicago-Melt-Sandwich-Shoppe-The-Istanbul/\"><b>The Istanbul</b><br/>\r\n",
      "Melt Sandwich Shoppe<br/>\n",
      "<em>Read more</em> </a></div>\n",
      "</div>, <div class=\"sammy\" style=\"position: relative;\">\n",
      "<div class=\"sammyRank\">35</div>\n",
      "<div class=\"sammyListing\"><a href=\"http://www.chicagomag.com/Chicago-Magazine/November-2012/Best-Sandwiches-in-Chicago-Floriole-Cafe-and-Bakery-BAD/\"><b>B.A.D.</b><br/>\r\n",
      "Floriole Cafe &amp; Bakery<br/>\n",
      "<em>Read more</em> </a></div>\n",
      "</div>, <div class=\"sammy\" style=\"position: relative;\">\n",
      "<div class=\"sammyRank\">36</div>\n",
      "<div class=\"sammyListing\"><a href=\"http://www.chicagomag.com/Chicago-Magazine/November-2012/Best-Sandwiches-in-Chicago-First-Slice-Pie-Cafe-Duck-Confit-and-Mozzarella/\"><b>Duck Confit and Mozzarella</b><br/>\r\n",
      "First Slice Pie Café<br/>\n",
      "<em>Read more</em> </a></div>\n",
      "</div>, <div class=\"sammy\" style=\"position: relative;\">\n",
      "<div class=\"sammyRank\">37</div>\n",
      "<div class=\"sammyListing\"><a href=\"http://www.chicagomag.com/Chicago-Magazine/November-2012/Best-Sandwiches-in-Chicago-Troquet-Croque-Monsieur/\"><b>Croque Monsieur</b><br/>\r\n",
      "Troquet<br/>\n",
      "<em>Read more</em> </a></div>\n",
      "</div>, <div class=\"sammy\" style=\"position: relative;\">\n",
      "<div class=\"sammyRank\">38</div>\n",
      "<div class=\"sammyListing\"><a href=\"http://www.chicagomag.com/Chicago-Magazine/November-2012/Best-Sandwiches-in-Chicago-Grahamwich-Green-Garbanzo/\"><b>Green Garbanzo</b><br/>\r\n",
      "Grahamwich<br/>\n",
      "<em>Read more</em> </a></div>\n",
      "</div>, <div class=\"sammy\" style=\"position: relative;\">\n",
      "<div class=\"sammyRank\">39</div>\n",
      "<div class=\"sammyListing\"><a href=\"http://www.chicagomag.com/Chicago-Magazine/November-2012/Best-Sandwiches-in-Chicago-Saigon-Sisters-The-Hen-House/\"><b>The Hen House</b><br/>\r\n",
      "Saigon Sisters<br/>\n",
      "<em>Read more</em> </a></div>\n",
      "</div>, <div class=\"sammy\" style=\"position: relative;\">\n",
      "<div class=\"sammyRank\">40</div>\n",
      "<div class=\"sammyListing\"><a href=\"http://www.chicagomag.com/Chicago-Magazine/November-2012/Best-Sandwiches-in-Chicago-Rosalias-Deli-Tuscan-Chicken/\"><b>Tuscan Chicken</b><br/>\r\n",
      "Rosalia’s Deli<br/>\n",
      "<em>Read more</em> </a></div>\n",
      "</div>, <div class=\"sammy\" style=\"position: relative;\">\n",
      "<div class=\"sammyRank\">41</div>\n",
      "<div class=\"sammyListing\"><a href=\"http://www.chicagomag.com/Chicago-Magazine/November-2012/Best-Sandwiches-in-Chicago-Z-and-H-MarketCafe-The-Marty/\"><b>The Marty </b><br/>\r\n",
      "Z&amp;H MarketCafe<br/>\n",
      "<em>Read more</em> </a></div>\n",
      "</div>, <div class=\"sammy\" style=\"position: relative;\">\n",
      "<div class=\"sammyRank\">42</div>\n",
      "<div class=\"sammyListing\"><a href=\"http://www.chicagomag.com/Chicago-Magazine/November-2012/Best-Sandwiches-in-Chicago-Market-House-on-the-Square-Whitefish/\"><b>Whitefish</b><br/>\r\n",
      "Market House on the Square<br/>\n",
      "<em>Read more</em> </a></div>\n",
      "</div>, <div class=\"sammy\" style=\"position: relative;\">\n",
      "<div class=\"sammyRank\">43</div>\n",
      "<div class=\"sammyListing\"><a href=\"http://www.chicagomag.com/Chicago-Magazine/November-2012/Best-Sandwiches-in-Chicago-Elaines-Coffee-Call-Oat-Bread-Pecan-Butter-and-Fruit-Jam/\"><b>Oat Bread, Pecan Butter, and Fruit Jam</b><br/>\r\n",
      "Elaine’s Coffee Call<br/>\n",
      "<em>Read more</em> </a></div>\n",
      "</div>, <div class=\"sammy\" style=\"position: relative;\">\n",
      "<div class=\"sammyRank\">44</div>\n",
      "<div class=\"sammyListing\"><a href=\"http://www.chicagomag.com/Chicago-Magazine/November-2012/Best-Sandwiches-in-Chicago-Marion-Street-Cheese-Market-Cauliflower-Melt/\"><b>Cauliflower Melt</b><br/>\r\n",
      "Marion Street Cheese Market<br/>\n",
      "<em>Read more</em> </a></div>\n",
      "</div>, <div class=\"sammy\" style=\"position: relative;\">\n",
      "<div class=\"sammyRank\">45</div>\n",
      "<div class=\"sammyListing\"><a href=\"http://www.chicagomag.com/Chicago-Magazine/November-2012/Best-Sandwiches-in-Chicago-Cafecito-Cubano/\"><b>Cubana</b><br/>\r\n",
      "Cafecito<br/>\n",
      "<em>Read more</em> </a></div>\n",
      "</div>, <div class=\"sammy\" style=\"position: relative;\">\n",
      "<div class=\"sammyRank\">46</div>\n",
      "<div class=\"sammyListing\"><a href=\"http://www.chicagomag.com/Chicago-Magazine/November-2012/Best-Sandwiches-in-Chicago-Chickpea-Kufta/\"><b>Kufta</b><br/>\r\n",
      "Chickpea<br/>\n",
      "<em>Read more</em> </a></div>\n",
      "</div>, <div class=\"sammy\" style=\"position: relative;\">\n",
      "<div class=\"sammyRank\">47</div>\n",
      "<div class=\"sammyListing\"><a href=\"http://www.chicagomag.com/Chicago-Magazine/November-2012/Best-Sandwiches-in-Chicago-The-Goddess-and-Grocer-Debbies-Egg-Salad/\"><b>Debbie’s Egg Salad</b><br/>\r\n",
      "The Goddess and Grocer<br/>\n",
      "<em>Read more</em> </a></div>\n",
      "</div>, <div class=\"sammy\" style=\"position: relative;\">\n",
      "<div class=\"sammyRank\">48</div>\n",
      "<div class=\"sammyListing\"><a href=\"http://www.chicagomag.com/Chicago-Magazine/November-2012/Best-Sandwiches-in-Chicago-Zenwich-Beef-Curry/\"><b>Beef Curry</b><br/>\r\n",
      "Zenwich<br/>\n",
      "<em>Read more</em> </a></div>\n",
      "</div>, <div class=\"sammy\" style=\"position: relative;\">\n",
      "<div class=\"sammyRank\">49</div>\n",
      "<div class=\"sammyListing\"><a href=\"http://www.chicagomag.com/Chicago-Magazine/November-2012/Best-Sandwiches-in-Chicago-Toni-Patisserie-Le-Vegetarien/\"><b>Le Végétarien</b><br/>\r\n",
      "Toni Patisserie<br/>\n",
      "<em>Read more</em> </a></div>\n",
      "</div>, <div class=\"sammy\" style=\"position: relative; border-bottom: 0\">\n",
      "<div class=\"sammyRank\">50</div>\n",
      "<div class=\"sammyListing\"><a href=\"http://www.chicagomag.com/Chicago-Magazine/November-2012/Best-Sandwiches-in-Chicago-Phoebes-Bakery-The-Gatsby/\"><b>The Gatsby</b><br/>\r\n",
      "Phoebe’s Bakery<br/>\n",
      "<em>Read more</em> </a></div>\n",
      "</div>]\n"
     ]
    }
   ],
   "source": [
    "print(soup.find_all('div', class_='sammy'))"
   ]
  },
  {
   "cell_type": "markdown",
   "metadata": {},
   "source": [
    "잘 불러와졌네요! 1) 샌드위치 이름 2) 샌드위치 가게 이름 3) 사이트 주소 4) 랭킹까지 모두 들어있죠? 그런데 너무 다양하게 많이 적혀져 있으니, 이름만 우선 get_text()로 모두 가져와 볼게요. for문으로 이를 출력해보겠습니다. len()을 사용해 정확히 50개가 맞는지도 살펴보구요."
   ]
  },
  {
   "cell_type": "code",
   "execution_count": 4,
   "metadata": {},
   "outputs": [
    {
     "data": {
      "text/plain": [
       "50"
      ]
     },
     "execution_count": 4,
     "metadata": {},
     "output_type": "execute_result"
    }
   ],
   "source": [
    "len(soup.find_all('div', class_='sammy'))"
   ]
  },
  {
   "cell_type": "code",
   "execution_count": 5,
   "metadata": {},
   "outputs": [
    {
     "data": {
      "text/plain": [
       "<div class=\"sammy\" style=\"position: relative;\">\n",
       "<div class=\"sammyRank\">1</div>\n",
       "<div class=\"sammyListing\"><a href=\"/Chicago-Magazine/November-2012/Best-Sandwiches-in-Chicago-Old-Oak-Tap-BLT/\"><b>BLT</b><br>\n",
       "Old Oak Tap<br>\n",
       "<em>Read more</em> </br></br></a></div>\n",
       "</div>"
      ]
     },
     "execution_count": 5,
     "metadata": {},
     "output_type": "execute_result"
    }
   ],
   "source": [
    "tmp = soup.find_all('div', class_='sammy')[0] # temporary\n",
    "tmp"
   ]
  },
  {
   "cell_type": "markdown",
   "metadata": {},
   "source": [
    "리스트 형태에서 가장 첫번째 것을 가져왔더니 저희가 보려고 하는 내용들이 다 들어가 있네요. 이제 내용만 쏙쏙 뽑아볼게요."
   ]
  },
  {
   "cell_type": "markdown",
   "metadata": {},
   "source": [
    "## 2. 접근한 웹 페이지에서 원하는 데이터 추출하고 정리하기"
   ]
  },
  {
   "cell_type": "code",
   "execution_count": 6,
   "metadata": {},
   "outputs": [
    {
     "data": {
      "text/plain": [
       "bs4.element.Tag"
      ]
     },
     "execution_count": 6,
     "metadata": {},
     "output_type": "execute_result"
    }
   ],
   "source": [
    "tmp = soup.find_all('div', class_='sammy')[0] # temporary, 아까 출력해본 리스트의 첫번째 내용\n",
    "type(tmp) # type을 알려줘"
   ]
  },
  {
   "cell_type": "markdown",
   "metadata": {},
   "source": [
    "find_all로 찾은 결과는 위처럼 bs4.element.Tag 형태의 경우 그 변수에 다시 태그로 찾는 (find, find_all) 명령을 사용할 수 있어요.   \n",
    "리스트 전체에 적용할 경우(tmp = soup.find_all('div', class_'sammy'))엔 bs4.element.Resultset로 나와서 find를 적용시킬 수 없으니 조심!"
   ]
  },
  {
   "cell_type": "code",
   "execution_count": 7,
   "metadata": {},
   "outputs": [
    {
     "data": {
      "text/plain": [
       "<div class=\"sammyRank\">1</div>"
      ]
     },
     "execution_count": 7,
     "metadata": {},
     "output_type": "execute_result"
    }
   ],
   "source": [
    "tmp.find(class_='sammyRank')"
   ]
  },
  {
   "cell_type": "markdown",
   "metadata": {},
   "source": [
    "여기서 내용인 Rank만 가져오려면 어떻게 해야할까요? 지난 시간에 배웠죠!   \n",
    "바로 `get_text()`~! 바로 적용해볼게요."
   ]
  },
  {
   "cell_type": "code",
   "execution_count": 8,
   "metadata": {},
   "outputs": [
    {
     "data": {
      "text/plain": [
       "'1'"
      ]
     },
     "execution_count": 8,
     "metadata": {},
     "output_type": "execute_result"
    }
   ],
   "source": [
    "tmp.find(class_='sammyRank').get_text()"
   ]
  },
  {
   "cell_type": "markdown",
   "metadata": {},
   "source": [
    "짠! 등수인 1만 가져왔죠? 가게 이름에도 적용해볼게요."
   ]
  },
  {
   "cell_type": "code",
   "execution_count": 9,
   "metadata": {},
   "outputs": [
    {
     "data": {
      "text/plain": [
       "'BLT\\r\\nOld Oak Tap\\nRead more '"
      ]
     },
     "execution_count": 9,
     "metadata": {},
     "output_type": "execute_result"
    }
   ],
   "source": [
    "tmp.find(class_='sammyListing').get_text()"
   ]
  },
  {
   "cell_type": "markdown",
   "metadata": {},
   "source": [
    "\\r\\n, \\n...이것을 제거해주려면 어떤 모듈을 불러야 할까요? 네 맞아요 re~ 🥰\n",
    "정규표현식을 사용해서 없애줘야 겠죠?"
   ]
  },
  {
   "cell_type": "code",
   "execution_count": 10,
   "metadata": {},
   "outputs": [
    {
     "data": {
      "text/plain": [
       "['BLT', 'Old Oak Tap', 'Read more ']"
      ]
     },
     "execution_count": 10,
     "metadata": {},
     "output_type": "execute_result"
    }
   ],
   "source": [
    "import re\n",
    "\n",
    "tmp_string = tmp.find(class_='sammyListing').get_text()\n",
    "\n",
    "re.split('\\r\\n|\\n', tmp_string) # |의 의미가 무엇일까요?"
   ]
  },
  {
   "cell_type": "code",
   "execution_count": 11,
   "metadata": {},
   "outputs": [
    {
     "data": {
      "text/plain": [
       "'BLT'"
      ]
     },
     "execution_count": 11,
     "metadata": {},
     "output_type": "execute_result"
    }
   ],
   "source": [
    "# 샌드위치 이름\n",
    "re.split('\\r\\n|\\n', tmp_string)[0]"
   ]
  },
  {
   "cell_type": "code",
   "execution_count": 12,
   "metadata": {},
   "outputs": [
    {
     "data": {
      "text/plain": [
       "'Old Oak Tap'"
      ]
     },
     "execution_count": 12,
     "metadata": {},
     "output_type": "execute_result"
    }
   ],
   "source": [
    "# 샌드위치 가게 이름\n",
    "re.split('\\r\\n|\\n', tmp_string)[1]"
   ]
  },
  {
   "cell_type": "markdown",
   "metadata": {},
   "source": [
    "split을 이용해 메뉴 이름과 가게 이름을 분리했어요.   \n",
    "\n",
    "#### 절대경로와 상대경로\n",
    "\n",
    "또 a 태그에서 href 정보를 가지고 클릭하면 연결될 주소도 저장할 수 있어요."
   ]
  },
  {
   "cell_type": "code",
   "execution_count": 13,
   "metadata": {},
   "outputs": [
    {
     "data": {
      "text/plain": [
       "'/Chicago-Magazine/November-2012/Best-Sandwiches-in-Chicago-Old-Oak-Tap-BLT/'"
      ]
     },
     "execution_count": 13,
     "metadata": {},
     "output_type": "execute_result"
    }
   ],
   "source": [
    "tmp.find('a')['href']"
   ]
  },
  {
   "cell_type": "markdown",
   "metadata": {},
   "source": [
    "전체 주소를 출력해서 확인해볼게요."
   ]
  },
  {
   "cell_type": "code",
   "execution_count": 14,
   "metadata": {},
   "outputs": [
    {
     "name": "stdout",
     "output_type": "stream",
     "text": [
      "/Chicago-Magazine/November-2012/Best-Sandwiches-in-Chicago-Old-Oak-Tap-BLT/\n",
      "/Chicago-Magazine/November-2012/Best-Sandwiches-in-Chicago-Au-Cheval-Fried-Bologna/\n",
      "/Chicago-Magazine/November-2012/Best-Sandwiches-in-Chicago-Xoco-Woodland-Mushroom/\n",
      "/Chicago-Magazine/November-2012/Best-Sandwiches-in-Chicago-Als-Deli-Roast-Beef/\n",
      "/Chicago-Magazine/November-2012/Best-Sandwiches-in-Chicago-Publican-Quality-Meats-PB-L/\n",
      "http://www.chicagomag.com/Chicago-Magazine/November-2012/Best-Sandwiches-in-Chicago-Hendrickx-Belgian-Bread-Crafter-Belgian-Chicken-Curry-Salad/\n",
      "/Chicago-Magazine/November-2012/Best-Sandwiches-in-Chicago-Acadia-Lobster-Roll/\n",
      "/Chicago-Magazine/November-2012/Best-Sandwiches-in-Chicago-Birchwood-Kitchen-Smoked-Salmon-Salad/\n",
      "/Chicago-Magazine/November-2012/Best-Sandwiches-in-Chicago-Cemitas-Puebla-Atomica-Cemitas/\n",
      "/Chicago-Magazine/November-2012/Best-Sandwiches-in-Chicago-Nana-Grilled-Laughing-Bird-Shrimp-and-Fried-Oyster-Po-Boy/\n",
      "http://www.chicagomag.com/Chicago-Magazine/November-2012/Best-Sandwiches-in-Chicago-Lula-Cafe-Ham-and-Raclette-Panino/\n",
      "http://www.chicagomag.com/Chicago-Magazine/November-2012/Best-Sandwiches-in-Chicago-Ricobenes-Breaded-Steak/\n",
      "http://www.chicagomag.com/Chicago-Magazine/November-2012/Best-Sandwiches-in-Chicago-Frog-n-Snail-The-Hawkeye/\n",
      "http://www.chicagomag.com/Chicago-Magazine/November-2012/Best-Sandwiches-in-Chicago-Crosbys-Kitchen-Chicken-Dip/\n",
      "http://www.chicagomag.com/Chicago-Magazine/November-2012/Best-Sandwiches-in-Chicago-Longman-and-Eagle-Wild-Boar-Sloppy-Joe/\n"
     ]
    }
   ],
   "source": [
    "add = soup.find_all('div', class_='sammy')\n",
    "for a in add[:15]:\n",
    "    print(a.find('a')['href'])"
   ]
  },
  {
   "cell_type": "markdown",
   "metadata": {},
   "source": [
    "흠...결과가 모두 똑같지 않네요. 아까 제가 말했던 절대경로, 상대경로 부분이 드디어 나왔어요! 하이퍼링크(파란 부분)은 전체 주소가 나와있는 절대 경로이고, 일부 주소만 나와있으면 상대 경로에요. 상대 경로를 이용해 바로 사이트를 열려면, 앞에 https://www.chicagomag.com 을 붙여주어야 합니다. 이때 절대 경로로 잡힌 url은 두고, 상대경로로 잡힌 url을 절대 경로로 바꿔줄 때 사용하는 것이 urllib에 있는 **urljoin** 이라는 명령이에요. "
   ]
  },
  {
   "cell_type": "markdown",
   "metadata": {},
   "source": [
    "* [urljoin](https://docs.python.org/3/library/urllib.parse.html)"
   ]
  },
  {
   "cell_type": "code",
   "execution_count": 15,
   "metadata": {},
   "outputs": [
    {
     "data": {
      "text/plain": [
       "'http://www.chicagomag.com/Chicago-Magazine/November-2012/Best-Sandwiches-in-Chicago-Longman-and-Eagle-Wild-Boar-Sloppy-Joe/'"
      ]
     },
     "execution_count": 15,
     "metadata": {},
     "output_type": "execute_result"
    }
   ],
   "source": [
    "from urllib.parse import urljoin\n",
    "\n",
    "urljoin('https://www.chicagomag.com', a.find('a')['href'])"
   ]
  },
  {
   "cell_type": "markdown",
   "metadata": {},
   "source": [
    "이렇게 말이죠 😎 이제 방법을 모두 알았으니 데이터를 모두 가져와볼게요."
   ]
  },
  {
   "cell_type": "code",
   "execution_count": 16,
   "metadata": {},
   "outputs": [],
   "source": [
    "rank = []\n",
    "main_menu = []\n",
    "cafe_name = []\n",
    "url_add =[]\n",
    "\n",
    "list_soup = soup.find_all('div', 'sammy')\n",
    "\n",
    "for item in list_soup:\n",
    "    rank.append(item.find(class_='sammyRank').get_text())\n",
    "    \n",
    "    tmp_string = item.find(class_='sammyListing').get_text()\n",
    "    \n",
    "    main_menu.append(re.split(('\\n|\\r\\n'), tmp_string)[0])\n",
    "    cafe_name.append(re.split(('\\n|\\r\\n'), tmp_string)[1])\n",
    "    \n",
    "    url_add.append(urljoin(url_base, item.find('a')['href']))"
   ]
  },
  {
   "cell_type": "markdown",
   "metadata": {},
   "source": [
    "결과가 잘 담겼는지 확인해볼까요?"
   ]
  },
  {
   "cell_type": "code",
   "execution_count": 17,
   "metadata": {},
   "outputs": [
    {
     "data": {
      "text/plain": [
       "['1', '2', '3', '4', '5', '6', '7', '8', '9', '10']"
      ]
     },
     "execution_count": 17,
     "metadata": {},
     "output_type": "execute_result"
    }
   ],
   "source": [
    "rank[:10]"
   ]
  },
  {
   "cell_type": "code",
   "execution_count": 18,
   "metadata": {},
   "outputs": [
    {
     "data": {
      "text/plain": [
       "['BLT',\n",
       " 'Fried Bologna',\n",
       " 'Woodland Mushroom',\n",
       " 'Roast Beef',\n",
       " 'PB&L',\n",
       " 'Belgian Chicken Curry Salad',\n",
       " 'Lobster Roll',\n",
       " 'Smoked Salmon Salad',\n",
       " 'Atomica Cemitas',\n",
       " 'Grilled Laughing Bird Shrimp and Fried Po’ Boy']"
      ]
     },
     "execution_count": 18,
     "metadata": {},
     "output_type": "execute_result"
    }
   ],
   "source": [
    "main_menu[:10]"
   ]
  },
  {
   "cell_type": "code",
   "execution_count": 19,
   "metadata": {},
   "outputs": [
    {
     "data": {
      "text/plain": [
       "['Old Oak Tap',\n",
       " 'Au Cheval',\n",
       " 'Xoco',\n",
       " 'Al’s Deli',\n",
       " 'Publican Quality Meats',\n",
       " 'Hendrickx Belgian Bread Crafter',\n",
       " 'Acadia',\n",
       " 'Birchwood Kitchen',\n",
       " 'Cemitas Puebla',\n",
       " 'Nana']"
      ]
     },
     "execution_count": 19,
     "metadata": {},
     "output_type": "execute_result"
    }
   ],
   "source": [
    "cafe_name[:10]"
   ]
  },
  {
   "cell_type": "code",
   "execution_count": 20,
   "metadata": {},
   "outputs": [
    {
     "data": {
      "text/plain": [
       "['https://www.chicagomag.com/Chicago-Magazine/November-2012/Best-Sandwiches-in-Chicago-Old-Oak-Tap-BLT/',\n",
       " 'https://www.chicagomag.com/Chicago-Magazine/November-2012/Best-Sandwiches-in-Chicago-Au-Cheval-Fried-Bologna/',\n",
       " 'https://www.chicagomag.com/Chicago-Magazine/November-2012/Best-Sandwiches-in-Chicago-Xoco-Woodland-Mushroom/',\n",
       " 'https://www.chicagomag.com/Chicago-Magazine/November-2012/Best-Sandwiches-in-Chicago-Als-Deli-Roast-Beef/',\n",
       " 'https://www.chicagomag.com/Chicago-Magazine/November-2012/Best-Sandwiches-in-Chicago-Publican-Quality-Meats-PB-L/',\n",
       " 'http://www.chicagomag.com/Chicago-Magazine/November-2012/Best-Sandwiches-in-Chicago-Hendrickx-Belgian-Bread-Crafter-Belgian-Chicken-Curry-Salad/',\n",
       " 'https://www.chicagomag.com/Chicago-Magazine/November-2012/Best-Sandwiches-in-Chicago-Acadia-Lobster-Roll/',\n",
       " 'https://www.chicagomag.com/Chicago-Magazine/November-2012/Best-Sandwiches-in-Chicago-Birchwood-Kitchen-Smoked-Salmon-Salad/',\n",
       " 'https://www.chicagomag.com/Chicago-Magazine/November-2012/Best-Sandwiches-in-Chicago-Cemitas-Puebla-Atomica-Cemitas/',\n",
       " 'https://www.chicagomag.com/Chicago-Magazine/November-2012/Best-Sandwiches-in-Chicago-Nana-Grilled-Laughing-Bird-Shrimp-and-Fried-Oyster-Po-Boy/']"
      ]
     },
     "execution_count": 20,
     "metadata": {},
     "output_type": "execute_result"
    }
   ],
   "source": [
    "url_add[:10]"
   ]
  },
  {
   "cell_type": "code",
   "execution_count": 21,
   "metadata": {},
   "outputs": [
    {
     "data": {
      "text/plain": [
       "(50, 50, 50, 50)"
      ]
     },
     "execution_count": 21,
     "metadata": {},
     "output_type": "execute_result"
    }
   ],
   "source": [
    "len(rank), len(main_menu), len(cafe_name), len(url_add)"
   ]
  },
  {
   "cell_type": "markdown",
   "metadata": {},
   "source": [
    "순위, 메뉴, 식당 이름, URL까지 모두 잘 담겼네요. 갯수도 모두 50개여서 다 담겼어요! 이제 데이터프레임에 옮겨볼게요."
   ]
  },
  {
   "cell_type": "markdown",
   "metadata": {},
   "source": [
    "**DataFrame에 담기**"
   ]
  },
  {
   "cell_type": "code",
   "execution_count": 22,
   "metadata": {},
   "outputs": [
    {
     "data": {
      "text/html": [
       "<div>\n",
       "<style scoped>\n",
       "    .dataframe tbody tr th:only-of-type {\n",
       "        vertical-align: middle;\n",
       "    }\n",
       "\n",
       "    .dataframe tbody tr th {\n",
       "        vertical-align: top;\n",
       "    }\n",
       "\n",
       "    .dataframe thead th {\n",
       "        text-align: right;\n",
       "    }\n",
       "</style>\n",
       "<table border=\"1\" class=\"dataframe\">\n",
       "  <thead>\n",
       "    <tr style=\"text-align: right;\">\n",
       "      <th></th>\n",
       "      <th>Rank</th>\n",
       "      <th>Menu</th>\n",
       "      <th>Cafe</th>\n",
       "      <th>URL</th>\n",
       "    </tr>\n",
       "  </thead>\n",
       "  <tbody>\n",
       "    <tr>\n",
       "      <th>0</th>\n",
       "      <td>1</td>\n",
       "      <td>BLT</td>\n",
       "      <td>Old Oak Tap</td>\n",
       "      <td>https://www.chicagomag.com/Chicago-Magazine/No...</td>\n",
       "    </tr>\n",
       "    <tr>\n",
       "      <th>1</th>\n",
       "      <td>2</td>\n",
       "      <td>Fried Bologna</td>\n",
       "      <td>Au Cheval</td>\n",
       "      <td>https://www.chicagomag.com/Chicago-Magazine/No...</td>\n",
       "    </tr>\n",
       "    <tr>\n",
       "      <th>2</th>\n",
       "      <td>3</td>\n",
       "      <td>Woodland Mushroom</td>\n",
       "      <td>Xoco</td>\n",
       "      <td>https://www.chicagomag.com/Chicago-Magazine/No...</td>\n",
       "    </tr>\n",
       "    <tr>\n",
       "      <th>3</th>\n",
       "      <td>4</td>\n",
       "      <td>Roast Beef</td>\n",
       "      <td>Al’s Deli</td>\n",
       "      <td>https://www.chicagomag.com/Chicago-Magazine/No...</td>\n",
       "    </tr>\n",
       "    <tr>\n",
       "      <th>4</th>\n",
       "      <td>5</td>\n",
       "      <td>PB&amp;L</td>\n",
       "      <td>Publican Quality Meats</td>\n",
       "      <td>https://www.chicagomag.com/Chicago-Magazine/No...</td>\n",
       "    </tr>\n",
       "  </tbody>\n",
       "</table>\n",
       "</div>"
      ],
      "text/plain": [
       "  Rank               Menu                    Cafe  \\\n",
       "0    1                BLT             Old Oak Tap   \n",
       "1    2      Fried Bologna               Au Cheval   \n",
       "2    3  Woodland Mushroom                    Xoco   \n",
       "3    4         Roast Beef               Al’s Deli   \n",
       "4    5               PB&L  Publican Quality Meats   \n",
       "\n",
       "                                                 URL  \n",
       "0  https://www.chicagomag.com/Chicago-Magazine/No...  \n",
       "1  https://www.chicagomag.com/Chicago-Magazine/No...  \n",
       "2  https://www.chicagomag.com/Chicago-Magazine/No...  \n",
       "3  https://www.chicagomag.com/Chicago-Magazine/No...  \n",
       "4  https://www.chicagomag.com/Chicago-Magazine/No...  "
      ]
     },
     "execution_count": 22,
     "metadata": {},
     "output_type": "execute_result"
    }
   ],
   "source": [
    "import pandas as pd\n",
    "\n",
    "data = {'Rank': rank, 'Menu':main_menu, 'Cafe':cafe_name, 'URL':url_add}\n",
    "df = pd.DataFrame(data)\n",
    "df.head()"
   ]
  },
  {
   "cell_type": "markdown",
   "metadata": {},
   "source": [
    "깔끔하게 잘 담겼네요. 이제 저희가 모은 데이터를 잘 저장해줘야겠죠? csv 파일로 저장해줄게요 😙"
   ]
  },
  {
   "cell_type": "code",
   "execution_count": 23,
   "metadata": {},
   "outputs": [],
   "source": [
    "df.to_csv('03. best_sandwiches_list_chicago.csv', sep=',', encoding='utf-8')"
   ]
  },
  {
   "cell_type": "markdown",
   "metadata": {},
   "source": [
    "## 3. 다수의 웹페이지에서 정보 가져오기"
   ]
  },
  {
   "cell_type": "markdown",
   "metadata": {},
   "source": [
    "앞서 내용은 웹 페이지에서 순위, 메뉴, 식당 이름, URL을 가져오는 것이었어요. 이제는 URL 주소를 타고 들어가 보면 있는 '가격', '주소'까지 가져와 봅시다 !"
   ]
  },
  {
   "cell_type": "markdown",
   "metadata": {},
   "source": [
    "* [Old Oak Tap BLT](http://www.chicagomag.com/Chicago-Magazine/November-2012/Best-Sandwiches-in-Chicago-Old-Oak-Tap-BLT/)"
   ]
  },
  {
   "cell_type": "markdown",
   "metadata": {},
   "source": [
    "이 페이지를 살펴보면, 아래에 '가격'과 '주소'가 적혀져 있어요. 여기에서 각각 가격과 주소를 얻어보도록 할게요. F12를 눌러 크롬 개발자 도구를 사용해 이 정보가 들어있는 태그를 확인해봅시다. 보니 p 태그에 addy class네요.\n",
    "\n",
    "먼저 우리가 저장한 csv 파일에 추가해주기 위해 불러와볼게요. 필요한 모듈들도 함께 뽑아와 보구요."
   ]
  },
  {
   "cell_type": "code",
   "execution_count": 24,
   "metadata": {},
   "outputs": [
    {
     "data": {
      "text/html": [
       "<div>\n",
       "<style scoped>\n",
       "    .dataframe tbody tr th:only-of-type {\n",
       "        vertical-align: middle;\n",
       "    }\n",
       "\n",
       "    .dataframe tbody tr th {\n",
       "        vertical-align: top;\n",
       "    }\n",
       "\n",
       "    .dataframe thead th {\n",
       "        text-align: right;\n",
       "    }\n",
       "</style>\n",
       "<table border=\"1\" class=\"dataframe\">\n",
       "  <thead>\n",
       "    <tr style=\"text-align: right;\">\n",
       "      <th></th>\n",
       "      <th>Rank</th>\n",
       "      <th>Menu</th>\n",
       "      <th>Cafe</th>\n",
       "      <th>URL</th>\n",
       "    </tr>\n",
       "  </thead>\n",
       "  <tbody>\n",
       "    <tr>\n",
       "      <th>0</th>\n",
       "      <td>1</td>\n",
       "      <td>BLT</td>\n",
       "      <td>Old Oak Tap</td>\n",
       "      <td>https://www.chicagomag.com/Chicago-Magazine/No...</td>\n",
       "    </tr>\n",
       "    <tr>\n",
       "      <th>1</th>\n",
       "      <td>2</td>\n",
       "      <td>Fried Bologna</td>\n",
       "      <td>Au Cheval</td>\n",
       "      <td>https://www.chicagomag.com/Chicago-Magazine/No...</td>\n",
       "    </tr>\n",
       "    <tr>\n",
       "      <th>2</th>\n",
       "      <td>3</td>\n",
       "      <td>Woodland Mushroom</td>\n",
       "      <td>Xoco</td>\n",
       "      <td>https://www.chicagomag.com/Chicago-Magazine/No...</td>\n",
       "    </tr>\n",
       "    <tr>\n",
       "      <th>3</th>\n",
       "      <td>4</td>\n",
       "      <td>Roast Beef</td>\n",
       "      <td>Al’s Deli</td>\n",
       "      <td>https://www.chicagomag.com/Chicago-Magazine/No...</td>\n",
       "    </tr>\n",
       "    <tr>\n",
       "      <th>4</th>\n",
       "      <td>5</td>\n",
       "      <td>PB&amp;L</td>\n",
       "      <td>Publican Quality Meats</td>\n",
       "      <td>https://www.chicagomag.com/Chicago-Magazine/No...</td>\n",
       "    </tr>\n",
       "  </tbody>\n",
       "</table>\n",
       "</div>"
      ],
      "text/plain": [
       "   Rank               Menu                    Cafe  \\\n",
       "0     1                BLT             Old Oak Tap   \n",
       "1     2      Fried Bologna               Au Cheval   \n",
       "2     3  Woodland Mushroom                    Xoco   \n",
       "3     4         Roast Beef               Al’s Deli   \n",
       "4     5               PB&L  Publican Quality Meats   \n",
       "\n",
       "                                                 URL  \n",
       "0  https://www.chicagomag.com/Chicago-Magazine/No...  \n",
       "1  https://www.chicagomag.com/Chicago-Magazine/No...  \n",
       "2  https://www.chicagomag.com/Chicago-Magazine/No...  \n",
       "3  https://www.chicagomag.com/Chicago-Magazine/No...  \n",
       "4  https://www.chicagomag.com/Chicago-Magazine/No...  "
      ]
     },
     "execution_count": 24,
     "metadata": {},
     "output_type": "execute_result"
    }
   ],
   "source": [
    "from bs4 import BeautifulSoup \n",
    "from urllib.request import urlopen \n",
    "import pandas as pd\n",
    "\n",
    "df = pd.read_csv('03. best_sandwiches_list_chicago.csv', encoding='utf-8', index_col=0)\n",
    "df.head()"
   ]
  },
  {
   "cell_type": "code",
   "execution_count": 25,
   "metadata": {},
   "outputs": [
    {
     "data": {
      "text/plain": [
       "'https://www.chicagomag.com/Chicago-Magazine/November-2012/Best-Sandwiches-in-Chicago-Old-Oak-Tap-BLT/'"
      ]
     },
     "execution_count": 25,
     "metadata": {},
     "output_type": "execute_result"
    }
   ],
   "source": [
    "df['URL'][0]"
   ]
  },
  {
   "cell_type": "markdown",
   "metadata": {},
   "source": [
    "이 url로 열어서, 가격과 위치를 가져와볼게요."
   ]
  },
  {
   "cell_type": "code",
   "execution_count": 26,
   "metadata": {},
   "outputs": [],
   "source": [
    "html = urlopen(df['URL'][0])\n",
    "soup = BeautifulSoup(html, 'html.parser')"
   ]
  },
  {
   "cell_type": "code",
   "execution_count": 27,
   "metadata": {},
   "outputs": [
    {
     "data": {
      "text/plain": [
       "<p class=\"addy\">\n",
       "<em>$10. 2109 W. Chicago Ave., 773-772-0406, <a href=\"http://www.theoldoaktap.com/\">theoldoaktap.com</a></em></p>"
      ]
     },
     "execution_count": 27,
     "metadata": {},
     "output_type": "execute_result"
    }
   ],
   "source": [
    "soup.find('p', class_='addy')"
   ]
  },
  {
   "cell_type": "code",
   "execution_count": 28,
   "metadata": {},
   "outputs": [
    {
     "data": {
      "text/plain": [
       "'\\n$10. 2109 W. Chicago Ave., 773-772-0406, theoldoaktap.com'"
      ]
     },
     "execution_count": 28,
     "metadata": {},
     "output_type": "execute_result"
    }
   ],
   "source": [
    "price_tmp = soup.find('p', class_='addy').get_text()\n",
    "price_tmp"
   ]
  },
  {
   "cell_type": "markdown",
   "metadata": {},
   "source": [
    "이것들을 공백을 기준으로 split 해볼게요."
   ]
  },
  {
   "cell_type": "code",
   "execution_count": 29,
   "metadata": {},
   "outputs": [
    {
     "data": {
      "text/plain": [
       "['$10.', '2109', 'W.', 'Chicago', 'Ave.,', '773-772-0406,', 'theoldoaktap.com']"
      ]
     },
     "execution_count": 29,
     "metadata": {},
     "output_type": "execute_result"
    }
   ],
   "source": [
    "price_tmp.split()"
   ]
  },
  {
   "cell_type": "code",
   "execution_count": 30,
   "metadata": {},
   "outputs": [
    {
     "data": {
      "text/plain": [
       "'$10.'"
      ]
     },
     "execution_count": 30,
     "metadata": {},
     "output_type": "execute_result"
    }
   ],
   "source": [
    "price_tmp.split()[0]"
   ]
  },
  {
   "cell_type": "markdown",
   "metadata": {},
   "source": [
    "점을 빼주고 싶어요."
   ]
  },
  {
   "cell_type": "code",
   "execution_count": 31,
   "metadata": {},
   "outputs": [
    {
     "data": {
      "text/plain": [
       "'$10'"
      ]
     },
     "execution_count": 31,
     "metadata": {},
     "output_type": "execute_result"
    }
   ],
   "source": [
    "price_tmp.split()[0][:-1]"
   ]
  },
  {
   "cell_type": "markdown",
   "metadata": {},
   "source": [
    "짠~ ㅎㅎ 이제 주소를 한번 볼게요. 뒤에서 두개를 제외하고까지가 주소네요. 다른 주소도 확인해보세요~"
   ]
  },
  {
   "cell_type": "code",
   "execution_count": 32,
   "metadata": {},
   "outputs": [
    {
     "data": {
      "text/plain": [
       "['$10.', '2109', 'W.', 'Chicago', 'Ave.,', '773-772-0406,', 'theoldoaktap.com']"
      ]
     },
     "execution_count": 32,
     "metadata": {},
     "output_type": "execute_result"
    }
   ],
   "source": [
    "price_tmp.split()"
   ]
  },
  {
   "cell_type": "markdown",
   "metadata": {},
   "source": [
    "여기서 주소만 가져오려면? [1:-2]로 범위를 정해주면 되겠죠."
   ]
  },
  {
   "cell_type": "code",
   "execution_count": 33,
   "metadata": {},
   "outputs": [
    {
     "data": {
      "text/plain": [
       "['2109', 'W.', 'Chicago', 'Ave.,']"
      ]
     },
     "execution_count": 33,
     "metadata": {},
     "output_type": "execute_result"
    }
   ],
   "source": [
    "# 주소만 가져오기\n",
    "price_tmp.split()[1:-2]"
   ]
  },
  {
   "cell_type": "markdown",
   "metadata": {},
   "source": [
    "근데 주소가 다 떨어져있어서 이것을 붙여주려고 해요~ 이럴 땐 join 함수를 사용합니다."
   ]
  },
  {
   "cell_type": "markdown",
   "metadata": {},
   "source": [
    "* [str.join()](https://wikidocs.net/13#join)"
   ]
  },
  {
   "cell_type": "code",
   "execution_count": 34,
   "metadata": {},
   "outputs": [
    {
     "data": {
      "text/plain": [
       "'2109 W. Chicago Ave.,'"
      ]
     },
     "execution_count": 34,
     "metadata": {},
     "output_type": "execute_result"
    }
   ],
   "source": [
    "' '.join(price_tmp.split()[1:-2])"
   ]
  },
  {
   "cell_type": "markdown",
   "metadata": {},
   "source": [
    "주소가 완벽하게 나오네요. 이제 전체 가격과 주소를 모아보고 3개만 뽑아서 확인을 해볼게요."
   ]
  },
  {
   "cell_type": "code",
   "execution_count": 35,
   "metadata": {},
   "outputs": [],
   "source": [
    "price = []\n",
    "address =[]\n",
    "\n",
    "for n in df.index[:3]:\n",
    "    html = urlopen(df['URL'][n])\n",
    "    soup_tmp = BeautifulSoup(html, 'html.parser')\n",
    "\n",
    "    gettings = soup_tmp.find('p', 'addy').get_text()\n",
    "    price.append(gettings.split()[0][:-1])\n",
    "    address.append(' '.join(gettings.split()[1:-2]))"
   ]
  },
  {
   "cell_type": "code",
   "execution_count": 36,
   "metadata": {},
   "outputs": [
    {
     "data": {
      "text/plain": [
       "['$10', '$9', '$9.50']"
      ]
     },
     "execution_count": 36,
     "metadata": {},
     "output_type": "execute_result"
    }
   ],
   "source": [
    "price"
   ]
  },
  {
   "cell_type": "code",
   "execution_count": 37,
   "metadata": {},
   "outputs": [
    {
     "data": {
      "text/plain": [
       "['2109 W. Chicago Ave.,', '800 W. Randolph St.,', '445 N. Clark St.,']"
      ]
     },
     "execution_count": 37,
     "metadata": {},
     "output_type": "execute_result"
    }
   ],
   "source": [
    "address"
   ]
  },
  {
   "cell_type": "markdown",
   "metadata": {},
   "source": [
    "잘 나오네요 😗"
   ]
  },
  {
   "cell_type": "markdown",
   "metadata": {},
   "source": [
    "## 4. tqdm 모듈을 사용해 50 페이지에 접근하기"
   ]
  },
  {
   "cell_type": "markdown",
   "metadata": {},
   "source": [
    "tqdm은 웹 크롤링할 때 상태 진행이 어떻게 되는지 알려주는 바형태의 시각화입니다. 앞서 뽑아낼 정보들이 50페이지를 모두 확인해보면서 추출하는 것이기 때문에 이렇게 얼마나 진행되었는지 알려주는 것이 있으면, 더 편하게 정보를 얻을 수 있겠죠.\n",
    "\n",
    "terminal에서 conda install -c conda-forge tqdm 해주기   \n",
    "아래와 같이 tqdm을 import 해주고, 앞서 한 대로 50 페이지를 모두 들어가 가격과 주소를 가져와 보도록 할게요. (코드를 그냥 쓰기 전에 먼저 코드를 어떻게 쓸 지 생각해보고 보는 것이 좋습니다)"
   ]
  },
  {
   "cell_type": "code",
   "execution_count": 38,
   "metadata": {},
   "outputs": [
    {
     "name": "stderr",
     "output_type": "stream",
     "text": [
      "C:\\Users\\Owner\\anaconda3\\lib\\site-packages\\ipykernel_launcher.py:6: TqdmDeprecationWarning: This function will be removed in tqdm==5.0.0\n",
      "Please use `tqdm.notebook.tqdm` instead of `tqdm.tqdm_notebook`\n",
      "  \n"
     ]
    },
    {
     "data": {
      "application/vnd.jupyter.widget-view+json": {
       "model_id": "dde6773b09124a2eab6991aeaadf095a",
       "version_major": 2,
       "version_minor": 0
      },
      "text/plain": [
       "HBox(children=(FloatProgress(value=0.0, max=50.0), HTML(value='')))"
      ]
     },
     "metadata": {},
     "output_type": "display_data"
    },
    {
     "name": "stdout",
     "output_type": "stream",
     "text": [
      "\n"
     ]
    }
   ],
   "source": [
    "from tqdm import tqdm_notebook\n",
    "\n",
    "price = []\n",
    "address = []\n",
    "\n",
    "for n in tqdm_notebook(df.index): \n",
    "    html = urlopen(df['URL'][n])\n",
    "    soup_tmp = BeautifulSoup(html, 'html.parser')\n",
    "\n",
    "    gettings = soup_tmp.find('p', 'addy').get_text()\n",
    "    price.append(gettings.split()[0][:-1])\n",
    "    address.append(' '.join(gettings.split()[1:-2]))"
   ]
  },
  {
   "cell_type": "markdown",
   "metadata": {},
   "source": [
    "제대로 가져와졌는지 확인해볼게요~?"
   ]
  },
  {
   "cell_type": "code",
   "execution_count": 39,
   "metadata": {},
   "outputs": [
    {
     "data": {
      "text/plain": [
       "['$10', '$9', '$9.50', '$9.40', '$10', '$7.25', '$16', '$10', '$9', '$17']"
      ]
     },
     "execution_count": 39,
     "metadata": {},
     "output_type": "execute_result"
    }
   ],
   "source": [
    "price[:10]"
   ]
  },
  {
   "cell_type": "code",
   "execution_count": 40,
   "metadata": {},
   "outputs": [
    {
     "data": {
      "text/plain": [
       "['2109 W. Chicago Ave.,',\n",
       " '800 W. Randolph St.,',\n",
       " '445 N. Clark St.,',\n",
       " '914 Noyes St., Evanston,',\n",
       " '825 W. Fulton Mkt.,',\n",
       " '100 E. Walton',\n",
       " '1639 S. Wabash Ave.,',\n",
       " '2211 W. North Ave.,',\n",
       " '3619 W. North Ave.,',\n",
       " '3267 S. Halsted St.,',\n",
       " '2537 N. Kedzie Blvd.,',\n",
       " 'Multiple',\n",
       " '3124 N. Broadway,',\n",
       " '3455 N. Southport Ave.,',\n",
       " '2657 N. Kedzie Ave.,',\n",
       " '1120 W. Grand Ave.,',\n",
       " '1141 S. Jefferson St.,',\n",
       " '333 E. Benton Pl.,',\n",
       " '1411 N. Wells St.,',\n",
       " '1747 N. Damen Ave.,',\n",
       " '3209 W. Irving Park',\n",
       " 'Multiple',\n",
       " '5347 N. Clark St.,',\n",
       " '2954 W. Irving Park Rd.,',\n",
       " 'Multiple',\n",
       " '191 Skokie Valley Rd., Highland Park,',\n",
       " 'Multiple',\n",
       " '1818 W. Wilson Ave.,',\n",
       " '2517 W. Division St.,',\n",
       " '218 W. Kinzie']"
      ]
     },
     "execution_count": 40,
     "metadata": {},
     "output_type": "execute_result"
    }
   ],
   "source": [
    "address[:30]"
   ]
  },
  {
   "cell_type": "markdown",
   "metadata": {},
   "source": [
    "어, 그런데 여기 multiple이란게 있죠. 샌드위치 가게가 체인점이라 여러군데에 있나봐요. 일단 이것을 알아두시고 어떻게 처리할 지 고민을 해봅시다."
   ]
  },
  {
   "cell_type": "code",
   "execution_count": 41,
   "metadata": {},
   "outputs": [
    {
     "data": {
      "text/plain": [
       "(50, 50)"
      ]
     },
     "execution_count": 41,
     "metadata": {},
     "output_type": "execute_result"
    }
   ],
   "source": [
    "len(price), len(address)"
   ]
  },
  {
   "cell_type": "markdown",
   "metadata": {},
   "source": [
    "다 잘 가져온 것 같네요. 이 정보들을 데이터프레임에 새로운 컬럼에 넣어볼게요."
   ]
  },
  {
   "cell_type": "code",
   "execution_count": 42,
   "metadata": {},
   "outputs": [
    {
     "data": {
      "text/html": [
       "<div>\n",
       "<style scoped>\n",
       "    .dataframe tbody tr th:only-of-type {\n",
       "        vertical-align: middle;\n",
       "    }\n",
       "\n",
       "    .dataframe tbody tr th {\n",
       "        vertical-align: top;\n",
       "    }\n",
       "\n",
       "    .dataframe thead th {\n",
       "        text-align: right;\n",
       "    }\n",
       "</style>\n",
       "<table border=\"1\" class=\"dataframe\">\n",
       "  <thead>\n",
       "    <tr style=\"text-align: right;\">\n",
       "      <th></th>\n",
       "      <th>Rank</th>\n",
       "      <th>Menu</th>\n",
       "      <th>Cafe</th>\n",
       "      <th>URL</th>\n",
       "      <th>Price</th>\n",
       "      <th>Address</th>\n",
       "    </tr>\n",
       "  </thead>\n",
       "  <tbody>\n",
       "    <tr>\n",
       "      <th>0</th>\n",
       "      <td>1</td>\n",
       "      <td>BLT</td>\n",
       "      <td>Old Oak Tap</td>\n",
       "      <td>https://www.chicagomag.com/Chicago-Magazine/No...</td>\n",
       "      <td>$10</td>\n",
       "      <td>2109 W. Chicago Ave.,</td>\n",
       "    </tr>\n",
       "    <tr>\n",
       "      <th>1</th>\n",
       "      <td>2</td>\n",
       "      <td>Fried Bologna</td>\n",
       "      <td>Au Cheval</td>\n",
       "      <td>https://www.chicagomag.com/Chicago-Magazine/No...</td>\n",
       "      <td>$9</td>\n",
       "      <td>800 W. Randolph St.,</td>\n",
       "    </tr>\n",
       "    <tr>\n",
       "      <th>2</th>\n",
       "      <td>3</td>\n",
       "      <td>Woodland Mushroom</td>\n",
       "      <td>Xoco</td>\n",
       "      <td>https://www.chicagomag.com/Chicago-Magazine/No...</td>\n",
       "      <td>$9.50</td>\n",
       "      <td>445 N. Clark St.,</td>\n",
       "    </tr>\n",
       "    <tr>\n",
       "      <th>3</th>\n",
       "      <td>4</td>\n",
       "      <td>Roast Beef</td>\n",
       "      <td>Al’s Deli</td>\n",
       "      <td>https://www.chicagomag.com/Chicago-Magazine/No...</td>\n",
       "      <td>$9.40</td>\n",
       "      <td>914 Noyes St., Evanston,</td>\n",
       "    </tr>\n",
       "    <tr>\n",
       "      <th>4</th>\n",
       "      <td>5</td>\n",
       "      <td>PB&amp;L</td>\n",
       "      <td>Publican Quality Meats</td>\n",
       "      <td>https://www.chicagomag.com/Chicago-Magazine/No...</td>\n",
       "      <td>$10</td>\n",
       "      <td>825 W. Fulton Mkt.,</td>\n",
       "    </tr>\n",
       "  </tbody>\n",
       "</table>\n",
       "</div>"
      ],
      "text/plain": [
       "   Rank               Menu                    Cafe  \\\n",
       "0     1                BLT             Old Oak Tap   \n",
       "1     2      Fried Bologna               Au Cheval   \n",
       "2     3  Woodland Mushroom                    Xoco   \n",
       "3     4         Roast Beef               Al’s Deli   \n",
       "4     5               PB&L  Publican Quality Meats   \n",
       "\n",
       "                                                 URL  Price  \\\n",
       "0  https://www.chicagomag.com/Chicago-Magazine/No...    $10   \n",
       "1  https://www.chicagomag.com/Chicago-Magazine/No...     $9   \n",
       "2  https://www.chicagomag.com/Chicago-Magazine/No...  $9.50   \n",
       "3  https://www.chicagomag.com/Chicago-Magazine/No...  $9.40   \n",
       "4  https://www.chicagomag.com/Chicago-Magazine/No...    $10   \n",
       "\n",
       "                    Address  \n",
       "0     2109 W. Chicago Ave.,  \n",
       "1      800 W. Randolph St.,  \n",
       "2         445 N. Clark St.,  \n",
       "3  914 Noyes St., Evanston,  \n",
       "4       825 W. Fulton Mkt.,  "
      ]
     },
     "execution_count": 42,
     "metadata": {},
     "output_type": "execute_result"
    }
   ],
   "source": [
    "df['Price'] = price \n",
    "df['Address'] = address\n",
    "\n",
    "df.head()"
   ]
  },
  {
   "cell_type": "markdown",
   "metadata": {},
   "source": [
    "가장 왼쪽의 인덱스가 거슬리네요. rank를 index로 넣어줄게요."
   ]
  },
  {
   "cell_type": "code",
   "execution_count": 43,
   "metadata": {},
   "outputs": [
    {
     "data": {
      "text/html": [
       "<div>\n",
       "<style scoped>\n",
       "    .dataframe tbody tr th:only-of-type {\n",
       "        vertical-align: middle;\n",
       "    }\n",
       "\n",
       "    .dataframe tbody tr th {\n",
       "        vertical-align: top;\n",
       "    }\n",
       "\n",
       "    .dataframe thead th {\n",
       "        text-align: right;\n",
       "    }\n",
       "</style>\n",
       "<table border=\"1\" class=\"dataframe\">\n",
       "  <thead>\n",
       "    <tr style=\"text-align: right;\">\n",
       "      <th></th>\n",
       "      <th>Menu</th>\n",
       "      <th>Cafe</th>\n",
       "      <th>URL</th>\n",
       "      <th>Price</th>\n",
       "      <th>Address</th>\n",
       "    </tr>\n",
       "    <tr>\n",
       "      <th>Rank</th>\n",
       "      <th></th>\n",
       "      <th></th>\n",
       "      <th></th>\n",
       "      <th></th>\n",
       "      <th></th>\n",
       "    </tr>\n",
       "  </thead>\n",
       "  <tbody>\n",
       "    <tr>\n",
       "      <th>1</th>\n",
       "      <td>BLT</td>\n",
       "      <td>Old Oak Tap</td>\n",
       "      <td>https://www.chicagomag.com/Chicago-Magazine/No...</td>\n",
       "      <td>$10</td>\n",
       "      <td>2109 W. Chicago Ave.,</td>\n",
       "    </tr>\n",
       "    <tr>\n",
       "      <th>2</th>\n",
       "      <td>Fried Bologna</td>\n",
       "      <td>Au Cheval</td>\n",
       "      <td>https://www.chicagomag.com/Chicago-Magazine/No...</td>\n",
       "      <td>$9</td>\n",
       "      <td>800 W. Randolph St.,</td>\n",
       "    </tr>\n",
       "    <tr>\n",
       "      <th>3</th>\n",
       "      <td>Woodland Mushroom</td>\n",
       "      <td>Xoco</td>\n",
       "      <td>https://www.chicagomag.com/Chicago-Magazine/No...</td>\n",
       "      <td>$9.50</td>\n",
       "      <td>445 N. Clark St.,</td>\n",
       "    </tr>\n",
       "    <tr>\n",
       "      <th>4</th>\n",
       "      <td>Roast Beef</td>\n",
       "      <td>Al’s Deli</td>\n",
       "      <td>https://www.chicagomag.com/Chicago-Magazine/No...</td>\n",
       "      <td>$9.40</td>\n",
       "      <td>914 Noyes St., Evanston,</td>\n",
       "    </tr>\n",
       "    <tr>\n",
       "      <th>5</th>\n",
       "      <td>PB&amp;L</td>\n",
       "      <td>Publican Quality Meats</td>\n",
       "      <td>https://www.chicagomag.com/Chicago-Magazine/No...</td>\n",
       "      <td>$10</td>\n",
       "      <td>825 W. Fulton Mkt.,</td>\n",
       "    </tr>\n",
       "  </tbody>\n",
       "</table>\n",
       "</div>"
      ],
      "text/plain": [
       "                   Menu                    Cafe  \\\n",
       "Rank                                              \n",
       "1                   BLT             Old Oak Tap   \n",
       "2         Fried Bologna               Au Cheval   \n",
       "3     Woodland Mushroom                    Xoco   \n",
       "4            Roast Beef               Al’s Deli   \n",
       "5                  PB&L  Publican Quality Meats   \n",
       "\n",
       "                                                    URL  Price  \\\n",
       "Rank                                                             \n",
       "1     https://www.chicagomag.com/Chicago-Magazine/No...    $10   \n",
       "2     https://www.chicagomag.com/Chicago-Magazine/No...     $9   \n",
       "3     https://www.chicagomag.com/Chicago-Magazine/No...  $9.50   \n",
       "4     https://www.chicagomag.com/Chicago-Magazine/No...  $9.40   \n",
       "5     https://www.chicagomag.com/Chicago-Magazine/No...    $10   \n",
       "\n",
       "                       Address  \n",
       "Rank                            \n",
       "1        2109 W. Chicago Ave.,  \n",
       "2         800 W. Randolph St.,  \n",
       "3            445 N. Clark St.,  \n",
       "4     914 Noyes St., Evanston,  \n",
       "5          825 W. Fulton Mkt.,  "
      ]
     },
     "execution_count": 43,
     "metadata": {},
     "output_type": "execute_result"
    }
   ],
   "source": [
    "df.set_index('Rank', inplace=True)\n",
    "df.head()"
   ]
  },
  {
   "cell_type": "code",
   "execution_count": 44,
   "metadata": {},
   "outputs": [],
   "source": [
    "df.to_csv('03. best_sandwitches_list_chicago2.csv', sep=',', encoding='utf-8')"
   ]
  },
  {
   "cell_type": "markdown",
   "metadata": {},
   "source": [
    "저희가 원하던 가격과 주소 정보를 다 넣었으니 안전하게 저장해줍니다."
   ]
  },
  {
   "cell_type": "markdown",
   "metadata": {},
   "source": [
    "## 5.Google Maps와 Folium으로 맛집 지도 표기"
   ]
  },
  {
   "cell_type": "markdown",
   "metadata": {},
   "source": [
    "이제 저희가 모았던 주소를 가지고 google maps, folium을 가지고 표시해볼거에요 !! 일단 필요한 모듈들을 다 import 하구요, 저장했던 데이터도 다시 불러와볼게요."
   ]
  },
  {
   "cell_type": "code",
   "execution_count": 45,
   "metadata": {},
   "outputs": [],
   "source": [
    "import pandas as pd\n",
    "import numpy as np\n",
    "import googlemaps \n",
    "import folium\n",
    "from tqdm import tqdm_notebook"
   ]
  },
  {
   "cell_type": "code",
   "execution_count": 46,
   "metadata": {},
   "outputs": [
    {
     "data": {
      "text/html": [
       "<div>\n",
       "<style scoped>\n",
       "    .dataframe tbody tr th:only-of-type {\n",
       "        vertical-align: middle;\n",
       "    }\n",
       "\n",
       "    .dataframe tbody tr th {\n",
       "        vertical-align: top;\n",
       "    }\n",
       "\n",
       "    .dataframe thead th {\n",
       "        text-align: right;\n",
       "    }\n",
       "</style>\n",
       "<table border=\"1\" class=\"dataframe\">\n",
       "  <thead>\n",
       "    <tr style=\"text-align: right;\">\n",
       "      <th></th>\n",
       "      <th>Menu</th>\n",
       "      <th>Cafe</th>\n",
       "      <th>URL</th>\n",
       "      <th>Price</th>\n",
       "      <th>Address</th>\n",
       "    </tr>\n",
       "    <tr>\n",
       "      <th>Rank</th>\n",
       "      <th></th>\n",
       "      <th></th>\n",
       "      <th></th>\n",
       "      <th></th>\n",
       "      <th></th>\n",
       "    </tr>\n",
       "  </thead>\n",
       "  <tbody>\n",
       "    <tr>\n",
       "      <th>1</th>\n",
       "      <td>BLT</td>\n",
       "      <td>Old Oak Tap</td>\n",
       "      <td>https://www.chicagomag.com/Chicago-Magazine/No...</td>\n",
       "      <td>$10</td>\n",
       "      <td>2109 W. Chicago Ave.,</td>\n",
       "    </tr>\n",
       "    <tr>\n",
       "      <th>2</th>\n",
       "      <td>Fried Bologna</td>\n",
       "      <td>Au Cheval</td>\n",
       "      <td>https://www.chicagomag.com/Chicago-Magazine/No...</td>\n",
       "      <td>$9</td>\n",
       "      <td>800 W. Randolph St.,</td>\n",
       "    </tr>\n",
       "    <tr>\n",
       "      <th>3</th>\n",
       "      <td>Woodland Mushroom</td>\n",
       "      <td>Xoco</td>\n",
       "      <td>https://www.chicagomag.com/Chicago-Magazine/No...</td>\n",
       "      <td>$9.50</td>\n",
       "      <td>445 N. Clark St.,</td>\n",
       "    </tr>\n",
       "    <tr>\n",
       "      <th>4</th>\n",
       "      <td>Roast Beef</td>\n",
       "      <td>Al’s Deli</td>\n",
       "      <td>https://www.chicagomag.com/Chicago-Magazine/No...</td>\n",
       "      <td>$9.40</td>\n",
       "      <td>914 Noyes St., Evanston,</td>\n",
       "    </tr>\n",
       "    <tr>\n",
       "      <th>5</th>\n",
       "      <td>PB&amp;L</td>\n",
       "      <td>Publican Quality Meats</td>\n",
       "      <td>https://www.chicagomag.com/Chicago-Magazine/No...</td>\n",
       "      <td>$10</td>\n",
       "      <td>825 W. Fulton Mkt.,</td>\n",
       "    </tr>\n",
       "  </tbody>\n",
       "</table>\n",
       "</div>"
      ],
      "text/plain": [
       "                   Menu                    Cafe  \\\n",
       "Rank                                              \n",
       "1                   BLT             Old Oak Tap   \n",
       "2         Fried Bologna               Au Cheval   \n",
       "3     Woodland Mushroom                    Xoco   \n",
       "4            Roast Beef               Al’s Deli   \n",
       "5                  PB&L  Publican Quality Meats   \n",
       "\n",
       "                                                    URL  Price  \\\n",
       "Rank                                                             \n",
       "1     https://www.chicagomag.com/Chicago-Magazine/No...    $10   \n",
       "2     https://www.chicagomag.com/Chicago-Magazine/No...     $9   \n",
       "3     https://www.chicagomag.com/Chicago-Magazine/No...  $9.50   \n",
       "4     https://www.chicagomag.com/Chicago-Magazine/No...  $9.40   \n",
       "5     https://www.chicagomag.com/Chicago-Magazine/No...    $10   \n",
       "\n",
       "                       Address  \n",
       "Rank                            \n",
       "1        2109 W. Chicago Ave.,  \n",
       "2         800 W. Randolph St.,  \n",
       "3            445 N. Clark St.,  \n",
       "4     914 Noyes St., Evanston,  \n",
       "5          825 W. Fulton Mkt.,  "
      ]
     },
     "execution_count": 46,
     "metadata": {},
     "output_type": "execute_result"
    }
   ],
   "source": [
    "df = pd.read_csv('03. best_sandwitches_list_chicago2.csv', index_col=0) # incex_col 인덱스 지정 : 0의 위치에 있는 걸 index로 할게\n",
    "df.head()"
   ]
  },
  {
   "cell_type": "code",
   "execution_count": 47,
   "metadata": {},
   "outputs": [],
   "source": [
    "gmaps_key = '*******************************'\n",
    "gmaps = googlemaps.Client(key=gmaps_key)"
   ]
  },
  {
   "cell_type": "markdown",
   "metadata": {},
   "source": [
    "더 정확한 정보를 얻기 위해 df의 주소에 시카고라는 주소를 추가해줄거에요."
   ]
  },
  {
   "cell_type": "code",
   "execution_count": 48,
   "metadata": {},
   "outputs": [
    {
     "data": {
      "text/plain": [
       "[{'address_components': [{'long_name': '2109',\n",
       "    'short_name': '2109',\n",
       "    'types': ['street_number']},\n",
       "   {'long_name': 'West Chicago Avenue',\n",
       "    'short_name': 'W Chicago Ave',\n",
       "    'types': ['route']},\n",
       "   {'long_name': 'West Town',\n",
       "    'short_name': 'West Town',\n",
       "    'types': ['neighborhood', 'political']},\n",
       "   {'long_name': 'Chicago',\n",
       "    'short_name': 'Chicago',\n",
       "    'types': ['locality', 'political']},\n",
       "   {'long_name': 'Cook County',\n",
       "    'short_name': 'Cook County',\n",
       "    'types': ['administrative_area_level_2', 'political']},\n",
       "   {'long_name': 'Illinois',\n",
       "    'short_name': 'IL',\n",
       "    'types': ['administrative_area_level_1', 'political']},\n",
       "   {'long_name': 'United States',\n",
       "    'short_name': 'US',\n",
       "    'types': ['country', 'political']},\n",
       "   {'long_name': '60622', 'short_name': '60622', 'types': ['postal_code']},\n",
       "   {'long_name': '4821',\n",
       "    'short_name': '4821',\n",
       "    'types': ['postal_code_suffix']}],\n",
       "  'formatted_address': '2109 W Chicago Ave, Chicago, IL 60622, USA',\n",
       "  'geometry': {'location': {'lat': 41.8956049, 'lng': -87.67996149999999},\n",
       "   'location_type': 'ROOFTOP',\n",
       "   'viewport': {'northeast': {'lat': 41.8969538802915,\n",
       "     'lng': -87.67861251970848},\n",
       "    'southwest': {'lat': 41.8942559197085, 'lng': -87.6813104802915}}},\n",
       "  'place_id': 'ChIJw8Al2kotDogRnCJTS_Ydiws',\n",
       "  'plus_code': {'compound_code': 'V8WC+62 Chicago, IL, USA',\n",
       "   'global_code': '86HJV8WC+62'},\n",
       "  'types': ['street_address']}]"
      ]
     },
     "execution_count": 48,
     "metadata": {},
     "output_type": "execute_result"
    }
   ],
   "source": [
    "target_name = df['Address'][1] + ', ' + 'Chicago'\n",
    "gmaps_output = gmaps.geocode(target_name)\n",
    "gmaps_output"
   ]
  },
  {
   "cell_type": "markdown",
   "metadata": {},
   "source": [
    "여기서 경도와 위도는 geometry라는 키에 있습니다. 원하는 정보를 제대로 가져오기 위해서 한번 봅시다."
   ]
  },
  {
   "cell_type": "code",
   "execution_count": 49,
   "metadata": {},
   "outputs": [
    {
     "data": {
      "text/plain": [
       "{'address_components': [{'long_name': '2109',\n",
       "   'short_name': '2109',\n",
       "   'types': ['street_number']},\n",
       "  {'long_name': 'West Chicago Avenue',\n",
       "   'short_name': 'W Chicago Ave',\n",
       "   'types': ['route']},\n",
       "  {'long_name': 'West Town',\n",
       "   'short_name': 'West Town',\n",
       "   'types': ['neighborhood', 'political']},\n",
       "  {'long_name': 'Chicago',\n",
       "   'short_name': 'Chicago',\n",
       "   'types': ['locality', 'political']},\n",
       "  {'long_name': 'Cook County',\n",
       "   'short_name': 'Cook County',\n",
       "   'types': ['administrative_area_level_2', 'political']},\n",
       "  {'long_name': 'Illinois',\n",
       "   'short_name': 'IL',\n",
       "   'types': ['administrative_area_level_1', 'political']},\n",
       "  {'long_name': 'United States',\n",
       "   'short_name': 'US',\n",
       "   'types': ['country', 'political']},\n",
       "  {'long_name': '60622', 'short_name': '60622', 'types': ['postal_code']},\n",
       "  {'long_name': '4821',\n",
       "   'short_name': '4821',\n",
       "   'types': ['postal_code_suffix']}],\n",
       " 'formatted_address': '2109 W Chicago Ave, Chicago, IL 60622, USA',\n",
       " 'geometry': {'location': {'lat': 41.8956049, 'lng': -87.67996149999999},\n",
       "  'location_type': 'ROOFTOP',\n",
       "  'viewport': {'northeast': {'lat': 41.8969538802915,\n",
       "    'lng': -87.67861251970848},\n",
       "   'southwest': {'lat': 41.8942559197085, 'lng': -87.6813104802915}}},\n",
       " 'place_id': 'ChIJw8Al2kotDogRnCJTS_Ydiws',\n",
       " 'plus_code': {'compound_code': 'V8WC+62 Chicago, IL, USA',\n",
       "  'global_code': '86HJV8WC+62'},\n",
       " 'types': ['street_address']}"
      ]
     },
     "execution_count": 49,
     "metadata": {},
     "output_type": "execute_result"
    }
   ],
   "source": [
    "gmaps_output[0]  #리스트를 벗긴 딕셔너리 형태 "
   ]
  },
  {
   "cell_type": "code",
   "execution_count": 50,
   "metadata": {},
   "outputs": [
    {
     "data": {
      "text/plain": [
       "{'location': {'lat': 41.8956049, 'lng': -87.67996149999999},\n",
       " 'location_type': 'ROOFTOP',\n",
       " 'viewport': {'northeast': {'lat': 41.8969538802915,\n",
       "   'lng': -87.67861251970848},\n",
       "  'southwest': {'lat': 41.8942559197085, 'lng': -87.6813104802915}}}"
      ]
     },
     "execution_count": 50,
     "metadata": {},
     "output_type": "execute_result"
    }
   ],
   "source": [
    "gmaps_output[0].get('geometry')"
   ]
  },
  {
   "cell_type": "markdown",
   "metadata": {},
   "source": [
    "* [dict.get()](https://wikidocs.net/16#key-valueget) : key로 value 얻기"
   ]
  },
  {
   "cell_type": "markdown",
   "metadata": {},
   "source": [
    "리스트를 벗기면 딕셔너리 형태가 되니, get을 이용해 경도와 위도 정보가 들어있는 곳까지 왔네요. 그럼 경도와 위도 정보는 아래와 같이 찾으면 됩니다."
   ]
  },
  {
   "cell_type": "code",
   "execution_count": 51,
   "metadata": {},
   "outputs": [
    {
     "data": {
      "text/plain": [
       "{'lat': 41.8956049, 'lng': -87.67996149999999}"
      ]
     },
     "execution_count": 51,
     "metadata": {},
     "output_type": "execute_result"
    }
   ],
   "source": [
    "gmaps_output[0].get('geometry')['location']"
   ]
  },
  {
   "cell_type": "code",
   "execution_count": 52,
   "metadata": {},
   "outputs": [
    {
     "data": {
      "text/plain": [
       "41.8956049"
      ]
     },
     "execution_count": 52,
     "metadata": {},
     "output_type": "execute_result"
    }
   ],
   "source": [
    "gmaps_output[0].get('geometry')['location']['lat']"
   ]
  },
  {
   "cell_type": "code",
   "execution_count": 53,
   "metadata": {},
   "outputs": [
    {
     "data": {
      "text/plain": [
       "-87.67996149999999"
      ]
     },
     "execution_count": 53,
     "metadata": {},
     "output_type": "execute_result"
    }
   ],
   "source": [
    "gmaps_output[0].get('geometry')['location']['lng']"
   ]
  },
  {
   "cell_type": "markdown",
   "metadata": {},
   "source": [
    "이해가 되시나요? 그렇다면 이제 모든 위치 정보를 뽑아와 볼건데요, 그 전에 중요한 것은 우리가 가져온 주소들 중에 Multiple이라 적혀있던 주소들을 어떻게 처리할까요?\n",
    "\n",
    "여기에서는 1)for문을 활용해 multiple이 아닌 위도와 경도 정보를 얻기로 하고, 2)정보가 없는 것은 넘파이를 활용해 NaN 표시를 해줄게요. (혹은 우리가 배운 예외처리를 활용하여 처리할 수도 있겠죠 😏...?)\n",
    "\n",
    "그렇담 코드를 생각해보시고, tqdm 모듈을 활용해 진행상황을 알아보도록 해요 ~ "
   ]
  },
  {
   "cell_type": "code",
   "execution_count": 54,
   "metadata": {},
   "outputs": [
    {
     "name": "stderr",
     "output_type": "stream",
     "text": [
      "C:\\Users\\Owner\\anaconda3\\lib\\site-packages\\ipykernel_launcher.py:4: TqdmDeprecationWarning: This function will be removed in tqdm==5.0.0\n",
      "Please use `tqdm.notebook.tqdm` instead of `tqdm.tqdm_notebook`\n",
      "  after removing the cwd from sys.path.\n"
     ]
    },
    {
     "data": {
      "application/vnd.jupyter.widget-view+json": {
       "model_id": "6cecfb506f054f37a097182fa4d82dcf",
       "version_major": 2,
       "version_minor": 0
      },
      "text/plain": [
       "HBox(children=(FloatProgress(value=0.0, max=50.0), HTML(value='')))"
      ]
     },
     "metadata": {},
     "output_type": "display_data"
    },
    {
     "name": "stdout",
     "output_type": "stream",
     "text": [
      "\n"
     ]
    }
   ],
   "source": [
    "lat = []\n",
    "lng = []\n",
    "\n",
    "for n in tqdm_notebook(df.index):\n",
    "    if df['Address'][n] != 'Multiple':\n",
    "        target_name = df['Address'][n] + ', ' + 'Chicago'\n",
    "        gmaps_output = gmaps.geocode(target_name)\n",
    "        location_output = gmaps_output[0].get('geometry')\n",
    "        lat.append(location_output['location']['lat'])\n",
    "        lng.append(location_output['location']['lng'])\n",
    "    else: \n",
    "        lat.append(np.nan)\n",
    "        lng.append(np.nan)"
   ]
  },
  {
   "cell_type": "markdown",
   "metadata": {},
   "source": [
    "잘 뽑아졌는지 확인해볼게요 🙄"
   ]
  },
  {
   "cell_type": "code",
   "execution_count": 55,
   "metadata": {},
   "outputs": [
    {
     "data": {
      "text/plain": [
       "([41.8956049,\n",
       "  41.8846582,\n",
       "  41.8905226,\n",
       "  42.0583217,\n",
       "  41.8866036,\n",
       "  41.9000869,\n",
       "  41.8590541,\n",
       "  41.9102031,\n",
       "  41.9097558,\n",
       "  41.8345302,\n",
       "  41.9276207,\n",
       "  nan,\n",
       "  41.9384419,\n",
       "  41.9451044,\n",
       "  41.9301107],\n",
       " [-87.67996149999999,\n",
       "  -87.6476668,\n",
       "  -87.6307834,\n",
       "  -87.6837479,\n",
       "  -87.64853649999999,\n",
       "  -87.6253366,\n",
       "  -87.6252007,\n",
       "  -87.68287529999999,\n",
       "  -87.7176727,\n",
       "  -87.6456492,\n",
       "  -87.706792,\n",
       "  nan,\n",
       "  -87.64464369999999,\n",
       "  -87.6636812,\n",
       "  -87.7072408])"
      ]
     },
     "execution_count": 55,
     "metadata": {},
     "output_type": "execute_result"
    }
   ],
   "source": [
    "lat[:15], lng[:15]"
   ]
  },
  {
   "cell_type": "markdown",
   "metadata": {},
   "source": [
    "잘 뽑아온 것 같네요, 이것들을 데이터프레임에 칼럼으로 추가해줄거에요."
   ]
  },
  {
   "cell_type": "code",
   "execution_count": 56,
   "metadata": {},
   "outputs": [
    {
     "data": {
      "text/html": [
       "<div>\n",
       "<style scoped>\n",
       "    .dataframe tbody tr th:only-of-type {\n",
       "        vertical-align: middle;\n",
       "    }\n",
       "\n",
       "    .dataframe tbody tr th {\n",
       "        vertical-align: top;\n",
       "    }\n",
       "\n",
       "    .dataframe thead th {\n",
       "        text-align: right;\n",
       "    }\n",
       "</style>\n",
       "<table border=\"1\" class=\"dataframe\">\n",
       "  <thead>\n",
       "    <tr style=\"text-align: right;\">\n",
       "      <th></th>\n",
       "      <th>lat</th>\n",
       "      <th>lng</th>\n",
       "    </tr>\n",
       "    <tr>\n",
       "      <th>Rank</th>\n",
       "      <th></th>\n",
       "      <th></th>\n",
       "    </tr>\n",
       "  </thead>\n",
       "  <tbody>\n",
       "    <tr>\n",
       "      <th>1</th>\n",
       "      <td>41.895605</td>\n",
       "      <td>-87.679961</td>\n",
       "    </tr>\n",
       "    <tr>\n",
       "      <th>2</th>\n",
       "      <td>41.884658</td>\n",
       "      <td>-87.647667</td>\n",
       "    </tr>\n",
       "    <tr>\n",
       "      <th>3</th>\n",
       "      <td>41.890523</td>\n",
       "      <td>-87.630783</td>\n",
       "    </tr>\n",
       "    <tr>\n",
       "      <th>4</th>\n",
       "      <td>42.058322</td>\n",
       "      <td>-87.683748</td>\n",
       "    </tr>\n",
       "    <tr>\n",
       "      <th>5</th>\n",
       "      <td>41.886604</td>\n",
       "      <td>-87.648536</td>\n",
       "    </tr>\n",
       "  </tbody>\n",
       "</table>\n",
       "</div>"
      ],
      "text/plain": [
       "            lat        lng\n",
       "Rank                      \n",
       "1     41.895605 -87.679961\n",
       "2     41.884658 -87.647667\n",
       "3     41.890523 -87.630783\n",
       "4     42.058322 -87.683748\n",
       "5     41.886604 -87.648536"
      ]
     },
     "execution_count": 56,
     "metadata": {},
     "output_type": "execute_result"
    }
   ],
   "source": [
    "df['lat'] = lat \n",
    "df['lng'] = lng\n",
    "df[['lat','lng']].head()"
   ]
  },
  {
   "cell_type": "markdown",
   "metadata": {},
   "source": [
    "그럼 이제 드디어! folium으로 시각화 해볼게요. 우선 가게들의 위도와 경도의 평균으로 지도를 가져와볼거에요. 그래야 우리가 원하는 샌드위치 맛집들이 대략적으로 한 면에 들어오겠죠? 😉"
   ]
  },
  {
   "cell_type": "markdown",
   "metadata": {},
   "source": [
    "#### follium으로 지도에 표시하기"
   ]
  },
  {
   "cell_type": "code",
   "execution_count": 57,
   "metadata": {},
   "outputs": [
    {
     "data": {
      "text/html": [
       "<div style=\"width:100%;\"><div style=\"position:relative;width:100%;height:0;padding-bottom:60%;\"><span style=\"color:#565656\">Make this Notebook Trusted to load map: File -> Trust Notebook</span><iframe src=\"about:blank\" style=\"position:absolute;width:100%;height:100%;left:0;top:0;border:none !important;\" data-html=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 onload=\"this.contentDocument.open();this.contentDocument.write(atob(this.getAttribute('data-html')));this.contentDocument.close();\" allowfullscreen webkitallowfullscreen mozallowfullscreen></iframe></div></div>"
      ],
      "text/plain": [
       "<folium.folium.Map at 0x1a2c9755188>"
      ]
     },
     "execution_count": 57,
     "metadata": {},
     "output_type": "execute_result"
    }
   ],
   "source": [
    "mapping = folium.Map(location=[df['lat'].mean(), df['lng'].mean()], \n",
    "                                      zoom_start=11)\n",
    "folium.Marker([df['lat'].mean(), df['lng'].mean()], \n",
    "                                      popup='center').add_to(mapping)\n",
    "mapping"
   ]
  },
  {
   "cell_type": "markdown",
   "metadata": {},
   "source": [
    "marker를 사용해 center를 표시해줬어요. popup은 marker 클릭 시 나오는 이름을 설정해주는 거에요.\n",
    "\n",
    "그럼 for문을 사용해 주소가 Multiple이 아닐 경우에만 지도에 표기하도록 할게요. popup으로 샌드위치 맛집의 이름도 표기해주고요."
   ]
  },
  {
   "cell_type": "code",
   "execution_count": 58,
   "metadata": {},
   "outputs": [
    {
     "data": {
      "text/html": [
       "<div style=\"width:100%;\"><div style=\"position:relative;width:100%;height:0;padding-bottom:60%;\"><span style=\"color:#565656\">Make this Notebook Trusted to load map: File -> Trust Notebook</span><iframe src=\"about:blank\" style=\"position:absolute;width:100%;height:100%;left:0;top:0;border:none !important;\" data-html=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 onload=\"this.contentDocument.open();this.contentDocument.write(atob(this.getAttribute('data-html')));this.contentDocument.close();\" allowfullscreen webkitallowfullscreen mozallowfullscreen></iframe></div></div>"
      ],
      "text/plain": [
       "<folium.folium.Map at 0x1a2cd02bfc8>"
      ]
     },
     "execution_count": 58,
     "metadata": {},
     "output_type": "execute_result"
    }
   ],
   "source": [
    "mapping = folium.Map(location=[df['lat'].mean(), df['lng'].mean()], \n",
    "                     zoom_start=11)\n",
    "\n",
    "for n in df.index:\n",
    "    if df['Address'][n] != 'Multiple':\n",
    "        folium.Marker([df['lat'][n], df['lng'][n]], \n",
    "                                      popup=df['Cafe'][n]).add_to(mapping)\n",
    "\n",
    "mapping"
   ]
  },
  {
   "cell_type": "markdown",
   "metadata": {},
   "source": [
    "짠! 완성되었습니다 👏👏 여기까지 달려오신 여러분들을 위해 박수~"
   ]
  },
  {
   "cell_type": "markdown",
   "metadata": {},
   "source": [
    "## 공부를 마치며 😺"
   ]
  },
  {
   "cell_type": "markdown",
   "metadata": {},
   "source": [
    "이번 시간에는 크롤링을 통해 데이터를 모으고, 구글 맵으로 표시까지 해보았습니다. 확실히 한 눈에 볼 수 있어 보기 편하네요. 웹 크롤링은 데이터를 모을 때 많이 사용되니 잘 알아두시면 많은 도움이 될거에요. 이번 주차는 내용이 조금 많았죠? 이 모든 내용을 다 외운다! 정복한다! 이런 마음으로 공부하기 보다는 음~ 이런게 있구나~ 이럴땐 이런 걸 사용하는구나~ 하는 느낌으로 공부하시면 마음도 편하고 부담이 덜할거에요. 이번 주도 모두 수고 많으셨습니다. 질문은 항상 두 팔 벌려 환영해요 ~ 그럼 다음 주에 더 재미있는 내용으로 만납시당. 안뇽 ~ 👋"
   ]
  }
 ],
 "metadata": {
  "kernelspec": {
   "display_name": "Python 3",
   "language": "python",
   "name": "python3"
  },
  "language_info": {
   "codemirror_mode": {
    "name": "ipython",
    "version": 3
   },
   "file_extension": ".py",
   "mimetype": "text/x-python",
   "name": "python",
   "nbconvert_exporter": "python",
   "pygments_lexer": "ipython3",
   "version": "3.7.6"
  }
 },
 "nbformat": 4,
 "nbformat_minor": 4
}
