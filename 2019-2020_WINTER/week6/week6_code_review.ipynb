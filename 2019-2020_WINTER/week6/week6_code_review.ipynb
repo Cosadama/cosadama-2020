{
  "nbformat": 4,
  "nbformat_minor": 0,
  "metadata": {
    "colab": {
      "name": "week6_code_review.ipynb",
      "provenance": [],
      "collapsed_sections": [],
      "authorship_tag": "ABX9TyMTumJ5DtGpCeXi+hg29+Zu",
      "include_colab_link": true
    },
    "kernelspec": {
      "name": "python3",
      "display_name": "Python 3"
    }
  },
  "cells": [
    {
      "cell_type": "markdown",
      "metadata": {
        "id": "view-in-github",
        "colab_type": "text"
      },
      "source": [
        "<a href=\"https://colab.research.google.com/github/givemetarte/cosadama/blob/master/week6_code_review.ipynb\" target=\"_parent\"><img src=\"https://colab.research.google.com/assets/colab-badge.svg\" alt=\"Open In Colab\"/></a>"
      ]
    },
    {
      "cell_type": "markdown",
      "metadata": {
        "id": "ki7Ame5eqJ_6",
        "colab_type": "text"
      },
      "source": [
        "## Last Code Review\n",
        "\n",
        "와, 벌써 마지막이 다가왔네요. 마지막 코드리뷰라니...! 모집한지 얼마되지 않은 것 같은데 마지막 주차라니 감회가 새롭네요ㅎㅎ \n",
        "\n",
        "다들 건강은 잘 챙기고 있으시죠. 요즘과 같은 상황에 건강 조심하시고 어딜 나가든 마스크와 30초 손씻기 잊지 마세요! (feat. 학교종이 땡땡땡 부르면 30초 손 씻을 수 있답니다.)\n",
        "\n",
        "그러면 마지막 코드리뷰를 시작해볼까요? \n",
        "\n",
        "엣헴,, 그 전에 제가 음악 하나 추천해드리죠.\n",
        "요즘 빠져 있는 노래인데, [Hamzaa - Sunday Morning](https://youtu.be/YXcKDbSe80w)! \n",
        "Coding makes me feel like it's sunday morning🎶 (헛소리 죄송,,,)\n",
        "들으면서 코드 리뷰를 보시길...!\n",
        "\n",
        "\n"
      ]
    },
    {
      "cell_type": "markdown",
      "metadata": {
        "id": "x43ALOQvuJF0",
        "colab_type": "text"
      },
      "source": [
        "## 1-2번. \n",
        "\n",
        "이 문제를 다들 많이 어려워하신 것 같습니다. 어차피 1-2번은 같이 해결해도 되는 문제라 함께 코드 리뷰를 하려 합니다. 1-2번의 경우에는 이 문제를 해결할 수 있는 생각의 흐름에 초점을 맞춰 리뷰해보겠습니다! \n",
        "\n",
        "이 문제에서 여러분께 알려드리고 싶은 것 중의 하나가 **직접 부품을 만들어 사용할 수 있느냐**였어요. 즉, 2번에서 제시한 것처럼 프로그램 파일로 각자 부품을 만들어 제공할 수 있는지를 확인하려고 했죠. 왜냐면 코딩은 **팀플레이**이기 때문이에요. 어떤 프로그램을 만들 때 모듈을 만들어 분담을 하게 됩니다. 그러니까 너는 readmodule 만들어, 나는 writemodule 만들게, 그럼 너는 main에다 우리가 준 것을 가지고 조립하면 되겠다 이런 식으로 말이죠. 그래서 이렇게 하나씩 부품을 만들 수 있는게 중요합니다. \n",
        "\n",
        "- Seed님과 정찬님의 코드에서 이렇게 모듈화하려는 시도가 보였습니다! \n",
        "\n",
        "### readmodule.py 만들기! \n",
        "\n",
        "우선은 파일 이름을 받고 데이터를 읽는 부분을 먼저 만들어야겠죠. 요 부분을 하나의 함수로 만들어 하나의 readmodule.py에다 담아야 하구요. \n",
        "\n",
        "- 우선 'readdata()'라는 함수를 만들어야겠죠. readmodule.py에서 readdata 함수를 만들어 실제 사용하는 것은 후에 main.py에서 실행할 거에요. \n",
        "- while문 하나로 파일 읽기 작업을 모두 끝낼 수 있습니다. \n",
        "- 파일을 찾지 못했을 때에는 'FileNotFoundError'라는 오류가 뜹니다. 그 때를 대비하여 except로 처리해주었구요. \n",
        "- 이후 파일을 찾았을 때에는 파일 안의 점수가 이상한 것일까봐 ValueError 시를 대비하기 위하여 except로 처리해주었습니다. 안에 데이터 자체가 없을 때를 고려한 것인데요, 그 때에는 임의의 숫자로 0 을 채워넣었습니다. 통계를 좀 배우시게 되면, 나중에는 이 결측값 처리를 어떻게 할 것인가도 중요해요. 0 으로 처리하냐, 아니면 평균으로 채워넣을 것이냐, 아니면 중간값으로 넣을 것이냐 등 데이터의 특성에 따라 어떤 것을 채워넣을 것인지가 중요해집니다. (이후 판다스로 데이터 분석을 하게 되면 아실 거에요!) \n",
        "- 그래서 최종적으로 readdata() 함수를 실행하게 되면 scorelist가 출력되는거죠. \n",
        "\n",
        "아이디어만 간단하게 보세요. 제가 입력한 성적파일(csv)가 여러분과 달라서 여러분이 실행하게 될 시에 오류가 생길 수도 있어요. 또한 이 코드는 숫자가 음수일 경우에는 그대로 음수를 계산하게 된답니다. (사실 고쳐야 하는데 너무 귀찮아서리...ㅠ 이 코드는 과제로 제출한 코드 그대로 가져와봤어요.)  중간에 지난 과제를 통해 배운 절댓값 함수를 사용하면 간단히 해결할 수 있겠죠?! 그렇다면 readmodule.py 속 readdata 함수는 끝! "
      ]
    },
    {
      "cell_type": "code",
      "metadata": {
        "id": "rz3nSyOfsDPq",
        "colab_type": "code",
        "colab": {}
      },
      "source": [
        "scorelist = []\n",
        "\n",
        "def readdata():\n",
        "    ufile = input('파일 이름을 입력하세요.: ')\n",
        "    while True:\n",
        "        try:\n",
        "            f = open(\"%s.csv\" % ufile, 'r', encoding='CP949')\n",
        "        except FileNotFoundError:\n",
        "            print('파일을 찾지 못했습니다!')\n",
        "            ufile = input('파일 이름을 입력하세요.: ')\n",
        "        else:\n",
        "            print('파일을 찾았습니다!')\n",
        "            lines = f.readlines()\n",
        "            for line in lines[1:]:\n",
        "                line = line[:-1]\n",
        "                s = line.split(',')\n",
        "                try:\n",
        "                    s.append(int(s[1])+int(s[2])+int(s[3]))\n",
        "                    s.append(int(s[1])+int(s[2])+int(s[3]))\n",
        "                    s.append(int(s[4])/3)\n",
        "                except ValueError:\n",
        "                    print('데이터를 수정하세요.')\n",
        "                    s.append(0)\n",
        "                    s.append(0)\n",
        "                    s.append(0)\n",
        "                scorelist.append(s)\n",
        "            f.close()\n",
        "            break\n",
        "    return scorelist\n",
        "\n",
        "    # csv 파일을 안 넣어서 실행하면 오류가 나요! 그래서 복습 시에 본인의 csv 파일에 맞춰 이 코드를 요리조리 수정해보세요."
      ],
      "execution_count": 0,
      "outputs": []
    },
    {
      "cell_type": "markdown",
      "metadata": {
        "id": "RR4gqXlV2_nA",
        "colab_type": "text"
      },
      "source": [
        "### writemodule.py 만들기 \n",
        "\n",
        "writemodule.py에서는 성적표를 출력하는 makereport라는 함수를 만들어야 합니다. 여기서 관건은 **동일한 이름의 파일을 어떻게 인식할 것이냐**겠죠. \n",
        "\n",
        "- 'os.path.exists()' 함수를 사용하면 내가 선택한 경로에 이 이름을 가진 함수가 있는지를 판단할 수 있습니다. 그래서 구글링을 꼭 해봐야 한다는...! exists() 속의 경로는 본인이 지정하고 싶은 경로를 설정하시면 됩니다. 제 컴퓨터 기준이라 똑같이 따라하면 당연히 안 되구요, 이 경로는 구글링하여 찾아보는 걸로...! (제 설명보다는 구글링이 더 나을거라 판단했죠...ㅎㅎ)\n",
        "- 같은 이름의 파일이 없다면 else를 따르게 됩니다. 이후 성적을 만드는 과정은 csv 파일에 따라 달라질 수 있으니 이것 또한 아이디어를 참고만 하면 좋겠죠.\n",
        "- makereport()의 괄호 안에 ranklist가 들어가있죠. 앞의 함수의 괄호 안에는 아무것도 적혀있지 않았는데요. 이런 경우에는 꼭 makereport()에 무언가를 집어넣어야 함수가 작동한다는 것을 의미합니다. 앞의 readdata()의 경우에는 그냥 이것만 적어도 함수가 작동하구요. \n",
        "\n",
        "요렇게 해서 writemodule.py에다가 makereport 파일을 담아보았습니다! 생각보다 간단하죠? \n"
      ]
    },
    {
      "cell_type": "code",
      "metadata": {
        "id": "YuO8iH-k3VVo",
        "colab_type": "code",
        "colab": {}
      },
      "source": [
        "def makereport(ranklist):\n",
        "    if os.path.exists(\"/Users/harampark/Desktop/visualprogramming/_report.txt\") == True:\n",
        "        print('동일한 이름의 파일이 있습니다.\\n덮어씌우시겠습니까?’)\n",
        "        answer = input('예, 아니오로만 입력하세요.: ')\n",
        "        if answer == '예':\n",
        "            f = open(\"_report.txt\", 'w', encoding='CP949')\n",
        "        else:\n",
        "            newName = input('새로운 이름을 입력하세요.: ')\n",
        "            f = open(\"%s.txt\" % newName, 'w', encoding='CP949')\n",
        "    else:\n",
        "        f = open(\"_report.txt\", 'w', encoding='CP949')\n",
        "    index = ['ranking', 'number', 'korean',\n",
        "             'English', 'Math', 'Sum', 'Average’]\n",
        "    f.write(“% 7s % 6s % 6s % 7s % 4s % 3s % 7s\\n” %\n",
        "            (index[0], index[1], index[2], index[3], index[4], index[5], index[6]))\n",
        "    for i in range(7):\n",
        "        f.write(\"%7d %6s %6s %7s %4s %3d %7.1f\\n\" % (\n",
        "            (i+1), ranklist[i][0], ranklist[i][1], ranklist[i][2], ranklist[i][3], ranklist[i][4], ranklist[i][5]))\n",
        "    f.close()"
      ],
      "execution_count": 0,
      "outputs": []
    },
    {
      "cell_type": "markdown",
      "metadata": {
        "id": "KunrIgQ55oUK",
        "colab_type": "text"
      },
      "source": [
        "### 마지막 main.py 만들기 \n",
        "\n",
        "main.py는 말그대로 이것저것 조각들을 이어붙이는 부분을 말해요. 쉽게 말해 뼈대인거죠. 그래서 어떻게 조각조각들을 잘 붙여서 작동하게 만들 것인가를 고민해야지요. \n",
        "\n",
        "- 여기에서는 우선 우리가 만들어둔 함수들을 import 해야 겠죠. 아래에서 볼 수 있듯, readmodule과 writemodule을 import 해주었답니다. 그렇게 되면 각 파일에서 만들어둔 함수를 사용할 수 있겠죠. \n",
        "- 함수 makerank를 만든 이유는 학생들을 랭킹 순으로 정렬하기 위한 것이었어요. readdata에다가 담아줄 수도 있지만 이렇게 따로 함수를 만들어 주는 것이 저는 더 편하다고 생각했거든요. 이것은 선택 사항입니다. 본인이 더 괜찮다고 생각하는대로 만들면 됩니다. \n",
        "- 그래서 이 코드의 실행은 마지막 3줄 안에 끝나게 됩니다. \n",
        "\n"
      ]
    },
    {
      "cell_type": "code",
      "metadata": {
        "id": "VL_pGonn53g-",
        "colab_type": "code",
        "colab": {}
      },
      "source": [
        "import os     # 요 os는 writemodule에 들어가있어도 됩니다. \n",
        "import readmodule\n",
        "import writemodule\n",
        "\n",
        "\n",
        "def makerank(scorelist):\n",
        "    # 평균 리스트만 뽑기\n",
        "    averlist = []\n",
        "    for i in range(10):\n",
        "        averlist.append(int(scorelist[i][-1]))\n",
        "    averlist.sort()\n",
        "    averlist.reverse()\n",
        "\n",
        "    # 평균을 가지고 같은 순서대로 집어넣으면 정렬이 됨.\n",
        "    ranklist = []\n",
        "    for i in averlist:\n",
        "        for j in range(10):\n",
        "            if i == scorelist[j][-1]:\n",
        "                ranklist.append(scorelist[j])\n",
        "    return ranklist\n",
        "\n",
        "\n",
        "scorelist = readmodule.readdata()\n",
        "ranklist = makerank(scorelist)\n",
        "writemodule.makereport(ranklist)\n"
      ],
      "execution_count": 0,
      "outputs": []
    },
    {
      "cell_type": "markdown",
      "metadata": {
        "id": "B2hH6QrZ8B0c",
        "colab_type": "text"
      },
      "source": [
        "import os와 makerank도 앞의 readmodule에다 기능을 함께 넣어준다고 하면, main.py의 코드는 단 5줄이면 끝나죠! **모듈을 만드는 것의 강력함에 대해 잘 아시겠죠?!** 정말 간단하고 깨끗하게 코드를 작성하게 되는거죠. "
      ]
    },
    {
      "cell_type": "code",
      "metadata": {
        "id": "bKo-pHka8UZG",
        "colab_type": "code",
        "colab": {}
      },
      "source": [
        "import readmodule\n",
        "import writemodule\n",
        "\n",
        "scorelist = readmodule.readdata()\n",
        "ranklist = makerank(scorelist)\n",
        "writemodule.makereport(ranklist)"
      ],
      "execution_count": 0,
      "outputs": []
    },
    {
      "cell_type": "markdown",
      "metadata": {
        "id": "nvipd6Ar9Hhn",
        "colab_type": "text"
      },
      "source": [
        " ## 3. 계산기 만들기 \n",
        "\n",
        " 계산기 만들기 문제는 교안에 나와있는 것을 응용하면 되는 문제라 다들 잘 풀어주셨습니다. 답안이 대부분 똑같아서 그냥 예시답안만 써보고 끝내보죠!"
      ]
    },
    {
      "cell_type": "code",
      "metadata": {
        "id": "Ue3w941j9_kW",
        "colab_type": "code",
        "outputId": "52034872-cef5-4044-c8ed-a8fafcfcb14a",
        "colab": {
          "base_uri": "https://localhost:8080/",
          "height": 51
        }
      },
      "source": [
        "class Calc:\n",
        "\n",
        "    def __init__(self, num=True):\n",
        "        self.result = 0\n",
        "\n",
        "    def setvalue(self, num):\n",
        "        self.result = num\n",
        "        return self.result\n",
        "\n",
        "    def add(self, num):\n",
        "        self.result = self.result + num\n",
        "        return self.result\n",
        "\n",
        "    def minus(self, num):\n",
        "        self.result = self.result - num\n",
        "        return self.result\n",
        "\n",
        "    def print(self):\n",
        "        return print(self.result)\n",
        "\n",
        "    def getvalue(self):\n",
        "        return self.result\n",
        "\n",
        "\n",
        "cal1 = Calc()\n",
        "cal2 = Calc(5)\n",
        "cal1.setvalue(10)\n",
        "cal1.add(20)\n",
        "cal1.minus(5)\n",
        "cal1.print()\n",
        "cal2.setvalue(3)\n",
        "cal2.add(cal1.getvalue())\n",
        "cal2.print()\n"
      ],
      "execution_count": 0,
      "outputs": [
        {
          "output_type": "stream",
          "text": [
            "25\n",
            "28\n"
          ],
          "name": "stdout"
        }
      ]
    },
    {
      "cell_type": "markdown",
      "metadata": {
        "id": "TX5B5aEb-Cxu",
        "colab_type": "text"
      },
      "source": [
        "## 짝짝짝짝짝 👏👏👏👏👏\n",
        "\n",
        "지금까지 코사다마 파이썬 기본 문법을 함께 해주신 여러분들께 감사드립니다. 함께 해서 무척 재미있는 시간이었고, 여러분들께도 도움이 되었으면 하네요! \n",
        "\n",
        "개강하고의 코사다마는 아직 명확하게 정해지지 않았지만 그래도 계속해서 진행하려 합니다. 소모임의 형태든, 창의학점제의 형태든 여러분들과 함께 할 수 있으면 좋겠군요. 파이썬 한번 해봤으면 그래도 **크롤링**은 해봐야하지 않겠습니까!!! 다음 학기부터는 배운 것을 토대로 크롤링을 해보려구요. 작은 프로젝트들도 함께 하면서요. 진짜 다음 학기부터 제대로 하는 건데 여기서 그만두면 넘 아쉽지 않나효...😂그러니 망설이지 마시고 얼른 저, 문희, 용주에게 연락주세요!!!!! \n",
        "\n",
        "그리고 우리 고생한 분들과 함께 회식을 해야하지 않겠습니까!!!! 되는 시간을 좀 투표하려고 하니 많이 참여해주세욥. \n",
        "\n",
        "여러분들, 그동안 감사했습니다. \n",
        "건강 조심하세요!"
      ]
    }
  ]
}