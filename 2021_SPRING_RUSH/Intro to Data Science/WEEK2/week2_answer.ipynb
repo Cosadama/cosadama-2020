{
 "cells": [
  {
   "cell_type": "markdown",
   "metadata": {},
   "source": [
    "# 🦉COSADAMA Introduction to Data Science Study\n",
    "\n",
    "- 작성자: 박하람 \n",
    "\n",
    "## WEEK2 - Answer\n",
    "\n",
    "### 2.1. NumPy\n",
    "\n",
    "#### 실습1"
   ]
  },
  {
   "cell_type": "code",
   "execution_count": 1,
   "metadata": {},
   "outputs": [],
   "source": [
    "import numpy as np"
   ]
  },
  {
   "cell_type": "code",
   "execution_count": 2,
   "metadata": {},
   "outputs": [
    {
     "name": "stdout",
     "output_type": "stream",
     "text": [
      "[ -1   0   1   0   1   0  -1  -2  -3  -2  -3  -2  -3  -2  -3  -2  -1  -2\n",
      "  -1  -2  -1   0   1   2   3   2   3   2   1   0   1   2   1   2   3   2\n",
      "   1   2   3   2   1   0   1   0   1   0  -1   0  -1   0  -1   0  -1   0\n",
      "   1   0  -1  -2  -3  -4  -3  -4  -5  -6  -7  -8  -7  -8  -9 -10  -9 -10\n",
      "  -9 -10 -11 -10 -11 -10  -9 -10  -9  -8  -7  -8  -7  -6  -7  -8  -9 -10\n",
      "  -9 -10  -9  -8  -7  -6  -5  -4  -3  -2  -1   0   1   2   1   2   3   2\n",
      "   3   2   3   4   5   4   5   4   5   4   3   2   3   2   1   2   3   2\n",
      "   1   2   3   4   3   2   1   2   3   4   5   4   5   4   5   4   3   2\n",
      "   3   2   3   2   3   2   1   0   1   0   1   0  -1  -2  -3  -4  -3  -4\n",
      "  -3  -2  -1   0  -1   0  -1  -2  -3  -4  -5  -4  -5  -4  -5  -4  -5  -6\n",
      "  -7  -8  -7  -8  -9 -10 -11 -10  -9  -8  -9 -10 -11 -10 -11 -10 -11 -12\n",
      " -13 -12 -13 -14 -15 -14 -13 -14 -15 -16 -15 -14 -13 -14 -13 -14 -13 -12\n",
      " -11 -10 -11 -10  -9  -8  -7  -8  -9  -8  -7  -8  -7  -8  -9  -8  -7  -6\n",
      "  -7  -6  -7  -8  -7  -6  -7  -8  -9  -8  -9  -8  -9 -10  -9 -10  -9  -8\n",
      "  -7  -8  -7  -6  -7  -8  -7  -8  -7  -6  -7  -8  -7  -8  -7  -6  -7  -8\n",
      "  -7  -6  -5  -6  -5  -4  -5  -4  -3  -2  -1  -2  -3  -2  -3  -2  -1  -2\n",
      "  -3  -2  -3  -2  -1  -2  -1  -2  -3  -4  -3  -4  -5  -6  -5  -4  -3  -2\n",
      "  -3  -2  -1   0  -1  -2  -1  -2  -3  -4  -3  -2  -3  -2  -1  -2  -1   0\n",
      "   1   2   1   0  -1   0  -1   0   1   2   3   2   1   0   1   2   1   2\n",
      "   1   0   1   0   1   2   3   2   3   4   5   6   5   6   7   8   9   8\n",
      "   9   8   9  10   9  10  11  12  13  14  13  14  13  14  13  14  15  16\n",
      "  17  18  19  18  17  16  17  16  17  18  17  18  19  20  21  20  21  20\n",
      "  19  18  17  18  17  18  19  18  19  20  19  20  21  22  21  22  21  22\n",
      "  23  22  21  20  19  18  19  18  19  20  21  20  19  20  19  18  17  18\n",
      "  19  20  21  20  19  20  21  20  21  20  21  20  19  20  19  18  17  16\n",
      "  17  18  17  18  19  20  19  20  21  22  21  20  19  18  17  18  17  18\n",
      "  19  18  17  18  17  18  17  16  17  18  17  16  17  16  17  18  17  16\n",
      "  15  16  15  16  15  16  15  14  15  16  15  16  15  16  15  16  15  14\n",
      "  13  14  13  14  13  12  13  14  13  12  11  10  11  10   9  10  11  12\n",
      "  13  12  11  12  13  14  15  14  13  12  11  12  11  12  13  12  11  12\n",
      "  11  10  11  10   9  10  11  10  11  10  11  10   9  10   9  10   9   8\n",
      "   7   6   5   6   7   6   5   4   5   4   3   4   3   2   1   2   3   4\n",
      "   3   2   3   4   5   4   5   4   3   2   3   4   5   4   5   6   5   4\n",
      "   3   2   3   4   3   2   1   0  -1   0   1   0  -1   0   1   2   1   2\n",
      "   1   2   1   2   3   2   1   0   1   0  -1   0  -1   0   1   2   1   2\n",
      "   1   2   3   4   5   6   5   4   5   6   7   8   9  10   9  10  11  10\n",
      "   9   8   9  10   9   8   7   6   7   8   9   8   9   8   9  10   9   8\n",
      "   7   8   7   6   5   6   5   4   3   2   1   0   1   0  -1   0   1   2\n",
      "   1   0   1   0  -1   0  -1  -2  -1   0  -1   0   1   2   3   4   5   4\n",
      "   5   4   5   6   5   6   5   4   5   6   7   8   9   8   7   8   9   8\n",
      "   9  10  11  10  11  10  11  12  13  14  13  12  11  12  11  10   9   8\n",
      "   7   8   9   8   9  10  11  12  13  12  13  14  13  12  13  14  13  12\n",
      "  11  12  11  12  11  10  11  12  11  12  13  14  15  14  13  12  11  10\n",
      "  11  10   9  10   9  10   9   8   9   8   9  10  11  10   9  10   9  10\n",
      "  11  12  11  10   9  10  11  12  13  14  15  16  15  16  15  14  15  14\n",
      "  13  12  11  10   9   8   9  10  11  10   9   8   9  10  11  12  11  10\n",
      "  11  10  11  10  11  10  11  12  13  14  15  14  15  16  15  16  15  14\n",
      "  15  14  15  16  17  18  17  18  19  20  21  20  19  18  19  18  17  18\n",
      "  17  16  15  16  17  16  15  16  17  18  19  20  21  20  21  20  21  22\n",
      "  23  24  25  26  27  26  25  26  27  26  27  28  27  28  27  28  27  28\n",
      "  29  30  31  30  29  28  27  26  25  24  25  24  25  24  25  24  25  26\n",
      "  25  26  25  26  25  26  27  26  27  26  25  26  27  26  27  28  29  28\n",
      "  29  28  27  28  27  28  29  28  29  28  29  28  29  28  29  28  29  30\n",
      "  29  30  29  30  31  32  31  32  33  32  33  32  31  32  31  32  33  34\n",
      "  33  34  33  34  35  36  37  36  35  34  33  32  33  32  31  32  33  34\n",
      "  35  36  37  36  35  36  35  34  35  34]\n"
     ]
    }
   ],
   "source": [
    "draws = np.random.randint(0,2,1000)\n",
    "steps = draws * 2 -1 \n",
    "walk = steps.cumsum()\n",
    "\n",
    "print(walk)"
   ]
  },
  {
   "cell_type": "markdown",
   "metadata": {},
   "source": [
    "#### 실습2"
   ]
  },
  {
   "cell_type": "code",
   "execution_count": 3,
   "metadata": {},
   "outputs": [
    {
     "data": {
      "text/plain": [
       "[<matplotlib.lines.Line2D at 0x110222e90>]"
      ]
     },
     "execution_count": 3,
     "metadata": {},
     "output_type": "execute_result"
    },
    {
     "data": {
      "image/png": "[encoded data removed]",
      "text/plain": [
       "<Figure size 432x288 with 1 Axes>"
      ]
     },
     "metadata": {
      "needs_background": "light"
     },
     "output_type": "display_data"
    }
   ],
   "source": [
    "import pandas as pd\n",
    "import matplotlib.pyplot as plt\n",
    "%matplotlib inline\n",
    "\n",
    "x = np.arange(-5,5,0.1)\n",
    "y = x**3 + 3*x**2 + 3*x + 1\n",
    "\n",
    "df = pd.DataFrame(x,y)\n",
    "plt.plot(df)"
   ]
  },
  {
   "cell_type": "markdown",
   "metadata": {},
   "source": [
    "### 2.2. Matplotlib\n",
    "\n",
    "#### 실습과제: 득표율 그래프 그리기"
   ]
  },
  {
   "cell_type": "code",
   "execution_count": 4,
   "metadata": {},
   "outputs": [],
   "source": [
    "import pandas as pd\n",
    "import matplotlib.pyplot as plt\n",
    "%matplotlib inline\n",
    "\n",
    "# 한글 폰트 설정\n",
    "import platform \n",
    "\n",
    "from matplotlib import font_manager, rc \n",
    "plt.rcParams['axes.unicode_minus'] = False\n",
    "\n",
    "if platform.system() == 'Darwin':\n",
    "    rc('font', family='AppleGothic')\n",
    "elif platform.system() == 'Windows':\n",
    "    path = \"c:/Windows/Fonts/malgun.ttf\"\n",
    "    font_name = font_manager.FontProperties(fname=path).get_name()\n",
    "    rc('font', family=font_name)\n",
    "else:\n",
    "    print('Unknown system')"
   ]
  },
  {
   "cell_type": "code",
   "execution_count": 5,
   "metadata": {},
   "outputs": [
    {
     "data": {
      "image/png": "[encoded data removed]",
      "text/plain": [
       "<Figure size 432x288 with 1 Axes>"
      ]
     },
     "metadata": {},
     "output_type": "display_data"
    },
    {
     "data": {
      "text/plain": [
       "<Figure size 432x288 with 0 Axes>"
      ]
     },
     "metadata": {},
     "output_type": "display_data"
    }
   ],
   "source": [
    "rate = {'홍길동': 20.0,'심청':37.3,'이순신': 21.3, '강감찬':21.3}\n",
    "s = pd.Series(rate)\n",
    "\n",
    "names = s.index\n",
    "rate = s\n",
    "colors = ['yellowgreen', 'lightskyblue', 'lightcoral', 'grey']\n",
    "explodes = (0.03, 0.03, 0.03, 0.03)\n",
    "\n",
    "plt.pie(rate,\n",
    "        labels=names,\n",
    "        colors=colors,\n",
    "        autopct='%1.2f%%',\n",
    "        explode=explodes\n",
    "        )\n",
    "plt.title('20대 선거 득표율', fontsize=20)\n",
    "plt.draw()\n",
    "plt.pause(10)\n",
    "plt.clf()"
   ]
  }
 ],
 "metadata": {
  "kernelspec": {
   "display_name": "Python 3",
   "language": "python",
   "name": "python3"
  },
  "language_info": {
   "codemirror_mode": {
    "name": "ipython",
    "version": 3
   },
   "file_extension": ".py",
   "mimetype": "text/x-python",
   "name": "python",
   "nbconvert_exporter": "python",
   "pygments_lexer": "ipython3",
   "version": "3.8.5"
  }
 },
 "nbformat": 4,
 "nbformat_minor": 2
}
