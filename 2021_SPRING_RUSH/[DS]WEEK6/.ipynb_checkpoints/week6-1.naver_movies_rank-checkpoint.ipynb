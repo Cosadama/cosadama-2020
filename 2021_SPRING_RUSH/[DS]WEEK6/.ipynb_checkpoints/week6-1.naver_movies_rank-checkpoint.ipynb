{
 "cells": [
  {
   "cell_type": "markdown",
   "metadata": {},
   "source": [
    "# COSADAMA Introduction to Data Science Study\n",
    "\n",
    "- 작성자: 조용주\n",
    "- 참고자료: 2020년 코사다마 데이터 분석 커리큘럼(박하람), 파이썬으로 데이터 주무르기(민형기), 점프 투 파이썬(박응용), 파이썬 입문과 크롤링 기초 부트캠프(잔재미코딩)\n",
    "- 교재: 158 - 166쪽 (깃헙 교안으로 공부하면서, 궁금한 부분은 교재를 참고하세요. 혹은 깃헙 교안을 다 보고 교재를 복습 겸 읽어봐도 됩니다!)\n",
    "\n",
    "## 네이버 영화 크롤링\n",
    "\n",
    "'네이버 영화 크롤링'에서는 네이버 영화 사이트에서 영화 제목, 평점, 일자까지 가져와 영화를 평점 순대로 시각화해보고, 일자에 따라 평점이 변화는지까지도 살펴보려 합니다. BeautifulSoup과 urllib을 다시 활용해보고 matplotlib으로 시각화까지 하려 합니다. \n",
    "\n",
    "### urllib과 BeautifulSoup으로 사이트에 접근하기 \n",
    "\n",
    "urllib과 BeautifulSoup으로 네이버 영화 평점 순 배열이 되어 있는 사이틀를 가져오려 합니다. 우리가 가져올 것은 영화의 이름, 평점, 날짜입니다.\n",
    "\n",
    "- [네이버 영화](https://movie.naver.com/movie/sdb/rank/rmovie.nhn?sel=cur&date=20200327) \n",
    "\n",
    "필요한 모듈들부터 import 해보겠습니다."
   ]
  },
  {
   "cell_type": "code",
   "execution_count": 1,
   "metadata": {},
   "outputs": [],
   "source": [
    "from bs4 import BeautifulSoup\n",
    "import urllib.request\n",
    "from urllib.request import urlopen\n",
    "import pandas as pd"
   ]
  },
  {
   "cell_type": "markdown",
   "metadata": {},
   "source": [
    "그럼 해당 사이트의 html을 가져오기 위해서 필요한 기본적인 작업들을 가져와 봅시다."
   ]
  },
  {
   "cell_type": "code",
   "execution_count": 2,
   "metadata": {},
   "outputs": [],
   "source": [
    "url_base = 'https://movie.naver.com/'\n",
    "url_syb = 'movie/sdb/rank/rmovie.nhn?sel=cur&date=20200327'\n",
    "\n",
    "page = url_base+url_syb\n",
    "headers = {'User-Agent': 'Mozilla/5.0'}\n",
    "res = urllib.request.Request(page, headers =headers)\n",
    "html = urlopen(res).read()\n",
    "soup = BeautifulSoup(html, 'html.parser')\n",
    "# soup"
   ]
  },
  {
   "cell_type": "markdown",
   "metadata": {},
   "source": [
    "잘 가져온 것 같네요ㅎㅎ 그러면 이제 다시 크롬 개발자 도구를 켜서 우리가 필요로 하는 정보들의 태그가 어디에 있는지 확인하는 것이 중요하겠죠. 이름이 어디있나 봤더니 div 태그의 class tit5에 있습니다. (직접 찾아보는 것, 잊지마세요!)"
   ]
  },
  {
   "cell_type": "code",
   "execution_count": 3,
   "metadata": {},
   "outputs": [
    {
     "data": {
      "text/plain": [
       "[<div class=\"tit5\">\n",
       " <a href=\"/movie/bi/mi/basic.nhn?code=181710\" title=\"포드 V 페라리\">포드 V 페라리</a>\n",
       " </div>,\n",
       " <div class=\"tit5\">\n",
       " <a href=\"/movie/bi/mi/basic.nhn?code=19099\" title=\"트루먼 쇼\">트루먼 쇼</a>\n",
       " </div>,\n",
       " <div class=\"tit5\">\n",
       " <a href=\"/movie/bi/mi/basic.nhn?code=31013\" title=\"빌리 엘리어트\">빌리 엘리어트</a>\n",
       " </div>,\n",
       " <div class=\"tit5\">\n",
       " <a href=\"/movie/bi/mi/basic.nhn?code=189111\" title=\"두 교황\">두 교황</a>\n",
       " </div>,\n",
       " <div class=\"tit5\">\n",
       " <a href=\"/movie/bi/mi/basic.nhn?code=47152\" title=\"테이큰\">테이큰</a>\n",
       " </div>,\n",
       " <div class=\"tit5\">\n",
       " <a href=\"/movie/bi/mi/basic.nhn?code=148338\" title=\"동급생\">동급생</a>\n",
       " </div>,\n",
       " <div class=\"tit5\">\n",
       " <a href=\"/movie/bi/mi/basic.nhn?code=187308\" title=\"조조 래빗\">조조 래빗</a>\n",
       " </div>,\n",
       " <div class=\"tit5\">\n",
       " <a href=\"/movie/bi/mi/basic.nhn?code=168050\" title=\"스타 이즈 본\">스타 이즈 본</a>\n",
       " </div>,\n",
       " <div class=\"tit5\">\n",
       " <a href=\"/movie/bi/mi/basic.nhn?code=92075\" title=\"어바웃 타임\">어바웃 타임</a>\n",
       " </div>,\n",
       " <div class=\"tit5\">\n",
       " <a href=\"/movie/bi/mi/basic.nhn?code=158578\" title=\"흑집사 : 북 오브 더 아틀란틱\">흑집사 : 북 오브 더 아틀란틱</a>\n",
       " </div>,\n",
       " <div class=\"tit5\">\n",
       " <a href=\"/movie/bi/mi/basic.nhn?code=189000\" title=\"나이브스 아웃\">나이브스 아웃</a>\n",
       " </div>,\n",
       " <div class=\"tit5\">\n",
       " <a href=\"/movie/bi/mi/basic.nhn?code=17327\" title=\"히트\">히트</a>\n",
       " </div>,\n",
       " <div class=\"tit5\">\n",
       " <a href=\"/movie/bi/mi/basic.nhn?code=156185\" title=\"극장판 쿠로코의 농구 라스트 게임\">극장판 쿠로코의 농구 라스트 게임</a>\n",
       " </div>,\n",
       " <div class=\"tit5\">\n",
       " <a href=\"/movie/bi/mi/basic.nhn?code=24830\" title=\"노팅 힐\">노팅 힐</a>\n",
       " </div>,\n",
       " <div class=\"tit5\">\n",
       " <a href=\"/movie/bi/mi/basic.nhn?code=17970\" title=\"샤인\">샤인</a>\n",
       " </div>,\n",
       " <div class=\"tit5\">\n",
       " <a href=\"/movie/bi/mi/basic.nhn?code=188056\" title=\"결혼 이야기\">결혼 이야기</a>\n",
       " </div>,\n",
       " <div class=\"tit5\">\n",
       " <a href=\"/movie/bi/mi/basic.nhn?code=185282\" title=\"타오르는 여인의 초상\">타오르는 여인의 초상</a>\n",
       " </div>,\n",
       " <div class=\"tit5\">\n",
       " <a href=\"/movie/bi/mi/basic.nhn?code=96379\" title=\"비긴 어게인\">비긴 어게인</a>\n",
       " </div>,\n",
       " <div class=\"tit5\">\n",
       " <a href=\"/movie/bi/mi/basic.nhn?code=66158\" title=\"어거스트 러쉬\">어거스트 러쉬</a>\n",
       " </div>,\n",
       " <div class=\"tit5\">\n",
       " <a href=\"/movie/bi/mi/basic.nhn?code=187321\" title=\"1917\">1917</a>\n",
       " </div>,\n",
       " <div class=\"tit5\">\n",
       " <a href=\"/movie/bi/mi/basic.nhn?code=129072\" title=\"스포트라이트\">스포트라이트</a>\n",
       " </div>,\n",
       " <div class=\"tit5\">\n",
       " <a href=\"/movie/bi/mi/basic.nhn?code=27260\" title=\"파이트 클럽\">파이트 클럽</a>\n",
       " </div>,\n",
       " <div class=\"tit5\">\n",
       " <a href=\"/movie/bi/mi/basic.nhn?code=66440\" title=\"슬럼독 밀리어네어\">슬럼독 밀리어네어</a>\n",
       " </div>,\n",
       " <div class=\"tit5\">\n",
       " <a href=\"/movie/bi/mi/basic.nhn?code=186613\" title=\"작은 아씨들\">작은 아씨들</a>\n",
       " </div>,\n",
       " <div class=\"tit5\">\n",
       " <a href=\"/movie/bi/mi/basic.nhn?code=143456\" title=\"브리짓 존스의 베이비\">브리짓 존스의 베이비</a>\n",
       " </div>,\n",
       " <div class=\"tit5\">\n",
       " <a href=\"/movie/bi/mi/basic.nhn?code=154298\" title=\"아이리시맨\">아이리시맨</a>\n",
       " </div>,\n",
       " <div class=\"tit5\">\n",
       " <a href=\"/movie/bi/mi/basic.nhn?code=179307\" title=\"벌새\">벌새</a>\n",
       " </div>,\n",
       " <div class=\"tit5\">\n",
       " <a href=\"/movie/bi/mi/basic.nhn?code=31565\" title=\"브리짓 존스의 일기\">브리짓 존스의 일기</a>\n",
       " </div>,\n",
       " <div class=\"tit5\">\n",
       " <a href=\"/movie/bi/mi/basic.nhn?code=17062\" title=\"세븐\">세븐</a>\n",
       " </div>,\n",
       " <div class=\"tit5\">\n",
       " <a href=\"/movie/bi/mi/basic.nhn?code=134963\" title=\"라라랜드\">라라랜드</a>\n",
       " </div>,\n",
       " <div class=\"tit5\">\n",
       " <a href=\"/movie/bi/mi/basic.nhn?code=190728\" title=\"다크 워터스\">다크 워터스</a>\n",
       " </div>,\n",
       " <div class=\"tit5\">\n",
       " <a href=\"/movie/bi/mi/basic.nhn?code=10453\" title=\"졸업\">졸업</a>\n",
       " </div>,\n",
       " <div class=\"tit5\">\n",
       " <a href=\"/movie/bi/mi/basic.nhn?code=74610\" title=\"미드나잇 인 파리\">미드나잇 인 파리</a>\n",
       " </div>,\n",
       " <div class=\"tit5\">\n",
       " <a href=\"/movie/bi/mi/basic.nhn?code=101950\" title=\"그녀\">그녀</a>\n",
       " </div>,\n",
       " <div class=\"tit5\">\n",
       " <a href=\"/movie/bi/mi/basic.nhn?code=140895\" title=\"러브 라이브! 더 스쿨 아이돌 무비\">러브 라이브! 더 스쿨 아이돌 무비</a>\n",
       " </div>,\n",
       " <div class=\"tit5\">\n",
       " <a href=\"/movie/bi/mi/basic.nhn?code=189046\" title=\"신비아파트 극장판 하늘도깨비 대 요르문간드\">신비아파트 극장판 하늘도깨비 대 요르문간드</a>\n",
       " </div>,\n",
       " <div class=\"tit5\">\n",
       " <a href=\"/movie/bi/mi/basic.nhn?code=167651\" title=\"극한직업\">극한직업</a>\n",
       " </div>,\n",
       " <div class=\"tit5\">\n",
       " <a href=\"/movie/bi/mi/basic.nhn?code=161967\" title=\"기생충\">기생충</a>\n",
       " </div>,\n",
       " <div class=\"tit5\">\n",
       " <a href=\"/movie/bi/mi/basic.nhn?code=92505\" title=\"아무르\">아무르</a>\n",
       " </div>,\n",
       " <div class=\"tit5\">\n",
       " <a href=\"/movie/bi/mi/basic.nhn?code=66381\" title=\"맘마미아!\">맘마미아!</a>\n",
       " </div>,\n",
       " <div class=\"tit5\">\n",
       " <a href=\"/movie/bi/mi/basic.nhn?code=53152\" title=\"500일의 썸머\">500일의 썸머</a>\n",
       " </div>,\n",
       " <div class=\"tit5\">\n",
       " <a href=\"/movie/bi/mi/basic.nhn?code=173840\" title=\"레토\">레토</a>\n",
       " </div>,\n",
       " <div class=\"tit5\">\n",
       " <a href=\"/movie/bi/mi/basic.nhn?code=97612\" title=\"그랜드 부다페스트 호텔\">그랜드 부다페스트 호텔</a>\n",
       " </div>,\n",
       " <div class=\"tit5\">\n",
       " <a href=\"/movie/bi/mi/basic.nhn?code=86843\" title=\"케빈에 대하여\">케빈에 대하여</a>\n",
       " </div>,\n",
       " <div class=\"tit5\">\n",
       " <a href=\"/movie/bi/mi/basic.nhn?code=89755\" title=\"레미제라블\">레미제라블</a>\n",
       " </div>,\n",
       " <div class=\"tit5\">\n",
       " <a href=\"/movie/bi/mi/basic.nhn?code=181711\" title=\"러브 라이브! 선샤인!! 더 스쿨 아이돌 무비 오버 더 레인보우\">러브 라이브! 선샤인!! 더 스쿨 아이돌 무비 오버 더 레인보우</a>\n",
       " </div>,\n",
       " <div class=\"tit5\">\n",
       " <a href=\"/movie/bi/mi/basic.nhn?code=139438\" title=\"유스\">유스</a>\n",
       " </div>,\n",
       " <div class=\"tit5\">\n",
       " <a href=\"/movie/bi/mi/basic.nhn?code=179398\" title=\"메기\">메기</a>\n",
       " </div>,\n",
       " <div class=\"tit5\">\n",
       " <a href=\"/movie/bi/mi/basic.nhn?code=190720\" title=\"젠틀맨\">젠틀맨</a>\n",
       " </div>,\n",
       " <div class=\"tit5\">\n",
       " <a href=\"/movie/bi/mi/basic.nhn?code=78845\" title=\"우리도 사랑일까\">우리도 사랑일까</a>\n",
       " </div>]"
      ]
     },
     "execution_count": 3,
     "metadata": {},
     "output_type": "execute_result"
    }
   ],
   "source": [
    "soup.find_all('div', class_='tit5')"
   ]
  },
  {
   "cell_type": "markdown",
   "metadata": {},
   "source": [
    "잘 가져왔네요! 그럼 제목만 가져와보겠습니다. 우선 리스트를 벗기고, 첫번째 제목부터 가져와보도록 하죠."
   ]
  },
  {
   "cell_type": "code",
   "execution_count": 4,
   "metadata": {},
   "outputs": [
    {
     "data": {
      "text/plain": [
       "<div class=\"tit5\">\n",
       "<a href=\"/movie/bi/mi/basic.nhn?code=181710\" title=\"포드 V 페라리\">포드 V 페라리</a>\n",
       "</div>"
      ]
     },
     "execution_count": 4,
     "metadata": {},
     "output_type": "execute_result"
    }
   ],
   "source": [
    "soup.find_all('div', class_='tit5')[0]"
   ]
  },
  {
   "cell_type": "code",
   "execution_count": 5,
   "metadata": {},
   "outputs": [
    {
     "data": {
      "text/plain": [
       "'포드 V 페라리'"
      ]
     },
     "execution_count": 5,
     "metadata": {},
     "output_type": "execute_result"
    }
   ],
   "source": [
    "soup.find_all('div', class_='tit5')[0].a['title']"
   ]
  },
  {
   "cell_type": "code",
   "execution_count": 6,
   "metadata": {},
   "outputs": [
    {
     "data": {
      "text/plain": [
       "'포드 V 페라리'"
      ]
     },
     "execution_count": 6,
     "metadata": {},
     "output_type": "execute_result"
    }
   ],
   "source": [
    "soup.find_all('div', class_='tit5')[0].a.string"
   ]
  },
  {
   "cell_type": "markdown",
   "metadata": {},
   "source": [
    "이렇게 string을 써서도 가져올 수 있습니다. 그 다음은 평점을 가져와 볼게요! tag가 무엇인지 꼭 확인해보세요."
   ]
  },
  {
   "cell_type": "code",
   "execution_count": 7,
   "metadata": {},
   "outputs": [
    {
     "data": {
      "text/plain": [
       "'9.50'"
      ]
     },
     "execution_count": 7,
     "metadata": {},
     "output_type": "execute_result"
    }
   ],
   "source": [
    "soup.find_all('td', class_='point')[0].string"
   ]
  },
  {
   "cell_type": "markdown",
   "metadata": {},
   "source": [
    "날짜에 따라 달라지는 평점을 보고 싶기 때문에, 날짜를 판다스로 만들어 주려고 합니다. 날짜를 만덜어 주는 함수는 date_range입니다.\n",
    "\n",
    "2019-12-01부터 시작해 총 100일의 날짜를 생성하였습니다. freq에 무엇이 들어가냐에 따라 출력되는 날이 달라져요. 'D'는 일(day)이고, 시간까지 함께 뽑고 싶다면 'H'를 적어주면 됩니다. 그 외에도 다양한 것들이 있어요."
   ]
  },
  {
   "cell_type": "code",
   "execution_count": 8,
   "metadata": {},
   "outputs": [
    {
     "data": {
      "text/plain": [
       "DatetimeIndex(['2019-12-01', '2019-12-02', '2019-12-03', '2019-12-04',\n",
       "               '2019-12-05', '2019-12-06', '2019-12-07', '2019-12-08',\n",
       "               '2019-12-09', '2019-12-10', '2019-12-11', '2019-12-12',\n",
       "               '2019-12-13', '2019-12-14', '2019-12-15', '2019-12-16',\n",
       "               '2019-12-17', '2019-12-18', '2019-12-19', '2019-12-20',\n",
       "               '2019-12-21', '2019-12-22', '2019-12-23', '2019-12-24',\n",
       "               '2019-12-25', '2019-12-26', '2019-12-27', '2019-12-28',\n",
       "               '2019-12-29', '2019-12-30', '2019-12-31', '2020-01-01',\n",
       "               '2020-01-02', '2020-01-03', '2020-01-04', '2020-01-05',\n",
       "               '2020-01-06', '2020-01-07', '2020-01-08', '2020-01-09',\n",
       "               '2020-01-10', '2020-01-11', '2020-01-12', '2020-01-13',\n",
       "               '2020-01-14', '2020-01-15', '2020-01-16', '2020-01-17',\n",
       "               '2020-01-18', '2020-01-19', '2020-01-20', '2020-01-21',\n",
       "               '2020-01-22', '2020-01-23', '2020-01-24', '2020-01-25',\n",
       "               '2020-01-26', '2020-01-27', '2020-01-28', '2020-01-29',\n",
       "               '2020-01-30', '2020-01-31', '2020-02-01', '2020-02-02',\n",
       "               '2020-02-03', '2020-02-04', '2020-02-05', '2020-02-06',\n",
       "               '2020-02-07', '2020-02-08', '2020-02-09', '2020-02-10',\n",
       "               '2020-02-11', '2020-02-12', '2020-02-13', '2020-02-14',\n",
       "               '2020-02-15', '2020-02-16', '2020-02-17', '2020-02-18',\n",
       "               '2020-02-19', '2020-02-20', '2020-02-21', '2020-02-22',\n",
       "               '2020-02-23', '2020-02-24', '2020-02-25', '2020-02-26',\n",
       "               '2020-02-27', '2020-02-28', '2020-02-29', '2020-03-01',\n",
       "               '2020-03-02', '2020-03-03', '2020-03-04', '2020-03-05',\n",
       "               '2020-03-06', '2020-03-07', '2020-03-08', '2020-03-09'],\n",
       "              dtype='datetime64[ns]', freq='D')"
      ]
     },
     "execution_count": 8,
     "metadata": {},
     "output_type": "execute_result"
    }
   ],
   "source": [
    "date = pd.date_range('2019-12-01', periods=100, freq='D')\n",
    "date"
   ]
  },
  {
   "cell_type": "markdown",
   "metadata": {},
   "source": [
    "### 100 페이지 크롤링 하기\n",
    "\n",
    "그럼 해당 정보들이 모두 어디에 담겨져 있는지 알았으니, 이를 이제 가져와야 하겠죠. 그 전에 urllib.parse.quote에 대해 알아볼 것인데요."
   ]
  },
  {
   "cell_type": "code",
   "execution_count": 9,
   "metadata": {},
   "outputs": [
    {
     "data": {
      "text/plain": [
       "'%ED%8C%8C%EC%9D%B4%EC%8D%AC'"
      ]
     },
     "execution_count": 9,
     "metadata": {},
     "output_type": "execute_result"
    }
   ],
   "source": [
    "import urllib \n",
    "\n",
    "url = urllib.parse.quote('파이썬')\n",
    "url"
   ]
  },
  {
   "cell_type": "markdown",
   "metadata": {},
   "source": [
    "이렇게 urllib.parse.quote는 텍스트(한글이나 숫자)를 url에 적합한 용어로 바꿔주는 것을 의미합니다. 이것이 왜 필요하냐면, url 주소에 날짜가 적혀있으므로 날짜를 용이하게 바꿔주면서 크롤링 하기 위해서에요. \n",
    "\n",
    "- https://movie.naver.com/movie/sdb/rank/rmovie.nhn?sel=cur&date=20200327\n",
    "\n",
    "지난 시간에 했던 것이 기억날 것 같은데요, 여기에 맨 뒤 date를 변경해보세요. 그러면 그 일자에 맞춰서 영화 평점 순이 바뀌게 됩니다. 앞서 만들어둔 date를 활용해 url을 변경해주어 총 100 페이지에서 크롤링을 해올 것이랍니다."
   ]
  },
  {
   "cell_type": "code",
   "execution_count": 10,
   "metadata": {},
   "outputs": [
    {
     "name": "stderr",
     "output_type": "stream",
     "text": [
      "<ipython-input-10-76ef70998a7a>:10: TqdmDeprecationWarning: This function will be removed in tqdm==5.0.0\n",
      "Please use `tqdm.notebook.tqdm` instead of `tqdm.tqdm_notebook`\n",
      "  for today in tqdm_notebook(date):\n"
     ]
    },
    {
     "data": {
      "application/vnd.jupyter.widget-view+json": {
       "model_id": "96decf223c3249f79f79591bca930614",
       "version_major": 2,
       "version_minor": 0
      },
      "text/plain": [
       "HBox(children=(HTML(value=''), FloatProgress(value=0.0), HTML(value='')))"
      ]
     },
     "metadata": {},
     "output_type": "display_data"
    },
    {
     "name": "stdout",
     "output_type": "stream",
     "text": [
      "\n"
     ]
    }
   ],
   "source": [
    "import urllib\n",
    "from tqdm import tqdm_notebook\n",
    "\n",
    "movie_date = []\n",
    "movie_name = []\n",
    "movie_point = []\n",
    "\n",
    "date = pd.date_range('2019-12-01', periods=100, freq='D')\n",
    "\n",
    "for today in tqdm_notebook(date):\n",
    "    html = \"http://movie.naver.com/\" + \\\n",
    "                                    \"movie/sdb/rank/rmovie.nhn?sel=cur&date={date}\"\n",
    "    response = urlopen(html.format(date=\n",
    "                                   urllib.parse.quote(today.strftime('%Y%m%d'))))\n",
    "    soup = BeautifulSoup(response, \"html.parser\")\n",
    "    \n",
    "    end = len(soup.find_all('td', 'point'))\n",
    "    \n",
    "    movie_date.extend([today for n in range(0, end)])\n",
    "    movie_name.extend([soup.find_all('div', 'tit5')[n].a.string for n in range(0, end)])\n",
    "    movie_point.extend([soup.find_all('td', 'point')[n].string for n in range(0, end)])"
   ]
  },
  {
   "cell_type": "markdown",
   "metadata": {},
   "source": [
    "그냥 data를 quote에 넣어주면 error가 뜨는데요, url 날짜 양식에 맞도록 형식을 저장해주는 것이 필요합니다. 형식에 맞춰서 년-월-일이 나타나도록 해주는 것이 .surftime이에요.\n",
    "\n",
    "또한 여기서는 append가 아닌 extend()를 사용했죠. 차이점은 아래 링크를 보시면 됩니다. \n",
    "- [extend()와 append()의 차이점](https://hashcode.co.kr/questions/23/파이썬에-append와-extend의-차이점)\n",
    "\n",
    "그럼 잘 가져와졌는지 확인해보겠습니다."
   ]
  },
  {
   "cell_type": "code",
   "execution_count": 11,
   "metadata": {},
   "outputs": [
    {
     "data": {
      "text/plain": [
       "[Timestamp('2019-12-01 00:00:00', freq='D'),\n",
       " Timestamp('2019-12-01 00:00:00', freq='D'),\n",
       " Timestamp('2019-12-01 00:00:00', freq='D'),\n",
       " Timestamp('2019-12-01 00:00:00', freq='D'),\n",
       " Timestamp('2019-12-01 00:00:00', freq='D')]"
      ]
     },
     "execution_count": 11,
     "metadata": {},
     "output_type": "execute_result"
    }
   ],
   "source": [
    "movie_date[:5]"
   ]
  },
  {
   "cell_type": "code",
   "execution_count": 12,
   "metadata": {},
   "outputs": [
    {
     "data": {
      "text/plain": [
       "['주전장', '교회오빠', '시간을 달리는 소녀', '윤희에게', '늑대아이']"
      ]
     },
     "execution_count": 12,
     "metadata": {},
     "output_type": "execute_result"
    }
   ],
   "source": [
    "movie_name[:5]"
   ]
  },
  {
   "cell_type": "code",
   "execution_count": 13,
   "metadata": {},
   "outputs": [
    {
     "data": {
      "text/plain": [
       "['9.49', '9.27', '9.20', '9.17', '9.11']"
      ]
     },
     "execution_count": 13,
     "metadata": {},
     "output_type": "execute_result"
    }
   ],
   "source": [
    "movie_point[:5]"
   ]
  },
  {
   "cell_type": "markdown",
   "metadata": {},
   "source": [
    "날짜, 영화 이름, 영화 평점까지 모두 잘 가져왔습니다. 이것을 이제 dataframe에 담아 가공하기 좋게 넣어보죠."
   ]
  },
  {
   "cell_type": "code",
   "execution_count": 14,
   "metadata": {},
   "outputs": [
    {
     "data": {
      "text/html": [
       "<div>\n",
       "<style scoped>\n",
       "    .dataframe tbody tr th:only-of-type {\n",
       "        vertical-align: middle;\n",
       "    }\n",
       "\n",
       "    .dataframe tbody tr th {\n",
       "        vertical-align: top;\n",
       "    }\n",
       "\n",
       "    .dataframe thead th {\n",
       "        text-align: right;\n",
       "    }\n",
       "</style>\n",
       "<table border=\"1\" class=\"dataframe\">\n",
       "  <thead>\n",
       "    <tr style=\"text-align: right;\">\n",
       "      <th></th>\n",
       "      <th>date</th>\n",
       "      <th>name</th>\n",
       "      <th>point</th>\n",
       "    </tr>\n",
       "  </thead>\n",
       "  <tbody>\n",
       "    <tr>\n",
       "      <th>0</th>\n",
       "      <td>2019-12-01</td>\n",
       "      <td>주전장</td>\n",
       "      <td>9.49</td>\n",
       "    </tr>\n",
       "    <tr>\n",
       "      <th>1</th>\n",
       "      <td>2019-12-01</td>\n",
       "      <td>교회오빠</td>\n",
       "      <td>9.27</td>\n",
       "    </tr>\n",
       "    <tr>\n",
       "      <th>2</th>\n",
       "      <td>2019-12-01</td>\n",
       "      <td>시간을 달리는 소녀</td>\n",
       "      <td>9.20</td>\n",
       "    </tr>\n",
       "    <tr>\n",
       "      <th>3</th>\n",
       "      <td>2019-12-01</td>\n",
       "      <td>윤희에게</td>\n",
       "      <td>9.17</td>\n",
       "    </tr>\n",
       "    <tr>\n",
       "      <th>4</th>\n",
       "      <td>2019-12-01</td>\n",
       "      <td>늑대아이</td>\n",
       "      <td>9.11</td>\n",
       "    </tr>\n",
       "    <tr>\n",
       "      <th>5</th>\n",
       "      <td>2019-12-01</td>\n",
       "      <td>미쓰백</td>\n",
       "      <td>9.10</td>\n",
       "    </tr>\n",
       "    <tr>\n",
       "      <th>6</th>\n",
       "      <td>2019-12-01</td>\n",
       "      <td>아이리시맨</td>\n",
       "      <td>8.96</td>\n",
       "    </tr>\n",
       "    <tr>\n",
       "      <th>7</th>\n",
       "      <td>2019-12-01</td>\n",
       "      <td>벌새</td>\n",
       "      <td>8.89</td>\n",
       "    </tr>\n",
       "    <tr>\n",
       "      <th>8</th>\n",
       "      <td>2019-12-01</td>\n",
       "      <td>여배우는 오늘도</td>\n",
       "      <td>8.84</td>\n",
       "    </tr>\n",
       "    <tr>\n",
       "      <th>9</th>\n",
       "      <td>2019-12-01</td>\n",
       "      <td>너의 이름은.</td>\n",
       "      <td>8.76</td>\n",
       "    </tr>\n",
       "  </tbody>\n",
       "</table>\n",
       "</div>"
      ],
      "text/plain": [
       "        date        name point\n",
       "0 2019-12-01         주전장  9.49\n",
       "1 2019-12-01        교회오빠  9.27\n",
       "2 2019-12-01  시간을 달리는 소녀  9.20\n",
       "3 2019-12-01        윤희에게  9.17\n",
       "4 2019-12-01        늑대아이  9.11\n",
       "5 2019-12-01         미쓰백  9.10\n",
       "6 2019-12-01       아이리시맨  8.96\n",
       "7 2019-12-01          벌새  8.89\n",
       "8 2019-12-01    여배우는 오늘도  8.84\n",
       "9 2019-12-01     너의 이름은.  8.76"
      ]
     },
     "execution_count": 14,
     "metadata": {},
     "output_type": "execute_result"
    }
   ],
   "source": [
    "movie = pd.DataFrame({'date':movie_date, 'name':movie_name,\n",
    "                     'point':movie_point})\n",
    "movie.head(10)"
   ]
  },
  {
   "cell_type": "markdown",
   "metadata": {},
   "source": [
    "여기에는 날짜 별로 영화들이 담겨있어요. 날짜가 아닌 영화별로 점수를 보고 싶다면, pivot_table을 활용하면 됩니다. 여러 날짜에 동일한 영화들이 있으니, 평점은 점수의 평균으로 합쳐보겠습니다. (교재는 합산이지만 저는 평균이 더 낫겠다 생각했어요. 합산으로 할 경우 영화가 걸린 일 수에 영향을 많이 받으니까요) "
   ]
  },
  {
   "cell_type": "code",
   "execution_count": 15,
   "metadata": {},
   "outputs": [
    {
     "ename": "DataError",
     "evalue": "No numeric types to aggregate",
     "output_type": "error",
     "traceback": [
      "\u001b[0;31m---------------------------------------------------------------------------\u001b[0m",
      "\u001b[0;31mDataError\u001b[0m                                 Traceback (most recent call last)",
      "\u001b[0;32m<ipython-input-15-305c43c74370>\u001b[0m in \u001b[0;36m<module>\u001b[0;34m\u001b[0m\n\u001b[1;32m      1\u001b[0m \u001b[0;32mimport\u001b[0m \u001b[0mnumpy\u001b[0m \u001b[0;32mas\u001b[0m \u001b[0mnp\u001b[0m\u001b[0;34m\u001b[0m\u001b[0;34m\u001b[0m\u001b[0m\n\u001b[0;32m----> 2\u001b[0;31m \u001b[0mmovie_unique\u001b[0m \u001b[0;34m=\u001b[0m \u001b[0mpd\u001b[0m\u001b[0;34m.\u001b[0m\u001b[0mpivot_table\u001b[0m\u001b[0;34m(\u001b[0m\u001b[0mmovie\u001b[0m\u001b[0;34m,\u001b[0m \u001b[0mindex\u001b[0m\u001b[0;34m=\u001b[0m\u001b[0;34m[\u001b[0m\u001b[0;34m'name'\u001b[0m\u001b[0;34m]\u001b[0m\u001b[0;34m,\u001b[0m \u001b[0maggfunc\u001b[0m\u001b[0;34m=\u001b[0m\u001b[0mnp\u001b[0m\u001b[0;34m.\u001b[0m\u001b[0mmean\u001b[0m\u001b[0;34m)\u001b[0m\u001b[0;34m\u001b[0m\u001b[0;34m\u001b[0m\u001b[0m\n\u001b[0m\u001b[1;32m      3\u001b[0m \u001b[0mmovie_best\u001b[0m \u001b[0;34m=\u001b[0m \u001b[0mmovie_unique\u001b[0m\u001b[0;34m.\u001b[0m\u001b[0msort_values\u001b[0m\u001b[0;34m(\u001b[0m\u001b[0mby\u001b[0m\u001b[0;34m=\u001b[0m\u001b[0;34m'point'\u001b[0m\u001b[0;34m,\u001b[0m \u001b[0mascending\u001b[0m\u001b[0;34m=\u001b[0m\u001b[0;32mFalse\u001b[0m\u001b[0;34m)\u001b[0m\u001b[0;34m\u001b[0m\u001b[0;34m\u001b[0m\u001b[0m\n\u001b[1;32m      4\u001b[0m \u001b[0mmovie_best\u001b[0m\u001b[0;34m.\u001b[0m\u001b[0mhead\u001b[0m\u001b[0;34m(\u001b[0m\u001b[0;34m)\u001b[0m\u001b[0;34m\u001b[0m\u001b[0;34m\u001b[0m\u001b[0m\n",
      "\u001b[0;32m~/opt/anaconda3/lib/python3.8/site-packages/pandas/core/reshape/pivot.py\u001b[0m in \u001b[0;36mpivot_table\u001b[0;34m(data, values, index, columns, aggfunc, fill_value, margins, dropna, margins_name, observed)\u001b[0m\n\u001b[1;32m    110\u001b[0m \u001b[0;34m\u001b[0m\u001b[0m\n\u001b[1;32m    111\u001b[0m     \u001b[0mgrouped\u001b[0m \u001b[0;34m=\u001b[0m \u001b[0mdata\u001b[0m\u001b[0;34m.\u001b[0m\u001b[0mgroupby\u001b[0m\u001b[0;34m(\u001b[0m\u001b[0mkeys\u001b[0m\u001b[0;34m,\u001b[0m \u001b[0mobserved\u001b[0m\u001b[0;34m=\u001b[0m\u001b[0mobserved\u001b[0m\u001b[0;34m)\u001b[0m\u001b[0;34m\u001b[0m\u001b[0;34m\u001b[0m\u001b[0m\n\u001b[0;32m--> 112\u001b[0;31m     \u001b[0magged\u001b[0m \u001b[0;34m=\u001b[0m \u001b[0mgrouped\u001b[0m\u001b[0;34m.\u001b[0m\u001b[0magg\u001b[0m\u001b[0;34m(\u001b[0m\u001b[0maggfunc\u001b[0m\u001b[0;34m)\u001b[0m\u001b[0;34m\u001b[0m\u001b[0;34m\u001b[0m\u001b[0m\n\u001b[0m\u001b[1;32m    113\u001b[0m     \u001b[0;32mif\u001b[0m \u001b[0mdropna\u001b[0m \u001b[0;32mand\u001b[0m \u001b[0misinstance\u001b[0m\u001b[0;34m(\u001b[0m\u001b[0magged\u001b[0m\u001b[0;34m,\u001b[0m \u001b[0mABCDataFrame\u001b[0m\u001b[0;34m)\u001b[0m \u001b[0;32mand\u001b[0m \u001b[0mlen\u001b[0m\u001b[0;34m(\u001b[0m\u001b[0magged\u001b[0m\u001b[0;34m.\u001b[0m\u001b[0mcolumns\u001b[0m\u001b[0;34m)\u001b[0m\u001b[0;34m:\u001b[0m\u001b[0;34m\u001b[0m\u001b[0;34m\u001b[0m\u001b[0m\n\u001b[1;32m    114\u001b[0m         \u001b[0magged\u001b[0m \u001b[0;34m=\u001b[0m \u001b[0magged\u001b[0m\u001b[0;34m.\u001b[0m\u001b[0mdropna\u001b[0m\u001b[0;34m(\u001b[0m\u001b[0mhow\u001b[0m\u001b[0;34m=\u001b[0m\u001b[0;34m\"all\"\u001b[0m\u001b[0;34m)\u001b[0m\u001b[0;34m\u001b[0m\u001b[0;34m\u001b[0m\u001b[0m\n",
      "\u001b[0;32m~/opt/anaconda3/lib/python3.8/site-packages/pandas/core/groupby/generic.py\u001b[0m in \u001b[0;36maggregate\u001b[0;34m(self, func, engine, engine_kwargs, *args, **kwargs)\u001b[0m\n\u001b[1;32m    949\u001b[0m         \u001b[0mfunc\u001b[0m \u001b[0;34m=\u001b[0m \u001b[0mmaybe_mangle_lambdas\u001b[0m\u001b[0;34m(\u001b[0m\u001b[0mfunc\u001b[0m\u001b[0;34m)\u001b[0m\u001b[0;34m\u001b[0m\u001b[0;34m\u001b[0m\u001b[0m\n\u001b[1;32m    950\u001b[0m \u001b[0;34m\u001b[0m\u001b[0m\n\u001b[0;32m--> 951\u001b[0;31m         \u001b[0mresult\u001b[0m\u001b[0;34m,\u001b[0m \u001b[0mhow\u001b[0m \u001b[0;34m=\u001b[0m \u001b[0mself\u001b[0m\u001b[0;34m.\u001b[0m\u001b[0m_aggregate\u001b[0m\u001b[0;34m(\u001b[0m\u001b[0mfunc\u001b[0m\u001b[0;34m,\u001b[0m \u001b[0;34m*\u001b[0m\u001b[0margs\u001b[0m\u001b[0;34m,\u001b[0m \u001b[0;34m**\u001b[0m\u001b[0mkwargs\u001b[0m\u001b[0;34m)\u001b[0m\u001b[0;34m\u001b[0m\u001b[0;34m\u001b[0m\u001b[0m\n\u001b[0m\u001b[1;32m    952\u001b[0m         \u001b[0;32mif\u001b[0m \u001b[0mhow\u001b[0m \u001b[0;32mis\u001b[0m \u001b[0;32mNone\u001b[0m\u001b[0;34m:\u001b[0m\u001b[0;34m\u001b[0m\u001b[0;34m\u001b[0m\u001b[0m\n\u001b[1;32m    953\u001b[0m             \u001b[0;32mreturn\u001b[0m \u001b[0mresult\u001b[0m\u001b[0;34m\u001b[0m\u001b[0;34m\u001b[0m\u001b[0m\n",
      "\u001b[0;32m~/opt/anaconda3/lib/python3.8/site-packages/pandas/core/base.py\u001b[0m in \u001b[0;36m_aggregate\u001b[0;34m(self, arg, *args, **kwargs)\u001b[0m\n\u001b[1;32m    484\u001b[0m         \u001b[0mf\u001b[0m \u001b[0;34m=\u001b[0m \u001b[0mself\u001b[0m\u001b[0;34m.\u001b[0m\u001b[0m_get_cython_func\u001b[0m\u001b[0;34m(\u001b[0m\u001b[0marg\u001b[0m\u001b[0;34m)\u001b[0m\u001b[0;34m\u001b[0m\u001b[0;34m\u001b[0m\u001b[0m\n\u001b[1;32m    485\u001b[0m         \u001b[0;32mif\u001b[0m \u001b[0mf\u001b[0m \u001b[0;32mand\u001b[0m \u001b[0;32mnot\u001b[0m \u001b[0margs\u001b[0m \u001b[0;32mand\u001b[0m \u001b[0;32mnot\u001b[0m \u001b[0mkwargs\u001b[0m\u001b[0;34m:\u001b[0m\u001b[0;34m\u001b[0m\u001b[0;34m\u001b[0m\u001b[0m\n\u001b[0;32m--> 486\u001b[0;31m             \u001b[0;32mreturn\u001b[0m \u001b[0mgetattr\u001b[0m\u001b[0;34m(\u001b[0m\u001b[0mself\u001b[0m\u001b[0;34m,\u001b[0m \u001b[0mf\u001b[0m\u001b[0;34m)\u001b[0m\u001b[0;34m(\u001b[0m\u001b[0;34m)\u001b[0m\u001b[0;34m,\u001b[0m \u001b[0;32mNone\u001b[0m\u001b[0;34m\u001b[0m\u001b[0;34m\u001b[0m\u001b[0m\n\u001b[0m\u001b[1;32m    487\u001b[0m \u001b[0;34m\u001b[0m\u001b[0m\n\u001b[1;32m    488\u001b[0m         \u001b[0;31m# caller can react\u001b[0m\u001b[0;34m\u001b[0m\u001b[0;34m\u001b[0m\u001b[0;34m\u001b[0m\u001b[0m\n",
      "\u001b[0;32m~/opt/anaconda3/lib/python3.8/site-packages/pandas/core/groupby/groupby.py\u001b[0m in \u001b[0;36mmean\u001b[0;34m(self, numeric_only)\u001b[0m\n\u001b[1;32m   1391\u001b[0m         \u001b[0mName\u001b[0m\u001b[0;34m:\u001b[0m \u001b[0mB\u001b[0m\u001b[0;34m,\u001b[0m \u001b[0mdtype\u001b[0m\u001b[0;34m:\u001b[0m \u001b[0mfloat64\u001b[0m\u001b[0;34m\u001b[0m\u001b[0;34m\u001b[0m\u001b[0m\n\u001b[1;32m   1392\u001b[0m         \"\"\"\n\u001b[0;32m-> 1393\u001b[0;31m         return self._cython_agg_general(\n\u001b[0m\u001b[1;32m   1394\u001b[0m             \u001b[0;34m\"mean\"\u001b[0m\u001b[0;34m,\u001b[0m\u001b[0;34m\u001b[0m\u001b[0;34m\u001b[0m\u001b[0m\n\u001b[1;32m   1395\u001b[0m             \u001b[0malt\u001b[0m\u001b[0;34m=\u001b[0m\u001b[0;32mlambda\u001b[0m \u001b[0mx\u001b[0m\u001b[0;34m,\u001b[0m \u001b[0maxis\u001b[0m\u001b[0;34m:\u001b[0m \u001b[0mSeries\u001b[0m\u001b[0;34m(\u001b[0m\u001b[0mx\u001b[0m\u001b[0;34m)\u001b[0m\u001b[0;34m.\u001b[0m\u001b[0mmean\u001b[0m\u001b[0;34m(\u001b[0m\u001b[0mnumeric_only\u001b[0m\u001b[0;34m=\u001b[0m\u001b[0mnumeric_only\u001b[0m\u001b[0;34m)\u001b[0m\u001b[0;34m,\u001b[0m\u001b[0;34m\u001b[0m\u001b[0;34m\u001b[0m\u001b[0m\n",
      "\u001b[0;32m~/opt/anaconda3/lib/python3.8/site-packages/pandas/core/groupby/generic.py\u001b[0m in \u001b[0;36m_cython_agg_general\u001b[0;34m(self, how, alt, numeric_only, min_count)\u001b[0m\n\u001b[1;32m   1019\u001b[0m         \u001b[0mself\u001b[0m\u001b[0;34m,\u001b[0m \u001b[0mhow\u001b[0m\u001b[0;34m:\u001b[0m \u001b[0mstr\u001b[0m\u001b[0;34m,\u001b[0m \u001b[0malt\u001b[0m\u001b[0;34m=\u001b[0m\u001b[0;32mNone\u001b[0m\u001b[0;34m,\u001b[0m \u001b[0mnumeric_only\u001b[0m\u001b[0;34m:\u001b[0m \u001b[0mbool\u001b[0m \u001b[0;34m=\u001b[0m \u001b[0;32mTrue\u001b[0m\u001b[0;34m,\u001b[0m \u001b[0mmin_count\u001b[0m\u001b[0;34m:\u001b[0m \u001b[0mint\u001b[0m \u001b[0;34m=\u001b[0m \u001b[0;34m-\u001b[0m\u001b[0;36m1\u001b[0m\u001b[0;34m\u001b[0m\u001b[0;34m\u001b[0m\u001b[0m\n\u001b[1;32m   1020\u001b[0m     ) -> DataFrame:\n\u001b[0;32m-> 1021\u001b[0;31m         agg_blocks, agg_items = self._cython_agg_blocks(\n\u001b[0m\u001b[1;32m   1022\u001b[0m             \u001b[0mhow\u001b[0m\u001b[0;34m,\u001b[0m \u001b[0malt\u001b[0m\u001b[0;34m=\u001b[0m\u001b[0malt\u001b[0m\u001b[0;34m,\u001b[0m \u001b[0mnumeric_only\u001b[0m\u001b[0;34m=\u001b[0m\u001b[0mnumeric_only\u001b[0m\u001b[0;34m,\u001b[0m \u001b[0mmin_count\u001b[0m\u001b[0;34m=\u001b[0m\u001b[0mmin_count\u001b[0m\u001b[0;34m\u001b[0m\u001b[0;34m\u001b[0m\u001b[0m\n\u001b[1;32m   1023\u001b[0m         )\n",
      "\u001b[0;32m~/opt/anaconda3/lib/python3.8/site-packages/pandas/core/groupby/generic.py\u001b[0m in \u001b[0;36m_cython_agg_blocks\u001b[0;34m(self, how, alt, numeric_only, min_count)\u001b[0m\n\u001b[1;32m   1128\u001b[0m \u001b[0;34m\u001b[0m\u001b[0m\n\u001b[1;32m   1129\u001b[0m         \u001b[0;32mif\u001b[0m \u001b[0;32mnot\u001b[0m \u001b[0;34m(\u001b[0m\u001b[0magg_blocks\u001b[0m \u001b[0;32mor\u001b[0m \u001b[0msplit_frames\u001b[0m\u001b[0;34m)\u001b[0m\u001b[0;34m:\u001b[0m\u001b[0;34m\u001b[0m\u001b[0;34m\u001b[0m\u001b[0m\n\u001b[0;32m-> 1130\u001b[0;31m             \u001b[0;32mraise\u001b[0m \u001b[0mDataError\u001b[0m\u001b[0;34m(\u001b[0m\u001b[0;34m\"No numeric types to aggregate\"\u001b[0m\u001b[0;34m)\u001b[0m\u001b[0;34m\u001b[0m\u001b[0;34m\u001b[0m\u001b[0m\n\u001b[0m\u001b[1;32m   1131\u001b[0m \u001b[0;34m\u001b[0m\u001b[0m\n\u001b[1;32m   1132\u001b[0m         \u001b[0;32mif\u001b[0m \u001b[0msplit_items\u001b[0m\u001b[0;34m:\u001b[0m\u001b[0;34m\u001b[0m\u001b[0;34m\u001b[0m\u001b[0m\n",
      "\u001b[0;31mDataError\u001b[0m: No numeric types to aggregate"
     ]
    }
   ],
   "source": [
    "import numpy as np\n",
    "movie_unique = pd.pivot_table(movie, index=['name'], aggfunc=np.mean)\n",
    "movie_best = movie_unique.sort_values(by='point', ascending=False)\n",
    "movie_best.head()"
   ]
  },
  {
   "cell_type": "markdown",
   "metadata": {},
   "source": [
    "어, 이렇게 하니 오류가 뜹니다. 왜 일까요? 오류를 읽어보니 'No numeric types to aggregate'라고 하죠? 그렇다는 얘기는 계산할 수 있는 숫자가 아니라는 얘깁니다. 그러면 point 컬럼의 자료형이 뭔지 볼게요."
   ]
  },
  {
   "cell_type": "code",
   "execution_count": 16,
   "metadata": {},
   "outputs": [
    {
     "name": "stdout",
     "output_type": "stream",
     "text": [
      "<class 'pandas.core.frame.DataFrame'>\n",
      "RangeIndex: 4499 entries, 0 to 4498\n",
      "Data columns (total 3 columns):\n",
      " #   Column  Non-Null Count  Dtype         \n",
      "---  ------  --------------  -----         \n",
      " 0   date    4499 non-null   datetime64[ns]\n",
      " 1   name    4499 non-null   object        \n",
      " 2   point   4499 non-null   object        \n",
      "dtypes: datetime64[ns](1), object(2)\n",
      "memory usage: 105.6+ KB\n"
     ]
    }
   ],
   "source": [
    "movie.info()"
   ]
  },
  {
   "cell_type": "markdown",
   "metadata": {},
   "source": [
    "보니까 point는 object라 계산이 안되었군요. 사실 앞의 13번 코드를 보면 이미 숫자로 출력되지 않은 것을 알 수 있습니다. 그럼 point를 숫자로 바꾸어줘야 계산이 되겠죠. 아래와 같이 바꾸어 주면 됩니다."
   ]
  },
  {
   "cell_type": "code",
   "execution_count": 17,
   "metadata": {},
   "outputs": [],
   "source": [
    "movie['point'] = movie['point'].astype('float64')"
   ]
  },
  {
   "cell_type": "code",
   "execution_count": 18,
   "metadata": {},
   "outputs": [
    {
     "data": {
      "text/plain": [
       "37215.25"
      ]
     },
     "execution_count": 18,
     "metadata": {},
     "output_type": "execute_result"
    }
   ],
   "source": [
    "movie['point'].sum()"
   ]
  },
  {
   "cell_type": "markdown",
   "metadata": {},
   "source": [
    "이제 잘 계산이 되네요. 그럼 다시 pivot_table을 해보죠."
   ]
  },
  {
   "cell_type": "code",
   "execution_count": 19,
   "metadata": {},
   "outputs": [
    {
     "data": {
      "text/html": [
       "<div>\n",
       "<style scoped>\n",
       "    .dataframe tbody tr th:only-of-type {\n",
       "        vertical-align: middle;\n",
       "    }\n",
       "\n",
       "    .dataframe tbody tr th {\n",
       "        vertical-align: top;\n",
       "    }\n",
       "\n",
       "    .dataframe thead th {\n",
       "        text-align: right;\n",
       "    }\n",
       "</style>\n",
       "<table border=\"1\" class=\"dataframe\">\n",
       "  <thead>\n",
       "    <tr style=\"text-align: right;\">\n",
       "      <th></th>\n",
       "      <th>point</th>\n",
       "    </tr>\n",
       "    <tr>\n",
       "      <th>name</th>\n",
       "      <th></th>\n",
       "    </tr>\n",
       "  </thead>\n",
       "  <tbody>\n",
       "    <tr>\n",
       "      <th>그린 북</th>\n",
       "      <td>9.606667</td>\n",
       "    </tr>\n",
       "    <tr>\n",
       "      <th>가버나움</th>\n",
       "      <td>9.590000</td>\n",
       "    </tr>\n",
       "    <tr>\n",
       "      <th>포드 V 페라리</th>\n",
       "      <td>9.540729</td>\n",
       "    </tr>\n",
       "    <tr>\n",
       "      <th>주전장</th>\n",
       "      <td>9.510000</td>\n",
       "    </tr>\n",
       "    <tr>\n",
       "      <th>원더</th>\n",
       "      <td>9.490000</td>\n",
       "    </tr>\n",
       "  </tbody>\n",
       "</table>\n",
       "</div>"
      ],
      "text/plain": [
       "             point\n",
       "name              \n",
       "그린 북      9.606667\n",
       "가버나움      9.590000\n",
       "포드 V 페라리  9.540729\n",
       "주전장       9.510000\n",
       "원더        9.490000"
      ]
     },
     "execution_count": 19,
     "metadata": {},
     "output_type": "execute_result"
    }
   ],
   "source": [
    "import numpy as np\n",
    "movie_unique = pd.pivot_table(movie, index=['name'], aggfunc=np.mean)\n",
    "movie_best = movie_unique.sort_values(by='point', ascending=False)\n",
    "movie_best.head()"
   ]
  },
  {
   "cell_type": "markdown",
   "metadata": {},
   "source": [
    "오호라, 잘 되었습니다. 그린 북과 가버나움이 평점이 높네요. 이것들 모두 제가 알기론 인권에 관한 영화로 알고 있는데 말이죠... 포드 V 페라리도 평점이 높습니다. 그럼 저는 82년생 김지영 영화가 얼마나 테러를 당했는지 보기 위해서 이 영화만 평점을 가져와 볼게요.\n",
    "\n",
    "- [pandas query 함수](https://kongdols-room.tistory.com/120)\n",
    "\n",
    "query 함수를 사용해 볼 것인데요, query는 조건식을 문자열로 입력 받아 해당 조건에 만족하는 행을 추출해주는 함수에요. 불린 인덱싱과 기능이 비슷하나, query가 방대한 양의 데이터를 처리할 때 성능면에서 더 우위가 높다고 해요."
   ]
  },
  {
   "cell_type": "code",
   "execution_count": 20,
   "metadata": {},
   "outputs": [
    {
     "data": {
      "text/html": [
       "<div>\n",
       "<style scoped>\n",
       "    .dataframe tbody tr th:only-of-type {\n",
       "        vertical-align: middle;\n",
       "    }\n",
       "\n",
       "    .dataframe tbody tr th {\n",
       "        vertical-align: top;\n",
       "    }\n",
       "\n",
       "    .dataframe thead th {\n",
       "        text-align: right;\n",
       "    }\n",
       "</style>\n",
       "<table border=\"1\" class=\"dataframe\">\n",
       "  <thead>\n",
       "    <tr style=\"text-align: right;\">\n",
       "      <th></th>\n",
       "      <th>date</th>\n",
       "      <th>name</th>\n",
       "      <th>point</th>\n",
       "    </tr>\n",
       "  </thead>\n",
       "  <tbody>\n",
       "    <tr>\n",
       "      <th>39</th>\n",
       "      <td>2019-12-01</td>\n",
       "      <td>82년생 김지영</td>\n",
       "      <td>6.69</td>\n",
       "    </tr>\n",
       "    <tr>\n",
       "      <th>87</th>\n",
       "      <td>2019-12-02</td>\n",
       "      <td>82년생 김지영</td>\n",
       "      <td>6.69</td>\n",
       "    </tr>\n",
       "    <tr>\n",
       "      <th>133</th>\n",
       "      <td>2019-12-03</td>\n",
       "      <td>82년생 김지영</td>\n",
       "      <td>6.69</td>\n",
       "    </tr>\n",
       "    <tr>\n",
       "      <th>181</th>\n",
       "      <td>2019-12-04</td>\n",
       "      <td>82년생 김지영</td>\n",
       "      <td>6.68</td>\n",
       "    </tr>\n",
       "    <tr>\n",
       "      <th>231</th>\n",
       "      <td>2019-12-05</td>\n",
       "      <td>82년생 김지영</td>\n",
       "      <td>6.68</td>\n",
       "    </tr>\n",
       "    <tr>\n",
       "      <th>...</th>\n",
       "      <td>...</td>\n",
       "      <td>...</td>\n",
       "      <td>...</td>\n",
       "    </tr>\n",
       "    <tr>\n",
       "      <th>3727</th>\n",
       "      <td>2020-02-21</td>\n",
       "      <td>82년생 김지영</td>\n",
       "      <td>6.69</td>\n",
       "    </tr>\n",
       "    <tr>\n",
       "      <th>3769</th>\n",
       "      <td>2020-02-22</td>\n",
       "      <td>82년생 김지영</td>\n",
       "      <td>6.69</td>\n",
       "    </tr>\n",
       "    <tr>\n",
       "      <th>3812</th>\n",
       "      <td>2020-02-23</td>\n",
       "      <td>82년생 김지영</td>\n",
       "      <td>6.69</td>\n",
       "    </tr>\n",
       "    <tr>\n",
       "      <th>3855</th>\n",
       "      <td>2020-02-24</td>\n",
       "      <td>82년생 김지영</td>\n",
       "      <td>6.69</td>\n",
       "    </tr>\n",
       "    <tr>\n",
       "      <th>3899</th>\n",
       "      <td>2020-02-25</td>\n",
       "      <td>82년생 김지영</td>\n",
       "      <td>6.69</td>\n",
       "    </tr>\n",
       "  </tbody>\n",
       "</table>\n",
       "<p>81 rows × 3 columns</p>\n",
       "</div>"
      ],
      "text/plain": [
       "           date      name  point\n",
       "39   2019-12-01  82년생 김지영   6.69\n",
       "87   2019-12-02  82년생 김지영   6.69\n",
       "133  2019-12-03  82년생 김지영   6.69\n",
       "181  2019-12-04  82년생 김지영   6.68\n",
       "231  2019-12-05  82년생 김지영   6.68\n",
       "...         ...       ...    ...\n",
       "3727 2020-02-21  82년생 김지영   6.69\n",
       "3769 2020-02-22  82년생 김지영   6.69\n",
       "3812 2020-02-23  82년생 김지영   6.69\n",
       "3855 2020-02-24  82년생 김지영   6.69\n",
       "3899 2020-02-25  82년생 김지영   6.69\n",
       "\n",
       "[81 rows x 3 columns]"
      ]
     },
     "execution_count": 20,
     "metadata": {},
     "output_type": "execute_result"
    }
   ],
   "source": [
    "tmp = movie.query('name == [\"82년생 김지영\"]')\n",
    "tmp"
   ]
  },
  {
   "cell_type": "markdown",
   "metadata": {},
   "source": [
    "ㅋㅋㅋㅋㅋ 6.68-6.69 처참하네요..ㅋㅋ 저는 불린 인덱싱으로 메기 영화도 한번 평점을 봤어요."
   ]
  },
  {
   "cell_type": "code",
   "execution_count": 21,
   "metadata": {},
   "outputs": [
    {
     "data": {
      "text/html": [
       "<div>\n",
       "<style scoped>\n",
       "    .dataframe tbody tr th:only-of-type {\n",
       "        vertical-align: middle;\n",
       "    }\n",
       "\n",
       "    .dataframe tbody tr th {\n",
       "        vertical-align: top;\n",
       "    }\n",
       "\n",
       "    .dataframe thead th {\n",
       "        text-align: right;\n",
       "    }\n",
       "</style>\n",
       "<table border=\"1\" class=\"dataframe\">\n",
       "  <thead>\n",
       "    <tr style=\"text-align: right;\">\n",
       "      <th></th>\n",
       "      <th>name</th>\n",
       "      <th>point</th>\n",
       "    </tr>\n",
       "  </thead>\n",
       "  <tbody>\n",
       "    <tr>\n",
       "      <th>23</th>\n",
       "      <td>메기</td>\n",
       "      <td>8.34</td>\n",
       "    </tr>\n",
       "    <tr>\n",
       "      <th>70</th>\n",
       "      <td>메기</td>\n",
       "      <td>8.33</td>\n",
       "    </tr>\n",
       "    <tr>\n",
       "      <th>118</th>\n",
       "      <td>메기</td>\n",
       "      <td>8.32</td>\n",
       "    </tr>\n",
       "    <tr>\n",
       "      <th>167</th>\n",
       "      <td>메기</td>\n",
       "      <td>8.32</td>\n",
       "    </tr>\n",
       "    <tr>\n",
       "      <th>218</th>\n",
       "      <td>메기</td>\n",
       "      <td>8.32</td>\n",
       "    </tr>\n",
       "    <tr>\n",
       "      <th>...</th>\n",
       "      <td>...</td>\n",
       "      <td>...</td>\n",
       "    </tr>\n",
       "    <tr>\n",
       "      <th>3758</th>\n",
       "      <td>메기</td>\n",
       "      <td>8.26</td>\n",
       "    </tr>\n",
       "    <tr>\n",
       "      <th>3800</th>\n",
       "      <td>메기</td>\n",
       "      <td>8.26</td>\n",
       "    </tr>\n",
       "    <tr>\n",
       "      <th>3844</th>\n",
       "      <td>메기</td>\n",
       "      <td>8.26</td>\n",
       "    </tr>\n",
       "    <tr>\n",
       "      <th>3887</th>\n",
       "      <td>메기</td>\n",
       "      <td>8.25</td>\n",
       "    </tr>\n",
       "    <tr>\n",
       "      <th>3930</th>\n",
       "      <td>메기</td>\n",
       "      <td>8.25</td>\n",
       "    </tr>\n",
       "  </tbody>\n",
       "</table>\n",
       "<p>88 rows × 2 columns</p>\n",
       "</div>"
      ],
      "text/plain": [
       "     name  point\n",
       "23     메기   8.34\n",
       "70     메기   8.33\n",
       "118    메기   8.32\n",
       "167    메기   8.32\n",
       "218    메기   8.32\n",
       "...   ...    ...\n",
       "3758   메기   8.26\n",
       "3800   메기   8.26\n",
       "3844   메기   8.26\n",
       "3887   메기   8.25\n",
       "3930   메기   8.25\n",
       "\n",
       "[88 rows x 2 columns]"
      ]
     },
     "execution_count": 21,
     "metadata": {},
     "output_type": "execute_result"
    }
   ],
   "source": [
    "movie.loc[movie['name'] == '메기', ['name','point']]"
   ]
  },
  {
   "cell_type": "markdown",
   "metadata": {},
   "source": [
    "오, 이건 비교적 좋습니다. 그럼 '82년생 김지영' 영화를 시간에 따른 평점을 시각화해볼게요."
   ]
  },
  {
   "cell_type": "code",
   "execution_count": 22,
   "metadata": {},
   "outputs": [
    {
     "name": "stderr",
     "output_type": "stream",
     "text": [
      "No handles with labels found to put in legend.\n"
     ]
    },
    {
     "data": {
      "image/png": "[encoded data removed]",
      "text/plain": [
       "<Figure size 864x576 with 1 Axes>"
      ]
     },
     "metadata": {
      "needs_background": "light"
     },
     "output_type": "display_data"
    }
   ],
   "source": [
    "import matplotlib.pyplot as plt \n",
    "%matplotlib inline \n",
    "\n",
    "plt.figure(figsize=(12,8))\n",
    "plt.plot(tmp['date'], tmp['point'])\n",
    "plt.legend(loc='best')\n",
    "plt.grid()\n",
    "plt.show()"
   ]
  },
  {
   "cell_type": "markdown",
   "metadata": {},
   "source": [
    "아, 이게 이거 하나만 표시하다보니 아주 세밀하게 y축이 나타났네요. 뭐 아무튼 평점은 6.68과 6.69에서 왔다갔다 합니다. "
   ]
  },
  {
   "cell_type": "markdown",
   "metadata": {},
   "source": [
    "### 영화별 날짜 변화에 따른 평점 변화 시각화 \n",
    "\n",
    "이제는 날짜에 따라서 영화의 평점 변화가 어떻게 나타나는지 확인해보려고 해요. 여기에서도 pivot_table을 사용하려 합니다."
   ]
  },
  {
   "cell_type": "code",
   "execution_count": 23,
   "metadata": {},
   "outputs": [
    {
     "data": {
      "text/html": [
       "<div>\n",
       "<style scoped>\n",
       "    .dataframe tbody tr th:only-of-type {\n",
       "        vertical-align: middle;\n",
       "    }\n",
       "\n",
       "    .dataframe tbody tr th {\n",
       "        vertical-align: top;\n",
       "    }\n",
       "\n",
       "    .dataframe thead tr th {\n",
       "        text-align: left;\n",
       "    }\n",
       "\n",
       "    .dataframe thead tr:last-of-type th {\n",
       "        text-align: right;\n",
       "    }\n",
       "</style>\n",
       "<table border=\"1\" class=\"dataframe\">\n",
       "  <thead>\n",
       "    <tr>\n",
       "      <th></th>\n",
       "      <th colspan=\"21\" halign=\"left\">point</th>\n",
       "    </tr>\n",
       "    <tr>\n",
       "      <th>name</th>\n",
       "      <th>1917</th>\n",
       "      <th>21 브릿지: 테러 셧다운</th>\n",
       "      <th>7번방의 선물</th>\n",
       "      <th>82년생 김지영</th>\n",
       "      <th>가버나움</th>\n",
       "      <th>가장 따뜻한 색, 블루</th>\n",
       "      <th>가장 보통의 연애</th>\n",
       "      <th>감쪽같은 그녀</th>\n",
       "      <th>걸어도 걸어도</th>\n",
       "      <th>겟 아웃</th>\n",
       "      <th>...</th>\n",
       "      <th>하이큐!! 승자와 패자</th>\n",
       "      <th>하이큐!! 재능과 센스</th>\n",
       "      <th>항거:유관순 이야기</th>\n",
       "      <th>해리 포터와 아즈카반의 죄수</th>\n",
       "      <th>해치지않아</th>\n",
       "      <th>해피 엔드</th>\n",
       "      <th>핵소 고지</th>\n",
       "      <th>행동하는 양심 김대중</th>\n",
       "      <th>환상의 빛</th>\n",
       "      <th>히트맨</th>\n",
       "    </tr>\n",
       "    <tr>\n",
       "      <th>date</th>\n",
       "      <th></th>\n",
       "      <th></th>\n",
       "      <th></th>\n",
       "      <th></th>\n",
       "      <th></th>\n",
       "      <th></th>\n",
       "      <th></th>\n",
       "      <th></th>\n",
       "      <th></th>\n",
       "      <th></th>\n",
       "      <th></th>\n",
       "      <th></th>\n",
       "      <th></th>\n",
       "      <th></th>\n",
       "      <th></th>\n",
       "      <th></th>\n",
       "      <th></th>\n",
       "      <th></th>\n",
       "      <th></th>\n",
       "      <th></th>\n",
       "      <th></th>\n",
       "    </tr>\n",
       "  </thead>\n",
       "  <tbody>\n",
       "    <tr>\n",
       "      <th>2019-12-01</th>\n",
       "      <td>NaN</td>\n",
       "      <td>NaN</td>\n",
       "      <td>NaN</td>\n",
       "      <td>6.69</td>\n",
       "      <td>NaN</td>\n",
       "      <td>NaN</td>\n",
       "      <td>7.83</td>\n",
       "      <td>NaN</td>\n",
       "      <td>NaN</td>\n",
       "      <td>NaN</td>\n",
       "      <td>...</td>\n",
       "      <td>NaN</td>\n",
       "      <td>NaN</td>\n",
       "      <td>NaN</td>\n",
       "      <td>NaN</td>\n",
       "      <td>NaN</td>\n",
       "      <td>8.27</td>\n",
       "      <td>NaN</td>\n",
       "      <td>NaN</td>\n",
       "      <td>NaN</td>\n",
       "      <td>NaN</td>\n",
       "    </tr>\n",
       "    <tr>\n",
       "      <th>2019-12-02</th>\n",
       "      <td>NaN</td>\n",
       "      <td>NaN</td>\n",
       "      <td>NaN</td>\n",
       "      <td>6.69</td>\n",
       "      <td>NaN</td>\n",
       "      <td>NaN</td>\n",
       "      <td>7.83</td>\n",
       "      <td>NaN</td>\n",
       "      <td>NaN</td>\n",
       "      <td>NaN</td>\n",
       "      <td>...</td>\n",
       "      <td>NaN</td>\n",
       "      <td>NaN</td>\n",
       "      <td>NaN</td>\n",
       "      <td>NaN</td>\n",
       "      <td>NaN</td>\n",
       "      <td>8.27</td>\n",
       "      <td>NaN</td>\n",
       "      <td>NaN</td>\n",
       "      <td>NaN</td>\n",
       "      <td>NaN</td>\n",
       "    </tr>\n",
       "    <tr>\n",
       "      <th>2019-12-03</th>\n",
       "      <td>NaN</td>\n",
       "      <td>NaN</td>\n",
       "      <td>NaN</td>\n",
       "      <td>6.69</td>\n",
       "      <td>NaN</td>\n",
       "      <td>NaN</td>\n",
       "      <td>NaN</td>\n",
       "      <td>NaN</td>\n",
       "      <td>NaN</td>\n",
       "      <td>NaN</td>\n",
       "      <td>...</td>\n",
       "      <td>NaN</td>\n",
       "      <td>NaN</td>\n",
       "      <td>NaN</td>\n",
       "      <td>NaN</td>\n",
       "      <td>NaN</td>\n",
       "      <td>8.27</td>\n",
       "      <td>NaN</td>\n",
       "      <td>2.83</td>\n",
       "      <td>NaN</td>\n",
       "      <td>NaN</td>\n",
       "    </tr>\n",
       "    <tr>\n",
       "      <th>2019-12-04</th>\n",
       "      <td>NaN</td>\n",
       "      <td>NaN</td>\n",
       "      <td>NaN</td>\n",
       "      <td>6.68</td>\n",
       "      <td>NaN</td>\n",
       "      <td>NaN</td>\n",
       "      <td>NaN</td>\n",
       "      <td>NaN</td>\n",
       "      <td>NaN</td>\n",
       "      <td>NaN</td>\n",
       "      <td>...</td>\n",
       "      <td>NaN</td>\n",
       "      <td>NaN</td>\n",
       "      <td>NaN</td>\n",
       "      <td>NaN</td>\n",
       "      <td>NaN</td>\n",
       "      <td>8.27</td>\n",
       "      <td>NaN</td>\n",
       "      <td>3.19</td>\n",
       "      <td>NaN</td>\n",
       "      <td>NaN</td>\n",
       "    </tr>\n",
       "    <tr>\n",
       "      <th>2019-12-05</th>\n",
       "      <td>NaN</td>\n",
       "      <td>NaN</td>\n",
       "      <td>NaN</td>\n",
       "      <td>6.68</td>\n",
       "      <td>NaN</td>\n",
       "      <td>NaN</td>\n",
       "      <td>NaN</td>\n",
       "      <td>NaN</td>\n",
       "      <td>NaN</td>\n",
       "      <td>NaN</td>\n",
       "      <td>...</td>\n",
       "      <td>NaN</td>\n",
       "      <td>NaN</td>\n",
       "      <td>NaN</td>\n",
       "      <td>NaN</td>\n",
       "      <td>NaN</td>\n",
       "      <td>8.27</td>\n",
       "      <td>NaN</td>\n",
       "      <td>3.15</td>\n",
       "      <td>NaN</td>\n",
       "      <td>NaN</td>\n",
       "    </tr>\n",
       "    <tr>\n",
       "      <th>2019-12-06</th>\n",
       "      <td>NaN</td>\n",
       "      <td>NaN</td>\n",
       "      <td>NaN</td>\n",
       "      <td>6.68</td>\n",
       "      <td>NaN</td>\n",
       "      <td>NaN</td>\n",
       "      <td>NaN</td>\n",
       "      <td>8.21</td>\n",
       "      <td>NaN</td>\n",
       "      <td>NaN</td>\n",
       "      <td>...</td>\n",
       "      <td>NaN</td>\n",
       "      <td>NaN</td>\n",
       "      <td>NaN</td>\n",
       "      <td>NaN</td>\n",
       "      <td>NaN</td>\n",
       "      <td>8.27</td>\n",
       "      <td>NaN</td>\n",
       "      <td>3.10</td>\n",
       "      <td>NaN</td>\n",
       "      <td>NaN</td>\n",
       "    </tr>\n",
       "    <tr>\n",
       "      <th>2019-12-07</th>\n",
       "      <td>NaN</td>\n",
       "      <td>NaN</td>\n",
       "      <td>NaN</td>\n",
       "      <td>6.68</td>\n",
       "      <td>NaN</td>\n",
       "      <td>NaN</td>\n",
       "      <td>NaN</td>\n",
       "      <td>8.05</td>\n",
       "      <td>NaN</td>\n",
       "      <td>NaN</td>\n",
       "      <td>...</td>\n",
       "      <td>NaN</td>\n",
       "      <td>NaN</td>\n",
       "      <td>NaN</td>\n",
       "      <td>NaN</td>\n",
       "      <td>NaN</td>\n",
       "      <td>8.27</td>\n",
       "      <td>NaN</td>\n",
       "      <td>NaN</td>\n",
       "      <td>NaN</td>\n",
       "      <td>NaN</td>\n",
       "    </tr>\n",
       "    <tr>\n",
       "      <th>2019-12-08</th>\n",
       "      <td>NaN</td>\n",
       "      <td>NaN</td>\n",
       "      <td>NaN</td>\n",
       "      <td>6.68</td>\n",
       "      <td>9.59</td>\n",
       "      <td>NaN</td>\n",
       "      <td>NaN</td>\n",
       "      <td>7.90</td>\n",
       "      <td>NaN</td>\n",
       "      <td>NaN</td>\n",
       "      <td>...</td>\n",
       "      <td>NaN</td>\n",
       "      <td>NaN</td>\n",
       "      <td>NaN</td>\n",
       "      <td>NaN</td>\n",
       "      <td>NaN</td>\n",
       "      <td>8.27</td>\n",
       "      <td>NaN</td>\n",
       "      <td>3.06</td>\n",
       "      <td>NaN</td>\n",
       "      <td>NaN</td>\n",
       "    </tr>\n",
       "    <tr>\n",
       "      <th>2019-12-09</th>\n",
       "      <td>NaN</td>\n",
       "      <td>NaN</td>\n",
       "      <td>NaN</td>\n",
       "      <td>6.68</td>\n",
       "      <td>9.59</td>\n",
       "      <td>NaN</td>\n",
       "      <td>NaN</td>\n",
       "      <td>7.80</td>\n",
       "      <td>NaN</td>\n",
       "      <td>NaN</td>\n",
       "      <td>...</td>\n",
       "      <td>NaN</td>\n",
       "      <td>NaN</td>\n",
       "      <td>NaN</td>\n",
       "      <td>NaN</td>\n",
       "      <td>NaN</td>\n",
       "      <td>8.27</td>\n",
       "      <td>NaN</td>\n",
       "      <td>3.05</td>\n",
       "      <td>NaN</td>\n",
       "      <td>NaN</td>\n",
       "    </tr>\n",
       "    <tr>\n",
       "      <th>2019-12-10</th>\n",
       "      <td>NaN</td>\n",
       "      <td>NaN</td>\n",
       "      <td>NaN</td>\n",
       "      <td>6.68</td>\n",
       "      <td>9.59</td>\n",
       "      <td>NaN</td>\n",
       "      <td>NaN</td>\n",
       "      <td>7.70</td>\n",
       "      <td>NaN</td>\n",
       "      <td>NaN</td>\n",
       "      <td>...</td>\n",
       "      <td>NaN</td>\n",
       "      <td>NaN</td>\n",
       "      <td>NaN</td>\n",
       "      <td>NaN</td>\n",
       "      <td>NaN</td>\n",
       "      <td>8.27</td>\n",
       "      <td>NaN</td>\n",
       "      <td>3.08</td>\n",
       "      <td>NaN</td>\n",
       "      <td>NaN</td>\n",
       "    </tr>\n",
       "  </tbody>\n",
       "</table>\n",
       "<p>10 rows × 193 columns</p>\n",
       "</div>"
      ],
      "text/plain": [
       "           point                                                               \\\n",
       "name        1917 21 브릿지: 테러 셧다운 7번방의 선물 82년생 김지영  가버나움 가장 따뜻한 색, 블루 가장 보통의 연애   \n",
       "date                                                                            \n",
       "2019-12-01   NaN            NaN     NaN     6.69   NaN          NaN      7.83   \n",
       "2019-12-02   NaN            NaN     NaN     6.69   NaN          NaN      7.83   \n",
       "2019-12-03   NaN            NaN     NaN     6.69   NaN          NaN       NaN   \n",
       "2019-12-04   NaN            NaN     NaN     6.68   NaN          NaN       NaN   \n",
       "2019-12-05   NaN            NaN     NaN     6.68   NaN          NaN       NaN   \n",
       "2019-12-06   NaN            NaN     NaN     6.68   NaN          NaN       NaN   \n",
       "2019-12-07   NaN            NaN     NaN     6.68   NaN          NaN       NaN   \n",
       "2019-12-08   NaN            NaN     NaN     6.68  9.59          NaN       NaN   \n",
       "2019-12-09   NaN            NaN     NaN     6.68  9.59          NaN       NaN   \n",
       "2019-12-10   NaN            NaN     NaN     6.68  9.59          NaN       NaN   \n",
       "\n",
       "                                 ...                                       \\\n",
       "name       감쪽같은 그녀 걸어도 걸어도 겟 아웃  ... 하이큐!! 승자와 패자 하이큐!! 재능과 센스 항거:유관순 이야기   \n",
       "date                             ...                                        \n",
       "2019-12-01     NaN     NaN  NaN  ...          NaN          NaN        NaN   \n",
       "2019-12-02     NaN     NaN  NaN  ...          NaN          NaN        NaN   \n",
       "2019-12-03     NaN     NaN  NaN  ...          NaN          NaN        NaN   \n",
       "2019-12-04     NaN     NaN  NaN  ...          NaN          NaN        NaN   \n",
       "2019-12-05     NaN     NaN  NaN  ...          NaN          NaN        NaN   \n",
       "2019-12-06    8.21     NaN  NaN  ...          NaN          NaN        NaN   \n",
       "2019-12-07    8.05     NaN  NaN  ...          NaN          NaN        NaN   \n",
       "2019-12-08    7.90     NaN  NaN  ...          NaN          NaN        NaN   \n",
       "2019-12-09    7.80     NaN  NaN  ...          NaN          NaN        NaN   \n",
       "2019-12-10    7.70     NaN  NaN  ...          NaN          NaN        NaN   \n",
       "\n",
       "                                                                    \n",
       "name       해리 포터와 아즈카반의 죄수 해치지않아 해피 엔드 핵소 고지 행동하는 양심 김대중 환상의 빛 히트맨  \n",
       "date                                                                \n",
       "2019-12-01             NaN   NaN  8.27   NaN         NaN   NaN NaN  \n",
       "2019-12-02             NaN   NaN  8.27   NaN         NaN   NaN NaN  \n",
       "2019-12-03             NaN   NaN  8.27   NaN        2.83   NaN NaN  \n",
       "2019-12-04             NaN   NaN  8.27   NaN        3.19   NaN NaN  \n",
       "2019-12-05             NaN   NaN  8.27   NaN        3.15   NaN NaN  \n",
       "2019-12-06             NaN   NaN  8.27   NaN        3.10   NaN NaN  \n",
       "2019-12-07             NaN   NaN  8.27   NaN         NaN   NaN NaN  \n",
       "2019-12-08             NaN   NaN  8.27   NaN        3.06   NaN NaN  \n",
       "2019-12-09             NaN   NaN  8.27   NaN        3.05   NaN NaN  \n",
       "2019-12-10             NaN   NaN  8.27   NaN        3.08   NaN NaN  \n",
       "\n",
       "[10 rows x 193 columns]"
      ]
     },
     "execution_count": 23,
     "metadata": {},
     "output_type": "execute_result"
    }
   ],
   "source": [
    "movie_pivot = pd.pivot_table(movie, index=['date'], columns=['name'], values=['point'])\n",
    "movie_pivot.head(10)"
   ]
  },
  {
   "cell_type": "markdown",
   "metadata": {},
   "source": [
    "흐헉 결측값이 상당히 많네요. 이게 네이버 평점을 매기는 기준을 보니까 '전국기준 현재 상영되고 있는 영화 중 평점 응답자가 300명 이상인 경우'이라고 하더라구요. 이것에 걸리는 것도 있겠고, 평점이 이 시기에 안 매겨지는 경우도 있을 수 있구요. 다양한 이유들이 있습니다.\n",
    "\n",
    "- [droplevel()](https://www.w3resource.com/pandas/series/series-droplevel.php)\n",
    "\n",
    "droplevel은 원하는 컬럼이나 인덱스 전체를 drop해주는 건데, 여기서 왜 해준지 도무지 모르겠어요... (아는 분은 제게 알려주시기 바람) "
   ]
  },
  {
   "cell_type": "code",
   "execution_count": 24,
   "metadata": {},
   "outputs": [
    {
     "data": {
      "text/html": [
       "<div>\n",
       "<style scoped>\n",
       "    .dataframe tbody tr th:only-of-type {\n",
       "        vertical-align: middle;\n",
       "    }\n",
       "\n",
       "    .dataframe tbody tr th {\n",
       "        vertical-align: top;\n",
       "    }\n",
       "\n",
       "    .dataframe thead th {\n",
       "        text-align: right;\n",
       "    }\n",
       "</style>\n",
       "<table border=\"1\" class=\"dataframe\">\n",
       "  <thead>\n",
       "    <tr style=\"text-align: right;\">\n",
       "      <th>name</th>\n",
       "      <th>1917</th>\n",
       "      <th>21 브릿지: 테러 셧다운</th>\n",
       "      <th>7번방의 선물</th>\n",
       "      <th>82년생 김지영</th>\n",
       "      <th>가버나움</th>\n",
       "      <th>가장 따뜻한 색, 블루</th>\n",
       "      <th>가장 보통의 연애</th>\n",
       "      <th>감쪽같은 그녀</th>\n",
       "      <th>걸어도 걸어도</th>\n",
       "      <th>겟 아웃</th>\n",
       "      <th>...</th>\n",
       "      <th>하이큐!! 승자와 패자</th>\n",
       "      <th>하이큐!! 재능과 센스</th>\n",
       "      <th>항거:유관순 이야기</th>\n",
       "      <th>해리 포터와 아즈카반의 죄수</th>\n",
       "      <th>해치지않아</th>\n",
       "      <th>해피 엔드</th>\n",
       "      <th>핵소 고지</th>\n",
       "      <th>행동하는 양심 김대중</th>\n",
       "      <th>환상의 빛</th>\n",
       "      <th>히트맨</th>\n",
       "    </tr>\n",
       "    <tr>\n",
       "      <th>date</th>\n",
       "      <th></th>\n",
       "      <th></th>\n",
       "      <th></th>\n",
       "      <th></th>\n",
       "      <th></th>\n",
       "      <th></th>\n",
       "      <th></th>\n",
       "      <th></th>\n",
       "      <th></th>\n",
       "      <th></th>\n",
       "      <th></th>\n",
       "      <th></th>\n",
       "      <th></th>\n",
       "      <th></th>\n",
       "      <th></th>\n",
       "      <th></th>\n",
       "      <th></th>\n",
       "      <th></th>\n",
       "      <th></th>\n",
       "      <th></th>\n",
       "      <th></th>\n",
       "    </tr>\n",
       "  </thead>\n",
       "  <tbody>\n",
       "    <tr>\n",
       "      <th>2019-12-01</th>\n",
       "      <td>NaN</td>\n",
       "      <td>NaN</td>\n",
       "      <td>NaN</td>\n",
       "      <td>6.69</td>\n",
       "      <td>NaN</td>\n",
       "      <td>NaN</td>\n",
       "      <td>7.83</td>\n",
       "      <td>NaN</td>\n",
       "      <td>NaN</td>\n",
       "      <td>NaN</td>\n",
       "      <td>...</td>\n",
       "      <td>NaN</td>\n",
       "      <td>NaN</td>\n",
       "      <td>NaN</td>\n",
       "      <td>NaN</td>\n",
       "      <td>NaN</td>\n",
       "      <td>8.27</td>\n",
       "      <td>NaN</td>\n",
       "      <td>NaN</td>\n",
       "      <td>NaN</td>\n",
       "      <td>NaN</td>\n",
       "    </tr>\n",
       "    <tr>\n",
       "      <th>2019-12-02</th>\n",
       "      <td>NaN</td>\n",
       "      <td>NaN</td>\n",
       "      <td>NaN</td>\n",
       "      <td>6.69</td>\n",
       "      <td>NaN</td>\n",
       "      <td>NaN</td>\n",
       "      <td>7.83</td>\n",
       "      <td>NaN</td>\n",
       "      <td>NaN</td>\n",
       "      <td>NaN</td>\n",
       "      <td>...</td>\n",
       "      <td>NaN</td>\n",
       "      <td>NaN</td>\n",
       "      <td>NaN</td>\n",
       "      <td>NaN</td>\n",
       "      <td>NaN</td>\n",
       "      <td>8.27</td>\n",
       "      <td>NaN</td>\n",
       "      <td>NaN</td>\n",
       "      <td>NaN</td>\n",
       "      <td>NaN</td>\n",
       "    </tr>\n",
       "    <tr>\n",
       "      <th>2019-12-03</th>\n",
       "      <td>NaN</td>\n",
       "      <td>NaN</td>\n",
       "      <td>NaN</td>\n",
       "      <td>6.69</td>\n",
       "      <td>NaN</td>\n",
       "      <td>NaN</td>\n",
       "      <td>NaN</td>\n",
       "      <td>NaN</td>\n",
       "      <td>NaN</td>\n",
       "      <td>NaN</td>\n",
       "      <td>...</td>\n",
       "      <td>NaN</td>\n",
       "      <td>NaN</td>\n",
       "      <td>NaN</td>\n",
       "      <td>NaN</td>\n",
       "      <td>NaN</td>\n",
       "      <td>8.27</td>\n",
       "      <td>NaN</td>\n",
       "      <td>2.83</td>\n",
       "      <td>NaN</td>\n",
       "      <td>NaN</td>\n",
       "    </tr>\n",
       "    <tr>\n",
       "      <th>2019-12-04</th>\n",
       "      <td>NaN</td>\n",
       "      <td>NaN</td>\n",
       "      <td>NaN</td>\n",
       "      <td>6.68</td>\n",
       "      <td>NaN</td>\n",
       "      <td>NaN</td>\n",
       "      <td>NaN</td>\n",
       "      <td>NaN</td>\n",
       "      <td>NaN</td>\n",
       "      <td>NaN</td>\n",
       "      <td>...</td>\n",
       "      <td>NaN</td>\n",
       "      <td>NaN</td>\n",
       "      <td>NaN</td>\n",
       "      <td>NaN</td>\n",
       "      <td>NaN</td>\n",
       "      <td>8.27</td>\n",
       "      <td>NaN</td>\n",
       "      <td>3.19</td>\n",
       "      <td>NaN</td>\n",
       "      <td>NaN</td>\n",
       "    </tr>\n",
       "    <tr>\n",
       "      <th>2019-12-05</th>\n",
       "      <td>NaN</td>\n",
       "      <td>NaN</td>\n",
       "      <td>NaN</td>\n",
       "      <td>6.68</td>\n",
       "      <td>NaN</td>\n",
       "      <td>NaN</td>\n",
       "      <td>NaN</td>\n",
       "      <td>NaN</td>\n",
       "      <td>NaN</td>\n",
       "      <td>NaN</td>\n",
       "      <td>...</td>\n",
       "      <td>NaN</td>\n",
       "      <td>NaN</td>\n",
       "      <td>NaN</td>\n",
       "      <td>NaN</td>\n",
       "      <td>NaN</td>\n",
       "      <td>8.27</td>\n",
       "      <td>NaN</td>\n",
       "      <td>3.15</td>\n",
       "      <td>NaN</td>\n",
       "      <td>NaN</td>\n",
       "    </tr>\n",
       "  </tbody>\n",
       "</table>\n",
       "<p>5 rows × 193 columns</p>\n",
       "</div>"
      ],
      "text/plain": [
       "name        1917  21 브릿지: 테러 셧다운  7번방의 선물  82년생 김지영  가버나움  가장 따뜻한 색, 블루  \\\n",
       "date                                                                      \n",
       "2019-12-01   NaN             NaN      NaN      6.69   NaN           NaN   \n",
       "2019-12-02   NaN             NaN      NaN      6.69   NaN           NaN   \n",
       "2019-12-03   NaN             NaN      NaN      6.69   NaN           NaN   \n",
       "2019-12-04   NaN             NaN      NaN      6.68   NaN           NaN   \n",
       "2019-12-05   NaN             NaN      NaN      6.68   NaN           NaN   \n",
       "\n",
       "name        가장 보통의 연애  감쪽같은 그녀  걸어도 걸어도  겟 아웃  ...  하이큐!! 승자와 패자  \\\n",
       "date                                           ...                 \n",
       "2019-12-01       7.83      NaN      NaN   NaN  ...           NaN   \n",
       "2019-12-02       7.83      NaN      NaN   NaN  ...           NaN   \n",
       "2019-12-03        NaN      NaN      NaN   NaN  ...           NaN   \n",
       "2019-12-04        NaN      NaN      NaN   NaN  ...           NaN   \n",
       "2019-12-05        NaN      NaN      NaN   NaN  ...           NaN   \n",
       "\n",
       "name        하이큐!! 재능과 센스  항거:유관순 이야기  해리 포터와 아즈카반의 죄수  해치지않아  해피 엔드  핵소 고지  \\\n",
       "date                                                                         \n",
       "2019-12-01           NaN         NaN              NaN    NaN   8.27    NaN   \n",
       "2019-12-02           NaN         NaN              NaN    NaN   8.27    NaN   \n",
       "2019-12-03           NaN         NaN              NaN    NaN   8.27    NaN   \n",
       "2019-12-04           NaN         NaN              NaN    NaN   8.27    NaN   \n",
       "2019-12-05           NaN         NaN              NaN    NaN   8.27    NaN   \n",
       "\n",
       "name        행동하는 양심 김대중  환상의 빛  히트맨  \n",
       "date                                 \n",
       "2019-12-01          NaN    NaN  NaN  \n",
       "2019-12-02          NaN    NaN  NaN  \n",
       "2019-12-03         2.83    NaN  NaN  \n",
       "2019-12-04         3.19    NaN  NaN  \n",
       "2019-12-05         3.15    NaN  NaN  \n",
       "\n",
       "[5 rows x 193 columns]"
      ]
     },
     "execution_count": 24,
     "metadata": {},
     "output_type": "execute_result"
    }
   ],
   "source": [
    "movie_pivot.columns = movie_pivot.columns.droplevel()\n",
    "movie_pivot.head()"
   ]
  },
  {
   "cell_type": "markdown",
   "metadata": {},
   "source": [
    "아무튼 이제 시간에 따른 평점 시각화를 해봅시다. '82년생 김지영', '벌새', '메기', '기생충'의 평점을 확인해볼게요. 기생충은 평점이 좋다고 생각되는 영화라 다른 영화와 평점을 비교하기 위해 넣어봤습니다."
   ]
  },
  {
   "cell_type": "code",
   "execution_count": 25,
   "metadata": {},
   "outputs": [],
   "source": [
    "import platform\n",
    "from matplotlib import font_manager, rc\n",
    "\n",
    "path = \"c:/Windows/Fonts/malgun.ttf\"\n",
    "if platform.system() == 'Darwin':\n",
    "    rc('font', family='AppleGothic')\n",
    "elif platform.system() == 'Windows':\n",
    "    font_name = font_manager.FontProperties(fname=path).get_name()\n",
    "    rc('font', family=font_name)\n",
    "else:\n",
    "    print('Unknown system... sorry~~~~') "
   ]
  },
  {
   "cell_type": "code",
   "execution_count": 26,
   "metadata": {},
   "outputs": [
    {
     "data": {
      "image/png": "[encoded data removed]",
      "text/plain": [
       "<Figure size 864x432 with 1 Axes>"
      ]
     },
     "metadata": {
      "needs_background": "light"
     },
     "output_type": "display_data"
    }
   ],
   "source": [
    "target_col = ['82년생 김지영', '벌새', '메기', '기생충']\n",
    "plt.figure(figsize=(12,6))\n",
    "plt.plot(movie_pivot[target_col])\n",
    "plt.legend(target_col, loc='best')\n",
    "plt.grid()\n",
    "plt.show()"
   ]
  },
  {
   "cell_type": "markdown",
   "metadata": {},
   "source": [
    "우와, 벌새가 평점을 엄청 높게 받았네요! 심지어 기생충보다 더 높아요ㅎㅎ 메기 평점도 높은 편인 것 같구요. 82년생 김지영을 다른 그래프들과 비교해보니 평점 테러를 당한게 확실히 느껴지네요ㅎㅎ \n",
    "\n",
    "### 공부를 끝내며 \n",
    "\n",
    "이렇게 우리는 이번주에 웹 크롤링을 해보았습니다. 웹의 정보들을 가져올 수 있는 무척 재미있는 시간이었던 것 같네요. 하지만, 웹 크롤링은 직접 해보면 아마 잘 안될 가능성이 높아요. BeautifulSoup과 urllib을 사용해서 가져오는게 만능은 아닌데다, 이거를 가져오는게 생각보다 쉽지가 않거든요..ㅎㅎ 때문에 막히는 부분이 있다면 바로바로 슬랙 채널에 질문해주세요! 그럼 복습 잘 해보시고, 다른 것들도 가져와서 분석해보면 더욱 더 재미있겠죠?🐷"
   ]
  }
 ],
 "metadata": {
  "kernelspec": {
   "display_name": "Python 3",
   "language": "python",
   "name": "python3"
  },
  "language_info": {
   "codemirror_mode": {
    "name": "ipython",
    "version": 3
   },
   "file_extension": ".py",
   "mimetype": "text/x-python",
   "name": "python",
   "nbconvert_exporter": "python",
   "pygments_lexer": "ipython3",
   "version": "3.8.5"
  }
 },
 "nbformat": 4,
 "nbformat_minor": 2
}
