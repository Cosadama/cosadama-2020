{
  "nbformat": 4,
  "nbformat_minor": 0,
  "metadata": {
    "colab": {
      "name": "코사다마_[프로젝트]청와대 청원으로 하는 한글 자연어 처리.ipynb",
      "provenance": [],
      "collapsed_sections": []
    },
    "kernelspec": {
      "name": "python3",
      "display_name": "Python 3"
    },
    "widgets": {
      "application/vnd.jupyter.widget-state+json": {
        "e44c63e83ca54aceb7574626615a2b79": {
          "model_module": "@jupyter-widgets/controls",
          "model_name": "HBoxModel",
          "state": {
            "_view_name": "HBoxView",
            "_dom_classes": [],
            "_model_name": "HBoxModel",
            "_view_module": "@jupyter-widgets/controls",
            "_model_module_version": "1.5.0",
            "_view_count": null,
            "_view_module_version": "1.5.0",
            "box_style": "",
            "layout": "IPY_MODEL_e814514e47594c6fb49979cce6659612",
            "_model_module": "@jupyter-widgets/controls",
            "children": [
              "IPY_MODEL_b3eeaeda1b5248bb8cfb94bdc6340306",
              "IPY_MODEL_8307d9b72de14b2c9effdeb5b5bb17db"
            ]
          }
        },
        "e814514e47594c6fb49979cce6659612": {
          "model_module": "@jupyter-widgets/base",
          "model_name": "LayoutModel",
          "state": {
            "_view_name": "LayoutView",
            "grid_template_rows": null,
            "right": null,
            "justify_content": null,
            "_view_module": "@jupyter-widgets/base",
            "overflow": null,
            "_model_module_version": "1.2.0",
            "_view_count": null,
            "flex_flow": null,
            "width": null,
            "min_width": null,
            "border": null,
            "align_items": null,
            "bottom": null,
            "_model_module": "@jupyter-widgets/base",
            "top": null,
            "grid_column": null,
            "overflow_y": null,
            "overflow_x": null,
            "grid_auto_flow": null,
            "grid_area": null,
            "grid_template_columns": null,
            "flex": null,
            "_model_name": "LayoutModel",
            "justify_items": null,
            "grid_row": null,
            "max_height": null,
            "align_content": null,
            "visibility": null,
            "align_self": null,
            "height": null,
            "min_height": null,
            "padding": null,
            "grid_auto_rows": null,
            "grid_gap": null,
            "max_width": null,
            "order": null,
            "_view_module_version": "1.2.0",
            "grid_template_areas": null,
            "object_position": null,
            "object_fit": null,
            "grid_auto_columns": null,
            "margin": null,
            "display": null,
            "left": null
          }
        },
        "b3eeaeda1b5248bb8cfb94bdc6340306": {
          "model_module": "@jupyter-widgets/controls",
          "model_name": "FloatProgressModel",
          "state": {
            "_view_name": "ProgressView",
            "style": "IPY_MODEL_c46d04016ff24f12b6ede49d07b3a9ed",
            "_dom_classes": [],
            "description": "100%",
            "_model_name": "FloatProgressModel",
            "bar_style": "success",
            "max": 177,
            "_view_module": "@jupyter-widgets/controls",
            "_model_module_version": "1.5.0",
            "value": 177,
            "_view_count": null,
            "_view_module_version": "1.5.0",
            "orientation": "horizontal",
            "min": 0,
            "description_tooltip": null,
            "_model_module": "@jupyter-widgets/controls",
            "layout": "IPY_MODEL_28954cd73fdd4a4c8cfcbb39cf479aa6"
          }
        },
        "8307d9b72de14b2c9effdeb5b5bb17db": {
          "model_module": "@jupyter-widgets/controls",
          "model_name": "HTMLModel",
          "state": {
            "_view_name": "HTMLView",
            "style": "IPY_MODEL_522b2f9292b8495a865ceb93c4c86612",
            "_dom_classes": [],
            "description": "",
            "_model_name": "HTMLModel",
            "placeholder": "​",
            "_view_module": "@jupyter-widgets/controls",
            "_model_module_version": "1.5.0",
            "value": " 177/177 [39:41&lt;00:00, 13.46s/it]",
            "_view_count": null,
            "_view_module_version": "1.5.0",
            "description_tooltip": null,
            "_model_module": "@jupyter-widgets/controls",
            "layout": "IPY_MODEL_875dcb40d60b422bae2b15f460fdfe14"
          }
        },
        "c46d04016ff24f12b6ede49d07b3a9ed": {
          "model_module": "@jupyter-widgets/controls",
          "model_name": "ProgressStyleModel",
          "state": {
            "_view_name": "StyleView",
            "_model_name": "ProgressStyleModel",
            "description_width": "initial",
            "_view_module": "@jupyter-widgets/base",
            "_model_module_version": "1.5.0",
            "_view_count": null,
            "_view_module_version": "1.2.0",
            "bar_color": null,
            "_model_module": "@jupyter-widgets/controls"
          }
        },
        "28954cd73fdd4a4c8cfcbb39cf479aa6": {
          "model_module": "@jupyter-widgets/base",
          "model_name": "LayoutModel",
          "state": {
            "_view_name": "LayoutView",
            "grid_template_rows": null,
            "right": null,
            "justify_content": null,
            "_view_module": "@jupyter-widgets/base",
            "overflow": null,
            "_model_module_version": "1.2.0",
            "_view_count": null,
            "flex_flow": null,
            "width": null,
            "min_width": null,
            "border": null,
            "align_items": null,
            "bottom": null,
            "_model_module": "@jupyter-widgets/base",
            "top": null,
            "grid_column": null,
            "overflow_y": null,
            "overflow_x": null,
            "grid_auto_flow": null,
            "grid_area": null,
            "grid_template_columns": null,
            "flex": null,
            "_model_name": "LayoutModel",
            "justify_items": null,
            "grid_row": null,
            "max_height": null,
            "align_content": null,
            "visibility": null,
            "align_self": null,
            "height": null,
            "min_height": null,
            "padding": null,
            "grid_auto_rows": null,
            "grid_gap": null,
            "max_width": null,
            "order": null,
            "_view_module_version": "1.2.0",
            "grid_template_areas": null,
            "object_position": null,
            "object_fit": null,
            "grid_auto_columns": null,
            "margin": null,
            "display": null,
            "left": null
          }
        },
        "522b2f9292b8495a865ceb93c4c86612": {
          "model_module": "@jupyter-widgets/controls",
          "model_name": "DescriptionStyleModel",
          "state": {
            "_view_name": "StyleView",
            "_model_name": "DescriptionStyleModel",
            "description_width": "",
            "_view_module": "@jupyter-widgets/base",
            "_model_module_version": "1.5.0",
            "_view_count": null,
            "_view_module_version": "1.2.0",
            "_model_module": "@jupyter-widgets/controls"
          }
        },
        "875dcb40d60b422bae2b15f460fdfe14": {
          "model_module": "@jupyter-widgets/base",
          "model_name": "LayoutModel",
          "state": {
            "_view_name": "LayoutView",
            "grid_template_rows": null,
            "right": null,
            "justify_content": null,
            "_view_module": "@jupyter-widgets/base",
            "overflow": null,
            "_model_module_version": "1.2.0",
            "_view_count": null,
            "flex_flow": null,
            "width": null,
            "min_width": null,
            "border": null,
            "align_items": null,
            "bottom": null,
            "_model_module": "@jupyter-widgets/base",
            "top": null,
            "grid_column": null,
            "overflow_y": null,
            "overflow_x": null,
            "grid_auto_flow": null,
            "grid_area": null,
            "grid_template_columns": null,
            "flex": null,
            "_model_name": "LayoutModel",
            "justify_items": null,
            "grid_row": null,
            "max_height": null,
            "align_content": null,
            "visibility": null,
            "align_self": null,
            "height": null,
            "min_height": null,
            "padding": null,
            "grid_auto_rows": null,
            "grid_gap": null,
            "max_width": null,
            "order": null,
            "_view_module_version": "1.2.0",
            "grid_template_areas": null,
            "object_position": null,
            "object_fit": null,
            "grid_auto_columns": null,
            "margin": null,
            "display": null,
            "left": null
          }
        }
      }
    }
  },
  "cells": [
    {
      "cell_type": "markdown",
      "metadata": {
        "id": "tlBlMJ2P3cf5",
        "colab_type": "text"
      },
      "source": [
        "# [프로젝트] 청와대 청원으로 하는 한글 자연어 처리\n",
        "\n",
        "- 일자: 2020-07-12\n",
        "- 작성자: 박하람 \n",
        "- 참고자료: 파이썬으로 데이터 주무르기(민형기) \n",
        "\n",
        "교재에는 한낮 애인 선물 구하기라는 주제라(ㅋㅋ) 유치하니 청와대 청원을 분석해보겠습니다. 제가 팀프로젝트로 했던 주제인데, 같이 해보면 재미있을 것 같아 청와대 청원 데이터를 가져와봤습니다. 데이터 범위는 '답변된 청원'으로만 한정할 것이고요, 현재(2020.07.11)은 176호까지 답변된 청원이 있습니다. \n",
        "\n",
        "먼저 [청와대 청원 홈페이지](https://www1.president.go.kr/petitions/answer)에서 모든 청원들을 가져와 데이터 프레임에 담고, 여러 카테고리 중 청원수가 많은 상위 1개의 카테고리를 선택해 청원 내용을 wordcloud로 시각화해보겠습니다. 또한 gensim을 활용해 Word2Vec으로 유사한 단어들도 함께 파악해보겠습니다! "
      ]
    },
    {
      "cell_type": "markdown",
      "metadata": {
        "id": "z9AxnRYv7kID",
        "colab_type": "text"
      },
      "source": [
        "## 답변된 청원 웹크롤링 하기 \n",
        "\n",
        "우선 먼저 구상해보시기를 제안드릴게요. 어떻게 하면 '답변된 청원'을 모두 가져올 수 있을까요? 여러 페이지에 걸쳐 있는 청원들을 어떻게 웹크롤링으로 가져올 수 있을까요? 이러한 사고 없이 코드만 먼저 보시게 되면 실질적인 문제 해결 역량은 성장하지 못할 수도...🌝 그러니 한번 어떻게 크롤링해올 것인가 고민해보시고, 이제까지 배운 크롤링들을 모두 활용하여 크롤링해봐야지! 라는 생각으로 최대한 고민하고 해보고 잘 안풀릴 때 코드를 보시면 더욱 더욱 큰 도움이 될 수 있을 것 같습니다. 참고로 아래 크롤링 코드는 모두 제가 짠 것이라 비효율적이고 지저분할 수 있지만, 어쨌든 잘 가져와서 데이터 프레임에 담았습니다ㅎㅎ \n",
        "\n",
        "**힌트:**\n",
        "- urllib과 BeautifulSoup을 활용해 웹크롤링 \n",
        "- 여러 페이지의 웹크롤링은 지난 스터디 '샌드위치 맛집 크롤링'을 활용\n",
        "\n",
        "빈공간에 한번 생각해보시고 아래 코드를 보시면 더욱 도움이 됩니다! 따로 부연설명은 많이 적지 않았구요, 혼자 먼저 해보시고 잘 안되는 부분에서 고민을 하고 이 코드를 보시면 해결이 될 수 있을 것 같네요~🙃"
      ]
    },
    {
      "cell_type": "code",
      "metadata": {
        "id": "m-HtzwpU3Y3C",
        "colab_type": "code",
        "colab": {}
      },
      "source": [
        "from urllib.request import urlopen\n",
        "from bs4 import BeautifulSoup\n",
        "import pandas as pd"
      ],
      "execution_count": null,
      "outputs": []
    },
    {
      "cell_type": "code",
      "metadata": {
        "id": "r4o5plRg9MjG",
        "colab_type": "code",
        "colab": {}
      },
      "source": [
        "titles = []\n",
        "start_date = []\n",
        "end_date = []\n",
        "num_consent = []\n",
        "answer_date = []\n",
        "address = []\n",
        "\n",
        "def get_info(url): \n",
        "    res = urlopen(url)\n",
        "    soup = BeautifulSoup(res, \"html.parser\")\n",
        "    \n",
        "    # get titles, address(url)\n",
        "    contents = soup.find_all('div', class_='ans_name_title')\n",
        "    for n in range(0,len(contents)):\n",
        "        content = contents[n]\n",
        "        titles.append(content.a.get_text())\n",
        "        add_url = str(content.find('a')['href'])\n",
        "        address.append('https://www1.president.go.kr'+add_url)\n",
        "    \n",
        "    # 청원시작과 끝 날짜, 참여인원, 답변일 정보 얻기 \n",
        "    infos = soup.find_all('ol', class_='ans_name_info')\n",
        "    for info in infos: \n",
        "        start_date.append(info.find('p', class_='ans_list1_2').get_text()[2:-2])\n",
        "        end_date.append(info.find('p', class_='ans_list2_2').get_text()[2:-2])\n",
        "        num_consent.append(info.find('p', class_='ans_list3_2').get_text()[2:-2])\n",
        "        answer_date.append(info.find('p', class_='ans_list4_2').get_text()[2:-2])          "
      ],
      "execution_count": null,
      "outputs": []
    },
    {
      "cell_type": "code",
      "metadata": {
        "id": "bVifn6By9QpW",
        "colab_type": "code",
        "colab": {}
      },
      "source": [
        "# 왜 12페이지까지일까요? \n",
        "for n in range(1,13): \n",
        "    url = 'https://www1.president.go.kr/petitions/answer?page=%d' % n\n",
        "    get_info(url)"
      ],
      "execution_count": null,
      "outputs": []
    },
    {
      "cell_type": "code",
      "metadata": {
        "id": "6_gJ1DL89SnI",
        "colab_type": "code",
        "colab": {
          "base_uri": "https://localhost:8080/",
          "height": 289
        },
        "outputId": "91ff0c2b-7ab5-4d31-8ab9-ab1de7f151be"
      },
      "source": [
        "data = {'제목':titles, '청원시작일':start_date, '청원종료일': end_date,\n",
        "       '참여인원': num_consent, '청원답변일':answer_date, 'URL':address}\n",
        "df = pd.DataFrame(data)\n",
        "df.head()"
      ],
      "execution_count": null,
      "outputs": [
        {
          "output_type": "execute_result",
          "data": {
            "text/html": [
              "<div>\n",
              "<style scoped>\n",
              "    .dataframe tbody tr th:only-of-type {\n",
              "        vertical-align: middle;\n",
              "    }\n",
              "\n",
              "    .dataframe tbody tr th {\n",
              "        vertical-align: top;\n",
              "    }\n",
              "\n",
              "    .dataframe thead th {\n",
              "        text-align: right;\n",
              "    }\n",
              "</style>\n",
              "<table border=\"1\" class=\"dataframe\">\n",
              "  <thead>\n",
              "    <tr style=\"text-align: right;\">\n",
              "      <th></th>\n",
              "      <th>제목</th>\n",
              "      <th>청원시작일</th>\n",
              "      <th>청원종료일</th>\n",
              "      <th>참여인원</th>\n",
              "      <th>청원답변일</th>\n",
              "      <th>URL</th>\n",
              "    </tr>\n",
              "  </thead>\n",
              "  <tbody>\n",
              "    <tr>\n",
              "      <th>0</th>\n",
              "      <td>저희 아파트 경비아저씨의 억울함을 풀어주세요...</td>\n",
              "      <td>2020. 05. 11</td>\n",
              "      <td>2020. 06. 10</td>\n",
              "      <td>446,434</td>\n",
              "      <td>2020. 07. 08</td>\n",
              "      <td>https://www1.president.go.kr/petitions/588752</td>\n",
              "    </tr>\n",
              "    <tr>\n",
              "      <th>1</th>\n",
              "      <td>울산 초등학교 1학년 아이에게 팬티빨기 숙제내고 학생 사진에 '섹시팬티', '공주님...</td>\n",
              "      <td>2020. 04. 28</td>\n",
              "      <td>2020. 05. 28</td>\n",
              "      <td>225,764</td>\n",
              "      <td>2020. 06. 26</td>\n",
              "      <td>https://www1.president.go.kr/petitions/588455</td>\n",
              "    </tr>\n",
              "    <tr>\n",
              "      <th>2</th>\n",
              "      <td>등교 개학 시기를 미루어주시기 바랍니다.</td>\n",
              "      <td>2020. 04. 24</td>\n",
              "      <td>2020. 05. 24</td>\n",
              "      <td>255,333</td>\n",
              "      <td>2020. 06. 24</td>\n",
              "      <td>https://www1.president.go.kr/petitions/588340</td>\n",
              "    </tr>\n",
              "    <tr>\n",
              "      <th>3</th>\n",
              "      <td>방송통신위원회는 방송의 공적 책임 방기하고  언론이기를 포기한 채널A와 TV조선의 ...</td>\n",
              "      <td>2020. 04. 07</td>\n",
              "      <td>2020. 05. 07</td>\n",
              "      <td>273,513</td>\n",
              "      <td>2020. 06. 05</td>\n",
              "      <td>https://www1.president.go.kr/petitions/587827</td>\n",
              "    </tr>\n",
              "    <tr>\n",
              "      <th>4</th>\n",
              "      <td>렌트카 훔쳐 사망사고를 낸 10대 엄중 처벌해주세요</td>\n",
              "      <td>2020. 04. 02</td>\n",
              "      <td>2020. 05. 02</td>\n",
              "      <td>1,007,040</td>\n",
              "      <td>2020. 06. 02</td>\n",
              "      <td>https://www1.president.go.kr/petitions/587624</td>\n",
              "    </tr>\n",
              "  </tbody>\n",
              "</table>\n",
              "</div>"
            ],
            "text/plain": [
              "                                                  제목  ...                                            URL\n",
              "0                        저희 아파트 경비아저씨의 억울함을 풀어주세요...  ...  https://www1.president.go.kr/petitions/588752\n",
              "1  울산 초등학교 1학년 아이에게 팬티빨기 숙제내고 학생 사진에 '섹시팬티', '공주님...  ...  https://www1.president.go.kr/petitions/588455\n",
              "2                             등교 개학 시기를 미루어주시기 바랍니다.  ...  https://www1.president.go.kr/petitions/588340\n",
              "3  방송통신위원회는 방송의 공적 책임 방기하고  언론이기를 포기한 채널A와 TV조선의 ...  ...  https://www1.president.go.kr/petitions/587827\n",
              "4                       렌트카 훔쳐 사망사고를 낸 10대 엄중 처벌해주세요  ...  https://www1.president.go.kr/petitions/587624\n",
              "\n",
              "[5 rows x 6 columns]"
            ]
          },
          "metadata": {
            "tags": []
          },
          "execution_count": 4
        }
      ]
    },
    {
      "cell_type": "code",
      "metadata": {
        "id": "95qPSXxG9UzL",
        "colab_type": "code",
        "colab": {}
      },
      "source": [
        "# 1차 저장 \n",
        "df.to_csv('BlueHouse Petition data.csv', sep=',', encoding='utf-8')"
      ],
      "execution_count": null,
      "outputs": []
    },
    {
      "cell_type": "markdown",
      "metadata": {
        "id": "FUZD_Zhu9XtS",
        "colab_type": "text"
      },
      "source": [
        "여기까지 1차 저장을 해주었습니다. 각 청원 페이지에 들어가 세부 내용과 함께 청원 답변 등까지 모두 가져와 볼거에요."
      ]
    },
    {
      "cell_type": "code",
      "metadata": {
        "id": "1oCLr1iL9WIL",
        "colab_type": "code",
        "colab": {
          "base_uri": "https://localhost:8080/",
          "height": 289
        },
        "outputId": "8edd4326-94b0-4f20-edae-1988e21dbde1"
      },
      "source": [
        "import pandas as pd\n",
        "\n",
        "# thousands는 왜 할까요? \n",
        "petition = pd.read_csv('BlueHouse Petition data.csv', thousands=',', encoding='utf-8', index_col=0)\n",
        "petition.head()"
      ],
      "execution_count": null,
      "outputs": [
        {
          "output_type": "execute_result",
          "data": {
            "text/html": [
              "<div>\n",
              "<style scoped>\n",
              "    .dataframe tbody tr th:only-of-type {\n",
              "        vertical-align: middle;\n",
              "    }\n",
              "\n",
              "    .dataframe tbody tr th {\n",
              "        vertical-align: top;\n",
              "    }\n",
              "\n",
              "    .dataframe thead th {\n",
              "        text-align: right;\n",
              "    }\n",
              "</style>\n",
              "<table border=\"1\" class=\"dataframe\">\n",
              "  <thead>\n",
              "    <tr style=\"text-align: right;\">\n",
              "      <th></th>\n",
              "      <th>제목</th>\n",
              "      <th>청원시작일</th>\n",
              "      <th>청원종료일</th>\n",
              "      <th>참여인원</th>\n",
              "      <th>청원답변일</th>\n",
              "      <th>URL</th>\n",
              "    </tr>\n",
              "  </thead>\n",
              "  <tbody>\n",
              "    <tr>\n",
              "      <th>0</th>\n",
              "      <td>저희 아파트 경비아저씨의 억울함을 풀어주세요...</td>\n",
              "      <td>2020. 05. 11</td>\n",
              "      <td>2020. 06. 10</td>\n",
              "      <td>446434</td>\n",
              "      <td>2020. 07. 08</td>\n",
              "      <td>https://www1.president.go.kr/petitions/588752</td>\n",
              "    </tr>\n",
              "    <tr>\n",
              "      <th>1</th>\n",
              "      <td>울산 초등학교 1학년 아이에게 팬티빨기 숙제내고 학생 사진에 '섹시팬티', '공주님...</td>\n",
              "      <td>2020. 04. 28</td>\n",
              "      <td>2020. 05. 28</td>\n",
              "      <td>225764</td>\n",
              "      <td>2020. 06. 26</td>\n",
              "      <td>https://www1.president.go.kr/petitions/588455</td>\n",
              "    </tr>\n",
              "    <tr>\n",
              "      <th>2</th>\n",
              "      <td>등교 개학 시기를 미루어주시기 바랍니다.</td>\n",
              "      <td>2020. 04. 24</td>\n",
              "      <td>2020. 05. 24</td>\n",
              "      <td>255333</td>\n",
              "      <td>2020. 06. 24</td>\n",
              "      <td>https://www1.president.go.kr/petitions/588340</td>\n",
              "    </tr>\n",
              "    <tr>\n",
              "      <th>3</th>\n",
              "      <td>방송통신위원회는 방송의 공적 책임 방기하고  언론이기를 포기한 채널A와 TV조선의 ...</td>\n",
              "      <td>2020. 04. 07</td>\n",
              "      <td>2020. 05. 07</td>\n",
              "      <td>273513</td>\n",
              "      <td>2020. 06. 05</td>\n",
              "      <td>https://www1.president.go.kr/petitions/587827</td>\n",
              "    </tr>\n",
              "    <tr>\n",
              "      <th>4</th>\n",
              "      <td>렌트카 훔쳐 사망사고를 낸 10대 엄중 처벌해주세요</td>\n",
              "      <td>2020. 04. 02</td>\n",
              "      <td>2020. 05. 02</td>\n",
              "      <td>1007040</td>\n",
              "      <td>2020. 06. 02</td>\n",
              "      <td>https://www1.president.go.kr/petitions/587624</td>\n",
              "    </tr>\n",
              "  </tbody>\n",
              "</table>\n",
              "</div>"
            ],
            "text/plain": [
              "                                                  제목  ...                                            URL\n",
              "0                        저희 아파트 경비아저씨의 억울함을 풀어주세요...  ...  https://www1.president.go.kr/petitions/588752\n",
              "1  울산 초등학교 1학년 아이에게 팬티빨기 숙제내고 학생 사진에 '섹시팬티', '공주님...  ...  https://www1.president.go.kr/petitions/588455\n",
              "2                             등교 개학 시기를 미루어주시기 바랍니다.  ...  https://www1.president.go.kr/petitions/588340\n",
              "3  방송통신위원회는 방송의 공적 책임 방기하고  언론이기를 포기한 채널A와 TV조선의 ...  ...  https://www1.president.go.kr/petitions/587827\n",
              "4                       렌트카 훔쳐 사망사고를 낸 10대 엄중 처벌해주세요  ...  https://www1.president.go.kr/petitions/587624\n",
              "\n",
              "[5 rows x 6 columns]"
            ]
          },
          "metadata": {
            "tags": []
          },
          "execution_count": 6
        }
      ]
    },
    {
      "cell_type": "code",
      "metadata": {
        "id": "Nak9kLOY9ewP",
        "colab_type": "code",
        "colab": {
          "base_uri": "https://localhost:8080/",
          "height": 34
        },
        "outputId": "89ddccdd-5f1b-43a6-dc3d-375a0a2d4bc7"
      },
      "source": [
        "len(petition)"
      ],
      "execution_count": null,
      "outputs": [
        {
          "output_type": "execute_result",
          "data": {
            "text/plain": [
              "177"
            ]
          },
          "metadata": {
            "tags": []
          },
          "execution_count": 7
        }
      ]
    },
    {
      "cell_type": "markdown",
      "metadata": {
        "id": "1YLDD6QC9iUZ",
        "colab_type": "text"
      },
      "source": [
        "의도한 청원 개수만큼 가져와졌습니다! 아래 코드는 대략 5-7분 정도 소요됩니다. 중간에 time.sleep()을 넣을 까닭은 청와대 청원에서 웹크롤링(?) 매크로(?)를 막는 게 있는 것 같은데 시간을 주어서 헷갈리게(?) 하면 크롤링 됩니다(ㅋㅋㅋ)"
      ]
    },
    {
      "cell_type": "code",
      "metadata": {
        "id": "HpncgVAb9hG4",
        "colab_type": "code",
        "colab": {
          "base_uri": "https://localhost:8080/",
          "height": 137,
          "referenced_widgets": [
            "e44c63e83ca54aceb7574626615a2b79",
            "e814514e47594c6fb49979cce6659612",
            "b3eeaeda1b5248bb8cfb94bdc6340306",
            "8307d9b72de14b2c9effdeb5b5bb17db",
            "c46d04016ff24f12b6ede49d07b3a9ed",
            "28954cd73fdd4a4c8cfcbb39cf479aa6",
            "522b2f9292b8495a865ceb93c4c86612",
            "875dcb40d60b422bae2b15f460fdfe14"
          ]
        },
        "outputId": "89ff3994-5eef-4eb3-90c7-48ed6029ece0"
      },
      "source": [
        "import re \n",
        "import time\n",
        "from tqdm import tqdm_notebook\n",
        "from urllib.request import urlopen\n",
        "from bs4 import BeautifulSoup\n",
        "\n",
        "category =[]\n",
        "content = []\n",
        "answer = []\n",
        "person = []\n",
        "\n",
        "for n in tqdm_notebook(petition.index): \n",
        "    url = urlopen(petition['URL'][n]) \n",
        "    if n / 2 == 0:\n",
        "        time.sleep(1)\n",
        "    else: \n",
        "        time.sleep(2)\n",
        "    soup = BeautifulSoup(url, \"html.parser\") \n",
        "    \n",
        "    # get category \n",
        "    sector = soup.find('ul', class_='petitionsView_info_list')\n",
        "    try: \n",
        "        category.append(sector.li.get_text()[4:])\n",
        "    except AttributeError:\n",
        "        print('AttributeError: index-', n, 'URL-', petition['URL'][n])\n",
        "    person.append(sector.find_all('li')[3].get_text()[3:-6])\n",
        "\n",
        "\n",
        "    # get petition content \n",
        "    content_raw = soup.find_all('div', class_='View_write')\n",
        "    try: \n",
        "        if len(content_raw) > 1:\n",
        "            content_raw_text = content_raw[1].get_text()\n",
        "        else: \n",
        "            content_raw_text = content_raw[0].get_text()   \n",
        "    except IndexError: \n",
        "        print('IndexError:', petition['URL'][n])\n",
        "    \n",
        "    content_split = re.split('\\r|\\t|\\n|\\xa0', content_raw_text)\n",
        "    content.append(''.join(content_split))\n",
        "\n",
        "    # get petition answer \n",
        "    answer_raw = soup.find_all('div', class_='pr_tk25')\n",
        "    if len(answer_raw) > 1: \n",
        "        answer_raw_text = re.split(\"\\r|\\t|\\n|\\xa0\", answer_raw[1].get_text())\n",
        "    else: \n",
        "        answer_raw_text = re.split(\"\\r|\\t|\\n|\\xa0\", answer_raw[0].get_text())\n",
        "    answer_raw_text = ' '.join(answer_raw_text)\n",
        "    answer.append(answer_raw_text[7:]) "
      ],
      "execution_count": null,
      "outputs": [
        {
          "output_type": "stream",
          "text": [
            "/usr/local/lib/python3.6/dist-packages/ipykernel_launcher.py:12: TqdmDeprecationWarning: This function will be removed in tqdm==5.0.0\n",
            "Please use `tqdm.notebook.tqdm` instead of `tqdm.tqdm_notebook`\n",
            "  if sys.path[0] == '':\n"
          ],
          "name": "stderr"
        },
        {
          "output_type": "display_data",
          "data": {
            "application/vnd.jupyter.widget-view+json": {
              "model_id": "e44c63e83ca54aceb7574626615a2b79",
              "version_minor": 0,
              "version_major": 2
            },
            "text/plain": [
              "HBox(children=(FloatProgress(value=0.0, max=177.0), HTML(value='')))"
            ]
          },
          "metadata": {
            "tags": []
          }
        },
        {
          "output_type": "stream",
          "text": [
            "\n"
          ],
          "name": "stdout"
        }
      ]
    },
    {
      "cell_type": "code",
      "metadata": {
        "id": "du-qkO6K9zSY",
        "colab_type": "code",
        "colab": {
          "base_uri": "https://localhost:8080/",
          "height": 34
        },
        "outputId": "b8978b32-70fe-46db-b182-a5671411ac98"
      },
      "source": [
        "print(len(category), len(content), len(answer), len(person))"
      ],
      "execution_count": null,
      "outputs": [
        {
          "output_type": "stream",
          "text": [
            "177 177 177 177\n"
          ],
          "name": "stdout"
        }
      ]
    },
    {
      "cell_type": "markdown",
      "metadata": {
        "id": "hnREDmlMC3dq",
        "colab_type": "text"
      },
      "source": [
        "잘 출력되었습니다!"
      ]
    },
    {
      "cell_type": "code",
      "metadata": {
        "id": "nZavX1pBC02h",
        "colab_type": "code",
        "colab": {}
      },
      "source": [
        "petition['카테고리'] = category\n",
        "petition['청원내용'] = content\n",
        "petition['청원답변'] = answer\n",
        "petition['청원인'] = person"
      ],
      "execution_count": null,
      "outputs": []
    },
    {
      "cell_type": "markdown",
      "metadata": {
        "id": "Mk4dpcUOVcnR",
        "colab_type": "text"
      },
      "source": [
        "제대로 크롤링 되지 않는 부분은 없는지 확인해봅니다. 크롤링한 데이터를 저장해 파일로 열어본 후 전체를 쭉 확인해보는 것도 중요한 작업이라 생각합니다 :-) "
      ]
    },
    {
      "cell_type": "code",
      "metadata": {
        "id": "23hBPodNC41B",
        "colab_type": "code",
        "colab": {
          "base_uri": "https://localhost:8080/",
          "height": 428
        },
        "outputId": "74033097-45c1-4bd0-d7cf-9246be9d809f"
      },
      "source": [
        "petition[petition['청원내용'] == '']"
      ],
      "execution_count": null,
      "outputs": [
        {
          "output_type": "execute_result",
          "data": {
            "text/html": [
              "<div>\n",
              "<style scoped>\n",
              "    .dataframe tbody tr th:only-of-type {\n",
              "        vertical-align: middle;\n",
              "    }\n",
              "\n",
              "    .dataframe tbody tr th {\n",
              "        vertical-align: top;\n",
              "    }\n",
              "\n",
              "    .dataframe thead th {\n",
              "        text-align: right;\n",
              "    }\n",
              "</style>\n",
              "<table border=\"1\" class=\"dataframe\">\n",
              "  <thead>\n",
              "    <tr style=\"text-align: right;\">\n",
              "      <th></th>\n",
              "      <th>제목</th>\n",
              "      <th>청원시작일</th>\n",
              "      <th>청원종료일</th>\n",
              "      <th>참여인원</th>\n",
              "      <th>청원답변일</th>\n",
              "      <th>URL</th>\n",
              "      <th>카테고리</th>\n",
              "      <th>청원내용</th>\n",
              "      <th>청원답변</th>\n",
              "      <th>청원인</th>\n",
              "    </tr>\n",
              "  </thead>\n",
              "  <tbody>\n",
              "    <tr>\n",
              "      <th>147</th>\n",
              "      <td>합정 **** 불법 누드촬영</td>\n",
              "      <td>2018. 05. 17</td>\n",
              "      <td>2018. 06. 16</td>\n",
              "      <td>201590</td>\n",
              "      <td>2018. 05. 21</td>\n",
              "      <td>https://www1.president.go.kr/petitions/235102</td>\n",
              "      <td>인권/성평등</td>\n",
              "      <td></td>\n",
              "      <td></td>\n",
              "      <td>naver</td>\n",
              "    </tr>\n",
              "    <tr>\n",
              "      <th>148</th>\n",
              "      <td>위장•몰래카메라 판매금지와 몰카범죄 처벌을 강화해주세요.</td>\n",
              "      <td>2018. 03. 23</td>\n",
              "      <td>2018. 04. 22</td>\n",
              "      <td>209494</td>\n",
              "      <td>2018. 05. 21</td>\n",
              "      <td>https://www1.president.go.kr/petitions/173355</td>\n",
              "      <td>안전/환경</td>\n",
              "      <td></td>\n",
              "      <td></td>\n",
              "      <td>naver</td>\n",
              "    </tr>\n",
              "    <tr>\n",
              "      <th>149</th>\n",
              "      <td>여성도 대한민국 국민입니다. 성별 관계없는 국가의 보호를 요청합니다.</td>\n",
              "      <td>2018. 05. 11</td>\n",
              "      <td>2018. 06. 10</td>\n",
              "      <td>419006</td>\n",
              "      <td>2018. 05. 21</td>\n",
              "      <td>https://www1.president.go.kr/petitions/230552</td>\n",
              "      <td>인권/성평등</td>\n",
              "      <td></td>\n",
              "      <td></td>\n",
              "      <td>naver</td>\n",
              "    </tr>\n",
              "    <tr>\n",
              "      <th>152</th>\n",
              "      <td>다산신도시 실버택배 비용은 입주민들의 관리비로 충당해야합니다.</td>\n",
              "      <td>2018. 04. 17</td>\n",
              "      <td>2018. 05. 17</td>\n",
              "      <td>302082</td>\n",
              "      <td>2018. 05. 04</td>\n",
              "      <td>https://www1.president.go.kr/petitions/203181</td>\n",
              "      <td>행정</td>\n",
              "      <td></td>\n",
              "      <td></td>\n",
              "      <td>naver</td>\n",
              "    </tr>\n",
              "  </tbody>\n",
              "</table>\n",
              "</div>"
            ],
            "text/plain": [
              "                                         제목         청원시작일  ... 청원답변    청원인\n",
              "147                         합정 **** 불법 누드촬영  2018. 05. 17  ...       naver\n",
              "148         위장•몰래카메라 판매금지와 몰카범죄 처벌을 강화해주세요.  2018. 03. 23  ...       naver\n",
              "149  여성도 대한민국 국민입니다. 성별 관계없는 국가의 보호를 요청합니다.  2018. 05. 11  ...       naver\n",
              "152      다산신도시 실버택배 비용은 입주민들의 관리비로 충당해야합니다.  2018. 04. 17  ...       naver\n",
              "\n",
              "[4 rows x 10 columns]"
            ]
          },
          "metadata": {
            "tags": []
          },
          "execution_count": 11
        }
      ]
    },
    {
      "cell_type": "code",
      "metadata": {
        "id": "_HfQ06RuGiPi",
        "colab_type": "code",
        "colab": {
          "base_uri": "https://localhost:8080/",
          "height": 207
        },
        "outputId": "99668e60-8bda-429f-9f64-758622cc5608"
      },
      "source": [
        "for n in [147, 148, 149, 152]:\n",
        "    url = urlopen(petition['URL'][n]) \n",
        "    soup = BeautifulSoup(url, \"html.parser\") \n",
        "    \n",
        "    # get petition content \n",
        "    content_raw = soup.find_all('div', class_='View_write')\n",
        "    content_raw_text = content_raw[2].get_text()\n",
        "    content_split = re.split('\\r|\\t|\\n|\\xa0', content_raw_text)\n",
        "    petition['청원내용'][n] = ''.join(content_split)\n",
        "    \n",
        "    # get petition answer \n",
        "    answer_raw = soup.find_all('div', class_='pr_tk25')\n",
        "    answer_raw_text = re.split(\"\\r|\\t|\\n|\\xa0\", answer_raw[2].get_text())\n",
        "    answer_raw_text = ' '.join(answer_raw_text)\n",
        "    petition['청원답변'][n] = answer_raw_text[7:]"
      ],
      "execution_count": null,
      "outputs": [
        {
          "output_type": "stream",
          "text": [
            "/usr/local/lib/python3.6/dist-packages/ipykernel_launcher.py:9: SettingWithCopyWarning: \n",
            "A value is trying to be set on a copy of a slice from a DataFrame\n",
            "\n",
            "See the caveats in the documentation: https://pandas.pydata.org/pandas-docs/stable/user_guide/indexing.html#returning-a-view-versus-a-copy\n",
            "  if __name__ == '__main__':\n",
            "/usr/local/lib/python3.6/dist-packages/ipykernel_launcher.py:15: SettingWithCopyWarning: \n",
            "A value is trying to be set on a copy of a slice from a DataFrame\n",
            "\n",
            "See the caveats in the documentation: https://pandas.pydata.org/pandas-docs/stable/user_guide/indexing.html#returning-a-view-versus-a-copy\n",
            "  from ipykernel import kernelapp as app\n"
          ],
          "name": "stderr"
        }
      ]
    },
    {
      "cell_type": "code",
      "metadata": {
        "id": "ZJVYqgQ0GuGZ",
        "colab_type": "code",
        "colab": {}
      },
      "source": [
        "petition.to_csv('Final BlueHouse Petition data.csv', sep=',', encoding='utf-8')"
      ],
      "execution_count": null,
      "outputs": []
    },
    {
      "cell_type": "markdown",
      "metadata": {
        "id": "hE0TyjAbVq0_",
        "colab_type": "text"
      },
      "source": [
        "여기까지가 데이터를 가져오는 과정이었습니다. 이 파일들은 다운로드를 해두신다음에 다음에 실행하실 때에는 파일을 드래그 하여 넣으신 다음에 쓰세요. 계속 크롤링하신 다음 이후 코드를 실행하시려고 하면 시간이 항상 오래 소요되실 겁니다..ㅎㅎ"
      ]
    },
    {
      "cell_type": "markdown",
      "metadata": {
        "id": "5zeWzKtcGyHH",
        "colab_type": "text"
      },
      "source": [
        "## EDA(Exploratory Data Analysis) \n",
        "### 탐색적 자료 분석 \n",
        "\n"
      ]
    },
    {
      "cell_type": "code",
      "metadata": {
        "id": "ga5gje_9Gw69",
        "colab_type": "code",
        "colab": {
          "base_uri": "https://localhost:8080/",
          "height": 71
        },
        "outputId": "a27b0503-b2a3-4ff4-9789-906cdc002db9"
      },
      "source": [
        "import pandas as pd\n",
        "import platform\n",
        "import matplotlib.pyplot as plt\n",
        "import seaborn as sns\n",
        "%matplotlib inline"
      ],
      "execution_count": 4,
      "outputs": [
        {
          "output_type": "stream",
          "text": [
            "/usr/local/lib/python3.6/dist-packages/statsmodels/tools/_testing.py:19: FutureWarning: pandas.util.testing is deprecated. Use the functions in the public API at pandas.testing instead.\n",
            "  import pandas.util.testing as tm\n"
          ],
          "name": "stderr"
        }
      ]
    },
    {
      "cell_type": "code",
      "metadata": {
        "id": "uT-g8pVzG4gd",
        "colab_type": "code",
        "colab": {
          "base_uri": "https://localhost:8080/",
          "height": 102
        },
        "outputId": "7af4dfea-640a-49e7-d23e-7b466ec1e3b4"
      },
      "source": [
        "# 한글폰트 설정\n",
        "import matplotlib as mpl\n",
        "import matplotlib.pyplot as plt\n",
        " \n",
        "%config InlineBackend.figure_format = 'retina'\n",
        " \n",
        "!apt -qq -y install fonts-nanum\n",
        " \n",
        "import matplotlib.font_manager as fm\n",
        "fontpath = '/usr/share/fonts/truetype/nanum/NanumBarunGothic.ttf'\n",
        "font = fm.FontProperties(fname=fontpath, size=9)\n",
        "plt.rc('font', family='NanumBarunGothic') \n",
        "mpl.font_manager._rebuild()"
      ],
      "execution_count": 5,
      "outputs": [
        {
          "output_type": "stream",
          "text": [
            "fonts-nanum is already the newest version (20170925-1).\n",
            "The following package was automatically installed and is no longer required:\n",
            "  libnvidia-common-440\n",
            "Use 'apt autoremove' to remove it.\n",
            "0 upgraded, 0 newly installed, 0 to remove and 81 not upgraded.\n"
          ],
          "name": "stdout"
        }
      ]
    },
    {
      "cell_type": "code",
      "metadata": {
        "id": "xv1tGgIFG51j",
        "colab_type": "code",
        "colab": {
          "base_uri": "https://localhost:8080/",
          "height": 748
        },
        "outputId": "ccb989dd-411d-45a2-cc54-af29a219461c"
      },
      "source": [
        "petition = pd.read_csv('Final BlueHouse Petition data.csv', \n",
        "                       index_col=0, parse_dates=['청원시작일','청원종료일','청원답변일'])\n",
        "petition.head()"
      ],
      "execution_count": 6,
      "outputs": [
        {
          "output_type": "execute_result",
          "data": {
            "text/html": [
              "<div>\n",
              "<style scoped>\n",
              "    .dataframe tbody tr th:only-of-type {\n",
              "        vertical-align: middle;\n",
              "    }\n",
              "\n",
              "    .dataframe tbody tr th {\n",
              "        vertical-align: top;\n",
              "    }\n",
              "\n",
              "    .dataframe thead th {\n",
              "        text-align: right;\n",
              "    }\n",
              "</style>\n",
              "<table border=\"1\" class=\"dataframe\">\n",
              "  <thead>\n",
              "    <tr style=\"text-align: right;\">\n",
              "      <th></th>\n",
              "      <th>제목</th>\n",
              "      <th>청원시작일</th>\n",
              "      <th>청원종료일</th>\n",
              "      <th>참여인원</th>\n",
              "      <th>청원답변일</th>\n",
              "      <th>URL</th>\n",
              "      <th>카테고리</th>\n",
              "      <th>청원내용</th>\n",
              "      <th>청원답변</th>\n",
              "      <th>청원인</th>\n",
              "    </tr>\n",
              "  </thead>\n",
              "  <tbody>\n",
              "    <tr>\n",
              "      <th>0</th>\n",
              "      <td>저희 아파트 경비아저씨의 억울함을 풀어주세요...</td>\n",
              "      <td>2020-05-11</td>\n",
              "      <td>2020-06-10</td>\n",
              "      <td>446434</td>\n",
              "      <td>2020-07-08</td>\n",
              "      <td>https://www1.president.go.kr/petitions/588752</td>\n",
              "      <td>인권/성평등</td>\n",
              "      <td>안녕하세요 저는 **동 **아파트 2동에 거주한지 이제 2년째 되가는 입주민입니다....</td>\n",
              "      <td>안녕하십니까. 국토교통비서관 윤성원입니다.   안녕하십니까 고용노동비서관 조성재입니...</td>\n",
              "      <td>kakao</td>\n",
              "    </tr>\n",
              "    <tr>\n",
              "      <th>1</th>\n",
              "      <td>울산 초등학교 1학년 아이에게 팬티빨기 숙제내고 학생 사진에 '섹시팬티', '공주님...</td>\n",
              "      <td>2020-04-28</td>\n",
              "      <td>2020-05-28</td>\n",
              "      <td>225764</td>\n",
              "      <td>2020-06-26</td>\n",
              "      <td>https://www1.president.go.kr/petitions/588455</td>\n",
              "      <td>육아/교육</td>\n",
              "      <td>안녕하십니까?저는 아이들의 인권이 최우선이라고 생각하며두 남매를 열심히 키우고 있는...</td>\n",
              "      <td>안녕하십니까. 청와대 교육비서관 박경미입니다.   울산의 한 초등학교 교사의 성비위...</td>\n",
              "      <td>naver</td>\n",
              "    </tr>\n",
              "    <tr>\n",
              "      <th>2</th>\n",
              "      <td>등교 개학 시기를 미루어주시기 바랍니다.</td>\n",
              "      <td>2020-04-24</td>\n",
              "      <td>2020-05-24</td>\n",
              "      <td>255333</td>\n",
              "      <td>2020-06-24</td>\n",
              "      <td>https://www1.president.go.kr/petitions/588340</td>\n",
              "      <td>육아/교육</td>\n",
              "      <td>최근 코로나19의 신규 확진자 수가 50명 이하로 감소하였고, 정부는 등교 개학을 ...</td>\n",
              "      <td>안녕하십니까. 부총리 겸 교육부 장관 유은혜입니다.   코로나19가 완전히 종식되거...</td>\n",
              "      <td>kakao</td>\n",
              "    </tr>\n",
              "    <tr>\n",
              "      <th>3</th>\n",
              "      <td>방송통신위원회는 방송의 공적 책임 방기하고  언론이기를 포기한 채널A와 TV조선의 ...</td>\n",
              "      <td>2020-04-07</td>\n",
              "      <td>2020-05-07</td>\n",
              "      <td>273513</td>\n",
              "      <td>2020-06-05</td>\n",
              "      <td>https://www1.president.go.kr/petitions/587827</td>\n",
              "      <td>문화/예술/체육/언론</td>\n",
              "      <td>최근 MBC의 잇따른 보도에 따르면 종편 채널A 기자가 현직 검사장과의 친분을 내세...</td>\n",
              "      <td>안녕하십니까. 방송통신위원회 위원장 한상혁입니다. 오늘 답변드릴 ‘채널A와 TV조선...</td>\n",
              "      <td>facebook</td>\n",
              "    </tr>\n",
              "    <tr>\n",
              "      <th>4</th>\n",
              "      <td>렌트카 훔쳐 사망사고를 낸 10대 엄중 처벌해주세요</td>\n",
              "      <td>2020-04-02</td>\n",
              "      <td>2020-05-02</td>\n",
              "      <td>1007040</td>\n",
              "      <td>2020-06-02</td>\n",
              "      <td>https://www1.president.go.kr/petitions/587624</td>\n",
              "      <td>기타</td>\n",
              "      <td>29일 오전 0시 1분쯤 대전 동구의 한 네거리에서 훔친 렌터카를 몰던 10대 청소...</td>\n",
              "      <td>안녕하십니까. 디지털소통센터장 강정수입니다.   오늘은 「렌트카 훔쳐 사망사고 낸 ...</td>\n",
              "      <td>facebook</td>\n",
              "    </tr>\n",
              "  </tbody>\n",
              "</table>\n",
              "</div>"
            ],
            "text/plain": [
              "                                                  제목  ...       청원인\n",
              "0                        저희 아파트 경비아저씨의 억울함을 풀어주세요...  ...     kakao\n",
              "1  울산 초등학교 1학년 아이에게 팬티빨기 숙제내고 학생 사진에 '섹시팬티', '공주님...  ...     naver\n",
              "2                             등교 개학 시기를 미루어주시기 바랍니다.  ...     kakao\n",
              "3  방송통신위원회는 방송의 공적 책임 방기하고  언론이기를 포기한 채널A와 TV조선의 ...  ...  facebook\n",
              "4                       렌트카 훔쳐 사망사고를 낸 10대 엄중 처벌해주세요  ...  facebook\n",
              "\n",
              "[5 rows x 10 columns]"
            ]
          },
          "metadata": {
            "tags": []
          },
          "execution_count": 6
        }
      ]
    },
    {
      "cell_type": "code",
      "metadata": {
        "id": "Cg44OZjCG_Im",
        "colab_type": "code",
        "colab": {
          "base_uri": "https://localhost:8080/",
          "height": 34
        },
        "outputId": "ef6ee295-683d-44a2-df71-2deb27759b2f"
      },
      "source": [
        "petition.shape"
      ],
      "execution_count": 7,
      "outputs": [
        {
          "output_type": "execute_result",
          "data": {
            "text/plain": [
              "(177, 10)"
            ]
          },
          "metadata": {
            "tags": []
          },
          "execution_count": 7
        }
      ]
    },
    {
      "cell_type": "markdown",
      "metadata": {
        "id": "KHcwZwPLHRQG",
        "colab_type": "text"
      },
      "source": [
        "### 필요한 데이터만 남기기\n",
        "\n",
        "분석에 필요한 데이터들만 남겨봅니다."
      ]
    },
    {
      "cell_type": "code",
      "metadata": {
        "id": "BjTZCxWYHCMz",
        "colab_type": "code",
        "colab": {
          "base_uri": "https://localhost:8080/",
          "height": 306
        },
        "outputId": "bda89a70-b833-4e59-c470-d2ba558a6464"
      },
      "source": [
        "petition.drop(['URL', '청원종료일','청원답변','청원인'], axis=1, inplace=True)\n",
        "petition.head()"
      ],
      "execution_count": 8,
      "outputs": [
        {
          "output_type": "execute_result",
          "data": {
            "text/html": [
              "<div>\n",
              "<style scoped>\n",
              "    .dataframe tbody tr th:only-of-type {\n",
              "        vertical-align: middle;\n",
              "    }\n",
              "\n",
              "    .dataframe tbody tr th {\n",
              "        vertical-align: top;\n",
              "    }\n",
              "\n",
              "    .dataframe thead th {\n",
              "        text-align: right;\n",
              "    }\n",
              "</style>\n",
              "<table border=\"1\" class=\"dataframe\">\n",
              "  <thead>\n",
              "    <tr style=\"text-align: right;\">\n",
              "      <th></th>\n",
              "      <th>제목</th>\n",
              "      <th>청원시작일</th>\n",
              "      <th>참여인원</th>\n",
              "      <th>청원답변일</th>\n",
              "      <th>카테고리</th>\n",
              "      <th>청원내용</th>\n",
              "    </tr>\n",
              "  </thead>\n",
              "  <tbody>\n",
              "    <tr>\n",
              "      <th>0</th>\n",
              "      <td>저희 아파트 경비아저씨의 억울함을 풀어주세요...</td>\n",
              "      <td>2020-05-11</td>\n",
              "      <td>446434</td>\n",
              "      <td>2020-07-08</td>\n",
              "      <td>인권/성평등</td>\n",
              "      <td>안녕하세요 저는 **동 **아파트 2동에 거주한지 이제 2년째 되가는 입주민입니다....</td>\n",
              "    </tr>\n",
              "    <tr>\n",
              "      <th>1</th>\n",
              "      <td>울산 초등학교 1학년 아이에게 팬티빨기 숙제내고 학생 사진에 '섹시팬티', '공주님...</td>\n",
              "      <td>2020-04-28</td>\n",
              "      <td>225764</td>\n",
              "      <td>2020-06-26</td>\n",
              "      <td>육아/교육</td>\n",
              "      <td>안녕하십니까?저는 아이들의 인권이 최우선이라고 생각하며두 남매를 열심히 키우고 있는...</td>\n",
              "    </tr>\n",
              "    <tr>\n",
              "      <th>2</th>\n",
              "      <td>등교 개학 시기를 미루어주시기 바랍니다.</td>\n",
              "      <td>2020-04-24</td>\n",
              "      <td>255333</td>\n",
              "      <td>2020-06-24</td>\n",
              "      <td>육아/교육</td>\n",
              "      <td>최근 코로나19의 신규 확진자 수가 50명 이하로 감소하였고, 정부는 등교 개학을 ...</td>\n",
              "    </tr>\n",
              "    <tr>\n",
              "      <th>3</th>\n",
              "      <td>방송통신위원회는 방송의 공적 책임 방기하고  언론이기를 포기한 채널A와 TV조선의 ...</td>\n",
              "      <td>2020-04-07</td>\n",
              "      <td>273513</td>\n",
              "      <td>2020-06-05</td>\n",
              "      <td>문화/예술/체육/언론</td>\n",
              "      <td>최근 MBC의 잇따른 보도에 따르면 종편 채널A 기자가 현직 검사장과의 친분을 내세...</td>\n",
              "    </tr>\n",
              "    <tr>\n",
              "      <th>4</th>\n",
              "      <td>렌트카 훔쳐 사망사고를 낸 10대 엄중 처벌해주세요</td>\n",
              "      <td>2020-04-02</td>\n",
              "      <td>1007040</td>\n",
              "      <td>2020-06-02</td>\n",
              "      <td>기타</td>\n",
              "      <td>29일 오전 0시 1분쯤 대전 동구의 한 네거리에서 훔친 렌터카를 몰던 10대 청소...</td>\n",
              "    </tr>\n",
              "  </tbody>\n",
              "</table>\n",
              "</div>"
            ],
            "text/plain": [
              "                                                  제목  ...                                               청원내용\n",
              "0                        저희 아파트 경비아저씨의 억울함을 풀어주세요...  ...  안녕하세요 저는 **동 **아파트 2동에 거주한지 이제 2년째 되가는 입주민입니다....\n",
              "1  울산 초등학교 1학년 아이에게 팬티빨기 숙제내고 학생 사진에 '섹시팬티', '공주님...  ...  안녕하십니까?저는 아이들의 인권이 최우선이라고 생각하며두 남매를 열심히 키우고 있는...\n",
              "2                             등교 개학 시기를 미루어주시기 바랍니다.  ...  최근 코로나19의 신규 확진자 수가 50명 이하로 감소하였고, 정부는 등교 개학을 ...\n",
              "3  방송통신위원회는 방송의 공적 책임 방기하고  언론이기를 포기한 채널A와 TV조선의 ...  ...  최근 MBC의 잇따른 보도에 따르면 종편 채널A 기자가 현직 검사장과의 친분을 내세...\n",
              "4                       렌트카 훔쳐 사망사고를 낸 10대 엄중 처벌해주세요  ...  29일 오전 0시 1분쯤 대전 동구의 한 네거리에서 훔친 렌터카를 몰던 10대 청소...\n",
              "\n",
              "[5 rows x 6 columns]"
            ]
          },
          "metadata": {
            "tags": []
          },
          "execution_count": 8
        }
      ]
    },
    {
      "cell_type": "markdown",
      "metadata": {
        "id": "Sh9ytDGLHmQM",
        "colab_type": "text"
      },
      "source": [
        "### 카테고리별 청원수 \n"
      ]
    },
    {
      "cell_type": "code",
      "metadata": {
        "id": "icnVFSDkHdgf",
        "colab_type": "code",
        "colab": {
          "base_uri": "https://localhost:8080/",
          "height": 289
        },
        "outputId": "5ad31973-8061-40d7-8548-81ee884a60d1"
      },
      "source": [
        "petition_cate = petition['카테고리'].value_counts()\n",
        "petition_cate"
      ],
      "execution_count": 9,
      "outputs": [
        {
          "output_type": "execute_result",
          "data": {
            "text/plain": [
              "인권/성평등         47\n",
              "정치개혁           24\n",
              "기타             23\n",
              "안전/환경          22\n",
              "문화/예술/체육/언론    15\n",
              "육아/교육          12\n",
              "반려동물            8\n",
              "보건복지            6\n",
              "교통/건축/국토        5\n",
              "외교/통일/국방        5\n",
              "행정              3\n",
              "성장동력            2\n",
              "미래              2\n",
              "경제민주화           2\n",
              "일자리             1\n",
              "Name: 카테고리, dtype: int64"
            ]
          },
          "metadata": {
            "tags": []
          },
          "execution_count": 9
        }
      ]
    },
    {
      "cell_type": "code",
      "metadata": {
        "id": "SeQBXr2tHuX8",
        "colab_type": "code",
        "colab": {
          "base_uri": "https://localhost:8080/",
          "height": 593
        },
        "outputId": "7522fab7-056e-46ae-baae-95718bd51bff"
      },
      "source": [
        "petition_cate.sort_values().plot(kind='barh', grid=True, figsize=(10,10))\n",
        "plt.show()"
      ],
      "execution_count": 10,
      "outputs": [
        {
          "output_type": "display_data",
          "data": {
            "image/png": "[encoded data removed]",
            "text/plain": [
              "<Figure size 720x720 with 1 Axes>"
            ]
          },
          "metadata": {
            "tags": [],
            "image/png": {
              "width": 664,
              "height": 576
            },
            "needs_background": "light"
          }
        }
      ]
    },
    {
      "cell_type": "markdown",
      "metadata": {
        "id": "ezl1Y2UOWdl1",
        "colab_type": "text"
      },
      "source": [
        "청원수가 많은 영역은 인권/성평등, 정치개혁, 기타 순으로 청원이 많다는 것을 알 수 있습니다. "
      ]
    },
    {
      "cell_type": "markdown",
      "metadata": {
        "id": "YwGofV6BIk2Z",
        "colab_type": "text"
      },
      "source": [
        "### WordCloud로 시각화\n",
        "\n",
        "인권/성평등 분야의 청원내용을 wordcloud로 시각화해봅시다! 인권/성평등 분야만 새로운 변수에 담아주었고 제대로 가져왔는지까지 확인해주는 것 잊지 마세요."
      ]
    },
    {
      "cell_type": "code",
      "metadata": {
        "id": "zYiE-xInKUFg",
        "colab_type": "code",
        "colab": {
          "base_uri": "https://localhost:8080/",
          "height": 34
        },
        "outputId": "02c5a24c-fe97-4caf-9d6a-5df369682d78"
      },
      "source": [
        "humanRights = petition[petition['카테고리'] == '인권/성평등']\n",
        "humanRights.shape"
      ],
      "execution_count": 11,
      "outputs": [
        {
          "output_type": "execute_result",
          "data": {
            "text/plain": [
              "(47, 6)"
            ]
          },
          "metadata": {
            "tags": []
          },
          "execution_count": 11
        }
      ]
    },
    {
      "cell_type": "code",
      "metadata": {
        "id": "-s_cy7BjI26Q",
        "colab_type": "code",
        "colab": {
          "base_uri": "https://localhost:8080/",
          "height": 717
        },
        "outputId": "89c76f3b-958a-4ae2-a10b-bd77267bcd4d"
      },
      "source": [
        "!apt-get update \n",
        "!apt-get install g++ openjdk-8-jdk python-dev python3-dev \n",
        "!pip3 install JPype1-py3 \n",
        "!pip3 install konlpy \n",
        "!JAVA_HOME=\"C:\\Program Files\\Java\\jdk-13.0.2\""
      ],
      "execution_count": 12,
      "outputs": [
        {
          "output_type": "stream",
          "text": [
            "\r0% [Working]\r            \rHit:1 https://cloud.r-project.org/bin/linux/ubuntu bionic-cran35/ InRelease\n",
            "\r0% [Connecting to archive.ubuntu.com] [Connecting to security.ubuntu.com] [Conn\r0% [1 InRelease gpgv 3,626 B] [Connecting to archive.ubuntu.com] [Connecting to\r0% [Connecting to archive.ubuntu.com (91.189.88.142)] [Connecting to security.u\r                                                                               \rIgn:2 https://developer.download.nvidia.com/compute/cuda/repos/ubuntu1804/x86_64  InRelease\n",
            "\r0% [Connecting to archive.ubuntu.com (91.189.88.142)] [Connecting to security.u\r                                                                               \rIgn:3 https://developer.download.nvidia.com/compute/machine-learning/repos/ubuntu1804/x86_64  InRelease\n",
            "\r0% [Connecting to archive.ubuntu.com (91.189.88.142)] [Connecting to security.u\r                                                                               \rHit:4 https://developer.download.nvidia.com/compute/cuda/repos/ubuntu1804/x86_64  Release\n",
            "\r0% [Connecting to archive.ubuntu.com (91.189.88.142)] [Connecting to security.u\r0% [Release.gpg gpgv 697 B] [Connecting to archive.ubuntu.com (91.189.88.142)] \r                                                                               \rHit:5 https://developer.download.nvidia.com/compute/machine-learning/repos/ubuntu1804/x86_64  Release\n",
            "\r0% [Release.gpg gpgv 697 B] [Waiting for headers] [Waiting for headers] [Waitin\r                                                                               \rHit:6 http://ppa.launchpad.net/graphics-drivers/ppa/ubuntu bionic InRelease\n",
            "\r0% [Release.gpg gpgv 697 B] [Waiting for headers] [Waiting for headers] [Connec\r0% [Waiting for headers] [Waiting for headers] [Connecting to ppa.launchpad.net\r0% [Release.gpg gpgv 564 B] [Waiting for headers] [Waiting for headers] [Connec\r                                                                               \rHit:8 http://security.ubuntu.com/ubuntu bionic-security InRelease\n",
            "\r0% [Release.gpg gpgv 564 B] [Waiting for headers] [Connecting to ppa.launchpad.\r                                                                               \rHit:9 http://archive.ubuntu.com/ubuntu bionic InRelease\n",
            "\r0% [Release.gpg gpgv 564 B] [Waiting for headers] [Connecting to ppa.launchpad.\r                                                                               \r0% [Waiting for headers] [Waiting for headers]\r0% [6 InRelease gpgv 21.3 kB] [Waiting for headers] [Waiting for headers]\r                                                                         \rHit:11 http://archive.ubuntu.com/ubuntu bionic-updates InRelease\n",
            "Hit:12 http://ppa.launchpad.net/marutter/c2d4u3.5/ubuntu bionic InRelease\n",
            "Hit:13 http://archive.ubuntu.com/ubuntu bionic-backports InRelease\n",
            "Reading package lists... Done\n",
            "Reading package lists... Done\n",
            "Building dependency tree       \n",
            "Reading state information... Done\n",
            "python-dev is already the newest version (2.7.15~rc1-1).\n",
            "g++ is already the newest version (4:7.4.0-1ubuntu2.3).\n",
            "python3-dev is already the newest version (3.6.7-1~18.04).\n",
            "openjdk-8-jdk is already the newest version (8u252-b09-1~18.04).\n",
            "The following package was automatically installed and is no longer required:\n",
            "  libnvidia-common-440\n",
            "Use 'apt autoremove' to remove it.\n",
            "0 upgraded, 0 newly installed, 0 to remove and 81 not upgraded.\n",
            "Requirement already satisfied: JPype1-py3 in /usr/local/lib/python3.6/dist-packages (0.5.5.4)\n",
            "Requirement already satisfied: konlpy in /usr/local/lib/python3.6/dist-packages (0.5.2)\n",
            "Requirement already satisfied: numpy>=1.6 in /usr/local/lib/python3.6/dist-packages (from konlpy) (1.18.5)\n",
            "Requirement already satisfied: beautifulsoup4==4.6.0 in /usr/local/lib/python3.6/dist-packages (from konlpy) (4.6.0)\n",
            "Requirement already satisfied: colorama in /usr/local/lib/python3.6/dist-packages (from konlpy) (0.4.3)\n",
            "Requirement already satisfied: lxml>=4.1.0 in /usr/local/lib/python3.6/dist-packages (from konlpy) (4.2.6)\n",
            "Requirement already satisfied: tweepy>=3.7.0 in /usr/local/lib/python3.6/dist-packages (from konlpy) (3.8.0)\n",
            "Requirement already satisfied: JPype1>=0.7.0 in /usr/local/lib/python3.6/dist-packages (from konlpy) (0.7.5)\n",
            "Requirement already satisfied: requests>=2.11.1 in /usr/local/lib/python3.6/dist-packages (from tweepy>=3.7.0->konlpy) (2.23.0)\n",
            "Requirement already satisfied: requests-oauthlib>=0.7.0 in /usr/local/lib/python3.6/dist-packages (from tweepy>=3.7.0->konlpy) (1.3.0)\n",
            "Requirement already satisfied: six>=1.10.0 in /usr/local/lib/python3.6/dist-packages (from tweepy>=3.7.0->konlpy) (1.12.0)\n",
            "Requirement already satisfied: PySocks>=1.5.7 in /usr/local/lib/python3.6/dist-packages (from tweepy>=3.7.0->konlpy) (1.7.1)\n",
            "Requirement already satisfied: certifi>=2017.4.17 in /usr/local/lib/python3.6/dist-packages (from requests>=2.11.1->tweepy>=3.7.0->konlpy) (2020.6.20)\n",
            "Requirement already satisfied: idna<3,>=2.5 in /usr/local/lib/python3.6/dist-packages (from requests>=2.11.1->tweepy>=3.7.0->konlpy) (2.9)\n",
            "Requirement already satisfied: urllib3!=1.25.0,!=1.25.1,<1.26,>=1.21.1 in /usr/local/lib/python3.6/dist-packages (from requests>=2.11.1->tweepy>=3.7.0->konlpy) (1.24.3)\n",
            "Requirement already satisfied: chardet<4,>=3.0.2 in /usr/local/lib/python3.6/dist-packages (from requests>=2.11.1->tweepy>=3.7.0->konlpy) (3.0.4)\n",
            "Requirement already satisfied: oauthlib>=3.0.0 in /usr/local/lib/python3.6/dist-packages (from requests-oauthlib>=0.7.0->tweepy>=3.7.0->konlpy) (3.1.0)\n"
          ],
          "name": "stdout"
        }
      ]
    },
    {
      "cell_type": "code",
      "metadata": {
        "id": "sth_hpsFIMfj",
        "colab_type": "code",
        "colab": {}
      },
      "source": [
        "import nltk \n",
        "from konlpy.tag import Okt \n",
        "okt = Okt()"
      ],
      "execution_count": 13,
      "outputs": []
    },
    {
      "cell_type": "markdown",
      "metadata": {
        "id": "Xfl_xfNoJxm-",
        "colab_type": "text"
      },
      "source": [
        "모든 청원내용을 하나의 변수 humanRights_text에다가 모두 넣어두었습니다."
      ]
    },
    {
      "cell_type": "code",
      "metadata": {
        "id": "U4l6H1XyJNZc",
        "colab_type": "code",
        "colab": {}
      },
      "source": [
        "humanRights_text = ''\n",
        "\n",
        "for each_line in humanRights['청원내용']: \n",
        "  humanRights_text = humanRights_text + each_line + '\\n'"
      ],
      "execution_count": 14,
      "outputs": []
    },
    {
      "cell_type": "code",
      "metadata": {
        "id": "oo3mzhcKJbn_",
        "colab_type": "code",
        "colab": {
          "base_uri": "https://localhost:8080/",
          "height": 1000
        },
        "outputId": "87bbe74c-504e-4933-85b5-58baf56c2a28"
      },
      "source": [
        "tokens_ko = okt.morphs(humanRights_text)\n",
        "tokens_ko"
      ],
      "execution_count": 15,
      "outputs": [
        {
          "output_type": "execute_result",
          "data": {
            "text/plain": [
              "['안녕하세요',\n",
              " '저',\n",
              " '는',\n",
              " '**',\n",
              " '동',\n",
              " '**',\n",
              " '아파트',\n",
              " '2',\n",
              " '동',\n",
              " '에',\n",
              " '거주',\n",
              " '한지',\n",
              " '이제',\n",
              " '2년',\n",
              " '째',\n",
              " '되가는',\n",
              " '입',\n",
              " '주민',\n",
              " '입니다',\n",
              " '.',\n",
              " '주택',\n",
              " '에서만',\n",
              " '쭉',\n",
              " '살다가',\n",
              " '물',\n",
              " '좋고',\n",
              " '공기',\n",
              " '좋은',\n",
              " '이',\n",
              " '곳',\n",
              " '에',\n",
              " '와서',\n",
              " '행복한',\n",
              " '나날',\n",
              " '을',\n",
              " '보내던',\n",
              " '중',\n",
              " '어제',\n",
              " '정말',\n",
              " '허망',\n",
              " '하고',\n",
              " '억울한',\n",
              " '소식',\n",
              " '을',\n",
              " '들었습니다',\n",
              " '.',\n",
              " '저희',\n",
              " '아파트',\n",
              " '경비',\n",
              " '아저씨',\n",
              " '가',\n",
              " '주차',\n",
              " '문제',\n",
              " '로',\n",
              " '인해',\n",
              " '4월',\n",
              " '말부터',\n",
              " '20일',\n",
              " '정도',\n",
              " '말로',\n",
              " '설명',\n",
              " '할',\n",
              " '수',\n",
              " '없이',\n",
              " '힘든',\n",
              " '폭언',\n",
              " '으로',\n",
              " '인해',\n",
              " '생',\n",
              " '을',\n",
              " '마감',\n",
              " '하셨다는',\n",
              " '소식',\n",
              " '이',\n",
              " '였습니다',\n",
              " '...',\n",
              " '정말',\n",
              " '좋으신',\n",
              " '분이셨습니다',\n",
              " '.',\n",
              " '처음',\n",
              " '이사',\n",
              " '와',\n",
              " '서',\n",
              " '저',\n",
              " '한테',\n",
              " '아니',\n",
              " '입',\n",
              " '주민',\n",
              " '들',\n",
              " '에게',\n",
              " '매번',\n",
              " '잘',\n",
              " '해주시고',\n",
              " '자기',\n",
              " '가족',\n",
              " '인',\n",
              " '것',\n",
              " '처럼',\n",
              " '자기',\n",
              " '일인',\n",
              " '것',\n",
              " '처럼',\n",
              " '매번',\n",
              " '아파트',\n",
              " '주민',\n",
              " '분들',\n",
              " '을',\n",
              " '위해',\n",
              " '희생',\n",
              " '하시는',\n",
              " '성실한',\n",
              " '분이셨습니다',\n",
              " '..',\n",
              " '같이',\n",
              " '깨끗하게',\n",
              " '살아야한',\n",
              " '다',\n",
              " '면서',\n",
              " '아파트',\n",
              " '안쪽',\n",
              " '청소',\n",
              " '도',\n",
              " '모자라',\n",
              " '아파트',\n",
              " '밖',\n",
              " '까지',\n",
              " '청소',\n",
              " '하시는',\n",
              " '정말',\n",
              " '열심히',\n",
              " '사시',\n",
              " '는',\n",
              " '분이셨습니다',\n",
              " '..',\n",
              " '아침',\n",
              " '마다',\n",
              " '먼저',\n",
              " '오셔서',\n",
              " '안녕하세',\n",
              " '유라',\n",
              " '며',\n",
              " '먼저',\n",
              " '인사',\n",
              " '해주시는',\n",
              " '힘든',\n",
              " '출근길',\n",
              " '에',\n",
              " '웃음',\n",
              " '을',\n",
              " '주시',\n",
              " '는',\n",
              " '비타민',\n",
              " '같은',\n",
              " '존',\n",
              " '재셨습니다',\n",
              " '.',\n",
              " '그래서',\n",
              " '처음',\n",
              " '아파트',\n",
              " '에',\n",
              " '살',\n",
              " '아',\n",
              " '보면서',\n",
              " '불편하다고',\n",
              " '생각',\n",
              " '이',\n",
              " '하나',\n",
              " '도',\n",
              " '안',\n",
              " '들',\n",
              " '정도',\n",
              " '로',\n",
              " '잘',\n",
              " '해주셨고',\n",
              " '대학생',\n",
              " '딸',\n",
              " '분',\n",
              " '이야기',\n",
              " '하시면서',\n",
              " '저',\n",
              " '도',\n",
              " '딸',\n",
              " '같이',\n",
              " '생각',\n",
              " '이',\n",
              " '드셨는지',\n",
              " '공주',\n",
              " '님',\n",
              " '이라고',\n",
              " '칭',\n",
              " '해주시면서',\n",
              " '엄청',\n",
              " '챙겨주시고',\n",
              " '예뻐',\n",
              " '해주시',\n",
              " '고',\n",
              " '귀여워',\n",
              " '해주시던',\n",
              " '아저씨',\n",
              " '생각',\n",
              " '하니',\n",
              " '눈물',\n",
              " '이',\n",
              " '앞',\n",
              " '을',\n",
              " '가립니다',\n",
              " '..',\n",
              " '처음',\n",
              " '에는',\n",
              " '공주',\n",
              " '님',\n",
              " '이라는',\n",
              " '칭호',\n",
              " '가',\n",
              " '부담스러워서',\n",
              " '좀',\n",
              " '이상하',\n",
              " '신분',\n",
              " '인가',\n",
              " '오해',\n",
              " '했던',\n",
              " '제',\n",
              " '가',\n",
              " '너무',\n",
              " '죄송하네요',\n",
              " '..',\n",
              " '그만큼',\n",
              " '엄청',\n",
              " '좋으신',\n",
              " '분이셨단',\n",
              " '겁니다',\n",
              " '..',\n",
              " '근데',\n",
              " '주차장',\n",
              " '이',\n",
              " '협소합니',\n",
              " '다',\n",
              " '두',\n",
              " '동',\n",
              " '밖',\n",
              " '에',\n",
              " '없어서',\n",
              " '인지',\n",
              " '많이',\n",
              " '협소',\n",
              " '하긴',\n",
              " '합니다',\n",
              " '..',\n",
              " '주차',\n",
              " '를',\n",
              " '하기',\n",
              " '위해',\n",
              " '주말',\n",
              " '이면',\n",
              " '여러',\n",
              " '번',\n",
              " '뱅뱅',\n",
              " '돌아',\n",
              " '야하는',\n",
              " '고충',\n",
              " '이',\n",
              " '있습니다',\n",
              " '.',\n",
              " '그',\n",
              " '주차',\n",
              " '문',\n",
              " '제',\n",
              " '때문',\n",
              " '에',\n",
              " '일이',\n",
              " '벌어졌더군요',\n",
              " '...',\n",
              " '이중주',\n",
              " '차로',\n",
              " '인해서',\n",
              " '자',\n",
              " '기차',\n",
              " '를',\n",
              " '밀었다고',\n",
              " '사람',\n",
              " '을',\n",
              " '죽여',\n",
              " '버리겠다고',\n",
              " '협박',\n",
              " '을',\n",
              " '하고',\n",
              " '근무시간',\n",
              " '마다',\n",
              " '와서',\n",
              " '때리고',\n",
              " '욕',\n",
              " '하고',\n",
              " '씨',\n",
              " '씨',\n",
              " '티비',\n",
              " '만',\n",
              " '봐도',\n",
              " '인성',\n",
              " '이',\n",
              " '딱',\n",
              " '보이는',\n",
              " '그런',\n",
              " '...',\n",
              " '나쁜사람',\n",
              " '에게',\n",
              " '그',\n",
              " '순진하시고',\n",
              " '연약한',\n",
              " '분',\n",
              " '이',\n",
              " '매번',\n",
              " '폭언',\n",
              " '으로',\n",
              " '얼마나',\n",
              " '힘드셨을까요',\n",
              " '...',\n",
              " '생각',\n",
              " '만',\n",
              " '해도',\n",
              " '가슴',\n",
              " '이',\n",
              " '찢어집니다',\n",
              " '..',\n",
              " '그런데',\n",
              " '그',\n",
              " '가해자',\n",
              " '분',\n",
              " '은',\n",
              " '그런',\n",
              " '분',\n",
              " '에게',\n",
              " '사죄',\n",
              " '하는',\n",
              " '마음',\n",
              " '도',\n",
              " '일도',\n",
              " '없이',\n",
              " '언론',\n",
              " '인터뷰',\n",
              " '에서',\n",
              " '아무',\n",
              " '것',\n",
              " '도',\n",
              " '모른',\n",
              " '단식',\n",
              " '입니다',\n",
              " '.',\n",
              " '오히려',\n",
              " '명예훼손',\n",
              " '으로',\n",
              " '맞고소',\n",
              " '를',\n",
              " '했다고',\n",
              " '..',\n",
              " '정말',\n",
              " '인간',\n",
              " '인가',\n",
              " '싶습니다',\n",
              " '.',\n",
              " '우리',\n",
              " '애',\n",
              " '들',\n",
              " '10',\n",
              " '명',\n",
              " '풀어서',\n",
              " '땅',\n",
              " '에',\n",
              " '묻어줄',\n",
              " '까라는',\n",
              " '말',\n",
              " '을',\n",
              " '하는거',\n",
              " '보면',\n",
              " '조폭',\n",
              " '관련',\n",
              " '된',\n",
              " '분',\n",
              " '이실',\n",
              " '것',\n",
              " '같은데요',\n",
              " ',',\n",
              " '연예계',\n",
              " '종사',\n",
              " '하시는',\n",
              " '분',\n",
              " '매니져',\n",
              " '일',\n",
              " '하시던',\n",
              " '분',\n",
              " '이라고',\n",
              " '들었는데',\n",
              " '조폭',\n",
              " '관련',\n",
              " '일',\n",
              " '하는',\n",
              " '사람',\n",
              " '이면',\n",
              " '수',\n",
              " '사',\n",
              " '진행',\n",
              " '부탁드립니다',\n",
              " '.',\n",
              " '기사',\n",
              " '댓글',\n",
              " '만',\n",
              " '봐도',\n",
              " '강북',\n",
              " '하면',\n",
              " '조폭',\n",
              " '알아준단',\n",
              " '식',\n",
              " '인데',\n",
              " '강북구',\n",
              " '조폭',\n",
              " '들',\n",
              " '수사',\n",
              " '강하게',\n",
              " '원합니다',\n",
              " '.',\n",
              " '그',\n",
              " '래야',\n",
              " '이렇게',\n",
              " '강',\n",
              " '자',\n",
              " '가',\n",
              " '약자',\n",
              " '를',\n",
              " '협박',\n",
              " '하고',\n",
              " '폭행',\n",
              " '하는',\n",
              " '일이',\n",
              " '없을',\n",
              " '것',\n",
              " '같습니다',\n",
              " '.',\n",
              " '마음',\n",
              " '같아서는',\n",
              " '사형',\n",
              " '집행',\n",
              " '해달라고',\n",
              " '말씀드리고싶은데',\n",
              " '..',\n",
              " '철철',\n",
              " '히',\n",
              " '다',\n",
              " '수사',\n",
              " '해서',\n",
              " '경비',\n",
              " '아저씨',\n",
              " '의',\n",
              " '억울함을',\n",
              " '풀어',\n",
              " '드리고',\n",
              " '싶습니다',\n",
              " '.',\n",
              " '사형',\n",
              " '은',\n",
              " '아니더라도',\n",
              " '무기징역',\n",
              " '원합니다',\n",
              " '.',\n",
              " '그리고',\n",
              " '경비',\n",
              " '아저씨',\n",
              " '들',\n",
              " '이나',\n",
              " '하청',\n",
              " '용역',\n",
              " '분들',\n",
              " '보호',\n",
              " '해주세요',\n",
              " '..',\n",
              " '경비',\n",
              " '아저씨',\n",
              " '들',\n",
              " '도',\n",
              " '한',\n",
              " '가정',\n",
              " '의',\n",
              " '사랑받는',\n",
              " '소중한',\n",
              " '할아버지',\n",
              " '남편',\n",
              " '아빠',\n",
              " '입니다',\n",
              " '.',\n",
              " '입',\n",
              " '주민',\n",
              " '의',\n",
              " '갑질',\n",
              " '..',\n",
              " '없어져야',\n",
              " '합니다',\n",
              " '.',\n",
              " '오히려',\n",
              " '아파트',\n",
              " '를',\n",
              " '위해',\n",
              " '입',\n",
              " '주민',\n",
              " '들',\n",
              " '을',\n",
              " '위해',\n",
              " '고생',\n",
              " '하신다고',\n",
              " '응원',\n",
              " '을',\n",
              " '해드려',\n",
              " '야합니다',\n",
              " '..',\n",
              " '정말',\n",
              " '좋으신',\n",
              " '분이셨습니다',\n",
              " '..',\n",
              " '그',\n",
              " '노고',\n",
              " '를',\n",
              " '알아서',\n",
              " '아저씨',\n",
              " '가',\n",
              " '힘드신',\n",
              " '일',\n",
              " '당하신거',\n",
              " '알',\n",
              " '고',\n",
              " '입',\n",
              " '주민',\n",
              " '들',\n",
              " '이',\n",
              " '산재',\n",
              " '도',\n",
              " '알아봐주시고',\n",
              " '이번',\n",
              " '일',\n",
              " '벌어지고나서도',\n",
              " '입',\n",
              " '주민',\n",
              " '들',\n",
              " '이',\n",
              " '그',\n",
              " '분',\n",
              " '쫒아내고',\n",
              " '신고',\n",
              " '하려고',\n",
              " '희',\n",
              " '의도',\n",
              " '진행',\n",
              " '했다고도',\n",
              " '들었고',\n",
              " ',',\n",
              " '아저씨',\n",
              " '가',\n",
              " '너무',\n",
              " '무서워하시고',\n",
              " '스트레스',\n",
              " '받아하시니까',\n",
              " '병원',\n",
              " '에도',\n",
              " '입원',\n",
              " '시켜',\n",
              " '드렸다고',\n",
              " '들었습니다',\n",
              " '..',\n",
              " '그만큼',\n",
              " '열심히',\n",
              " '사셨고',\n",
              " '정말',\n",
              " '순수하시고',\n",
              " '좋은',\n",
              " '분',\n",
              " '이신',\n",
              " '겁니다',\n",
              " '.',\n",
              " '저만',\n",
              " '해도',\n",
              " '문',\n",
              " '창',\n",
              " '과',\n",
              " '나왔어도',\n",
              " '글',\n",
              " '도',\n",
              " '잘',\n",
              " '못',\n",
              " '쓰고',\n",
              " '챙피',\n",
              " '한',\n",
              " '마음',\n",
              " '이지만',\n",
              " '아저씨',\n",
              " '가',\n",
              " '그만큼',\n",
              " '저',\n",
              " '한테',\n",
              " '잘',\n",
              " '해주시고',\n",
              " '열심히',\n",
              " '해',\n",
              " '주셨기에',\n",
              " '안타깝고',\n",
              " '화가',\n",
              " '나',\n",
              " '는',\n",
              " '마음',\n",
              " '에',\n",
              " '처음',\n",
              " '국민',\n",
              " '청원',\n",
              " '을',\n",
              " '올려',\n",
              " '봅니다',\n",
              " '.',\n",
              " '제발',\n",
              " '아저씨',\n",
              " '의',\n",
              " '억울함을',\n",
              " '풀어주세요',\n",
              " '엄',\n",
              " '한',\n",
              " '형벌',\n",
              " '이',\n",
              " '나올수있게',\n",
              " '같이',\n",
              " '힘써주세요',\n",
              " '.',\n",
              " '문재인',\n",
              " '대통령',\n",
              " '님',\n",
              " '부디',\n",
              " '약자',\n",
              " '가',\n",
              " '강',\n",
              " '자',\n",
              " '에게',\n",
              " '협박',\n",
              " '과',\n",
              " '폭행',\n",
              " '을',\n",
              " '당해서',\n",
              " '자살',\n",
              " '을',\n",
              " '하는',\n",
              " '경우',\n",
              " '가',\n",
              " '없는',\n",
              " '나라',\n",
              " '가',\n",
              " '되게',\n",
              " '해주십시오',\n",
              " '̤̫',\n",
              " '..',\n",
              " '긴',\n",
              " '글',\n",
              " '읽어주셔서',\n",
              " '감사합니다',\n",
              " '[',\n",
              " '본',\n",
              " '게시',\n",
              " '물의',\n",
              " '일부',\n",
              " '내용',\n",
              " '이',\n",
              " '국민',\n",
              " '청원',\n",
              " '요건',\n",
              " '에',\n",
              " '위배',\n",
              " '되어',\n",
              " '관리자',\n",
              " '에',\n",
              " '의해',\n",
              " '수정',\n",
              " '되었습니다',\n",
              " ']',\n",
              " '\\n',\n",
              " '생후',\n",
              " '6',\n",
              " '개월',\n",
              " '의',\n",
              " '신생아',\n",
              " '부터',\n",
              " '아동',\n",
              " '에',\n",
              " '이르기까지',\n",
              " '광범위한',\n",
              " '피해자',\n",
              " '의',\n",
              " '성',\n",
              " '착취',\n",
              " '동영상',\n",
              " '을',\n",
              " '유통',\n",
              " '했던',\n",
              " '다크',\n",
              " '웹',\n",
              " '운영자',\n",
              " '손',\n",
              " '모씨',\n",
              " '가',\n",
              " '2020년',\n",
              " '4월',\n",
              " '출소',\n",
              " '예정',\n",
              " '입니다',\n",
              " '.',\n",
              " '아동',\n",
              " '청소년',\n",
              " '성',\n",
              " '보호',\n",
              " '에',\n",
              " '관',\n",
              " '한',\n",
              " '법률',\n",
              " '중',\n",
              " '“',\n",
              " '아동',\n",
              " '/',\n",
              " '청소년',\n",
              " '대상',\n",
              " '으로',\n",
              " '음란물',\n",
              " '제작',\n",
              " '및',\n",
              " '유통',\n",
              " '”',\n",
              " '에',\n",
              " '대해',\n",
              " '서',\n",
              " '1년',\n",
              " '6',\n",
              " '개월',\n",
              " '형',\n",
              " '을',\n",
              " '선고',\n",
              " '받았습니다',\n",
              " '.',\n",
              " '이',\n",
              " '사실',\n",
              " '이',\n",
              " '알려져',\n",
              " '30만',\n",
              " '이',\n",
              " '넘는',\n",
              " '국민',\n",
              " '이',\n",
              " '국민',\n",
              " '청원',\n",
              " '을',\n",
              " '통해',\n",
              " '다크',\n",
              " '웹',\n",
              " '운영자',\n",
              " '처벌',\n",
              " '을',\n",
              " '요청',\n",
              " '했을',\n",
              " '때',\n",
              " ',',\n",
              " '청와대',\n",
              " '는',\n",
              " '3',\n",
              " '권',\n",
              " '분립',\n",
              " '을',\n",
              " '이유',\n",
              " '로',\n",
              " '아무',\n",
              " '것',\n",
              " '도',\n",
              " '못',\n",
              " '한다는',\n",
              " '무력한',\n",
              " '답',\n",
              " '을',\n",
              " '주었습니다',\n",
              " '.------------------------------------------------------------------[',\n",
              " '관련',\n",
              " '링크',\n",
              " '1',\n",
              " ']',\n",
              " '다크',\n",
              " '웹',\n",
              " '운영자',\n",
              " '를',\n",
              " '제대로',\n",
              " '처벌',\n",
              " '해달라는',\n",
              " '청와대',\n",
              " '국민',\n",
              " '청원',\n",
              " ',',\n",
              " 'https://www1.president.go.kr/petitions/583190',\n",
              " '다행',\n",
              " '스럽게',\n",
              " '도',\n",
              " '손씨',\n",
              " '를',\n",
              " '“',\n",
              " '제대로',\n",
              " '”',\n",
              " '처벌',\n",
              " '할',\n",
              " '다른',\n",
              " '방법',\n",
              " '이',\n",
              " '있습니다',\n",
              " '.',\n",
              " '2019년',\n",
              " '10월',\n",
              " '에',\n",
              " ',',\n",
              " '미국',\n",
              " '법무부',\n",
              " '는',\n",
              " '손씨',\n",
              " '의',\n",
              " '강제',\n",
              " '송환',\n",
              " '을',\n",
              " '요청',\n",
              " '했습니다',\n",
              " '.',\n",
              " '------------------------------------------------------------------',\n",
              " '이미',\n",
              " '처벌',\n",
              " '받았기에',\n",
              " '이중',\n",
              " '처벌',\n",
              " '의',\n",
              " '문제',\n",
              " '와',\n",
              " '일사부재리',\n",
              " '의',\n",
              " '원칙',\n",
              " '을',\n",
              " '근거',\n",
              " '로',\n",
              " '우려',\n",
              " '가',\n",
              " '있다고',\n",
              " '생각',\n",
              " '할',\n",
              " '수',\n",
              " '있습니다',\n",
              " '.',\n",
              " '그러나',\n",
              " '전문가',\n",
              " '들',\n",
              " '의',\n",
              " '의견',\n",
              " '에',\n",
              " '따르면',\n",
              " '미국',\n",
              " '의',\n",
              " '사법',\n",
              " '당',\n",
              " '국도',\n",
              " '처벌',\n",
              " '의',\n",
              " '권한',\n",
              " '이',\n",
              " '있다고',\n",
              " '합니다',\n",
              " '.',\n",
              " '[',\n",
              " '관련',\n",
              " '링크',\n",
              " '2',\n",
              " ']',\n",
              " '미국',\n",
              " '법무부',\n",
              " '의',\n",
              " '강제',\n",
              " '송환',\n",
              " '요구',\n",
              " '에',\n",
              " '대한',\n",
              " '기사',\n",
              " '중',\n",
              " '사법',\n",
              " '처리',\n",
              " '가능성',\n",
              " '에',\n",
              " '대한',\n",
              " '전문가',\n",
              " '의',\n",
              " '의견',\n",
              " '[',\n",
              " '출처',\n",
              " ':',\n",
              " '중앙',\n",
              " '일보',\n",
              " ']',\n",
              " '美',\n",
              " '법무부',\n",
              " ',',\n",
              " \"'\",\n",
              " '아동',\n",
              " '음란물',\n",
              " '다크',\n",
              " '웹',\n",
              " \"'\",\n",
              " '운영자',\n",
              " '손씨',\n",
              " '강제',\n",
              " '송환',\n",
              " '요',\n",
              " '구https://news.joins.com/article/23614095',\n",
              " '미국',\n",
              " '사법',\n",
              " '당국',\n",
              " '이',\n",
              " '손씨',\n",
              " '를',\n",
              " '미국',\n",
              " '법',\n",
              " '으로도',\n",
              " '처벌',\n",
              " '할',\n",
              " '가능성',\n",
              " '에',\n",
              " '관심',\n",
              " '이',\n",
              " '모였지만',\n",
              " ',',\n",
              " '손씨',\n",
              " '가',\n",
              " '이미',\n",
              " '한',\n",
              " '국법',\n",
              " '에',\n",
              " '따라',\n",
              " '처벌',\n",
              " '을',\n",
              " '받고',\n",
              " '있는',\n",
              " '상황',\n",
              " '에서',\n",
              " '이중',\n",
              " '처벌',\n",
              " '문제',\n",
              " '와',\n",
              " '일사부재리',\n",
              " '원칙',\n",
              " '에',\n",
              " '어긋날',\n",
              " '수',\n",
              " '있다는',\n",
              " '우려',\n",
              " '가',\n",
              " '나왔다',\n",
              " '.',\n",
              " '그러나',\n",
              " '인터넷',\n",
              " '상',\n",
              " '에',\n",
              " '아동',\n",
              " '음란물',\n",
              " '을',\n",
              " '유포',\n",
              " '한',\n",
              " '손씨',\n",
              " '의',\n",
              " '행위',\n",
              " '는',\n",
              " '미국법',\n",
              " '에도',\n",
              " '저촉',\n",
              " '이',\n",
              " '되며',\n",
              " ',',\n",
              " '미국',\n",
              " '의',\n",
              " '사법',\n",
              " '당',\n",
              " '국도',\n",
              " '처벌',\n",
              " '의',\n",
              " '권한',\n",
              " '이',\n",
              " '있기',\n",
              " '때문',\n",
              " '에',\n",
              " '이러한',\n",
              " '원칙',\n",
              " '은',\n",
              " '국가',\n",
              " '간',\n",
              " '에는',\n",
              " '적용',\n",
              " '될',\n",
              " '수',\n",
              " '없다는',\n",
              " '게',\n",
              " '전문가',\n",
              " '들',\n",
              " '의',\n",
              " '분석',\n",
              " '이다',\n",
              " ...]"
            ]
          },
          "metadata": {
            "tags": []
          },
          "execution_count": 15
        }
      ]
    },
    {
      "cell_type": "code",
      "metadata": {
        "id": "gcuXTo9YJ6FG",
        "colab_type": "code",
        "colab": {
          "base_uri": "https://localhost:8080/",
          "height": 51
        },
        "outputId": "a180a9e7-fc59-4d92-9890-191f677d30b6"
      },
      "source": [
        "ko = nltk.Text(tokens_ko, name='인권/성평등 청원내용')\n",
        "print(len(ko.tokens))\n",
        "print(len(set(ko.tokens))) # 중복 제거 후! "
      ],
      "execution_count": 16,
      "outputs": [
        {
          "output_type": "stream",
          "text": [
            "30941\n",
            "6161\n"
          ],
          "name": "stdout"
        }
      ]
    },
    {
      "cell_type": "code",
      "metadata": {
        "id": "bTWWcoP5K6aM",
        "colab_type": "code",
        "colab": {
          "base_uri": "https://localhost:8080/",
          "height": 1000
        },
        "outputId": "52ddff9e-5685-4ef0-a0c9-04f43cb8a8f2"
      },
      "source": [
        "ko = nltk.Text(tokens_ko, name='여자친구 선물')\n",
        "ko.vocab().most_common(100)"
      ],
      "execution_count": 17,
      "outputs": [
        {
          "output_type": "execute_result",
          "data": {
            "text/plain": [
              "[('.', 1129),\n",
              " ('을', 950),\n",
              " ('이', 744),\n",
              " ('의', 615),\n",
              " ('를', 511),\n",
              " ('에', 495),\n",
              " (',', 452),\n",
              " ('가', 406),\n",
              " ('들', 379),\n",
              " ('은', 342),\n",
              " ('는', 286),\n",
              " ('으로', 243),\n",
              " ('한', 232),\n",
              " ('피해자', 210),\n",
              " ('도', 180),\n",
              " ('가해자', 176),\n",
              " ('수', 167),\n",
              " ('에서', 166),\n",
              " ('로', 165),\n",
              " ('것', 165),\n",
              " ('그', 160),\n",
              " ('과', 151),\n",
              " ('제', 145),\n",
              " ('입니다', 144),\n",
              " ('할', 140),\n",
              " ('하고', 139),\n",
              " ('적', 139),\n",
              " (\"'\", 135),\n",
              " ('하는', 131),\n",
              " ('합니다', 130),\n",
              " ('와', 124),\n",
              " ('여성', 122),\n",
              " ('사건', 114),\n",
              " ('에게', 102),\n",
              " ('고', 102),\n",
              " ('인', 101),\n",
              " ('사람', 99),\n",
              " ('처벌', 88),\n",
              " (')', 85),\n",
              " ('생각', 79),\n",
              " ('?', 79),\n",
              " ('하여', 75),\n",
              " ('등', 75),\n",
              " ('저', 74),\n",
              " ('있습니다', 73),\n",
              " ('말', 69),\n",
              " ('국민', 67),\n",
              " ('까지', 65),\n",
              " ('(', 63),\n",
              " ('1', 62),\n",
              " ('그리고', 61),\n",
              " ('다', 60),\n",
              " ('2', 59),\n",
              " ('만', 58),\n",
              " ('딸', 57),\n",
              " ('했습니다', 56),\n",
              " ('안', 55),\n",
              " ('된', 55),\n",
              " ('보호', 53),\n",
              " ('못', 53),\n",
              " ('일', 52),\n",
              " ('성', 52),\n",
              " ('더', 52),\n",
              " ('사진', 52),\n",
              " ('범죄', 49),\n",
              " ('위', 49),\n",
              " ('있는', 48),\n",
              " ('성범죄', 48),\n",
              " ('해', 47),\n",
              " ('\\n', 47),\n",
              " ('경찰', 47),\n",
              " ('청소년', 46),\n",
              " ('또한', 46),\n",
              " ('명', 45),\n",
              " ('하지', 45),\n",
              " ('..', 44),\n",
              " ('수사', 44),\n",
              " ('피해', 44),\n",
              " ('정말', 43),\n",
              " ('법', 43),\n",
              " ('아동', 42),\n",
              " ('물', 40),\n",
              " ('많은', 40),\n",
              " ('청원', 39),\n",
              " ('\"', 39),\n",
              " ('중', 38),\n",
              " ('촬영', 38),\n",
              " ('폭행', 37),\n",
              " ('3', 37),\n",
              " ('행위', 37),\n",
              " ('게', 37),\n",
              " ('남성', 37),\n",
              " ('술', 37),\n",
              " ('친구', 37),\n",
              " ('너무', 36),\n",
              " ('이유', 36),\n",
              " ('이상', 36),\n",
              " ('자신', 36),\n",
              " ('A', 36),\n",
              " ('자', 35)]"
            ]
          },
          "metadata": {
            "tags": []
          },
          "execution_count": 17
        }
      ]
    },
    {
      "cell_type": "code",
      "metadata": {
        "id": "PTtUWZU9LPqm",
        "colab_type": "code",
        "colab": {
          "base_uri": "https://localhost:8080/",
          "height": 867
        },
        "outputId": "e50cbd5c-68f7-4d1d-a644-16ea74a95a80"
      },
      "source": [
        "stop_words = ['.','을','이','의','를','에',',','가','들','은','는','으로','한','도',\n",
        "              '수','에서','로','것','그','과','제','입니다','할','하고','적',\"'\",'하는',\n",
        "              '합니다','와','에게','고','인',')','?','하여','등','저','있습니다','말','까지',\n",
        "              '(','1','그리고','다','2','만','딸','했습니다','안','된','못','일','더','위',\n",
        "              '있는','해','\\n','또한','명','하지','..','정말','물','많은','\"',\n",
        "              '중','3','게','너무','A','자','이런','때','되지','위해','에는','없는',\n",
        "              '및','요','때문','관련','대한','전','라고','되었습니다','하기','나','후','같은','해서',\n",
        "              '글','되어','주','차','하','내','없이','대해','잘']\n",
        "\n",
        "tokens_ko = [each_word for each_word in tokens_ko if each_word not in stop_words]\n",
        "\n",
        "ko = nltk.Text(tokens_ko, name='인권/성평등 청원내용')\n",
        "ko.vocab().most_common(50)"
      ],
      "execution_count": 18,
      "outputs": [
        {
          "output_type": "execute_result",
          "data": {
            "text/plain": [
              "[('피해자', 210),\n",
              " ('가해자', 176),\n",
              " ('여성', 122),\n",
              " ('사건', 114),\n",
              " ('사람', 99),\n",
              " ('처벌', 88),\n",
              " ('생각', 79),\n",
              " ('국민', 67),\n",
              " ('보호', 53),\n",
              " ('성', 52),\n",
              " ('사진', 52),\n",
              " ('범죄', 49),\n",
              " ('성범죄', 48),\n",
              " ('경찰', 47),\n",
              " ('청소년', 46),\n",
              " ('수사', 44),\n",
              " ('피해', 44),\n",
              " ('법', 43),\n",
              " ('아동', 42),\n",
              " ('청원', 39),\n",
              " ('촬영', 38),\n",
              " ('폭행', 37),\n",
              " ('행위', 37),\n",
              " ('남성', 37),\n",
              " ('술', 37),\n",
              " ('친구', 37),\n",
              " ('이유', 36),\n",
              " ('이상', 36),\n",
              " ('자신', 36),\n",
              " ('여자', 34),\n",
              " ('우리', 33),\n",
              " ('재판', 33),\n",
              " ('성폭력', 33),\n",
              " ('국가', 32),\n",
              " ('판결', 32),\n",
              " ('영상', 32),\n",
              " ('사회', 32),\n",
              " ('중위', 32),\n",
              " ('가해', 30),\n",
              " ('대한민국', 30),\n",
              " ('아이', 30),\n",
              " ('사실', 29),\n",
              " ('현재', 29),\n",
              " ('모든', 29),\n",
              " ('신랑', 29),\n",
              " ('기사', 27),\n",
              " ('경우', 27),\n",
              " ('강간', 27),\n",
              " ('정도', 26),\n",
              " ('가족', 26)]"
            ]
          },
          "metadata": {
            "tags": []
          },
          "execution_count": 18
        }
      ]
    },
    {
      "cell_type": "code",
      "metadata": {
        "id": "d01Ybp4oOCYr",
        "colab_type": "code",
        "colab": {
          "base_uri": "https://localhost:8080/",
          "height": 415
        },
        "outputId": "72fa5317-8937-4224-b5c4-aadce653d2cb"
      },
      "source": [
        "plt.figure(figsize=(15,6))\n",
        "ko.plot(50)\n",
        "plt.show()"
      ],
      "execution_count": 19,
      "outputs": [
        {
          "output_type": "display_data",
          "data": {
            "image/png": "[encoded data removed]",
            "text/plain": [
              "<Figure size 1080x432 with 1 Axes>"
            ]
          },
          "metadata": {
            "tags": [],
            "image/png": {
              "width": 890,
              "height": 398
            },
            "needs_background": "light"
          }
        }
      ]
    },
    {
      "cell_type": "markdown",
      "metadata": {
        "id": "65gHDhlSW4aC",
        "colab_type": "text"
      },
      "source": [
        "피해자, 가해자, 여성, 사건, 사람 순으로 Top 5 words가 나오게 되었네요. 재미있는 작업인 것 같습니다ㅎㅎ"
      ]
    },
    {
      "cell_type": "code",
      "metadata": {
        "id": "5kvj6Fu7O3mo",
        "colab_type": "code",
        "colab": {}
      },
      "source": [
        "from wordcloud import WordCloud, STOPWORDS\n",
        "from PIL import Image"
      ],
      "execution_count": 20,
      "outputs": []
    },
    {
      "cell_type": "code",
      "metadata": {
        "id": "U_tD8VWKPbwz",
        "colab_type": "code",
        "colab": {}
      },
      "source": [
        "data = dict(ko.vocab().most_common(150))"
      ],
      "execution_count": 21,
      "outputs": []
    },
    {
      "cell_type": "code",
      "metadata": {
        "id": "dAsragDwPDEW",
        "colab_type": "code",
        "colab": {
          "base_uri": "https://localhost:8080/",
          "height": 366
        },
        "outputId": "4add043b-03b9-44df-8e5c-ea212c073a52"
      },
      "source": [
        "# for win : font_path='c:/Windows/Fonts/malgun.ttf'\n",
        "# 나눔바른고딕 글씨체 있으면 가능, 없을 경우 font_path를 바꾸세요!\n",
        "wordcloud = WordCloud(font_path='/usr/share/fonts/truetype/nanum/NanumBarunGothic.ttf',\n",
        "                      relative_scaling = 0.2,\n",
        "                      background_color='white',).generate_from_frequencies(data)\n",
        "plt.figure(figsize=(12,8))\n",
        "plt.imshow(wordcloud)\n",
        "plt.axis(\"off\")\n",
        "plt.show()"
      ],
      "execution_count": 22,
      "outputs": [
        {
          "output_type": "display_data",
          "data": {
            "image/png": "[encoded data removed]",
            "text/plain": [
              "<Figure size 864x576 with 1 Axes>"
            ]
          },
          "metadata": {
            "tags": [],
            "image/png": {
              "width": 683,
              "height": 349
            },
            "needs_background": "light"
          }
        }
      ]
    },
    {
      "cell_type": "markdown",
      "metadata": {
        "id": "Ir_d0GMvPkc9",
        "colab_type": "text"
      },
      "source": [
        "이렇게, 이미, 하였습니다 등의 불용어들이 많네요. 불용어 처리를 더 잘 처리해야겠죠?! 그래도 어느 정도 인권/성평등의 청원 내용을 잘 보여줄 수 있는 토픽이 나온 것 같습니다. 성평등 영역인만큼 피해자/가해자, 여성 등의 단어가 잘 보여지네요."
      ]
    },
    {
      "cell_type": "markdown",
      "metadata": {
        "id": "Qv4atCtuyJ7J",
        "colab_type": "text"
      },
      "source": [
        "### Word2Vec을 이용해 단어간 유사성 찾기 \n",
        "\n",
        "그렇게 이해를 막 할 필요 없이 이런 것도 있구나 하면서 러프하게 이해해주시면 좋을 것 같아요. 이렇게 word2vec이라는게 있는데 이것을 통해서 (맥락 포함한) 단어간 유사성을 볼 수 있겠구나 하구요. gensim이라는 모듈에서 word2vec을 제공하고 있습니다.\n"
      ]
    },
    {
      "cell_type": "code",
      "metadata": {
        "id": "zlQSmTNmybFm",
        "colab_type": "code",
        "colab": {}
      },
      "source": [
        "import gensim \n",
        "from gensim.models import word2vec"
      ],
      "execution_count": 36,
      "outputs": []
    },
    {
      "cell_type": "code",
      "metadata": {
        "id": "KK02IkwlPXPA",
        "colab_type": "code",
        "colab": {}
      },
      "source": [
        "okt = Okt()\n",
        "results = []\n",
        "\n",
        "for line in humanRights['청원내용']: \n",
        "  # 형태소 분석 \n",
        "  malist = okt.pos(line, norm=True, stem=True)\n",
        "  # print(malist)\n",
        "  r = []\n",
        "\n",
        "  # word2vec 실행\n",
        "  for word in malist: \n",
        "    if not word[1] in ['Josa', 'Eomi','punctuation']:\n",
        "      r.append(word[0])\n",
        "\n",
        "  r1 = (\" \".join(r)).strip()\n",
        "  results.append(r1)\n",
        "  # print(r1)"
      ],
      "execution_count": 31,
      "outputs": []
    },
    {
      "cell_type": "code",
      "metadata": {
        "id": "Ih-69H8nHi2N",
        "colab_type": "code",
        "colab": {}
      },
      "source": [
        "data_file = 'human_rights.data'\n",
        "with open(data_file, 'w', encoding='utf-8') as fp: \n",
        "  fp.write(\"\\n\".join(results))"
      ],
      "execution_count": 37,
      "outputs": []
    },
    {
      "cell_type": "markdown",
      "metadata": {
        "id": "-WuWNgmU2Qfj",
        "colab_type": "text"
      },
      "source": [
        "만든 데이터 날라가지 않도록 우선 저장부터 해두고요! "
      ]
    },
    {
      "cell_type": "code",
      "metadata": {
        "id": "JsNtUFm5JFdR",
        "colab_type": "code",
        "colab": {
          "base_uri": "https://localhost:8080/",
          "height": 71
        },
        "outputId": "39a685ae-7eea-48b0-bae4-a33bea4b938f"
      },
      "source": [
        "data = word2vec.LineSentence(data_file)\n",
        "model = word2vec.Word2Vec(data, size=200, window=10, hs=1, min_count=2, sg=1)\n",
        "\n",
        "model.save('human_rights.model')"
      ],
      "execution_count": 38,
      "outputs": [
        {
          "output_type": "stream",
          "text": [
            "/usr/local/lib/python3.6/dist-packages/smart_open/smart_open_lib.py:253: UserWarning: This function is deprecated, use smart_open.open instead. See the migration notes for details: https://github.com/RaRe-Technologies/smart_open/blob/master/README.rst#migrating-to-the-new-open-function\n",
            "  'See the migration notes for details: %s' % _MIGRATION_NOTES_URL\n"
          ],
          "name": "stderr"
        }
      ]
    },
    {
      "cell_type": "code",
      "metadata": {
        "id": "OJUp6hxwJQWL",
        "colab_type": "code",
        "colab": {
          "base_uri": "https://localhost:8080/",
          "height": 309
        },
        "outputId": "333c14c0-c72c-4582-ac62-d6603f90b571"
      },
      "source": [
        "model = word2vec.Word2Vec.load(\"human_rights.model\")\n",
        "# 1st 단어: 피해자\n",
        "model.most_similar(positive=['피해자'])"
      ],
      "execution_count": 39,
      "outputs": [
        {
          "output_type": "stream",
          "text": [
            "/usr/local/lib/python3.6/dist-packages/smart_open/smart_open_lib.py:253: UserWarning: This function is deprecated, use smart_open.open instead. See the migration notes for details: https://github.com/RaRe-Technologies/smart_open/blob/master/README.rst#migrating-to-the-new-open-function\n",
            "  'See the migration notes for details: %s' % _MIGRATION_NOTES_URL\n",
            "/usr/local/lib/python3.6/dist-packages/ipykernel_launcher.py:2: DeprecationWarning: Call to deprecated `most_similar` (Method will be removed in 4.0.0, use self.wv.most_similar() instead).\n",
            "  \n",
            "/usr/local/lib/python3.6/dist-packages/gensim/matutils.py:737: FutureWarning: Conversion of the second argument of issubdtype from `int` to `np.signedinteger` is deprecated. In future, it will be treated as `np.int64 == np.dtype(int).type`.\n",
            "  if np.issubdtype(vec.dtype, np.int):\n"
          ],
          "name": "stderr"
        },
        {
          "output_type": "execute_result",
          "data": {
            "text/plain": [
              "[('계속', 0.9225026369094849),\n",
              " ('중심', 0.9096826910972595),\n",
              " ('자신', 0.8968992233276367),\n",
              " ('사이', 0.8965251445770264),\n",
              " ('고소하다', 0.893305778503418),\n",
              " ('보이다', 0.8893189430236816),\n",
              " ('반', 0.889228105545044),\n",
              " ('측', 0.8884307146072388),\n",
              " ('참작', 0.8867026567459106),\n",
              " ('학교폭력', 0.8865994215011597)]"
            ]
          },
          "metadata": {
            "tags": []
          },
          "execution_count": 39
        }
      ]
    },
    {
      "cell_type": "markdown",
      "metadata": {
        "id": "j_HprxSzXqpr",
        "colab_type": "text"
      },
      "source": [
        "피해자와 긍정적으로 연관된 단어는 계속 중심, 자신, 사이 등이라고 할 수 있네요. 이것이 어떤 의미가 있는지는 정확히 알 수 없는 것 같고, 더불어 반이나 측과 같이 불용어 처리도 더 되어야 할 것 같네요;;"
      ]
    },
    {
      "cell_type": "code",
      "metadata": {
        "id": "3DykTkkrJyjd",
        "colab_type": "code",
        "colab": {
          "base_uri": "https://localhost:8080/",
          "height": 275
        },
        "outputId": "320172e2-6e53-4854-b899-a26c0a84a436"
      },
      "source": [
        "# 2nd 단어: 가해자\n",
        "model.most_similar(positive=['가해자'])"
      ],
      "execution_count": 40,
      "outputs": [
        {
          "output_type": "stream",
          "text": [
            "/usr/local/lib/python3.6/dist-packages/ipykernel_launcher.py:1: DeprecationWarning: Call to deprecated `most_similar` (Method will be removed in 4.0.0, use self.wv.most_similar() instead).\n",
            "  \"\"\"Entry point for launching an IPython kernel.\n",
            "/usr/local/lib/python3.6/dist-packages/gensim/matutils.py:737: FutureWarning: Conversion of the second argument of issubdtype from `int` to `np.signedinteger` is deprecated. In future, it will be treated as `np.int64 == np.dtype(int).type`.\n",
            "  if np.issubdtype(vec.dtype, np.int):\n"
          ],
          "name": "stderr"
        },
        {
          "output_type": "execute_result",
          "data": {
            "text/plain": [
              "[('가깝다', 0.9094172716140747),\n",
              " ('먹이다', 0.8937535285949707),\n",
              " ('직접', 0.8929290771484375),\n",
              " ('강간미수', 0.8911316394805908),\n",
              " ('항소심', 0.8876415491104126),\n",
              " ('은', 0.887349545955658),\n",
              " ('마시다', 0.8842542171478271),\n",
              " ('범행', 0.8795919418334961),\n",
              " ('술', 0.8746169805526733),\n",
              " ('사이', 0.8714389801025391)]"
            ]
          },
          "metadata": {
            "tags": []
          },
          "execution_count": 40
        }
      ]
    },
    {
      "cell_type": "markdown",
      "metadata": {
        "id": "3J1ZwhkcX2BA",
        "colab_type": "text"
      },
      "source": [
        "흠,,, 가해자와 가깝다, 먹이다, 직접 등의 단어는 섬찟합니다,,, 불용어 '은'도 잘 처리되어야 할 듯하구요. 그치만 가해자와 관련된 단어는 잘 도출이 된 것 같습니다."
      ]
    },
    {
      "cell_type": "code",
      "metadata": {
        "id": "WmR2WfJcKTYw",
        "colab_type": "code",
        "colab": {
          "base_uri": "https://localhost:8080/",
          "height": 275
        },
        "outputId": "9db1b2aa-f480-4c8a-ec56-97c8dbe07266"
      },
      "source": [
        "model.most_similar(positive=['여성', '성범죄'])"
      ],
      "execution_count": 45,
      "outputs": [
        {
          "output_type": "stream",
          "text": [
            "/usr/local/lib/python3.6/dist-packages/ipykernel_launcher.py:1: DeprecationWarning: Call to deprecated `most_similar` (Method will be removed in 4.0.0, use self.wv.most_similar() instead).\n",
            "  \"\"\"Entry point for launching an IPython kernel.\n",
            "/usr/local/lib/python3.6/dist-packages/gensim/matutils.py:737: FutureWarning: Conversion of the second argument of issubdtype from `int` to `np.signedinteger` is deprecated. In future, it will be treated as `np.int64 == np.dtype(int).type`.\n",
            "  if np.issubdtype(vec.dtype, np.int):\n"
          ],
          "name": "stderr"
        },
        {
          "output_type": "execute_result",
          "data": {
            "text/plain": [
              "[('팀', 0.9145745635032654),\n",
              " ('전반', 0.9113872051239014),\n",
              " ('남성', 0.9063940048217773),\n",
              " ('플랫폼', 0.8925610780715942),\n",
              " ('감독', 0.8894514441490173),\n",
              " ('출하', 0.8821606040000916),\n",
              " ('아청법', 0.8800077438354492),\n",
              " ('성', 0.8784236311912537),\n",
              " ('조사', 0.8774358630180359),\n",
              " ('그램', 0.8746805191040039)]"
            ]
          },
          "metadata": {
            "tags": []
          },
          "execution_count": 45
        }
      ]
    },
    {
      "cell_type": "markdown",
      "metadata": {
        "id": "JuXl0_5DYBPj",
        "colab_type": "text"
      },
      "source": [
        "여성과 성범죄 두 단어와 함께 관련된 단어들의 리스트입니다. 여러가지가 나오네요. "
      ]
    },
    {
      "cell_type": "markdown",
      "metadata": {
        "id": "_ADlFxvoYHp5",
        "colab_type": "text"
      },
      "source": [
        "## 과제\n",
        "\n",
        "여기서 끝내긴 너무 아쉬울 것 같네요. 종강 기념 과제가 나갑니다ㅎㅎ EDA 중심으로 한번 배워본 것들을 복습해봅시다. \n",
        "\n",
        "- 과제1:\n",
        "참여인원순 Top10 카테고리를 정렬하여 데이터프레임으로 나타내고, 이를 잘 나타낼 수 있는 표를 사용해 시각화 해주세요. \n",
        "\n",
        "- 과제2: \n",
        "petition의 청원시작일 칼럼은 청원이 게시된 날짜, 청원답변일은 청원이 답변된 날짜를 의미합니다. 이를 활용해 1) 청원 게시일부터 청원이 답변된 날짜까지의 평균을 구하고, 2) 카테고리별 평균 청원답변일수를 구하여 데이터프레임으로 나타내세요. \n",
        "\n",
        "- 과제3: \n",
        "카테고리 정치개혁의 청원내용을 wordcloud로 시각화하세요."
      ]
    },
    {
      "cell_type": "markdown",
      "metadata": {
        "id": "B6a_2zdEMVjI",
        "colab_type": "text"
      },
      "source": [
        "## 공부를 끝내며 \n",
        "\n",
        "드디어 대망의 한글 자연어 처리 기초가 마무리되었습니다. 더불어 코사다마의 첫번째 트랙 데이터 사이언스 입문 스터디도 마무리되었네요. 열심히 공부한 당신, 수고하셨습니다👏👏👏 완벽하게 익히지 못했을 수도 있습니다. 당연히 앞부분은 가물가물..ㅎㅎ 하겠죠! 그러나 제가 생각하기에 중요한 것은 어쨌든 여러분들은 한번씩 들어는 봤다, 코드라도 보긴 봤다 이거에요!..ㅎㅎ 이러한 기술들을 알기만 하는 것으로도 상상력이 생깁니다. 이전에는 이런 방식으로 분석하는 것이 여러분들의 선택지에 없었다면, 이제는 잘 못하더라도 이렇게 해석하고 분석할 수 있다는 선택지의 방향이 생긴 것입니다. 제가 여러분들에게 기초부터 심화까지 가르켜줄 깜냥도 못될 뿐더러 저도 잘 못합니다. 하지만 같이 방향을 세워가며 하나씩 하나씩 배워나갈 수는 있어요. 그래서 이번 학기 너무 힘드셨더라도, 뭔가 배운게 없는 것 같더라도 좌절하지 마시고 잘 리뷰해보시면 좋을 것 같습니다✨🔮 \n",
        "\n",
        "그동안 무척 고생하셨어요. 우리 다음 학기 스터디에서 다시 만나요🥰👍🙃"
      ]
    }
  ]
}