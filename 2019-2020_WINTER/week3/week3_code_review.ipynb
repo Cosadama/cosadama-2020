{
  "nbformat": 4,
  "nbformat_minor": 0,
  "metadata": {
    "colab": {
      "name": "week3_code_review.ipynb",
      "provenance": [],
      "collapsed_sections": [],
      "authorship_tag": "ABX9TyO+503v2M732bsmQwzqdFmm",
      "include_colab_link": true
    },
    "kernelspec": {
      "name": "python3",
      "display_name": "Python 3"
    }
  },
  "cells": [
    {
      "cell_type": "markdown",
      "metadata": {
        "id": "view-in-github",
        "colab_type": "text"
      },
      "source": [
        "<a href=\"https://colab.research.google.com/github/givemetarte/cosadama/blob/master/week3_code_review.ipynb\" target=\"_parent\"><img src=\"https://colab.research.google.com/assets/colab-badge.svg\" alt=\"Open In Colab\"/></a>"
      ]
    },
    {
      "cell_type": "markdown",
      "metadata": {
        "id": "t_pxm1hSgTSu",
        "colab_type": "text"
      },
      "source": [
        "#Week3 코드 리뷰 \n",
        "작성자: 박하람  \n",
        "작성일: 2020-02-03\n",
        "\n",
        "![But you need to made it.](https://www.delafeld.it/assets/img/no-time-for-that.jpg)"
      ]
    },
    {
      "cell_type": "markdown",
      "metadata": {
        "id": "7yAyoM3Sir0m",
        "colab_type": "text"
      },
      "source": [
        "## 문제 1번 \n",
        "\n",
        "문제가 그렇게 어렵진 않았죠?! 다들 잘 푸신 것 같네요. 의도한 것은 while문, if문을 사용해서 절댓값으로 잘 바꿔줄 수 있는지를 판단하려고 했습니다. GMS님과 펜섭님은 배운 것을 토대로 잘 작성해주셨어요.\n"
      ]
    },
    {
      "cell_type": "markdown",
      "metadata": {
        "id": "FVj-FtC7k4Zl",
        "colab_type": "text"
      },
      "source": [
        "#### sys 모듈은 주의해서 사용할 것! \n",
        "\n",
        "- 성지현님과 유동호님은 sys 모듈을 사용해 while문 탈출을 시도했어요. 하지만 이런 탈출은 좋은 방법이 아니랍니다. 제일 중요한 이유는 **sys.exit()를 사용하게되면, 파이썬 프로그램이 종료가 되기 때문이에요.** 단순히 문제를 풀기 위해서라면 그냥 잘 작동하니 문제는 없어보이지만, 실제 프로그램을 작성할 때에는 오류가 발생해도 중대한 문제가 아니라면 프로그램이 계속 돌아가야 합니다.(수백개의 코드 줄로 되어 있으니까요...!) 하지만 이렇게 써버리면 프로그램은 중단되어 버리죠. 그렇기 때문에 **while문 내에서 break로 탈출하는 것이 더 좋은 방법입니다!**\n"
      ]
    },
    {
      "cell_type": "code",
      "metadata": {
        "id": "ogDYwg_eixiq",
        "colab_type": "code",
        "outputId": "a6928ca9-c405-4b4d-a79a-0a56f817545f",
        "colab": {
          "base_uri": "https://localhost:8080/",
          "height": 218
        }
      },
      "source": [
        "# 문제 1번 - 성지현, 유동호\n",
        "import sys\n",
        "num = int(input('정수 하나를 입력하세요.'))\n",
        "while num!=0:\n",
        "    if num>0:\n",
        "        print(num)\n",
        "        num = int(input('정수 하나를 입력하세요.'))\n",
        "    else:\n",
        "        print(num+(num*-2))\n",
        "        num = int(input('정수 하나를 입력하세요.'))\n",
        "sys.exit()"
      ],
      "execution_count": 0,
      "outputs": [
        {
          "output_type": "stream",
          "text": [
            "정수 하나를 입력하세요.3\n",
            "3\n",
            "정수 하나를 입력하세요.0\n"
          ],
          "name": "stdout"
        },
        {
          "output_type": "error",
          "ename": "SystemExit",
          "evalue": "ignored",
          "traceback": [
            "An exception has occurred, use %tb to see the full traceback.\n",
            "\u001b[0;31mSystemExit\u001b[0m\n"
          ]
        },
        {
          "output_type": "stream",
          "text": [
            "/usr/local/lib/python3.6/dist-packages/IPython/core/interactiveshell.py:2890: UserWarning: To exit: use 'exit', 'quit', or Ctrl-D.\n",
            "  warn(\"To exit: use 'exit', 'quit', or Ctrl-D.\", stacklevel=1)\n"
          ],
          "name": "stderr"
        }
      ]
    },
    {
      "cell_type": "markdown",
      "metadata": {
        "id": "JLD6crSvl618",
        "colab_type": "text"
      },
      "source": [
        "#### 1번 문제 VIP: 김보겸님! \n",
        "\n",
        "- 김보겸님의 코드는 굉장히 깔끔하죠? 단 5줄로 코드를 완성할 수 있습니다. 물론 abs()는 우리가 배우지 않은 함수이지만, **abs()는 절댓값으로 만들어주는 함수**입니다. if/else문을 사용하는 대신, abs()로 절댓값을 만들어주어 더 코드를 깔끔하게 써주었네요!"
      ]
    },
    {
      "cell_type": "code",
      "metadata": {
        "id": "Z0-DniRsiwuI",
        "colab_type": "code",
        "outputId": "8e2836c3-74fc-4ce8-f68d-213483ade5fa",
        "colab": {
          "base_uri": "https://localhost:8080/",
          "height": 119
        }
      },
      "source": [
        "#문제 1번 - 김보겸\n",
        "my_number = float(input('숫자를 입력하세요(0을 입력하면 프로그램이 종료됩니다) : '))\n",
        "while my_number != 0 :\n",
        "    print(abs(my_number))\n",
        "    my_number = float(input('숫자를 입력하세요 : '))\n",
        "print('프로그램 종료')\n"
      ],
      "execution_count": 0,
      "outputs": [
        {
          "output_type": "stream",
          "text": [
            "숫자를 입력하세요(0을 입력하면 프로그램이 종료됩니다) : 3.5\n",
            "3.5\n",
            "숫자를 입력하세요 : -2.45\n",
            "2.45\n",
            "숫자를 입력하세요 : 0\n",
            "프로그램 종료\n"
          ],
          "name": "stdout"
        }
      ]
    },
    {
      "cell_type": "markdown",
      "metadata": {
        "id": "tBvcwXCem8e4",
        "colab_type": "text"
      },
      "source": [
        "## 문제 2번 \n",
        "\n",
        "이 문제 역시 리스트와 while문, if문을 이용하면 쉽게 풀 수 있는 문제였습니다. "
      ]
    },
    {
      "cell_type": "markdown",
      "metadata": {
        "id": "sIgj96wJojW1",
        "colab_type": "text"
      },
      "source": [
        "- 성지현님, GMS님의 코드를 수정하면 조금 더 깔끔한 코드를 작성할 수 있습니다. 두 분 다 if와 else문에 동일한 input 함수를 작성해주셨는데요, **아래처럼 while 함수에 최종적으로 넣어주면 중복을 막을 수 있습니다.**\n",
        "\n",
        "- 참고로, 성지현님과 유동호님께서는 변수 이름을 한글로 작성해주셨는데요! 한글 변수 이름은 작성가능하나, 영어를 사용하는 것이 더 better! 필수는 아니지만 영어를 사용하는 것이 조금 더 가독성이 높다고 할까요...? (한국인이 아닌 사람들에게!) \n"
      ]
    },
    {
      "cell_type": "code",
      "metadata": {
        "id": "GBlf0Njsm_5V",
        "colab_type": "code",
        "outputId": "fc079e1f-9d5a-4549-bf95-8bd6de2f5ca8",
        "colab": {
          "base_uri": "https://localhost:8080/",
          "height": 187
        }
      },
      "source": [
        "# 문제 2번 - 성지현\n",
        "dong=['흑석동', '사당동', '상도동', '노량진동', '규동']\n",
        "동=input('동을 입력하세요.')\n",
        "while 동!='end':\n",
        "    if 동 in dong:\n",
        "        print(dong.index(동)+1, '번째 동입니다.')\n",
        "    else:\n",
        "        dong.append(동)\n",
        "        print(dong.index(동)+1, '번째 동으로 등록합니다.')\n",
        "    동=input('동을 입력하세요.')\n",
        "print('종료합니다.')"
      ],
      "execution_count": 0,
      "outputs": [
        {
          "output_type": "stream",
          "text": [
            "동을 입력하세요.흑석동\n",
            "1 번째 동입니다.\n",
            "동을 입력하세요.상도동\n",
            "3 번째 동입니다.\n",
            "동을 입력하세요.연희동\n",
            "6 번째 동으로 등록합니다.\n",
            "동을 입력하세요.연희동\n",
            "6 번째 동입니다.\n",
            "동을 입력하세요.end\n",
            "종료합니다.\n"
          ],
          "name": "stdout"
        }
      ]
    },
    {
      "cell_type": "markdown",
      "metadata": {
        "id": "OiJcK-4Sqxl3",
        "colab_type": "text"
      },
      "source": [
        "- 김보겸님의 코드에도 다소 비효율적인 코드가 있어요. 굳이 elif문을 사용하지 않아도 됩니다. my_dong이 dong 안에 들어있냐 아니냐라는 두가지의 경우이니, if/else만 사용하면 됩니다. 그래서 그냥 else만 적어주면 더 간단!"
      ]
    },
    {
      "cell_type": "code",
      "metadata": {
        "id": "w1fHwBWdnZaW",
        "colab_type": "code",
        "outputId": "f9e9c4c1-9f40-461b-cf62-51584b248dcd",
        "colab": {
          "base_uri": "https://localhost:8080/",
          "height": 170
        }
      },
      "source": [
        "#문제 2번 - 김보겸\n",
        "dong = ['흑석동', '사당동', '상도동', '노량진동', '규동']\n",
        "my_dong = input('동을 입력하세요 : ')\n",
        "while my_dong != '그만 입력할래요' :\n",
        "    if my_dong in dong :\n",
        "        print(dong.index(my_dong) + 1, '번째 동입니다.')\n",
        "    else:\n",
        "    # 원래 코드: elif my_dong not in dong :\n",
        "        dong.append(my_dong)\n",
        "        print(dong.index(my_dong) +1, '번째 동으로 등록합니다.')\n",
        "    my_dong = input('동을 입력하세요 : ')"
      ],
      "execution_count": 0,
      "outputs": [
        {
          "output_type": "stream",
          "text": [
            "동을 입력하세요 : 흑석동\n",
            "1 번째 동입니다.\n",
            "동을 입력하세요 : 사당동\n",
            "2 번째 동입니다.\n",
            "동을 입력하세요 : 연희동\n",
            "6 번째 동으로 등록합니다.\n",
            "동을 입력하세요 : 연희동\n",
            "6 번째 동입니다.\n",
            "동을 입력하세요 : 그만 입력할래요\n"
          ],
          "name": "stdout"
        }
      ]
    },
    {
      "cell_type": "markdown",
      "metadata": {
        "id": "Ca-3skKbs1xF",
        "colab_type": "text"
      },
      "source": [
        "## 문제 3번 \n",
        "\n",
        "딕셔너리를 잘 사용할 수 있는지 알아보기 위한 것이었는데요! 핵심은 딕셔너리의 key들만 뽑아서 list나 tuple을 만들 수 있는지 확인하려고 했습니다.  "
      ]
    },
    {
      "cell_type": "markdown",
      "metadata": {
        "id": "81N8InsOvKxr",
        "colab_type": "text"
      },
      "source": [
        "아래가 제가 생각한 모범답안입니다. 생각보다 이 문제가 단순하지는 않았던 것 같습니다. \n",
        "\n",
        "- 펜섭님과 몇몇 분들은 딕셔너리의 메뉴를 구할 때 get()을 사용하셨더라구요. 굳이 get을 사용할 필요 없이 아주 간단하게 **dictionary_name[dictionary_key]를 입력하면 value값을 구할 수 있습니다.** dictionary 값을 추가하는 것도 이와 같습니다. \n",
        "\n",
        "- menu_list는 메뉴가 변동할 일이 없기 때문에 키만 뽑아 tuple로 바꿔주었습니다. 변동할 일이 있다면 list로 바꿔주는 것도 좋은 방법입니다. "
      ]
    },
    {
      "cell_type": "code",
      "metadata": {
        "id": "LGWfeiIXvKJW",
        "colab_type": "code",
        "outputId": "1ac3396d-4675-4946-f18e-8947f3e8fb3a",
        "colab": {
          "base_uri": "https://localhost:8080/",
          "height": 170
        }
      },
      "source": [
        "menu = {'noodle' : 500, 'ham' : 200, 'egg':200, 'spaghetti' : 900}\n",
        "menu_list = tuple(menu.keys())\n",
        "order = input('what do you want? ')\n",
        "\n",
        "while order != '끝' :\n",
        "    if order in menu_list :\n",
        "        print(menu[order],\"원 입니다.\")\n",
        "    else:\n",
        "        print(\"그런 메뉴는 없습니다.\")\n",
        "    order = input('what do you want? ')"
      ],
      "execution_count": 0,
      "outputs": [
        {
          "output_type": "stream",
          "text": [
            "what do you want? noodle\n",
            "500 원 입니다.\n",
            "what do you want? egg\n",
            "200 원 입니다.\n",
            "what do you want? spahetti\n",
            "그런 메뉴는 없습니다.\n",
            "what do you want? spaghetti\n",
            "900 원 입니다.\n",
            "what do you want? 끝\n"
          ],
          "name": "stdout"
        }
      ]
    },
    {
      "cell_type": "markdown",
      "metadata": {
        "id": "nn-HrcBm1I2c",
        "colab_type": "text"
      },
      "source": [
        "## 문제 4번 \n",
        "\n",
        "코드들을 보니 여러분들의 고민 흔적이 '내림차순'과 '결과값 표시'에서 볼 수 있더라구요. 제가 기대한 답안은 아래와 같습니다! \n",
        "\n",
        "* 오름차순 정렬 방법은 sort에 옵션값을 주면 됩니다. list.sort(reverse = True)로 하면, 오름차순이 아닌 내림차순으로 정렬할 수 있습니다. 유동호님, 성지현님, GMS님께서는 이와 같은 방식을 잘 사용해주셨습니다.\n",
        "\n",
        "* 결과를 리스트 밖으로 하나씩 표시하는 방식은 for문을 사용하면 됩니다. 김보겸님께서는 이와 같은 방식으로 잘 작성해주셨습니다.\n",
        "\n"
      ]
    },
    {
      "cell_type": "code",
      "metadata": {
        "id": "mMkaybFH37mx",
        "colab_type": "code",
        "outputId": "b5392254-c5c8-4bc3-a0be-b5bebcc9731d",
        "colab": {
          "base_uri": "https://localhost:8080/",
          "height": 153
        }
      },
      "source": [
        "list = []\n",
        "number = int(input('데이터를 입력하세요. '))\n",
        "\n",
        "while number != 0: \n",
        "  list.append(number)\n",
        "  number = int(input('데이터를 입력하세요. '))\n",
        "\n",
        "list.sort(reverse = True) \n",
        "print('결과: ', end='')\n",
        "for i in list: \n",
        "  print(i, end=' ')\n",
        "print('(', len(list), '개)')\n"
      ],
      "execution_count": 0,
      "outputs": [
        {
          "output_type": "stream",
          "text": [
            "데이터를 입력하세요. 100\n",
            "데이터를 입력하세요. 5\n",
            "데이터를 입력하세요. 29\n",
            "데이터를 입력하세요. 37\n",
            "데이터를 입력하세요. 42\n",
            "데이터를 입력하세요. 92\n",
            "데이터를 입력하세요. 0\n",
            "결과: 100 92 42 37 29 5 ( 6 개)\n"
          ],
          "name": "stdout"
        }
      ]
    },
    {
      "cell_type": "markdown",
      "metadata": {
        "id": "nv9wmOuJ6JcB",
        "colab_type": "text"
      },
      "source": [
        "* 내림차순 방식을 GMS님께서는 또 다른 방식으로 제시해주셨습니다. 앞에서 배운 인덱스를 사용하여 거꾸로 사용하는 방식을 제시해주셨는데요! **data[:-1]**을 사용해 거꾸로 표시되게 잘 해주셨습니다. "
      ]
    },
    {
      "cell_type": "code",
      "metadata": {
        "id": "soxi-ClJ2f1N",
        "colab_type": "code",
        "outputId": "7df90660-f2b0-4e35-a0aa-a97b35e55fc3",
        "colab": {
          "base_uri": "https://localhost:8080/",
          "height": 153
        }
      },
      "source": [
        "# 문제 4번 - GMS\n",
        "data = []\n",
        "n = int(input('데이터를 입력하세요(입력을 마치려면 0을 입력하세요).'))\n",
        "while n != 0 :\n",
        "    data.append(n)\n",
        "    n = int(input(''))\n",
        "data.sort(reverse = True)\n",
        "print('결과:', data[: -1], '(', end = '')\n",
        "print(len(data), end = '')\n",
        "print('개)')"
      ],
      "execution_count": 0,
      "outputs": [
        {
          "output_type": "stream",
          "text": [
            "데이터를 입력하세요(입력을 마치려면 0을 입력하세요).38\n",
            "29\n",
            "40\n",
            "100\n",
            "5\n",
            "49\n",
            "0\n",
            "결과: [100, 49, 40, 38, 29] (6개)\n"
          ],
          "name": "stdout"
        }
      ]
    },
    {
      "cell_type": "markdown",
      "metadata": {
        "id": "RV6Dm4Yq62-Z",
        "colab_type": "text"
      },
      "source": [
        "## 문제 5번 \n",
        "\n",
        "이 문제가 여러분들을 까다롭게 하지 않았을까 예상했는데요. 여러분들이 플레이어 이름을 본인의 취향대로 해주셔서 보면서 참 재미있었습니다ㅎㅎ 리뷰하면서 좀 더 간단한 코드, 깔끔한 코드를 작성해주신 우리 멘토 문희님의 코드를 가져와봤습니다.\n",
        "\n"
      ]
    },
    {
      "cell_type": "markdown",
      "metadata": {
        "id": "QzTnsiDc8IaH",
        "colab_type": "text"
      },
      "source": [
        "* 우선 def는 함수를 정의하는 것인데요, 후에 배울테니 아이디어만 생각해보세요. def는 우리가 직접 함수를 만들어 반복적으로 사용할 수 있어요. 다만 함수 자체를 정의하는 것으로 함수가 실행되는게 아니니, 아래의 **game()**을 적어주어 함수가 실행되도록 해야 합니다.\n",
        "\n",
        "* 라운드 횟수를 처음부터 0으로 설정하여 점차 **round += 1**로 올려주면, 정확한 라운드 값이 나옵니다. \n",
        "\n",
        "* while 문의 탈출조건도 굉장히 깔끔하죠? "
      ]
    },
    {
      "cell_type": "code",
      "metadata": {
        "id": "zy8stBs371s3",
        "colab_type": "code",
        "outputId": "b4662a14-7fd1-413d-8cea-2de7f4c08722",
        "colab": {
          "base_uri": "https://localhost:8080/",
          "height": 340
        }
      },
      "source": [
        "# 문제 5번 - 김문희\n",
        "def game():\n",
        "\timport random\n",
        "\tround = 0\n",
        "\tp1_score = 0\n",
        "\tp2_score = 0\n",
        "\tp1 = input(\"1 플레이어의 이름은?\")\n",
        "\tp2 = input(\"2 플레이어의 이름은?\")\n",
        "\twhile p1_score < 30 and p2_score <30:\n",
        "\t\t\tround = round + 1\n",
        "\t\t\tp1_dice = random.randint(1,6)\n",
        "\t\t\tp2_dice = random.randint(1,6)\n",
        "\t\t\tp1_score = p1_score + p1_dice\n",
        "\t\t\tp2_score = p2_score + p2_dice\n",
        "\t\t\tprint(round,\"라운드:\",p1,\"은\",p1_dice,\"가 나왔습니다.\",\"현재 위치\",p1_score)\n",
        "\t\t\tprint(p2,\"은\",p2_dice,\"가 나왔습니다.\",\"현재 위치\",p2_score)\n",
        "\tif p1_score >= 30:\n",
        "\t\tprint(round,\"라운드만에\",p1,\"이 이겼습니다.\")\n",
        "\telse:\n",
        "\t\tprint(round,\"라운드만에\",p2,\"이 이겼습니다.\")\n",
        "\n",
        "game()      "
      ],
      "execution_count": 0,
      "outputs": [
        {
          "output_type": "stream",
          "text": [
            "1 플레이어의 이름은?haram\n",
            "2 플레이어의 이름은?lunar\n",
            "1 라운드: haram 은 5 가 나왔습니다. 현재 위치 5\n",
            "lunar 은 1 가 나왔습니다. 현재 위치 1\n",
            "2 라운드: haram 은 6 가 나왔습니다. 현재 위치 11\n",
            "lunar 은 6 가 나왔습니다. 현재 위치 7\n",
            "3 라운드: haram 은 3 가 나왔습니다. 현재 위치 14\n",
            "lunar 은 2 가 나왔습니다. 현재 위치 9\n",
            "4 라운드: haram 은 3 가 나왔습니다. 현재 위치 17\n",
            "lunar 은 3 가 나왔습니다. 현재 위치 12\n",
            "5 라운드: haram 은 5 가 나왔습니다. 현재 위치 22\n",
            "lunar 은 3 가 나왔습니다. 현재 위치 15\n",
            "6 라운드: haram 은 5 가 나왔습니다. 현재 위치 27\n",
            "lunar 은 5 가 나왔습니다. 현재 위치 20\n",
            "7 라운드: haram 은 1 가 나왔습니다. 현재 위치 28\n",
            "lunar 은 3 가 나왔습니다. 현재 위치 23\n",
            "8 라운드: haram 은 3 가 나왔습니다. 현재 위치 31\n",
            "lunar 은 1 가 나왔습니다. 현재 위치 24\n",
            "8 라운드만에 haram 이 이겼습니다.\n"
          ],
          "name": "stdout"
        }
      ]
    },
    {
      "cell_type": "code",
      "metadata": {
        "id": "rI28cUUn8Nwt",
        "colab_type": "code",
        "colab": {}
      },
      "source": [
        ""
      ],
      "execution_count": 0,
      "outputs": []
    }
  ]
}