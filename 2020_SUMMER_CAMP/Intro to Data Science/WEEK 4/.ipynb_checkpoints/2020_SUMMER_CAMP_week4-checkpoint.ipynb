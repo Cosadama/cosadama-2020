{
 "cells": [
  {
   "cell_type": "markdown",
   "metadata": {},
   "source": [
    "# 👽 COSADAMA Into to Data Science Study"
   ]
  },
  {
   "cell_type": "markdown",
   "metadata": {},
   "source": [
    "- 일자: 2020-08-07\n",
    "- 작성자: 조용주 👽\n",
    "- 참고자료: 파이썬으로 데이터 주무르기(민형기)"
   ]
  },
  {
   "cell_type": "markdown",
   "metadata": {},
   "source": [
    "## 4. 셀프 주유소는 정말 저렴할까?\n",
    "\n",
    "이번주차까지 포기하지 않고 따라와주신 여러분 정말 수고하셨습니다ㅠㅋㅋㅋ 😂 파기문 때와는 비교도 되지 않는 화려한 툴들을 만지느라 진이 빠지셨을 것 같기도 하고,\n",
    "신기하고 재밌어서 더 의욕이 생기셨을 것 같기도 해요. 저는 한 6:4의 마음이었던 것 같은데, 여러분들은 어떠신가요ㅠㅋㅋㅋ\n",
    "    \n",
    "이번주차에는 그동안 배운 것들을 한꺼번에 사용하는 무시무시한 프로젝트가 기다리고 있답니다!\n",
    "대신 새로 배우는 툴은 selenium이라는 크롤링 툴 밖에 없으니 시작하기 전에 지난주차 내용 짧게 복습해보시고 시작해보면 좋을 것 같아요.\n",
    "\n",
    "궁금한 건 언제나 멘토 혹은 슬랙채널을 통해 질문해주세요! 그럼 이번주차도 시작합니다 😃👽"
   ]
  },
  {
   "cell_type": "markdown",
   "metadata": {},
   "source": [
    "### 4.1 Selenium"
   ]
  },
  {
   "cell_type": "markdown",
   "metadata": {},
   "source": [
    "이번 시간엔 opinet이라는 사이트를 통해 크롤링을 해볼 거에요. 이 사이트에서 싼 주유소 찾기를 누른 후 지역을 골라주면 우리가 얻고자 하는 정보가 있는 페이지가 나와요.\n",
    "문제는 이렇게 지역별 사이트에 들어가도 url이 그대로이기 때문에 다시 로드해도 opinet 처음 페이지로 돌아가게 된다는 거죠. 이땐 url만을 통해 크롤링하는 urllib 사용이 불가능하겠죠?\n",
    "이럴 때 사용하는 게 selenium이랍니다."
   ]
  },
  {
   "cell_type": "markdown",
   "metadata": {},
   "source": [
    "#### selenium 설치"
   ]
  },
  {
   "cell_type": "markdown",
   "metadata": {},
   "source": [
    "selenium은 pip install selenium 코드를 통해 설치하시면 돼요. selenium을 사용하기 위해선 웹드라이버도 설치를 해야하는데, 이건 자신이 사용하는 브라우저에 맞는 웹드라이버를 설치하시면 돼요.\n",
    "\n",
    "[본인에게 맞는 웹브라우저 별로 드라이브 설치 - 경로설정 주의](https://sacko.tistory.com/13)\n",
    "\n",
    "기왕이면 크롬 웹드라이버 설치를 추천드려요. 크롬 개발자 도구 사용을 위해 가장 대중적으로 이용하는 웹드라이버입니다.\n",
    "맥 사용하시는 분들은 기본 브라우저인 사파리에 웹드라이버가 기본 내장되어 있기는 하지만, 오류가 잦아서 꼭 크롬 웹드라이버를 따로 설치해주셔야 합니다.\n",
    "\n",
    "웹드라이버를 다운 받으신 후 data나 소스코드가 있는 폴더에 드라이브를 압축해제해주시면 돼요. 웹드라이버 사용을 위해서는 파일 경로를 알아둬야 하는데요, 드라이버를 터미널에 드래그하시면 아래 같은 코드가 떠요. 그게 드라이버의 파일 경로이니 잘 복사해두세요!\n",
    "\n",
    "![웹드라이버](images/000.png)"
   ]
  },
  {
   "cell_type": "code",
   "execution_count": 2,
   "metadata": {},
   "outputs": [],
   "source": [
    "# 하람 노트북 경로상의 문제라 여러분들은 이 코드 생략하세요! \n",
    "import sys\n",
    "sys.path.append(\"/usr/local/lib/python3.8/site-packages\")"
   ]
  },
  {
   "cell_type": "code",
   "execution_count": 1,
   "metadata": {},
   "outputs": [
    {
     "name": "stdout",
     "output_type": "stream",
     "text": [
      "Requirement already satisfied: selenium in /Users/penielcho/opt/anaconda3/lib/python3.7/site-packages (3.141.0)\n",
      "Requirement already satisfied: urllib3 in /Users/penielcho/opt/anaconda3/lib/python3.7/site-packages (from selenium) (1.25.8)\n",
      "Note: you may need to restart the kernel to use updated packages.\n"
     ]
    }
   ],
   "source": [
    "!pip install selenium"
   ]
  },
  {
   "cell_type": "code",
   "execution_count": 3,
   "metadata": {},
   "outputs": [],
   "source": [
    "from selenium import webdriver"
   ]
  },
  {
   "cell_type": "code",
   "execution_count": 3,
   "metadata": {},
   "outputs": [],
   "source": [
    "driver = webdriver.Chrome('/Users/penielcho/Documents/chromedriver')\n",
    "#이때 ()안에 들어가는 파일 경로는 당연히 제 웹 드라이버의 파일 경로니까 똑같이 하시면 안됩니당.\n",
    "driver.get(\"https://nid.naver.com/nidlogin.login?mode=form&url=https%3A%2F%2Fwww.naver.com\")"
   ]
  },
  {
   "cell_type": "markdown",
   "metadata": {},
   "source": [
    "#### Selenium으로 NAVER 로그인 하기\n",
    "\n",
    "갑자기 새로운 화면이 뜨죠? 위에 'Chrome이 자동화된 테스트 소프트웨어에 의해 제어되고 있습니다.'라고 하는게 뜨면 잘 된 것이랍니다. 웬만하면 이 화면은 직접 건들이지 않고, Selenium이 만지게 하는게 좋아요.(코드를 작성할 때 혼선이 생길 수 있기 때문)\n",
    "스크린샷을 하고 싶다면 아래와 같은 명령을 사용하면 됩니다."
   ]
  },
  {
   "cell_type": "code",
   "execution_count": null,
   "metadata": {},
   "outputs": [],
   "source": [
    "driver.save_screenshot('001.png')"
   ]
  },
  {
   "cell_type": "markdown",
   "metadata": {},
   "source": [
    "![네이버_로그인_창](images/001.png)\n",
    "\n",
    "그러면 이런 이미지가 저장이 될 거에요.\n",
    "\n",
    "이젠 로그인을 해봐야겠죠? 로그인을 위해서는 크롬 개발자 도구를 사용해 아이디와 패스워드가 적힌 곳의 html id를 알아야 해요. 이번에는 find_element_by_id를 사용해 id를 찾을 거에요."
   ]
  },
  {
   "cell_type": "code",
   "execution_count": 4,
   "metadata": {},
   "outputs": [],
   "source": [
    "elem_login = driver.find_element_by_id(\"id\")\n",
    "elem_login.clear() #미리 입력된 글자를 지워주는 코드에요.\n",
    "elem_login.send_keys(\"********\") #당연히 여러분의 아이디를 적어주셔야 해요!\n",
    "\n",
    "elem_login = driver.find_element_by_id(\"pw\")\n",
    "elem_login.clear()\n",
    "elem_login.send_keys(\"********\")"
   ]
  },
  {
   "cell_type": "markdown",
   "metadata": {},
   "source": [
    "![네이버_로그인_창](images/002.png)\n",
    "\n",
    "그러면 이렇게 아이디와 비밀번호가 적힐거에요. 이젠 로그인 버튼을 눌러야겠죠? 이걸 위해선 xpath를 찾아서 클릭해줘야 해요. xpath 역시 크롬 개발자 도구를 통해 알아내실 수 있어요."
   ]
  },
  {
   "cell_type": "code",
   "execution_count": 5,
   "metadata": {},
   "outputs": [],
   "source": [
    "xpath = \"\"\"//*[@id=\"log.login\"]\"\"\"\n",
    "driver.find_element_by_xpath(xpath).click()"
   ]
  },
  {
   "cell_type": "markdown",
   "metadata": {},
   "source": [
    "![네이버_로그인_창](images/003.png)\n",
    "\n",
    "오엠지. 캡차가 떠버렸네요! 저희같이 자동으로 로그인하는 걸 막기 위해 의심되는 로그인을 재인증시키는 방식이에요. 사실 캡차도 컴퓨터를 학습시키면 뚫을 수 있긴 하지만, 현재 저희로서는 불가능하니 넘어갑시다ㅎㅎ"
   ]
  },
  {
   "cell_type": "markdown",
   "metadata": {},
   "source": [
    "#### Selenium으로 다음카카오 로그인하기\n",
    "\n",
    "대신 캡차가 없는 다음카카오에 로그인 해봅시다. 앞서 로그인하는 방법을 알았으니 이번엔 교안 코드를 보기 전에 코드를 먼저 작성해보세요!\n",
    "\n",
    "[다음카카오 로그인 사이트](https://accounts.kakao.com/login?continue=https%3A%2F%2Flogins.daum.net%2Faccounts%2Fksso.do%3Frescue%3Dtrue%26url%3Dhttps%253A%252F%252Fwww.daum.net%252F)"
   ]
  },
  {
   "cell_type": "code",
   "execution_count": 6,
   "metadata": {},
   "outputs": [],
   "source": [
    "from selenium import webdriver\n",
    "import time\n",
    "\n",
    "driver = webdriver.Chrome('/Users/penielcho/Documents/chromedriver')\n",
    "driver.get(\"https://accounts.kakao.com/login?continue=https%3A%2F%2Flogins.daum.net%2Faccounts%2Fksso.do%3Frescue%3Dtrue%26url%3Dhttps%253A%252F%252Fwww.daum.net%252F\")\n",
    "\n",
    "elem_login = driver.find_element_by_id(\"id_email_2\")\n",
    "elem_login.clear()\n",
    "elem_login.send_keys(\"********\")\n",
    "time.sleep(3)\n",
    "\n",
    "elem_login = driver.find_element_by_id(\"id_password_3\")\n",
    "elem_login.clear()\n",
    "elem_login.send_keys(\"********\")\n",
    "time.sleep(3)\n",
    "\n",
    "xpath = \"\"\"//*[@id=\"login-form\"]/fieldset/div[8]/button\"\"\"\n",
    "driver.find_element_by_xpath(xpath).click()"
   ]
  },
  {
   "cell_type": "markdown",
   "metadata": {},
   "source": [
    "![다음_로그인_창](images/004.png)\n",
    "\n",
    "이렇게 되면 성공입니다!"
   ]
  },
  {
   "cell_type": "markdown",
   "metadata": {},
   "source": [
    "#### 다음카카오 메일 사용자 정보 얻기\n",
    "\n",
    "이젠 메일에 들어가 메일 보낸 사람들을 크롤링해볼 거에요. 그러려면 메일 사이트로 들어가야겠죠? xpath를 사용할 수도 있지만, 아래처럼 바로 메일 사이트에 접근 가능해요."
   ]
  },
  {
   "cell_type": "code",
   "execution_count": 7,
   "metadata": {},
   "outputs": [],
   "source": [
    "driver.get(\"https://mail.daum.net/\")"
   ]
  },
  {
   "cell_type": "markdown",
   "metadata": {},
   "source": [
    "![다음_메일](images/005.png)\n",
    "\n",
    "ㅎㅎ,,, 민망할 정도로 메일이 없네용,, 지메일을 위주로 사용하다보니^^\n",
    "이젠 BeautifulSoup을 통해 가공해줍시다."
   ]
  },
  {
   "cell_type": "code",
   "execution_count": 8,
   "metadata": {},
   "outputs": [],
   "source": [
    "from bs4 import BeautifulSoup\n",
    "\n",
    "html=driver.page_source\n",
    "soup=BeautifulSoup(html,'html.parser')"
   ]
  },
  {
   "cell_type": "markdown",
   "metadata": {},
   "source": [
    "크롬 개발자 도구를 사용해 태그와 클래스도 알아보신 후 find_all로 모두 가져와 봅시다.\n",
    "\n",
    "꼭 직접 찾아보셔야 해요!"
   ]
  },
  {
   "cell_type": "code",
   "execution_count": 9,
   "metadata": {},
   "outputs": [
    {
     "data": {
      "text/plain": [
       "[<a class=\"link_from\" href=\"javascript:;\" title='\"Kakao\" &lt;noreply@kakao.com&gt;'>Kakao</a>,\n",
       " <a class=\"link_from\" href=\"javascript:;\" title='\"Daum_팁_매니저\" &lt;noreply_tip@kakaocorp.com&gt;'>Daum_팁_매니저</a>,\n",
       " <a class=\"link_from\" href=\"javascript:;\" title='\"Daum고객센터\" &lt;notice-master@daum.net&gt;'>Daum고객센터</a>,\n",
       " <a class=\"link_from\" href=\"javascript:;\" title='\"스토리펀딩\" &lt;storyfunding@kakao.com&gt;'>스토리펀딩</a>,\n",
       " <a class=\"link_from\" href=\"javascript:;\" title='\"Kakao\" &lt;noreply@kakao.com&gt;'>Kakao</a>,\n",
       " <a class=\"link_from\" href=\"javascript:;\" title='\"Daum고객센터\" &lt;notice-master@daum.net&gt;'>Daum고객센터</a>,\n",
       " <a class=\"link_from\" href=\"javascript:;\" title='\"Kakao\" &lt;noreply@kakao.com&gt;'>Kakao</a>,\n",
       " <a class=\"link_from\" href=\"javascript:;\" title='\"Daum캐쉬 담당자\" &lt;notice-master@daum.net&gt;'>Daum캐쉬 담당자</a>,\n",
       " <a class=\"link_from\" href=\"javascript:;\" title='\"Daum\" &lt;notice-master@daum.net&gt;'>Daum</a>,\n",
       " <a class=\"link_from\" href=\"javascript:;\" title='\"다음메일\" &lt;notice-master@daum.net&gt;'>다음메일</a>]"
      ]
     },
     "execution_count": 9,
     "metadata": {},
     "output_type": "execute_result"
    }
   ],
   "source": [
    "raw_list=soup.find_all('a','link_from')\n",
    "raw_list"
   ]
  },
  {
   "cell_type": "markdown",
   "metadata": {},
   "source": [
    "사용자 이름만 뽑으려면 아래 코드를 사용하면 되겠죠?"
   ]
  },
  {
   "cell_type": "code",
   "execution_count": 10,
   "metadata": {},
   "outputs": [
    {
     "data": {
      "text/plain": [
       "'Kakao'"
      ]
     },
     "execution_count": 10,
     "metadata": {},
     "output_type": "execute_result"
    }
   ],
   "source": [
    "raw_list[0].get_text()"
   ]
  },
  {
   "cell_type": "markdown",
   "metadata": {},
   "source": [
    "for문을 통해 메일 보낸 사용자 이름을 모두 가져와 봅시다."
   ]
  },
  {
   "cell_type": "code",
   "execution_count": 11,
   "metadata": {},
   "outputs": [
    {
     "name": "stdout",
     "output_type": "stream",
     "text": [
      "Kakao\n",
      "Daum_팁_매니저\n",
      "Daum고객센터\n",
      "스토리펀딩\n",
      "Kakao\n",
      "Daum고객센터\n",
      "Kakao\n",
      "Daum캐쉬 담당자\n",
      "Daum\n",
      "다음메일\n"
     ]
    }
   ],
   "source": [
    "for n in range(0,len(raw_list)):\n",
    "    send_list=raw_list[n].get_text()\n",
    "    print(send_list)"
   ]
  },
  {
   "cell_type": "markdown",
   "metadata": {},
   "source": [
    "얻을 정보는 다 얻었으니 driver를 종료합시다."
   ]
  },
  {
   "cell_type": "code",
   "execution_count": 12,
   "metadata": {},
   "outputs": [],
   "source": [
    "driver.close()"
   ]
  },
  {
   "cell_type": "markdown",
   "metadata": {},
   "source": [
    "수고하셨어요! 잠깐 몸 좀 풀고 오세요!\n",
    "이제 진짜 프로젝트를 시작해봅시당ㅎㅎ 😘"
   ]
  },
  {
   "cell_type": "markdown",
   "metadata": {},
   "source": [
    "### 4.2 서울시 구별 주유소 가격 정보 얻기"
   ]
  },
  {
   "cell_type": "markdown",
   "metadata": {},
   "source": [
    "[opinet-싼 주유소 찾기-지역별](http://www.opinet.co.kr/searRgSelect.do)\n",
    "\n",
    "Selenium으로 위 사이트에 들어가 볼까요?"
   ]
  },
  {
   "cell_type": "code",
   "execution_count": 13,
   "metadata": {},
   "outputs": [],
   "source": [
    "driver=webdriver.Chrome('/Users/penielcho/Documents/chromedriver')\n",
    "driver.get(\"http://www.opinet.co.kr/searRgSelect.do\")\n",
    "driver.get(\"http://www.opinet.co.kr/searRgSelect.do\")\n",
    "#두번 해야 들어가져요."
   ]
  },
  {
   "cell_type": "markdown",
   "metadata": {},
   "source": [
    "![오피넷](images/006.png)\n",
    "\n",
    "들어가졌죠?\n",
    "\n",
    "이제부터가 문제인데, 저희는 서울시 구별로 정보를 얻어야 해요. 그런데 위 사진처럼 비서울 거주자 분들은 지역이 서울로 설정되지 않으실 수 있어요. 만약 자신은 서울로 기본 설정이 되있다면 아래 코드들을 굳이 실행시키실 필요 없이 한번 훑어만 주시고, 그렇지 않다면 저를 따라 시 설정을 변경해봅시다.\n",
    "\n",
    "++서울 설정 되신 분들도 따라해도 문제는 없으니 웬만하면 따라 해주세요!\n",
    "\n",
    "먼저 도를 바꿔야 해요. 경기도가 아닌 서울특별시로 바꿔야 하니까요. 이때 필요한 게 위에서 배운 xpath에요. 크롬 개발자 도구로 해당 버튼의 xpath를 copy하고 sido_list_raw 변수에 저장합니다.\n",
    "\n",
    "Selenium 문법이 더 궁금하신 분들은 아래 링크를 통해 추가적으로 공부하셔도 돼요.\n",
    "[Selemnium 문법](https://github.com/SeongJaeMoon/PracPython/blob/master/selenium_dom_selector.md)"
   ]
  },
  {
   "cell_type": "code",
   "execution_count": 14,
   "metadata": {},
   "outputs": [],
   "source": [
    "sido_list_raw = driver.find_element_by_xpath(\"\"\"//*[@id=\"SIDO_NM0\"]\"\"\")"
   ]
  },
  {
   "cell_type": "markdown",
   "metadata": {},
   "source": [
    "이후에는 도/시 이름이 option 태그에 저장돼 있으니 아래와 같이 option 태그를 찾아줄 거에요."
   ]
  },
  {
   "cell_type": "code",
   "execution_count": 15,
   "metadata": {},
   "outputs": [
    {
     "data": {
      "text/plain": [
       "[<selenium.webdriver.remote.webelement.WebElement (session=\"9e3101d3ecb0cd2135fb2a63b966c37c\", element=\"d76c3ef9-aba0-41ea-b878-cb2d4fd38164\")>,\n",
       " <selenium.webdriver.remote.webelement.WebElement (session=\"9e3101d3ecb0cd2135fb2a63b966c37c\", element=\"a8880da9-20b6-4fef-aaae-813a12b59da7\")>,\n",
       " <selenium.webdriver.remote.webelement.WebElement (session=\"9e3101d3ecb0cd2135fb2a63b966c37c\", element=\"adc9710a-f416-4f16-a50a-acffc050c7fc\")>,\n",
       " <selenium.webdriver.remote.webelement.WebElement (session=\"9e3101d3ecb0cd2135fb2a63b966c37c\", element=\"0f399814-d650-4c47-96bf-5e9178a52a7d\")>,\n",
       " <selenium.webdriver.remote.webelement.WebElement (session=\"9e3101d3ecb0cd2135fb2a63b966c37c\", element=\"a0b4acf2-3f98-4474-82be-ecff1846a9dc\")>]"
      ]
     },
     "execution_count": 15,
     "metadata": {},
     "output_type": "execute_result"
    }
   ],
   "source": [
    "sido_list=sido_list_raw.find_elements_by_tag_name(\"option\")\n",
    "sido_list[:5]"
   ]
  },
  {
   "cell_type": "markdown",
   "metadata": {},
   "source": [
    "sido_list엔 저희가 원하는 게 안 보이네요! 도/시 이름은 option의 value에 있으니 value를 가져와 봅시다."
   ]
  },
  {
   "cell_type": "code",
   "execution_count": 16,
   "metadata": {},
   "outputs": [
    {
     "data": {
      "text/plain": [
       "['서울특별시',\n",
       " '부산광역시',\n",
       " '대구광역시',\n",
       " '인천광역시',\n",
       " '광주광역시',\n",
       " '대전광역시',\n",
       " '울산광역시',\n",
       " '세종특별자치시',\n",
       " '경기도',\n",
       " '강원도',\n",
       " '충청북도',\n",
       " '충청남도',\n",
       " '전라북도',\n",
       " '전라남도',\n",
       " '경상북도',\n",
       " '경상남도',\n",
       " '제주특별자치도']"
      ]
     },
     "execution_count": 16,
     "metadata": {},
     "output_type": "execute_result"
    }
   ],
   "source": [
    "sido_names=[option.get_attribute(\"value\") for option in sido_list]\n",
    "sido_names.remove('')\n",
    "sido_names"
   ]
  },
  {
   "cell_type": "markdown",
   "metadata": {},
   "source": [
    "저희는 이 중 서울특별시로 도/시를 설정해줘야 하니 sido_names 중에 첫번째를 골라주면 되겠죠?"
   ]
  },
  {
   "cell_type": "code",
   "execution_count": 17,
   "metadata": {},
   "outputs": [],
   "source": [
    "element=driver.find_element_by_id(\"SIDO_NM0\")\n",
    "element.send_keys(sido_names[0])"
   ]
  },
  {
   "cell_type": "markdown",
   "metadata": {},
   "source": [
    "자, 이렇게 서울시로 설정이 완료됐어요!\n",
    "\n",
    "이젠 도/시 이름을 가져온 것처럼 서울시 구 이름을 가져와 봅시다."
   ]
  },
  {
   "cell_type": "code",
   "execution_count": 19,
   "metadata": {},
   "outputs": [
    {
     "data": {
      "text/plain": [
       "['강남구',\n",
       " '강동구',\n",
       " '강북구',\n",
       " '강서구',\n",
       " '관악구',\n",
       " '광진구',\n",
       " '구로구',\n",
       " '금천구',\n",
       " '노원구',\n",
       " '도봉구',\n",
       " '동대문구',\n",
       " '동작구',\n",
       " '마포구',\n",
       " '서대문구',\n",
       " '서초구',\n",
       " '성동구',\n",
       " '성북구',\n",
       " '송파구',\n",
       " '양천구',\n",
       " '영등포구',\n",
       " '용산구',\n",
       " '은평구',\n",
       " '종로구',\n",
       " '중구',\n",
       " '중랑구']"
      ]
     },
     "execution_count": 19,
     "metadata": {},
     "output_type": "execute_result"
    }
   ],
   "source": [
    "gu_list_raw = driver.find_element_by_xpath(\"\"\"//*[@id=\"SIGUNGU_NM0\"]\"\"\")\n",
    "gu_list=gu_list_raw.find_elements_by_tag_name(\"option\")\n",
    "gu_names=[option.get_attribute(\"value\") for option in gu_list]\n",
    "gu_names.remove('')\n",
    "gu_names"
   ]
  },
  {
   "cell_type": "markdown",
   "metadata": {},
   "source": [
    "구 개수를 세볼까요?"
   ]
  },
  {
   "cell_type": "code",
   "execution_count": 20,
   "metadata": {},
   "outputs": [
    {
     "data": {
      "text/plain": [
       "25"
      ]
     },
     "execution_count": 20,
     "metadata": {},
     "output_type": "execute_result"
    }
   ],
   "source": [
    "len(gu_names)"
   ]
  },
  {
   "cell_type": "markdown",
   "metadata": {},
   "source": [
    "25구, 맞네요.\n",
    "\n",
    "아까 서울시를 클릭했던 것처럼 이번엔 강남구를 선택해봅시다."
   ]
  },
  {
   "cell_type": "code",
   "execution_count": 21,
   "metadata": {},
   "outputs": [],
   "source": [
    "element_s=driver.find_element_by_id(\"SIGUNGU_NM0\")\n",
    "element_s.send_keys(gu_names[0])"
   ]
  },
  {
   "cell_type": "markdown",
   "metadata": {},
   "source": [
    "![강남구](images/009.png)\n",
    "\n",
    "잘 설정됐죠? 이젠 조회 버튼을 눌러봅시다.\n",
    "xpath를 사용해주세요."
   ]
  },
  {
   "cell_type": "code",
   "execution_count": 23,
   "metadata": {},
   "outputs": [],
   "source": [
    "xpath='''//*[@id=\"searRgSelect\"]/span'''\n",
    "element_sel_gu=driver.find_element_by_xpath(xpath).click()"
   ]
  },
  {
   "cell_type": "markdown",
   "metadata": {},
   "source": [
    "이젠 아래 엑셀 저장 버튼을 눌러줘야 해요.\n",
    "똑같이 xpath를 알아내서 클릭해주세요!"
   ]
  },
  {
   "cell_type": "code",
   "execution_count": 24,
   "metadata": {},
   "outputs": [],
   "source": [
    "xpath ='''//*[@id=\"glopopd_excel\"]/span'''\n",
    "element_get_excel = driver.find_element_by_xpath(xpath).click()"
   ]
  },
  {
   "cell_type": "markdown",
   "metadata": {},
   "source": [
    "![다운로드](images/007.png)\n",
    "\n",
    "평소 다운로드하는 폴더에 이렇게 쏙 저장이 되면 완료!\n",
    "\n",
    "그렇다면 이젠 전체 구들의 엑셀 파일을 모두 가져와볼까요? 시간이 꽤 오래 걸리는 작업이라서 tqdm을 사용해 걸리는 시간을 시각화해볼 거에요. 코드가 어떻게 구성될지 고민해보신 후 아래 교안을 봐주세요.\n",
    "\n",
    "+아래 코드 실행 전에 아까 다운한 강남구 파일은 삭제해주세요. 헷갈리니까요!"
   ]
  },
  {
   "cell_type": "code",
   "execution_count": 25,
   "metadata": {},
   "outputs": [
    {
     "name": "stderr",
     "output_type": "stream",
     "text": [
      "/Users/penielcho/opt/anaconda3/lib/python3.7/site-packages/ipykernel_launcher.py:4: TqdmDeprecationWarning: This function will be removed in tqdm==5.0.0\n",
      "Please use `tqdm.notebook.tqdm` instead of `tqdm.tqdm_notebook`\n",
      "  after removing the cwd from sys.path.\n"
     ]
    },
    {
     "data": {
      "application/vnd.jupyter.widget-view+json": {
       "model_id": "3984e62d97d841169587f1ea222b976f",
       "version_major": 2,
       "version_minor": 0
      },
      "text/plain": [
       "HBox(children=(FloatProgress(value=0.0, max=25.0), HTML(value='')))"
      ]
     },
     "metadata": {},
     "output_type": "display_data"
    },
    {
     "name": "stdout",
     "output_type": "stream",
     "text": [
      "\n"
     ]
    }
   ],
   "source": [
    "import time\n",
    "from tqdm import tqdm_notebook\n",
    "\n",
    "for gu in tqdm_notebook(gu_names):\n",
    "    element=driver.find_element_by_id(\"SIGUNGU_NM0\")\n",
    "    element.send_keys(gu)\n",
    "    \n",
    "    time.sleep(2)\n",
    "    \n",
    "    xpath='''//*[@id=\"searRgSelect\"]/span'''\n",
    "    element_sel_gu=driver.find_element_by_xpath(xpath).click()\n",
    "    \n",
    "    time.sleep(1)\n",
    "    \n",
    "    xpath ='''//*[@id=\"glopopd_excel\"]/span'''\n",
    "    element_get_excel = driver.find_element_by_xpath(xpath).click()\n",
    "    \n",
    "    time.sleep(1)"
   ]
  },
  {
   "cell_type": "markdown",
   "metadata": {},
   "source": [
    "ㅎㅎㅎ,,, 정말 오래 걸리죠? 근데 파일이 25개가 아닌 분들도 계실 거에요. 전 집에서는 25개 모두 다운로드가 되는데 카페에서는 꼭 3-4개씩 빠지더라고요. 인터넷 신호 영향을 많이 받는 것 같아요. 웬만하면 와이파이 빵빵한 곳에서 실행하시길 추천드려요. 혹시 어쩔 수 없는 분들은 마지막 타임 슬립 코드(엑셀 다운로드 하는 xpath를 붙여넣은 코드 밑에!) 숫자를 늘려주세요. 다운이 시작되기 전에 다음 페이지로 넘어가서 다운로드 과정이 캔슬되는 것일 수 있거든요. 교안엔 1초로 적어뒀지만 계속 실패한다 하시는 분들은 3 정도로 늘려주시면 될 것 같아요.\n",
    "\n",
    "![다운로드](images/008.png)\n",
    "\n",
    "이렇게 25개 파일 모두 저장되었으면 성공! 다운한 25개 파일은 현재 작성하고 있는 주피터 노트북 파일이 위치한 폴더로 옮겨주세요. 저는 data라는 폴더를 따로 만들어서 넣어뒀어요."
   ]
  },
  {
   "cell_type": "markdown",
   "metadata": {},
   "source": [
    "### 4.3 구별 주유 가격에 대한 데이터 정리\n",
    "\n",
    "이젠 구별 주유 가격에 대한 데이터를 정리해볼 거에요. pandas를 사용해봅시다."
   ]
  },
  {
   "cell_type": "code",
   "execution_count": 26,
   "metadata": {},
   "outputs": [],
   "source": [
    "import pandas as pd\n",
    "from glob import glob"
   ]
  },
  {
   "cell_type": "markdown",
   "metadata": {},
   "source": [
    "glob을 이용하면 쉽게 파일을 가져올 수 있어요. 아래 *는 지역으로 시작하는 것은 모두 가져오라는 거에요. 지역 뒤 이름은 상관이 없는 거죠.\n",
    "\n",
    "[glob 사용법](https://wikidocs.net/83)"
   ]
  },
  {
   "cell_type": "code",
   "execution_count": 27,
   "metadata": {},
   "outputs": [
    {
     "data": {
      "text/plain": [
       "['data/지역_위치별(주유소) (9).xls',\n",
       " 'data/지역_위치별(주유소) (12).xls',\n",
       " 'data/지역_위치별(주유소) (5).xls',\n",
       " 'data/지역_위치별(주유소) (24).xls',\n",
       " 'data/지역_위치별(주유소) (4).xls',\n",
       " 'data/지역_위치별(주유소) (13).xls',\n",
       " 'data/지역_위치별(주유소) (8).xls',\n",
       " 'data/지역_위치별(주유소) (3).xls',\n",
       " 'data/지역_위치별(주유소) (18).xls',\n",
       " 'data/지역_위치별(주유소) (22).xls',\n",
       " 'data/지역_위치별(주유소) (14).xls',\n",
       " 'data/지역_위치별(주유소) (15).xls',\n",
       " 'data/지역_위치별(주유소) (23).xls',\n",
       " 'data/지역_위치별(주유소) (19).xls',\n",
       " 'data/지역_위치별(주유소) (2).xls',\n",
       " 'data/지역_위치별(주유소) (20).xls',\n",
       " 'data/지역_위치별(주유소) (1).xls',\n",
       " 'data/지역_위치별(주유소) (16).xls',\n",
       " 'data/지역_위치별(주유소) (17).xls',\n",
       " 'data/지역_위치별(주유소) (21).xls',\n",
       " 'data/지역_위치별(주유소) (10).xls',\n",
       " 'data/지역_위치별(주유소).xls',\n",
       " 'data/지역_위치별(주유소) (7).xls',\n",
       " 'data/지역_위치별(주유소) (6).xls',\n",
       " 'data/지역_위치별(주유소) (11).xls']"
      ]
     },
     "execution_count": 27,
     "metadata": {},
     "output_type": "execute_result"
    }
   ],
   "source": [
    "glob('data/지역*.xls')"
   ]
  },
  {
   "cell_type": "code",
   "execution_count": 28,
   "metadata": {},
   "outputs": [
    {
     "data": {
      "text/plain": [
       "25"
      ]
     },
     "execution_count": 28,
     "metadata": {},
     "output_type": "execute_result"
    }
   ],
   "source": [
    "len(glob('data/지역*'))"
   ]
  },
  {
   "cell_type": "markdown",
   "metadata": {},
   "source": [
    "25개 맞네요! 그럼 이제 이걸 모두 file에다 저장해볼게요."
   ]
  },
  {
   "cell_type": "code",
   "execution_count": 29,
   "metadata": {},
   "outputs": [
    {
     "data": {
      "text/plain": [
       "['data/지역_위치별(주유소) (9).xls',\n",
       " 'data/지역_위치별(주유소) (12).xls',\n",
       " 'data/지역_위치별(주유소) (5).xls',\n",
       " 'data/지역_위치별(주유소) (24).xls',\n",
       " 'data/지역_위치별(주유소) (4).xls',\n",
       " 'data/지역_위치별(주유소) (13).xls',\n",
       " 'data/지역_위치별(주유소) (8).xls',\n",
       " 'data/지역_위치별(주유소) (3).xls',\n",
       " 'data/지역_위치별(주유소) (18).xls',\n",
       " 'data/지역_위치별(주유소) (22).xls',\n",
       " 'data/지역_위치별(주유소) (14).xls',\n",
       " 'data/지역_위치별(주유소) (15).xls',\n",
       " 'data/지역_위치별(주유소) (23).xls',\n",
       " 'data/지역_위치별(주유소) (19).xls',\n",
       " 'data/지역_위치별(주유소) (2).xls',\n",
       " 'data/지역_위치별(주유소) (20).xls',\n",
       " 'data/지역_위치별(주유소) (1).xls',\n",
       " 'data/지역_위치별(주유소) (16).xls',\n",
       " 'data/지역_위치별(주유소) (17).xls',\n",
       " 'data/지역_위치별(주유소) (21).xls',\n",
       " 'data/지역_위치별(주유소) (10).xls',\n",
       " 'data/지역_위치별(주유소).xls',\n",
       " 'data/지역_위치별(주유소) (7).xls',\n",
       " 'data/지역_위치별(주유소) (6).xls',\n",
       " 'data/지역_위치별(주유소) (11).xls']"
      ]
     },
     "execution_count": 29,
     "metadata": {},
     "output_type": "execute_result"
    }
   ],
   "source": [
    "stations_files=glob('data/지역*.xls')\n",
    "stations_files"
   ]
  },
  {
   "cell_type": "markdown",
   "metadata": {},
   "source": [
    "#### 25개 파일 병함\n",
    "\n",
    "pandas로 가공하기 위해선 이 25개 파일들을 하나의 DataFrame에 담아야 해요. 이를 위해서 열 방향으로 합쳐지는 concat 함수를 이용할 거에요."
   ]
  },
  {
   "cell_type": "code",
   "execution_count": 30,
   "metadata": {
    "scrolled": false
   },
   "outputs": [
    {
     "data": {
      "text/html": [
       "<div>\n",
       "<style scoped>\n",
       "    .dataframe tbody tr th:only-of-type {\n",
       "        vertical-align: middle;\n",
       "    }\n",
       "\n",
       "    .dataframe tbody tr th {\n",
       "        vertical-align: top;\n",
       "    }\n",
       "\n",
       "    .dataframe thead th {\n",
       "        text-align: right;\n",
       "    }\n",
       "</style>\n",
       "<table border=\"1\" class=\"dataframe\">\n",
       "  <thead>\n",
       "    <tr style=\"text-align: right;\">\n",
       "      <th></th>\n",
       "      <th>지역</th>\n",
       "      <th>상호</th>\n",
       "      <th>주소</th>\n",
       "      <th>상표</th>\n",
       "      <th>전화번호</th>\n",
       "      <th>셀프여부</th>\n",
       "      <th>고급휘발유</th>\n",
       "      <th>휘발유</th>\n",
       "      <th>경유</th>\n",
       "      <th>실내등유</th>\n",
       "    </tr>\n",
       "  </thead>\n",
       "  <tbody>\n",
       "    <tr>\n",
       "      <th>0</th>\n",
       "      <td>서울특별시</td>\n",
       "      <td>도봉제일주유소(주)송만에너지</td>\n",
       "      <td>서울 도봉구 도봉로 783 (도봉동)</td>\n",
       "      <td>현대오일뱅크</td>\n",
       "      <td>02-955-5185</td>\n",
       "      <td>N</td>\n",
       "      <td>-</td>\n",
       "      <td>1335</td>\n",
       "      <td>1135</td>\n",
       "      <td>840</td>\n",
       "    </tr>\n",
       "    <tr>\n",
       "      <th>1</th>\n",
       "      <td>서울특별시</td>\n",
       "      <td>한이에너지(주)KLP제1주유소</td>\n",
       "      <td>서울 도봉구 도봉로 596 (창동)</td>\n",
       "      <td>현대오일뱅크</td>\n",
       "      <td>02-902-5189</td>\n",
       "      <td>N</td>\n",
       "      <td>-</td>\n",
       "      <td>1335</td>\n",
       "      <td>1135</td>\n",
       "      <td>-</td>\n",
       "    </tr>\n",
       "    <tr>\n",
       "      <th>2</th>\n",
       "      <td>서울특별시</td>\n",
       "      <td>삼미북부셀프주유소</td>\n",
       "      <td>서울 도봉구 도봉로 437 (쌍문동)</td>\n",
       "      <td>SK에너지</td>\n",
       "      <td>02-992-5561</td>\n",
       "      <td>Y</td>\n",
       "      <td>-</td>\n",
       "      <td>1337</td>\n",
       "      <td>1137</td>\n",
       "      <td>1100</td>\n",
       "    </tr>\n",
       "    <tr>\n",
       "      <th>3</th>\n",
       "      <td>서울특별시</td>\n",
       "      <td>극동유화(주)대안주유소</td>\n",
       "      <td>서울 도봉구 마들로 574 (창동)</td>\n",
       "      <td>S-OIL</td>\n",
       "      <td>02-996-6640</td>\n",
       "      <td>Y</td>\n",
       "      <td>-</td>\n",
       "      <td>1355</td>\n",
       "      <td>1155</td>\n",
       "      <td>-</td>\n",
       "    </tr>\n",
       "    <tr>\n",
       "      <th>4</th>\n",
       "      <td>서울특별시</td>\n",
       "      <td>정다운셀프주유소</td>\n",
       "      <td>서울특별시 도봉구 도봉로 635 (쌍문동)</td>\n",
       "      <td>SK에너지</td>\n",
       "      <td>02-996-5151</td>\n",
       "      <td>Y</td>\n",
       "      <td>-</td>\n",
       "      <td>1355</td>\n",
       "      <td>1155</td>\n",
       "      <td>-</td>\n",
       "    </tr>\n",
       "  </tbody>\n",
       "</table>\n",
       "</div>"
      ],
      "text/plain": [
       "      지역                상호                        주소      상표         전화번호  \\\n",
       "0  서울특별시   도봉제일주유소(주)송만에너지      서울 도봉구 도봉로 783 (도봉동)  현대오일뱅크  02-955-5185   \n",
       "1  서울특별시  한이에너지(주)KLP제1주유소       서울 도봉구 도봉로 596 (창동)  현대오일뱅크  02-902-5189   \n",
       "2  서울특별시         삼미북부셀프주유소      서울 도봉구 도봉로 437 (쌍문동)   SK에너지  02-992-5561   \n",
       "3  서울특별시      극동유화(주)대안주유소       서울 도봉구 마들로 574 (창동)   S-OIL  02-996-6640   \n",
       "4  서울특별시          정다운셀프주유소   서울특별시 도봉구 도봉로 635 (쌍문동)   SK에너지  02-996-5151   \n",
       "\n",
       "  셀프여부 고급휘발유   휘발유    경유  실내등유  \n",
       "0    N     -  1335  1135   840  \n",
       "1    N     -  1335  1135     -  \n",
       "2    Y     -  1337  1137  1100  \n",
       "3    Y     -  1355  1155     -  \n",
       "4    Y     -  1355  1155     -  "
      ]
     },
     "execution_count": 30,
     "metadata": {},
     "output_type": "execute_result"
    }
   ],
   "source": [
    "tmp_raw=[] #25개 DataFrame이 담길 리스트\n",
    "\n",
    "for file_name in stations_files:\n",
    "    tmp=pd.read_excel(file_name, header=2)\n",
    "    tmp_raw.append(tmp) #tmp_raw에 추가\n",
    "\n",
    "station_raw=pd.concat(tmp_raw) #25개 DataFrame 병합\n",
    "station_raw.head()"
   ]
  },
  {
   "cell_type": "markdown",
   "metadata": {},
   "source": [
    "익숙한 DataFrame 모양이 나왔죠? 저희 프로젝트 주제가 셀프 주유소가 정말 싼가? 이기 때문에 그에 맞는 데이터만 가져와 볼 거에요."
   ]
  },
  {
   "cell_type": "code",
   "execution_count": 31,
   "metadata": {},
   "outputs": [
    {
     "name": "stdout",
     "output_type": "stream",
     "text": [
      "<class 'pandas.core.frame.DataFrame'>\n",
      "Int64Index: 501 entries, 0 to 9\n",
      "Data columns (total 10 columns):\n",
      " #   Column  Non-Null Count  Dtype \n",
      "---  ------  --------------  ----- \n",
      " 0   지역      501 non-null    object\n",
      " 1   상호      501 non-null    object\n",
      " 2   주소      501 non-null    object\n",
      " 3   상표      501 non-null    object\n",
      " 4   전화번호    501 non-null    object\n",
      " 5   셀프여부    501 non-null    object\n",
      " 6   고급휘발유   501 non-null    object\n",
      " 7   휘발유     501 non-null    object\n",
      " 8   경유      501 non-null    object\n",
      " 9   실내등유    501 non-null    object\n",
      "dtypes: object(10)\n",
      "memory usage: 43.1+ KB\n"
     ]
    }
   ],
   "source": [
    "station_raw.info()"
   ]
  },
  {
   "cell_type": "markdown",
   "metadata": {},
   "source": [
    "필요한 칼럼들만 추려 stations에 담아볼게요. 필요한 칼럼들은 상호, 주소, 휘발유, 셀프여부, 상표에요."
   ]
  },
  {
   "cell_type": "code",
   "execution_count": 33,
   "metadata": {},
   "outputs": [
    {
     "data": {
      "text/html": [
       "<div>\n",
       "<style scoped>\n",
       "    .dataframe tbody tr th:only-of-type {\n",
       "        vertical-align: middle;\n",
       "    }\n",
       "\n",
       "    .dataframe tbody tr th {\n",
       "        vertical-align: top;\n",
       "    }\n",
       "\n",
       "    .dataframe thead th {\n",
       "        text-align: right;\n",
       "    }\n",
       "</style>\n",
       "<table border=\"1\" class=\"dataframe\">\n",
       "  <thead>\n",
       "    <tr style=\"text-align: right;\">\n",
       "      <th></th>\n",
       "      <th>Oil_store</th>\n",
       "      <th>주소</th>\n",
       "      <th>가격</th>\n",
       "      <th>셀프</th>\n",
       "      <th>상표</th>\n",
       "    </tr>\n",
       "  </thead>\n",
       "  <tbody>\n",
       "    <tr>\n",
       "      <th>0</th>\n",
       "      <td>도봉제일주유소(주)송만에너지</td>\n",
       "      <td>서울 도봉구 도봉로 783 (도봉동)</td>\n",
       "      <td>1335</td>\n",
       "      <td>N</td>\n",
       "      <td>현대오일뱅크</td>\n",
       "    </tr>\n",
       "    <tr>\n",
       "      <th>1</th>\n",
       "      <td>한이에너지(주)KLP제1주유소</td>\n",
       "      <td>서울 도봉구 도봉로 596 (창동)</td>\n",
       "      <td>1335</td>\n",
       "      <td>N</td>\n",
       "      <td>현대오일뱅크</td>\n",
       "    </tr>\n",
       "    <tr>\n",
       "      <th>2</th>\n",
       "      <td>삼미북부셀프주유소</td>\n",
       "      <td>서울 도봉구 도봉로 437 (쌍문동)</td>\n",
       "      <td>1337</td>\n",
       "      <td>Y</td>\n",
       "      <td>SK에너지</td>\n",
       "    </tr>\n",
       "    <tr>\n",
       "      <th>3</th>\n",
       "      <td>극동유화(주)대안주유소</td>\n",
       "      <td>서울 도봉구 마들로 574 (창동)</td>\n",
       "      <td>1355</td>\n",
       "      <td>Y</td>\n",
       "      <td>S-OIL</td>\n",
       "    </tr>\n",
       "    <tr>\n",
       "      <th>4</th>\n",
       "      <td>정다운셀프주유소</td>\n",
       "      <td>서울특별시 도봉구 도봉로 635 (쌍문동)</td>\n",
       "      <td>1355</td>\n",
       "      <td>Y</td>\n",
       "      <td>SK에너지</td>\n",
       "    </tr>\n",
       "  </tbody>\n",
       "</table>\n",
       "</div>"
      ],
      "text/plain": [
       "          Oil_store                        주소    가격 셀프      상표\n",
       "0   도봉제일주유소(주)송만에너지      서울 도봉구 도봉로 783 (도봉동)  1335  N  현대오일뱅크\n",
       "1  한이에너지(주)KLP제1주유소       서울 도봉구 도봉로 596 (창동)  1335  N  현대오일뱅크\n",
       "2         삼미북부셀프주유소      서울 도봉구 도봉로 437 (쌍문동)  1337  Y   SK에너지\n",
       "3      극동유화(주)대안주유소       서울 도봉구 마들로 574 (창동)  1355  Y   S-OIL\n",
       "4          정다운셀프주유소   서울특별시 도봉구 도봉로 635 (쌍문동)  1355  Y   SK에너지"
      ]
     },
     "execution_count": 33,
     "metadata": {},
     "output_type": "execute_result"
    }
   ],
   "source": [
    "stations=pd.DataFrame({'Oil_store':station_raw['상호'],\n",
    "                      '주소':station_raw['주소'],\n",
    "                      '가격':station_raw['휘발유'],\n",
    "                      '셀프':station_raw['셀프여부'],\n",
    "                      '상표':station_raw['상표']})\n",
    "\n",
    "stations.head()"
   ]
  },
  {
   "cell_type": "markdown",
   "metadata": {},
   "source": [
    "#### 데이터 가공하기\n",
    "\n",
    "주소 칼럼을 보세요. 너무 길죠? 저희가 필요한 건 구니까 구만 뽑아서 저장해줍시다. split을 통해 쉽게 가져오면 돼요. 새로운 칼럼 구를 만들어주고요!"
   ]
  },
  {
   "cell_type": "code",
   "execution_count": 34,
   "metadata": {},
   "outputs": [
    {
     "data": {
      "text/html": [
       "<div>\n",
       "<style scoped>\n",
       "    .dataframe tbody tr th:only-of-type {\n",
       "        vertical-align: middle;\n",
       "    }\n",
       "\n",
       "    .dataframe tbody tr th {\n",
       "        vertical-align: top;\n",
       "    }\n",
       "\n",
       "    .dataframe thead th {\n",
       "        text-align: right;\n",
       "    }\n",
       "</style>\n",
       "<table border=\"1\" class=\"dataframe\">\n",
       "  <thead>\n",
       "    <tr style=\"text-align: right;\">\n",
       "      <th></th>\n",
       "      <th>Oil_store</th>\n",
       "      <th>주소</th>\n",
       "      <th>가격</th>\n",
       "      <th>셀프</th>\n",
       "      <th>상표</th>\n",
       "      <th>구</th>\n",
       "    </tr>\n",
       "  </thead>\n",
       "  <tbody>\n",
       "    <tr>\n",
       "      <th>0</th>\n",
       "      <td>도봉제일주유소(주)송만에너지</td>\n",
       "      <td>서울 도봉구 도봉로 783 (도봉동)</td>\n",
       "      <td>1335</td>\n",
       "      <td>N</td>\n",
       "      <td>현대오일뱅크</td>\n",
       "      <td>도봉구</td>\n",
       "    </tr>\n",
       "    <tr>\n",
       "      <th>1</th>\n",
       "      <td>한이에너지(주)KLP제1주유소</td>\n",
       "      <td>서울 도봉구 도봉로 596 (창동)</td>\n",
       "      <td>1335</td>\n",
       "      <td>N</td>\n",
       "      <td>현대오일뱅크</td>\n",
       "      <td>도봉구</td>\n",
       "    </tr>\n",
       "    <tr>\n",
       "      <th>2</th>\n",
       "      <td>삼미북부셀프주유소</td>\n",
       "      <td>서울 도봉구 도봉로 437 (쌍문동)</td>\n",
       "      <td>1337</td>\n",
       "      <td>Y</td>\n",
       "      <td>SK에너지</td>\n",
       "      <td>도봉구</td>\n",
       "    </tr>\n",
       "    <tr>\n",
       "      <th>3</th>\n",
       "      <td>극동유화(주)대안주유소</td>\n",
       "      <td>서울 도봉구 마들로 574 (창동)</td>\n",
       "      <td>1355</td>\n",
       "      <td>Y</td>\n",
       "      <td>S-OIL</td>\n",
       "      <td>도봉구</td>\n",
       "    </tr>\n",
       "    <tr>\n",
       "      <th>4</th>\n",
       "      <td>정다운셀프주유소</td>\n",
       "      <td>서울특별시 도봉구 도봉로 635 (쌍문동)</td>\n",
       "      <td>1355</td>\n",
       "      <td>Y</td>\n",
       "      <td>SK에너지</td>\n",
       "      <td>도봉구</td>\n",
       "    </tr>\n",
       "  </tbody>\n",
       "</table>\n",
       "</div>"
      ],
      "text/plain": [
       "          Oil_store                        주소    가격 셀프      상표    구\n",
       "0   도봉제일주유소(주)송만에너지      서울 도봉구 도봉로 783 (도봉동)  1335  N  현대오일뱅크  도봉구\n",
       "1  한이에너지(주)KLP제1주유소       서울 도봉구 도봉로 596 (창동)  1335  N  현대오일뱅크  도봉구\n",
       "2         삼미북부셀프주유소      서울 도봉구 도봉로 437 (쌍문동)  1337  Y   SK에너지  도봉구\n",
       "3      극동유화(주)대안주유소       서울 도봉구 마들로 574 (창동)  1355  Y   S-OIL  도봉구\n",
       "4          정다운셀프주유소   서울특별시 도봉구 도봉로 635 (쌍문동)  1355  Y   SK에너지  도봉구"
      ]
     },
     "execution_count": 34,
     "metadata": {},
     "output_type": "execute_result"
    }
   ],
   "source": [
    "stations['구']=[eachAddress.split()[1] for eachAddress in stations['주소']]\n",
    "stations.head()"
   ]
  },
  {
   "cell_type": "markdown",
   "metadata": {},
   "source": [
    "다 잘 가져와졌는지 unique()를 통해 확인해봅시다!"
   ]
  },
  {
   "cell_type": "code",
   "execution_count": 37,
   "metadata": {},
   "outputs": [
    {
     "data": {
      "text/plain": [
       "array(['도봉구', '마포구', '광진구', '중랑구', '관악구', '서대문구', '노원구', '강서구', '양천구',\n",
       "       '종로구', '서초구', '성동구', '중구', '영등포구', '강북구', '용산구', '강동구', '성북구',\n",
       "       '송파구', '은평구', '동대문구', '강남구', '금천구', '구로구', '금정구', '동작구'],\n",
       "      dtype=object)"
      ]
     },
     "execution_count": 37,
     "metadata": {},
     "output_type": "execute_result"
    }
   ],
   "source": [
    "stations['구'].unique()"
   ]
  },
  {
   "cell_type": "markdown",
   "metadata": {},
   "source": [
    "이걸 언제 다 보겠어요? 개수를 봅시다."
   ]
  },
  {
   "cell_type": "code",
   "execution_count": 42,
   "metadata": {},
   "outputs": [
    {
     "data": {
      "text/plain": [
       "26"
      ]
     },
     "execution_count": 42,
     "metadata": {},
     "output_type": "execute_result"
    }
   ],
   "source": [
    "len(stations['구'].unique())"
   ]
  },
  {
   "cell_type": "markdown",
   "metadata": {},
   "source": [
    "엥? 25개여야 할 구가 26개에요. 뭔가 데이터에 문제가 있네요. 위 unique 코드를 한번 다시 봅시다. 아, '금정구'라는 구가 들어가있네요. 이처럼 데이터에 문제가 있는 경우가 있어요. 이럴 경우 하나하나 손을 봐줘야하죠.\n",
    "\n",
    "+본 데이터는 8/7 기준으로 여러분이 직접 실습하실 땐 이런 에러가 없을 수 있습니당! 문제 없을 시 그냥 읽고 넘어가 주세요!\n",
    "\n",
    "먼저 금정구로 설정된 데이터가 얼마나 있는지 한번 봅시다."
   ]
  },
  {
   "cell_type": "code",
   "execution_count": 43,
   "metadata": {},
   "outputs": [
    {
     "data": {
      "text/html": [
       "<div>\n",
       "<style scoped>\n",
       "    .dataframe tbody tr th:only-of-type {\n",
       "        vertical-align: middle;\n",
       "    }\n",
       "\n",
       "    .dataframe tbody tr th {\n",
       "        vertical-align: top;\n",
       "    }\n",
       "\n",
       "    .dataframe thead th {\n",
       "        text-align: right;\n",
       "    }\n",
       "</style>\n",
       "<table border=\"1\" class=\"dataframe\">\n",
       "  <thead>\n",
       "    <tr style=\"text-align: right;\">\n",
       "      <th></th>\n",
       "      <th>Oil_store</th>\n",
       "      <th>주소</th>\n",
       "      <th>가격</th>\n",
       "      <th>셀프</th>\n",
       "      <th>상표</th>\n",
       "      <th>구</th>\n",
       "    </tr>\n",
       "  </thead>\n",
       "  <tbody>\n",
       "    <tr>\n",
       "      <th>7</th>\n",
       "      <td>현대오일뱅크(주)직영 금사주유소</td>\n",
       "      <td>부산 금정구 반송로 420 (금사동)</td>\n",
       "      <td>1369</td>\n",
       "      <td>Y</td>\n",
       "      <td>현대오일뱅크</td>\n",
       "      <td>금정구</td>\n",
       "    </tr>\n",
       "  </tbody>\n",
       "</table>\n",
       "</div>"
      ],
      "text/plain": [
       "           Oil_store                    주소    가격 셀프      상표    구\n",
       "7  현대오일뱅크(주)직영 금사주유소  부산 금정구 반송로 420 (금사동)  1369  Y  현대오일뱅크  금정구"
      ]
     },
     "execution_count": 43,
     "metadata": {},
     "output_type": "execute_result"
    }
   ],
   "source": [
    "stations[stations['구']=='금정구'].head()"
   ]
  },
  {
   "cell_type": "markdown",
   "metadata": {},
   "source": [
    "하나 밖에 없네요! 금정구는 부산의 구였군요.\n",
    "저희는 서울의 구가 필요하니 본 데이터는 삭제합니다."
   ]
  },
  {
   "cell_type": "code",
   "execution_count": 46,
   "metadata": {},
   "outputs": [
    {
     "data": {
      "text/html": [
       "<div>\n",
       "<style scoped>\n",
       "    .dataframe tbody tr th:only-of-type {\n",
       "        vertical-align: middle;\n",
       "    }\n",
       "\n",
       "    .dataframe tbody tr th {\n",
       "        vertical-align: top;\n",
       "    }\n",
       "\n",
       "    .dataframe thead th {\n",
       "        text-align: right;\n",
       "    }\n",
       "</style>\n",
       "<table border=\"1\" class=\"dataframe\">\n",
       "  <thead>\n",
       "    <tr style=\"text-align: right;\">\n",
       "      <th></th>\n",
       "      <th>Oil_store</th>\n",
       "      <th>주소</th>\n",
       "      <th>가격</th>\n",
       "      <th>셀프</th>\n",
       "      <th>상표</th>\n",
       "      <th>구</th>\n",
       "    </tr>\n",
       "  </thead>\n",
       "  <tbody>\n",
       "  </tbody>\n",
       "</table>\n",
       "</div>"
      ],
      "text/plain": [
       "Empty DataFrame\n",
       "Columns: [Oil_store, 주소, 가격, 셀프, 상표, 구]\n",
       "Index: []"
      ]
     },
     "execution_count": 46,
     "metadata": {},
     "output_type": "execute_result"
    }
   ],
   "source": [
    "stations=stations[stations['구']!='금정구']\n",
    "stations[stations['구']=='금정구']"
   ]
  },
  {
   "cell_type": "markdown",
   "metadata": {},
   "source": [
    "깔끔하게 삭제됐죠?"
   ]
  },
  {
   "cell_type": "code",
   "execution_count": 47,
   "metadata": {},
   "outputs": [
    {
     "data": {
      "text/plain": [
       "25"
      ]
     },
     "execution_count": 47,
     "metadata": {},
     "output_type": "execute_result"
    }
   ],
   "source": [
    "len(stations['구'].unique())"
   ]
  },
  {
   "cell_type": "markdown",
   "metadata": {},
   "source": [
    "구 갯수도 드디어 25개로 돌아왔어요. 짝짝짝! 👏🏻\n",
    "\n",
    "이젠 가격 표시가 안 된 데이터들을 정리해줄 거에요."
   ]
  },
  {
   "cell_type": "code",
   "execution_count": 48,
   "metadata": {},
   "outputs": [
    {
     "data": {
      "text/plain": [
       "False    500\n",
       "Name: 가격, dtype: int64"
      ]
     },
     "execution_count": 48,
     "metadata": {},
     "output_type": "execute_result"
    }
   ],
   "source": [
    "stations['가격'].isnull().value_counts()"
   ]
  },
  {
   "cell_type": "code",
   "execution_count": 49,
   "metadata": {},
   "outputs": [
    {
     "data": {
      "text/plain": [
       "array([1335, 1337, 1355, 1357, 1359, 1369, 1374, 1379, 1382, 1395, 1399,\n",
       "       1418, 1557, '1397', '1407', '1416', '1418', '1428', '1438', '1458',\n",
       "       '1584', '1697', '1699', '-', 1345, 1367, 1375, 1387, 1388, 1409,\n",
       "       1419, 1438, 1449, 1490, 1373, 1389, 1398, 1368, 1404, 1429, 1437,\n",
       "       1445, 1468, 1477, 1488, 1378, 1380, 1385, 1390, 1598, '1350',\n",
       "       '1369', '1370', '1384', '1398', '1399', '1413', '1419', '1439',\n",
       "       '1470', '1480', '1308', '1317', '1333', '1337', '1339', '1344',\n",
       "       '1346', '1347', '1357', '1367', '1383', '1387', '1394', '1395',\n",
       "       '1404', '1410', '1415', '1424', '1455', '1456', '1478', '1535',\n",
       "       '1688', 1316, 1325, 1329, 1348, 1349, 1354, 1364, 1365, 1397, 1589,\n",
       "       1677, 1430, 1435, 1479, 1498, 1868, 1895, 1960, 1998, '1306',\n",
       "       '1379', '1396', '1405', '1408', '1414', '1422', '1423', '1425',\n",
       "       '1442', '1467', '1497', '1539', '1669', '1878', '1897', '1345',\n",
       "       '1378', '1445', '1448', '1468', '1595', '1675', '1698', '1705',\n",
       "       1448, 1618, 1758, 1798, 1879, 1973, 2099, 2138, 2202, '1388',\n",
       "       '1390', '1430', '1889', '1890', '1926', '1929', '1939', 1317, 1327,\n",
       "       1347, 1377, 1569, 1638, 1690, 1718, 1778, 1799, 1808, 1816, 1908,\n",
       "       1990, 2089, 1414, 1415, 1446, 1458, 1465, 1478, 1893, '1325',\n",
       "       '1327', '1342', '1359', '1362', '1364', '1365', '1377', 1358, 1362,\n",
       "       1393, 1407, 1417, 1425, 1428, 1440, 1450, 1659, '1355', '1372',\n",
       "       '1375', '1385', 1332, 1408, 1497, 1499, 1563, '1393', '1435',\n",
       "       '1441', '1453', '1498', '1527', '1550', '1573', '1628', '1657',\n",
       "       '1756', '1788', '1789', '1797', '1825', '1829', '1839', '1842',\n",
       "       '1869', '1883', '2025', 1384, 1319, 1334, 1339, 1457, 1898, 1495],\n",
       "      dtype=object)"
      ]
     },
     "execution_count": 49,
     "metadata": {},
     "output_type": "execute_result"
    }
   ],
   "source": [
    "stations['가격'].unique()"
   ]
  },
  {
   "cell_type": "markdown",
   "metadata": {},
   "source": [
    "중간에 '-'가 보이시죠? 가격정보가 없는 걸 저렇게 표시한 거에요. 어떤 행이 가격정보가 없는지 인덱싱을 사용해 알아봅시다."
   ]
  },
  {
   "cell_type": "code",
   "execution_count": 50,
   "metadata": {},
   "outputs": [
    {
     "data": {
      "text/html": [
       "<div>\n",
       "<style scoped>\n",
       "    .dataframe tbody tr th:only-of-type {\n",
       "        vertical-align: middle;\n",
       "    }\n",
       "\n",
       "    .dataframe tbody tr th {\n",
       "        vertical-align: top;\n",
       "    }\n",
       "\n",
       "    .dataframe thead th {\n",
       "        text-align: right;\n",
       "    }\n",
       "</style>\n",
       "<table border=\"1\" class=\"dataframe\">\n",
       "  <thead>\n",
       "    <tr style=\"text-align: right;\">\n",
       "      <th></th>\n",
       "      <th>Oil_store</th>\n",
       "      <th>주소</th>\n",
       "      <th>가격</th>\n",
       "      <th>셀프</th>\n",
       "      <th>상표</th>\n",
       "      <th>구</th>\n",
       "    </tr>\n",
       "  </thead>\n",
       "  <tbody>\n",
       "    <tr>\n",
       "      <th>12</th>\n",
       "      <td>서강주유소</td>\n",
       "      <td>서울 마포구 독막로 134 (창전동)</td>\n",
       "      <td>-</td>\n",
       "      <td>N</td>\n",
       "      <td>SK에너지</td>\n",
       "      <td>마포구</td>\n",
       "    </tr>\n",
       "    <tr>\n",
       "      <th>14</th>\n",
       "      <td>양지진흥개발(주)상계주유소</td>\n",
       "      <td>서울 노원구 노해로 527 (상계동)</td>\n",
       "      <td>-</td>\n",
       "      <td>N</td>\n",
       "      <td>SK에너지</td>\n",
       "      <td>노원구</td>\n",
       "    </tr>\n",
       "    <tr>\n",
       "      <th>33</th>\n",
       "      <td>(주)발산주유소</td>\n",
       "      <td>서울 강서구 강서로 291 (내발산동)</td>\n",
       "      <td>-</td>\n",
       "      <td>N</td>\n",
       "      <td>현대오일뱅크</td>\n",
       "      <td>강서구</td>\n",
       "    </tr>\n",
       "    <tr>\n",
       "      <th>35</th>\n",
       "      <td>전당앞주유소</td>\n",
       "      <td>서울 서초구 남부순환로 2391 (서초동)</td>\n",
       "      <td>-</td>\n",
       "      <td>N</td>\n",
       "      <td>SK에너지</td>\n",
       "      <td>서초구</td>\n",
       "    </tr>\n",
       "    <tr>\n",
       "      <th>16</th>\n",
       "      <td>현대오일뱅크 성수주유소</td>\n",
       "      <td>서울 성동구 뚝섬로 352 (성수동1가)</td>\n",
       "      <td>-</td>\n",
       "      <td>N</td>\n",
       "      <td>현대오일뱅크</td>\n",
       "      <td>성동구</td>\n",
       "    </tr>\n",
       "    <tr>\n",
       "      <th>30</th>\n",
       "      <td>성락주유소</td>\n",
       "      <td>서울 영등포구 가마산로 414 (신길동)</td>\n",
       "      <td>-</td>\n",
       "      <td>Y</td>\n",
       "      <td>S-OIL</td>\n",
       "      <td>영등포구</td>\n",
       "    </tr>\n",
       "    <tr>\n",
       "      <th>23</th>\n",
       "      <td>신동방주유소</td>\n",
       "      <td>서울 성북구 월계로 84 (장위동)</td>\n",
       "      <td>-</td>\n",
       "      <td>N</td>\n",
       "      <td>S-OIL</td>\n",
       "      <td>성북구</td>\n",
       "    </tr>\n",
       "    <tr>\n",
       "      <th>16</th>\n",
       "      <td>삼융주유소</td>\n",
       "      <td>서울 은평구 수색로 299 (수색동)</td>\n",
       "      <td>-</td>\n",
       "      <td>N</td>\n",
       "      <td>SK에너지</td>\n",
       "      <td>은평구</td>\n",
       "    </tr>\n",
       "    <tr>\n",
       "      <th>39</th>\n",
       "      <td>동우주유소</td>\n",
       "      <td>서울특별시 강남구  봉은사로 311 (논현동)</td>\n",
       "      <td>-</td>\n",
       "      <td>N</td>\n",
       "      <td>SK에너지</td>\n",
       "      <td>강남구</td>\n",
       "    </tr>\n",
       "    <tr>\n",
       "      <th>40</th>\n",
       "      <td>삼성주유소</td>\n",
       "      <td>서울 강남구 삼성로 521 (삼성동)</td>\n",
       "      <td>-</td>\n",
       "      <td>N</td>\n",
       "      <td>SK에너지</td>\n",
       "      <td>강남구</td>\n",
       "    </tr>\n",
       "  </tbody>\n",
       "</table>\n",
       "</div>"
      ],
      "text/plain": [
       "         Oil_store                         주소 가격 셀프      상표     구\n",
       "12           서강주유소       서울 마포구 독막로 134 (창전동)  -  N   SK에너지   마포구\n",
       "14  양지진흥개발(주)상계주유소       서울 노원구 노해로 527 (상계동)  -  N   SK에너지   노원구\n",
       "33        (주)발산주유소      서울 강서구 강서로 291 (내발산동)  -  N  현대오일뱅크   강서구\n",
       "35          전당앞주유소    서울 서초구 남부순환로 2391 (서초동)  -  N   SK에너지   서초구\n",
       "16    현대오일뱅크 성수주유소     서울 성동구 뚝섬로 352 (성수동1가)  -  N  현대오일뱅크   성동구\n",
       "30           성락주유소     서울 영등포구 가마산로 414 (신길동)  -  Y   S-OIL  영등포구\n",
       "23          신동방주유소        서울 성북구 월계로 84 (장위동)  -  N   S-OIL   성북구\n",
       "16           삼융주유소       서울 은평구 수색로 299 (수색동)  -  N   SK에너지   은평구\n",
       "39           동우주유소  서울특별시 강남구  봉은사로 311 (논현동)  -  N   SK에너지   강남구\n",
       "40           삼성주유소       서울 강남구 삼성로 521 (삼성동)  -  N   SK에너지   강남구"
      ]
     },
     "execution_count": 50,
     "metadata": {},
     "output_type": "execute_result"
    }
   ],
   "source": [
    "stations[stations['가격']=='-']"
   ]
  },
  {
   "cell_type": "markdown",
   "metadata": {},
   "source": [
    "10개 주유소나 가격이 없네요! 해당 row들을 없애줍시다."
   ]
  },
  {
   "cell_type": "code",
   "execution_count": 51,
   "metadata": {},
   "outputs": [
    {
     "data": {
      "text/html": [
       "<div>\n",
       "<style scoped>\n",
       "    .dataframe tbody tr th:only-of-type {\n",
       "        vertical-align: middle;\n",
       "    }\n",
       "\n",
       "    .dataframe tbody tr th {\n",
       "        vertical-align: top;\n",
       "    }\n",
       "\n",
       "    .dataframe thead th {\n",
       "        text-align: right;\n",
       "    }\n",
       "</style>\n",
       "<table border=\"1\" class=\"dataframe\">\n",
       "  <thead>\n",
       "    <tr style=\"text-align: right;\">\n",
       "      <th></th>\n",
       "      <th>Oil_store</th>\n",
       "      <th>주소</th>\n",
       "      <th>가격</th>\n",
       "      <th>셀프</th>\n",
       "      <th>상표</th>\n",
       "      <th>구</th>\n",
       "    </tr>\n",
       "  </thead>\n",
       "  <tbody>\n",
       "  </tbody>\n",
       "</table>\n",
       "</div>"
      ],
      "text/plain": [
       "Empty DataFrame\n",
       "Columns: [Oil_store, 주소, 가격, 셀프, 상표, 구]\n",
       "Index: []"
      ]
     },
     "execution_count": 51,
     "metadata": {},
     "output_type": "execute_result"
    }
   ],
   "source": [
    "stations=stations[stations['가격']!='-']\n",
    "stations[stations['가격']=='-']"
   ]
  },
  {
   "cell_type": "markdown",
   "metadata": {},
   "source": [
    "잘 없어졌죠?"
   ]
  },
  {
   "cell_type": "code",
   "execution_count": 52,
   "metadata": {},
   "outputs": [
    {
     "name": "stdout",
     "output_type": "stream",
     "text": [
      "<class 'pandas.core.frame.DataFrame'>\n",
      "Int64Index: 490 entries, 0 to 9\n",
      "Data columns (total 6 columns):\n",
      " #   Column     Non-Null Count  Dtype \n",
      "---  ------     --------------  ----- \n",
      " 0   Oil_store  490 non-null    object\n",
      " 1   주소         490 non-null    object\n",
      " 2   가격         490 non-null    object\n",
      " 3   셀프         490 non-null    object\n",
      " 4   상표         490 non-null    object\n",
      " 5   구          490 non-null    object\n",
      "dtypes: object(6)\n",
      "memory usage: 26.8+ KB\n"
     ]
    }
   ],
   "source": [
    "stations.info()"
   ]
  },
  {
   "cell_type": "markdown",
   "metadata": {},
   "source": [
    "이젠 가격을 object에서 숫자로 변경해줍시다."
   ]
  },
  {
   "cell_type": "code",
   "execution_count": 58,
   "metadata": {},
   "outputs": [
    {
     "name": "stdout",
     "output_type": "stream",
     "text": [
      "<class 'pandas.core.frame.DataFrame'>\n",
      "Int64Index: 490 entries, 0 to 9\n",
      "Data columns (total 6 columns):\n",
      " #   Column     Non-Null Count  Dtype  \n",
      "---  ------     --------------  -----  \n",
      " 0   Oil_store  490 non-null    object \n",
      " 1   주소         490 non-null    object \n",
      " 2   가격         490 non-null    float64\n",
      " 3   셀프         490 non-null    object \n",
      " 4   상표         490 non-null    object \n",
      " 5   구          490 non-null    object \n",
      "dtypes: float64(1), object(5)\n",
      "memory usage: 26.8+ KB\n"
     ]
    }
   ],
   "source": [
    "stations['가격'] = stations['가격'].astype('float')\n",
    "stations.info()"
   ]
  },
  {
   "cell_type": "markdown",
   "metadata": {},
   "source": [
    "데이터 가공은 이만하면 된 것 같아요! 이제 제대로 분석해볼까요?"
   ]
  },
  {
   "cell_type": "markdown",
   "metadata": {},
   "source": [
    "### 4.4  boxplot으로 셀프 주유소 가격 확인하기\n",
    "\n",
    "셀프 주유소가 정말 저렴한지 boxplot으로 시각화해볼게요. 우선 matplotlib의 한글 문제를 처리하고 필요 모듈들을 import 할게요."
   ]
  },
  {
   "cell_type": "code",
   "execution_count": 59,
   "metadata": {},
   "outputs": [],
   "source": [
    "import matplotlib.pyplot as plt\n",
    "import seaborn as sns\n",
    "%matplotlib inline\n",
    "\n",
    "import platform\n",
    "\n",
    "path = \"c:/Windows/Fonts/malgun.ttf\"\n",
    "from matplotlib import font_manager, rc\n",
    "if platform.system() == 'Darwin':\n",
    "    rc('font', family='AppleGothic')\n",
    "elif platform.system() == 'Windows':\n",
    "    font_name = font_manager.FontProperties(fname=path).get_name()\n",
    "    rc('font', family=font_name)\n",
    "else:\n",
    "    print('Unknown system... sorry~~~~')"
   ]
  },
  {
   "cell_type": "markdown",
   "metadata": {},
   "source": [
    "셀프 유무에 따른 가격을 확인해봅시다."
   ]
  },
  {
   "cell_type": "code",
   "execution_count": 60,
   "metadata": {},
   "outputs": [
    {
     "data": {
      "text/plain": [
       "<matplotlib.axes._subplots.AxesSubplot at 0x7fb26a0c4810>"
      ]
     },
     "execution_count": 60,
     "metadata": {},
     "output_type": "execute_result"
    },
    {
     "data": {
      "image/png": "[encoded data removed]",
      "text/plain": [
       "<Figure size 864x576 with 1 Axes>"
      ]
     },
     "metadata": {
      "needs_background": "light"
     },
     "output_type": "display_data"
    }
   ],
   "source": [
    "stations.boxplot(column='가격', by='셀프', figsize=(12,8))"
   ]
  },
  {
   "cell_type": "markdown",
   "metadata": {},
   "source": [
    "확실히 셀프 주유소가 저렴하죠?\n",
    "\n",
    "이번엔 상표에 따라 boxplot을 시각화해봅시다."
   ]
  },
  {
   "cell_type": "code",
   "execution_count": 61,
   "metadata": {},
   "outputs": [
    {
     "data": {
      "image/png": "[encoded data removed]",
      "text/plain": [
       "<Figure size 864x576 with 1 Axes>"
      ]
     },
     "metadata": {
      "needs_background": "light"
     },
     "output_type": "display_data"
    }
   ],
   "source": [
    "plt.figure(figsize=(12,8))\n",
    "sns.boxplot(x='상표', y='가격', hue='셀프', data=stations, palette='Set3')\n",
    "plt.show()"
   ]
  },
  {
   "cell_type": "markdown",
   "metadata": {},
   "source": [
    "와우, sk에너지가 완전 창렬이네요. 같은 상표라도 셀프 주유소가 더 저렴하게 분포돼있다는 점도 알 수 있고요. 알뜰주유소는 정말 압도적으로 저렴하네요.\n",
    "\n",
    "셀프 여부를 제외하고 상표로만 boxplot을 봐볼까요?"
   ]
  },
  {
   "cell_type": "code",
   "execution_count": 62,
   "metadata": {},
   "outputs": [
    {
     "data": {
      "image/png": "[encoded data removed]",
      "text/plain": [
       "<Figure size 864x576 with 1 Axes>"
      ]
     },
     "metadata": {
      "needs_background": "light"
     },
     "output_type": "display_data"
    }
   ],
   "source": [
    "plt.figure(figsize=(12,8))\n",
    "sns.boxplot(x='상표', y='가격', data=stations, palette='Set3')\n",
    "sns.swarmplot(x='상표', y='가격', data=stations, color='.8')\n",
    "plt.show()"
   ]
  },
  {
   "cell_type": "markdown",
   "metadata": {},
   "source": [
    "결과적으로 '셀프 주유소는 더 저렴한가'는 맞다고 할 수 있겠네요!\n",
    "이렇게 팩트체크를 완료해봤어요."
   ]
  },
  {
   "cell_type": "markdown",
   "metadata": {},
   "source": [
    "### 4.5 서울시 구별 주유 가격 확인\n",
    "\n",
    "여기까지 하면 조금 아쉽죠? 그래서 구별로 가격의 정도를 시각화 해보려해요. 이전에 사용한 json, folium, googlemaps를 사용해 시각화해줄 거에요. 필요 모듈을 import 합시다."
   ]
  },
  {
   "cell_type": "code",
   "execution_count": 65,
   "metadata": {},
   "outputs": [
    {
     "name": "stdout",
     "output_type": "stream",
     "text": [
      "Collecting folium\n",
      "  Downloading folium-0.11.0-py2.py3-none-any.whl (93 kB)\n",
      "\u001b[K     |████████████████████████████████| 93 kB 273 kB/s eta 0:00:01\n",
      "\u001b[?25hRequirement already satisfied: jinja2>=2.9 in /Users/penielcho/opt/anaconda3/lib/python3.7/site-packages (from folium) (2.11.1)\n",
      "Collecting branca>=0.3.0\n",
      "  Downloading branca-0.4.1-py3-none-any.whl (24 kB)\n",
      "Requirement already satisfied: requests in /Users/penielcho/opt/anaconda3/lib/python3.7/site-packages (from folium) (2.22.0)\n",
      "Requirement already satisfied: numpy in /Users/penielcho/opt/anaconda3/lib/python3.7/site-packages (from folium) (1.18.1)\n",
      "Requirement already satisfied: MarkupSafe>=0.23 in /Users/penielcho/opt/anaconda3/lib/python3.7/site-packages (from jinja2>=2.9->folium) (1.1.1)\n",
      "Requirement already satisfied: certifi>=2017.4.17 in /Users/penielcho/opt/anaconda3/lib/python3.7/site-packages (from requests->folium) (2019.11.28)\n",
      "Requirement already satisfied: urllib3!=1.25.0,!=1.25.1,<1.26,>=1.21.1 in /Users/penielcho/opt/anaconda3/lib/python3.7/site-packages (from requests->folium) (1.25.8)\n",
      "Requirement already satisfied: idna<2.9,>=2.5 in /Users/penielcho/opt/anaconda3/lib/python3.7/site-packages (from requests->folium) (2.8)\n",
      "Requirement already satisfied: chardet<3.1.0,>=3.0.2 in /Users/penielcho/opt/anaconda3/lib/python3.7/site-packages (from requests->folium) (3.0.4)\n",
      "Installing collected packages: branca, folium\n",
      "Successfully installed branca-0.4.1 folium-0.11.0\n",
      "Note: you may need to restart the kernel to use updated packages.\n"
     ]
    }
   ],
   "source": [
    "pip install folium"
   ]
  },
  {
   "cell_type": "code",
   "execution_count": 70,
   "metadata": {},
   "outputs": [
    {
     "name": "stdout",
     "output_type": "stream",
     "text": [
      "Collecting googlemaps\n",
      "  Downloading googlemaps-4.4.2.tar.gz (29 kB)\n",
      "Requirement already satisfied: requests<3.0,>=2.20.0 in /Users/penielcho/opt/anaconda3/lib/python3.7/site-packages (from googlemaps) (2.22.0)\n",
      "Requirement already satisfied: idna<2.9,>=2.5 in /Users/penielcho/opt/anaconda3/lib/python3.7/site-packages (from requests<3.0,>=2.20.0->googlemaps) (2.8)\n",
      "Requirement already satisfied: chardet<3.1.0,>=3.0.2 in /Users/penielcho/opt/anaconda3/lib/python3.7/site-packages (from requests<3.0,>=2.20.0->googlemaps) (3.0.4)\n",
      "Requirement already satisfied: certifi>=2017.4.17 in /Users/penielcho/opt/anaconda3/lib/python3.7/site-packages (from requests<3.0,>=2.20.0->googlemaps) (2019.11.28)\n",
      "Requirement already satisfied: urllib3!=1.25.0,!=1.25.1,<1.26,>=1.21.1 in /Users/penielcho/opt/anaconda3/lib/python3.7/site-packages (from requests<3.0,>=2.20.0->googlemaps) (1.25.8)\n",
      "Building wheels for collected packages: googlemaps\n",
      "  Building wheel for googlemaps (setup.py) ... \u001b[?25ldone\n",
      "\u001b[?25h  Created wheel for googlemaps: filename=googlemaps-4.4.2-py3-none-any.whl size=37856 sha256=bd4faedb1af46d12ec0033b7829f413e20bef09ab266bb24efe0a57e1472ff0c\n",
      "  Stored in directory: /Users/penielcho/Library/Caches/pip/wheels/7e/30/c7/07c30ff7be3c000ed5f8b2aad1083c8697a2afde133f58b5ca\n",
      "Successfully built googlemaps\n",
      "Installing collected packages: googlemaps\n",
      "Successfully installed googlemaps-4.4.2\n",
      "Note: you may need to restart the kernel to use updated packages.\n"
     ]
    }
   ],
   "source": [
    "pip install googlemaps"
   ]
  },
  {
   "cell_type": "code",
   "execution_count": 71,
   "metadata": {},
   "outputs": [],
   "source": [
    "import json\n",
    "import folium\n",
    "import googlemaps\n",
    "import warnings  # futurewarning 뜨지 않도록! \n",
    "warnings.simplefilter(action = \"ignore\", category = FutureWarning)"
   ]
  },
  {
   "cell_type": "markdown",
   "metadata": {},
   "source": [
    "제일 비싼 곳부터 나열해볼게요. 10개만 가져와 봅시다."
   ]
  },
  {
   "cell_type": "code",
   "execution_count": 72,
   "metadata": {},
   "outputs": [
    {
     "data": {
      "text/html": [
       "<div>\n",
       "<style scoped>\n",
       "    .dataframe tbody tr th:only-of-type {\n",
       "        vertical-align: middle;\n",
       "    }\n",
       "\n",
       "    .dataframe tbody tr th {\n",
       "        vertical-align: top;\n",
       "    }\n",
       "\n",
       "    .dataframe thead th {\n",
       "        text-align: right;\n",
       "    }\n",
       "</style>\n",
       "<table border=\"1\" class=\"dataframe\">\n",
       "  <thead>\n",
       "    <tr style=\"text-align: right;\">\n",
       "      <th></th>\n",
       "      <th>Oil_store</th>\n",
       "      <th>주소</th>\n",
       "      <th>가격</th>\n",
       "      <th>셀프</th>\n",
       "      <th>상표</th>\n",
       "      <th>구</th>\n",
       "    </tr>\n",
       "  </thead>\n",
       "  <tbody>\n",
       "    <tr>\n",
       "      <th>11</th>\n",
       "      <td>서남주유소</td>\n",
       "      <td>서울 중구 통일로 30</td>\n",
       "      <td>2202.0</td>\n",
       "      <td>N</td>\n",
       "      <td>SK에너지</td>\n",
       "      <td>중구</td>\n",
       "    </tr>\n",
       "    <tr>\n",
       "      <th>10</th>\n",
       "      <td>에스씨(주) 역전주유소</td>\n",
       "      <td>서울 중구 퇴계로 15</td>\n",
       "      <td>2138.0</td>\n",
       "      <td>N</td>\n",
       "      <td>GS칼텍스</td>\n",
       "      <td>중구</td>\n",
       "    </tr>\n",
       "    <tr>\n",
       "      <th>8</th>\n",
       "      <td>필동주유소</td>\n",
       "      <td>서울 중구  퇴계로 196 (필동2가)</td>\n",
       "      <td>2099.0</td>\n",
       "      <td>N</td>\n",
       "      <td>GS칼텍스</td>\n",
       "      <td>중구</td>\n",
       "    </tr>\n",
       "    <tr>\n",
       "      <th>9</th>\n",
       "      <td>SK에너지(주) 퇴계로주유소</td>\n",
       "      <td>서울 중구 퇴계로 228 (필동2가)</td>\n",
       "      <td>2099.0</td>\n",
       "      <td>N</td>\n",
       "      <td>SK에너지</td>\n",
       "      <td>중구</td>\n",
       "    </tr>\n",
       "    <tr>\n",
       "      <th>13</th>\n",
       "      <td>서계주유소</td>\n",
       "      <td>서울 용산구 청파로 367 (서계동)</td>\n",
       "      <td>2089.0</td>\n",
       "      <td>N</td>\n",
       "      <td>GS칼텍스</td>\n",
       "      <td>용산구</td>\n",
       "    </tr>\n",
       "    <tr>\n",
       "      <th>38</th>\n",
       "      <td>뉴서울(강남)</td>\n",
       "      <td>서울 강남구 언주로 716 (논현동)</td>\n",
       "      <td>2025.0</td>\n",
       "      <td>N</td>\n",
       "      <td>SK에너지</td>\n",
       "      <td>강남구</td>\n",
       "    </tr>\n",
       "    <tr>\n",
       "      <th>11</th>\n",
       "      <td>에너비스</td>\n",
       "      <td>서울 용산구 한남대로 82 (한남동)</td>\n",
       "      <td>1998.0</td>\n",
       "      <td>N</td>\n",
       "      <td>SK에너지</td>\n",
       "      <td>용산구</td>\n",
       "    </tr>\n",
       "    <tr>\n",
       "      <th>12</th>\n",
       "      <td>한남지점</td>\n",
       "      <td>서울 용산구 한남대로21길 4 (한남동)</td>\n",
       "      <td>1998.0</td>\n",
       "      <td>N</td>\n",
       "      <td>SK에너지</td>\n",
       "      <td>용산구</td>\n",
       "    </tr>\n",
       "    <tr>\n",
       "      <th>8</th>\n",
       "      <td>(주)중앙에너비스 혜화주유소</td>\n",
       "      <td>서울 종로구 창경궁로35길 1</td>\n",
       "      <td>1998.0</td>\n",
       "      <td>N</td>\n",
       "      <td>SK에너지</td>\n",
       "      <td>종로구</td>\n",
       "    </tr>\n",
       "    <tr>\n",
       "      <th>7</th>\n",
       "      <td>(주)대양씨앤씨 사직주유소</td>\n",
       "      <td>서울 종로구 사직로 65 (사직동)</td>\n",
       "      <td>1998.0</td>\n",
       "      <td>N</td>\n",
       "      <td>GS칼텍스</td>\n",
       "      <td>종로구</td>\n",
       "    </tr>\n",
       "  </tbody>\n",
       "</table>\n",
       "</div>"
      ],
      "text/plain": [
       "          Oil_store                      주소      가격 셀프     상표    구\n",
       "11            서남주유소            서울 중구 통일로 30  2202.0  N  SK에너지   중구\n",
       "10     에스씨(주) 역전주유소            서울 중구 퇴계로 15  2138.0  N  GS칼텍스   중구\n",
       "8             필동주유소   서울 중구  퇴계로 196 (필동2가)  2099.0  N  GS칼텍스   중구\n",
       "9   SK에너지(주) 퇴계로주유소    서울 중구 퇴계로 228 (필동2가)  2099.0  N  SK에너지   중구\n",
       "13            서계주유소    서울 용산구 청파로 367 (서계동)  2089.0  N  GS칼텍스  용산구\n",
       "38          뉴서울(강남)    서울 강남구 언주로 716 (논현동)  2025.0  N  SK에너지  강남구\n",
       "11             에너비스    서울 용산구 한남대로 82 (한남동)  1998.0  N  SK에너지  용산구\n",
       "12             한남지점  서울 용산구 한남대로21길 4 (한남동)  1998.0  N  SK에너지  용산구\n",
       "8   (주)중앙에너비스 혜화주유소        서울 종로구 창경궁로35길 1  1998.0  N  SK에너지  종로구\n",
       "7    (주)대양씨앤씨 사직주유소     서울 종로구 사직로 65 (사직동)  1998.0  N  GS칼텍스  종로구"
      ]
     },
     "execution_count": 72,
     "metadata": {},
     "output_type": "execute_result"
    }
   ],
   "source": [
    "stations.sort_values(by='가격', ascending=False).head(10)"
   ]
  },
  {
   "cell_type": "markdown",
   "metadata": {},
   "source": [
    "중구, 용산구에 비싼 주유소가 많네요!\n",
    "\n",
    "학교가 위치한 동작구에서 싼 주유소도 한번 찾아봅시다."
   ]
  },
  {
   "cell_type": "code",
   "execution_count": 74,
   "metadata": {},
   "outputs": [
    {
     "data": {
      "text/html": [
       "<div>\n",
       "<style scoped>\n",
       "    .dataframe tbody tr th:only-of-type {\n",
       "        vertical-align: middle;\n",
       "    }\n",
       "\n",
       "    .dataframe tbody tr th {\n",
       "        vertical-align: top;\n",
       "    }\n",
       "\n",
       "    .dataframe thead th {\n",
       "        text-align: right;\n",
       "    }\n",
       "</style>\n",
       "<table border=\"1\" class=\"dataframe\">\n",
       "  <thead>\n",
       "    <tr style=\"text-align: right;\">\n",
       "      <th></th>\n",
       "      <th>Oil_store</th>\n",
       "      <th>주소</th>\n",
       "      <th>가격</th>\n",
       "      <th>셀프</th>\n",
       "      <th>상표</th>\n",
       "      <th>구</th>\n",
       "    </tr>\n",
       "  </thead>\n",
       "  <tbody>\n",
       "    <tr>\n",
       "      <th>0</th>\n",
       "      <td>현대오일뱅크㈜직영 신대방셀프주유소</td>\n",
       "      <td>서울 동작구 시흥대로 616 (신대방동)</td>\n",
       "      <td>1388.0</td>\n",
       "      <td>Y</td>\n",
       "      <td>현대오일뱅크</td>\n",
       "      <td>동작구</td>\n",
       "    </tr>\n",
       "    <tr>\n",
       "      <th>1</th>\n",
       "      <td>지에스칼텍스(주) 대방주유소</td>\n",
       "      <td>서울 동작구 여의대방로 214</td>\n",
       "      <td>1388.0</td>\n",
       "      <td>N</td>\n",
       "      <td>GS칼텍스</td>\n",
       "      <td>동작구</td>\n",
       "    </tr>\n",
       "    <tr>\n",
       "      <th>2</th>\n",
       "      <td>창원이엔지주유소</td>\n",
       "      <td>서울 동작구 사당로 59 (상도동)</td>\n",
       "      <td>1389.0</td>\n",
       "      <td>N</td>\n",
       "      <td>현대오일뱅크</td>\n",
       "      <td>동작구</td>\n",
       "    </tr>\n",
       "    <tr>\n",
       "      <th>3</th>\n",
       "      <td>매일주유소</td>\n",
       "      <td>서울 동작구 상도로 139 (상도동)</td>\n",
       "      <td>1399.0</td>\n",
       "      <td>N</td>\n",
       "      <td>S-OIL</td>\n",
       "      <td>동작구</td>\n",
       "    </tr>\n",
       "    <tr>\n",
       "      <th>4</th>\n",
       "      <td>현대오일뱅크(주)직영 사당셀프주유소</td>\n",
       "      <td>서울 동작구 동작대로 73 (사당동)</td>\n",
       "      <td>1419.0</td>\n",
       "      <td>Y</td>\n",
       "      <td>현대오일뱅크</td>\n",
       "      <td>동작구</td>\n",
       "    </tr>\n",
       "    <tr>\n",
       "      <th>5</th>\n",
       "      <td>현대오일뱅크㈜직영 흑석동셀프주유소</td>\n",
       "      <td>서울 동작구 현충로 101 (흑석동)</td>\n",
       "      <td>1419.0</td>\n",
       "      <td>Y</td>\n",
       "      <td>현대오일뱅크</td>\n",
       "      <td>동작구</td>\n",
       "    </tr>\n",
       "    <tr>\n",
       "      <th>6</th>\n",
       "      <td>(주)성림에너지 남성주유소</td>\n",
       "      <td>서울 동작구 동작대로 135 (사당동)</td>\n",
       "      <td>1419.0</td>\n",
       "      <td>Y</td>\n",
       "      <td>GS칼텍스</td>\n",
       "      <td>동작구</td>\n",
       "    </tr>\n",
       "    <tr>\n",
       "      <th>7</th>\n",
       "      <td>대성산업(주) 노량진주유소</td>\n",
       "      <td>서울 동작구 노량진로 172 (노량진동)</td>\n",
       "      <td>1428.0</td>\n",
       "      <td>N</td>\n",
       "      <td>GS칼텍스</td>\n",
       "      <td>동작구</td>\n",
       "    </tr>\n",
       "    <tr>\n",
       "      <th>8</th>\n",
       "      <td>현대오일뱅크(주)직영 동작주유소</td>\n",
       "      <td>서울 동작구 상도로 403 (상도동)</td>\n",
       "      <td>1438.0</td>\n",
       "      <td>N</td>\n",
       "      <td>현대오일뱅크</td>\n",
       "      <td>동작구</td>\n",
       "    </tr>\n",
       "    <tr>\n",
       "      <th>9</th>\n",
       "      <td>살피재주유소</td>\n",
       "      <td>서울 동작구 상도로 334</td>\n",
       "      <td>1495.0</td>\n",
       "      <td>N</td>\n",
       "      <td>SK에너지</td>\n",
       "      <td>동작구</td>\n",
       "    </tr>\n",
       "  </tbody>\n",
       "</table>\n",
       "</div>"
      ],
      "text/plain": [
       "             Oil_store                      주소      가격 셀프      상표    구\n",
       "0   현대오일뱅크㈜직영 신대방셀프주유소  서울 동작구 시흥대로 616 (신대방동)  1388.0  Y  현대오일뱅크  동작구\n",
       "1      지에스칼텍스(주) 대방주유소        서울 동작구 여의대방로 214  1388.0  N   GS칼텍스  동작구\n",
       "2             창원이엔지주유소     서울 동작구 사당로 59 (상도동)  1389.0  N  현대오일뱅크  동작구\n",
       "3                매일주유소    서울 동작구 상도로 139 (상도동)  1399.0  N   S-OIL  동작구\n",
       "4  현대오일뱅크(주)직영 사당셀프주유소    서울 동작구 동작대로 73 (사당동)  1419.0  Y  현대오일뱅크  동작구\n",
       "5   현대오일뱅크㈜직영 흑석동셀프주유소    서울 동작구 현충로 101 (흑석동)  1419.0  Y  현대오일뱅크  동작구\n",
       "6       (주)성림에너지 남성주유소   서울 동작구 동작대로 135 (사당동)  1419.0  Y   GS칼텍스  동작구\n",
       "7       대성산업(주) 노량진주유소  서울 동작구 노량진로 172 (노량진동)  1428.0  N   GS칼텍스  동작구\n",
       "8    현대오일뱅크(주)직영 동작주유소    서울 동작구 상도로 403 (상도동)  1438.0  N  현대오일뱅크  동작구\n",
       "9               살피재주유소          서울 동작구 상도로 334  1495.0  N   SK에너지  동작구"
      ]
     },
     "execution_count": 74,
     "metadata": {},
     "output_type": "execute_result"
    }
   ],
   "source": [
    "stations[stations['구'] == '동작구'].sort_values(by='가격')"
   ]
  },
  {
   "cell_type": "markdown",
   "metadata": {},
   "source": [
    "오 상도로에 위치한 곳이 3개나 포함돼있네요. 나쁘지 않은 것 같아요!\n",
    "\n",
    "이번엔 서울 전체에서 가장 저렴한 주유소들을 나열해 볼까요?"
   ]
  },
  {
   "cell_type": "code",
   "execution_count": 75,
   "metadata": {},
   "outputs": [
    {
     "data": {
      "text/html": [
       "<div>\n",
       "<style scoped>\n",
       "    .dataframe tbody tr th:only-of-type {\n",
       "        vertical-align: middle;\n",
       "    }\n",
       "\n",
       "    .dataframe tbody tr th {\n",
       "        vertical-align: top;\n",
       "    }\n",
       "\n",
       "    .dataframe thead th {\n",
       "        text-align: right;\n",
       "    }\n",
       "</style>\n",
       "<table border=\"1\" class=\"dataframe\">\n",
       "  <thead>\n",
       "    <tr style=\"text-align: right;\">\n",
       "      <th></th>\n",
       "      <th>Oil_store</th>\n",
       "      <th>주소</th>\n",
       "      <th>가격</th>\n",
       "      <th>셀프</th>\n",
       "      <th>상표</th>\n",
       "      <th>구</th>\n",
       "    </tr>\n",
       "  </thead>\n",
       "  <tbody>\n",
       "    <tr>\n",
       "      <th>0</th>\n",
       "      <td>만남의광장주유소</td>\n",
       "      <td>서울 서초구 양재대로12길 73-71</td>\n",
       "      <td>1306.0</td>\n",
       "      <td>Y</td>\n",
       "      <td>알뜰(ex)</td>\n",
       "      <td>서초구</td>\n",
       "    </tr>\n",
       "    <tr>\n",
       "      <th>0</th>\n",
       "      <td>뉴신정주유소</td>\n",
       "      <td>서울 강서구 곰달래로 207(화곡동)</td>\n",
       "      <td>1308.0</td>\n",
       "      <td>N</td>\n",
       "      <td>알뜰주유소</td>\n",
       "      <td>강서구</td>\n",
       "    </tr>\n",
       "    <tr>\n",
       "      <th>1</th>\n",
       "      <td>화곡역주유소</td>\n",
       "      <td>서울특별시 강서구  강서로 154 (화곡동)</td>\n",
       "      <td>1308.0</td>\n",
       "      <td>Y</td>\n",
       "      <td>알뜰주유소</td>\n",
       "      <td>강서구</td>\n",
       "    </tr>\n",
       "    <tr>\n",
       "      <th>0</th>\n",
       "      <td>현대주유소</td>\n",
       "      <td>서울 양천구 남부순환로 372 (신월동)</td>\n",
       "      <td>1316.0</td>\n",
       "      <td>Y</td>\n",
       "      <td>S-OIL</td>\n",
       "      <td>양천구</td>\n",
       "    </tr>\n",
       "    <tr>\n",
       "      <th>2</th>\n",
       "      <td>강서오곡셀프주유소</td>\n",
       "      <td>서울 강서구 벌말로 254 (오곡동)</td>\n",
       "      <td>1317.0</td>\n",
       "      <td>Y</td>\n",
       "      <td>SK에너지</td>\n",
       "      <td>강서구</td>\n",
       "    </tr>\n",
       "    <tr>\n",
       "      <th>0</th>\n",
       "      <td>(주)석산에너지</td>\n",
       "      <td>서울 강북구 삼양로 316 (수유동)</td>\n",
       "      <td>1317.0</td>\n",
       "      <td>Y</td>\n",
       "      <td>현대오일뱅크</td>\n",
       "      <td>강북구</td>\n",
       "    </tr>\n",
       "    <tr>\n",
       "      <th>1</th>\n",
       "      <td>북서울고속주유소</td>\n",
       "      <td>서울 강북구 삼양로 410 (수유동)</td>\n",
       "      <td>1317.0</td>\n",
       "      <td>Y</td>\n",
       "      <td>S-OIL</td>\n",
       "      <td>강북구</td>\n",
       "    </tr>\n",
       "    <tr>\n",
       "      <th>1</th>\n",
       "      <td>서울석유(주)풀페이주유소</td>\n",
       "      <td>서울 구로구 경인로 41 (온수동)</td>\n",
       "      <td>1319.0</td>\n",
       "      <td>N</td>\n",
       "      <td>SK에너지</td>\n",
       "      <td>구로구</td>\n",
       "    </tr>\n",
       "    <tr>\n",
       "      <th>0</th>\n",
       "      <td>처음처럼주유소</td>\n",
       "      <td>서울 구로구 오리로 1299 (궁동)</td>\n",
       "      <td>1319.0</td>\n",
       "      <td>N</td>\n",
       "      <td>S-OIL</td>\n",
       "      <td>구로구</td>\n",
       "    </tr>\n",
       "    <tr>\n",
       "      <th>2</th>\n",
       "      <td>형산석유(주)원주유소</td>\n",
       "      <td>서울 양천구 남부순환로 408</td>\n",
       "      <td>1325.0</td>\n",
       "      <td>N</td>\n",
       "      <td>현대오일뱅크</td>\n",
       "      <td>양천구</td>\n",
       "    </tr>\n",
       "  </tbody>\n",
       "</table>\n",
       "</div>"
      ],
      "text/plain": [
       "       Oil_store                        주소      가격 셀프      상표    구\n",
       "0       만남의광장주유소      서울 서초구 양재대로12길 73-71  1306.0  Y  알뜰(ex)  서초구\n",
       "0         뉴신정주유소      서울 강서구 곰달래로 207(화곡동)  1308.0  N   알뜰주유소  강서구\n",
       "1         화곡역주유소  서울특별시 강서구  강서로 154 (화곡동)  1308.0  Y   알뜰주유소  강서구\n",
       "0          현대주유소    서울 양천구 남부순환로 372 (신월동)  1316.0  Y   S-OIL  양천구\n",
       "2      강서오곡셀프주유소      서울 강서구 벌말로 254 (오곡동)  1317.0  Y   SK에너지  강서구\n",
       "0       (주)석산에너지      서울 강북구 삼양로 316 (수유동)  1317.0  Y  현대오일뱅크  강북구\n",
       "1       북서울고속주유소      서울 강북구 삼양로 410 (수유동)  1317.0  Y   S-OIL  강북구\n",
       "1  서울석유(주)풀페이주유소       서울 구로구 경인로 41 (온수동)  1319.0  N   SK에너지  구로구\n",
       "0        처음처럼주유소      서울 구로구 오리로 1299 (궁동)  1319.0  N   S-OIL  구로구\n",
       "2    형산석유(주)원주유소          서울 양천구 남부순환로 408  1325.0  N  현대오일뱅크  양천구"
      ]
     },
     "execution_count": 75,
     "metadata": {},
     "output_type": "execute_result"
    }
   ],
   "source": [
    "stations.sort_values(by='가격', ascending=True).head(10)"
   ]
  },
  {
   "cell_type": "markdown",
   "metadata": {},
   "source": [
    "와우, 서초구에 위치한 주유소가 가장 저렴하리라곤 상상도 못했어요. 대신 아래로는 다 강서, 강북, 구로구가 차지했네요.\n",
    "\n",
    "아무래도 구 평균 가격을 봐야할 것 같아요."
   ]
  },
  {
   "cell_type": "code",
   "execution_count": 76,
   "metadata": {},
   "outputs": [
    {
     "data": {
      "text/html": [
       "<div>\n",
       "<style scoped>\n",
       "    .dataframe tbody tr th:only-of-type {\n",
       "        vertical-align: middle;\n",
       "    }\n",
       "\n",
       "    .dataframe tbody tr th {\n",
       "        vertical-align: top;\n",
       "    }\n",
       "\n",
       "    .dataframe thead th {\n",
       "        text-align: right;\n",
       "    }\n",
       "</style>\n",
       "<table border=\"1\" class=\"dataframe\">\n",
       "  <thead>\n",
       "    <tr style=\"text-align: right;\">\n",
       "      <th></th>\n",
       "      <th>가격</th>\n",
       "    </tr>\n",
       "    <tr>\n",
       "      <th>구</th>\n",
       "      <th></th>\n",
       "    </tr>\n",
       "  </thead>\n",
       "  <tbody>\n",
       "    <tr>\n",
       "      <th>강남구</th>\n",
       "      <td>1568.794872</td>\n",
       "    </tr>\n",
       "    <tr>\n",
       "      <th>강동구</th>\n",
       "      <td>1469.375000</td>\n",
       "    </tr>\n",
       "    <tr>\n",
       "      <th>강북구</th>\n",
       "      <td>1359.615385</td>\n",
       "    </tr>\n",
       "    <tr>\n",
       "      <th>강서구</th>\n",
       "      <td>1391.272727</td>\n",
       "    </tr>\n",
       "    <tr>\n",
       "      <th>관악구</th>\n",
       "      <td>1419.687500</td>\n",
       "    </tr>\n",
       "  </tbody>\n",
       "</table>\n",
       "</div>"
      ],
      "text/plain": [
       "              가격\n",
       "구               \n",
       "강남구  1568.794872\n",
       "강동구  1469.375000\n",
       "강북구  1359.615385\n",
       "강서구  1391.272727\n",
       "관악구  1419.687500"
      ]
     },
     "execution_count": 76,
     "metadata": {},
     "output_type": "execute_result"
    }
   ],
   "source": [
    "import numpy as np \n",
    "gu_data = pd.pivot_table(stations, index=['구'], values=[\"가격\"], aggfunc=np.mean)\n",
    "gu_data.head()"
   ]
  },
  {
   "cell_type": "markdown",
   "metadata": {},
   "source": [
    "이 값을 지도에 시각화해서 나타내볼까요?"
   ]
  },
  {
   "cell_type": "code",
   "execution_count": 78,
   "metadata": {},
   "outputs": [
    {
     "data": {
      "text/html": [
       "<div style=\"width:100%;\"><div style=\"position:relative;width:100%;height:0;padding-bottom:60%;\"><span style=\"color:#565656\">Make this Notebook Trusted to load map: File -> Trust Notebook</span><iframe src=\"about:blank\" style=\"position:absolute;width:100%;height:100%;left:0;top:0;border:none !important;\" data-html=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 onload=\"this.contentDocument.open();this.contentDocument.write(atob(this.getAttribute('data-html')));this.contentDocument.close();\" allowfullscreen webkitallowfullscreen mozallowfullscreen></iframe></div></div>"
      ],
      "text/plain": [
       "<folium.folium.Map at 0x7fb26a5a8d10>"
      ]
     },
     "execution_count": 78,
     "metadata": {},
     "output_type": "execute_result"
    }
   ],
   "source": [
    "geo_path = 'data/skorea_municipalities_geo_simple.json'\n",
    "geo_str = json.load(open(geo_path, encoding='utf-8'))\n",
    "\n",
    "map = folium.Map(location=[37.5502, 126.982], zoom_start=10.5, \n",
    "                 tiles='Stamen Toner')\n",
    "\n",
    "map.choropleth(geo_data = geo_str,\n",
    "               data = gu_data,\n",
    "               columns=[gu_data.index, '가격'],\n",
    "               fill_color='PuRd', #PuRd, YlGnBu\n",
    "               key_on='feature.id')\n",
    "map"
   ]
  },
  {
   "cell_type": "markdown",
   "metadata": {},
   "source": [
    "이렇게 하니 용산구, 중구, 종로구가 비싼 게 확실하게 보이네요!\n",
    "\n",
    "### 4.6 서울시 주유 가격 상하위 10개 주유소 지도에 표시하기\n",
    "\n",
    "이번엔 서울시 주유가격 상하위 10개 주유소를 지도에 표시해볼게요.\n",
    "구별이 아닌, 개별 주유소 별로 따져보는 거에요. 상하위 10개 주유소만 따로 변수에 담아 볼게요."
   ]
  },
  {
   "cell_type": "code",
   "execution_count": 79,
   "metadata": {},
   "outputs": [
    {
     "data": {
      "text/html": [
       "<div>\n",
       "<style scoped>\n",
       "    .dataframe tbody tr th:only-of-type {\n",
       "        vertical-align: middle;\n",
       "    }\n",
       "\n",
       "    .dataframe tbody tr th {\n",
       "        vertical-align: top;\n",
       "    }\n",
       "\n",
       "    .dataframe thead th {\n",
       "        text-align: right;\n",
       "    }\n",
       "</style>\n",
       "<table border=\"1\" class=\"dataframe\">\n",
       "  <thead>\n",
       "    <tr style=\"text-align: right;\">\n",
       "      <th></th>\n",
       "      <th>Oil_store</th>\n",
       "      <th>주소</th>\n",
       "      <th>가격</th>\n",
       "      <th>셀프</th>\n",
       "      <th>상표</th>\n",
       "      <th>구</th>\n",
       "    </tr>\n",
       "  </thead>\n",
       "  <tbody>\n",
       "    <tr>\n",
       "      <th>11</th>\n",
       "      <td>서남주유소</td>\n",
       "      <td>서울 중구 통일로 30</td>\n",
       "      <td>2202.0</td>\n",
       "      <td>N</td>\n",
       "      <td>SK에너지</td>\n",
       "      <td>중구</td>\n",
       "    </tr>\n",
       "    <tr>\n",
       "      <th>10</th>\n",
       "      <td>에스씨(주) 역전주유소</td>\n",
       "      <td>서울 중구 퇴계로 15</td>\n",
       "      <td>2138.0</td>\n",
       "      <td>N</td>\n",
       "      <td>GS칼텍스</td>\n",
       "      <td>중구</td>\n",
       "    </tr>\n",
       "    <tr>\n",
       "      <th>8</th>\n",
       "      <td>필동주유소</td>\n",
       "      <td>서울 중구  퇴계로 196 (필동2가)</td>\n",
       "      <td>2099.0</td>\n",
       "      <td>N</td>\n",
       "      <td>GS칼텍스</td>\n",
       "      <td>중구</td>\n",
       "    </tr>\n",
       "    <tr>\n",
       "      <th>9</th>\n",
       "      <td>SK에너지(주) 퇴계로주유소</td>\n",
       "      <td>서울 중구 퇴계로 228 (필동2가)</td>\n",
       "      <td>2099.0</td>\n",
       "      <td>N</td>\n",
       "      <td>SK에너지</td>\n",
       "      <td>중구</td>\n",
       "    </tr>\n",
       "    <tr>\n",
       "      <th>13</th>\n",
       "      <td>서계주유소</td>\n",
       "      <td>서울 용산구 청파로 367 (서계동)</td>\n",
       "      <td>2089.0</td>\n",
       "      <td>N</td>\n",
       "      <td>GS칼텍스</td>\n",
       "      <td>용산구</td>\n",
       "    </tr>\n",
       "    <tr>\n",
       "      <th>38</th>\n",
       "      <td>뉴서울(강남)</td>\n",
       "      <td>서울 강남구 언주로 716 (논현동)</td>\n",
       "      <td>2025.0</td>\n",
       "      <td>N</td>\n",
       "      <td>SK에너지</td>\n",
       "      <td>강남구</td>\n",
       "    </tr>\n",
       "    <tr>\n",
       "      <th>11</th>\n",
       "      <td>에너비스</td>\n",
       "      <td>서울 용산구 한남대로 82 (한남동)</td>\n",
       "      <td>1998.0</td>\n",
       "      <td>N</td>\n",
       "      <td>SK에너지</td>\n",
       "      <td>용산구</td>\n",
       "    </tr>\n",
       "    <tr>\n",
       "      <th>12</th>\n",
       "      <td>한남지점</td>\n",
       "      <td>서울 용산구 한남대로21길 4 (한남동)</td>\n",
       "      <td>1998.0</td>\n",
       "      <td>N</td>\n",
       "      <td>SK에너지</td>\n",
       "      <td>용산구</td>\n",
       "    </tr>\n",
       "    <tr>\n",
       "      <th>8</th>\n",
       "      <td>(주)중앙에너비스 혜화주유소</td>\n",
       "      <td>서울 종로구 창경궁로35길 1</td>\n",
       "      <td>1998.0</td>\n",
       "      <td>N</td>\n",
       "      <td>SK에너지</td>\n",
       "      <td>종로구</td>\n",
       "    </tr>\n",
       "    <tr>\n",
       "      <th>7</th>\n",
       "      <td>(주)대양씨앤씨 사직주유소</td>\n",
       "      <td>서울 종로구 사직로 65 (사직동)</td>\n",
       "      <td>1998.0</td>\n",
       "      <td>N</td>\n",
       "      <td>GS칼텍스</td>\n",
       "      <td>종로구</td>\n",
       "    </tr>\n",
       "  </tbody>\n",
       "</table>\n",
       "</div>"
      ],
      "text/plain": [
       "          Oil_store                      주소      가격 셀프     상표    구\n",
       "11            서남주유소            서울 중구 통일로 30  2202.0  N  SK에너지   중구\n",
       "10     에스씨(주) 역전주유소            서울 중구 퇴계로 15  2138.0  N  GS칼텍스   중구\n",
       "8             필동주유소   서울 중구  퇴계로 196 (필동2가)  2099.0  N  GS칼텍스   중구\n",
       "9   SK에너지(주) 퇴계로주유소    서울 중구 퇴계로 228 (필동2가)  2099.0  N  SK에너지   중구\n",
       "13            서계주유소    서울 용산구 청파로 367 (서계동)  2089.0  N  GS칼텍스  용산구\n",
       "38          뉴서울(강남)    서울 강남구 언주로 716 (논현동)  2025.0  N  SK에너지  강남구\n",
       "11             에너비스    서울 용산구 한남대로 82 (한남동)  1998.0  N  SK에너지  용산구\n",
       "12             한남지점  서울 용산구 한남대로21길 4 (한남동)  1998.0  N  SK에너지  용산구\n",
       "8   (주)중앙에너비스 혜화주유소        서울 종로구 창경궁로35길 1  1998.0  N  SK에너지  종로구\n",
       "7    (주)대양씨앤씨 사직주유소     서울 종로구 사직로 65 (사직동)  1998.0  N  GS칼텍스  종로구"
      ]
     },
     "execution_count": 79,
     "metadata": {},
     "output_type": "execute_result"
    }
   ],
   "source": [
    "oil_price_top10 = stations.sort_values(by='가격', ascending=False).head(10)\n",
    "oil_price_top10"
   ]
  },
  {
   "cell_type": "code",
   "execution_count": 80,
   "metadata": {},
   "outputs": [
    {
     "data": {
      "text/html": [
       "<div>\n",
       "<style scoped>\n",
       "    .dataframe tbody tr th:only-of-type {\n",
       "        vertical-align: middle;\n",
       "    }\n",
       "\n",
       "    .dataframe tbody tr th {\n",
       "        vertical-align: top;\n",
       "    }\n",
       "\n",
       "    .dataframe thead th {\n",
       "        text-align: right;\n",
       "    }\n",
       "</style>\n",
       "<table border=\"1\" class=\"dataframe\">\n",
       "  <thead>\n",
       "    <tr style=\"text-align: right;\">\n",
       "      <th></th>\n",
       "      <th>Oil_store</th>\n",
       "      <th>주소</th>\n",
       "      <th>가격</th>\n",
       "      <th>셀프</th>\n",
       "      <th>상표</th>\n",
       "      <th>구</th>\n",
       "    </tr>\n",
       "  </thead>\n",
       "  <tbody>\n",
       "    <tr>\n",
       "      <th>0</th>\n",
       "      <td>만남의광장주유소</td>\n",
       "      <td>서울 서초구 양재대로12길 73-71</td>\n",
       "      <td>1306.0</td>\n",
       "      <td>Y</td>\n",
       "      <td>알뜰(ex)</td>\n",
       "      <td>서초구</td>\n",
       "    </tr>\n",
       "    <tr>\n",
       "      <th>0</th>\n",
       "      <td>뉴신정주유소</td>\n",
       "      <td>서울 강서구 곰달래로 207(화곡동)</td>\n",
       "      <td>1308.0</td>\n",
       "      <td>N</td>\n",
       "      <td>알뜰주유소</td>\n",
       "      <td>강서구</td>\n",
       "    </tr>\n",
       "    <tr>\n",
       "      <th>1</th>\n",
       "      <td>화곡역주유소</td>\n",
       "      <td>서울특별시 강서구  강서로 154 (화곡동)</td>\n",
       "      <td>1308.0</td>\n",
       "      <td>Y</td>\n",
       "      <td>알뜰주유소</td>\n",
       "      <td>강서구</td>\n",
       "    </tr>\n",
       "    <tr>\n",
       "      <th>0</th>\n",
       "      <td>현대주유소</td>\n",
       "      <td>서울 양천구 남부순환로 372 (신월동)</td>\n",
       "      <td>1316.0</td>\n",
       "      <td>Y</td>\n",
       "      <td>S-OIL</td>\n",
       "      <td>양천구</td>\n",
       "    </tr>\n",
       "    <tr>\n",
       "      <th>2</th>\n",
       "      <td>강서오곡셀프주유소</td>\n",
       "      <td>서울 강서구 벌말로 254 (오곡동)</td>\n",
       "      <td>1317.0</td>\n",
       "      <td>Y</td>\n",
       "      <td>SK에너지</td>\n",
       "      <td>강서구</td>\n",
       "    </tr>\n",
       "    <tr>\n",
       "      <th>0</th>\n",
       "      <td>(주)석산에너지</td>\n",
       "      <td>서울 강북구 삼양로 316 (수유동)</td>\n",
       "      <td>1317.0</td>\n",
       "      <td>Y</td>\n",
       "      <td>현대오일뱅크</td>\n",
       "      <td>강북구</td>\n",
       "    </tr>\n",
       "    <tr>\n",
       "      <th>1</th>\n",
       "      <td>북서울고속주유소</td>\n",
       "      <td>서울 강북구 삼양로 410 (수유동)</td>\n",
       "      <td>1317.0</td>\n",
       "      <td>Y</td>\n",
       "      <td>S-OIL</td>\n",
       "      <td>강북구</td>\n",
       "    </tr>\n",
       "    <tr>\n",
       "      <th>1</th>\n",
       "      <td>서울석유(주)풀페이주유소</td>\n",
       "      <td>서울 구로구 경인로 41 (온수동)</td>\n",
       "      <td>1319.0</td>\n",
       "      <td>N</td>\n",
       "      <td>SK에너지</td>\n",
       "      <td>구로구</td>\n",
       "    </tr>\n",
       "    <tr>\n",
       "      <th>0</th>\n",
       "      <td>처음처럼주유소</td>\n",
       "      <td>서울 구로구 오리로 1299 (궁동)</td>\n",
       "      <td>1319.0</td>\n",
       "      <td>N</td>\n",
       "      <td>S-OIL</td>\n",
       "      <td>구로구</td>\n",
       "    </tr>\n",
       "    <tr>\n",
       "      <th>2</th>\n",
       "      <td>형산석유(주)원주유소</td>\n",
       "      <td>서울 양천구 남부순환로 408</td>\n",
       "      <td>1325.0</td>\n",
       "      <td>N</td>\n",
       "      <td>현대오일뱅크</td>\n",
       "      <td>양천구</td>\n",
       "    </tr>\n",
       "  </tbody>\n",
       "</table>\n",
       "</div>"
      ],
      "text/plain": [
       "       Oil_store                        주소      가격 셀프      상표    구\n",
       "0       만남의광장주유소      서울 서초구 양재대로12길 73-71  1306.0  Y  알뜰(ex)  서초구\n",
       "0         뉴신정주유소      서울 강서구 곰달래로 207(화곡동)  1308.0  N   알뜰주유소  강서구\n",
       "1         화곡역주유소  서울특별시 강서구  강서로 154 (화곡동)  1308.0  Y   알뜰주유소  강서구\n",
       "0          현대주유소    서울 양천구 남부순환로 372 (신월동)  1316.0  Y   S-OIL  양천구\n",
       "2      강서오곡셀프주유소      서울 강서구 벌말로 254 (오곡동)  1317.0  Y   SK에너지  강서구\n",
       "0       (주)석산에너지      서울 강북구 삼양로 316 (수유동)  1317.0  Y  현대오일뱅크  강북구\n",
       "1       북서울고속주유소      서울 강북구 삼양로 410 (수유동)  1317.0  Y   S-OIL  강북구\n",
       "1  서울석유(주)풀페이주유소       서울 구로구 경인로 41 (온수동)  1319.0  N   SK에너지  구로구\n",
       "0        처음처럼주유소      서울 구로구 오리로 1299 (궁동)  1319.0  N   S-OIL  구로구\n",
       "2    형산석유(주)원주유소          서울 양천구 남부순환로 408  1325.0  N  현대오일뱅크  양천구"
      ]
     },
     "execution_count": 80,
     "metadata": {},
     "output_type": "execute_result"
    }
   ],
   "source": [
    "oil_price_bottom10 = stations.sort_values(by='가격', ascending=True).head(10)\n",
    "oil_price_bottom10"
   ]
  },
  {
   "cell_type": "markdown",
   "metadata": {},
   "source": [
    "지도 시각화를 위해선 위도, 경도가 필요하니 구글맵 api 키를 준비해주세요."
   ]
  },
  {
   "cell_type": "code",
   "execution_count": 81,
   "metadata": {},
   "outputs": [],
   "source": [
    "gmaps_key = \"*************\"\n",
    "gmaps = googlemaps.Client(key=gmaps_key)"
   ]
  },
  {
   "cell_type": "markdown",
   "metadata": {},
   "source": [
    "아래 코드를 입력하면 lat과 lng 정보를 모두 담아 oil_price_top10과 oil_price_bottom10에다 새로운 칼럼으로 담아줍니다."
   ]
  },
  {
   "cell_type": "code",
   "execution_count": 82,
   "metadata": {},
   "outputs": [
    {
     "name": "stderr",
     "output_type": "stream",
     "text": [
      "/Users/penielcho/opt/anaconda3/lib/python3.7/site-packages/ipykernel_launcher.py:6: TqdmDeprecationWarning: This function will be removed in tqdm==5.0.0\n",
      "Please use `tqdm.notebook.tqdm` instead of `tqdm.tqdm_notebook`\n",
      "  \n"
     ]
    },
    {
     "data": {
      "application/vnd.jupyter.widget-view+json": {
       "model_id": "74f37812e06b4831b20ca6f573e2880a",
       "version_major": 2,
       "version_minor": 0
      },
      "text/plain": [
       "HBox(children=(FloatProgress(value=0.0, max=10.0), HTML(value='')))"
      ]
     },
     "metadata": {},
     "output_type": "display_data"
    },
    {
     "name": "stdout",
     "output_type": "stream",
     "text": [
      "\n"
     ]
    },
    {
     "data": {
      "text/html": [
       "<div>\n",
       "<style scoped>\n",
       "    .dataframe tbody tr th:only-of-type {\n",
       "        vertical-align: middle;\n",
       "    }\n",
       "\n",
       "    .dataframe tbody tr th {\n",
       "        vertical-align: top;\n",
       "    }\n",
       "\n",
       "    .dataframe thead th {\n",
       "        text-align: right;\n",
       "    }\n",
       "</style>\n",
       "<table border=\"1\" class=\"dataframe\">\n",
       "  <thead>\n",
       "    <tr style=\"text-align: right;\">\n",
       "      <th></th>\n",
       "      <th>Oil_store</th>\n",
       "      <th>주소</th>\n",
       "      <th>가격</th>\n",
       "      <th>셀프</th>\n",
       "      <th>상표</th>\n",
       "      <th>구</th>\n",
       "      <th>lat</th>\n",
       "      <th>lng</th>\n",
       "    </tr>\n",
       "  </thead>\n",
       "  <tbody>\n",
       "    <tr>\n",
       "      <th>11</th>\n",
       "      <td>서남주유소</td>\n",
       "      <td>서울 중구 통일로 30</td>\n",
       "      <td>2202.0</td>\n",
       "      <td>N</td>\n",
       "      <td>SK에너지</td>\n",
       "      <td>중구</td>\n",
       "      <td>37.559693</td>\n",
       "      <td>126.971120</td>\n",
       "    </tr>\n",
       "    <tr>\n",
       "      <th>10</th>\n",
       "      <td>에스씨(주) 역전주유소</td>\n",
       "      <td>서울 중구 퇴계로 15</td>\n",
       "      <td>2138.0</td>\n",
       "      <td>N</td>\n",
       "      <td>GS칼텍스</td>\n",
       "      <td>중구</td>\n",
       "      <td>37.557001</td>\n",
       "      <td>126.974495</td>\n",
       "    </tr>\n",
       "    <tr>\n",
       "      <th>8</th>\n",
       "      <td>필동주유소</td>\n",
       "      <td>서울 중구  퇴계로 196 (필동2가)</td>\n",
       "      <td>2099.0</td>\n",
       "      <td>N</td>\n",
       "      <td>GS칼텍스</td>\n",
       "      <td>중구</td>\n",
       "      <td>37.560850</td>\n",
       "      <td>126.993653</td>\n",
       "    </tr>\n",
       "    <tr>\n",
       "      <th>9</th>\n",
       "      <td>SK에너지(주) 퇴계로주유소</td>\n",
       "      <td>서울 중구 퇴계로 228 (필동2가)</td>\n",
       "      <td>2099.0</td>\n",
       "      <td>N</td>\n",
       "      <td>SK에너지</td>\n",
       "      <td>중구</td>\n",
       "      <td>37.561648</td>\n",
       "      <td>126.997142</td>\n",
       "    </tr>\n",
       "    <tr>\n",
       "      <th>13</th>\n",
       "      <td>서계주유소</td>\n",
       "      <td>서울 용산구 청파로 367 (서계동)</td>\n",
       "      <td>2089.0</td>\n",
       "      <td>N</td>\n",
       "      <td>GS칼텍스</td>\n",
       "      <td>용산구</td>\n",
       "      <td>37.552290</td>\n",
       "      <td>126.968935</td>\n",
       "    </tr>\n",
       "    <tr>\n",
       "      <th>38</th>\n",
       "      <td>뉴서울(강남)</td>\n",
       "      <td>서울 강남구 언주로 716 (논현동)</td>\n",
       "      <td>2025.0</td>\n",
       "      <td>N</td>\n",
       "      <td>SK에너지</td>\n",
       "      <td>강남구</td>\n",
       "      <td>37.517636</td>\n",
       "      <td>127.035756</td>\n",
       "    </tr>\n",
       "    <tr>\n",
       "      <th>11</th>\n",
       "      <td>에너비스</td>\n",
       "      <td>서울 용산구 한남대로 82 (한남동)</td>\n",
       "      <td>1998.0</td>\n",
       "      <td>N</td>\n",
       "      <td>SK에너지</td>\n",
       "      <td>용산구</td>\n",
       "      <td>37.559693</td>\n",
       "      <td>126.971120</td>\n",
       "    </tr>\n",
       "    <tr>\n",
       "      <th>12</th>\n",
       "      <td>한남지점</td>\n",
       "      <td>서울 용산구 한남대로21길 4 (한남동)</td>\n",
       "      <td>1998.0</td>\n",
       "      <td>N</td>\n",
       "      <td>SK에너지</td>\n",
       "      <td>용산구</td>\n",
       "      <td>37.534657</td>\n",
       "      <td>127.006063</td>\n",
       "    </tr>\n",
       "    <tr>\n",
       "      <th>8</th>\n",
       "      <td>(주)중앙에너비스 혜화주유소</td>\n",
       "      <td>서울 종로구 창경궁로35길 1</td>\n",
       "      <td>1998.0</td>\n",
       "      <td>N</td>\n",
       "      <td>SK에너지</td>\n",
       "      <td>종로구</td>\n",
       "      <td>37.560850</td>\n",
       "      <td>126.993653</td>\n",
       "    </tr>\n",
       "    <tr>\n",
       "      <th>7</th>\n",
       "      <td>(주)대양씨앤씨 사직주유소</td>\n",
       "      <td>서울 종로구 사직로 65 (사직동)</td>\n",
       "      <td>1998.0</td>\n",
       "      <td>N</td>\n",
       "      <td>GS칼텍스</td>\n",
       "      <td>종로구</td>\n",
       "      <td>37.574464</td>\n",
       "      <td>126.966618</td>\n",
       "    </tr>\n",
       "  </tbody>\n",
       "</table>\n",
       "</div>"
      ],
      "text/plain": [
       "          Oil_store                      주소      가격 셀프     상표    구        lat  \\\n",
       "11            서남주유소            서울 중구 통일로 30  2202.0  N  SK에너지   중구  37.559693   \n",
       "10     에스씨(주) 역전주유소            서울 중구 퇴계로 15  2138.0  N  GS칼텍스   중구  37.557001   \n",
       "8             필동주유소   서울 중구  퇴계로 196 (필동2가)  2099.0  N  GS칼텍스   중구  37.560850   \n",
       "9   SK에너지(주) 퇴계로주유소    서울 중구 퇴계로 228 (필동2가)  2099.0  N  SK에너지   중구  37.561648   \n",
       "13            서계주유소    서울 용산구 청파로 367 (서계동)  2089.0  N  GS칼텍스  용산구  37.552290   \n",
       "38          뉴서울(강남)    서울 강남구 언주로 716 (논현동)  2025.0  N  SK에너지  강남구  37.517636   \n",
       "11             에너비스    서울 용산구 한남대로 82 (한남동)  1998.0  N  SK에너지  용산구  37.559693   \n",
       "12             한남지점  서울 용산구 한남대로21길 4 (한남동)  1998.0  N  SK에너지  용산구  37.534657   \n",
       "8   (주)중앙에너비스 혜화주유소        서울 종로구 창경궁로35길 1  1998.0  N  SK에너지  종로구  37.560850   \n",
       "7    (주)대양씨앤씨 사직주유소     서울 종로구 사직로 65 (사직동)  1998.0  N  GS칼텍스  종로구  37.574464   \n",
       "\n",
       "           lng  \n",
       "11  126.971120  \n",
       "10  126.974495  \n",
       "8   126.993653  \n",
       "9   126.997142  \n",
       "13  126.968935  \n",
       "38  127.035756  \n",
       "11  126.971120  \n",
       "12  127.006063  \n",
       "8   126.993653  \n",
       "7   126.966618  "
      ]
     },
     "execution_count": 82,
     "metadata": {},
     "output_type": "execute_result"
    }
   ],
   "source": [
    "from tqdm import tqdm_notebook\n",
    "\n",
    "lat = []\n",
    "lng = []\n",
    "\n",
    "for n in tqdm_notebook(oil_price_top10.index):\n",
    "    # 주소를 '(' 기준으로 나눠 첫번째 주소만 가져와라 \n",
    "    tmp_add = str(oil_price_top10['주소'][n]).split('(')[0]\n",
    "    # tmp_add를 기준으로 주소를 입력해라 \n",
    "    tmp_map = gmaps.geocode(tmp_add)\n",
    "\n",
    "    # tmp_map의 첫번째 값에서 'geometry'를 구하고, 거기에서 다시 'location'을 구해라\n",
    "    tmp_loc = tmp_map[0].get('geometry').get('location')\n",
    "    lat.append(tmp_loc['lat'])\n",
    "    lng.append(tmp_loc['lng'])\n",
    "\n",
    "# 각각 새로운 컬럼 형성 \n",
    "oil_price_top10['lat'] = lat\n",
    "oil_price_top10['lng'] = lng\n",
    "oil_price_top10"
   ]
  },
  {
   "cell_type": "markdown",
   "metadata": {},
   "source": [
    "앗 그런데 인덱스가 이상하죠. 8, 11이 2번 들어가 있어요."
   ]
  },
  {
   "cell_type": "code",
   "execution_count": 83,
   "metadata": {},
   "outputs": [
    {
     "name": "stderr",
     "output_type": "stream",
     "text": [
      "/Users/penielcho/opt/anaconda3/lib/python3.7/site-packages/ipykernel_launcher.py:4: TqdmDeprecationWarning: This function will be removed in tqdm==5.0.0\n",
      "Please use `tqdm.notebook.tqdm` instead of `tqdm.tqdm_notebook`\n",
      "  after removing the cwd from sys.path.\n"
     ]
    },
    {
     "data": {
      "application/vnd.jupyter.widget-view+json": {
       "model_id": "38c4b94a3bb0424aaf840208822e100e",
       "version_major": 2,
       "version_minor": 0
      },
      "text/plain": [
       "HBox(children=(FloatProgress(value=0.0, max=10.0), HTML(value='')))"
      ]
     },
     "metadata": {},
     "output_type": "display_data"
    },
    {
     "name": "stdout",
     "output_type": "stream",
     "text": [
      "\n"
     ]
    },
    {
     "data": {
      "text/html": [
       "<div>\n",
       "<style scoped>\n",
       "    .dataframe tbody tr th:only-of-type {\n",
       "        vertical-align: middle;\n",
       "    }\n",
       "\n",
       "    .dataframe tbody tr th {\n",
       "        vertical-align: top;\n",
       "    }\n",
       "\n",
       "    .dataframe thead th {\n",
       "        text-align: right;\n",
       "    }\n",
       "</style>\n",
       "<table border=\"1\" class=\"dataframe\">\n",
       "  <thead>\n",
       "    <tr style=\"text-align: right;\">\n",
       "      <th></th>\n",
       "      <th>Oil_store</th>\n",
       "      <th>주소</th>\n",
       "      <th>가격</th>\n",
       "      <th>셀프</th>\n",
       "      <th>상표</th>\n",
       "      <th>구</th>\n",
       "      <th>lat</th>\n",
       "      <th>lng</th>\n",
       "    </tr>\n",
       "  </thead>\n",
       "  <tbody>\n",
       "    <tr>\n",
       "      <th>0</th>\n",
       "      <td>만남의광장주유소</td>\n",
       "      <td>서울 서초구 양재대로12길 73-71</td>\n",
       "      <td>1306.0</td>\n",
       "      <td>Y</td>\n",
       "      <td>알뜰(ex)</td>\n",
       "      <td>서초구</td>\n",
       "      <td>37.459906</td>\n",
       "      <td>127.042060</td>\n",
       "    </tr>\n",
       "    <tr>\n",
       "      <th>0</th>\n",
       "      <td>뉴신정주유소</td>\n",
       "      <td>서울 강서구 곰달래로 207(화곡동)</td>\n",
       "      <td>1308.0</td>\n",
       "      <td>N</td>\n",
       "      <td>알뜰주유소</td>\n",
       "      <td>강서구</td>\n",
       "      <td>37.459906</td>\n",
       "      <td>127.042060</td>\n",
       "    </tr>\n",
       "    <tr>\n",
       "      <th>1</th>\n",
       "      <td>화곡역주유소</td>\n",
       "      <td>서울특별시 강서구  강서로 154 (화곡동)</td>\n",
       "      <td>1308.0</td>\n",
       "      <td>Y</td>\n",
       "      <td>알뜰주유소</td>\n",
       "      <td>강서구</td>\n",
       "      <td>37.540657</td>\n",
       "      <td>126.841506</td>\n",
       "    </tr>\n",
       "    <tr>\n",
       "      <th>0</th>\n",
       "      <td>현대주유소</td>\n",
       "      <td>서울 양천구 남부순환로 372 (신월동)</td>\n",
       "      <td>1316.0</td>\n",
       "      <td>Y</td>\n",
       "      <td>S-OIL</td>\n",
       "      <td>양천구</td>\n",
       "      <td>37.459906</td>\n",
       "      <td>127.042060</td>\n",
       "    </tr>\n",
       "    <tr>\n",
       "      <th>2</th>\n",
       "      <td>강서오곡셀프주유소</td>\n",
       "      <td>서울 강서구 벌말로 254 (오곡동)</td>\n",
       "      <td>1317.0</td>\n",
       "      <td>Y</td>\n",
       "      <td>SK에너지</td>\n",
       "      <td>강서구</td>\n",
       "      <td>37.555284</td>\n",
       "      <td>126.768567</td>\n",
       "    </tr>\n",
       "    <tr>\n",
       "      <th>0</th>\n",
       "      <td>(주)석산에너지</td>\n",
       "      <td>서울 강북구 삼양로 316 (수유동)</td>\n",
       "      <td>1317.0</td>\n",
       "      <td>Y</td>\n",
       "      <td>현대오일뱅크</td>\n",
       "      <td>강북구</td>\n",
       "      <td>37.459906</td>\n",
       "      <td>127.042060</td>\n",
       "    </tr>\n",
       "    <tr>\n",
       "      <th>1</th>\n",
       "      <td>북서울고속주유소</td>\n",
       "      <td>서울 강북구 삼양로 410 (수유동)</td>\n",
       "      <td>1317.0</td>\n",
       "      <td>Y</td>\n",
       "      <td>S-OIL</td>\n",
       "      <td>강북구</td>\n",
       "      <td>37.540657</td>\n",
       "      <td>126.841506</td>\n",
       "    </tr>\n",
       "    <tr>\n",
       "      <th>1</th>\n",
       "      <td>서울석유(주)풀페이주유소</td>\n",
       "      <td>서울 구로구 경인로 41 (온수동)</td>\n",
       "      <td>1319.0</td>\n",
       "      <td>N</td>\n",
       "      <td>SK에너지</td>\n",
       "      <td>구로구</td>\n",
       "      <td>37.540657</td>\n",
       "      <td>126.841506</td>\n",
       "    </tr>\n",
       "    <tr>\n",
       "      <th>0</th>\n",
       "      <td>처음처럼주유소</td>\n",
       "      <td>서울 구로구 오리로 1299 (궁동)</td>\n",
       "      <td>1319.0</td>\n",
       "      <td>N</td>\n",
       "      <td>S-OIL</td>\n",
       "      <td>구로구</td>\n",
       "      <td>37.459906</td>\n",
       "      <td>127.042060</td>\n",
       "    </tr>\n",
       "    <tr>\n",
       "      <th>2</th>\n",
       "      <td>형산석유(주)원주유소</td>\n",
       "      <td>서울 양천구 남부순환로 408</td>\n",
       "      <td>1325.0</td>\n",
       "      <td>N</td>\n",
       "      <td>현대오일뱅크</td>\n",
       "      <td>양천구</td>\n",
       "      <td>37.555284</td>\n",
       "      <td>126.768567</td>\n",
       "    </tr>\n",
       "  </tbody>\n",
       "</table>\n",
       "</div>"
      ],
      "text/plain": [
       "       Oil_store                        주소      가격 셀프      상표    구        lat  \\\n",
       "0       만남의광장주유소      서울 서초구 양재대로12길 73-71  1306.0  Y  알뜰(ex)  서초구  37.459906   \n",
       "0         뉴신정주유소      서울 강서구 곰달래로 207(화곡동)  1308.0  N   알뜰주유소  강서구  37.459906   \n",
       "1         화곡역주유소  서울특별시 강서구  강서로 154 (화곡동)  1308.0  Y   알뜰주유소  강서구  37.540657   \n",
       "0          현대주유소    서울 양천구 남부순환로 372 (신월동)  1316.0  Y   S-OIL  양천구  37.459906   \n",
       "2      강서오곡셀프주유소      서울 강서구 벌말로 254 (오곡동)  1317.0  Y   SK에너지  강서구  37.555284   \n",
       "0       (주)석산에너지      서울 강북구 삼양로 316 (수유동)  1317.0  Y  현대오일뱅크  강북구  37.459906   \n",
       "1       북서울고속주유소      서울 강북구 삼양로 410 (수유동)  1317.0  Y   S-OIL  강북구  37.540657   \n",
       "1  서울석유(주)풀페이주유소       서울 구로구 경인로 41 (온수동)  1319.0  N   SK에너지  구로구  37.540657   \n",
       "0        처음처럼주유소      서울 구로구 오리로 1299 (궁동)  1319.0  N   S-OIL  구로구  37.459906   \n",
       "2    형산석유(주)원주유소          서울 양천구 남부순환로 408  1325.0  N  현대오일뱅크  양천구  37.555284   \n",
       "\n",
       "          lng  \n",
       "0  127.042060  \n",
       "0  127.042060  \n",
       "1  126.841506  \n",
       "0  127.042060  \n",
       "2  126.768567  \n",
       "0  127.042060  \n",
       "1  126.841506  \n",
       "1  126.841506  \n",
       "0  127.042060  \n",
       "2  126.768567  "
      ]
     },
     "execution_count": 83,
     "metadata": {},
     "output_type": "execute_result"
    }
   ],
   "source": [
    "lat = []\n",
    "lng = []\n",
    "\n",
    "for n in tqdm_notebook(oil_price_bottom10.index):\n",
    "    # 주소를 '(' 기준으로 나눠 첫번째 주소만 가져와라 \n",
    "    tmp_add = str(oil_price_bottom10['주소'][n]).split('(')[0]\n",
    "    # tmp_add를 기준으로 주소를 입력해라 \n",
    "    tmp_map = gmaps.geocode(tmp_add)\n",
    "\n",
    "    # tmp_map의 첫번째 값에서 'geometry'를 구하고, 거기에서 다시 'location'을 구해라\n",
    "    tmp_loc = tmp_map[0].get('geometry').get('location')\n",
    "    lat.append(tmp_loc['lat'])\n",
    "    lng.append(tmp_loc['lng'])\n",
    "\n",
    "# 각각 새로운 컬럼 형성 \n",
    "oil_price_bottom10['lat'] = lat\n",
    "oil_price_bottom10['lng'] = lng\n",
    "oil_price_bottom10"
   ]
  },
  {
   "cell_type": "markdown",
   "metadata": {},
   "source": [
    "하위 10개도 인덱스가 이상하네요. 병합하는 과정에서 인덱스를 재설정하지 않아서 이런 결과가 나타난 것 같아요. 이러면 이후가 문제가 생기게 돼요. 아래처럼 인덱스 별로 위도와 경도를 뽑아보면, 6번째 값부터 이상하게 추출이 되죠? 그러면 Folium에 넣었을 때 오류가 떠요!"
   ]
  },
  {
   "cell_type": "code",
   "execution_count": 84,
   "metadata": {},
   "outputs": [
    {
     "name": "stdout",
     "output_type": "stream",
     "text": [
      "[11    37.559693\n",
      "11    37.559693\n",
      "Name: lat, dtype: float64, 11    126.97112\n",
      "11    126.97112\n",
      "Name: lng, dtype: float64]\n",
      "[37.5570008, 126.9744945]\n",
      "[8    37.56085\n",
      "8    37.56085\n",
      "Name: lat, dtype: float64, 8    126.993653\n",
      "8    126.993653\n",
      "Name: lng, dtype: float64]\n",
      "[37.5616483, 126.9971419]\n",
      "[37.5522895, 126.9689354]\n",
      "[37.51763589999999, 127.0357559]\n",
      "[11    37.559693\n",
      "11    37.559693\n",
      "Name: lat, dtype: float64, 11    126.97112\n",
      "11    126.97112\n",
      "Name: lng, dtype: float64]\n",
      "[37.5346573, 127.0060631]\n",
      "[8    37.56085\n",
      "8    37.56085\n",
      "Name: lat, dtype: float64, 8    126.993653\n",
      "8    126.993653\n",
      "Name: lng, dtype: float64]\n",
      "[37.5744645, 126.9666181]\n"
     ]
    }
   ],
   "source": [
    "for n in oil_price_top10.index:\n",
    "    print([oil_price_top10['lat'][n], oil_price_top10['lng'][n]])"
   ]
  },
  {
   "cell_type": "markdown",
   "metadata": {},
   "source": [
    "문제 해결을 위해 index를 재설정해줍시다."
   ]
  },
  {
   "cell_type": "code",
   "execution_count": 85,
   "metadata": {},
   "outputs": [
    {
     "data": {
      "text/html": [
       "<div>\n",
       "<style scoped>\n",
       "    .dataframe tbody tr th:only-of-type {\n",
       "        vertical-align: middle;\n",
       "    }\n",
       "\n",
       "    .dataframe tbody tr th {\n",
       "        vertical-align: top;\n",
       "    }\n",
       "\n",
       "    .dataframe thead th {\n",
       "        text-align: right;\n",
       "    }\n",
       "</style>\n",
       "<table border=\"1\" class=\"dataframe\">\n",
       "  <thead>\n",
       "    <tr style=\"text-align: right;\">\n",
       "      <th></th>\n",
       "      <th>Oil_store</th>\n",
       "      <th>주소</th>\n",
       "      <th>가격</th>\n",
       "      <th>셀프</th>\n",
       "      <th>상표</th>\n",
       "      <th>구</th>\n",
       "      <th>lat</th>\n",
       "      <th>lng</th>\n",
       "    </tr>\n",
       "  </thead>\n",
       "  <tbody>\n",
       "    <tr>\n",
       "      <th>0</th>\n",
       "      <td>서남주유소</td>\n",
       "      <td>서울 중구 통일로 30</td>\n",
       "      <td>2202.0</td>\n",
       "      <td>N</td>\n",
       "      <td>SK에너지</td>\n",
       "      <td>중구</td>\n",
       "      <td>37.559693</td>\n",
       "      <td>126.971120</td>\n",
       "    </tr>\n",
       "    <tr>\n",
       "      <th>1</th>\n",
       "      <td>에스씨(주) 역전주유소</td>\n",
       "      <td>서울 중구 퇴계로 15</td>\n",
       "      <td>2138.0</td>\n",
       "      <td>N</td>\n",
       "      <td>GS칼텍스</td>\n",
       "      <td>중구</td>\n",
       "      <td>37.557001</td>\n",
       "      <td>126.974495</td>\n",
       "    </tr>\n",
       "    <tr>\n",
       "      <th>2</th>\n",
       "      <td>필동주유소</td>\n",
       "      <td>서울 중구  퇴계로 196 (필동2가)</td>\n",
       "      <td>2099.0</td>\n",
       "      <td>N</td>\n",
       "      <td>GS칼텍스</td>\n",
       "      <td>중구</td>\n",
       "      <td>37.560850</td>\n",
       "      <td>126.993653</td>\n",
       "    </tr>\n",
       "    <tr>\n",
       "      <th>3</th>\n",
       "      <td>SK에너지(주) 퇴계로주유소</td>\n",
       "      <td>서울 중구 퇴계로 228 (필동2가)</td>\n",
       "      <td>2099.0</td>\n",
       "      <td>N</td>\n",
       "      <td>SK에너지</td>\n",
       "      <td>중구</td>\n",
       "      <td>37.561648</td>\n",
       "      <td>126.997142</td>\n",
       "    </tr>\n",
       "    <tr>\n",
       "      <th>4</th>\n",
       "      <td>서계주유소</td>\n",
       "      <td>서울 용산구 청파로 367 (서계동)</td>\n",
       "      <td>2089.0</td>\n",
       "      <td>N</td>\n",
       "      <td>GS칼텍스</td>\n",
       "      <td>용산구</td>\n",
       "      <td>37.552290</td>\n",
       "      <td>126.968935</td>\n",
       "    </tr>\n",
       "    <tr>\n",
       "      <th>5</th>\n",
       "      <td>뉴서울(강남)</td>\n",
       "      <td>서울 강남구 언주로 716 (논현동)</td>\n",
       "      <td>2025.0</td>\n",
       "      <td>N</td>\n",
       "      <td>SK에너지</td>\n",
       "      <td>강남구</td>\n",
       "      <td>37.517636</td>\n",
       "      <td>127.035756</td>\n",
       "    </tr>\n",
       "    <tr>\n",
       "      <th>6</th>\n",
       "      <td>에너비스</td>\n",
       "      <td>서울 용산구 한남대로 82 (한남동)</td>\n",
       "      <td>1998.0</td>\n",
       "      <td>N</td>\n",
       "      <td>SK에너지</td>\n",
       "      <td>용산구</td>\n",
       "      <td>37.559693</td>\n",
       "      <td>126.971120</td>\n",
       "    </tr>\n",
       "    <tr>\n",
       "      <th>7</th>\n",
       "      <td>한남지점</td>\n",
       "      <td>서울 용산구 한남대로21길 4 (한남동)</td>\n",
       "      <td>1998.0</td>\n",
       "      <td>N</td>\n",
       "      <td>SK에너지</td>\n",
       "      <td>용산구</td>\n",
       "      <td>37.534657</td>\n",
       "      <td>127.006063</td>\n",
       "    </tr>\n",
       "    <tr>\n",
       "      <th>8</th>\n",
       "      <td>(주)중앙에너비스 혜화주유소</td>\n",
       "      <td>서울 종로구 창경궁로35길 1</td>\n",
       "      <td>1998.0</td>\n",
       "      <td>N</td>\n",
       "      <td>SK에너지</td>\n",
       "      <td>종로구</td>\n",
       "      <td>37.560850</td>\n",
       "      <td>126.993653</td>\n",
       "    </tr>\n",
       "    <tr>\n",
       "      <th>9</th>\n",
       "      <td>(주)대양씨앤씨 사직주유소</td>\n",
       "      <td>서울 종로구 사직로 65 (사직동)</td>\n",
       "      <td>1998.0</td>\n",
       "      <td>N</td>\n",
       "      <td>GS칼텍스</td>\n",
       "      <td>종로구</td>\n",
       "      <td>37.574464</td>\n",
       "      <td>126.966618</td>\n",
       "    </tr>\n",
       "  </tbody>\n",
       "</table>\n",
       "</div>"
      ],
      "text/plain": [
       "         Oil_store                      주소      가격 셀프     상표    구        lat  \\\n",
       "0            서남주유소            서울 중구 통일로 30  2202.0  N  SK에너지   중구  37.559693   \n",
       "1     에스씨(주) 역전주유소            서울 중구 퇴계로 15  2138.0  N  GS칼텍스   중구  37.557001   \n",
       "2            필동주유소   서울 중구  퇴계로 196 (필동2가)  2099.0  N  GS칼텍스   중구  37.560850   \n",
       "3  SK에너지(주) 퇴계로주유소    서울 중구 퇴계로 228 (필동2가)  2099.0  N  SK에너지   중구  37.561648   \n",
       "4            서계주유소    서울 용산구 청파로 367 (서계동)  2089.0  N  GS칼텍스  용산구  37.552290   \n",
       "5          뉴서울(강남)    서울 강남구 언주로 716 (논현동)  2025.0  N  SK에너지  강남구  37.517636   \n",
       "6             에너비스    서울 용산구 한남대로 82 (한남동)  1998.0  N  SK에너지  용산구  37.559693   \n",
       "7             한남지점  서울 용산구 한남대로21길 4 (한남동)  1998.0  N  SK에너지  용산구  37.534657   \n",
       "8  (주)중앙에너비스 혜화주유소        서울 종로구 창경궁로35길 1  1998.0  N  SK에너지  종로구  37.560850   \n",
       "9   (주)대양씨앤씨 사직주유소     서울 종로구 사직로 65 (사직동)  1998.0  N  GS칼텍스  종로구  37.574464   \n",
       "\n",
       "          lng  \n",
       "0  126.971120  \n",
       "1  126.974495  \n",
       "2  126.993653  \n",
       "3  126.997142  \n",
       "4  126.968935  \n",
       "5  127.035756  \n",
       "6  126.971120  \n",
       "7  127.006063  \n",
       "8  126.993653  \n",
       "9  126.966618  "
      ]
     },
     "execution_count": 85,
     "metadata": {},
     "output_type": "execute_result"
    }
   ],
   "source": [
    "oil_price_top10.reset_index(inplace=True)\n",
    "oil_price_top10.drop('index',1,inplace=True)\n",
    "oil_price_top10"
   ]
  },
  {
   "cell_type": "code",
   "execution_count": 86,
   "metadata": {},
   "outputs": [
    {
     "name": "stdout",
     "output_type": "stream",
     "text": [
      "[37.5596928, 126.9711197]\n",
      "[37.5570008, 126.9744945]\n",
      "[37.56084999999999, 126.9936529]\n",
      "[37.5616483, 126.9971419]\n",
      "[37.5522895, 126.9689354]\n",
      "[37.51763589999999, 127.0357559]\n",
      "[37.5596928, 126.9711197]\n",
      "[37.5346573, 127.0060631]\n",
      "[37.56084999999999, 126.9936529]\n",
      "[37.5744645, 126.9666181]\n"
     ]
    }
   ],
   "source": [
    "for n in oil_price_top10.index:\n",
    "    print([oil_price_top10['lat'][n], oil_price_top10['lng'][n]])"
   ]
  },
  {
   "cell_type": "markdown",
   "metadata": {},
   "source": [
    "이제 잘 도출 되네요! 그럼 하위 10개도 수정해 줍시다."
   ]
  },
  {
   "cell_type": "code",
   "execution_count": 87,
   "metadata": {},
   "outputs": [
    {
     "data": {
      "text/html": [
       "<div>\n",
       "<style scoped>\n",
       "    .dataframe tbody tr th:only-of-type {\n",
       "        vertical-align: middle;\n",
       "    }\n",
       "\n",
       "    .dataframe tbody tr th {\n",
       "        vertical-align: top;\n",
       "    }\n",
       "\n",
       "    .dataframe thead th {\n",
       "        text-align: right;\n",
       "    }\n",
       "</style>\n",
       "<table border=\"1\" class=\"dataframe\">\n",
       "  <thead>\n",
       "    <tr style=\"text-align: right;\">\n",
       "      <th></th>\n",
       "      <th>Oil_store</th>\n",
       "      <th>주소</th>\n",
       "      <th>가격</th>\n",
       "      <th>셀프</th>\n",
       "      <th>상표</th>\n",
       "      <th>구</th>\n",
       "      <th>lat</th>\n",
       "      <th>lng</th>\n",
       "    </tr>\n",
       "  </thead>\n",
       "  <tbody>\n",
       "    <tr>\n",
       "      <th>0</th>\n",
       "      <td>만남의광장주유소</td>\n",
       "      <td>서울 서초구 양재대로12길 73-71</td>\n",
       "      <td>1306.0</td>\n",
       "      <td>Y</td>\n",
       "      <td>알뜰(ex)</td>\n",
       "      <td>서초구</td>\n",
       "      <td>37.459906</td>\n",
       "      <td>127.042060</td>\n",
       "    </tr>\n",
       "    <tr>\n",
       "      <th>1</th>\n",
       "      <td>뉴신정주유소</td>\n",
       "      <td>서울 강서구 곰달래로 207(화곡동)</td>\n",
       "      <td>1308.0</td>\n",
       "      <td>N</td>\n",
       "      <td>알뜰주유소</td>\n",
       "      <td>강서구</td>\n",
       "      <td>37.459906</td>\n",
       "      <td>127.042060</td>\n",
       "    </tr>\n",
       "    <tr>\n",
       "      <th>2</th>\n",
       "      <td>화곡역주유소</td>\n",
       "      <td>서울특별시 강서구  강서로 154 (화곡동)</td>\n",
       "      <td>1308.0</td>\n",
       "      <td>Y</td>\n",
       "      <td>알뜰주유소</td>\n",
       "      <td>강서구</td>\n",
       "      <td>37.540657</td>\n",
       "      <td>126.841506</td>\n",
       "    </tr>\n",
       "    <tr>\n",
       "      <th>3</th>\n",
       "      <td>현대주유소</td>\n",
       "      <td>서울 양천구 남부순환로 372 (신월동)</td>\n",
       "      <td>1316.0</td>\n",
       "      <td>Y</td>\n",
       "      <td>S-OIL</td>\n",
       "      <td>양천구</td>\n",
       "      <td>37.459906</td>\n",
       "      <td>127.042060</td>\n",
       "    </tr>\n",
       "    <tr>\n",
       "      <th>4</th>\n",
       "      <td>강서오곡셀프주유소</td>\n",
       "      <td>서울 강서구 벌말로 254 (오곡동)</td>\n",
       "      <td>1317.0</td>\n",
       "      <td>Y</td>\n",
       "      <td>SK에너지</td>\n",
       "      <td>강서구</td>\n",
       "      <td>37.555284</td>\n",
       "      <td>126.768567</td>\n",
       "    </tr>\n",
       "    <tr>\n",
       "      <th>5</th>\n",
       "      <td>(주)석산에너지</td>\n",
       "      <td>서울 강북구 삼양로 316 (수유동)</td>\n",
       "      <td>1317.0</td>\n",
       "      <td>Y</td>\n",
       "      <td>현대오일뱅크</td>\n",
       "      <td>강북구</td>\n",
       "      <td>37.459906</td>\n",
       "      <td>127.042060</td>\n",
       "    </tr>\n",
       "    <tr>\n",
       "      <th>6</th>\n",
       "      <td>북서울고속주유소</td>\n",
       "      <td>서울 강북구 삼양로 410 (수유동)</td>\n",
       "      <td>1317.0</td>\n",
       "      <td>Y</td>\n",
       "      <td>S-OIL</td>\n",
       "      <td>강북구</td>\n",
       "      <td>37.540657</td>\n",
       "      <td>126.841506</td>\n",
       "    </tr>\n",
       "    <tr>\n",
       "      <th>7</th>\n",
       "      <td>서울석유(주)풀페이주유소</td>\n",
       "      <td>서울 구로구 경인로 41 (온수동)</td>\n",
       "      <td>1319.0</td>\n",
       "      <td>N</td>\n",
       "      <td>SK에너지</td>\n",
       "      <td>구로구</td>\n",
       "      <td>37.540657</td>\n",
       "      <td>126.841506</td>\n",
       "    </tr>\n",
       "    <tr>\n",
       "      <th>8</th>\n",
       "      <td>처음처럼주유소</td>\n",
       "      <td>서울 구로구 오리로 1299 (궁동)</td>\n",
       "      <td>1319.0</td>\n",
       "      <td>N</td>\n",
       "      <td>S-OIL</td>\n",
       "      <td>구로구</td>\n",
       "      <td>37.459906</td>\n",
       "      <td>127.042060</td>\n",
       "    </tr>\n",
       "    <tr>\n",
       "      <th>9</th>\n",
       "      <td>형산석유(주)원주유소</td>\n",
       "      <td>서울 양천구 남부순환로 408</td>\n",
       "      <td>1325.0</td>\n",
       "      <td>N</td>\n",
       "      <td>현대오일뱅크</td>\n",
       "      <td>양천구</td>\n",
       "      <td>37.555284</td>\n",
       "      <td>126.768567</td>\n",
       "    </tr>\n",
       "  </tbody>\n",
       "</table>\n",
       "</div>"
      ],
      "text/plain": [
       "       Oil_store                        주소      가격 셀프      상표    구        lat  \\\n",
       "0       만남의광장주유소      서울 서초구 양재대로12길 73-71  1306.0  Y  알뜰(ex)  서초구  37.459906   \n",
       "1         뉴신정주유소      서울 강서구 곰달래로 207(화곡동)  1308.0  N   알뜰주유소  강서구  37.459906   \n",
       "2         화곡역주유소  서울특별시 강서구  강서로 154 (화곡동)  1308.0  Y   알뜰주유소  강서구  37.540657   \n",
       "3          현대주유소    서울 양천구 남부순환로 372 (신월동)  1316.0  Y   S-OIL  양천구  37.459906   \n",
       "4      강서오곡셀프주유소      서울 강서구 벌말로 254 (오곡동)  1317.0  Y   SK에너지  강서구  37.555284   \n",
       "5       (주)석산에너지      서울 강북구 삼양로 316 (수유동)  1317.0  Y  현대오일뱅크  강북구  37.459906   \n",
       "6       북서울고속주유소      서울 강북구 삼양로 410 (수유동)  1317.0  Y   S-OIL  강북구  37.540657   \n",
       "7  서울석유(주)풀페이주유소       서울 구로구 경인로 41 (온수동)  1319.0  N   SK에너지  구로구  37.540657   \n",
       "8        처음처럼주유소      서울 구로구 오리로 1299 (궁동)  1319.0  N   S-OIL  구로구  37.459906   \n",
       "9    형산석유(주)원주유소          서울 양천구 남부순환로 408  1325.0  N  현대오일뱅크  양천구  37.555284   \n",
       "\n",
       "          lng  \n",
       "0  127.042060  \n",
       "1  127.042060  \n",
       "2  126.841506  \n",
       "3  127.042060  \n",
       "4  126.768567  \n",
       "5  127.042060  \n",
       "6  126.841506  \n",
       "7  126.841506  \n",
       "8  127.042060  \n",
       "9  126.768567  "
      ]
     },
     "execution_count": 87,
     "metadata": {},
     "output_type": "execute_result"
    }
   ],
   "source": [
    "oil_price_bottom10.reset_index(inplace=True)\n",
    "oil_price_bottom10.drop('index',1,inplace=True)\n",
    "oil_price_bottom10"
   ]
  },
  {
   "cell_type": "code",
   "execution_count": 88,
   "metadata": {},
   "outputs": [
    {
     "name": "stdout",
     "output_type": "stream",
     "text": [
      "[37.4599063, 127.0420601]\n",
      "[37.4599063, 127.0420601]\n",
      "[37.54065689999999, 126.8415062]\n",
      "[37.4599063, 127.0420601]\n",
      "[37.5552839, 126.7685674]\n",
      "[37.4599063, 127.0420601]\n",
      "[37.54065689999999, 126.8415062]\n",
      "[37.54065689999999, 126.8415062]\n",
      "[37.4599063, 127.0420601]\n",
      "[37.5552839, 126.7685674]\n"
     ]
    }
   ],
   "source": [
    "for n in oil_price_bottom10.index:\n",
    "    print([oil_price_bottom10['lat'][n], oil_price_bottom10['lng'][n]])"
   ]
  },
  {
   "cell_type": "markdown",
   "metadata": {},
   "source": [
    "정리가 끝났으니, 지도에 시각화를 해볼 차례네요!"
   ]
  },
  {
   "cell_type": "code",
   "execution_count": 89,
   "metadata": {},
   "outputs": [
    {
     "data": {
      "text/html": [
       "<div style=\"width:100%;\"><div style=\"position:relative;width:100%;height:0;padding-bottom:60%;\"><span style=\"color:#565656\">Make this Notebook Trusted to load map: File -> Trust Notebook</span><iframe src=\"about:blank\" style=\"position:absolute;width:100%;height:100%;left:0;top:0;border:none !important;\" data-html=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 onload=\"this.contentDocument.open();this.contentDocument.write(atob(this.getAttribute('data-html')));this.contentDocument.close();\" allowfullscreen webkitallowfullscreen mozallowfullscreen></iframe></div></div>"
      ],
      "text/plain": [
       "<folium.folium.Map at 0x7fb26a50de10>"
      ]
     },
     "execution_count": 89,
     "metadata": {},
     "output_type": "execute_result"
    }
   ],
   "source": [
    "map = folium.Map(location=[37.5202, 126.975], zoom_start=10.5)\n",
    "\n",
    "for n in oil_price_top10.index:\n",
    "    if pd.notnull(oil_price_top10['lat'][n]):\n",
    "        folium.CircleMarker([oil_price_top10['lat'][n], oil_price_top10['lng'][n]], \n",
    "                                  radius=15, color='#CD3181', \n",
    "                                  fill_color='#CD3181',\n",
    "                                  fill=True).add_to(map)\n",
    "    \n",
    "for n in oil_price_bottom10.index:\n",
    "    if pd.notnull(oil_price_bottom10['lat'][n]): \n",
    "        folium.CircleMarker([oil_price_bottom10['lat'][n], \n",
    "                                  oil_price_bottom10['lng'][n]], \n",
    "                                  radius=15, color='#3186cc', \n",
    "                                  fill_color='#3186cc',\n",
    "                                  fill=True).add_to(map)\n",
    "        \n",
    "map"
   ]
  },
  {
   "cell_type": "markdown",
   "metadata": {},
   "source": [
    "대체로 용산구, 중구에 비싼 주유소가 몰려있고, 강서구, 서초구(ㅋㅋㅋ) 등에 싼 주유소가 위치해 있다는 걸 알 수 있네요.\n",
    "\n",
    "### 마치며\n",
    "\n",
    "어떠셨나요? Selenium 환경 구축부터 짜증이 나진 않으셨나요ㅠㅋㅋㅋㅋ 그래도 이전에 배운 것들을 많이 활용하는 주차였다보니 그동안 배운 게 합쳐지는 느낌이 드셨을 것 같아요. 이젠 익숙해진 pandas, 간지나는 folium, 혹시나 과금될까 벌벌 떨며 사용하게 되는 google maps 등등... 남은 주차들에서 반복해서 툴들을 사용하시다 보면 커리가 끝날 때 쯤엔 데이터를 보고 아 어느 툴을 사용하면 되겠구나, 떠올리는 자신을 찾으실 수 있을 거에요. 그때까지 다들 화이팅해서 달려봐요! (중간에 지쳐 그만두는 것만큼 아쉬운 게 없어요ㅠㅜ) 💪🏼💪🏼💪🏼"
   ]
  }
 ],
 "metadata": {
  "kernelspec": {
   "display_name": "Python 3",
   "language": "python",
   "name": "python3"
  },
  "language_info": {
   "codemirror_mode": {
    "name": "ipython",
    "version": 3
   },
   "file_extension": ".py",
   "mimetype": "text/x-python",
   "name": "python",
   "nbconvert_exporter": "python",
   "pygments_lexer": "ipython3",
   "version": "3.8.5"
  }
 },
 "nbformat": 4,
 "nbformat_minor": 4
}
