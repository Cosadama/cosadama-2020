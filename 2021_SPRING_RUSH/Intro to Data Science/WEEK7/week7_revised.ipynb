{
  "nbformat": 4,
  "nbformat_minor": 0,
  "metadata": {
    "kernelspec": {
      "display_name": "Python 3",
      "language": "python",
      "name": "python3"
    },
    "language_info": {
      "codemirror_mode": {
        "name": "ipython",
        "version": 3
      },
      "file_extension": ".py",
      "mimetype": "text/x-python",
      "name": "python",
      "nbconvert_exporter": "python",
      "pygments_lexer": "ipython3",
      "version": "3.8.5"
    },
    "colab": {
      "name": "week7_revised.ipynb",
      "provenance": [],
      "collapsed_sections": [
        "h7Y5hEL4Luxs",
        "a1ywYEdoLuyC",
        "IDht11FtLuyG",
        "toLbnT2xLuyK",
        "zk-pC1kBLuyY",
        "zEsBeev-Luyb",
        "a5DxQpfqLuyf",
        "gafOG2a8Luyx"
      ]
    }
  },
  "cells": [
    {
      "cell_type": "markdown",
      "metadata": {
        "id": "U6c_AJ8MLuwo"
      },
      "source": [
        "# 🦉COSADAMA Introduction to Data Science Study\n",
        "\n",
        "- 작성자: 박하람 \n",
        "- 참고자료: 파이썬으로 데이터 주무르기(민형기)\n",
        "- 교재: 169 - 198쪽 (깃헙 교안으로 공부하면서, 궁금한 부분은 교재를 참고하세요. 혹은 깃헙 교안을 다 보고 교재를 복습 겸 읽어봐도 됩니다!)\n",
        "\n",
        "## 6. 셀프 주유소는 정말 저렴할까\n",
        "\n",
        " 오늘은 저번 주에 배운 웹 크롤링 BeautifulSoup을 다시 활용해볼 것이구요, urllib 라이브러리 대신 Selenium을 사용해 urllib으로 크롤링이 불가능한 사이트를 크롤링해보려 합니다. 더불어 pandas, Google Maps, Folium과 Seaborn 등도 모두 다시 활용해 볼 것이에요. 좋은 리뷰가 될 것 같죠?💖\n",
        "\n",
        "이번 프로젝트는 '셀프 주유소는 정말로 저렴한지'를 팩트 체크해보는 것입니다. 한국석유공사 오피넷에서 Selenium으로 데이터를 크롤링해볼 것이구요, 엑셀파일에 담아 glob 모듈을 활용해 다수의 엑셀파일을 위치를 찾아 읽어보는 것까지 해볼 겁니다. 또한 박스 플롯으로 시각화해 실제로 셀프 주유소가 저렴한지 알아보고, 대체적으로 휘발유 값이 저렴한 구는 어디인지 Google Maps와 Folium으로 시각화해볼 겁니다.(익숙하죵?ㅎㅎ) 마지막으로는 주유소 가격 상하위 10개를 뽑아 지도에 시각화해 볼 것이랍니다. 이번 주차도 매우 흥미로운 주제이나, 다만 Selenium을 활용하는 것이 어려울 수 있어요. 그러니 궁금한 것이나 막히는 부분이 있다면 언제든 슬랙으로 질문해주세요! 그럼 이번 주차 공부도 시작합니다🐻\n",
        "\n",
        "### 6.1 Selenium 사용하기\n",
        "\n",
        "지난 시간에는 urllib을 활용해서 정보를 가져왔어요. 하지만 이번에는 urllib 라이브러리를 사용해 크롤링할 수 없기 때문에 이 때 사용하는 Selenium를 배워보려고 합니다. \n",
        "\n",
        "현재 교안은 jupyter notebook 기준으로 작성되었습니다. 따라서 colab으로 실습하는 경우 driver 설정하는 부분이 조금 다릅니다. 코드를 진행하는데는 큰 차이가 없습니다. 하지만 Selenium은 jupyter notebook으로 공부하시는걸 추천드려요. colab은 따로 설정이 필요하고, 실습 시 크롤링하는 창이 새로 지원되지 않기 때문입니다:( 크롤링을 했는데 코드대로 드라이버가 실행되는 모습을 볼 수 없다는 의미죠.\n",
        "\n",
        "그럼에도 불구하고 colab으로 진행하려고 한다면 driver 설정을 다음과 같이 수정하시면 됩니다."
      ]
    },
    {
      "cell_type": "code",
      "metadata": {
        "id": "1CTx8mtML4ut"
      },
      "source": [
        "# step1\n",
        "!apt-get update\n",
        "!apt install chromium-chromedriver\n",
        "!cp /usr/lib/chromium-browser/chromedriver /usr/bin\n",
        "!pip install selenium\n",
        "\n",
        "# step2\n",
        "from selenium import webdriver\n",
        "options = webdriver.ChromeOptions()\n",
        "options.add_argument('--headless')\n",
        "options.add_argument('--no-sandbox')\n",
        "options.add_argument('--disable-dev-shm-usage')\n",
        "\n",
        "# step3\n",
        "driver = webdriver.Chrome('chromedriver',options=options)"
      ],
      "execution_count": null,
      "outputs": []
    },
    {
      "cell_type": "markdown",
      "metadata": {
        "id": "oylQNlLcL1c1"
      },
      "source": [
        "\n",
        "주유소 가격과 위치를 끌어오려면, 주유소 정보들이 있는 opinet 사이트를 이용할 수 있습니다. \n",
        "\n",
        "- [opinet - 싼 주유소 찾기 - 지역별](http://www.opinet.co.kr/searRgSelect.do): 이 페이지를 선택하면 opinet 사이트가 나올 것이에요. 여기에서 싼 주유소 찾기를 누르고, 지역별을 누르면 우리가 얻고자 하는 사이트가 나와요. \n",
        "\n",
        "그런데 문제는 이렇게 지역별 사이트에 들어가도, url 주소가 달라지지 않았기 때문에 해당 url을 복사해 다시 로드하면 Opinet 처음 사이트로 돌아가게 된답니다. 그럴 때에는 url 주소만 있으면 되는 urllib를 사용할 수 없겠죠. 그렇게 해서 사용하는 것이 바로 Selenium입니다.\n",
        "\n",
        "#### Selenium 설치와 웹 드라이버 \n",
        "\n",
        "Selenium은 터미널에 pip로 설치하시면 됩니다. 그러나 Selenium을 사용하기 위해서는 사용하는 브라우저에 맞춰 웹 드라이버를 다운 받아야 해요. 본인이 사파리를 쓰시면 사파리 웹 드라이버를, 크롬을 쓰시는 크롬 웹 드라이버를 쓰시면 돼요. 저는 크롬 드라이버가 더 깔기 편해서 크롬 드라이버를 추천드려요. \n",
        "\n",
        "- pip install selenium 터미널에 입력 \n",
        "- [본인에게 맞는 웹브라우저 별로 드라이브 설치 - 경로설정 주의](https://sacko.tistory.com/13)\n",
        "\n",
        "웹 브라우저를 다운받으신 후, data나 소스코드가 있는 폴더에 drive를 압축 해제해주시면 된답니다.(교재 171쪽) 이 때 파일경로가 중요한데요, 파일경로를 확인하는 방법은 아주 간단하게 Terminal(명령 프롬프트)을 열고 drive 파일을 터미널에 끌어 올려다 넣으시면 이동경로가 나타나게 됩니다. 아래 분홍색이 이동경로에요. 윈도우 사용하시는 분들은 아래쪽 이미지 흰 부분을 사용하시면 됩니다.('>' 앞부분은 제거해주기!)\n",
        "\n",
        "![파일 경로](images/file_path_img.png)\n",
        "\n",
        "![윈도우 파일 경로](images/win_file_path_.png)\n",
        "\n",
        "이동경로를 기억해 두시고 먼저 selenium을 import 해보겠습니다."
      ]
    },
    {
      "cell_type": "code",
      "metadata": {
        "id": "MhQ_Ay2ULuwr",
        "outputId": "0caf8e02-a3c3-4623-8d36-3268e1762249"
      },
      "source": [
        "pip install selenium"
      ],
      "execution_count": null,
      "outputs": [
        {
          "output_type": "stream",
          "text": [
            "Collecting selenium\n",
            "  Downloading selenium-3.141.0-py2.py3-none-any.whl (904 kB)\n",
            "Requirement already satisfied: urllib3 in c:\\anaconda3\\lib\\site-packages (from selenium) (1.25.11)\n",
            "Installing collected packages: selenium\n",
            "Successfully installed selenium-3.141.0\n",
            "Note: you may need to restart the kernel to use updated packages.\n"
          ],
          "name": "stdout"
        }
      ]
    },
    {
      "cell_type": "code",
      "metadata": {
        "id": "zwXvjr5aLuw5"
      },
      "source": [
        "from selenium import webdriver"
      ],
      "execution_count": null,
      "outputs": []
    },
    {
      "cell_type": "markdown",
      "metadata": {
        "id": "6X3PWF-4Luw6"
      },
      "source": [
        "이동경로를 아래에다 넣어주고, get에다가는 원하는 사이트의 주소를 입력합니다."
      ]
    },
    {
      "cell_type": "code",
      "metadata": {
        "id": "50uX1JRJLuw6"
      },
      "source": [
        "driver = webdriver.Chrome('C:/Users/jung6/Documents/chromedriver_win32/chromedriver.exe') # 본인의 파일경로 입력하기\n",
        "#driver = webdriver.Chrome(executable_path= r'Users/jung6/Documents/chromedriver_win32')\n",
        "\n",
        "driver.get(\"https://nid.naver.com/nidlogin.login?mode=form&url=https%3A%2F%2Fwww.naver.com\")"
      ],
      "execution_count": null,
      "outputs": []
    },
    {
      "cell_type": "code",
      "metadata": {
        "id": "6rG0_QI2Luw7"
      },
      "source": [
        "# colab 사용하시는 분들은 아래 코드로 진행\n",
        "\n",
        "driver = webdriver.Chrome('chromedriver',options=options)\n",
        "driver.get(\"https://nid.naver.com/nidlogin.login?mode=form&url=https%3A%2F%2Fwww.naver.com\")"
      ],
      "execution_count": null,
      "outputs": []
    },
    {
      "cell_type": "markdown",
      "metadata": {
        "id": "QOBmx41aLuxA"
      },
      "source": [
        "#### Selenium으로 Naver 로그인하기 \n",
        "\n",
        "어, 그러니까 갑자기 새로운 화면창이 떴죠? 위에 'Chrome이 자동화된 테스트 소프트웨어에 의해 제어되고 있습니다.'라고 하는게 뜨면 잘 된 것이랍니다. 웬만하면 이 화면은 직접 건들이지 않고, Selenium이 만지게 하는게 좋아요.(코드를 작성할 때 혼선이 생길 수 있기 때문) \n",
        "\n",
        "스크린샷을 하고 싶다면 아래와 같은 명령을 사용하면 됩니다."
      ]
    },
    {
      "cell_type": "code",
      "metadata": {
        "id": "Wfz3_ZxxLuxB",
        "outputId": "fdd95188-f080-43ed-8364-30d830f37630"
      },
      "source": [
        "# 스크린샷 - 파일 경로 확인, 확장자 확인, 미리 images 폴더 만들어놓아야 함\n",
        "driver.save_screenshot('001.png')"
      ],
      "execution_count": null,
      "outputs": [
        {
          "output_type": "execute_result",
          "data": {
            "text/plain": [
              "True"
            ]
          },
          "metadata": {
            "tags": []
          },
          "execution_count": 20
        }
      ]
    },
    {
      "cell_type": "markdown",
      "metadata": {
        "id": "5xyzXFC7LuxK"
      },
      "source": [
        "![파일 경로](images/001.png)\n",
        "\n",
        "이렇게 나오면 잘 캡처가 되었다고 할 수 있죠. colab 사용하시는 분들은 창으로 나타나지 않으실거예요. 그럼 이제 Selenium으로 로그인을 해보도록 할게요. 로그인을 하려면, 크롬 개발자 도구를 사용해 아이디와 패스워드가 적힌 곳의 id를 알아야 해요. 잘 기억이 안난다면 136-138쪽을 보시구요, 이번에는 find_element_by_id를 사용해서 id를 찾는 것이랍니다!"
      ]
    },
    {
      "cell_type": "code",
      "metadata": {
        "id": "FlgUjkL3LuxL"
      },
      "source": [
        "elem_login = driver.find_element_by_id(\"id\")\n",
        "elem_login.clear()  # 미리 입력된 글자를 지워주는 것(자동로그인 경우)\n",
        "elem_login.send_keys(\"********\")\n",
        "\n",
        "elem_login = driver.find_element_by_id(\"pw\")\n",
        "elem_login.clear()\n",
        "elem_login.send_keys(\"**********\")"
      ],
      "execution_count": null,
      "outputs": []
    },
    {
      "cell_type": "markdown",
      "metadata": {
        "id": "nWNlLdbJLuxL"
      },
      "source": [
        "![파일 경로](images/002.png)\n",
        "\n",
        "이렇게 스스로 적혀져 있다면 잘 하셨습니다. 그 다음에는 로그인을 눌러야 클릭이 되잖아요? 그 클릭하는 방법은 xpath를 찾아서 클릭하는 방법이에요. 교재 174-175쪽을 보면 xpath copy를 하는 방법을 알 수 있어요. 그렇게 복사한 xpath을 아래에다 적어주시면 됩니다.\n",
        "\n",
        "만약 네이버, 다음 등 이메일 아이디가 없으시다면 계정을 만들 필요는 없습니다. 코드를 보고 따라오세요!"
      ]
    },
    {
      "cell_type": "code",
      "metadata": {
        "id": "b9XAu3wqLuxL"
      },
      "source": [
        "xpath = \"\"\"//*[@id=\"log.login\"]\"\"\"\n",
        "driver.find_element_by_xpath(xpath).click() # xpath 위치를 클릭해라"
      ],
      "execution_count": null,
      "outputs": []
    },
    {
      "cell_type": "markdown",
      "metadata": {
        "id": "0MRhlFesLuxM"
      },
      "source": [
        "![003](images/003.png)\n",
        "\n",
        "엇, 로그인을 했는데 이렇게 막히네요. 이게 바로 캡차라는 기술인데요, 요렇게 자동으로 로그인이 되는 것을 막기 위해서 컴퓨터를 이용해 로그인 했다고 의심이 되는 로그인은 캡차로 인증하게 합니다. 네이버에서 매크로로 댓글 조작을 했니 어쨌니 이런 논란이 많았잖아요. 네이버는 아무래도 사측에서 암묵적으로 가담했다는 증거를 피하기 위해서 혹은 해킹이 쉽게 되지 않기 위해서 이런 캡차를 해놓은 것이랍니다. \n",
        "\n",
        "여담으로 캡차는 고서를 찍어서 올리는 경우도 있는데요, 이런 캡차도 있지만, 다른 캡차들 중에는 고서에서 컴퓨터가 알아보기 힘들지만, 사람은 입력할 수 있는 단어를 찍어서 올리기도 해요. 그래서 그 데이터를 쌓아서 충분한 데이터가 모이면 컴퓨터도 이제 그것을 읽을 수 있도록 학습하는 거죠. 신기하죵😉\n",
        "\n",
        "#### Selenium으로 다음 사이트 로그인하기 \n",
        "\n",
        "Anyway, 캡차를 피해가는 방법도 있지만, 이게 네이버에서 수시로 피해가는 방법을 막아버리기도 하고, 캡차를 넘어서면서까지 크롤링할 필요는 아직 없어서 다음 사이트에서 로그인을 해볼게요. 앞서 어떻게 사용하는지 알았으니, 다음 로그인 페이지는 아이디와 패스워드를 입력해 클릭하는 것까지 생각해보시고 그 다음 코드를 보면 더 좋을 것 같네요! \n",
        "\n",
        "- [다음 로그인 사이트](https://accounts.kakao.com/login?continue=https%3A%2F%2Flogins.daum.net%2Faccounts%2Fksso.do%3Frescue%3Dtrue%26url%3Dhttps%253A%252F%252Fwww.daum.net%252F)"
      ]
    },
    {
      "cell_type": "code",
      "metadata": {
        "id": "FV7HXP8NLuxV"
      },
      "source": [
        "from selenium import webdriver\n",
        "import time\n",
        "\n",
        "driver = webdriver.Chrome('C:/Users/jung6/Documents/chromedriver_win32/chromedriver.exe')\n",
        "driver.get(\"https://accounts.kakao.com/login?continue=https%3A%2F%2Flogins.daum.net%2Faccounts%2Fksso.do%3Frescue%3Dtrue%26url%3Dhttps%253A%252F%252Fwww.daum.net%252F\")\n",
        "\n",
        "elem_login = driver.find_element_by_id(\"id_email_2\")\n",
        "elem_login.clear()\n",
        "elem_login.send_keys(\"**********\")\n",
        "time.sleep(3)\n",
        "\n",
        "elem_login = driver.find_element_by_id(\"id_password_3\")\n",
        "elem_login.clear()\n",
        "elem_login.send_keys(\"**********\")\n",
        "time.sleep(3)\n",
        "\n",
        "xpath = \"\"\"//*[@id=\"login-form\"]/fieldset/div[8]/button\"\"\"\n",
        "driver.find_element_by_xpath(xpath).click()"
      ],
      "execution_count": null,
      "outputs": []
    },
    {
      "cell_type": "markdown",
      "metadata": {
        "id": "JQ9uEz21LuxY"
      },
      "source": [
        "![image](images/004.png)\n",
        "\n",
        "이렇게 나오면 성공! \n",
        "\n",
        "#### 다음 메일 사용자 정보 얻기\n",
        "그 다음에는 메일에 들어가 메일 사용자들을 크롤링해보려 합니다. 그럼 메일 사이트에 접근해야겠죠? Xpath를 이용해 클릭할 수 있겠지만, 아래처럼 바로 메일 사이트에 접근할 수 있어요."
      ]
    },
    {
      "cell_type": "code",
      "metadata": {
        "id": "TQe5Kj2CLuxZ"
      },
      "source": [
        "# 메일 접근 \n",
        "driver.get(\"https://mail.daum.net/\")"
      ],
      "execution_count": null,
      "outputs": []
    },
    {
      "cell_type": "markdown",
      "metadata": {
        "id": "v6XHR0ljLuxa"
      },
      "source": [
        "![이메일 접근](images/005.png)\n",
        "\n",
        "위와 같이 나오면 된겁니다. 여기에서 저렇게 빨간색 네모칸에 있는 이메일 보낸 이들을 추출해보려고 합니다. (안 쓰는 메일이라...ㅋㅋㅋㅋㅋ 코어벨 이런거 밖에 없네요.) 그 다음은 익숙한 BeautifulSoup으로 가공해주면 됩니다! "
      ]
    },
    {
      "cell_type": "code",
      "metadata": {
        "id": "ov5j2zLkLuxa"
      },
      "source": [
        "from bs4 import BeautifulSoup\n",
        "\n",
        "html = driver.page_source # 현재 접근한 페이지의 소스를 받을 수 있음.\n",
        "soup = BeautifulSoup(html, 'html.parser')"
      ],
      "execution_count": null,
      "outputs": []
    },
    {
      "cell_type": "markdown",
      "metadata": {
        "id": "UsC9O2KXLuxb"
      },
      "source": [
        "크롬 개발자 도구를 사용해서 태그가 무엇이고 class는 뭔지도 알아내볼게요. a 태그의 link_from이라는 태그이고, find_all로 다 가져와 보겠습니다. (꼭 찾아보셔야 해요!) "
      ]
    },
    {
      "cell_type": "code",
      "metadata": {
        "id": "pxfuv67HLuxb",
        "outputId": "bf16567f-a6d3-43b4-9fb3-dd5444e2c071"
      },
      "source": [
        "raw_list = soup.find_all('a', 'link_from')\n",
        "raw_list"
      ],
      "execution_count": null,
      "outputs": [
        {
          "output_type": "execute_result",
          "data": {
            "text/plain": [
              "[<a class=\"link_from\" href=\"javascript:;\" title='\"Kakao\" &lt;noreply@kakao.com&gt;'>Kakao</a>,\n",
              " <a class=\"link_from\" href=\"javascript:;\" title='\"Kakao\" &lt;noreply@kakao.com&gt;'>Kakao</a>,\n",
              " <a class=\"link_from\" href=\"javascript:;\" title='\"Kakao\" &lt;noreply@kakao.com&gt;'>Kakao</a>,\n",
              " <a class=\"link_from\" href=\"javascript:;\" title='\"Kakao\" &lt;notice-master@daum.net&gt;'>Kakao</a>,\n",
              " <a class=\"link_from\" href=\"javascript:;\" title='\"Daum\" &lt;notice-master@daum.net&gt;'>Daum</a>,\n",
              " <a class=\"link_from\" href=\"javascript:;\" title='\"Daum Cafe\" &lt;notice-master@daum.net&gt;'>Daum Cafe</a>,\n",
              " <a class=\"link_from\" href=\"javascript:;\" title='\"다음메일\" &lt;notice-master@daum.net&gt;'>다음메일</a>,\n",
              " <a class=\"link_from\" href=\"javascript:;\" title='\"다음메일\" &lt;notice-master@daum.net&gt;'>다음메일</a>]"
            ]
          },
          "metadata": {
            "tags": []
          },
          "execution_count": 28
        }
      ]
    },
    {
      "cell_type": "markdown",
      "metadata": {
        "id": "zwk3XnyKLuxo"
      },
      "source": [
        "잘 가져와 졌고요. 사용자 이름만 뽑아내려면 아래와 같이 하면 되겠죠."
      ]
    },
    {
      "cell_type": "code",
      "metadata": {
        "id": "N2iggA2eLuxp",
        "outputId": "600505cb-a9ce-4fcf-a34f-a5bdb4c9c9da"
      },
      "source": [
        "raw_list[0].get_text()"
      ],
      "execution_count": null,
      "outputs": [
        {
          "output_type": "execute_result",
          "data": {
            "text/plain": [
              "'Kakao'"
            ]
          },
          "metadata": {
            "tags": []
          },
          "execution_count": 29
        }
      ]
    },
    {
      "cell_type": "markdown",
      "metadata": {
        "id": "HkIFJXrcLuxp"
      },
      "source": [
        "그럼 for문으로 이 이름들만 가져와 볼게요. 지난 시간에 한거 떠올리시고 먼저 코드가 어떻게 작성될 지 생각한 후에 실행해보고 아래 코드들을 보시면 더 좋을 것 같네요!"
      ]
    },
    {
      "cell_type": "code",
      "metadata": {
        "id": "SLV14SmqLuxq",
        "outputId": "d6b0743a-7ae9-4b29-ed5c-8160b44a972c"
      },
      "source": [
        "for n in range(0, len(raw_list)):\n",
        "    send_list = raw_list[n].get_text()\n",
        "    print(send_list)"
      ],
      "execution_count": null,
      "outputs": [
        {
          "output_type": "stream",
          "text": [
            "Kakao\n",
            "Kakao\n",
            "Kakao\n",
            "Kakao\n",
            "Daum\n",
            "Daum Cafe\n",
            "다음메일\n",
            "다음메일\n"
          ],
          "name": "stdout"
        }
      ]
    },
    {
      "cell_type": "markdown",
      "metadata": {
        "id": "jQsaB4ecLuxr"
      },
      "source": [
        "이렇게 정보를 모두 얻었으니, 이만 driver를 종료해봅시다."
      ]
    },
    {
      "cell_type": "code",
      "metadata": {
        "id": "60pyDV4ILuxr"
      },
      "source": [
        "driver.close()  # 크롬 드라이버 종료"
      ],
      "execution_count": null,
      "outputs": []
    },
    {
      "cell_type": "markdown",
      "metadata": {
        "id": "h7Y5hEL4Luxs"
      },
      "source": [
        "그럼 대략적인 Selenium 사용법에 대해 익힌 것 같네요. 그럼 본격적으로 이번주 프로젝트를 시작해보겠습니다. \n",
        "\n",
        "### 6.2 서울시 구별 주유소 가격 정보 얻기 \n",
        "\n",
        "- [opinet - 싼 주유소 찾기 - 지역별](http://www.opinet.co.kr/searRgSelect.do)\n",
        "\n",
        "지역별 주소 사이트를 selenium으로 들어가려면 어떻게 해야 할까요? 아래와 같이 하면 됩니다. "
      ]
    },
    {
      "cell_type": "code",
      "metadata": {
        "id": "nOokxFLcLuxs"
      },
      "source": [
        "driver = webdriver.Chrome('C:/Users/jung6/Documents/chromedriver_win32/chromedriver.exe')\n",
        "driver.get(\"http://www.opinet.co.kr/searRgSelect.do\")\n",
        "driver.get(\"http://www.opinet.co.kr/searRgSelect.do\") # 두번 해야 들어가 짐."
      ],
      "execution_count": null,
      "outputs": []
    },
    {
      "cell_type": "code",
      "metadata": {
        "id": "wHX4iuy8Luxt"
      },
      "source": [
        "## colab 사용하시는 분들은 아래 코드 추가!\n",
        "## 선택하신 후에 ctrl + / 누르시면 한번에 \n",
        "\n",
        "#### step1\n",
        "# !apt-get update\n",
        "# !apt install chromium-chromedriver\n",
        "# !cp /usr/lib/chromium-browser/chromedriver /usr/bin\n",
        "# !pip install selenium\n",
        "\n",
        "#### step2\n",
        "# from selenium import webdriver\n",
        "# options = webdriver.ChromeOptions()\n",
        "# options.add_argument('--headless')\n",
        "# options.add_argument('--no-sandbox')\n",
        "# options.add_argument('--disable-dev-shm-usage')\n",
        "\n",
        "#### step3\n",
        "# driver = webdriver.Chrome('chromedriver',options=options)"
      ],
      "execution_count": null,
      "outputs": []
    },
    {
      "cell_type": "markdown",
      "metadata": {
        "id": "7GdS88RyLuxu"
      },
      "source": [
        "짜잔! 이렇게 두번 해주면 지역별 사이트에 들어갈 수 있어요. \n",
        "\n",
        "![지역별](images/006.png)\n",
        "\n",
        "서울시 구별로 정보를 얻어올 것이니, 빨간색 박스 마포구라 적혀져 있는 곳을 바꾸어줘야겠고, 바꾼 결과로 조회 버튼까지 눌러줘야겠지요. 또 아래처럼 엑셀 저장 버튼까지 눌러줘야 엑셀로 결과가 저장되겠죠. \n",
        "\n",
        "![엑셀 저장](images/007.png)\n",
        "\n",
        "그럼 우선 '구' 버튼부터 눌르며 바꿔보죠. 이 때 필요한 것이 xpath에요. 크롬 개발자 도구로 해당 구 버튼의 xpath를 copy하고요, 확보한 xpath를 이용해 element를 찾고 gu_list_raw 변수에 저장합니다.\n",
        "\n",
        "- [selenium 문법](https://github.com/SeongJaeMoon/PracPython/blob/master/selenium_dom_selector.md)"
      ]
    },
    {
      "cell_type": "code",
      "metadata": {
        "id": "Hxy1TdBoLuxv"
      },
      "source": [
        "gu_list_raw = driver.find_element_by_xpath(\"\"\"//*[@id=\"SIGUNGU_NM0\"]\"\"\")"
      ],
      "execution_count": null,
      "outputs": []
    },
    {
      "cell_type": "markdown",
      "metadata": {
        "id": "AXclxYFJLuxw"
      },
      "source": [
        "그 다음에는 구 이름이 option이라는 태그에 저장되어 있으니까, 아래와 같이 option이라는 태그를 찾아 줍니다."
      ]
    },
    {
      "cell_type": "code",
      "metadata": {
        "id": "Z8fZ3m7-Luxw",
        "outputId": "527ce2c5-0c90-4a19-e949-0f2320081688"
      },
      "source": [
        "gu_list = gu_list_raw.find_elements_by_tag_name(\"option\")\n",
        "gu_list[:5]"
      ],
      "execution_count": null,
      "outputs": [
        {
          "output_type": "execute_result",
          "data": {
            "text/plain": [
              "[<selenium.webdriver.remote.webelement.WebElement (session=\"33869064cf38a6019d8d96bcdf678283\", element=\"5a5eb534-7d3d-4468-972b-f71a558afb09\")>,\n",
              " <selenium.webdriver.remote.webelement.WebElement (session=\"33869064cf38a6019d8d96bcdf678283\", element=\"d6a4e29b-9c32-4e14-bc26-a28dece0828c\")>,\n",
              " <selenium.webdriver.remote.webelement.WebElement (session=\"33869064cf38a6019d8d96bcdf678283\", element=\"7c0b1b3c-d4db-4934-ad90-fd6243486378\")>,\n",
              " <selenium.webdriver.remote.webelement.WebElement (session=\"33869064cf38a6019d8d96bcdf678283\", element=\"bb379f91-e1d0-4de3-a943-e91df9a4f1c8\")>,\n",
              " <selenium.webdriver.remote.webelement.WebElement (session=\"33869064cf38a6019d8d96bcdf678283\", element=\"796cb3f8-bd87-4c6c-9141-409217cf9011\")>]"
            ]
          },
          "metadata": {
            "tags": []
          },
          "execution_count": 34
        }
      ]
    },
    {
      "cell_type": "markdown",
      "metadata": {
        "id": "yy5p465SLux2"
      },
      "source": [
        "이것처럼 gu_list에는 우리가 원한게 잘 보이지 않죠? 구 이름은 option의 value라는 곳에 있었으니까요, value를 아래와 같이 가져옵니다."
      ]
    },
    {
      "cell_type": "code",
      "metadata": {
        "id": "2_WlJIAeLux2",
        "outputId": "17f26312-da36-41ee-85ae-301d7582c8db"
      },
      "source": [
        "gu_names = [option.get_attribute(\"value\") for option in gu_list]\n",
        "gu_names.remove('')  # 이것을 넣었다 빼보세요. 어떤 기능인지 알 수 있습니다.\n",
        "gu_names"
      ],
      "execution_count": null,
      "outputs": [
        {
          "output_type": "execute_result",
          "data": {
            "text/plain": [
              "['강남구',\n",
              " '강동구',\n",
              " '강북구',\n",
              " '강서구',\n",
              " '관악구',\n",
              " '광진구',\n",
              " '구로구',\n",
              " '금천구',\n",
              " '노원구',\n",
              " '도봉구',\n",
              " '동대문구',\n",
              " '동작구',\n",
              " '마포구',\n",
              " '서대문구',\n",
              " '서초구',\n",
              " '성동구',\n",
              " '성북구',\n",
              " '송파구',\n",
              " '양천구',\n",
              " '영등포구',\n",
              " '용산구',\n",
              " '은평구',\n",
              " '종로구',\n",
              " '중구',\n",
              " '중랑구']"
            ]
          },
          "metadata": {
            "tags": []
          },
          "execution_count": 35
        }
      ]
    },
    {
      "cell_type": "code",
      "metadata": {
        "id": "VD3JLGGLLux6",
        "outputId": "ac3e2f63-7779-4b5b-ffc7-2c3e35f0da32"
      },
      "source": [
        "len(gu_names)"
      ],
      "execution_count": null,
      "outputs": [
        {
          "output_type": "execute_result",
          "data": {
            "text/plain": [
              "25"
            ]
          },
          "metadata": {
            "tags": []
          },
          "execution_count": 36
        }
      ]
    },
    {
      "cell_type": "markdown",
      "metadata": {
        "id": "FK4Uk3XlLux7"
      },
      "source": [
        "리스트로 구성되어 있죠? 총 구가 25이네요. 이후 엑셀 파일이 총 25개가 다운로드 되었는지 확인하셔야 해요. 구 이름이 있는 태그에 gu_names에서 첫번째 것만 한번 입력해보도록 할게요. "
      ]
    },
    {
      "cell_type": "code",
      "metadata": {
        "id": "R00Xv6QRLux7"
      },
      "source": [
        "element = driver.find_element_by_id(\"SIGUNGU_NM0\")\n",
        "element.send_keys(gu_names[0])"
      ],
      "execution_count": null,
      "outputs": []
    },
    {
      "cell_type": "markdown",
      "metadata": {
        "id": "-mEToxZDLux8"
      },
      "source": [
        "![강남구](images/008.png)\n",
        "\n",
        "저렇게 강남구로 바뀌었죠? 그러면 이제는 조회버튼을 눌러야 되겠네요. 그럼 조회 버튼은 또 xpath를 사용해 클릭해주면 됩니다. (조회버튼 xpath copy하는 것 잊지 마세요!) "
      ]
    },
    {
      "cell_type": "code",
      "metadata": {
        "id": "tXoOq9q3Lux8"
      },
      "source": [
        "#조회버튼의 Xpath를 찾아서 클릭\n",
        "xpath ='''//*[@id=\"searRgSelect\"]/span'''\n",
        "element_sel_gu = driver.find_element_by_xpath(xpath).click()"
      ],
      "execution_count": null,
      "outputs": []
    },
    {
      "cell_type": "markdown",
      "metadata": {
        "id": "C5GZkKRGLux-"
      },
      "source": [
        "![강남구 조회](images/009.png)\n",
        "\n",
        "이렇게 바뀌었다면, okay! 이제는 엑셀을 얻어야 하니까, 또 xpath를 알아내서 엑셀 저장 버튼을 클릭하면 되겠죠! "
      ]
    },
    {
      "cell_type": "code",
      "metadata": {
        "id": "U8Epynv7Lux-"
      },
      "source": [
        "xpath ='''//*[@id=\"glopopd_excel\"]/span'''\n",
        "element_get_excel = driver.find_element_by_xpath(xpath).click()"
      ],
      "execution_count": null,
      "outputs": []
    },
    {
      "cell_type": "markdown",
      "metadata": {
        "id": "5yqfFBFwLux-"
      },
      "source": [
        "그러면 웹 브라우저에서 다운로드 시 사용되는 폴더에서 '지역_위치별(주유소)'가 생성된 것을 확인할 수 있을 겁니다. \n",
        "\n",
        "그렇다면 이제 알았으니, 전체 구들의 엑셀 파일을 모두 가져와봅시다. 시간이 꽤 오래 걸리는 작업일 것이기 때문에 tqdm을 사용해서 걸리는 시간을 시각화 해볼 것이구요. 어떻게 코드가 구성될지 한번 생각해보신다음 아래 코드를 확인하세요! "
      ]
    },
    {
      "cell_type": "code",
      "metadata": {
        "id": "0HFcj_eCLuyA",
        "outputId": "e5fc0bfd-58e8-4c6f-ec51-f0ec22efbcc4"
      },
      "source": [
        "import time\n",
        "from tqdm import tqdm_notebook\n",
        "\n",
        "for gu in tqdm_notebook(gu_names): \n",
        "    element = driver.find_element_by_id(\"SIGUNGU_NM0\")\n",
        "    element.send_keys(gu)\n",
        "    \n",
        "    time.sleep(2) # 중간중간 기다리라는 time.sleep 명령 \n",
        "    \n",
        "    xpath ='''//*[@id=\"searRgSelect\"]/span'''\n",
        "    element_sel_gu = driver.find_element_by_xpath(xpath).click()\n",
        "    \n",
        "    time.sleep(1)\n",
        "    \n",
        "    xpath ='''//*[@id=\"glopopd_excel\"]/span'''\n",
        "    element_get_excel = driver.find_element_by_xpath(xpath).click()\n",
        "    \n",
        "    time.sleep(1)"
      ],
      "execution_count": null,
      "outputs": [
        {
          "output_type": "stream",
          "text": [
            "<ipython-input-39-8d7a2744fb60>:4: TqdmDeprecationWarning: This function will be removed in tqdm==5.0.0\n",
            "Please use `tqdm.notebook.tqdm` instead of `tqdm.tqdm_notebook`\n",
            "  for gu in tqdm_notebook(gu_names):\n"
          ],
          "name": "stderr"
        },
        {
          "output_type": "display_data",
          "data": {
            "application/vnd.jupyter.widget-view+json": {
              "model_id": "bdf6dde22b81407e8ed0789a19281a6b",
              "version_major": 2,
              "version_minor": 0
            },
            "text/plain": [
              "HBox(children=(HTML(value=''), FloatProgress(value=0.0, max=25.0), HTML(value='')))"
            ]
          },
          "metadata": {
            "tags": []
          }
        },
        {
          "output_type": "stream",
          "text": [
            "\n"
          ],
          "name": "stdout"
        }
      ]
    },
    {
      "cell_type": "markdown",
      "metadata": {
        "id": "XKK0_kPkLuyB"
      },
      "source": [
        "![다운로드](images/010.png)\n",
        "\n",
        "이렇게 총 25개의 파일이 다운로드되어 있으면 됩니다. 그럼 이제 웹 드라이버를 종료하면 끝! "
      ]
    },
    {
      "cell_type": "code",
      "metadata": {
        "id": "eq9qJfH5LuyB"
      },
      "source": [
        "driver.close()"
      ],
      "execution_count": null,
      "outputs": []
    },
    {
      "cell_type": "markdown",
      "metadata": {
        "id": "a1ywYEdoLuyC"
      },
      "source": [
        "### 6.3 구별 주유 가격에 대한 데이터의 정리 \n",
        "\n",
        "이제는 구별 주유 가격에 대한 데이터를 정리해보려 합니다. 이제는 정말 익숙해진 pandas를 활용하여 이것저것 요리해부죠. 우선 다운로드 폴더에 담겨져 있는 엑셀 파일을 본인의 코드가 적혀있는 파일에다 옮깁니다. 저는 새롭게 data라는 폴더를 모두 담아서 거기다 넣어놨어요. \n",
        "\n",
        "#### glob으로 원하는 파일 쉽게 가져오기\n",
        "원하는 파일을 가져오려면 파일경로가 필요합니다. 쉽게 파일을 가져올 수 있도록 해주는 모듈이 glob이에요. 해당 모듈들을 import 해보겠습니다."
      ]
    },
    {
      "cell_type": "code",
      "metadata": {
        "id": "kgEajKtsLuyD"
      },
      "source": [
        "import pandas as pd \n",
        "from glob import glob"
      ],
      "execution_count": null,
      "outputs": []
    },
    {
      "cell_type": "markdown",
      "metadata": {
        "id": "Uw2Lbp89LuyD"
      },
      "source": [
        "- [glob의 간단한 사용법](https://wikidocs.net/83)\n",
        "\n",
        "glob을 이용하면 쉽게 파일들을 가져올 수 있어요. 아래 *는 지역으로 시작하는 것은 모두 가져오라는 거에요. 지역 뒤의 이름은 상관이 없는거죠."
      ]
    },
    {
      "cell_type": "code",
      "metadata": {
        "id": "JsVMls3SLuyD",
        "outputId": "f11068bb-ae31-49d7-ab0f-bc48fe38e0c0"
      },
      "source": [
        "glob('data/지역*.xls')"
      ],
      "execution_count": null,
      "outputs": [
        {
          "output_type": "execute_result",
          "data": {
            "text/plain": [
              "['data\\\\지역_위치별(주유소) (1).xls',\n",
              " 'data\\\\지역_위치별(주유소) (10).xls',\n",
              " 'data\\\\지역_위치별(주유소) (11).xls',\n",
              " 'data\\\\지역_위치별(주유소) (12).xls',\n",
              " 'data\\\\지역_위치별(주유소) (13).xls',\n",
              " 'data\\\\지역_위치별(주유소) (14).xls',\n",
              " 'data\\\\지역_위치별(주유소) (15).xls',\n",
              " 'data\\\\지역_위치별(주유소) (16).xls',\n",
              " 'data\\\\지역_위치별(주유소) (17).xls',\n",
              " 'data\\\\지역_위치별(주유소) (18).xls',\n",
              " 'data\\\\지역_위치별(주유소) (19).xls',\n",
              " 'data\\\\지역_위치별(주유소) (2).xls',\n",
              " 'data\\\\지역_위치별(주유소) (20).xls',\n",
              " 'data\\\\지역_위치별(주유소) (21).xls',\n",
              " 'data\\\\지역_위치별(주유소) (22).xls',\n",
              " 'data\\\\지역_위치별(주유소) (23).xls',\n",
              " 'data\\\\지역_위치별(주유소) (24).xls',\n",
              " 'data\\\\지역_위치별(주유소) (3).xls',\n",
              " 'data\\\\지역_위치별(주유소) (4).xls',\n",
              " 'data\\\\지역_위치별(주유소) (5).xls',\n",
              " 'data\\\\지역_위치별(주유소) (6).xls',\n",
              " 'data\\\\지역_위치별(주유소) (7).xls',\n",
              " 'data\\\\지역_위치별(주유소) (8).xls',\n",
              " 'data\\\\지역_위치별(주유소) (9).xls',\n",
              " 'data\\\\지역_위치별(주유소).xls']"
            ]
          },
          "metadata": {
            "tags": []
          },
          "execution_count": 42
        }
      ]
    },
    {
      "cell_type": "code",
      "metadata": {
        "id": "9x7rgZD4LuyE",
        "outputId": "ea9044b7-d4b0-43d7-c431-fe02653ba314"
      },
      "source": [
        "len(glob('data/지역*.xls'))"
      ],
      "execution_count": null,
      "outputs": [
        {
          "output_type": "execute_result",
          "data": {
            "text/plain": [
              "25"
            ]
          },
          "metadata": {
            "tags": []
          },
          "execution_count": 43
        }
      ]
    },
    {
      "cell_type": "markdown",
      "metadata": {
        "id": "Z9uAJwMuLuyF"
      },
      "source": [
        "25개도 맞네요. 그럼 이것들을 모두 가져와서 file에다 저장해보겠습니다. "
      ]
    },
    {
      "cell_type": "code",
      "metadata": {
        "id": "c8748u2mLuyF",
        "outputId": "b5b445f2-a2db-44c4-b272-8b03b44ac236"
      },
      "source": [
        "stations_files = glob('data/지역*.xls')\n",
        "stations_files"
      ],
      "execution_count": null,
      "outputs": [
        {
          "output_type": "execute_result",
          "data": {
            "text/plain": [
              "['data\\\\지역_위치별(주유소) (1).xls',\n",
              " 'data\\\\지역_위치별(주유소) (10).xls',\n",
              " 'data\\\\지역_위치별(주유소) (11).xls',\n",
              " 'data\\\\지역_위치별(주유소) (12).xls',\n",
              " 'data\\\\지역_위치별(주유소) (13).xls',\n",
              " 'data\\\\지역_위치별(주유소) (14).xls',\n",
              " 'data\\\\지역_위치별(주유소) (15).xls',\n",
              " 'data\\\\지역_위치별(주유소) (16).xls',\n",
              " 'data\\\\지역_위치별(주유소) (17).xls',\n",
              " 'data\\\\지역_위치별(주유소) (18).xls',\n",
              " 'data\\\\지역_위치별(주유소) (19).xls',\n",
              " 'data\\\\지역_위치별(주유소) (2).xls',\n",
              " 'data\\\\지역_위치별(주유소) (20).xls',\n",
              " 'data\\\\지역_위치별(주유소) (21).xls',\n",
              " 'data\\\\지역_위치별(주유소) (22).xls',\n",
              " 'data\\\\지역_위치별(주유소) (23).xls',\n",
              " 'data\\\\지역_위치별(주유소) (24).xls',\n",
              " 'data\\\\지역_위치별(주유소) (3).xls',\n",
              " 'data\\\\지역_위치별(주유소) (4).xls',\n",
              " 'data\\\\지역_위치별(주유소) (5).xls',\n",
              " 'data\\\\지역_위치별(주유소) (6).xls',\n",
              " 'data\\\\지역_위치별(주유소) (7).xls',\n",
              " 'data\\\\지역_위치별(주유소) (8).xls',\n",
              " 'data\\\\지역_위치별(주유소) (9).xls',\n",
              " 'data\\\\지역_위치별(주유소).xls']"
            ]
          },
          "metadata": {
            "tags": []
          },
          "execution_count": 44
        }
      ]
    },
    {
      "cell_type": "markdown",
      "metadata": {
        "id": "IDht11FtLuyG"
      },
      "source": [
        "#### 25개 파일 병합하기\n",
        "\n",
        "pandas로 가공하려면 우선 이 25개의 파일들을 하나의 DataFrame에 담아야 하겠죠? 이를 모두 병합하기 위해서 열 방향으로 합쳐지는 concat 함수를 이용할 겁니다."
      ]
    },
    {
      "cell_type": "code",
      "metadata": {
        "id": "q5SoADzlLuyG",
        "outputId": "85dddc32-f5c2-40c5-965b-c3a1f441e9eb"
      },
      "source": [
        "# 25개의 DataFrame이 담길 리스트\n",
        "tmp_raw = []\n",
        "\n",
        "for file_name in stations_files:\n",
        "    # 한 개씩 DataFrame을 불러오기\n",
        "    tmp = pd.read_excel(file_name, header=2)\n",
        "    # tmp_raw에다 추가하기\n",
        "    tmp_raw.append(tmp)\n",
        "    \n",
        "# 25개의 DataFrame 병합하기    \n",
        "station_raw = pd.concat(tmp_raw)\n",
        "station_raw.head()"
      ],
      "execution_count": null,
      "outputs": [
        {
          "output_type": "execute_result",
          "data": {
            "text/html": [
              "<div>\n",
              "<style scoped>\n",
              "    .dataframe tbody tr th:only-of-type {\n",
              "        vertical-align: middle;\n",
              "    }\n",
              "\n",
              "    .dataframe tbody tr th {\n",
              "        vertical-align: top;\n",
              "    }\n",
              "\n",
              "    .dataframe thead th {\n",
              "        text-align: right;\n",
              "    }\n",
              "</style>\n",
              "<table border=\"1\" class=\"dataframe\">\n",
              "  <thead>\n",
              "    <tr style=\"text-align: right;\">\n",
              "      <th></th>\n",
              "      <th>지역</th>\n",
              "      <th>상호</th>\n",
              "      <th>주소</th>\n",
              "      <th>상표</th>\n",
              "      <th>전화번호</th>\n",
              "      <th>셀프여부</th>\n",
              "      <th>고급휘발유</th>\n",
              "      <th>휘발유</th>\n",
              "      <th>경유</th>\n",
              "      <th>실내등유</th>\n",
              "    </tr>\n",
              "  </thead>\n",
              "  <tbody>\n",
              "    <tr>\n",
              "      <th>0</th>\n",
              "      <td>서울특별시</td>\n",
              "      <td>구천면주유소</td>\n",
              "      <td>서울 강동구 구천면로 357 (암사동)</td>\n",
              "      <td>현대오일뱅크</td>\n",
              "      <td>02-441-0536</td>\n",
              "      <td>N</td>\n",
              "      <td>-</td>\n",
              "      <td>1374</td>\n",
              "      <td>1187</td>\n",
              "      <td>-</td>\n",
              "    </tr>\n",
              "    <tr>\n",
              "      <th>1</th>\n",
              "      <td>서울특별시</td>\n",
              "      <td>SK네트웍스 명일셀프주유소</td>\n",
              "      <td>서울 강동구 고덕로 168 (명일동)</td>\n",
              "      <td>SK에너지</td>\n",
              "      <td>02-3428-1739</td>\n",
              "      <td>N</td>\n",
              "      <td>1599</td>\n",
              "      <td>1375</td>\n",
              "      <td>1237</td>\n",
              "      <td>-</td>\n",
              "    </tr>\n",
              "    <tr>\n",
              "      <th>2</th>\n",
              "      <td>서울특별시</td>\n",
              "      <td>SK네트웍스㈜암사주유소(self)</td>\n",
              "      <td>서울 강동구 올림픽로 749 (암사동)</td>\n",
              "      <td>SK에너지</td>\n",
              "      <td>02-3427-2043</td>\n",
              "      <td>Y</td>\n",
              "      <td>1659</td>\n",
              "      <td>1379</td>\n",
              "      <td>1189</td>\n",
              "      <td>-</td>\n",
              "    </tr>\n",
              "    <tr>\n",
              "      <th>3</th>\n",
              "      <td>서울특별시</td>\n",
              "      <td>고속셀프주유소</td>\n",
              "      <td>서울 강동구 천호대로 1246</td>\n",
              "      <td>SK에너지</td>\n",
              "      <td>02-487-2030</td>\n",
              "      <td>Y</td>\n",
              "      <td>1709</td>\n",
              "      <td>1379</td>\n",
              "      <td>1199</td>\n",
              "      <td>829</td>\n",
              "    </tr>\n",
              "    <tr>\n",
              "      <th>4</th>\n",
              "      <td>서울특별시</td>\n",
              "      <td>지에스칼텍스㈜ 동서울주유소</td>\n",
              "      <td>서울 강동구 천호대로 1456 (상일동)</td>\n",
              "      <td>GS칼텍스</td>\n",
              "      <td>02-426-5372</td>\n",
              "      <td>Y</td>\n",
              "      <td>-</td>\n",
              "      <td>1380</td>\n",
              "      <td>1198</td>\n",
              "      <td>-</td>\n",
              "    </tr>\n",
              "  </tbody>\n",
              "</table>\n",
              "</div>"
            ],
            "text/plain": [
              "      지역                  상호                      주소      상표          전화번호  \\\n",
              "0  서울특별시              구천면주유소   서울 강동구 구천면로 357 (암사동)  현대오일뱅크   02-441-0536   \n",
              "1  서울특별시      SK네트웍스 명일셀프주유소    서울 강동구 고덕로 168 (명일동)   SK에너지  02-3428-1739   \n",
              "2  서울특별시  SK네트웍스㈜암사주유소(self)   서울 강동구 올림픽로 749 (암사동)   SK에너지  02-3427-2043   \n",
              "3  서울특별시             고속셀프주유소        서울 강동구 천호대로 1246   SK에너지   02-487-2030   \n",
              "4  서울특별시      지에스칼텍스㈜ 동서울주유소  서울 강동구 천호대로 1456 (상일동)   GS칼텍스   02-426-5372   \n",
              "\n",
              "  셀프여부 고급휘발유   휘발유    경유 실내등유  \n",
              "0    N     -  1374  1187    -  \n",
              "1    N  1599  1375  1237    -  \n",
              "2    Y  1659  1379  1189    -  \n",
              "3    Y  1709  1379  1199  829  \n",
              "4    Y     -  1380  1198    -  "
            ]
          },
          "metadata": {
            "tags": []
          },
          "execution_count": 45
        }
      ]
    },
    {
      "cell_type": "markdown",
      "metadata": {
        "id": "sjYB1vsFLuyH"
      },
      "source": [
        "이제 우리에게 익숙한 데이터프레임이네요. 여기에는 지역, 상호, 주소, 상표, 셀프여부, 휘발유 값 등이 들어있네요. 우리가 이번에 할 프로젝트의 주제는 셀프 주유소가 정말로 싼지 아닌지 팩트체크를 해보는 것이었잖아요. 그러니까 여기에서 중요한 컬럼은 셀프여부가 되겠구요, 구별로 알아보려고 했으니 주소가 중요할 겁니다. (지역은 모두 서울이라 필요가 없어요.) 이렇게 데이터의 특성을 파악하는게 중요하고요. 전반적으로 어떻게 담겨있는지 알기 위해서 아래를 확인해보았습니다."
      ]
    },
    {
      "cell_type": "code",
      "metadata": {
        "id": "9MDX-meqLuyI",
        "outputId": "a3212f17-2b89-4553-c23c-5c02eac9abf2"
      },
      "source": [
        "station_raw.info()"
      ],
      "execution_count": null,
      "outputs": [
        {
          "output_type": "stream",
          "text": [
            "<class 'pandas.core.frame.DataFrame'>\n",
            "Int64Index: 501 entries, 0 to 41\n",
            "Data columns (total 10 columns):\n",
            " #   Column  Non-Null Count  Dtype \n",
            "---  ------  --------------  ----- \n",
            " 0   지역      501 non-null    object\n",
            " 1   상호      501 non-null    object\n",
            " 2   주소      501 non-null    object\n",
            " 3   상표      501 non-null    object\n",
            " 4   전화번호    501 non-null    object\n",
            " 5   셀프여부    501 non-null    object\n",
            " 6   고급휘발유   501 non-null    object\n",
            " 7   휘발유     501 non-null    object\n",
            " 8   경유      501 non-null    object\n",
            " 9   실내등유    501 non-null    object\n",
            "dtypes: object(10)\n",
            "memory usage: 43.1+ KB\n"
          ],
          "name": "stdout"
        }
      ]
    },
    {
      "cell_type": "markdown",
      "metadata": {
        "id": "U2EAcEN-LuyI"
      },
      "source": [
        "중요한 컬럼이 휘발유라고 했죠? 휘발유 값만 알아볼 것인데 이게 숫자가 아닌 object로 되어 있어서 숫자형으로 바꾸어줘야 계산이 가능하겠죠. 이를 후에 처리해줘야겠죠. \n",
        "\n",
        "필요한 컬럼들만 추려서 stations에 담아볼게요. 중요한 것이 1) 상호 2) 주소 3) 휘발유 4) 셀프여부 5) 상호니까 이것들만 남겨보겠습니다."
      ]
    },
    {
      "cell_type": "code",
      "metadata": {
        "id": "2mYN0NvALuyJ",
        "outputId": "8cf2e7c6-a2f3-46ff-a205-4a86b0d34ae7"
      },
      "source": [
        "stations = pd.DataFrame({'Oil_store':station_raw['상호'],\n",
        "                        '주소':station_raw['주소'],\n",
        "                        '가격':station_raw['휘발유'],\n",
        "                        '셀프':station_raw['셀프여부'],\n",
        "                        '상표':station_raw['상표']})\n",
        "stations.head()"
      ],
      "execution_count": null,
      "outputs": [
        {
          "output_type": "execute_result",
          "data": {
            "text/html": [
              "<div>\n",
              "<style scoped>\n",
              "    .dataframe tbody tr th:only-of-type {\n",
              "        vertical-align: middle;\n",
              "    }\n",
              "\n",
              "    .dataframe tbody tr th {\n",
              "        vertical-align: top;\n",
              "    }\n",
              "\n",
              "    .dataframe thead th {\n",
              "        text-align: right;\n",
              "    }\n",
              "</style>\n",
              "<table border=\"1\" class=\"dataframe\">\n",
              "  <thead>\n",
              "    <tr style=\"text-align: right;\">\n",
              "      <th></th>\n",
              "      <th>Oil_store</th>\n",
              "      <th>주소</th>\n",
              "      <th>가격</th>\n",
              "      <th>셀프</th>\n",
              "      <th>상표</th>\n",
              "    </tr>\n",
              "  </thead>\n",
              "  <tbody>\n",
              "    <tr>\n",
              "      <th>0</th>\n",
              "      <td>구천면주유소</td>\n",
              "      <td>서울 강동구 구천면로 357 (암사동)</td>\n",
              "      <td>1374</td>\n",
              "      <td>N</td>\n",
              "      <td>현대오일뱅크</td>\n",
              "    </tr>\n",
              "    <tr>\n",
              "      <th>1</th>\n",
              "      <td>SK네트웍스 명일셀프주유소</td>\n",
              "      <td>서울 강동구 고덕로 168 (명일동)</td>\n",
              "      <td>1375</td>\n",
              "      <td>N</td>\n",
              "      <td>SK에너지</td>\n",
              "    </tr>\n",
              "    <tr>\n",
              "      <th>2</th>\n",
              "      <td>SK네트웍스㈜암사주유소(self)</td>\n",
              "      <td>서울 강동구 올림픽로 749 (암사동)</td>\n",
              "      <td>1379</td>\n",
              "      <td>Y</td>\n",
              "      <td>SK에너지</td>\n",
              "    </tr>\n",
              "    <tr>\n",
              "      <th>3</th>\n",
              "      <td>고속셀프주유소</td>\n",
              "      <td>서울 강동구 천호대로 1246</td>\n",
              "      <td>1379</td>\n",
              "      <td>Y</td>\n",
              "      <td>SK에너지</td>\n",
              "    </tr>\n",
              "    <tr>\n",
              "      <th>4</th>\n",
              "      <td>지에스칼텍스㈜ 동서울주유소</td>\n",
              "      <td>서울 강동구 천호대로 1456 (상일동)</td>\n",
              "      <td>1380</td>\n",
              "      <td>Y</td>\n",
              "      <td>GS칼텍스</td>\n",
              "    </tr>\n",
              "  </tbody>\n",
              "</table>\n",
              "</div>"
            ],
            "text/plain": [
              "            Oil_store                      주소    가격 셀프      상표\n",
              "0              구천면주유소   서울 강동구 구천면로 357 (암사동)  1374  N  현대오일뱅크\n",
              "1      SK네트웍스 명일셀프주유소    서울 강동구 고덕로 168 (명일동)  1375  N   SK에너지\n",
              "2  SK네트웍스㈜암사주유소(self)   서울 강동구 올림픽로 749 (암사동)  1379  Y   SK에너지\n",
              "3             고속셀프주유소        서울 강동구 천호대로 1246  1379  Y   SK에너지\n",
              "4      지에스칼텍스㈜ 동서울주유소  서울 강동구 천호대로 1456 (상일동)  1380  Y   GS칼텍스"
            ]
          },
          "metadata": {
            "tags": []
          },
          "execution_count": 47
        }
      ]
    },
    {
      "cell_type": "markdown",
      "metadata": {
        "id": "toLbnT2xLuyK"
      },
      "source": [
        "#### 데이터 가공하기 \n",
        "\n",
        "이제는 주소에서 구만 뽑아서 저장해줘야겠죠. 주소에서 구만 가져올 거에요. split을 사용해 쉽게 가져오면 됩니다. 새로운 컬럼 구에다 담아주었어요."
      ]
    },
    {
      "cell_type": "code",
      "metadata": {
        "id": "r5Gxuc0MLuyL",
        "outputId": "443fb8f7-e5a5-4966-e8a5-7a15ab7a9c64"
      },
      "source": [
        "stations['구'] = [eachAddress.split()[1] for eachAddress in stations['주소']]\n",
        "stations.head()"
      ],
      "execution_count": null,
      "outputs": [
        {
          "output_type": "execute_result",
          "data": {
            "text/html": [
              "<div>\n",
              "<style scoped>\n",
              "    .dataframe tbody tr th:only-of-type {\n",
              "        vertical-align: middle;\n",
              "    }\n",
              "\n",
              "    .dataframe tbody tr th {\n",
              "        vertical-align: top;\n",
              "    }\n",
              "\n",
              "    .dataframe thead th {\n",
              "        text-align: right;\n",
              "    }\n",
              "</style>\n",
              "<table border=\"1\" class=\"dataframe\">\n",
              "  <thead>\n",
              "    <tr style=\"text-align: right;\">\n",
              "      <th></th>\n",
              "      <th>Oil_store</th>\n",
              "      <th>주소</th>\n",
              "      <th>가격</th>\n",
              "      <th>셀프</th>\n",
              "      <th>상표</th>\n",
              "      <th>구</th>\n",
              "    </tr>\n",
              "  </thead>\n",
              "  <tbody>\n",
              "    <tr>\n",
              "      <th>0</th>\n",
              "      <td>구천면주유소</td>\n",
              "      <td>서울 강동구 구천면로 357 (암사동)</td>\n",
              "      <td>1374</td>\n",
              "      <td>N</td>\n",
              "      <td>현대오일뱅크</td>\n",
              "      <td>강동구</td>\n",
              "    </tr>\n",
              "    <tr>\n",
              "      <th>1</th>\n",
              "      <td>SK네트웍스 명일셀프주유소</td>\n",
              "      <td>서울 강동구 고덕로 168 (명일동)</td>\n",
              "      <td>1375</td>\n",
              "      <td>N</td>\n",
              "      <td>SK에너지</td>\n",
              "      <td>강동구</td>\n",
              "    </tr>\n",
              "    <tr>\n",
              "      <th>2</th>\n",
              "      <td>SK네트웍스㈜암사주유소(self)</td>\n",
              "      <td>서울 강동구 올림픽로 749 (암사동)</td>\n",
              "      <td>1379</td>\n",
              "      <td>Y</td>\n",
              "      <td>SK에너지</td>\n",
              "      <td>강동구</td>\n",
              "    </tr>\n",
              "    <tr>\n",
              "      <th>3</th>\n",
              "      <td>고속셀프주유소</td>\n",
              "      <td>서울 강동구 천호대로 1246</td>\n",
              "      <td>1379</td>\n",
              "      <td>Y</td>\n",
              "      <td>SK에너지</td>\n",
              "      <td>강동구</td>\n",
              "    </tr>\n",
              "    <tr>\n",
              "      <th>4</th>\n",
              "      <td>지에스칼텍스㈜ 동서울주유소</td>\n",
              "      <td>서울 강동구 천호대로 1456 (상일동)</td>\n",
              "      <td>1380</td>\n",
              "      <td>Y</td>\n",
              "      <td>GS칼텍스</td>\n",
              "      <td>강동구</td>\n",
              "    </tr>\n",
              "  </tbody>\n",
              "</table>\n",
              "</div>"
            ],
            "text/plain": [
              "            Oil_store                      주소    가격 셀프      상표    구\n",
              "0              구천면주유소   서울 강동구 구천면로 357 (암사동)  1374  N  현대오일뱅크  강동구\n",
              "1      SK네트웍스 명일셀프주유소    서울 강동구 고덕로 168 (명일동)  1375  N   SK에너지  강동구\n",
              "2  SK네트웍스㈜암사주유소(self)   서울 강동구 올림픽로 749 (암사동)  1379  Y   SK에너지  강동구\n",
              "3             고속셀프주유소        서울 강동구 천호대로 1246  1379  Y   SK에너지  강동구\n",
              "4      지에스칼텍스㈜ 동서울주유소  서울 강동구 천호대로 1456 (상일동)  1380  Y   GS칼텍스  강동구"
            ]
          },
          "metadata": {
            "tags": []
          },
          "execution_count": 48
        }
      ]
    },
    {
      "cell_type": "markdown",
      "metadata": {
        "id": "K0DRcbuULuyL"
      },
      "source": [
        "25개의 구가 모두 잘 추출되었는지 확인하기 위해서는 아래와 같이 unique()를 통해 확인할 수 있습니다."
      ]
    },
    {
      "cell_type": "code",
      "metadata": {
        "id": "TKJ7K-65LuyM",
        "outputId": "d90f1706-f04f-4b61-c0cb-659473613ae7"
      },
      "source": [
        "stations['구'].unique()"
      ],
      "execution_count": null,
      "outputs": [
        {
          "output_type": "execute_result",
          "data": {
            "text/plain": [
              "array(['강동구', '동대문구', '동작구', '마포구', '서대문구', '서초구', '성동구', '성북구', '송파구',\n",
              "       '양천구', '영등포구', '강북구', '용산구', '은평구', '종로구', '중구', '중랑구', '강서구',\n",
              "       '관악구', '광진구', '구로구', '금천구', '노원구', '도봉구', '강남구'], dtype=object)"
            ]
          },
          "metadata": {
            "tags": []
          },
          "execution_count": 49
        }
      ]
    },
    {
      "cell_type": "markdown",
      "metadata": {
        "id": "ySR1BVR3LuyN"
      },
      "source": [
        "이상하게 추출된 구도 없고, 대충 다 담긴 것 같은데, 총 25개인지 확인해보는게 좋을 것 같네요."
      ]
    },
    {
      "cell_type": "code",
      "metadata": {
        "id": "rG-2mN04LuyN",
        "outputId": "3d238861-d5b6-480f-b2a9-aa97d89f6ea1"
      },
      "source": [
        "len(stations['구'].unique())"
      ],
      "execution_count": null,
      "outputs": [
        {
          "output_type": "execute_result",
          "data": {
            "text/plain": [
              "25"
            ]
          },
          "metadata": {
            "tags": []
          },
          "execution_count": 50
        }
      ]
    },
    {
      "cell_type": "markdown",
      "metadata": {
        "id": "-fWmp8IfLuyN"
      },
      "source": [
        "그 다음엔 가격들을 전반적으로 살펴보도록 할게요. false 밖에 없다는 말은 결측값이 없다는 말인데, 결측값이 없다고 다 된걸까요? "
      ]
    },
    {
      "cell_type": "code",
      "metadata": {
        "id": "ducP03pHLuyO",
        "outputId": "6a618b64-e7d0-434e-8723-4a3abce8e40d"
      },
      "source": [
        "stations['가격'].isnull().value_counts()"
      ],
      "execution_count": null,
      "outputs": [
        {
          "output_type": "execute_result",
          "data": {
            "text/plain": [
              "False    501\n",
              "Name: 가격, dtype: int64"
            ]
          },
          "metadata": {
            "tags": []
          },
          "execution_count": 51
        }
      ]
    },
    {
      "cell_type": "code",
      "metadata": {
        "id": "112UOTPULuyO",
        "outputId": "d08fc962-f6f5-409f-a66a-60e479eb6544"
      },
      "source": [
        "stations['가격'].unique()"
      ],
      "execution_count": null,
      "outputs": [
        {
          "output_type": "execute_result",
          "data": {
            "text/plain": [
              "array([1374, 1375, 1379, 1380, 1399, 1438, 1448, 1463, 1468, 1469, 1487,\n",
              "       1528, 1548, 1798, 1272, 1275, 1325, 1327, 1329, 1347, 1348, 1377,\n",
              "       1398, 1407, 1419, 1458, 1499, 1595, 1598, 1349, 1359, 1429, 1439,\n",
              "       1565, '1447', '1457', '1498', '1567', '1569', '1619', '1639',\n",
              "       '1709', '1749', '1829', '-', 1344, 1369, 1378, 1680, 1917, 1319,\n",
              "       1409, 1418, 1428, 1437, 1445, 1446, 1447, 1459, 1467, 1488, 1497,\n",
              "       1519, 1589, 1879, 1887, 1898, 1978, 1308, 1326, 1346, 1368, 1388,\n",
              "       1455, 1498, 1648, 1968, 1237, 1262, 1266, 1277, 1281, 1285, 1287,\n",
              "       1298, 1299, 1317, 1339, 1383, 1385, 1397, 1411, 1412, 1413, 1417,\n",
              "       1424, 1425, 1435, 1443, 1449, 1478, 1495, 1619, 1258, 1268, 1284,\n",
              "       1294, 1315, 1316, 1318, 1335, 1336, 1396, 1483, 1579, 1787, 1289,\n",
              "       1588, 1799, 1840, 1875, 1890, 1929, 1930, 1936, 1257, 1297, 1309,\n",
              "       1558, 1668, 1669, 1757, 1884, 1948, 1985, 1990, 1998, 1999, 2018,\n",
              "       2059, '1279', '1285', '1294', '1297', '1299', '1305', '1339',\n",
              "       '1348', '1349', '1368', '1375', '1443', 1415, 1420, 1490, 1988,\n",
              "       1688, 1758, 1859, 2035, 2049, 2079, 2088, 2099, 1267, 1307, 1358,\n",
              "       1372, 1286, 1290, 1295, 1314, 1357, 1365, 1387, 1394, 1434, 1462,\n",
              "       1535, 1789, 1489, 1550, 1306, 1345, 1430, 1560, 1338, 1354, 1355,\n",
              "       1392, 1480, 1525, 1279, 1337, '1409', '1419', '1428', '1438',\n",
              "       '1439', '1455', '1458', '1469', '1485', '1495', '1595', '1648',\n",
              "       '1663', '1676', '1698', '1699', '1729', '1777', '1799', '1838',\n",
              "       '1844', '1875', '1878', '1880', '1883', '1895', '2082'],\n",
              "      dtype=object)"
            ]
          },
          "metadata": {
            "tags": []
          },
          "execution_count": 52
        }
      ]
    },
    {
      "cell_type": "markdown",
      "metadata": {
        "id": "LIvtjZ8bLuyP"
      },
      "source": [
        "중간에 '-'가 보이시죠? '-'로 가격정보가 없는 것을 저렇게 표시해놨네요. 어떤 행이 가격 정보가 없는 것인지 불린 인덱싱을 사용해서 알아볼게요."
      ]
    },
    {
      "cell_type": "code",
      "metadata": {
        "id": "wGchQta2LuyP",
        "outputId": "cded86a6-e3d5-4993-e2ce-b14d16128ea3"
      },
      "source": [
        "stations[stations['가격'] == '-']"
      ],
      "execution_count": null,
      "outputs": [
        {
          "output_type": "execute_result",
          "data": {
            "text/html": [
              "<div>\n",
              "<style scoped>\n",
              "    .dataframe tbody tr th:only-of-type {\n",
              "        vertical-align: middle;\n",
              "    }\n",
              "\n",
              "    .dataframe tbody tr th {\n",
              "        vertical-align: top;\n",
              "    }\n",
              "\n",
              "    .dataframe thead th {\n",
              "        text-align: right;\n",
              "    }\n",
              "</style>\n",
              "<table border=\"1\" class=\"dataframe\">\n",
              "  <thead>\n",
              "    <tr style=\"text-align: right;\">\n",
              "      <th></th>\n",
              "      <th>Oil_store</th>\n",
              "      <th>주소</th>\n",
              "      <th>가격</th>\n",
              "      <th>셀프</th>\n",
              "      <th>상표</th>\n",
              "      <th>구</th>\n",
              "    </tr>\n",
              "  </thead>\n",
              "  <tbody>\n",
              "    <tr>\n",
              "      <th>12</th>\n",
              "      <td>서강주유소</td>\n",
              "      <td>서울 마포구 독막로 134 (창전동)</td>\n",
              "      <td>-</td>\n",
              "      <td>N</td>\n",
              "      <td>SK에너지</td>\n",
              "      <td>마포구</td>\n",
              "    </tr>\n",
              "    <tr>\n",
              "      <th>16</th>\n",
              "      <td>삼융주유소</td>\n",
              "      <td>서울 은평구 수색로 299 (수색동)</td>\n",
              "      <td>-</td>\n",
              "      <td>N</td>\n",
              "      <td>SK에너지</td>\n",
              "      <td>은평구</td>\n",
              "    </tr>\n",
              "    <tr>\n",
              "      <th>40</th>\n",
              "      <td>삼성주유소</td>\n",
              "      <td>서울 강남구 삼성로 521 (삼성동)</td>\n",
              "      <td>-</td>\n",
              "      <td>N</td>\n",
              "      <td>SK에너지</td>\n",
              "      <td>강남구</td>\n",
              "    </tr>\n",
              "    <tr>\n",
              "      <th>41</th>\n",
              "      <td>동우주유소</td>\n",
              "      <td>서울특별시 강남구  봉은사로 311 (논현동)</td>\n",
              "      <td>-</td>\n",
              "      <td>N</td>\n",
              "      <td>SK에너지</td>\n",
              "      <td>강남구</td>\n",
              "    </tr>\n",
              "  </tbody>\n",
              "</table>\n",
              "</div>"
            ],
            "text/plain": [
              "   Oil_store                         주소 가격 셀프     상표    구\n",
              "12     서강주유소       서울 마포구 독막로 134 (창전동)  -  N  SK에너지  마포구\n",
              "16     삼융주유소       서울 은평구 수색로 299 (수색동)  -  N  SK에너지  은평구\n",
              "40     삼성주유소       서울 강남구 삼성로 521 (삼성동)  -  N  SK에너지  강남구\n",
              "41     동우주유소  서울특별시 강남구  봉은사로 311 (논현동)  -  N  SK에너지  강남구"
            ]
          },
          "metadata": {
            "tags": []
          },
          "execution_count": 53
        }
      ]
    },
    {
      "cell_type": "markdown",
      "metadata": {
        "id": "RNm4x7UALuyV"
      },
      "source": [
        "총 4개의 주유소에서 가격이 없군요. 이 row를 없애도록 하겠습니다. "
      ]
    },
    {
      "cell_type": "code",
      "metadata": {
        "id": "lIaHm6UkLuyW",
        "outputId": "5c6da9ec-8122-4914-c38d-7b21f80329e3"
      },
      "source": [
        "stations = stations[stations['가격'] != '-']\n",
        "stations[stations['가격'] == '-']"
      ],
      "execution_count": null,
      "outputs": [
        {
          "output_type": "execute_result",
          "data": {
            "text/html": [
              "<div>\n",
              "<style scoped>\n",
              "    .dataframe tbody tr th:only-of-type {\n",
              "        vertical-align: middle;\n",
              "    }\n",
              "\n",
              "    .dataframe tbody tr th {\n",
              "        vertical-align: top;\n",
              "    }\n",
              "\n",
              "    .dataframe thead th {\n",
              "        text-align: right;\n",
              "    }\n",
              "</style>\n",
              "<table border=\"1\" class=\"dataframe\">\n",
              "  <thead>\n",
              "    <tr style=\"text-align: right;\">\n",
              "      <th></th>\n",
              "      <th>Oil_store</th>\n",
              "      <th>주소</th>\n",
              "      <th>가격</th>\n",
              "      <th>셀프</th>\n",
              "      <th>상표</th>\n",
              "      <th>구</th>\n",
              "    </tr>\n",
              "  </thead>\n",
              "  <tbody>\n",
              "  </tbody>\n",
              "</table>\n",
              "</div>"
            ],
            "text/plain": [
              "Empty DataFrame\n",
              "Columns: [Oil_store, 주소, 가격, 셀프, 상표, 구]\n",
              "Index: []"
            ]
          },
          "metadata": {
            "tags": []
          },
          "execution_count": 54
        }
      ]
    },
    {
      "cell_type": "markdown",
      "metadata": {
        "id": "K6HkUN2rLuyW"
      },
      "source": [
        "잘 지워졌네요."
      ]
    },
    {
      "cell_type": "code",
      "metadata": {
        "id": "wI0HpNFULuyX",
        "outputId": "7dd5ebfa-39e3-4b01-8cb6-d6d44c9d06fd"
      },
      "source": [
        "stations.info()"
      ],
      "execution_count": null,
      "outputs": [
        {
          "output_type": "stream",
          "text": [
            "<class 'pandas.core.frame.DataFrame'>\n",
            "Int64Index: 497 entries, 0 to 39\n",
            "Data columns (total 6 columns):\n",
            " #   Column     Non-Null Count  Dtype \n",
            "---  ------     --------------  ----- \n",
            " 0   Oil_store  497 non-null    object\n",
            " 1   주소         497 non-null    object\n",
            " 2   가격         497 non-null    object\n",
            " 3   셀프         497 non-null    object\n",
            " 4   상표         497 non-null    object\n",
            " 5   구          497 non-null    object\n",
            "dtypes: object(6)\n",
            "memory usage: 27.2+ KB\n"
          ],
          "name": "stdout"
        }
      ]
    },
    {
      "cell_type": "markdown",
      "metadata": {
        "id": "AP2w4daALuyX"
      },
      "source": [
        "가격이 아직도 숫자가 아닌 object니 수정해보도록 하겠습니다."
      ]
    },
    {
      "cell_type": "code",
      "metadata": {
        "id": "fs2GaHGRLuyX",
        "outputId": "f845f98d-c268-44eb-e0f5-419618ac46da"
      },
      "source": [
        "stations['가격'] = stations['가격'].astype('float')\n",
        "stations.info()"
      ],
      "execution_count": null,
      "outputs": [
        {
          "output_type": "stream",
          "text": [
            "<class 'pandas.core.frame.DataFrame'>\n",
            "Int64Index: 497 entries, 0 to 39\n",
            "Data columns (total 6 columns):\n",
            " #   Column     Non-Null Count  Dtype  \n",
            "---  ------     --------------  -----  \n",
            " 0   Oil_store  497 non-null    object \n",
            " 1   주소         497 non-null    object \n",
            " 2   가격         497 non-null    float64\n",
            " 3   셀프         497 non-null    object \n",
            " 4   상표         497 non-null    object \n",
            " 5   구          497 non-null    object \n",
            "dtypes: float64(1), object(5)\n",
            "memory usage: 27.2+ KB\n"
          ],
          "name": "stdout"
        }
      ]
    },
    {
      "cell_type": "markdown",
      "metadata": {
        "id": "zk-pC1kBLuyY"
      },
      "source": [
        "잘 변경 됐네요! 이 정도로 데이터를 가공하면 된 것 같습니다.  \n",
        "\n",
        "### 6.4 boxplot으로 셀프 주유소 가격 확인해보기 \n",
        "\n",
        "저어번에 boxplot에 대해 배워봤을 겁니다. 그만큼 boxplot은 데이터의 전반적인 수치들을 확인하기에 편리한 시각화에요. 셀프 주유소가 정말로 저렴한지 boxplot으로 시각화해보겠습니다. 우선 matplotlib의 한글 문제를 처리하고 필요한 모듈들을 import 할게요."
      ]
    },
    {
      "cell_type": "code",
      "metadata": {
        "id": "uHcpjpP9LuyY"
      },
      "source": [
        "import matplotlib.pyplot as plt\n",
        "import seaborn as sns\n",
        "%matplotlib inline\n",
        "\n",
        "import platform\n",
        "\n",
        "path = \"c:/Windows/Fonts/malgun.ttf\"\n",
        "from matplotlib import font_manager, rc\n",
        "if platform.system() == 'Darwin':\n",
        "    rc('font', family='AppleGothic')\n",
        "elif platform.system() == 'Windows':\n",
        "    font_name = font_manager.FontProperties(fname=path).get_name()\n",
        "    rc('font', family=font_name)\n",
        "else:\n",
        "    print('Unknown system... sorry~~~~') "
      ],
      "execution_count": null,
      "outputs": []
    },
    {
      "cell_type": "markdown",
      "metadata": {
        "id": "MDmPm9DILuyY"
      },
      "source": [
        "셀프 유무에 따른 가격을 확인해보겠습니다."
      ]
    },
    {
      "cell_type": "code",
      "metadata": {
        "id": "65U580QfLuyZ",
        "outputId": "218eeba8-cf0f-4840-c023-b15c748f1eba"
      },
      "source": [
        "stations.boxplot(column='가격', by='셀프', figsize=(12,8))"
      ],
      "execution_count": null,
      "outputs": [
        {
          "output_type": "execute_result",
          "data": {
            "text/plain": [
              "<AxesSubplot:title={'center':'가격'}, xlabel='셀프'>"
            ]
          },
          "metadata": {
            "tags": []
          },
          "execution_count": 58
        },
        {
          "output_type": "display_data",
          "data": {
            "image/png": "[encoded data removed]",
            "text/plain": [
              "<Figure size 864x576 with 1 Axes>"
            ]
          },
          "metadata": {
            "tags": [],
            "needs_background": "light"
          }
        }
      ]
    },
    {
      "cell_type": "markdown",
      "metadata": {
        "id": "Ogko6B7WLuyZ"
      },
      "source": [
        "확실히 셀프 주유소가 싼 가격이란게 보이죠? 검은색 점들은 이상치라는 거고, 평균도 셀프주유소가 훨씬 낮고, 전반적으로 셀프 주유소가 더 싼 것을 알 수 있습니다. \n",
        "\n",
        "이제는 상표에 따라서 boxplot을 시각화해볼게요."
      ]
    },
    {
      "cell_type": "code",
      "metadata": {
        "id": "IhaTSOMzLuya",
        "outputId": "4adde9ad-24d8-4769-ff0a-d95cb93ead49"
      },
      "source": [
        "plt.figure(figsize=(12,8))\n",
        "sns.boxplot(x='상표', y='가격', hue='셀프', data=stations, palette='Set3')\n",
        "plt.show()"
      ],
      "execution_count": null,
      "outputs": [
        {
          "output_type": "display_data",
          "data": {
            "image/png": "[encoded data removed]",
            "text/plain": [
              "<Figure size 864x576 with 1 Axes>"
            ]
          },
          "metadata": {
            "tags": [],
            "needs_background": "light"
          }
        }
      ]
    },
    {
      "cell_type": "markdown",
      "metadata": {
        "id": "RM1Pe0sXLuya"
      },
      "source": [
        "어헛, sk에너지가 상당히 비싸네요. 여기서도 같은 상표라도 셀프 주유소들이 더 싸게 가격이 분포되어 있고요, 알뜰 주유소가 알뜰이라는 이름 답게 싸다는 것 또한 알 수 있네요.\n",
        "\n",
        "셀프 주유소인지 아닌지는 제외하고 상표로만 boxplot을 보겠습니다."
      ]
    },
    {
      "cell_type": "code",
      "metadata": {
        "id": "f0TakSomLuya",
        "outputId": "3d2a23d5-607b-4eea-c001-749210feaeff"
      },
      "source": [
        "plt.figure(figsize=(12,8))\n",
        "sns.boxplot(x='상표', y='가격', data=stations, palette='Set3')\n",
        "sns.swarmplot(x='상표', y='가격', data=stations, color='.8')  # 1로 하면 환공포증 느낌...\n",
        "plt.show()"
      ],
      "execution_count": null,
      "outputs": [
        {
          "output_type": "display_data",
          "data": {
            "image/png": "[encoded data removed]",
            "text/plain": [
              "<Figure size 864x576 with 1 Axes>"
            ]
          },
          "metadata": {
            "tags": [],
            "needs_background": "light"
          }
        }
      ]
    },
    {
      "cell_type": "markdown",
      "metadata": {
        "id": "zEsBeev-Luyb"
      },
      "source": [
        "1로 해보세요... 진짜 징그러워요...(소름) 아무튼 알뜰주유소 이용을 추천합니다ㅎㅎ 대기업들은 돈도 많으면서 더 비싸네요😅\n",
        "\n",
        "결과적으로 '셀프 주유소는 더 저렴한가'는 맞다고 할 수 있네요! 요렇게 팩트체크를 완료해봤습니다. \n",
        "\n",
        "### 6.5 서울시 구별 주유 가격 확인하기 \n",
        "\n",
        "여기까지만 하면 아쉽잖아요. 그래서 구별로 가격의 정도를 시각화해보려고 합니다. 그래서 앞서 주소에서 구를 추출한 것이에요. 이전에 사용했던 json, folium, googlemaps를 사용해서 시각화해줄 겁니다. 필요한 모듈을 import 해줄게요."
      ]
    },
    {
      "cell_type": "code",
      "metadata": {
        "id": "mdEMC6qFLuyb",
        "outputId": "77d7b56e-aaf2-41eb-e0b8-c53d894881e8"
      },
      "source": [
        "pip install googlemaps"
      ],
      "execution_count": null,
      "outputs": [
        {
          "output_type": "stream",
          "text": [
            "Collecting googlemaps\n",
            "  Downloading googlemaps-4.4.5.tar.gz (31 kB)\n",
            "Requirement already satisfied: requests<3.0,>=2.20.0 in c:\\anaconda3\\lib\\site-packages (from googlemaps) (2.24.0)\n",
            "Requirement already satisfied: urllib3!=1.25.0,!=1.25.1,<1.26,>=1.21.1 in c:\\anaconda3\\lib\\site-packages (from requests<3.0,>=2.20.0->googlemaps) (1.25.11)\n",
            "Requirement already satisfied: idna<3,>=2.5 in c:\\anaconda3\\lib\\site-packages (from requests<3.0,>=2.20.0->googlemaps) (2.10)\n",
            "Requirement already satisfied: chardet<4,>=3.0.2 in c:\\anaconda3\\lib\\site-packages (from requests<3.0,>=2.20.0->googlemaps) (3.0.4)\n",
            "Requirement already satisfied: certifi>=2017.4.17 in c:\\anaconda3\\lib\\site-packages (from requests<3.0,>=2.20.0->googlemaps) (2020.12.5)\n",
            "Building wheels for collected packages: googlemaps\n",
            "  Building wheel for googlemaps (setup.py): started\n",
            "  Building wheel for googlemaps (setup.py): finished with status 'done'\n",
            "  Created wheel for googlemaps: filename=googlemaps-4.4.5-py3-none-any.whl size=37988 sha256=eabeca586023a01b2a6d95b120ed592e2bf04833239a53660231d9b92a834759\n",
            "  Stored in directory: c:\\users\\jung6\\appdata\\local\\pip\\cache\\wheels\\ba\\e0\\b5\\c1a0de4000d5c565052ded4d5e77bf185674de0f52aaa37d81\n",
            "Successfully built googlemaps\n",
            "Installing collected packages: googlemaps\n",
            "Successfully installed googlemaps-4.4.5\n",
            "Note: you may need to restart the kernel to use updated packages.\n"
          ],
          "name": "stdout"
        }
      ]
    },
    {
      "cell_type": "code",
      "metadata": {
        "id": "8uG-Sx1gLuyc"
      },
      "source": [
        "import json\n",
        "import folium\n",
        "import googlemaps\n",
        "import warnings  # futurewarning 뜨지 않도록! \n",
        "warnings.simplefilter(action = \"ignore\", category = FutureWarning)"
      ],
      "execution_count": null,
      "outputs": []
    },
    {
      "cell_type": "markdown",
      "metadata": {
        "id": "q94NPjEnLuyc"
      },
      "source": [
        "가격별로 먼저 제일 비싼곳부터 나열해볼게요. 딱 10개를 가져와보겠습니다."
      ]
    },
    {
      "cell_type": "code",
      "metadata": {
        "id": "EQN83M-KLuyc",
        "outputId": "a9c203e5-5b43-4f7c-ceb5-546567b80002"
      },
      "source": [
        "stations.sort_values(by='가격', ascending=False).head(10)"
      ],
      "execution_count": null,
      "outputs": [
        {
          "output_type": "execute_result",
          "data": {
            "text/html": [
              "<div>\n",
              "<style scoped>\n",
              "    .dataframe tbody tr th:only-of-type {\n",
              "        vertical-align: middle;\n",
              "    }\n",
              "\n",
              "    .dataframe tbody tr th {\n",
              "        vertical-align: top;\n",
              "    }\n",
              "\n",
              "    .dataframe thead th {\n",
              "        text-align: right;\n",
              "    }\n",
              "</style>\n",
              "<table border=\"1\" class=\"dataframe\">\n",
              "  <thead>\n",
              "    <tr style=\"text-align: right;\">\n",
              "      <th></th>\n",
              "      <th>Oil_store</th>\n",
              "      <th>주소</th>\n",
              "      <th>가격</th>\n",
              "      <th>셀프</th>\n",
              "      <th>상표</th>\n",
              "      <th>구</th>\n",
              "    </tr>\n",
              "  </thead>\n",
              "  <tbody>\n",
              "    <tr>\n",
              "      <th>11</th>\n",
              "      <td>서남주유소</td>\n",
              "      <td>서울 중구 통일로 30</td>\n",
              "      <td>2099.0</td>\n",
              "      <td>N</td>\n",
              "      <td>SK에너지</td>\n",
              "      <td>중구</td>\n",
              "    </tr>\n",
              "    <tr>\n",
              "      <th>10</th>\n",
              "      <td>장충주유소</td>\n",
              "      <td>서울 중구 장충단로 202 (장충동1가)</td>\n",
              "      <td>2088.0</td>\n",
              "      <td>N</td>\n",
              "      <td>SK에너지</td>\n",
              "      <td>중구</td>\n",
              "    </tr>\n",
              "    <tr>\n",
              "      <th>39</th>\n",
              "      <td>뉴서울(강남)</td>\n",
              "      <td>서울 강남구 언주로 716 (논현동)</td>\n",
              "      <td>2082.0</td>\n",
              "      <td>N</td>\n",
              "      <td>SK에너지</td>\n",
              "      <td>강남구</td>\n",
              "    </tr>\n",
              "    <tr>\n",
              "      <th>9</th>\n",
              "      <td>에스씨(주) 역전주유소</td>\n",
              "      <td>서울 중구 퇴계로 15</td>\n",
              "      <td>2079.0</td>\n",
              "      <td>N</td>\n",
              "      <td>GS칼텍스</td>\n",
              "      <td>중구</td>\n",
              "    </tr>\n",
              "    <tr>\n",
              "      <th>8</th>\n",
              "      <td>필동주유소</td>\n",
              "      <td>서울 중구  퇴계로 196 (필동2가)</td>\n",
              "      <td>2059.0</td>\n",
              "      <td>N</td>\n",
              "      <td>GS칼텍스</td>\n",
              "      <td>중구</td>\n",
              "    </tr>\n",
              "    <tr>\n",
              "      <th>13</th>\n",
              "      <td>서계주유소</td>\n",
              "      <td>서울 용산구 청파로 367 (서계동)</td>\n",
              "      <td>2059.0</td>\n",
              "      <td>N</td>\n",
              "      <td>GS칼텍스</td>\n",
              "      <td>용산구</td>\n",
              "    </tr>\n",
              "    <tr>\n",
              "      <th>7</th>\n",
              "      <td>SK에너지(주) 퇴계로주유소</td>\n",
              "      <td>서울 중구 퇴계로 228 (필동2가)</td>\n",
              "      <td>2049.0</td>\n",
              "      <td>N</td>\n",
              "      <td>SK에너지</td>\n",
              "      <td>중구</td>\n",
              "    </tr>\n",
              "    <tr>\n",
              "      <th>6</th>\n",
              "      <td>지에스칼텍스(주)초동주유소</td>\n",
              "      <td>서울 중구 마른내로 31</td>\n",
              "      <td>2035.0</td>\n",
              "      <td>N</td>\n",
              "      <td>GS칼텍스</td>\n",
              "      <td>중구</td>\n",
              "    </tr>\n",
              "    <tr>\n",
              "      <th>12</th>\n",
              "      <td>수림석유 제3한강주유소</td>\n",
              "      <td>서울 용산구 한남대로 45 (한남동)</td>\n",
              "      <td>2018.0</td>\n",
              "      <td>N</td>\n",
              "      <td>GS칼텍스</td>\n",
              "      <td>용산구</td>\n",
              "    </tr>\n",
              "    <tr>\n",
              "      <th>11</th>\n",
              "      <td>갈월동주유소</td>\n",
              "      <td>서울 용산구 한강대로 322 (갈월동)</td>\n",
              "      <td>1999.0</td>\n",
              "      <td>N</td>\n",
              "      <td>SK에너지</td>\n",
              "      <td>용산구</td>\n",
              "    </tr>\n",
              "  </tbody>\n",
              "</table>\n",
              "</div>"
            ],
            "text/plain": [
              "          Oil_store                      주소      가격 셀프     상표    구\n",
              "11            서남주유소            서울 중구 통일로 30  2099.0  N  SK에너지   중구\n",
              "10            장충주유소  서울 중구 장충단로 202 (장충동1가)  2088.0  N  SK에너지   중구\n",
              "39          뉴서울(강남)    서울 강남구 언주로 716 (논현동)  2082.0  N  SK에너지  강남구\n",
              "9      에스씨(주) 역전주유소            서울 중구 퇴계로 15  2079.0  N  GS칼텍스   중구\n",
              "8             필동주유소   서울 중구  퇴계로 196 (필동2가)  2059.0  N  GS칼텍스   중구\n",
              "13            서계주유소    서울 용산구 청파로 367 (서계동)  2059.0  N  GS칼텍스  용산구\n",
              "7   SK에너지(주) 퇴계로주유소    서울 중구 퇴계로 228 (필동2가)  2049.0  N  SK에너지   중구\n",
              "6    지에스칼텍스(주)초동주유소           서울 중구 마른내로 31  2035.0  N  GS칼텍스   중구\n",
              "12     수림석유 제3한강주유소    서울 용산구 한남대로 45 (한남동)  2018.0  N  GS칼텍스  용산구\n",
              "11           갈월동주유소   서울 용산구 한강대로 322 (갈월동)  1999.0  N  SK에너지  용산구"
            ]
          },
          "metadata": {
            "tags": []
          },
          "execution_count": 64
        }
      ]
    },
    {
      "cell_type": "markdown",
      "metadata": {
        "id": "A2mQUfyALuyd"
      },
      "source": [
        "강남이 비쌀 줄 알았는데, 중구, 용산구 쪽에 비싼 주유소들이 많군요. 중구에는 광화문, 시청 등이 있어서 일까요. 상당히 비싸네요.\n",
        "\n",
        "다음에는 저의 집이 서대문에 있어서 싼 주소가 어딨는지 알아봤어요."
      ]
    },
    {
      "cell_type": "code",
      "metadata": {
        "id": "nLuWZaC5Luyd",
        "outputId": "26401c75-a773-425f-e96e-ff32b789a773"
      },
      "source": [
        "stations[stations['구'] == '서대문구'].sort_values(by='가격')"
      ],
      "execution_count": null,
      "outputs": [
        {
          "output_type": "execute_result",
          "data": {
            "text/html": [
              "<div>\n",
              "<style scoped>\n",
              "    .dataframe tbody tr th:only-of-type {\n",
              "        vertical-align: middle;\n",
              "    }\n",
              "\n",
              "    .dataframe tbody tr th {\n",
              "        vertical-align: top;\n",
              "    }\n",
              "\n",
              "    .dataframe thead th {\n",
              "        text-align: right;\n",
              "    }\n",
              "</style>\n",
              "<table border=\"1\" class=\"dataframe\">\n",
              "  <thead>\n",
              "    <tr style=\"text-align: right;\">\n",
              "      <th></th>\n",
              "      <th>Oil_store</th>\n",
              "      <th>주소</th>\n",
              "      <th>가격</th>\n",
              "      <th>셀프</th>\n",
              "      <th>상표</th>\n",
              "      <th>구</th>\n",
              "    </tr>\n",
              "  </thead>\n",
              "  <tbody>\n",
              "    <tr>\n",
              "      <th>0</th>\n",
              "      <td>(주)창원이엔지 홍제지점</td>\n",
              "      <td>서울 서대문구 통일로 455 (홍제동)</td>\n",
              "      <td>1329.0</td>\n",
              "      <td>N</td>\n",
              "      <td>현대오일뱅크</td>\n",
              "      <td>서대문구</td>\n",
              "    </tr>\n",
              "    <tr>\n",
              "      <th>1</th>\n",
              "      <td>삼미상사(주)서부주유소</td>\n",
              "      <td>서울 서대문구 성산로 255 (연희동)</td>\n",
              "      <td>1344.0</td>\n",
              "      <td>Y</td>\n",
              "      <td>SK에너지</td>\n",
              "      <td>서대문구</td>\n",
              "    </tr>\n",
              "    <tr>\n",
              "      <th>2</th>\n",
              "      <td>(주)가재울뉴타운주유소</td>\n",
              "      <td>서울 서대문구 모래내로 205</td>\n",
              "      <td>1344.0</td>\n",
              "      <td>Y</td>\n",
              "      <td>현대오일뱅크</td>\n",
              "      <td>서대문구</td>\n",
              "    </tr>\n",
              "    <tr>\n",
              "      <th>3</th>\n",
              "      <td>(주)마봉 구도일주유소 두꺼비</td>\n",
              "      <td>서울 서대문구 성산로 312 (연희동)</td>\n",
              "      <td>1344.0</td>\n",
              "      <td>Y</td>\n",
              "      <td>S-OIL</td>\n",
              "      <td>서대문구</td>\n",
              "    </tr>\n",
              "    <tr>\n",
              "      <th>4</th>\n",
              "      <td>남정주유소</td>\n",
              "      <td>서울특별시 서대문구  모래내로 243 (남가좌동)</td>\n",
              "      <td>1349.0</td>\n",
              "      <td>N</td>\n",
              "      <td>GS칼텍스</td>\n",
              "      <td>서대문구</td>\n",
              "    </tr>\n",
              "    <tr>\n",
              "      <th>5</th>\n",
              "      <td>(주)마봉 신우주유소</td>\n",
              "      <td>서울 서대문구 가좌로 106 (홍은동)</td>\n",
              "      <td>1349.0</td>\n",
              "      <td>Y</td>\n",
              "      <td>S-OIL</td>\n",
              "      <td>서대문구</td>\n",
              "    </tr>\n",
              "    <tr>\n",
              "      <th>6</th>\n",
              "      <td>코리아상사연세주유소</td>\n",
              "      <td>서울 서대문구 연희로 184</td>\n",
              "      <td>1369.0</td>\n",
              "      <td>Y</td>\n",
              "      <td>GS칼텍스</td>\n",
              "      <td>서대문구</td>\n",
              "    </tr>\n",
              "    <tr>\n",
              "      <th>7</th>\n",
              "      <td>지에스칼텍스(주)홍제동주유소</td>\n",
              "      <td>서울 서대문구 통일로 372</td>\n",
              "      <td>1375.0</td>\n",
              "      <td>Y</td>\n",
              "      <td>GS칼텍스</td>\n",
              "      <td>서대문구</td>\n",
              "    </tr>\n",
              "    <tr>\n",
              "      <th>8</th>\n",
              "      <td>삼보셀프주유소</td>\n",
              "      <td>서울 서대문구 연희로 78 (연희동)</td>\n",
              "      <td>1378.0</td>\n",
              "      <td>Y</td>\n",
              "      <td>SK에너지</td>\n",
              "      <td>서대문구</td>\n",
              "    </tr>\n",
              "    <tr>\n",
              "      <th>9</th>\n",
              "      <td>광호주유소</td>\n",
              "      <td>서울 서대문구 연희로 266 (홍은동)</td>\n",
              "      <td>1378.0</td>\n",
              "      <td>N</td>\n",
              "      <td>SK에너지</td>\n",
              "      <td>서대문구</td>\n",
              "    </tr>\n",
              "    <tr>\n",
              "      <th>10</th>\n",
              "      <td>연희주유소</td>\n",
              "      <td>서울 서대문구 연희로 129 (연희동 89-7번지)</td>\n",
              "      <td>1378.0</td>\n",
              "      <td>N</td>\n",
              "      <td>SK에너지</td>\n",
              "      <td>서대문구</td>\n",
              "    </tr>\n",
              "    <tr>\n",
              "      <th>11</th>\n",
              "      <td>중앙에너비스 동교지점</td>\n",
              "      <td>서울 서대문구 연희로 12 (창천동)</td>\n",
              "      <td>1378.0</td>\n",
              "      <td>Y</td>\n",
              "      <td>SK에너지</td>\n",
              "      <td>서대문구</td>\n",
              "    </tr>\n",
              "    <tr>\n",
              "      <th>12</th>\n",
              "      <td>KH에너지㈜직영 독립문주유소</td>\n",
              "      <td>서울 서대문구 통일로 384 (홍제동)</td>\n",
              "      <td>1398.0</td>\n",
              "      <td>N</td>\n",
              "      <td>SK에너지</td>\n",
              "      <td>서대문구</td>\n",
              "    </tr>\n",
              "    <tr>\n",
              "      <th>13</th>\n",
              "      <td>문화촌주유소</td>\n",
              "      <td>서울 서대문구 세검정로 87 (홍제동)</td>\n",
              "      <td>1680.0</td>\n",
              "      <td>N</td>\n",
              "      <td>S-OIL</td>\n",
              "      <td>서대문구</td>\n",
              "    </tr>\n",
              "    <tr>\n",
              "      <th>14</th>\n",
              "      <td>행촌제2주유소</td>\n",
              "      <td>서울 서대문구 성산로 490 (대신동)</td>\n",
              "      <td>1917.0</td>\n",
              "      <td>N</td>\n",
              "      <td>SK에너지</td>\n",
              "      <td>서대문구</td>\n",
              "    </tr>\n",
              "  </tbody>\n",
              "</table>\n",
              "</div>"
            ],
            "text/plain": [
              "           Oil_store                            주소      가격 셀프      상표     구\n",
              "0      (주)창원이엔지 홍제지점         서울 서대문구 통일로 455 (홍제동)  1329.0  N  현대오일뱅크  서대문구\n",
              "1       삼미상사(주)서부주유소         서울 서대문구 성산로 255 (연희동)  1344.0  Y   SK에너지  서대문구\n",
              "2       (주)가재울뉴타운주유소              서울 서대문구 모래내로 205  1344.0  Y  현대오일뱅크  서대문구\n",
              "3   (주)마봉 구도일주유소 두꺼비         서울 서대문구 성산로 312 (연희동)  1344.0  Y   S-OIL  서대문구\n",
              "4              남정주유소   서울특별시 서대문구  모래내로 243 (남가좌동)  1349.0  N   GS칼텍스  서대문구\n",
              "5        (주)마봉 신우주유소         서울 서대문구 가좌로 106 (홍은동)  1349.0  Y   S-OIL  서대문구\n",
              "6         코리아상사연세주유소               서울 서대문구 연희로 184  1369.0  Y   GS칼텍스  서대문구\n",
              "7    지에스칼텍스(주)홍제동주유소               서울 서대문구 통일로 372  1375.0  Y   GS칼텍스  서대문구\n",
              "8            삼보셀프주유소          서울 서대문구 연희로 78 (연희동)  1378.0  Y   SK에너지  서대문구\n",
              "9              광호주유소         서울 서대문구 연희로 266 (홍은동)  1378.0  N   SK에너지  서대문구\n",
              "10             연희주유소  서울 서대문구 연희로 129 (연희동 89-7번지)  1378.0  N   SK에너지  서대문구\n",
              "11       중앙에너비스 동교지점          서울 서대문구 연희로 12 (창천동)  1378.0  Y   SK에너지  서대문구\n",
              "12   KH에너지㈜직영 독립문주유소         서울 서대문구 통일로 384 (홍제동)  1398.0  N   SK에너지  서대문구\n",
              "13            문화촌주유소         서울 서대문구 세검정로 87 (홍제동)  1680.0  N   S-OIL  서대문구\n",
              "14           행촌제2주유소         서울 서대문구 성산로 490 (대신동)  1917.0  N   SK에너지  서대문구"
            ]
          },
          "metadata": {
            "tags": []
          },
          "execution_count": 65
        }
      ]
    },
    {
      "cell_type": "markdown",
      "metadata": {
        "id": "8Y9Lt8ksLuyd"
      },
      "source": [
        "오홍, 1번째 index가 우리집과 제일 가까운 곳이네요^6^ \n",
        "\n",
        "서울시에서 가장 낮은 주유소들을 어디에 있는지도 볼게요."
      ]
    },
    {
      "cell_type": "code",
      "metadata": {
        "id": "_8zpoe-_Luye",
        "outputId": "3c73b6eb-c50a-4f7b-f141-7b47225cb928"
      },
      "source": [
        "stations.sort_values(by='가격', ascending=True).head(10)"
      ],
      "execution_count": null,
      "outputs": [
        {
          "output_type": "execute_result",
          "data": {
            "text/html": [
              "<div>\n",
              "<style scoped>\n",
              "    .dataframe tbody tr th:only-of-type {\n",
              "        vertical-align: middle;\n",
              "    }\n",
              "\n",
              "    .dataframe tbody tr th {\n",
              "        vertical-align: top;\n",
              "    }\n",
              "\n",
              "    .dataframe thead th {\n",
              "        text-align: right;\n",
              "    }\n",
              "</style>\n",
              "<table border=\"1\" class=\"dataframe\">\n",
              "  <thead>\n",
              "    <tr style=\"text-align: right;\">\n",
              "      <th></th>\n",
              "      <th>Oil_store</th>\n",
              "      <th>주소</th>\n",
              "      <th>가격</th>\n",
              "      <th>셀프</th>\n",
              "      <th>상표</th>\n",
              "      <th>구</th>\n",
              "    </tr>\n",
              "  </thead>\n",
              "  <tbody>\n",
              "    <tr>\n",
              "      <th>0</th>\n",
              "      <td>이케이에너지㈜ 강산주유소</td>\n",
              "      <td>서울 성북구 보문로 27 (보문동7가)</td>\n",
              "      <td>1237.0</td>\n",
              "      <td>Y</td>\n",
              "      <td>GS칼텍스</td>\n",
              "      <td>성북구</td>\n",
              "    </tr>\n",
              "    <tr>\n",
              "      <th>1</th>\n",
              "      <td>원천주유소</td>\n",
              "      <td>서울 성북구 돌곶이로 142 (장위동)</td>\n",
              "      <td>1237.0</td>\n",
              "      <td>N</td>\n",
              "      <td>알뜰주유소</td>\n",
              "      <td>성북구</td>\n",
              "    </tr>\n",
              "    <tr>\n",
              "      <th>2</th>\n",
              "      <td>강산제2주유소</td>\n",
              "      <td>서울 성북구 보국문로 52</td>\n",
              "      <td>1237.0</td>\n",
              "      <td>Y</td>\n",
              "      <td>현대오일뱅크</td>\n",
              "      <td>성북구</td>\n",
              "    </tr>\n",
              "    <tr>\n",
              "      <th>3</th>\n",
              "      <td>(주)삼표에너지 정릉주유소</td>\n",
              "      <td>서울 성북구 보국문로 35 (정릉동)</td>\n",
              "      <td>1237.0</td>\n",
              "      <td>Y</td>\n",
              "      <td>GS칼텍스</td>\n",
              "      <td>성북구</td>\n",
              "    </tr>\n",
              "    <tr>\n",
              "      <th>1</th>\n",
              "      <td>북서울고속주유소</td>\n",
              "      <td>서울 강북구 삼양로 410 (수유동)</td>\n",
              "      <td>1257.0</td>\n",
              "      <td>Y</td>\n",
              "      <td>S-OIL</td>\n",
              "      <td>강북구</td>\n",
              "    </tr>\n",
              "    <tr>\n",
              "      <th>0</th>\n",
              "      <td>(주)석산에너지</td>\n",
              "      <td>서울 강북구 삼양로 316 (수유동)</td>\n",
              "      <td>1257.0</td>\n",
              "      <td>Y</td>\n",
              "      <td>현대오일뱅크</td>\n",
              "      <td>강북구</td>\n",
              "    </tr>\n",
              "    <tr>\n",
              "      <th>1</th>\n",
              "      <td>현대주유소</td>\n",
              "      <td>서울 양천구 남부순환로 372 (신월동)</td>\n",
              "      <td>1258.0</td>\n",
              "      <td>Y</td>\n",
              "      <td>S-OIL</td>\n",
              "      <td>양천구</td>\n",
              "    </tr>\n",
              "    <tr>\n",
              "      <th>0</th>\n",
              "      <td>뉴신정주유소</td>\n",
              "      <td>서울 강서구 곰달래로 207(화곡동)</td>\n",
              "      <td>1258.0</td>\n",
              "      <td>N</td>\n",
              "      <td>알뜰주유소</td>\n",
              "      <td>강서구</td>\n",
              "    </tr>\n",
              "    <tr>\n",
              "      <th>0</th>\n",
              "      <td>형산석유(주)원주유소</td>\n",
              "      <td>서울 양천구 남부순환로 408</td>\n",
              "      <td>1258.0</td>\n",
              "      <td>N</td>\n",
              "      <td>현대오일뱅크</td>\n",
              "      <td>양천구</td>\n",
              "    </tr>\n",
              "    <tr>\n",
              "      <th>1</th>\n",
              "      <td>화곡역주유소</td>\n",
              "      <td>서울특별시 강서구  강서로 154 (화곡동)</td>\n",
              "      <td>1258.0</td>\n",
              "      <td>Y</td>\n",
              "      <td>알뜰주유소</td>\n",
              "      <td>강서구</td>\n",
              "    </tr>\n",
              "  </tbody>\n",
              "</table>\n",
              "</div>"
            ],
            "text/plain": [
              "        Oil_store                        주소      가격 셀프      상표    구\n",
              "0   이케이에너지㈜ 강산주유소     서울 성북구 보문로 27 (보문동7가)  1237.0  Y   GS칼텍스  성북구\n",
              "1           원천주유소     서울 성북구 돌곶이로 142 (장위동)  1237.0  N   알뜰주유소  성북구\n",
              "2         강산제2주유소            서울 성북구 보국문로 52  1237.0  Y  현대오일뱅크  성북구\n",
              "3  (주)삼표에너지 정릉주유소      서울 성북구 보국문로 35 (정릉동)  1237.0  Y   GS칼텍스  성북구\n",
              "1        북서울고속주유소      서울 강북구 삼양로 410 (수유동)  1257.0  Y   S-OIL  강북구\n",
              "0        (주)석산에너지      서울 강북구 삼양로 316 (수유동)  1257.0  Y  현대오일뱅크  강북구\n",
              "1           현대주유소    서울 양천구 남부순환로 372 (신월동)  1258.0  Y   S-OIL  양천구\n",
              "0          뉴신정주유소      서울 강서구 곰달래로 207(화곡동)  1258.0  N   알뜰주유소  강서구\n",
              "0     형산석유(주)원주유소          서울 양천구 남부순환로 408  1258.0  N  현대오일뱅크  양천구\n",
              "1          화곡역주유소  서울특별시 강서구  강서로 154 (화곡동)  1258.0  Y   알뜰주유소  강서구"
            ]
          },
          "metadata": {
            "tags": []
          },
          "execution_count": 66
        }
      ]
    },
    {
      "cell_type": "markdown",
      "metadata": {
        "id": "IwoUNSr9Luye"
      },
      "source": [
        "성북구, 강북구, 강서구 이런 구들에 많군요. \n",
        "\n",
        "하지만 단순히 10개의 데이터를 가지고 이런 구들이 비싸다 싸다를 말하긴 힘들죠. 그래서 평균을 내서 대체적인 가격을 비교해보겠습니다. "
      ]
    },
    {
      "cell_type": "code",
      "metadata": {
        "id": "kKN_Gk03Luye",
        "outputId": "18055f8f-f6ca-4653-c353-b34b213ceb64"
      },
      "source": [
        "import numpy as np \n",
        "gu_data = pd.pivot_table(stations, index=['구'], values=[\"가격\"], aggfunc=np.mean)\n",
        "gu_data.head()"
      ],
      "execution_count": null,
      "outputs": [
        {
          "output_type": "execute_result",
          "data": {
            "text/html": [
              "<div>\n",
              "<style scoped>\n",
              "    .dataframe tbody tr th:only-of-type {\n",
              "        vertical-align: middle;\n",
              "    }\n",
              "\n",
              "    .dataframe tbody tr th {\n",
              "        vertical-align: top;\n",
              "    }\n",
              "\n",
              "    .dataframe thead th {\n",
              "        text-align: right;\n",
              "    }\n",
              "</style>\n",
              "<table border=\"1\" class=\"dataframe\">\n",
              "  <thead>\n",
              "    <tr style=\"text-align: right;\">\n",
              "      <th></th>\n",
              "      <th>가격</th>\n",
              "    </tr>\n",
              "    <tr>\n",
              "      <th>구</th>\n",
              "      <th></th>\n",
              "    </tr>\n",
              "  </thead>\n",
              "  <tbody>\n",
              "    <tr>\n",
              "      <th>강남구</th>\n",
              "      <td>1615.775000</td>\n",
              "    </tr>\n",
              "    <tr>\n",
              "      <th>강동구</th>\n",
              "      <td>1461.312500</td>\n",
              "    </tr>\n",
              "    <tr>\n",
              "      <th>강북구</th>\n",
              "      <td>1297.461538</td>\n",
              "    </tr>\n",
              "    <tr>\n",
              "      <th>강서구</th>\n",
              "      <td>1381.647059</td>\n",
              "    </tr>\n",
              "    <tr>\n",
              "      <th>관악구</th>\n",
              "      <td>1456.375000</td>\n",
              "    </tr>\n",
              "  </tbody>\n",
              "</table>\n",
              "</div>"
            ],
            "text/plain": [
              "              가격\n",
              "구               \n",
              "강남구  1615.775000\n",
              "강동구  1461.312500\n",
              "강북구  1297.461538\n",
              "강서구  1381.647059\n",
              "관악구  1456.375000"
            ]
          },
          "metadata": {
            "tags": []
          },
          "execution_count": 67
        }
      ]
    },
    {
      "cell_type": "markdown",
      "metadata": {
        "id": "QKjcdDy2Luyf"
      },
      "source": [
        "이것을 지도에 시각화해서 나타내보겠습니다."
      ]
    },
    {
      "cell_type": "code",
      "metadata": {
        "id": "ISV1lbntLuyf",
        "outputId": "42b559aa-2468-49c2-b77f-d3c768b69c47"
      },
      "source": [
        "geo_path = 'data/skorea_municipalities_geo_simple.json'\n",
        "geo_str = json.load(open(geo_path, encoding='utf-8'))\n",
        "\n",
        "map = folium.Map(location=[37.5502, 126.982], zoom_start=10.5, \n",
        "                 tiles='Stamen Toner')\n",
        "\n",
        "map.choropleth(geo_data = geo_str,\n",
        "               data = gu_data,\n",
        "               columns=[gu_data.index, '가격'],\n",
        "               fill_color='PuRd', #PuRd, YlGnBu\n",
        "               key_on='feature.id')\n",
        "map"
      ],
      "execution_count": null,
      "outputs": [
        {
          "output_type": "execute_result",
          "data": {
            "text/html": [
              "<div style=\"width:100%;\"><div style=\"position:relative;width:100%;height:0;padding-bottom:60%;\"><span style=\"color:#565656\">Make this Notebook Trusted to load map: File -> Trust Notebook</span><iframe src=\"about:blank\" style=\"position:absolute;width:100%;height:100%;left:0;top:0;border:none !important;\" data-html=%3C%21DOCTYPE%20html%3E%0A%3Chead%3E%20%20%20%20%0A%20%20%20%20%3Cmeta%20http-equiv%3D%22content-type%22%20content%3D%22text/html%3B%20charset%3DUTF-8%22%20/%3E%0A%20%20%20%20%0A%20%20%20%20%20%20%20%20%3Cscript%3E%0A%20%20%20%20%20%20%20%20%20%20%20%20L_NO_TOUCH%20%3D%20false%3B%0A%20%20%20%20%20%20%20%20%20%20%20%20L_DISABLE_3D%20%3D%20false%3B%0A%20%20%20%20%20%20%20%20%3C/script%3E%0A%20%20%20%20%0A%20%20%20%20%3Cstyle%3Ehtml%2C%20body%20%7Bwidth%3A%20100%25%3Bheight%3A%20100%25%3Bmargin%3A%200%3Bpadding%3A%200%3B%7D%3C/style%3E%0A%20%20%20%20%3Cstyle%3E%23map%20%7Bposition%3Aabsolute%3Btop%3A0%3Bbottom%3A0%3Bright%3A0%3Bleft%3A0%3B%7D%3C/style%3E%0A%20%20%20%20%3Cscript%20src%3D%22https%3A//cdn.jsdelivr.net/npm/leaflet%401.6.0/dist/leaflet.js%22%3E%3C/script%3E%0A%20%20%20%20%3Cscript%20src%3D%22https%3A//code.jquery.com/jquery-1.12.4.min.js%22%3E%3C/script%3E%0A%20%20%20%20%3Cscript%20src%3D%22https%3A//maxcdn.bootstrapcdn.com/bootstrap/3.2.0/js/bootstrap.min.js%22%3E%3C/script%3E%0A%20%20%20%20%3Cscript%20src%3D%22https%3A//cdnjs.cloudflare.com/ajax/libs/Leaflet.awesome-markers/2.0.2/leaflet.awesome-markers.js%22%3E%3C/script%3E%0A%20%20%20%20%3Clink%20rel%3D%22stylesheet%22%20href%3D%22https%3A//cdn.jsdelivr.net/npm/leaflet%401.6.0/dist/leaflet.css%22/%3E%0A%20%20%20%20%3Clink%20rel%3D%22stylesheet%22%20href%3D%22https%3A//maxcdn.bootstrapcdn.com/bootstrap/3.2.0/css/bootstrap.min.css%22/%3E%0A%20%20%20%20%3Clink%20rel%3D%22stylesheet%22%20href%3D%22https%3A//maxcdn.bootstrapcdn.com/bootstrap/3.2.0/css/bootstrap-theme.min.css%22/%3E%0A%20%20%20%20%3Clink%20rel%3D%22stylesheet%22%20href%3D%22https%3A//maxcdn.bootstrapcdn.com/font-awesome/4.6.3/css/font-awesome.min.css%22/%3E%0A%20%20%20%20%3Clink%20rel%3D%22stylesheet%22%20href%3D%22https%3A//cdnjs.cloudflare.com/ajax/libs/Leaflet.awesome-markers/2.0.2/leaflet.awesome-markers.css%22/%3E%0A%20%20%20%20%3Clink%20rel%3D%22stylesheet%22%20href%3D%22https%3A//cdn.jsdelivr.net/gh/python-visualization/folium/folium/templates/leaflet.awesome.rotate.min.css%22/%3E%0A%20%20%20%20%0A%20%20%20%20%20%20%20%20%20%20%20%20%3Cmeta%20name%3D%22viewport%22%20content%3D%22width%3Ddevice-width%2C%0A%20%20%20%20%20%20%20%20%20%20%20%20%20%20%20%20initial-scale%3D1.0%2C%20maximum-scale%3D1.0%2C%20user-scalable%3Dno%22%20/%3E%0A%20%20%20%20%20%20%20%20%20%20%20%20%3Cstyle%3E%0A%20%20%20%20%20%20%20%20%20%20%20%20%20%20%20%20%23map_0a7400c6aaeb4a7f8dea2b44c8376c94%20%7B%0A%20%20%20%20%20%20%20%20%20%20%20%20%20%20%20%20%20%20%20%20position%3A%20relative%3B%0A%20%20%20%20%20%20%20%20%20%20%20%20%20%20%20%20%20%20%20%20width%3A%20100.0%25%3B%0A%20%20%20%20%20%20%20%20%20%20%20%20%20%20%20%20%20%20%20%20height%3A%20100.0%25%3B%0A%20%20%20%20%20%20%20%20%20%20%20%20%20%20%20%20%20%20%20%20left%3A%200.0%25%3B%0A%20%20%20%20%20%20%20%20%20%20%20%20%20%20%20%20%20%20%20%20top%3A%200.0%25%3B%0A%20%20%20%20%20%20%20%20%20%20%20%20%20%20%20%20%7D%0A%20%20%20%20%20%20%20%20%20%20%20%20%3C/style%3E%0A%20%20%20%20%20%20%20%20%0A%20%20%20%20%3Cscript%20src%3D%22https%3A//cdnjs.cloudflare.com/ajax/libs/d3/3.5.5/d3.min.js%22%3E%3C/script%3E%0A%3C/head%3E%0A%3Cbody%3E%20%20%20%20%0A%20%20%20%20%0A%20%20%20%20%20%20%20%20%20%20%20%20%3Cdiv%20class%3D%22folium-map%22%20id%3D%22map_0a7400c6aaeb4a7f8dea2b44c8376c94%22%20%3E%3C/div%3E%0A%20%20%20%20%20%20%20%20%0A%3C/body%3E%0A%3Cscript%3E%20%20%20%20%0A%20%20%20%20%0A%20%20%20%20%20%20%20%20%20%20%20%20var%20map_0a7400c6aaeb4a7f8dea2b44c8376c94%20%3D%20L.map%28%0A%20%20%20%20%20%20%20%20%20%20%20%20%20%20%20%20%22map_0a7400c6aaeb4a7f8dea2b44c8376c94%22%2C%0A%20%20%20%20%20%20%20%20%20%20%20%20%20%20%20%20%7B%0A%20%20%20%20%20%20%20%20%20%20%20%20%20%20%20%20%20%20%20%20center%3A%20%5B37.5502%2C%20126.982%5D%2C%0A%20%20%20%20%20%20%20%20%20%20%20%20%20%20%20%20%20%20%20%20crs%3A%20L.CRS.EPSG3857%2C%0A%20%20%20%20%20%20%20%20%20%20%20%20%20%20%20%20%20%20%20%20zoom%3A%2010.5%2C%0A%20%20%20%20%20%20%20%20%20%20%20%20%20%20%20%20%20%20%20%20zoomControl%3A%20true%2C%0A%20%20%20%20%20%20%20%20%20%20%20%20%20%20%20%20%20%20%20%20preferCanvas%3A%20false%2C%0A%20%20%20%20%20%20%20%20%20%20%20%20%20%20%20%20%7D%0A%20%20%20%20%20%20%20%20%20%20%20%20%29%3B%0A%0A%20%20%20%20%20%20%20%20%20%20%20%20%0A%0A%20%20%20%20%20%20%20%20%0A%20%20%20%20%0A%20%20%20%20%20%20%20%20%20%20%20%20var%20tile_layer_edd3b5fb46ec48bf9f4d22f01ad9ec7c%20%3D%20L.tileLayer%28%0A%20%20%20%20%20%20%20%20%20%20%20%20%20%20%20%20%22https%3A//stamen-tiles-%7Bs%7D.a.ssl.fastly.net/toner/%7Bz%7D/%7Bx%7D/%7By%7D.png%22%2C%0A%20%20%20%20%20%20%20%20%20%20%20%20%20%20%20%20%7B%22attribution%22%3A%20%22Map%20tiles%20by%20%5Cu003ca%20href%3D%5C%22http%3A//stamen.com%5C%22%5Cu003eStamen%20Design%5Cu003c/a%5Cu003e%2C%20under%20%5Cu003ca%20href%3D%5C%22http%3A//creativecommons.org/licenses/by/3.0%5C%22%5Cu003eCC%20BY%203.0%5Cu003c/a%5Cu003e.%20Data%20by%20%5Cu0026copy%3B%20%5Cu003ca%20href%3D%5C%22http%3A//openstreetmap.org%5C%22%5Cu003eOpenStreetMap%5Cu003c/a%5Cu003e%2C%20under%20%5Cu003ca%20href%3D%5C%22http%3A//www.openstreetmap.org/copyright%5C%22%5Cu003eODbL%5Cu003c/a%5Cu003e.%22%2C%20%22detectRetina%22%3A%20false%2C%20%22maxNativeZoom%22%3A%2018%2C%20%22maxZoom%22%3A%2018%2C%20%22minZoom%22%3A%200%2C%20%22noWrap%22%3A%20false%2C%20%22opacity%22%3A%201%2C%20%22subdomains%22%3A%20%22abc%22%2C%20%22tms%22%3A%20false%7D%0A%20%20%20%20%20%20%20%20%20%20%20%20%29.addTo%28map_0a7400c6aaeb4a7f8dea2b44c8376c94%29%3B%0A%20%20%20%20%20%20%20%20%0A%20%20%20%20%0A%20%20%20%20%20%20%20%20%20%20%20%20var%20choropleth_9cd4ef90dbc443fa87c0a4d0d0c6b5c1%20%3D%20L.featureGroup%28%0A%20%20%20%20%20%20%20%20%20%20%20%20%20%20%20%20%7B%7D%0A%20%20%20%20%20%20%20%20%20%20%20%20%29.addTo%28map_0a7400c6aaeb4a7f8dea2b44c8376c94%29%3B%0A%20%20%20%20%20%20%20%20%0A%20%20%20%20%0A%20%20%20%20%20%20%20%20function%20geo_json_f64095b16a7047cf8c2b71f2e977def1_styler%28feature%29%20%7B%0A%20%20%20%20%20%20%20%20%20%20%20%20switch%28feature.id%29%20%7B%0A%20%20%20%20%20%20%20%20%20%20%20%20%20%20%20%20case%20%22%5Cuac15%5Cub3d9%5Cuad6c%22%3A%20case%20%22%5Cuc1a1%5Cud30c%5Cuad6c%22%3A%20case%20%22%5Cuad00%5Cuc545%5Cuad6c%22%3A%20case%20%22%5Cub3d9%5Cuc791%5Cuad6c%22%3A%20case%20%22%5Cuc601%5Cub4f1%5Cud3ec%5Cuad6c%22%3A%20case%20%22%5Cuad6c%5Cub85c%5Cuad6c%22%3A%20case%20%22%5Cuc11c%5Cub300%5Cubb38%5Cuad6c%22%3A%20case%20%22%5Cub178%5Cuc6d0%5Cuad6c%22%3A%20case%20%22%5Cuc131%5Cub3d9%5Cuad6c%22%3A%20%0A%20%20%20%20%20%20%20%20%20%20%20%20%20%20%20%20%20%20%20%20return%20%7B%22color%22%3A%20%22black%22%2C%20%22fillColor%22%3A%20%22%23d4b9da%22%2C%20%22fillOpacity%22%3A%200.6%2C%20%22opacity%22%3A%201%2C%20%22weight%22%3A%201%7D%3B%0A%20%20%20%20%20%20%20%20%20%20%20%20%20%20%20%20case%20%22%5Cuac15%5Cub0a8%5Cuad6c%22%3A%20%0A%20%20%20%20%20%20%20%20%20%20%20%20%20%20%20%20%20%20%20%20return%20%7B%22color%22%3A%20%22black%22%2C%20%22fillColor%22%3A%20%22%23df65b0%22%2C%20%22fillOpacity%22%3A%200.6%2C%20%22opacity%22%3A%201%2C%20%22weight%22%3A%201%7D%3B%0A%20%20%20%20%20%20%20%20%20%20%20%20%20%20%20%20case%20%22%5Cuc11c%5Cucd08%5Cuad6c%22%3A%20case%20%22%5Cub9c8%5Cud3ec%5Cuad6c%22%3A%20%0A%20%20%20%20%20%20%20%20%20%20%20%20%20%20%20%20%20%20%20%20return%20%7B%22color%22%3A%20%22black%22%2C%20%22fillColor%22%3A%20%22%23c994c7%22%2C%20%22fillOpacity%22%3A%200.6%2C%20%22opacity%22%3A%201%2C%20%22weight%22%3A%201%7D%3B%0A%20%20%20%20%20%20%20%20%20%20%20%20%20%20%20%20case%20%22%5Cuc6a9%5Cuc0b0%5Cuad6c%22%3A%20case%20%22%5Cuc911%5Cuad6c%22%3A%20%0A%20%20%20%20%20%20%20%20%20%20%20%20%20%20%20%20%20%20%20%20return%20%7B%22color%22%3A%20%22black%22%2C%20%22fillColor%22%3A%20%22%23980043%22%2C%20%22fillOpacity%22%3A%200.6%2C%20%22opacity%22%3A%201%2C%20%22weight%22%3A%201%7D%3B%0A%20%20%20%20%20%20%20%20%20%20%20%20%20%20%20%20case%20%22%5Cuc885%5Cub85c%5Cuad6c%22%3A%20%0A%20%20%20%20%20%20%20%20%20%20%20%20%20%20%20%20%20%20%20%20return%20%7B%22color%22%3A%20%22black%22%2C%20%22fillColor%22%3A%20%22%23dd1c77%22%2C%20%22fillOpacity%22%3A%200.6%2C%20%22opacity%22%3A%201%2C%20%22weight%22%3A%201%7D%3B%0A%20%20%20%20%20%20%20%20%20%20%20%20%20%20%20%20default%3A%0A%20%20%20%20%20%20%20%20%20%20%20%20%20%20%20%20%20%20%20%20return%20%7B%22color%22%3A%20%22black%22%2C%20%22fillColor%22%3A%20%22%23f1eef6%22%2C%20%22fillOpacity%22%3A%200.6%2C%20%22opacity%22%3A%201%2C%20%22weight%22%3A%201%7D%3B%0A%20%20%20%20%20%20%20%20%20%20%20%20%7D%0A%20%20%20%20%20%20%20%20%7D%0A%0A%20%20%20%20%20%20%20%20function%20geo_json_f64095b16a7047cf8c2b71f2e977def1_onEachFeature%28feature%2C%20layer%29%20%7B%0A%20%20%20%20%20%20%20%20%20%20%20%20layer.on%28%7B%0A%20%20%20%20%20%20%20%20%20%20%20%20%7D%29%3B%0A%20%20%20%20%20%20%20%20%7D%3B%0A%20%20%20%20%20%20%20%20var%20geo_json_f64095b16a7047cf8c2b71f2e977def1%20%3D%20L.geoJson%28null%2C%20%7B%0A%20%20%20%20%20%20%20%20%20%20%20%20%20%20%20%20onEachFeature%3A%20geo_json_f64095b16a7047cf8c2b71f2e977def1_onEachFeature%2C%0A%20%20%20%20%20%20%20%20%20%20%20%20%0A%20%20%20%20%20%20%20%20%20%20%20%20%20%20%20%20style%3A%20geo_json_f64095b16a7047cf8c2b71f2e977def1_styler%2C%0A%20%20%20%20%20%20%20%20%7D%29%3B%0A%0A%20%20%20%20%20%20%20%20function%20geo_json_f64095b16a7047cf8c2b71f2e977def1_add%20%28data%29%20%7B%0A%20%20%20%20%20%20%20%20%20%20%20%20geo_json_f64095b16a7047cf8c2b71f2e977def1%0A%20%20%20%20%20%20%20%20%20%20%20%20%20%20%20%20.addData%28data%29%0A%20%20%20%20%20%20%20%20%20%20%20%20%20%20%20%20.addTo%28choropleth_9cd4ef90dbc443fa87c0a4d0d0c6b5c1%29%3B%0A%20%20%20%20%20%20%20%20%7D%0A%20%20%20%20%20%20%20%20%20%20%20%20geo_json_f64095b16a7047cf8c2b71f2e977def1_add%28%7B%22features%22%3A%20%5B%7B%22geometry%22%3A%20%7B%22coordinates%22%3A%20%5B%5B%5B127.11519584981606%2C%2037.557533180704915%5D%2C%20%5B127.16683184366129%2C%2037.57672487388627%5D%2C%20%5B127.18408792330152%2C%2037.55814280369575%5D%2C%20%5B127.16530984307447%2C%2037.54221851258693%5D%2C%20%5B127.14672806823502%2C%2037.51415680680291%5D%2C%20%5B127.12123165719615%2C%2037.52528270089%5D%2C%20%5B127.1116764203608%2C%2037.540669955324965%5D%2C%20%5B127.11519584981606%2C%2037.557533180704915%5D%5D%5D%2C%20%22type%22%3A%20%22Polygon%22%7D%2C%20%22id%22%3A%20%22%5Cuac15%5Cub3d9%5Cuad6c%22%2C%20%22properties%22%3A%20%7B%22base_year%22%3A%20%222013%22%2C%20%22code%22%3A%20%2211250%22%2C%20%22name%22%3A%20%22%5Cuac15%5Cub3d9%5Cuad6c%22%2C%20%22name_eng%22%3A%20%22Gangdong-gu%22%7D%2C%20%22type%22%3A%20%22Feature%22%7D%2C%20%7B%22geometry%22%3A%20%7B%22coordinates%22%3A%20%5B%5B%5B127.0690698130372%2C%2037.522279423505026%5D%2C%20%5B127.10087519791962%2C%2037.524841220167055%5D%2C%20%5B127.1116764203608%2C%2037.540669955324965%5D%2C%20%5B127.12123165719615%2C%2037.52528270089%5D%2C%20%5B127.14672806823502%2C%2037.51415680680291%5D%2C%20%5B127.1634944215765%2C%2037.497445406097484%5D%2C%20%5B127.14206058413274%2C%2037.47089819098501%5D%2C%20%5B127.12440571080893%2C%2037.46240445587048%5D%2C%20%5B127.11117085201238%2C%2037.485708381512445%5D%2C%20%5B127.0719146000724%2C%2037.50224013587669%5D%2C%20%5B127.0690698130372%2C%2037.522279423505026%5D%5D%5D%2C%20%22type%22%3A%20%22Polygon%22%7D%2C%20%22id%22%3A%20%22%5Cuc1a1%5Cud30c%5Cuad6c%22%2C%20%22properties%22%3A%20%7B%22base_year%22%3A%20%222013%22%2C%20%22code%22%3A%20%2211240%22%2C%20%22name%22%3A%20%22%5Cuc1a1%5Cud30c%5Cuad6c%22%2C%20%22name_eng%22%3A%20%22Songpa-gu%22%7D%2C%20%22type%22%3A%20%22Feature%22%7D%2C%20%7B%22geometry%22%3A%20%7B%22coordinates%22%3A%20%5B%5B%5B127.05867359288398%2C%2037.52629974922568%5D%2C%20%5B127.0690698130372%2C%2037.522279423505026%5D%2C%20%5B127.0719146000724%2C%2037.50224013587669%5D%2C%20%5B127.11117085201238%2C%2037.485708381512445%5D%2C%20%5B127.12440571080893%2C%2037.46240445587048%5D%2C%20%5B127.09842759318751%2C%2037.45862253857461%5D%2C%20%5B127.08640440578156%2C%2037.472697935184655%5D%2C%20%5B127.0559170481904%2C%2037.4659228914077%5D%2C%20%5B127.03621915098798%2C%2037.48175802427603%5D%2C%20%5B127.01397119667513%2C%2037.52503988289669%5D%2C%20%5B127.02302831890559%2C%2037.53231899582663%5D%2C%20%5B127.05867359288398%2C%2037.52629974922568%5D%5D%5D%2C%20%22type%22%3A%20%22Polygon%22%7D%2C%20%22id%22%3A%20%22%5Cuac15%5Cub0a8%5Cuad6c%22%2C%20%22properties%22%3A%20%7B%22base_year%22%3A%20%222013%22%2C%20%22code%22%3A%20%2211230%22%2C%20%22name%22%3A%20%22%5Cuac15%5Cub0a8%5Cuad6c%22%2C%20%22name_eng%22%3A%20%22Gangnam-gu%22%7D%2C%20%22type%22%3A%20%22Feature%22%7D%2C%20%7B%22geometry%22%3A%20%7B%22coordinates%22%3A%20%5B%5B%5B127.01397119667513%2C%2037.52503988289669%5D%2C%20%5B127.03621915098798%2C%2037.48175802427603%5D%2C%20%5B127.0559170481904%2C%2037.4659228914077%5D%2C%20%5B127.08640440578156%2C%2037.472697935184655%5D%2C%20%5B127.09842759318751%2C%2037.45862253857461%5D%2C%20%5B127.09046928565951%2C%2037.44296826114185%5D%2C%20%5B127.06778107605433%2C%2037.426197424057314%5D%2C%20%5B127.04957232987142%2C%2037.42805836845694%5D%2C%20%5B127.03881782597922%2C%2037.45382039851715%5D%2C%20%5B126.99072073195462%2C%2037.455326143310025%5D%2C%20%5B126.98367668291802%2C%2037.473856492692086%5D%2C%20%5B126.98223807916081%2C%2037.509314966770326%5D%2C%20%5B127.01397119667513%2C%2037.52503988289669%5D%5D%5D%2C%20%22type%22%3A%20%22Polygon%22%7D%2C%20%22id%22%3A%20%22%5Cuc11c%5Cucd08%5Cuad6c%22%2C%20%22properties%22%3A%20%7B%22base_year%22%3A%20%222013%22%2C%20%22code%22%3A%20%2211220%22%2C%20%22name%22%3A%20%22%5Cuc11c%5Cucd08%5Cuad6c%22%2C%20%22name_eng%22%3A%20%22Seocho-gu%22%7D%2C%20%22type%22%3A%20%22Feature%22%7D%2C%20%7B%22geometry%22%3A%20%7B%22coordinates%22%3A%20%5B%5B%5B126.98367668291802%2C%2037.473856492692086%5D%2C%20%5B126.99072073195462%2C%2037.455326143310025%5D%2C%20%5B126.96520439085143%2C%2037.438249784006246%5D%2C%20%5B126.95000001010182%2C%2037.43613451165719%5D%2C%20%5B126.93084408056525%2C%2037.447382928333994%5D%2C%20%5B126.9167728146601%2C%2037.45490566423789%5D%2C%20%5B126.90156094129895%2C%2037.47753842789901%5D%2C%20%5B126.90531975801812%2C%2037.48218087575429%5D%2C%20%5B126.94922661389508%2C%2037.49125437495649%5D%2C%20%5B126.9725891850662%2C%2037.472561363278125%5D%2C%20%5B126.98367668291802%2C%2037.473856492692086%5D%5D%5D%2C%20%22type%22%3A%20%22Polygon%22%7D%2C%20%22id%22%3A%20%22%5Cuad00%5Cuc545%5Cuad6c%22%2C%20%22properties%22%3A%20%7B%22base_year%22%3A%20%222013%22%2C%20%22code%22%3A%20%2211210%22%2C%20%22name%22%3A%20%22%5Cuad00%5Cuc545%5Cuad6c%22%2C%20%22name_eng%22%3A%20%22Gwanak-gu%22%7D%2C%20%22type%22%3A%20%22Feature%22%7D%2C%20%7B%22geometry%22%3A%20%7B%22coordinates%22%3A%20%5B%5B%5B126.98223807916081%2C%2037.509314966770326%5D%2C%20%5B126.98367668291802%2C%2037.473856492692086%5D%2C%20%5B126.9725891850662%2C%2037.472561363278125%5D%2C%20%5B126.94922661389508%2C%2037.49125437495649%5D%2C%20%5B126.90531975801812%2C%2037.48218087575429%5D%2C%20%5B126.92177893174825%2C%2037.494889877415176%5D%2C%20%5B126.92810628828279%2C%2037.51329595732015%5D%2C%20%5B126.95249990298159%2C%2037.51722500741813%5D%2C%20%5B126.98223807916081%2C%2037.509314966770326%5D%5D%5D%2C%20%22type%22%3A%20%22Polygon%22%7D%2C%20%22id%22%3A%20%22%5Cub3d9%5Cuc791%5Cuad6c%22%2C%20%22properties%22%3A%20%7B%22base_year%22%3A%20%222013%22%2C%20%22code%22%3A%20%2211200%22%2C%20%22name%22%3A%20%22%5Cub3d9%5Cuc791%5Cuad6c%22%2C%20%22name_eng%22%3A%20%22Dongjak-gu%22%7D%2C%20%22type%22%3A%20%22Feature%22%7D%2C%20%7B%22geometry%22%3A%20%7B%22coordinates%22%3A%20%5B%5B%5B126.89184663862764%2C%2037.547373974997114%5D%2C%20%5B126.94566733083212%2C%2037.526617542453366%5D%2C%20%5B126.95249990298159%2C%2037.51722500741813%5D%2C%20%5B126.92810628828279%2C%2037.51329595732015%5D%2C%20%5B126.92177893174825%2C%2037.494889877415176%5D%2C%20%5B126.90531975801812%2C%2037.48218087575429%5D%2C%20%5B126.89594776782485%2C%2037.504675281309176%5D%2C%20%5B126.88156402353862%2C%2037.513970034765684%5D%2C%20%5B126.88825757860099%2C%2037.54079733630232%5D%2C%20%5B126.89184663862764%2C%2037.547373974997114%5D%5D%5D%2C%20%22type%22%3A%20%22Polygon%22%7D%2C%20%22id%22%3A%20%22%5Cuc601%5Cub4f1%5Cud3ec%5Cuad6c%22%2C%20%22properties%22%3A%20%7B%22base_year%22%3A%20%222013%22%2C%20%22code%22%3A%20%2211190%22%2C%20%22name%22%3A%20%22%5Cuc601%5Cub4f1%5Cud3ec%5Cuad6c%22%2C%20%22name_eng%22%3A%20%22Yeongdeungpo-gu%22%7D%2C%20%22type%22%3A%20%22Feature%22%7D%2C%20%7B%22geometry%22%3A%20%7B%22coordinates%22%3A%20%5B%5B%5B126.90156094129895%2C%2037.47753842789901%5D%2C%20%5B126.9167728146601%2C%2037.45490566423789%5D%2C%20%5B126.93084408056525%2C%2037.447382928333994%5D%2C%20%5B126.9025831711697%2C%2037.434549366349124%5D%2C%20%5B126.87683271502428%2C%2037.482576591607305%5D%2C%20%5B126.90156094129895%2C%2037.47753842789901%5D%5D%5D%2C%20%22type%22%3A%20%22Polygon%22%7D%2C%20%22id%22%3A%20%22%5Cuae08%5Cucc9c%5Cuad6c%22%2C%20%22properties%22%3A%20%7B%22base_year%22%3A%20%222013%22%2C%20%22code%22%3A%20%2211180%22%2C%20%22name%22%3A%20%22%5Cuae08%5Cucc9c%5Cuad6c%22%2C%20%22name_eng%22%3A%20%22Geumcheon-gu%22%7D%2C%20%22type%22%3A%20%22Feature%22%7D%2C%20%7B%22geometry%22%3A%20%7B%22coordinates%22%3A%20%5B%5B%5B126.82688081517314%2C%2037.50548972232896%5D%2C%20%5B126.88156402353862%2C%2037.513970034765684%5D%2C%20%5B126.89594776782485%2C%2037.504675281309176%5D%2C%20%5B126.90531975801812%2C%2037.48218087575429%5D%2C%20%5B126.90156094129895%2C%2037.47753842789901%5D%2C%20%5B126.87683271502428%2C%2037.482576591607305%5D%2C%20%5B126.84762676054953%2C%2037.47146723936323%5D%2C%20%5B126.83549485076196%2C%2037.474098236975095%5D%2C%20%5B126.82264796791348%2C%2037.4878476492147%5D%2C%20%5B126.82504736331406%2C%2037.50302612640443%5D%2C%20%5B126.82688081517314%2C%2037.50548972232896%5D%5D%5D%2C%20%22type%22%3A%20%22Polygon%22%7D%2C%20%22id%22%3A%20%22%5Cuad6c%5Cub85c%5Cuad6c%22%2C%20%22properties%22%3A%20%7B%22base_year%22%3A%20%222013%22%2C%20%22code%22%3A%20%2211170%22%2C%20%22name%22%3A%20%22%5Cuad6c%5Cub85c%5Cuad6c%22%2C%20%22name_eng%22%3A%20%22Guro-gu%22%7D%2C%20%22type%22%3A%20%22Feature%22%7D%2C%20%7B%22geometry%22%3A%20%7B%22coordinates%22%3A%20%5B%5B%5B126.79575768552907%2C%2037.57881087633202%5D%2C%20%5B126.80702115023597%2C%2037.60123001013228%5D%2C%20%5B126.82251438477105%2C%2037.5880430810082%5D%2C%20%5B126.85984199399667%2C%2037.571847855292745%5D%2C%20%5B126.89184663862764%2C%2037.547373974997114%5D%2C%20%5B126.88825757860099%2C%2037.54079733630232%5D%2C%20%5B126.86637464321238%2C%2037.54859191094823%5D%2C%20%5B126.86610073476395%2C%2037.52699964144669%5D%2C%20%5B126.84257291943153%2C%2037.52373707805596%5D%2C%20%5B126.8242331426722%2C%2037.53788078753248%5D%2C%20%5B126.77324417717703%2C%2037.5459123450554%5D%2C%20%5B126.76979180579352%2C%2037.55139183008809%5D%2C%20%5B126.79575768552907%2C%2037.57881087633202%5D%5D%5D%2C%20%22type%22%3A%20%22Polygon%22%7D%2C%20%22id%22%3A%20%22%5Cuac15%5Cuc11c%5Cuad6c%22%2C%20%22properties%22%3A%20%7B%22base_year%22%3A%20%222013%22%2C%20%22code%22%3A%20%2211160%22%2C%20%22name%22%3A%20%22%5Cuac15%5Cuc11c%5Cuad6c%22%2C%20%22name_eng%22%3A%20%22Gangseo-gu%22%7D%2C%20%22type%22%3A%20%22Feature%22%7D%2C%20%7B%22geometry%22%3A%20%7B%22coordinates%22%3A%20%5B%5B%5B126.8242331426722%2C%2037.53788078753248%5D%2C%20%5B126.84257291943153%2C%2037.52373707805596%5D%2C%20%5B126.86610073476395%2C%2037.52699964144669%5D%2C%20%5B126.86637464321238%2C%2037.54859191094823%5D%2C%20%5B126.88825757860099%2C%2037.54079733630232%5D%2C%20%5B126.88156402353862%2C%2037.513970034765684%5D%2C%20%5B126.82688081517314%2C%2037.50548972232896%5D%2C%20%5B126.8242331426722%2C%2037.53788078753248%5D%5D%5D%2C%20%22type%22%3A%20%22Polygon%22%7D%2C%20%22id%22%3A%20%22%5Cuc591%5Cucc9c%5Cuad6c%22%2C%20%22properties%22%3A%20%7B%22base_year%22%3A%20%222013%22%2C%20%22code%22%3A%20%2211150%22%2C%20%22name%22%3A%20%22%5Cuc591%5Cucc9c%5Cuad6c%22%2C%20%22name_eng%22%3A%20%22Yangcheon-gu%22%7D%2C%20%22type%22%3A%20%22Feature%22%7D%2C%20%7B%22geometry%22%3A%20%7B%22coordinates%22%3A%20%5B%5B%5B126.90522065831053%2C%2037.57409700522574%5D%2C%20%5B126.93898161798973%2C%2037.552310003728124%5D%2C%20%5B126.96358226710812%2C%2037.55605635475154%5D%2C%20%5B126.96448570553055%2C%2037.548705692021635%5D%2C%20%5B126.94566733083212%2C%2037.526617542453366%5D%2C%20%5B126.89184663862764%2C%2037.547373974997114%5D%2C%20%5B126.85984199399667%2C%2037.571847855292745%5D%2C%20%5B126.88433284773288%2C%2037.588143322880526%5D%2C%20%5B126.90522065831053%2C%2037.57409700522574%5D%5D%5D%2C%20%22type%22%3A%20%22Polygon%22%7D%2C%20%22id%22%3A%20%22%5Cub9c8%5Cud3ec%5Cuad6c%22%2C%20%22properties%22%3A%20%7B%22base_year%22%3A%20%222013%22%2C%20%22code%22%3A%20%2211140%22%2C%20%22name%22%3A%20%22%5Cub9c8%5Cud3ec%5Cuad6c%22%2C%20%22name_eng%22%3A%20%22Mapo-gu%22%7D%2C%20%22type%22%3A%20%22Feature%22%7D%2C%20%7B%22geometry%22%3A%20%7B%22coordinates%22%3A%20%5B%5B%5B126.9524752030572%2C%2037.60508692737045%5D%2C%20%5B126.95565425846463%2C%2037.576080790881456%5D%2C%20%5B126.96873633279075%2C%2037.56313604690827%5D%2C%20%5B126.96358226710812%2C%2037.55605635475154%5D%2C%20%5B126.93898161798973%2C%2037.552310003728124%5D%2C%20%5B126.90522065831053%2C%2037.57409700522574%5D%2C%20%5B126.9524752030572%2C%2037.60508692737045%5D%5D%5D%2C%20%22type%22%3A%20%22Polygon%22%7D%2C%20%22id%22%3A%20%22%5Cuc11c%5Cub300%5Cubb38%5Cuad6c%22%2C%20%22properties%22%3A%20%7B%22base_year%22%3A%20%222013%22%2C%20%22code%22%3A%20%2211130%22%2C%20%22name%22%3A%20%22%5Cuc11c%5Cub300%5Cubb38%5Cuad6c%22%2C%20%22name_eng%22%3A%20%22Seodaemun-gu%22%7D%2C%20%22type%22%3A%20%22Feature%22%7D%2C%20%7B%22geometry%22%3A%20%7B%22coordinates%22%3A%20%5B%5B%5B126.9738864128702%2C%2037.62949634786888%5D%2C%20%5B126.95427017006129%2C%2037.622033431339425%5D%2C%20%5B126.9524752030572%2C%2037.60508692737045%5D%2C%20%5B126.90522065831053%2C%2037.57409700522574%5D%2C%20%5B126.88433284773288%2C%2037.588143322880526%5D%2C%20%5B126.90396681003595%2C%2037.59227403419942%5D%2C%20%5B126.90303066177668%2C%2037.609977911401344%5D%2C%20%5B126.91455481429648%2C%2037.64150050996935%5D%2C%20%5B126.956473797387%2C%2037.652480737339445%5D%2C%20%5B126.9738864128702%2C%2037.62949634786888%5D%5D%5D%2C%20%22type%22%3A%20%22Polygon%22%7D%2C%20%22id%22%3A%20%22%5Cuc740%5Cud3c9%5Cuad6c%22%2C%20%22properties%22%3A%20%7B%22base_year%22%3A%20%222013%22%2C%20%22code%22%3A%20%2211120%22%2C%20%22name%22%3A%20%22%5Cuc740%5Cud3c9%5Cuad6c%22%2C%20%22name_eng%22%3A%20%22Eunpyeong-gu%22%7D%2C%20%22type%22%3A%20%22Feature%22%7D%2C%20%7B%22geometry%22%3A%20%7B%22coordinates%22%3A%20%5B%5B%5B127.0838752703195%2C%2037.69359534202034%5D%2C%20%5B127.09706391309695%2C%2037.686383719372294%5D%2C%20%5B127.09440766298717%2C%2037.64713490473045%5D%2C%20%5B127.11326795855199%2C%2037.639622905315925%5D%2C%20%5B127.10782277688129%2C%2037.61804244241069%5D%2C%20%5B127.07351243825278%2C%2037.61283660342313%5D%2C%20%5B127.05209373568619%2C%2037.62164065487782%5D%2C%20%5B127.04358800895609%2C%2037.62848931298715%5D%2C%20%5B127.05800075220091%2C%2037.64318263878276%5D%2C%20%5B127.05288479710485%2C%2037.68423857084347%5D%2C%20%5B127.0838752703195%2C%2037.69359534202034%5D%5D%5D%2C%20%22type%22%3A%20%22Polygon%22%7D%2C%20%22id%22%3A%20%22%5Cub178%5Cuc6d0%5Cuad6c%22%2C%20%22properties%22%3A%20%7B%22base_year%22%3A%20%222013%22%2C%20%22code%22%3A%20%2211110%22%2C%20%22name%22%3A%20%22%5Cub178%5Cuc6d0%5Cuad6c%22%2C%20%22name_eng%22%3A%20%22Nowon-gu%22%7D%2C%20%22type%22%3A%20%22Feature%22%7D%2C%20%7B%22geometry%22%3A%20%7B%22coordinates%22%3A%20%5B%5B%5B127.05288479710485%2C%2037.68423857084347%5D%2C%20%5B127.05800075220091%2C%2037.64318263878276%5D%2C%20%5B127.04358800895609%2C%2037.62848931298715%5D%2C%20%5B127.01465935892466%2C%2037.64943687496812%5D%2C%20%5B127.02062116141389%2C%2037.667173575971205%5D%2C%20%5B127.01039666042071%2C%2037.681894589603594%5D%2C%20%5B127.01795099203432%2C%2037.69824412775662%5D%2C%20%5B127.05288479710485%2C%2037.68423857084347%5D%5D%5D%2C%20%22type%22%3A%20%22Polygon%22%7D%2C%20%22id%22%3A%20%22%5Cub3c4%5Cubd09%5Cuad6c%22%2C%20%22properties%22%3A%20%7B%22base_year%22%3A%20%222013%22%2C%20%22code%22%3A%20%2211100%22%2C%20%22name%22%3A%20%22%5Cub3c4%5Cubd09%5Cuad6c%22%2C%20%22name_eng%22%3A%20%22Dobong-gu%22%7D%2C%20%22type%22%3A%20%22Feature%22%7D%2C%20%7B%22geometry%22%3A%20%7B%22coordinates%22%3A%20%5B%5B%5B126.99383903424%2C%2037.676681761199085%5D%2C%20%5B127.01039666042071%2C%2037.681894589603594%5D%2C%20%5B127.02062116141389%2C%2037.667173575971205%5D%2C%20%5B127.01465935892466%2C%2037.64943687496812%5D%2C%20%5B127.04358800895609%2C%2037.62848931298715%5D%2C%20%5B127.05209373568619%2C%2037.62164065487782%5D%2C%20%5B127.03892400992301%2C%2037.609715611023816%5D%2C%20%5B127.0128154749523%2C%2037.613652243470256%5D%2C%20%5B126.98672705513869%2C%2037.63377641288196%5D%2C%20%5B126.9817452676551%2C%2037.65209769387776%5D%2C%20%5B126.99383903424%2C%2037.676681761199085%5D%5D%5D%2C%20%22type%22%3A%20%22Polygon%22%7D%2C%20%22id%22%3A%20%22%5Cuac15%5Cubd81%5Cuad6c%22%2C%20%22properties%22%3A%20%7B%22base_year%22%3A%20%222013%22%2C%20%22code%22%3A%20%2211090%22%2C%20%22name%22%3A%20%22%5Cuac15%5Cubd81%5Cuad6c%22%2C%20%22name_eng%22%3A%20%22Gangbuk-gu%22%7D%2C%20%22type%22%3A%20%22Feature%22%7D%2C%20%7B%22geometry%22%3A%20%7B%22coordinates%22%3A%20%5B%5B%5B126.977175406416%2C%2037.62859715400388%5D%2C%20%5B126.98672705513869%2C%2037.63377641288196%5D%2C%20%5B127.0128154749523%2C%2037.613652243470256%5D%2C%20%5B127.03892400992301%2C%2037.609715611023816%5D%2C%20%5B127.05209373568619%2C%2037.62164065487782%5D%2C%20%5B127.07351243825278%2C%2037.61283660342313%5D%2C%20%5B127.07382707099227%2C%2037.60401928986419%5D%2C%20%5B127.042705222094%2C%2037.59239437593391%5D%2C%20%5B127.02527254528003%2C%2037.57524616245249%5D%2C%20%5B126.99348293358314%2C%2037.588565457216156%5D%2C%20%5B126.98879865992384%2C%2037.6118927319756%5D%2C%20%5B126.977175406416%2C%2037.62859715400388%5D%5D%5D%2C%20%22type%22%3A%20%22Polygon%22%7D%2C%20%22id%22%3A%20%22%5Cuc131%5Cubd81%5Cuad6c%22%2C%20%22properties%22%3A%20%7B%22base_year%22%3A%20%222013%22%2C%20%22code%22%3A%20%2211080%22%2C%20%22name%22%3A%20%22%5Cuc131%5Cubd81%5Cuad6c%22%2C%20%22name_eng%22%3A%20%22Seongbuk-gu%22%7D%2C%20%22type%22%3A%20%22Feature%22%7D%2C%20%7B%22geometry%22%3A%20%7B%22coordinates%22%3A%20%5B%5B%5B127.07351243825278%2C%2037.61283660342313%5D%2C%20%5B127.10782277688129%2C%2037.61804244241069%5D%2C%20%5B127.1201246020114%2C%2037.60178457598188%5D%2C%20%5B127.10304174249214%2C%2037.57076342290955%5D%2C%20%5B127.08068541280403%2C%2037.56906425519017%5D%2C%20%5B127.07382707099227%2C%2037.60401928986419%5D%2C%20%5B127.07351243825278%2C%2037.61283660342313%5D%5D%5D%2C%20%22type%22%3A%20%22Polygon%22%7D%2C%20%22id%22%3A%20%22%5Cuc911%5Cub791%5Cuad6c%22%2C%20%22properties%22%3A%20%7B%22base_year%22%3A%20%222013%22%2C%20%22code%22%3A%20%2211070%22%2C%20%22name%22%3A%20%22%5Cuc911%5Cub791%5Cuad6c%22%2C%20%22name_eng%22%3A%20%22Jungnang-gu%22%7D%2C%20%22type%22%3A%20%22Feature%22%7D%2C%20%7B%22geometry%22%3A%20%7B%22coordinates%22%3A%20%5B%5B%5B127.02527254528003%2C%2037.57524616245249%5D%2C%20%5B127.042705222094%2C%2037.59239437593391%5D%2C%20%5B127.07382707099227%2C%2037.60401928986419%5D%2C%20%5B127.08068541280403%2C%2037.56906425519017%5D%2C%20%5B127.07421053024362%2C%2037.55724769712085%5D%2C%20%5B127.05005601081567%2C%2037.567577612590846%5D%2C%20%5B127.02547266349976%2C%2037.568943552237734%5D%2C%20%5B127.02527254528003%2C%2037.57524616245249%5D%5D%5D%2C%20%22type%22%3A%20%22Polygon%22%7D%2C%20%22id%22%3A%20%22%5Cub3d9%5Cub300%5Cubb38%5Cuad6c%22%2C%20%22properties%22%3A%20%7B%22base_year%22%3A%20%222013%22%2C%20%22code%22%3A%20%2211060%22%2C%20%22name%22%3A%20%22%5Cub3d9%5Cub300%5Cubb38%5Cuad6c%22%2C%20%22name_eng%22%3A%20%22Dongdaemun-gu%22%7D%2C%20%22type%22%3A%20%22Feature%22%7D%2C%20%7B%22geometry%22%3A%20%7B%22coordinates%22%3A%20%5B%5B%5B127.08068541280403%2C%2037.56906425519017%5D%2C%20%5B127.10304174249214%2C%2037.57076342290955%5D%2C%20%5B127.11519584981606%2C%2037.557533180704915%5D%2C%20%5B127.1116764203608%2C%2037.540669955324965%5D%2C%20%5B127.10087519791962%2C%2037.524841220167055%5D%2C%20%5B127.0690698130372%2C%2037.522279423505026%5D%2C%20%5B127.05867359288398%2C%2037.52629974922568%5D%2C%20%5B127.07421053024362%2C%2037.55724769712085%5D%2C%20%5B127.08068541280403%2C%2037.56906425519017%5D%5D%5D%2C%20%22type%22%3A%20%22Polygon%22%7D%2C%20%22id%22%3A%20%22%5Cuad11%5Cuc9c4%5Cuad6c%22%2C%20%22properties%22%3A%20%7B%22base_year%22%3A%20%222013%22%2C%20%22code%22%3A%20%2211050%22%2C%20%22name%22%3A%20%22%5Cuad11%5Cuc9c4%5Cuad6c%22%2C%20%22name_eng%22%3A%20%22Gwangjin-gu%22%7D%2C%20%22type%22%3A%20%22Feature%22%7D%2C%20%7B%22geometry%22%3A%20%7B%22coordinates%22%3A%20%5B%5B%5B127.02547266349976%2C%2037.568943552237734%5D%2C%20%5B127.05005601081567%2C%2037.567577612590846%5D%2C%20%5B127.07421053024362%2C%2037.55724769712085%5D%2C%20%5B127.05867359288398%2C%2037.52629974922568%5D%2C%20%5B127.02302831890559%2C%2037.53231899582663%5D%2C%20%5B127.01070894177482%2C%2037.54118048964762%5D%2C%20%5B127.02547266349976%2C%2037.568943552237734%5D%5D%5D%2C%20%22type%22%3A%20%22Polygon%22%7D%2C%20%22id%22%3A%20%22%5Cuc131%5Cub3d9%5Cuad6c%22%2C%20%22properties%22%3A%20%7B%22base_year%22%3A%20%222013%22%2C%20%22code%22%3A%20%2211040%22%2C%20%22name%22%3A%20%22%5Cuc131%5Cub3d9%5Cuad6c%22%2C%20%22name_eng%22%3A%20%22Seongdong-gu%22%7D%2C%20%22type%22%3A%20%22Feature%22%7D%2C%20%7B%22geometry%22%3A%20%7B%22coordinates%22%3A%20%5B%5B%5B127.01070894177482%2C%2037.54118048964762%5D%2C%20%5B127.02302831890559%2C%2037.53231899582663%5D%2C%20%5B127.01397119667513%2C%2037.52503988289669%5D%2C%20%5B126.98223807916081%2C%2037.509314966770326%5D%2C%20%5B126.95249990298159%2C%2037.51722500741813%5D%2C%20%5B126.94566733083212%2C%2037.526617542453366%5D%2C%20%5B126.96448570553055%2C%2037.548705692021635%5D%2C%20%5B126.98752996903328%2C%2037.55094818807139%5D%2C%20%5B127.01070894177482%2C%2037.54118048964762%5D%5D%5D%2C%20%22type%22%3A%20%22Polygon%22%7D%2C%20%22id%22%3A%20%22%5Cuc6a9%5Cuc0b0%5Cuad6c%22%2C%20%22properties%22%3A%20%7B%22base_year%22%3A%20%222013%22%2C%20%22code%22%3A%20%2211030%22%2C%20%22name%22%3A%20%22%5Cuc6a9%5Cuc0b0%5Cuad6c%22%2C%20%22name_eng%22%3A%20%22Yongsan-gu%22%7D%2C%20%22type%22%3A%20%22Feature%22%7D%2C%20%7B%22geometry%22%3A%20%7B%22coordinates%22%3A%20%5B%5B%5B127.02547266349976%2C%2037.568943552237734%5D%2C%20%5B127.01070894177482%2C%2037.54118048964762%5D%2C%20%5B126.98752996903328%2C%2037.55094818807139%5D%2C%20%5B126.96448570553055%2C%2037.548705692021635%5D%2C%20%5B126.96358226710812%2C%2037.55605635475154%5D%2C%20%5B126.96873633279075%2C%2037.56313604690827%5D%2C%20%5B127.02547266349976%2C%2037.568943552237734%5D%5D%5D%2C%20%22type%22%3A%20%22Polygon%22%7D%2C%20%22id%22%3A%20%22%5Cuc911%5Cuad6c%22%2C%20%22properties%22%3A%20%7B%22base_year%22%3A%20%222013%22%2C%20%22code%22%3A%20%2211020%22%2C%20%22name%22%3A%20%22%5Cuc911%5Cuad6c%22%2C%20%22name_eng%22%3A%20%22Jung-gu%22%7D%2C%20%22type%22%3A%20%22Feature%22%7D%2C%20%7B%22geometry%22%3A%20%7B%22coordinates%22%3A%20%5B%5B%5B126.9738864128702%2C%2037.62949634786888%5D%2C%20%5B126.977175406416%2C%2037.62859715400388%5D%2C%20%5B126.98879865992384%2C%2037.6118927319756%5D%2C%20%5B126.99348293358314%2C%2037.588565457216156%5D%2C%20%5B127.02527254528003%2C%2037.57524616245249%5D%2C%20%5B127.02547266349976%2C%2037.568943552237734%5D%2C%20%5B126.96873633279075%2C%2037.56313604690827%5D%2C%20%5B126.95565425846463%2C%2037.576080790881456%5D%2C%20%5B126.9524752030572%2C%2037.60508692737045%5D%2C%20%5B126.95427017006129%2C%2037.622033431339425%5D%2C%20%5B126.9738864128702%2C%2037.62949634786888%5D%5D%5D%2C%20%22type%22%3A%20%22Polygon%22%7D%2C%20%22id%22%3A%20%22%5Cuc885%5Cub85c%5Cuad6c%22%2C%20%22properties%22%3A%20%7B%22base_year%22%3A%20%222013%22%2C%20%22code%22%3A%20%2211010%22%2C%20%22name%22%3A%20%22%5Cuc885%5Cub85c%5Cuad6c%22%2C%20%22name_eng%22%3A%20%22Jongno-gu%22%7D%2C%20%22type%22%3A%20%22Feature%22%7D%5D%2C%20%22type%22%3A%20%22FeatureCollection%22%7D%29%3B%0A%0A%20%20%20%20%20%20%20%20%0A%20%20%20%20%0A%20%20%20%20var%20color_map_e4c081745ef84830bb48f3f53338f293%20%3D%20%7B%7D%3B%0A%0A%20%20%20%20%0A%20%20%20%20color_map_e4c081745ef84830bb48f3f53338f293.color%20%3D%20d3.scale.threshold%28%29%0A%20%20%20%20%20%20%20%20%20%20%20%20%20%20.domain%28%5B1293.125%2C%201294.3575484301937%2C%201295.5900968603873%2C%201296.8226452905812%2C%201298.055193720775%2C%201299.2877421509686%2C%201300.5202905811623%2C%201301.752839011356%2C%201302.9853874415498%2C%201304.2179358717435%2C%201305.4504843019372%2C%201306.6830327321309%2C%201307.9155811623245%2C%201309.1481295925184%2C%201310.3806780227121%2C%201311.6132264529058%2C%201312.8457748830995%2C%201314.0783233132934%2C%201315.310871743487%2C%201316.5434201736807%2C%201317.7759686038744%2C%201319.008517034068%2C%201320.241065464262%2C%201321.4736138944556%2C%201322.7061623246493%2C%201323.938710754843%2C%201325.1712591850367%2C%201326.4038076152306%2C%201327.6363560454242%2C%201328.868904475618%2C%201330.1014529058116%2C%201331.3340013360053%2C%201332.5665497661992%2C%201333.7990981963928%2C%201335.0316466265865%2C%201336.2641950567802%2C%201337.4967434869739%2C%201338.7292919171678%2C%201339.9618403473614%2C%201341.194388777555%2C%201342.4269372077488%2C%201343.6594856379425%2C%201344.8920340681364%2C%201346.12458249833%2C%201347.3571309285237%2C%201348.5896793587174%2C%201349.8222277889113%2C%201351.054776219105%2C%201352.2873246492986%2C%201353.5198730794923%2C%201354.752421509686%2C%201355.9849699398799%2C%201357.2175183700735%2C%201358.4500668002672%2C%201359.682615230461%2C%201360.9151636606546%2C%201362.1477120908485%2C%201363.3802605210421%2C%201364.6128089512358%2C%201365.8453573814295%2C%201367.0779058116232%2C%201368.310454241817%2C%201369.5430026720107%2C%201370.7755511022044%2C%201372.008099532398%2C%201373.2406479625918%2C%201374.4731963927857%2C%201375.7057448229793%2C%201376.938293253173%2C%201378.1708416833667%2C%201379.4033901135604%2C%201380.6359385437543%2C%201381.868486973948%2C%201383.1010354041416%2C%201384.3335838343353%2C%201385.5661322645292%2C%201386.7986806947229%2C%201388.0312291249165%2C%201389.2637775551102%2C%201390.4963259853039%2C%201391.7288744154978%2C%201392.9614228456915%2C%201394.1939712758851%2C%201395.4265197060788%2C%201396.6590681362725%2C%201397.8916165664664%2C%201399.12416499666%2C%201400.3567134268537%2C%201401.5892618570474%2C%201402.821810287241%2C%201404.054358717435%2C%201405.2869071476287%2C%201406.5194555778223%2C%201407.752004008016%2C%201408.9845524382097%2C%201410.2171008684036%2C%201411.4496492985973%2C%201412.682197728791%2C%201413.9147461589846%2C%201415.1472945891783%2C%201416.3798430193722%2C%201417.6123914495658%2C%201418.8449398797595%2C%201420.0774883099532%2C%201421.310036740147%2C%201422.5425851703408%2C%201423.7751336005344%2C%201425.0076820307281%2C%201426.2402304609218%2C%201427.4727788911155%2C%201428.7053273213094%2C%201429.937875751503%2C%201431.1704241816967%2C%201432.4029726118904%2C%201433.6355210420843%2C%201434.868069472278%2C%201436.1006179024716%2C%201437.3331663326653%2C%201438.565714762859%2C%201439.798263193053%2C%201441.0308116232466%2C%201442.2633600534402%2C%201443.495908483634%2C%201444.7284569138276%2C%201445.9610053440215%2C%201447.1935537742152%2C%201448.4261022044088%2C%201449.6586506346025%2C%201450.8911990647962%2C%201452.12374749499%2C%201453.3562959251838%2C%201454.5888443553774%2C%201455.821392785571%2C%201457.0539412157648%2C%201458.2864896459587%2C%201459.5190380761524%2C%201460.751586506346%2C%201461.9841349365397%2C%201463.2166833667334%2C%201464.4492317969273%2C%201465.681780227121%2C%201466.9143286573146%2C%201468.1468770875083%2C%201469.3794255177022%2C%201470.6119739478959%2C%201471.8445223780896%2C%201473.0770708082832%2C%201474.309619238477%2C%201475.5421676686706%2C%201476.7747160988645%2C%201478.0072645290581%2C%201479.2398129592518%2C%201480.4723613894455%2C%201481.7049098196394%2C%201482.937458249833%2C%201484.1700066800267%2C%201485.4025551102204%2C%201486.635103540414%2C%201487.867651970608%2C%201489.1002004008017%2C%201490.3327488309953%2C%201491.565297261189%2C%201492.797845691383%2C%201494.0303941215766%2C%201495.2629425517703%2C%201496.495490981964%2C%201497.7280394121576%2C%201498.9605878423513%2C%201500.1931362725452%2C%201501.4256847027389%2C%201502.6582331329325%2C%201503.8907815631262%2C%201505.12332999332%2C%201506.3558784235138%2C%201507.5884268537075%2C%201508.8209752839011%2C%201510.0535237140948%2C%201511.2860721442885%2C%201512.5186205744824%2C%201513.751169004676%2C%201514.9837174348697%2C%201516.2162658650634%2C%201517.4488142952573%2C%201518.681362725451%2C%201519.9139111556447%2C%201521.1464595858383%2C%201522.379008016032%2C%201523.611556446226%2C%201524.8441048764196%2C%201526.0766533066133%2C%201527.309201736807%2C%201528.5417501670006%2C%201529.7742985971945%2C%201531.0068470273882%2C%201532.2393954575818%2C%201533.4719438877755%2C%201534.7044923179692%2C%201535.937040748163%2C%201537.1695891783568%2C%201538.4021376085504%2C%201539.6346860387441%2C%201540.867234468938%2C%201542.0997828991317%2C%201543.3323313293254%2C%201544.564879759519%2C%201545.7974281897127%2C%201547.0299766199064%2C%201548.2625250501003%2C%201549.495073480294%2C%201550.7276219104876%2C%201551.9601703406813%2C%201553.1927187708752%2C%201554.425267201069%2C%201555.6578156312626%2C%201556.8903640614562%2C%201558.12291249165%2C%201559.3554609218438%2C%201560.5880093520375%2C%201561.8205577822312%2C%201563.0531062124248%2C%201564.2856546426187%2C%201565.5182030728124%2C%201566.750751503006%2C%201567.9832999331998%2C%201569.2158483633934%2C%201570.448396793587%2C%201571.680945223781%2C%201572.9134936539747%2C%201574.1460420841684%2C%201575.378590514362%2C%201576.611138944556%2C%201577.8436873747496%2C%201579.0762358049433%2C%201580.308784235137%2C%201581.5413326653306%2C%201582.7738810955243%2C%201584.0064295257182%2C%201585.2389779559119%2C%201586.4715263861056%2C%201587.7040748162992%2C%201588.9366232464931%2C%201590.1691716766868%2C%201591.4017201068805%2C%201592.6342685370741%2C%201593.8668169672678%2C%201595.0993653974615%2C%201596.3319138276554%2C%201597.564462257849%2C%201598.7970106880427%2C%201600.0295591182366%2C%201601.2621075484303%2C%201602.494655978624%2C%201603.7272044088177%2C%201604.9597528390113%2C%201606.192301269205%2C%201607.424849699399%2C%201608.6573981295926%2C%201609.8899465597863%2C%201611.12249498998%2C%201612.3550434201738%2C%201613.5875918503675%2C%201614.8201402805612%2C%201616.0526887107549%2C%201617.2852371409485%2C%201618.5177855711422%2C%201619.7503340013361%2C%201620.9828824315298%2C%201622.2154308617235%2C%201623.4479792919171%2C%201624.680527722111%2C%201625.9130761523047%2C%201627.1456245824984%2C%201628.378173012692%2C%201629.6107214428857%2C%201630.8432698730794%2C%201632.0758183032733%2C%201633.308366733467%2C%201634.5409151636607%2C%201635.7734635938543%2C%201637.0060120240482%2C%201638.238560454242%2C%201639.4711088844356%2C%201640.7036573146293%2C%201641.936205744823%2C%201643.1687541750166%2C%201644.4013026052105%2C%201645.6338510354042%2C%201646.8663994655979%2C%201648.0989478957918%2C%201649.3314963259854%2C%201650.564044756179%2C%201651.7965931863728%2C%201653.0291416165664%2C%201654.2616900467601%2C%201655.494238476954%2C%201656.7267869071477%2C%201657.9593353373414%2C%201659.191883767535%2C%201660.424432197729%2C%201661.6569806279226%2C%201662.8895290581163%2C%201664.12207748831%2C%201665.3546259185036%2C%201666.5871743486973%2C%201667.8197227788912%2C%201669.052271209085%2C%201670.2848196392786%2C%201671.5173680694722%2C%201672.7499164996661%2C%201673.9824649298598%2C%201675.2150133600535%2C%201676.4475617902472%2C%201677.6801102204408%2C%201678.9126586506345%2C%201680.1452070808284%2C%201681.377755511022%2C%201682.6103039412158%2C%201683.8428523714094%2C%201685.0754008016033%2C%201686.307949231797%2C%201687.5404976619907%2C%201688.7730460921844%2C%201690.005594522378%2C%201691.238142952572%2C%201692.4706913827656%2C%201693.7032398129593%2C%201694.9357882431532%2C%201696.1683366733469%2C%201697.4008851035405%2C%201698.6334335337342%2C%201699.8659819639279%2C%201701.0985303941216%2C%201702.3310788243155%2C%201703.5636272545091%2C%201704.7961756847028%2C%201706.0287241148965%2C%201707.2612725450904%2C%201708.493820975284%2C%201709.7263694054777%2C%201710.9589178356714%2C%201712.191466265865%2C%201713.4240146960587%2C%201714.6565631262524%2C%201715.8891115564463%2C%201717.12165998664%2C%201718.3542084168337%2C%201719.5867568470273%2C%201720.8193052772212%2C%201722.051853707415%2C%201723.2844021376086%2C%201724.5169505678023%2C%201725.749498997996%2C%201726.9820474281896%2C%201728.2145958583835%2C%201729.4471442885772%2C%201730.6796927187709%2C%201731.9122411489648%2C%201733.1447895791584%2C%201734.3773380093521%2C%201735.6098864395458%2C%201736.8424348697395%2C%201738.0749832999331%2C%201739.307531730127%2C%201740.5400801603207%2C%201741.7726285905144%2C%201743.0051770207083%2C%201744.237725450902%2C%201745.4702738810956%2C%201746.7028223112893%2C%201747.935370741483%2C%201749.1679191716767%2C%201750.4004676018706%2C%201751.6330160320642%2C%201752.865564462258%2C%201754.0981128924516%2C%201755.3306613226455%2C%201756.5632097528392%2C%201757.7957581830328%2C%201759.0283066132265%2C%201760.2608550434202%2C%201761.4934034736139%2C%201762.7259519038078%2C%201763.9585003340014%2C%201765.191048764195%2C%201766.4235971943888%2C%201767.6561456245827%2C%201768.8886940547764%2C%201770.12124248497%2C%201771.3537909151637%2C%201772.5863393453574%2C%201773.818887775551%2C%201775.0514362057447%2C%201776.2839846359386%2C%201777.5165330661323%2C%201778.749081496326%2C%201779.9816299265199%2C%201781.2141783567135%2C%201782.4467267869072%2C%201783.679275217101%2C%201784.9118236472946%2C%201786.1443720774882%2C%201787.3769205076821%2C%201788.6094689378758%2C%201789.8420173680695%2C%201791.0745657982634%2C%201792.307114228457%2C%201793.5396626586507%2C%201794.7722110888444%2C%201796.004759519038%2C%201797.2373079492318%2C%201798.4698563794257%2C%201799.7024048096193%2C%201800.934953239813%2C%201802.1675016700067%2C%201803.4000501002006%2C%201804.6325985303943%2C%201805.865146960588%2C%201807.0976953907816%2C%201808.3302438209753%2C%201809.562792251169%2C%201810.7953406813626%2C%201812.0278891115565%2C%201813.2604375417502%2C%201814.492985971944%2C%201815.7255344021378%2C%201816.9580828323315%2C%201818.1906312625251%2C%201819.4231796927188%2C%201820.6557281229125%2C%201821.8882765531064%2C%201823.1208249832998%2C%201824.3533734134937%2C%201825.5859218436876%2C%201826.8184702738813%2C%201828.051018704075%2C%201829.2835671342687%2C%201830.5161155644623%2C%201831.748663994656%2C%201832.9812124248497%2C%201834.2137608550433%2C%201835.4463092852372%2C%201836.678857715431%2C%201837.9114061456246%2C%201839.1439545758185%2C%201840.3765030060122%2C%201841.6090514362058%2C%201842.8415998663995%2C%201844.0741482965932%2C%201845.3066967267869%2C%201846.5392451569805%2C%201847.7717935871744%2C%201849.0043420173681%2C%201850.236890447562%2C%201851.4694388777557%2C%201852.7019873079494%2C%201853.934535738143%2C%201855.1670841683367%2C%201856.3996325985304%2C%201857.632181028724%2C%201858.864729458918%2C%201860.0972778891116%2C%201861.3298263193053%2C%201862.5623747494992%2C%201863.794923179693%2C%201865.0274716098866%2C%201866.2600200400802%2C%201867.492568470274%2C%201868.7251169004676%2C%201869.9576653306615%2C%201871.190213760855%2C%201872.4227621910488%2C%201873.6553106212427%2C%201874.8878590514364%2C%201876.12040748163%2C%201877.3529559118238%2C%201878.5855043420174%2C%201879.818052772211%2C%201881.0506012024048%2C%201882.2831496325985%2C%201883.5156980627924%2C%201884.7482464929863%2C%201885.9807949231797%2C%201887.2133433533736%2C%201888.4458917835673%2C%201889.678440213761%2C%201890.9109886439546%2C%201892.1435370741483%2C%201893.376085504342%2C%201894.6086339345356%2C%201895.8411823647295%2C%201897.0737307949232%2C%201898.3062792251171%2C%201899.5388276553108%2C%201900.7713760855045%2C%201902.0039245156981%2C%201903.2364729458918%2C%201904.4690213760855%2C%201905.7015698062792%2C%201906.934118236473%2C%201908.1666666666667%5D%29%0A%20%20%20%20%20%20%20%20%20%20%20%20%20%20.range%28%5B%27%23f1eef6ff%27%2C%20%27%23f1eef6ff%27%2C%20%27%23f1eef6ff%27%2C%20%27%23f1eef6ff%27%2C%20%27%23f1eef6ff%27%2C%20%27%23f1eef6ff%27%2C%20%27%23f1eef6ff%27%2C%20%27%23f1eef6ff%27%2C%20%27%23f1eef6ff%27%2C%20%27%23f1eef6ff%27%2C%20%27%23f1eef6ff%27%2C%20%27%23f1eef6ff%27%2C%20%27%23f1eef6ff%27%2C%20%27%23f1eef6ff%27%2C%20%27%23f1eef6ff%27%2C%20%27%23f1eef6ff%27%2C%20%27%23f1eef6ff%27%2C%20%27%23f1eef6ff%27%2C%20%27%23f1eef6ff%27%2C%20%27%23f1eef6ff%27%2C%20%27%23f1eef6ff%27%2C%20%27%23f1eef6ff%27%2C%20%27%23f1eef6ff%27%2C%20%27%23f1eef6ff%27%2C%20%27%23f1eef6ff%27%2C%20%27%23f1eef6ff%27%2C%20%27%23f1eef6ff%27%2C%20%27%23f1eef6ff%27%2C%20%27%23f1eef6ff%27%2C%20%27%23f1eef6ff%27%2C%20%27%23f1eef6ff%27%2C%20%27%23f1eef6ff%27%2C%20%27%23f1eef6ff%27%2C%20%27%23f1eef6ff%27%2C%20%27%23f1eef6ff%27%2C%20%27%23f1eef6ff%27%2C%20%27%23f1eef6ff%27%2C%20%27%23f1eef6ff%27%2C%20%27%23f1eef6ff%27%2C%20%27%23f1eef6ff%27%2C%20%27%23f1eef6ff%27%2C%20%27%23f1eef6ff%27%2C%20%27%23f1eef6ff%27%2C%20%27%23f1eef6ff%27%2C%20%27%23f1eef6ff%27%2C%20%27%23f1eef6ff%27%2C%20%27%23f1eef6ff%27%2C%20%27%23f1eef6ff%27%2C%20%27%23f1eef6ff%27%2C%20%27%23f1eef6ff%27%2C%20%27%23f1eef6ff%27%2C%20%27%23f1eef6ff%27%2C%20%27%23f1eef6ff%27%2C%20%27%23f1eef6ff%27%2C%20%27%23f1eef6ff%27%2C%20%27%23f1eef6ff%27%2C%20%27%23f1eef6ff%27%2C%20%27%23f1eef6ff%27%2C%20%27%23f1eef6ff%27%2C%20%27%23f1eef6ff%27%2C%20%27%23f1eef6ff%27%2C%20%27%23f1eef6ff%27%2C%20%27%23f1eef6ff%27%2C%20%27%23f1eef6ff%27%2C%20%27%23f1eef6ff%27%2C%20%27%23f1eef6ff%27%2C%20%27%23f1eef6ff%27%2C%20%27%23f1eef6ff%27%2C%20%27%23f1eef6ff%27%2C%20%27%23f1eef6ff%27%2C%20%27%23f1eef6ff%27%2C%20%27%23f1eef6ff%27%2C%20%27%23f1eef6ff%27%2C%20%27%23f1eef6ff%27%2C%20%27%23f1eef6ff%27%2C%20%27%23f1eef6ff%27%2C%20%27%23f1eef6ff%27%2C%20%27%23f1eef6ff%27%2C%20%27%23f1eef6ff%27%2C%20%27%23f1eef6ff%27%2C%20%27%23f1eef6ff%27%2C%20%27%23f1eef6ff%27%2C%20%27%23f1eef6ff%27%2C%20%27%23f1eef6ff%27%2C%20%27%23d4b9daff%27%2C%20%27%23d4b9daff%27%2C%20%27%23d4b9daff%27%2C%20%27%23d4b9daff%27%2C%20%27%23d4b9daff%27%2C%20%27%23d4b9daff%27%2C%20%27%23d4b9daff%27%2C%20%27%23d4b9daff%27%2C%20%27%23d4b9daff%27%2C%20%27%23d4b9daff%27%2C%20%27%23d4b9daff%27%2C%20%27%23d4b9daff%27%2C%20%27%23d4b9daff%27%2C%20%27%23d4b9daff%27%2C%20%27%23d4b9daff%27%2C%20%27%23d4b9daff%27%2C%20%27%23d4b9daff%27%2C%20%27%23d4b9daff%27%2C%20%27%23d4b9daff%27%2C%20%27%23d4b9daff%27%2C%20%27%23d4b9daff%27%2C%20%27%23d4b9daff%27%2C%20%27%23d4b9daff%27%2C%20%27%23d4b9daff%27%2C%20%27%23d4b9daff%27%2C%20%27%23d4b9daff%27%2C%20%27%23d4b9daff%27%2C%20%27%23d4b9daff%27%2C%20%27%23d4b9daff%27%2C%20%27%23d4b9daff%27%2C%20%27%23d4b9daff%27%2C%20%27%23d4b9daff%27%2C%20%27%23d4b9daff%27%2C%20%27%23d4b9daff%27%2C%20%27%23d4b9daff%27%2C%20%27%23d4b9daff%27%2C%20%27%23d4b9daff%27%2C%20%27%23d4b9daff%27%2C%20%27%23d4b9daff%27%2C%20%27%23d4b9daff%27%2C%20%27%23d4b9daff%27%2C%20%27%23d4b9daff%27%2C%20%27%23d4b9daff%27%2C%20%27%23d4b9daff%27%2C%20%27%23d4b9daff%27%2C%20%27%23d4b9daff%27%2C%20%27%23d4b9daff%27%2C%20%27%23d4b9daff%27%2C%20%27%23d4b9daff%27%2C%20%27%23d4b9daff%27%2C%20%27%23d4b9daff%27%2C%20%27%23d4b9daff%27%2C%20%27%23d4b9daff%27%2C%20%27%23d4b9daff%27%2C%20%27%23d4b9daff%27%2C%20%27%23d4b9daff%27%2C%20%27%23d4b9daff%27%2C%20%27%23d4b9daff%27%2C%20%27%23d4b9daff%27%2C%20%27%23d4b9daff%27%2C%20%27%23d4b9daff%27%2C%20%27%23d4b9daff%27%2C%20%27%23d4b9daff%27%2C%20%27%23d4b9daff%27%2C%20%27%23d4b9daff%27%2C%20%27%23d4b9daff%27%2C%20%27%23d4b9daff%27%2C%20%27%23d4b9daff%27%2C%20%27%23d4b9daff%27%2C%20%27%23d4b9daff%27%2C%20%27%23d4b9daff%27%2C%20%27%23d4b9daff%27%2C%20%27%23d4b9daff%27%2C%20%27%23d4b9daff%27%2C%20%27%23d4b9daff%27%2C%20%27%23d4b9daff%27%2C%20%27%23d4b9daff%27%2C%20%27%23d4b9daff%27%2C%20%27%23d4b9daff%27%2C%20%27%23d4b9daff%27%2C%20%27%23d4b9daff%27%2C%20%27%23d4b9daff%27%2C%20%27%23d4b9daff%27%2C%20%27%23c994c7ff%27%2C%20%27%23c994c7ff%27%2C%20%27%23c994c7ff%27%2C%20%27%23c994c7ff%27%2C%20%27%23c994c7ff%27%2C%20%27%23c994c7ff%27%2C%20%27%23c994c7ff%27%2C%20%27%23c994c7ff%27%2C%20%27%23c994c7ff%27%2C%20%27%23c994c7ff%27%2C%20%27%23c994c7ff%27%2C%20%27%23c994c7ff%27%2C%20%27%23c994c7ff%27%2C%20%27%23c994c7ff%27%2C%20%27%23c994c7ff%27%2C%20%27%23c994c7ff%27%2C%20%27%23c994c7ff%27%2C%20%27%23c994c7ff%27%2C%20%27%23c994c7ff%27%2C%20%27%23c994c7ff%27%2C%20%27%23c994c7ff%27%2C%20%27%23c994c7ff%27%2C%20%27%23c994c7ff%27%2C%20%27%23c994c7ff%27%2C%20%27%23c994c7ff%27%2C%20%27%23c994c7ff%27%2C%20%27%23c994c7ff%27%2C%20%27%23c994c7ff%27%2C%20%27%23c994c7ff%27%2C%20%27%23c994c7ff%27%2C%20%27%23c994c7ff%27%2C%20%27%23c994c7ff%27%2C%20%27%23c994c7ff%27%2C%20%27%23c994c7ff%27%2C%20%27%23c994c7ff%27%2C%20%27%23c994c7ff%27%2C%20%27%23c994c7ff%27%2C%20%27%23c994c7ff%27%2C%20%27%23c994c7ff%27%2C%20%27%23c994c7ff%27%2C%20%27%23c994c7ff%27%2C%20%27%23c994c7ff%27%2C%20%27%23c994c7ff%27%2C%20%27%23c994c7ff%27%2C%20%27%23c994c7ff%27%2C%20%27%23c994c7ff%27%2C%20%27%23c994c7ff%27%2C%20%27%23c994c7ff%27%2C%20%27%23c994c7ff%27%2C%20%27%23c994c7ff%27%2C%20%27%23c994c7ff%27%2C%20%27%23c994c7ff%27%2C%20%27%23c994c7ff%27%2C%20%27%23c994c7ff%27%2C%20%27%23c994c7ff%27%2C%20%27%23c994c7ff%27%2C%20%27%23c994c7ff%27%2C%20%27%23c994c7ff%27%2C%20%27%23c994c7ff%27%2C%20%27%23c994c7ff%27%2C%20%27%23c994c7ff%27%2C%20%27%23c994c7ff%27%2C%20%27%23c994c7ff%27%2C%20%27%23c994c7ff%27%2C%20%27%23c994c7ff%27%2C%20%27%23c994c7ff%27%2C%20%27%23c994c7ff%27%2C%20%27%23c994c7ff%27%2C%20%27%23c994c7ff%27%2C%20%27%23c994c7ff%27%2C%20%27%23c994c7ff%27%2C%20%27%23c994c7ff%27%2C%20%27%23c994c7ff%27%2C%20%27%23c994c7ff%27%2C%20%27%23c994c7ff%27%2C%20%27%23c994c7ff%27%2C%20%27%23c994c7ff%27%2C%20%27%23c994c7ff%27%2C%20%27%23c994c7ff%27%2C%20%27%23c994c7ff%27%2C%20%27%23c994c7ff%27%2C%20%27%23c994c7ff%27%2C%20%27%23c994c7ff%27%2C%20%27%23df65b0ff%27%2C%20%27%23df65b0ff%27%2C%20%27%23df65b0ff%27%2C%20%27%23df65b0ff%27%2C%20%27%23df65b0ff%27%2C%20%27%23df65b0ff%27%2C%20%27%23df65b0ff%27%2C%20%27%23df65b0ff%27%2C%20%27%23df65b0ff%27%2C%20%27%23df65b0ff%27%2C%20%27%23df65b0ff%27%2C%20%27%23df65b0ff%27%2C%20%27%23df65b0ff%27%2C%20%27%23df65b0ff%27%2C%20%27%23df65b0ff%27%2C%20%27%23df65b0ff%27%2C%20%27%23df65b0ff%27%2C%20%27%23df65b0ff%27%2C%20%27%23df65b0ff%27%2C%20%27%23df65b0ff%27%2C%20%27%23df65b0ff%27%2C%20%27%23df65b0ff%27%2C%20%27%23df65b0ff%27%2C%20%27%23df65b0ff%27%2C%20%27%23df65b0ff%27%2C%20%27%23df65b0ff%27%2C%20%27%23df65b0ff%27%2C%20%27%23df65b0ff%27%2C%20%27%23df65b0ff%27%2C%20%27%23df65b0ff%27%2C%20%27%23df65b0ff%27%2C%20%27%23df65b0ff%27%2C%20%27%23df65b0ff%27%2C%20%27%23df65b0ff%27%2C%20%27%23df65b0ff%27%2C%20%27%23df65b0ff%27%2C%20%27%23df65b0ff%27%2C%20%27%23df65b0ff%27%2C%20%27%23df65b0ff%27%2C%20%27%23df65b0ff%27%2C%20%27%23df65b0ff%27%2C%20%27%23df65b0ff%27%2C%20%27%23df65b0ff%27%2C%20%27%23df65b0ff%27%2C%20%27%23df65b0ff%27%2C%20%27%23df65b0ff%27%2C%20%27%23df65b0ff%27%2C%20%27%23df65b0ff%27%2C%20%27%23df65b0ff%27%2C%20%27%23df65b0ff%27%2C%20%27%23df65b0ff%27%2C%20%27%23df65b0ff%27%2C%20%27%23df65b0ff%27%2C%20%27%23df65b0ff%27%2C%20%27%23df65b0ff%27%2C%20%27%23df65b0ff%27%2C%20%27%23df65b0ff%27%2C%20%27%23df65b0ff%27%2C%20%27%23df65b0ff%27%2C%20%27%23df65b0ff%27%2C%20%27%23df65b0ff%27%2C%20%27%23df65b0ff%27%2C%20%27%23df65b0ff%27%2C%20%27%23df65b0ff%27%2C%20%27%23df65b0ff%27%2C%20%27%23df65b0ff%27%2C%20%27%23df65b0ff%27%2C%20%27%23df65b0ff%27%2C%20%27%23df65b0ff%27%2C%20%27%23df65b0ff%27%2C%20%27%23df65b0ff%27%2C%20%27%23df65b0ff%27%2C%20%27%23df65b0ff%27%2C%20%27%23df65b0ff%27%2C%20%27%23df65b0ff%27%2C%20%27%23df65b0ff%27%2C%20%27%23df65b0ff%27%2C%20%27%23df65b0ff%27%2C%20%27%23df65b0ff%27%2C%20%27%23df65b0ff%27%2C%20%27%23df65b0ff%27%2C%20%27%23df65b0ff%27%2C%20%27%23df65b0ff%27%2C%20%27%23dd1c77ff%27%2C%20%27%23dd1c77ff%27%2C%20%27%23dd1c77ff%27%2C%20%27%23dd1c77ff%27%2C%20%27%23dd1c77ff%27%2C%20%27%23dd1c77ff%27%2C%20%27%23dd1c77ff%27%2C%20%27%23dd1c77ff%27%2C%20%27%23dd1c77ff%27%2C%20%27%23dd1c77ff%27%2C%20%27%23dd1c77ff%27%2C%20%27%23dd1c77ff%27%2C%20%27%23dd1c77ff%27%2C%20%27%23dd1c77ff%27%2C%20%27%23dd1c77ff%27%2C%20%27%23dd1c77ff%27%2C%20%27%23dd1c77ff%27%2C%20%27%23dd1c77ff%27%2C%20%27%23dd1c77ff%27%2C%20%27%23dd1c77ff%27%2C%20%27%23dd1c77ff%27%2C%20%27%23dd1c77ff%27%2C%20%27%23dd1c77ff%27%2C%20%27%23dd1c77ff%27%2C%20%27%23dd1c77ff%27%2C%20%27%23dd1c77ff%27%2C%20%27%23dd1c77ff%27%2C%20%27%23dd1c77ff%27%2C%20%27%23dd1c77ff%27%2C%20%27%23dd1c77ff%27%2C%20%27%23dd1c77ff%27%2C%20%27%23dd1c77ff%27%2C%20%27%23dd1c77ff%27%2C%20%27%23dd1c77ff%27%2C%20%27%23dd1c77ff%27%2C%20%27%23dd1c77ff%27%2C%20%27%23dd1c77ff%27%2C%20%27%23dd1c77ff%27%2C%20%27%23dd1c77ff%27%2C%20%27%23dd1c77ff%27%2C%20%27%23dd1c77ff%27%2C%20%27%23dd1c77ff%27%2C%20%27%23dd1c77ff%27%2C%20%27%23dd1c77ff%27%2C%20%27%23dd1c77ff%27%2C%20%27%23dd1c77ff%27%2C%20%27%23dd1c77ff%27%2C%20%27%23dd1c77ff%27%2C%20%27%23dd1c77ff%27%2C%20%27%23dd1c77ff%27%2C%20%27%23dd1c77ff%27%2C%20%27%23dd1c77ff%27%2C%20%27%23dd1c77ff%27%2C%20%27%23dd1c77ff%27%2C%20%27%23dd1c77ff%27%2C%20%27%23dd1c77ff%27%2C%20%27%23dd1c77ff%27%2C%20%27%23dd1c77ff%27%2C%20%27%23dd1c77ff%27%2C%20%27%23dd1c77ff%27%2C%20%27%23dd1c77ff%27%2C%20%27%23dd1c77ff%27%2C%20%27%23dd1c77ff%27%2C%20%27%23dd1c77ff%27%2C%20%27%23dd1c77ff%27%2C%20%27%23dd1c77ff%27%2C%20%27%23dd1c77ff%27%2C%20%27%23dd1c77ff%27%2C%20%27%23dd1c77ff%27%2C%20%27%23dd1c77ff%27%2C%20%27%23dd1c77ff%27%2C%20%27%23dd1c77ff%27%2C%20%27%23dd1c77ff%27%2C%20%27%23dd1c77ff%27%2C%20%27%23dd1c77ff%27%2C%20%27%23dd1c77ff%27%2C%20%27%23dd1c77ff%27%2C%20%27%23dd1c77ff%27%2C%20%27%23dd1c77ff%27%2C%20%27%23dd1c77ff%27%2C%20%27%23dd1c77ff%27%2C%20%27%23dd1c77ff%27%2C%20%27%23dd1c77ff%27%2C%20%27%23980043ff%27%2C%20%27%23980043ff%27%2C%20%27%23980043ff%27%2C%20%27%23980043ff%27%2C%20%27%23980043ff%27%2C%20%27%23980043ff%27%2C%20%27%23980043ff%27%2C%20%27%23980043ff%27%2C%20%27%23980043ff%27%2C%20%27%23980043ff%27%2C%20%27%23980043ff%27%2C%20%27%23980043ff%27%2C%20%27%23980043ff%27%2C%20%27%23980043ff%27%2C%20%27%23980043ff%27%2C%20%27%23980043ff%27%2C%20%27%23980043ff%27%2C%20%27%23980043ff%27%2C%20%27%23980043ff%27%2C%20%27%23980043ff%27%2C%20%27%23980043ff%27%2C%20%27%23980043ff%27%2C%20%27%23980043ff%27%2C%20%27%23980043ff%27%2C%20%27%23980043ff%27%2C%20%27%23980043ff%27%2C%20%27%23980043ff%27%2C%20%27%23980043ff%27%2C%20%27%23980043ff%27%2C%20%27%23980043ff%27%2C%20%27%23980043ff%27%2C%20%27%23980043ff%27%2C%20%27%23980043ff%27%2C%20%27%23980043ff%27%2C%20%27%23980043ff%27%2C%20%27%23980043ff%27%2C%20%27%23980043ff%27%2C%20%27%23980043ff%27%2C%20%27%23980043ff%27%2C%20%27%23980043ff%27%2C%20%27%23980043ff%27%2C%20%27%23980043ff%27%2C%20%27%23980043ff%27%2C%20%27%23980043ff%27%2C%20%27%23980043ff%27%2C%20%27%23980043ff%27%2C%20%27%23980043ff%27%2C%20%27%23980043ff%27%2C%20%27%23980043ff%27%2C%20%27%23980043ff%27%2C%20%27%23980043ff%27%2C%20%27%23980043ff%27%2C%20%27%23980043ff%27%2C%20%27%23980043ff%27%2C%20%27%23980043ff%27%2C%20%27%23980043ff%27%2C%20%27%23980043ff%27%2C%20%27%23980043ff%27%2C%20%27%23980043ff%27%2C%20%27%23980043ff%27%2C%20%27%23980043ff%27%2C%20%27%23980043ff%27%2C%20%27%23980043ff%27%2C%20%27%23980043ff%27%2C%20%27%23980043ff%27%2C%20%27%23980043ff%27%2C%20%27%23980043ff%27%2C%20%27%23980043ff%27%2C%20%27%23980043ff%27%2C%20%27%23980043ff%27%2C%20%27%23980043ff%27%2C%20%27%23980043ff%27%2C%20%27%23980043ff%27%2C%20%27%23980043ff%27%2C%20%27%23980043ff%27%2C%20%27%23980043ff%27%2C%20%27%23980043ff%27%2C%20%27%23980043ff%27%2C%20%27%23980043ff%27%2C%20%27%23980043ff%27%2C%20%27%23980043ff%27%2C%20%27%23980043ff%27%2C%20%27%23980043ff%27%2C%20%27%23980043ff%27%5D%29%3B%0A%20%20%20%20%0A%0A%20%20%20%20color_map_e4c081745ef84830bb48f3f53338f293.x%20%3D%20d3.scale.linear%28%29%0A%20%20%20%20%20%20%20%20%20%20%20%20%20%20.domain%28%5B1293.125%2C%201908.1666666666667%5D%29%0A%20%20%20%20%20%20%20%20%20%20%20%20%20%20.range%28%5B0%2C%20400%5D%29%3B%0A%0A%20%20%20%20color_map_e4c081745ef84830bb48f3f53338f293.legend%20%3D%20L.control%28%7Bposition%3A%20%27topright%27%7D%29%3B%0A%20%20%20%20color_map_e4c081745ef84830bb48f3f53338f293.legend.onAdd%20%3D%20function%20%28map%29%20%7Bvar%20div%20%3D%20L.DomUtil.create%28%27div%27%2C%20%27legend%27%29%3B%20return%20div%7D%3B%0A%20%20%20%20color_map_e4c081745ef84830bb48f3f53338f293.legend.addTo%28map_0a7400c6aaeb4a7f8dea2b44c8376c94%29%3B%0A%0A%20%20%20%20color_map_e4c081745ef84830bb48f3f53338f293.xAxis%20%3D%20d3.svg.axis%28%29%0A%20%20%20%20%20%20%20%20.scale%28color_map_e4c081745ef84830bb48f3f53338f293.x%29%0A%20%20%20%20%20%20%20%20.orient%28%22top%22%29%0A%20%20%20%20%20%20%20%20.tickSize%281%29%0A%20%20%20%20%20%20%20%20.tickValues%28%5B1293.125%2C%201395.6319444444443%2C%201498.138888888889%2C%201600.6458333333335%2C%201703.1527777777778%2C%201805.6597222222222%2C%201908.1666666666667%5D%29%3B%0A%0A%20%20%20%20color_map_e4c081745ef84830bb48f3f53338f293.svg%20%3D%20d3.select%28%22.legend.leaflet-control%22%29.append%28%22svg%22%29%0A%20%20%20%20%20%20%20%20.attr%28%22id%22%2C%20%27legend%27%29%0A%20%20%20%20%20%20%20%20.attr%28%22width%22%2C%20450%29%0A%20%20%20%20%20%20%20%20.attr%28%22height%22%2C%2040%29%3B%0A%0A%20%20%20%20color_map_e4c081745ef84830bb48f3f53338f293.g%20%3D%20color_map_e4c081745ef84830bb48f3f53338f293.svg.append%28%22g%22%29%0A%20%20%20%20%20%20%20%20.attr%28%22class%22%2C%20%22key%22%29%0A%20%20%20%20%20%20%20%20.attr%28%22transform%22%2C%20%22translate%2825%2C16%29%22%29%3B%0A%0A%20%20%20%20color_map_e4c081745ef84830bb48f3f53338f293.g.selectAll%28%22rect%22%29%0A%20%20%20%20%20%20%20%20.data%28color_map_e4c081745ef84830bb48f3f53338f293.color.range%28%29.map%28function%28d%2C%20i%29%20%7B%0A%20%20%20%20%20%20%20%20%20%20return%20%7B%0A%20%20%20%20%20%20%20%20%20%20%20%20x0%3A%20i%20%3F%20color_map_e4c081745ef84830bb48f3f53338f293.x%28color_map_e4c081745ef84830bb48f3f53338f293.color.domain%28%29%5Bi%20-%201%5D%29%20%3A%20color_map_e4c081745ef84830bb48f3f53338f293.x.range%28%29%5B0%5D%2C%0A%20%20%20%20%20%20%20%20%20%20%20%20x1%3A%20i%20%3C%20color_map_e4c081745ef84830bb48f3f53338f293.color.domain%28%29.length%20%3F%20color_map_e4c081745ef84830bb48f3f53338f293.x%28color_map_e4c081745ef84830bb48f3f53338f293.color.domain%28%29%5Bi%5D%29%20%3A%20color_map_e4c081745ef84830bb48f3f53338f293.x.range%28%29%5B1%5D%2C%0A%20%20%20%20%20%20%20%20%20%20%20%20z%3A%20d%0A%20%20%20%20%20%20%20%20%20%20%7D%3B%0A%20%20%20%20%20%20%20%20%7D%29%29%0A%20%20%20%20%20%20.enter%28%29.append%28%22rect%22%29%0A%20%20%20%20%20%20%20%20.attr%28%22height%22%2C%2010%29%0A%20%20%20%20%20%20%20%20.attr%28%22x%22%2C%20function%28d%29%20%7B%20return%20d.x0%3B%20%7D%29%0A%20%20%20%20%20%20%20%20.attr%28%22width%22%2C%20function%28d%29%20%7B%20return%20d.x1%20-%20d.x0%3B%20%7D%29%0A%20%20%20%20%20%20%20%20.style%28%22fill%22%2C%20function%28d%29%20%7B%20return%20d.z%3B%20%7D%29%3B%0A%0A%20%20%20%20color_map_e4c081745ef84830bb48f3f53338f293.g.call%28color_map_e4c081745ef84830bb48f3f53338f293.xAxis%29.append%28%22text%22%29%0A%20%20%20%20%20%20%20%20.attr%28%22class%22%2C%20%22caption%22%29%0A%20%20%20%20%20%20%20%20.attr%28%22y%22%2C%2021%29%0A%20%20%20%20%20%20%20%20.text%28%27%27%29%3B%0A%3C/script%3E onload=\"this.contentDocument.open();this.contentDocument.write(    decodeURIComponent(this.getAttribute('data-html')));this.contentDocument.close();\" allowfullscreen webkitallowfullscreen mozallowfullscreen></iframe></div></div>"
            ],
            "text/plain": [
              "<folium.folium.Map at 0x1e5c359e370>"
            ]
          },
          "metadata": {
            "tags": []
          },
          "execution_count": 68
        }
      ]
    },
    {
      "cell_type": "markdown",
      "metadata": {
        "id": "a5DxQpfqLuyf"
      },
      "source": [
        "오호라 이렇게 하니, 확실히 중구와 용산구가 비싸네요. 거기다 종로구도 무척 비싸고, 강남구도 확실히 비싸네요. \n",
        "\n",
        "### 6.6 서울시 주유 가격 상하위 10개 주유소 지도에 표시하기\n",
        "\n",
        "이번에는 서울시에 있는 주유가격 상하위 10개 주유소를 지도에 표시해보도록 하겠습니다. 구별로 따지는게 아니라, 개별 주유소별로 따져보는 거에요. 상하위 10개 주유소만 따로 변수에 담아보겠습니다."
      ]
    },
    {
      "cell_type": "code",
      "metadata": {
        "id": "QcfR7AQ9Luyg",
        "outputId": "43bf8a18-f965-458c-c5f0-3cc092730ced"
      },
      "source": [
        "oil_price_top10 = stations.sort_values(by='가격', ascending=False).head(10)\n",
        "oil_price_top10"
      ],
      "execution_count": null,
      "outputs": [
        {
          "output_type": "execute_result",
          "data": {
            "text/html": [
              "<div>\n",
              "<style scoped>\n",
              "    .dataframe tbody tr th:only-of-type {\n",
              "        vertical-align: middle;\n",
              "    }\n",
              "\n",
              "    .dataframe tbody tr th {\n",
              "        vertical-align: top;\n",
              "    }\n",
              "\n",
              "    .dataframe thead th {\n",
              "        text-align: right;\n",
              "    }\n",
              "</style>\n",
              "<table border=\"1\" class=\"dataframe\">\n",
              "  <thead>\n",
              "    <tr style=\"text-align: right;\">\n",
              "      <th></th>\n",
              "      <th>Oil_store</th>\n",
              "      <th>주소</th>\n",
              "      <th>가격</th>\n",
              "      <th>셀프</th>\n",
              "      <th>상표</th>\n",
              "      <th>구</th>\n",
              "    </tr>\n",
              "  </thead>\n",
              "  <tbody>\n",
              "    <tr>\n",
              "      <td>11</td>\n",
              "      <td>서남주유소</td>\n",
              "      <td>서울 중구 통일로 30</td>\n",
              "      <td>2099.0</td>\n",
              "      <td>N</td>\n",
              "      <td>SK에너지</td>\n",
              "      <td>중구</td>\n",
              "    </tr>\n",
              "    <tr>\n",
              "      <td>10</td>\n",
              "      <td>장충주유소</td>\n",
              "      <td>서울 중구 장충단로 202 (장충동1가)</td>\n",
              "      <td>2088.0</td>\n",
              "      <td>N</td>\n",
              "      <td>SK에너지</td>\n",
              "      <td>중구</td>\n",
              "    </tr>\n",
              "    <tr>\n",
              "      <td>39</td>\n",
              "      <td>뉴서울(강남)</td>\n",
              "      <td>서울 강남구 언주로 716 (논현동)</td>\n",
              "      <td>2082.0</td>\n",
              "      <td>N</td>\n",
              "      <td>SK에너지</td>\n",
              "      <td>강남구</td>\n",
              "    </tr>\n",
              "    <tr>\n",
              "      <td>9</td>\n",
              "      <td>에스씨(주) 역전주유소</td>\n",
              "      <td>서울 중구 퇴계로 15</td>\n",
              "      <td>2079.0</td>\n",
              "      <td>N</td>\n",
              "      <td>GS칼텍스</td>\n",
              "      <td>중구</td>\n",
              "    </tr>\n",
              "    <tr>\n",
              "      <td>13</td>\n",
              "      <td>서계주유소</td>\n",
              "      <td>서울 용산구 청파로 367 (서계동)</td>\n",
              "      <td>2059.0</td>\n",
              "      <td>N</td>\n",
              "      <td>GS칼텍스</td>\n",
              "      <td>용산구</td>\n",
              "    </tr>\n",
              "    <tr>\n",
              "      <td>8</td>\n",
              "      <td>필동주유소</td>\n",
              "      <td>서울 중구  퇴계로 196 (필동2가)</td>\n",
              "      <td>2059.0</td>\n",
              "      <td>N</td>\n",
              "      <td>GS칼텍스</td>\n",
              "      <td>중구</td>\n",
              "    </tr>\n",
              "    <tr>\n",
              "      <td>7</td>\n",
              "      <td>SK에너지(주) 퇴계로주유소</td>\n",
              "      <td>서울 중구 퇴계로 228 (필동2가)</td>\n",
              "      <td>2049.0</td>\n",
              "      <td>N</td>\n",
              "      <td>SK에너지</td>\n",
              "      <td>중구</td>\n",
              "    </tr>\n",
              "    <tr>\n",
              "      <td>6</td>\n",
              "      <td>지에스칼텍스(주)초동주유소</td>\n",
              "      <td>서울 중구 마른내로 31</td>\n",
              "      <td>2035.0</td>\n",
              "      <td>N</td>\n",
              "      <td>GS칼텍스</td>\n",
              "      <td>중구</td>\n",
              "    </tr>\n",
              "    <tr>\n",
              "      <td>12</td>\n",
              "      <td>수림석유 제3한강주유소</td>\n",
              "      <td>서울 용산구 한남대로 45 (한남동)</td>\n",
              "      <td>2018.0</td>\n",
              "      <td>N</td>\n",
              "      <td>GS칼텍스</td>\n",
              "      <td>용산구</td>\n",
              "    </tr>\n",
              "    <tr>\n",
              "      <td>8</td>\n",
              "      <td>SK네트웍스(주)재동주유소</td>\n",
              "      <td>서울 종로구 율곡로 58 (경운동)</td>\n",
              "      <td>1999.0</td>\n",
              "      <td>N</td>\n",
              "      <td>SK에너지</td>\n",
              "      <td>종로구</td>\n",
              "    </tr>\n",
              "  </tbody>\n",
              "</table>\n",
              "</div>"
            ],
            "text/plain": [
              "          Oil_store                      주소      가격 셀프     상표    구\n",
              "11            서남주유소            서울 중구 통일로 30  2099.0  N  SK에너지   중구\n",
              "10            장충주유소  서울 중구 장충단로 202 (장충동1가)  2088.0  N  SK에너지   중구\n",
              "39          뉴서울(강남)    서울 강남구 언주로 716 (논현동)  2082.0  N  SK에너지  강남구\n",
              "9      에스씨(주) 역전주유소            서울 중구 퇴계로 15  2079.0  N  GS칼텍스   중구\n",
              "13            서계주유소    서울 용산구 청파로 367 (서계동)  2059.0  N  GS칼텍스  용산구\n",
              "8             필동주유소   서울 중구  퇴계로 196 (필동2가)  2059.0  N  GS칼텍스   중구\n",
              "7   SK에너지(주) 퇴계로주유소    서울 중구 퇴계로 228 (필동2가)  2049.0  N  SK에너지   중구\n",
              "6    지에스칼텍스(주)초동주유소           서울 중구 마른내로 31  2035.0  N  GS칼텍스   중구\n",
              "12     수림석유 제3한강주유소    서울 용산구 한남대로 45 (한남동)  2018.0  N  GS칼텍스  용산구\n",
              "8    SK네트웍스(주)재동주유소     서울 종로구 율곡로 58 (경운동)  1999.0  N  SK에너지  종로구"
            ]
          },
          "metadata": {
            "tags": []
          },
          "execution_count": 90
        }
      ]
    },
    {
      "cell_type": "code",
      "metadata": {
        "id": "bMCrAI30Luyk",
        "outputId": "fec1899e-e165-4d5e-cc2d-8d06d5fb302b"
      },
      "source": [
        "oil_price_bottom10 = stations.sort_values(by='가격', ascending=True).head(10)\n",
        "oil_price_bottom10"
      ],
      "execution_count": null,
      "outputs": [
        {
          "output_type": "execute_result",
          "data": {
            "text/html": [
              "<div>\n",
              "<style scoped>\n",
              "    .dataframe tbody tr th:only-of-type {\n",
              "        vertical-align: middle;\n",
              "    }\n",
              "\n",
              "    .dataframe tbody tr th {\n",
              "        vertical-align: top;\n",
              "    }\n",
              "\n",
              "    .dataframe thead th {\n",
              "        text-align: right;\n",
              "    }\n",
              "</style>\n",
              "<table border=\"1\" class=\"dataframe\">\n",
              "  <thead>\n",
              "    <tr style=\"text-align: right;\">\n",
              "      <th></th>\n",
              "      <th>Oil_store</th>\n",
              "      <th>주소</th>\n",
              "      <th>가격</th>\n",
              "      <th>셀프</th>\n",
              "      <th>상표</th>\n",
              "      <th>구</th>\n",
              "    </tr>\n",
              "  </thead>\n",
              "  <tbody>\n",
              "    <tr>\n",
              "      <td>2</td>\n",
              "      <td>강산제2주유소</td>\n",
              "      <td>서울 성북구 보국문로 52</td>\n",
              "      <td>1237.0</td>\n",
              "      <td>Y</td>\n",
              "      <td>현대오일뱅크</td>\n",
              "      <td>성북구</td>\n",
              "    </tr>\n",
              "    <tr>\n",
              "      <td>0</td>\n",
              "      <td>이케이에너지㈜ 강산주유소</td>\n",
              "      <td>서울 성북구 보문로 27 (보문동7가)</td>\n",
              "      <td>1237.0</td>\n",
              "      <td>Y</td>\n",
              "      <td>GS칼텍스</td>\n",
              "      <td>성북구</td>\n",
              "    </tr>\n",
              "    <tr>\n",
              "      <td>3</td>\n",
              "      <td>(주)삼표에너지 정릉주유소</td>\n",
              "      <td>서울 성북구 보국문로 35 (정릉동)</td>\n",
              "      <td>1237.0</td>\n",
              "      <td>Y</td>\n",
              "      <td>GS칼텍스</td>\n",
              "      <td>성북구</td>\n",
              "    </tr>\n",
              "    <tr>\n",
              "      <td>1</td>\n",
              "      <td>원천주유소</td>\n",
              "      <td>서울 성북구 돌곶이로 142 (장위동)</td>\n",
              "      <td>1237.0</td>\n",
              "      <td>N</td>\n",
              "      <td>알뜰주유소</td>\n",
              "      <td>성북구</td>\n",
              "    </tr>\n",
              "    <tr>\n",
              "      <td>1</td>\n",
              "      <td>북서울고속주유소</td>\n",
              "      <td>서울 강북구 삼양로 410 (수유동)</td>\n",
              "      <td>1257.0</td>\n",
              "      <td>Y</td>\n",
              "      <td>S-OIL</td>\n",
              "      <td>강북구</td>\n",
              "    </tr>\n",
              "    <tr>\n",
              "      <td>0</td>\n",
              "      <td>(주)석산에너지</td>\n",
              "      <td>서울 강북구 삼양로 316 (수유동)</td>\n",
              "      <td>1257.0</td>\n",
              "      <td>Y</td>\n",
              "      <td>현대오일뱅크</td>\n",
              "      <td>강북구</td>\n",
              "    </tr>\n",
              "    <tr>\n",
              "      <td>1</td>\n",
              "      <td>화곡역주유소</td>\n",
              "      <td>서울특별시 강서구  강서로 154 (화곡동)</td>\n",
              "      <td>1258.0</td>\n",
              "      <td>Y</td>\n",
              "      <td>알뜰주유소</td>\n",
              "      <td>강서구</td>\n",
              "    </tr>\n",
              "    <tr>\n",
              "      <td>0</td>\n",
              "      <td>뉴신정주유소</td>\n",
              "      <td>서울 강서구 곰달래로 207(화곡동)</td>\n",
              "      <td>1258.0</td>\n",
              "      <td>N</td>\n",
              "      <td>알뜰주유소</td>\n",
              "      <td>강서구</td>\n",
              "    </tr>\n",
              "    <tr>\n",
              "      <td>0</td>\n",
              "      <td>형산석유(주)원주유소</td>\n",
              "      <td>서울 양천구 남부순환로 408</td>\n",
              "      <td>1258.0</td>\n",
              "      <td>N</td>\n",
              "      <td>현대오일뱅크</td>\n",
              "      <td>양천구</td>\n",
              "    </tr>\n",
              "    <tr>\n",
              "      <td>1</td>\n",
              "      <td>현대주유소</td>\n",
              "      <td>서울 양천구 남부순환로 372 (신월동)</td>\n",
              "      <td>1258.0</td>\n",
              "      <td>Y</td>\n",
              "      <td>S-OIL</td>\n",
              "      <td>양천구</td>\n",
              "    </tr>\n",
              "  </tbody>\n",
              "</table>\n",
              "</div>"
            ],
            "text/plain": [
              "        Oil_store                        주소      가격 셀프      상표    구\n",
              "2         강산제2주유소            서울 성북구 보국문로 52  1237.0  Y  현대오일뱅크  성북구\n",
              "0   이케이에너지㈜ 강산주유소     서울 성북구 보문로 27 (보문동7가)  1237.0  Y   GS칼텍스  성북구\n",
              "3  (주)삼표에너지 정릉주유소      서울 성북구 보국문로 35 (정릉동)  1237.0  Y   GS칼텍스  성북구\n",
              "1           원천주유소     서울 성북구 돌곶이로 142 (장위동)  1237.0  N   알뜰주유소  성북구\n",
              "1        북서울고속주유소      서울 강북구 삼양로 410 (수유동)  1257.0  Y   S-OIL  강북구\n",
              "0        (주)석산에너지      서울 강북구 삼양로 316 (수유동)  1257.0  Y  현대오일뱅크  강북구\n",
              "1          화곡역주유소  서울특별시 강서구  강서로 154 (화곡동)  1258.0  Y   알뜰주유소  강서구\n",
              "0          뉴신정주유소      서울 강서구 곰달래로 207(화곡동)  1258.0  N   알뜰주유소  강서구\n",
              "0     형산석유(주)원주유소          서울 양천구 남부순환로 408  1258.0  N  현대오일뱅크  양천구\n",
              "1           현대주유소    서울 양천구 남부순환로 372 (신월동)  1258.0  Y   S-OIL  양천구"
            ]
          },
          "metadata": {
            "tags": []
          },
          "execution_count": 91
        }
      ]
    },
    {
      "cell_type": "markdown",
      "metadata": {
        "id": "utVQbQWTLuyp"
      },
      "source": [
        "지도에 시각화 하려면 위도와 경도가 필요하니, 구글 맵키를 준비해주시구요."
      ]
    },
    {
      "cell_type": "code",
      "metadata": {
        "id": "FStP_kPlLuyq"
      },
      "source": [
        "gmaps_key = \"**************\"\n",
        "gmaps = googlemaps.Client(key=gmaps_key)"
      ],
      "execution_count": null,
      "outputs": []
    },
    {
      "cell_type": "markdown",
      "metadata": {
        "id": "imIBLaktLuyq"
      },
      "source": [
        "아래 코드를 입력하면 lat과 lng 정보를 모두 담아 oil_price_top10과 oil_price_bottom10에다 새로운 칼럼으로 담아줍니다. (코드는 교재에 실린 코드와는 다릅니다.)"
      ]
    },
    {
      "cell_type": "code",
      "metadata": {
        "id": "gyCQkyQuLuyq",
        "outputId": "6eeb08ce-82bc-456b-bdc6-e6be4d347c76"
      },
      "source": [
        "from tqdm import tqdm_notebook\n",
        "\n",
        "lat = []\n",
        "lng = []\n",
        "\n",
        "for n in tqdm_notebook(oil_price_top10.index):\n",
        "    # 주소를 '(' 기준으로 나눠 첫번째 주소만 가져와라 \n",
        "    tmp_add = str(oil_price_top10['주소'][n]).split('(')[0]\n",
        "    # tmp_add를 기준으로 주소를 입력해라 \n",
        "    tmp_map = gmaps.geocode(tmp_add)\n",
        "\n",
        "    # tmp_map의 첫번째 값에서 'geometry'를 구하고, 거기에서 다시 'location'을 구해라\n",
        "    tmp_loc = tmp_map[0].get('geometry').get('location')\n",
        "    lat.append(tmp_loc['lat'])\n",
        "    lng.append(tmp_loc['lng'])\n",
        "\n",
        "# 각각 새로운 컬럼 형성 \n",
        "oil_price_top10['lat'] = lat\n",
        "oil_price_top10['lng'] = lng\n",
        "oil_price_top10"
      ],
      "execution_count": null,
      "outputs": [
        {
          "output_type": "display_data",
          "data": {
            "application/vnd.jupyter.widget-view+json": {
              "model_id": "9a705550d5b2467fbe165445672e33e9",
              "version_major": 2,
              "version_minor": 0
            },
            "text/plain": [
              "HBox(children=(IntProgress(value=0, max=10), HTML(value='')))"
            ]
          },
          "metadata": {
            "tags": []
          }
        },
        {
          "output_type": "stream",
          "text": [
            "\n"
          ],
          "name": "stdout"
        },
        {
          "output_type": "execute_result",
          "data": {
            "text/html": [
              "<div>\n",
              "<style scoped>\n",
              "    .dataframe tbody tr th:only-of-type {\n",
              "        vertical-align: middle;\n",
              "    }\n",
              "\n",
              "    .dataframe tbody tr th {\n",
              "        vertical-align: top;\n",
              "    }\n",
              "\n",
              "    .dataframe thead th {\n",
              "        text-align: right;\n",
              "    }\n",
              "</style>\n",
              "<table border=\"1\" class=\"dataframe\">\n",
              "  <thead>\n",
              "    <tr style=\"text-align: right;\">\n",
              "      <th></th>\n",
              "      <th>Oil_store</th>\n",
              "      <th>주소</th>\n",
              "      <th>가격</th>\n",
              "      <th>셀프</th>\n",
              "      <th>상표</th>\n",
              "      <th>구</th>\n",
              "      <th>lat</th>\n",
              "      <th>lng</th>\n",
              "    </tr>\n",
              "  </thead>\n",
              "  <tbody>\n",
              "    <tr>\n",
              "      <td>11</td>\n",
              "      <td>서남주유소</td>\n",
              "      <td>서울 중구 통일로 30</td>\n",
              "      <td>2099.0</td>\n",
              "      <td>N</td>\n",
              "      <td>SK에너지</td>\n",
              "      <td>중구</td>\n",
              "      <td>37.558348</td>\n",
              "      <td>126.972090</td>\n",
              "    </tr>\n",
              "    <tr>\n",
              "      <td>10</td>\n",
              "      <td>장충주유소</td>\n",
              "      <td>서울 중구 장충단로 202 (장충동1가)</td>\n",
              "      <td>2088.0</td>\n",
              "      <td>N</td>\n",
              "      <td>SK에너지</td>\n",
              "      <td>중구</td>\n",
              "      <td>37.562719</td>\n",
              "      <td>127.007010</td>\n",
              "    </tr>\n",
              "    <tr>\n",
              "      <td>39</td>\n",
              "      <td>뉴서울(강남)</td>\n",
              "      <td>서울 강남구 언주로 716 (논현동)</td>\n",
              "      <td>2082.0</td>\n",
              "      <td>N</td>\n",
              "      <td>SK에너지</td>\n",
              "      <td>강남구</td>\n",
              "      <td>37.517636</td>\n",
              "      <td>127.035756</td>\n",
              "    </tr>\n",
              "    <tr>\n",
              "      <td>9</td>\n",
              "      <td>에스씨(주) 역전주유소</td>\n",
              "      <td>서울 중구 퇴계로 15</td>\n",
              "      <td>2079.0</td>\n",
              "      <td>N</td>\n",
              "      <td>GS칼텍스</td>\n",
              "      <td>중구</td>\n",
              "      <td>37.557001</td>\n",
              "      <td>126.974495</td>\n",
              "    </tr>\n",
              "    <tr>\n",
              "      <td>13</td>\n",
              "      <td>서계주유소</td>\n",
              "      <td>서울 용산구 청파로 367 (서계동)</td>\n",
              "      <td>2059.0</td>\n",
              "      <td>N</td>\n",
              "      <td>GS칼텍스</td>\n",
              "      <td>용산구</td>\n",
              "      <td>37.552290</td>\n",
              "      <td>126.968935</td>\n",
              "    </tr>\n",
              "    <tr>\n",
              "      <td>8</td>\n",
              "      <td>필동주유소</td>\n",
              "      <td>서울 중구  퇴계로 196 (필동2가)</td>\n",
              "      <td>2059.0</td>\n",
              "      <td>N</td>\n",
              "      <td>GS칼텍스</td>\n",
              "      <td>중구</td>\n",
              "      <td>37.560850</td>\n",
              "      <td>126.993653</td>\n",
              "    </tr>\n",
              "    <tr>\n",
              "      <td>7</td>\n",
              "      <td>SK에너지(주) 퇴계로주유소</td>\n",
              "      <td>서울 중구 퇴계로 228 (필동2가)</td>\n",
              "      <td>2049.0</td>\n",
              "      <td>N</td>\n",
              "      <td>SK에너지</td>\n",
              "      <td>중구</td>\n",
              "      <td>37.561648</td>\n",
              "      <td>126.997142</td>\n",
              "    </tr>\n",
              "    <tr>\n",
              "      <td>6</td>\n",
              "      <td>지에스칼텍스(주)초동주유소</td>\n",
              "      <td>서울 중구 마른내로 31</td>\n",
              "      <td>2035.0</td>\n",
              "      <td>N</td>\n",
              "      <td>GS칼텍스</td>\n",
              "      <td>중구</td>\n",
              "      <td>37.564944</td>\n",
              "      <td>126.991136</td>\n",
              "    </tr>\n",
              "    <tr>\n",
              "      <td>12</td>\n",
              "      <td>수림석유 제3한강주유소</td>\n",
              "      <td>서울 용산구 한남대로 45 (한남동)</td>\n",
              "      <td>2018.0</td>\n",
              "      <td>N</td>\n",
              "      <td>GS칼텍스</td>\n",
              "      <td>용산구</td>\n",
              "      <td>37.532731</td>\n",
              "      <td>127.007481</td>\n",
              "    </tr>\n",
              "    <tr>\n",
              "      <td>8</td>\n",
              "      <td>SK네트웍스(주)재동주유소</td>\n",
              "      <td>서울 종로구 율곡로 58 (경운동)</td>\n",
              "      <td>1999.0</td>\n",
              "      <td>N</td>\n",
              "      <td>SK에너지</td>\n",
              "      <td>종로구</td>\n",
              "      <td>37.560850</td>\n",
              "      <td>126.993653</td>\n",
              "    </tr>\n",
              "  </tbody>\n",
              "</table>\n",
              "</div>"
            ],
            "text/plain": [
              "          Oil_store                      주소      가격 셀프     상표    구        lat  \\\n",
              "11            서남주유소            서울 중구 통일로 30  2099.0  N  SK에너지   중구  37.558348   \n",
              "10            장충주유소  서울 중구 장충단로 202 (장충동1가)  2088.0  N  SK에너지   중구  37.562719   \n",
              "39          뉴서울(강남)    서울 강남구 언주로 716 (논현동)  2082.0  N  SK에너지  강남구  37.517636   \n",
              "9      에스씨(주) 역전주유소            서울 중구 퇴계로 15  2079.0  N  GS칼텍스   중구  37.557001   \n",
              "13            서계주유소    서울 용산구 청파로 367 (서계동)  2059.0  N  GS칼텍스  용산구  37.552290   \n",
              "8             필동주유소   서울 중구  퇴계로 196 (필동2가)  2059.0  N  GS칼텍스   중구  37.560850   \n",
              "7   SK에너지(주) 퇴계로주유소    서울 중구 퇴계로 228 (필동2가)  2049.0  N  SK에너지   중구  37.561648   \n",
              "6    지에스칼텍스(주)초동주유소           서울 중구 마른내로 31  2035.0  N  GS칼텍스   중구  37.564944   \n",
              "12     수림석유 제3한강주유소    서울 용산구 한남대로 45 (한남동)  2018.0  N  GS칼텍스  용산구  37.532731   \n",
              "8    SK네트웍스(주)재동주유소     서울 종로구 율곡로 58 (경운동)  1999.0  N  SK에너지  종로구  37.560850   \n",
              "\n",
              "           lng  \n",
              "11  126.972090  \n",
              "10  127.007010  \n",
              "39  127.035756  \n",
              "9   126.974495  \n",
              "13  126.968935  \n",
              "8   126.993653  \n",
              "7   126.997142  \n",
              "6   126.991136  \n",
              "12  127.007481  \n",
              "8   126.993653  "
            ]
          },
          "metadata": {
            "tags": []
          },
          "execution_count": 94
        }
      ]
    },
    {
      "cell_type": "markdown",
      "metadata": {
        "id": "OtEszcNxLuyr"
      },
      "source": [
        "엇, 그런데 인덱스가 이상하네요. 8이 2번 들어가 있어요."
      ]
    },
    {
      "cell_type": "code",
      "metadata": {
        "id": "wtb2EHyDLuyr",
        "outputId": "0ea173d1-6322-49a2-a3c3-f669a0b5f78f"
      },
      "source": [
        "lat = []\n",
        "lng = []\n",
        "\n",
        "for n in tqdm_notebook(oil_price_bottom10.index):\n",
        "    # 주소를 '(' 기준으로 나눠 첫번째 주소만 가져와라 \n",
        "    tmp_add = str(oil_price_bottom10['주소'][n]).split('(')[0]\n",
        "    # tmp_add를 기준으로 주소를 입력해라 \n",
        "    tmp_map = gmaps.geocode(tmp_add)\n",
        "\n",
        "    # tmp_map의 첫번째 값에서 'geometry'를 구하고, 거기에서 다시 'location'을 구해라\n",
        "    tmp_loc = tmp_map[0].get('geometry').get('location')\n",
        "    lat.append(tmp_loc['lat'])\n",
        "    lng.append(tmp_loc['lng'])\n",
        "\n",
        "# 각각 새로운 컬럼 형성 \n",
        "oil_price_bottom10['lat'] = lat\n",
        "oil_price_bottom10['lng'] = lng\n",
        "oil_price_bottom10"
      ],
      "execution_count": null,
      "outputs": [
        {
          "output_type": "display_data",
          "data": {
            "application/vnd.jupyter.widget-view+json": {
              "model_id": "b443b741a61c46a2b590fd3061ad0a68",
              "version_major": 2,
              "version_minor": 0
            },
            "text/plain": [
              "HBox(children=(IntProgress(value=0, max=10), HTML(value='')))"
            ]
          },
          "metadata": {
            "tags": []
          }
        },
        {
          "output_type": "stream",
          "text": [
            "\n"
          ],
          "name": "stdout"
        },
        {
          "output_type": "execute_result",
          "data": {
            "text/html": [
              "<div>\n",
              "<style scoped>\n",
              "    .dataframe tbody tr th:only-of-type {\n",
              "        vertical-align: middle;\n",
              "    }\n",
              "\n",
              "    .dataframe tbody tr th {\n",
              "        vertical-align: top;\n",
              "    }\n",
              "\n",
              "    .dataframe thead th {\n",
              "        text-align: right;\n",
              "    }\n",
              "</style>\n",
              "<table border=\"1\" class=\"dataframe\">\n",
              "  <thead>\n",
              "    <tr style=\"text-align: right;\">\n",
              "      <th></th>\n",
              "      <th>Oil_store</th>\n",
              "      <th>주소</th>\n",
              "      <th>가격</th>\n",
              "      <th>셀프</th>\n",
              "      <th>상표</th>\n",
              "      <th>구</th>\n",
              "      <th>lat</th>\n",
              "      <th>lng</th>\n",
              "    </tr>\n",
              "  </thead>\n",
              "  <tbody>\n",
              "    <tr>\n",
              "      <td>2</td>\n",
              "      <td>강산제2주유소</td>\n",
              "      <td>서울 성북구 보국문로 52</td>\n",
              "      <td>1237.0</td>\n",
              "      <td>Y</td>\n",
              "      <td>현대오일뱅크</td>\n",
              "      <td>성북구</td>\n",
              "      <td>37.609163</td>\n",
              "      <td>127.010074</td>\n",
              "    </tr>\n",
              "    <tr>\n",
              "      <td>0</td>\n",
              "      <td>이케이에너지㈜ 강산주유소</td>\n",
              "      <td>서울 성북구 보문로 27 (보문동7가)</td>\n",
              "      <td>1237.0</td>\n",
              "      <td>Y</td>\n",
              "      <td>GS칼텍스</td>\n",
              "      <td>성북구</td>\n",
              "      <td>37.577912</td>\n",
              "      <td>127.022774</td>\n",
              "    </tr>\n",
              "    <tr>\n",
              "      <td>3</td>\n",
              "      <td>(주)삼표에너지 정릉주유소</td>\n",
              "      <td>서울 성북구 보국문로 35 (정릉동)</td>\n",
              "      <td>1237.0</td>\n",
              "      <td>Y</td>\n",
              "      <td>GS칼텍스</td>\n",
              "      <td>성북구</td>\n",
              "      <td>37.607660</td>\n",
              "      <td>127.009858</td>\n",
              "    </tr>\n",
              "    <tr>\n",
              "      <td>1</td>\n",
              "      <td>원천주유소</td>\n",
              "      <td>서울 성북구 돌곶이로 142 (장위동)</td>\n",
              "      <td>1237.0</td>\n",
              "      <td>N</td>\n",
              "      <td>알뜰주유소</td>\n",
              "      <td>성북구</td>\n",
              "      <td>37.614921</td>\n",
              "      <td>127.052752</td>\n",
              "    </tr>\n",
              "    <tr>\n",
              "      <td>1</td>\n",
              "      <td>북서울고속주유소</td>\n",
              "      <td>서울 강북구 삼양로 410 (수유동)</td>\n",
              "      <td>1257.0</td>\n",
              "      <td>Y</td>\n",
              "      <td>S-OIL</td>\n",
              "      <td>강북구</td>\n",
              "      <td>37.614921</td>\n",
              "      <td>127.052752</td>\n",
              "    </tr>\n",
              "    <tr>\n",
              "      <td>0</td>\n",
              "      <td>(주)석산에너지</td>\n",
              "      <td>서울 강북구 삼양로 316 (수유동)</td>\n",
              "      <td>1257.0</td>\n",
              "      <td>Y</td>\n",
              "      <td>현대오일뱅크</td>\n",
              "      <td>강북구</td>\n",
              "      <td>37.577912</td>\n",
              "      <td>127.022774</td>\n",
              "    </tr>\n",
              "    <tr>\n",
              "      <td>1</td>\n",
              "      <td>화곡역주유소</td>\n",
              "      <td>서울특별시 강서구  강서로 154 (화곡동)</td>\n",
              "      <td>1258.0</td>\n",
              "      <td>Y</td>\n",
              "      <td>알뜰주유소</td>\n",
              "      <td>강서구</td>\n",
              "      <td>37.614921</td>\n",
              "      <td>127.052752</td>\n",
              "    </tr>\n",
              "    <tr>\n",
              "      <td>0</td>\n",
              "      <td>뉴신정주유소</td>\n",
              "      <td>서울 강서구 곰달래로 207(화곡동)</td>\n",
              "      <td>1258.0</td>\n",
              "      <td>N</td>\n",
              "      <td>알뜰주유소</td>\n",
              "      <td>강서구</td>\n",
              "      <td>37.577912</td>\n",
              "      <td>127.022774</td>\n",
              "    </tr>\n",
              "    <tr>\n",
              "      <td>0</td>\n",
              "      <td>형산석유(주)원주유소</td>\n",
              "      <td>서울 양천구 남부순환로 408</td>\n",
              "      <td>1258.0</td>\n",
              "      <td>N</td>\n",
              "      <td>현대오일뱅크</td>\n",
              "      <td>양천구</td>\n",
              "      <td>37.577912</td>\n",
              "      <td>127.022774</td>\n",
              "    </tr>\n",
              "    <tr>\n",
              "      <td>1</td>\n",
              "      <td>현대주유소</td>\n",
              "      <td>서울 양천구 남부순환로 372 (신월동)</td>\n",
              "      <td>1258.0</td>\n",
              "      <td>Y</td>\n",
              "      <td>S-OIL</td>\n",
              "      <td>양천구</td>\n",
              "      <td>37.614921</td>\n",
              "      <td>127.052752</td>\n",
              "    </tr>\n",
              "  </tbody>\n",
              "</table>\n",
              "</div>"
            ],
            "text/plain": [
              "        Oil_store                        주소      가격 셀프      상표    구  \\\n",
              "2         강산제2주유소            서울 성북구 보국문로 52  1237.0  Y  현대오일뱅크  성북구   \n",
              "0   이케이에너지㈜ 강산주유소     서울 성북구 보문로 27 (보문동7가)  1237.0  Y   GS칼텍스  성북구   \n",
              "3  (주)삼표에너지 정릉주유소      서울 성북구 보국문로 35 (정릉동)  1237.0  Y   GS칼텍스  성북구   \n",
              "1           원천주유소     서울 성북구 돌곶이로 142 (장위동)  1237.0  N   알뜰주유소  성북구   \n",
              "1        북서울고속주유소      서울 강북구 삼양로 410 (수유동)  1257.0  Y   S-OIL  강북구   \n",
              "0        (주)석산에너지      서울 강북구 삼양로 316 (수유동)  1257.0  Y  현대오일뱅크  강북구   \n",
              "1          화곡역주유소  서울특별시 강서구  강서로 154 (화곡동)  1258.0  Y   알뜰주유소  강서구   \n",
              "0          뉴신정주유소      서울 강서구 곰달래로 207(화곡동)  1258.0  N   알뜰주유소  강서구   \n",
              "0     형산석유(주)원주유소          서울 양천구 남부순환로 408  1258.0  N  현대오일뱅크  양천구   \n",
              "1           현대주유소    서울 양천구 남부순환로 372 (신월동)  1258.0  Y   S-OIL  양천구   \n",
              "\n",
              "         lat         lng  \n",
              "2  37.609163  127.010074  \n",
              "0  37.577912  127.022774  \n",
              "3  37.607660  127.009858  \n",
              "1  37.614921  127.052752  \n",
              "1  37.614921  127.052752  \n",
              "0  37.577912  127.022774  \n",
              "1  37.614921  127.052752  \n",
              "0  37.577912  127.022774  \n",
              "0  37.577912  127.022774  \n",
              "1  37.614921  127.052752  "
            ]
          },
          "metadata": {
            "tags": []
          },
          "execution_count": 96
        }
      ]
    },
    {
      "cell_type": "markdown",
      "metadata": {
        "id": "yYR6qt_6Luys"
      },
      "source": [
        "어, 그런데 하위 10개도 index가 이상하죠. 아마 병합하는 과정에서 인덱스를 재설정하지 않아서 이런 결과가 나타난 것 같아요. 이러면 이후가 문제가 생기게 돼요. 아래처럼 인덱스 별로 위도와 경도를 뽑아보면, 6번째 값부터 이상하게 추출이 되죠? 그러면 Folium에 넣었을 때 오류가 떠요! "
      ]
    },
    {
      "cell_type": "code",
      "metadata": {
        "id": "1ANgAdsZLuys",
        "outputId": "a7a17fd1-76ea-49d5-fc13-0b53dec3f024"
      },
      "source": [
        "for n in oil_price_top10.index:\n",
        "    print([oil_price_top10['lat'][n], oil_price_top10['lng'][n]])"
      ],
      "execution_count": null,
      "outputs": [
        {
          "output_type": "stream",
          "text": [
            "[37.5583477, 126.9720901]\n",
            "[37.5627192, 127.0070101]\n",
            "[37.51763589999999, 127.0357559]\n",
            "[37.5570008, 126.9744945]\n",
            "[37.5522895, 126.9689354]\n",
            "[8    37.56085\n",
            "8    37.56085\n",
            "Name: lat, dtype: float64, 8    126.993653\n",
            "8    126.993653\n",
            "Name: lng, dtype: float64]\n",
            "[37.5616483, 126.9971419]\n",
            "[37.5649444, 126.9911359]\n",
            "[37.5327311, 127.0074814]\n",
            "[8    37.56085\n",
            "8    37.56085\n",
            "Name: lat, dtype: float64, 8    126.993653\n",
            "8    126.993653\n",
            "Name: lng, dtype: float64]\n"
          ],
          "name": "stdout"
        }
      ]
    },
    {
      "cell_type": "markdown",
      "metadata": {
        "id": "Eu35oYn8Luys"
      },
      "source": [
        "그래서 이 문제를 해결하기 위해 index를 다시 설정해줍니다. "
      ]
    },
    {
      "cell_type": "code",
      "metadata": {
        "id": "Wz5qXow-Luyt",
        "outputId": "fd26b2eb-0e37-4b14-bf91-2f78dc5dc4c0"
      },
      "source": [
        "oil_price_top10.reset_index(inplace=True)\n",
        "oil_price_top10.drop('index',1,inplace=True)\n",
        "oil_price_top10"
      ],
      "execution_count": null,
      "outputs": [
        {
          "output_type": "execute_result",
          "data": {
            "text/html": [
              "<div>\n",
              "<style scoped>\n",
              "    .dataframe tbody tr th:only-of-type {\n",
              "        vertical-align: middle;\n",
              "    }\n",
              "\n",
              "    .dataframe tbody tr th {\n",
              "        vertical-align: top;\n",
              "    }\n",
              "\n",
              "    .dataframe thead th {\n",
              "        text-align: right;\n",
              "    }\n",
              "</style>\n",
              "<table border=\"1\" class=\"dataframe\">\n",
              "  <thead>\n",
              "    <tr style=\"text-align: right;\">\n",
              "      <th></th>\n",
              "      <th>Oil_store</th>\n",
              "      <th>주소</th>\n",
              "      <th>가격</th>\n",
              "      <th>셀프</th>\n",
              "      <th>상표</th>\n",
              "      <th>구</th>\n",
              "      <th>lat</th>\n",
              "      <th>lng</th>\n",
              "    </tr>\n",
              "  </thead>\n",
              "  <tbody>\n",
              "    <tr>\n",
              "      <td>0</td>\n",
              "      <td>서남주유소</td>\n",
              "      <td>서울 중구 통일로 30</td>\n",
              "      <td>2099.0</td>\n",
              "      <td>N</td>\n",
              "      <td>SK에너지</td>\n",
              "      <td>중구</td>\n",
              "      <td>37.558348</td>\n",
              "      <td>126.972090</td>\n",
              "    </tr>\n",
              "    <tr>\n",
              "      <td>1</td>\n",
              "      <td>장충주유소</td>\n",
              "      <td>서울 중구 장충단로 202 (장충동1가)</td>\n",
              "      <td>2088.0</td>\n",
              "      <td>N</td>\n",
              "      <td>SK에너지</td>\n",
              "      <td>중구</td>\n",
              "      <td>37.562719</td>\n",
              "      <td>127.007010</td>\n",
              "    </tr>\n",
              "    <tr>\n",
              "      <td>2</td>\n",
              "      <td>뉴서울(강남)</td>\n",
              "      <td>서울 강남구 언주로 716 (논현동)</td>\n",
              "      <td>2082.0</td>\n",
              "      <td>N</td>\n",
              "      <td>SK에너지</td>\n",
              "      <td>강남구</td>\n",
              "      <td>37.517636</td>\n",
              "      <td>127.035756</td>\n",
              "    </tr>\n",
              "    <tr>\n",
              "      <td>3</td>\n",
              "      <td>에스씨(주) 역전주유소</td>\n",
              "      <td>서울 중구 퇴계로 15</td>\n",
              "      <td>2079.0</td>\n",
              "      <td>N</td>\n",
              "      <td>GS칼텍스</td>\n",
              "      <td>중구</td>\n",
              "      <td>37.557001</td>\n",
              "      <td>126.974495</td>\n",
              "    </tr>\n",
              "    <tr>\n",
              "      <td>4</td>\n",
              "      <td>서계주유소</td>\n",
              "      <td>서울 용산구 청파로 367 (서계동)</td>\n",
              "      <td>2059.0</td>\n",
              "      <td>N</td>\n",
              "      <td>GS칼텍스</td>\n",
              "      <td>용산구</td>\n",
              "      <td>37.552290</td>\n",
              "      <td>126.968935</td>\n",
              "    </tr>\n",
              "    <tr>\n",
              "      <td>5</td>\n",
              "      <td>필동주유소</td>\n",
              "      <td>서울 중구  퇴계로 196 (필동2가)</td>\n",
              "      <td>2059.0</td>\n",
              "      <td>N</td>\n",
              "      <td>GS칼텍스</td>\n",
              "      <td>중구</td>\n",
              "      <td>37.560850</td>\n",
              "      <td>126.993653</td>\n",
              "    </tr>\n",
              "    <tr>\n",
              "      <td>6</td>\n",
              "      <td>SK에너지(주) 퇴계로주유소</td>\n",
              "      <td>서울 중구 퇴계로 228 (필동2가)</td>\n",
              "      <td>2049.0</td>\n",
              "      <td>N</td>\n",
              "      <td>SK에너지</td>\n",
              "      <td>중구</td>\n",
              "      <td>37.561648</td>\n",
              "      <td>126.997142</td>\n",
              "    </tr>\n",
              "    <tr>\n",
              "      <td>7</td>\n",
              "      <td>지에스칼텍스(주)초동주유소</td>\n",
              "      <td>서울 중구 마른내로 31</td>\n",
              "      <td>2035.0</td>\n",
              "      <td>N</td>\n",
              "      <td>GS칼텍스</td>\n",
              "      <td>중구</td>\n",
              "      <td>37.564944</td>\n",
              "      <td>126.991136</td>\n",
              "    </tr>\n",
              "    <tr>\n",
              "      <td>8</td>\n",
              "      <td>수림석유 제3한강주유소</td>\n",
              "      <td>서울 용산구 한남대로 45 (한남동)</td>\n",
              "      <td>2018.0</td>\n",
              "      <td>N</td>\n",
              "      <td>GS칼텍스</td>\n",
              "      <td>용산구</td>\n",
              "      <td>37.532731</td>\n",
              "      <td>127.007481</td>\n",
              "    </tr>\n",
              "    <tr>\n",
              "      <td>9</td>\n",
              "      <td>SK네트웍스(주)재동주유소</td>\n",
              "      <td>서울 종로구 율곡로 58 (경운동)</td>\n",
              "      <td>1999.0</td>\n",
              "      <td>N</td>\n",
              "      <td>SK에너지</td>\n",
              "      <td>종로구</td>\n",
              "      <td>37.560850</td>\n",
              "      <td>126.993653</td>\n",
              "    </tr>\n",
              "  </tbody>\n",
              "</table>\n",
              "</div>"
            ],
            "text/plain": [
              "         Oil_store                      주소      가격 셀프     상표    구        lat  \\\n",
              "0            서남주유소            서울 중구 통일로 30  2099.0  N  SK에너지   중구  37.558348   \n",
              "1            장충주유소  서울 중구 장충단로 202 (장충동1가)  2088.0  N  SK에너지   중구  37.562719   \n",
              "2          뉴서울(강남)    서울 강남구 언주로 716 (논현동)  2082.0  N  SK에너지  강남구  37.517636   \n",
              "3     에스씨(주) 역전주유소            서울 중구 퇴계로 15  2079.0  N  GS칼텍스   중구  37.557001   \n",
              "4            서계주유소    서울 용산구 청파로 367 (서계동)  2059.0  N  GS칼텍스  용산구  37.552290   \n",
              "5            필동주유소   서울 중구  퇴계로 196 (필동2가)  2059.0  N  GS칼텍스   중구  37.560850   \n",
              "6  SK에너지(주) 퇴계로주유소    서울 중구 퇴계로 228 (필동2가)  2049.0  N  SK에너지   중구  37.561648   \n",
              "7   지에스칼텍스(주)초동주유소           서울 중구 마른내로 31  2035.0  N  GS칼텍스   중구  37.564944   \n",
              "8     수림석유 제3한강주유소    서울 용산구 한남대로 45 (한남동)  2018.0  N  GS칼텍스  용산구  37.532731   \n",
              "9   SK네트웍스(주)재동주유소     서울 종로구 율곡로 58 (경운동)  1999.0  N  SK에너지  종로구  37.560850   \n",
              "\n",
              "          lng  \n",
              "0  126.972090  \n",
              "1  127.007010  \n",
              "2  127.035756  \n",
              "3  126.974495  \n",
              "4  126.968935  \n",
              "5  126.993653  \n",
              "6  126.997142  \n",
              "7  126.991136  \n",
              "8  127.007481  \n",
              "9  126.993653  "
            ]
          },
          "metadata": {
            "tags": []
          },
          "execution_count": 100
        }
      ]
    },
    {
      "cell_type": "code",
      "metadata": {
        "id": "wBEt1af_Luyt",
        "outputId": "0a5c6c98-e958-4767-b7e2-99084fe02e8f"
      },
      "source": [
        "for n in oil_price_top10.index:\n",
        "    print([oil_price_top10['lat'][n], oil_price_top10['lng'][n]])"
      ],
      "execution_count": null,
      "outputs": [
        {
          "output_type": "stream",
          "text": [
            "[37.5583477, 126.9720901]\n",
            "[37.5627192, 127.0070101]\n",
            "[37.51763589999999, 127.0357559]\n",
            "[37.5570008, 126.9744945]\n",
            "[37.5522895, 126.9689354]\n",
            "[37.56084999999999, 126.9936529]\n",
            "[37.5616483, 126.9971419]\n",
            "[37.5649444, 126.9911359]\n",
            "[37.5327311, 127.0074814]\n",
            "[37.56084999999999, 126.9936529]\n"
          ],
          "name": "stdout"
        }
      ]
    },
    {
      "cell_type": "markdown",
      "metadata": {
        "id": "sUQ6lSJELuyu"
      },
      "source": [
        "이제 잘 도출이 되네요! 그럼 하위 10개도 제대로 해줍시다."
      ]
    },
    {
      "cell_type": "code",
      "metadata": {
        "id": "OEf6rL5LLuyu",
        "outputId": "8e6d1b15-e3c2-41d5-c115-8ad04243a078"
      },
      "source": [
        "oil_price_bottom10.reset_index(inplace=True)\n",
        "oil_price_bottom10.drop('index',1,inplace=True)\n",
        "oil_price_bottom10"
      ],
      "execution_count": null,
      "outputs": [
        {
          "output_type": "execute_result",
          "data": {
            "text/html": [
              "<div>\n",
              "<style scoped>\n",
              "    .dataframe tbody tr th:only-of-type {\n",
              "        vertical-align: middle;\n",
              "    }\n",
              "\n",
              "    .dataframe tbody tr th {\n",
              "        vertical-align: top;\n",
              "    }\n",
              "\n",
              "    .dataframe thead th {\n",
              "        text-align: right;\n",
              "    }\n",
              "</style>\n",
              "<table border=\"1\" class=\"dataframe\">\n",
              "  <thead>\n",
              "    <tr style=\"text-align: right;\">\n",
              "      <th></th>\n",
              "      <th>Oil_store</th>\n",
              "      <th>주소</th>\n",
              "      <th>가격</th>\n",
              "      <th>셀프</th>\n",
              "      <th>상표</th>\n",
              "      <th>구</th>\n",
              "      <th>lat</th>\n",
              "      <th>lng</th>\n",
              "    </tr>\n",
              "  </thead>\n",
              "  <tbody>\n",
              "    <tr>\n",
              "      <td>0</td>\n",
              "      <td>강산제2주유소</td>\n",
              "      <td>서울 성북구 보국문로 52</td>\n",
              "      <td>1237.0</td>\n",
              "      <td>Y</td>\n",
              "      <td>현대오일뱅크</td>\n",
              "      <td>성북구</td>\n",
              "      <td>37.609163</td>\n",
              "      <td>127.010074</td>\n",
              "    </tr>\n",
              "    <tr>\n",
              "      <td>1</td>\n",
              "      <td>이케이에너지㈜ 강산주유소</td>\n",
              "      <td>서울 성북구 보문로 27 (보문동7가)</td>\n",
              "      <td>1237.0</td>\n",
              "      <td>Y</td>\n",
              "      <td>GS칼텍스</td>\n",
              "      <td>성북구</td>\n",
              "      <td>37.577912</td>\n",
              "      <td>127.022774</td>\n",
              "    </tr>\n",
              "    <tr>\n",
              "      <td>2</td>\n",
              "      <td>(주)삼표에너지 정릉주유소</td>\n",
              "      <td>서울 성북구 보국문로 35 (정릉동)</td>\n",
              "      <td>1237.0</td>\n",
              "      <td>Y</td>\n",
              "      <td>GS칼텍스</td>\n",
              "      <td>성북구</td>\n",
              "      <td>37.607660</td>\n",
              "      <td>127.009858</td>\n",
              "    </tr>\n",
              "    <tr>\n",
              "      <td>3</td>\n",
              "      <td>원천주유소</td>\n",
              "      <td>서울 성북구 돌곶이로 142 (장위동)</td>\n",
              "      <td>1237.0</td>\n",
              "      <td>N</td>\n",
              "      <td>알뜰주유소</td>\n",
              "      <td>성북구</td>\n",
              "      <td>37.614921</td>\n",
              "      <td>127.052752</td>\n",
              "    </tr>\n",
              "    <tr>\n",
              "      <td>4</td>\n",
              "      <td>북서울고속주유소</td>\n",
              "      <td>서울 강북구 삼양로 410 (수유동)</td>\n",
              "      <td>1257.0</td>\n",
              "      <td>Y</td>\n",
              "      <td>S-OIL</td>\n",
              "      <td>강북구</td>\n",
              "      <td>37.614921</td>\n",
              "      <td>127.052752</td>\n",
              "    </tr>\n",
              "    <tr>\n",
              "      <td>5</td>\n",
              "      <td>(주)석산에너지</td>\n",
              "      <td>서울 강북구 삼양로 316 (수유동)</td>\n",
              "      <td>1257.0</td>\n",
              "      <td>Y</td>\n",
              "      <td>현대오일뱅크</td>\n",
              "      <td>강북구</td>\n",
              "      <td>37.577912</td>\n",
              "      <td>127.022774</td>\n",
              "    </tr>\n",
              "    <tr>\n",
              "      <td>6</td>\n",
              "      <td>화곡역주유소</td>\n",
              "      <td>서울특별시 강서구  강서로 154 (화곡동)</td>\n",
              "      <td>1258.0</td>\n",
              "      <td>Y</td>\n",
              "      <td>알뜰주유소</td>\n",
              "      <td>강서구</td>\n",
              "      <td>37.614921</td>\n",
              "      <td>127.052752</td>\n",
              "    </tr>\n",
              "    <tr>\n",
              "      <td>7</td>\n",
              "      <td>뉴신정주유소</td>\n",
              "      <td>서울 강서구 곰달래로 207(화곡동)</td>\n",
              "      <td>1258.0</td>\n",
              "      <td>N</td>\n",
              "      <td>알뜰주유소</td>\n",
              "      <td>강서구</td>\n",
              "      <td>37.577912</td>\n",
              "      <td>127.022774</td>\n",
              "    </tr>\n",
              "    <tr>\n",
              "      <td>8</td>\n",
              "      <td>형산석유(주)원주유소</td>\n",
              "      <td>서울 양천구 남부순환로 408</td>\n",
              "      <td>1258.0</td>\n",
              "      <td>N</td>\n",
              "      <td>현대오일뱅크</td>\n",
              "      <td>양천구</td>\n",
              "      <td>37.577912</td>\n",
              "      <td>127.022774</td>\n",
              "    </tr>\n",
              "    <tr>\n",
              "      <td>9</td>\n",
              "      <td>현대주유소</td>\n",
              "      <td>서울 양천구 남부순환로 372 (신월동)</td>\n",
              "      <td>1258.0</td>\n",
              "      <td>Y</td>\n",
              "      <td>S-OIL</td>\n",
              "      <td>양천구</td>\n",
              "      <td>37.614921</td>\n",
              "      <td>127.052752</td>\n",
              "    </tr>\n",
              "  </tbody>\n",
              "</table>\n",
              "</div>"
            ],
            "text/plain": [
              "        Oil_store                        주소      가격 셀프      상표    구  \\\n",
              "0         강산제2주유소            서울 성북구 보국문로 52  1237.0  Y  현대오일뱅크  성북구   \n",
              "1   이케이에너지㈜ 강산주유소     서울 성북구 보문로 27 (보문동7가)  1237.0  Y   GS칼텍스  성북구   \n",
              "2  (주)삼표에너지 정릉주유소      서울 성북구 보국문로 35 (정릉동)  1237.0  Y   GS칼텍스  성북구   \n",
              "3           원천주유소     서울 성북구 돌곶이로 142 (장위동)  1237.0  N   알뜰주유소  성북구   \n",
              "4        북서울고속주유소      서울 강북구 삼양로 410 (수유동)  1257.0  Y   S-OIL  강북구   \n",
              "5        (주)석산에너지      서울 강북구 삼양로 316 (수유동)  1257.0  Y  현대오일뱅크  강북구   \n",
              "6          화곡역주유소  서울특별시 강서구  강서로 154 (화곡동)  1258.0  Y   알뜰주유소  강서구   \n",
              "7          뉴신정주유소      서울 강서구 곰달래로 207(화곡동)  1258.0  N   알뜰주유소  강서구   \n",
              "8     형산석유(주)원주유소          서울 양천구 남부순환로 408  1258.0  N  현대오일뱅크  양천구   \n",
              "9           현대주유소    서울 양천구 남부순환로 372 (신월동)  1258.0  Y   S-OIL  양천구   \n",
              "\n",
              "         lat         lng  \n",
              "0  37.609163  127.010074  \n",
              "1  37.577912  127.022774  \n",
              "2  37.607660  127.009858  \n",
              "3  37.614921  127.052752  \n",
              "4  37.614921  127.052752  \n",
              "5  37.577912  127.022774  \n",
              "6  37.614921  127.052752  \n",
              "7  37.577912  127.022774  \n",
              "8  37.577912  127.022774  \n",
              "9  37.614921  127.052752  "
            ]
          },
          "metadata": {
            "tags": []
          },
          "execution_count": 102
        }
      ]
    },
    {
      "cell_type": "code",
      "metadata": {
        "id": "IHfnKcd_Luyu",
        "outputId": "09f7591c-0477-4368-f44f-7215d59c3032"
      },
      "source": [
        "for n in oil_price_bottom10.index:\n",
        "    print([oil_price_bottom10['lat'][n], oil_price_bottom10['lng'][n]])"
      ],
      "execution_count": null,
      "outputs": [
        {
          "output_type": "stream",
          "text": [
            "[37.6091627, 127.0100739]\n",
            "[37.5779125, 127.0227737]\n",
            "[37.6076598, 127.0098583]\n",
            "[37.614921, 127.0527521]\n",
            "[37.614921, 127.0527521]\n",
            "[37.5779125, 127.0227737]\n",
            "[37.614921, 127.0527521]\n",
            "[37.5779125, 127.0227737]\n",
            "[37.5779125, 127.0227737]\n",
            "[37.614921, 127.0527521]\n"
          ],
          "name": "stdout"
        }
      ]
    },
    {
      "cell_type": "markdown",
      "metadata": {
        "id": "okNXsMPhLuyv"
      },
      "source": [
        "잘 정리되었습니다! 그럼 이제 지도에다 시각화해봅시다! (아래 코드는 교재 코드에요. 교재에서는 혹시나 몰라서 결측값에 대비해 if로 처리해줬어요) "
      ]
    },
    {
      "cell_type": "code",
      "metadata": {
        "id": "hqizNLjlLuyv",
        "outputId": "86bafeaa-bdf1-4845-e219-3e8a64633991"
      },
      "source": [
        "map = folium.Map(location=[37.5202, 126.975], zoom_start=10.5)\n",
        "\n",
        "for n in oil_price_top10.index:\n",
        "    if pd.notnull(oil_price_top10['lat'][n]):\n",
        "        folium.CircleMarker([oil_price_top10['lat'][n], oil_price_top10['lng'][n]], \n",
        "                                  radius=15, color='#CD3181', \n",
        "                                  fill_color='#CD3181',\n",
        "                                  fill=True).add_to(map)\n",
        "    \n",
        "for n in oil_price_bottom10.index:\n",
        "    if pd.notnull(oil_price_bottom10['lat'][n]): \n",
        "        folium.CircleMarker([oil_price_bottom10['lat'][n], \n",
        "                                  oil_price_bottom10['lng'][n]], \n",
        "                                  radius=15, color='#3186cc', \n",
        "                                  fill_color='#3186cc',\n",
        "                                  fill=True).add_to(map)\n",
        "        \n",
        "map"
      ],
      "execution_count": null,
      "outputs": [
        {
          "output_type": "execute_result",
          "data": {
            "text/html": [
              "<div style=\"width:100%;\"><div style=\"position:relative;width:100%;height:0;padding-bottom:60%;\"><iframe src=\"about:blank\" style=\"position:absolute;width:100%;height:100%;left:0;top:0;border:none !important;\" data-html=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 onload=\"this.contentDocument.open();this.contentDocument.write(atob(this.getAttribute('data-html')));this.contentDocument.close();\" allowfullscreen webkitallowfullscreen mozallowfullscreen></iframe></div></div>"
            ],
            "text/plain": [
              "<folium.folium.Map at 0x111a78390>"
            ]
          },
          "metadata": {
            "tags": []
          },
          "execution_count": 104
        }
      ]
    },
    {
      "cell_type": "markdown",
      "metadata": {
        "id": "gafOG2a8Luyx"
      },
      "source": [
        "대체로 '중구','용산구'에 비싼 주유소가 몰려있고, '강북구','성북구'에 싼 주유소가 몰려있다는 것을 확인할 수 있네요! \n",
        "\n",
        "### 공부를 끝내며 \n",
        "\n",
        "이번 장은 Selenium을 활용하는데 많은 어려움을 겪으셨을 것 같습니다. 웹 드라이버 설치부터 사용까지 쉽지 않으셨을 것이라 생각하는데요! 그래도 여기까지 온 것이면 해결을 다 하셨다는 얘기겠죠? 이렇게 팩트 체크를 해보니 어떠셨나요? 이번 주차도 무척 재미있는 프로젝트였던 것 같습니다. 기존에 익숙했던 pandas, folium, google maps, sns, matplotlib 등은 계속해서 사용할테니 사용법에 익숙해지시면 좋겠네요! 그럼 다음 프로젝트에서 만나요!❤️"
      ]
    }
  ]
}