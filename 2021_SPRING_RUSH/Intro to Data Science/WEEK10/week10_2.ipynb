{
  "nbformat": 4,
  "nbformat_minor": 0,
  "metadata": {
    "colab": {
      "name": "[1학년]Intro to Data Science_week10_2.ipynb",
      "provenance": [],
      "collapsed_sections": []
    },
    "kernelspec": {
      "display_name": "Python 3",
      "language": "python",
      "name": "python3"
    },
    "language_info": {
      "codemirror_mode": {
        "name": "ipython",
        "version": 3
      },
      "file_extension": ".py",
      "mimetype": "text/x-python",
      "name": "python",
      "nbconvert_exporter": "python",
      "pygments_lexer": "ipython3",
      "version": "3.7.6"
    },
    "widgets": {
      "application/vnd.jupyter.widget-state+json": {
        "8a3227d47ac44156b531dfe749d8465c": {
          "model_module": "@jupyter-widgets/controls",
          "model_name": "HBoxModel",
          "state": {
            "_view_name": "HBoxView",
            "_dom_classes": [],
            "_model_name": "HBoxModel",
            "_view_module": "@jupyter-widgets/controls",
            "_model_module_version": "1.5.0",
            "_view_count": null,
            "_view_module_version": "1.5.0",
            "box_style": "",
            "layout": "IPY_MODEL_b955fbf9f7314fbc82c63e395060e8b0",
            "_model_module": "@jupyter-widgets/controls",
            "children": [
              "IPY_MODEL_e18031be247946af934a9100ad08169a",
              "IPY_MODEL_265ae18e29bf4237b5bea999bc272a6e"
            ]
          }
        },
        "b955fbf9f7314fbc82c63e395060e8b0": {
          "model_module": "@jupyter-widgets/base",
          "model_name": "LayoutModel",
          "state": {
            "_view_name": "LayoutView",
            "grid_template_rows": null,
            "right": null,
            "justify_content": null,
            "_view_module": "@jupyter-widgets/base",
            "overflow": null,
            "_model_module_version": "1.2.0",
            "_view_count": null,
            "flex_flow": null,
            "width": null,
            "min_width": null,
            "border": null,
            "align_items": null,
            "bottom": null,
            "_model_module": "@jupyter-widgets/base",
            "top": null,
            "grid_column": null,
            "overflow_y": null,
            "overflow_x": null,
            "grid_auto_flow": null,
            "grid_area": null,
            "grid_template_columns": null,
            "flex": null,
            "_model_name": "LayoutModel",
            "justify_items": null,
            "grid_row": null,
            "max_height": null,
            "align_content": null,
            "visibility": null,
            "align_self": null,
            "height": null,
            "min_height": null,
            "padding": null,
            "grid_auto_rows": null,
            "grid_gap": null,
            "max_width": null,
            "order": null,
            "_view_module_version": "1.2.0",
            "grid_template_areas": null,
            "object_position": null,
            "object_fit": null,
            "grid_auto_columns": null,
            "margin": null,
            "display": null,
            "left": null
          }
        },
        "e18031be247946af934a9100ad08169a": {
          "model_module": "@jupyter-widgets/controls",
          "model_name": "FloatProgressModel",
          "state": {
            "_view_name": "ProgressView",
            "style": "IPY_MODEL_55980e58a9e6461f8c223dfa5b839c10",
            "_dom_classes": [],
            "description": "100%",
            "_model_name": "FloatProgressModel",
            "bar_style": "success",
            "max": 181,
            "_view_module": "@jupyter-widgets/controls",
            "_model_module_version": "1.5.0",
            "value": 181,
            "_view_count": null,
            "_view_module_version": "1.5.0",
            "orientation": "horizontal",
            "min": 0,
            "description_tooltip": null,
            "_model_module": "@jupyter-widgets/controls",
            "layout": "IPY_MODEL_ca4184e7973f49d2a5859a279d637c8f"
          }
        },
        "265ae18e29bf4237b5bea999bc272a6e": {
          "model_module": "@jupyter-widgets/controls",
          "model_name": "HTMLModel",
          "state": {
            "_view_name": "HTMLView",
            "style": "IPY_MODEL_8049ba5001d346fab20b141d98b33217",
            "_dom_classes": [],
            "description": "",
            "_model_name": "HTMLModel",
            "placeholder": "​",
            "_view_module": "@jupyter-widgets/controls",
            "_model_module_version": "1.5.0",
            "value": " 181/181 [16:52&lt;00:00,  5.60s/it]",
            "_view_count": null,
            "_view_module_version": "1.5.0",
            "description_tooltip": null,
            "_model_module": "@jupyter-widgets/controls",
            "layout": "IPY_MODEL_4229f669fcda4ba8ab1f527ba52de75e"
          }
        },
        "55980e58a9e6461f8c223dfa5b839c10": {
          "model_module": "@jupyter-widgets/controls",
          "model_name": "ProgressStyleModel",
          "state": {
            "_view_name": "StyleView",
            "_model_name": "ProgressStyleModel",
            "description_width": "initial",
            "_view_module": "@jupyter-widgets/base",
            "_model_module_version": "1.5.0",
            "_view_count": null,
            "_view_module_version": "1.2.0",
            "bar_color": null,
            "_model_module": "@jupyter-widgets/controls"
          }
        },
        "ca4184e7973f49d2a5859a279d637c8f": {
          "model_module": "@jupyter-widgets/base",
          "model_name": "LayoutModel",
          "state": {
            "_view_name": "LayoutView",
            "grid_template_rows": null,
            "right": null,
            "justify_content": null,
            "_view_module": "@jupyter-widgets/base",
            "overflow": null,
            "_model_module_version": "1.2.0",
            "_view_count": null,
            "flex_flow": null,
            "width": null,
            "min_width": null,
            "border": null,
            "align_items": null,
            "bottom": null,
            "_model_module": "@jupyter-widgets/base",
            "top": null,
            "grid_column": null,
            "overflow_y": null,
            "overflow_x": null,
            "grid_auto_flow": null,
            "grid_area": null,
            "grid_template_columns": null,
            "flex": null,
            "_model_name": "LayoutModel",
            "justify_items": null,
            "grid_row": null,
            "max_height": null,
            "align_content": null,
            "visibility": null,
            "align_self": null,
            "height": null,
            "min_height": null,
            "padding": null,
            "grid_auto_rows": null,
            "grid_gap": null,
            "max_width": null,
            "order": null,
            "_view_module_version": "1.2.0",
            "grid_template_areas": null,
            "object_position": null,
            "object_fit": null,
            "grid_auto_columns": null,
            "margin": null,
            "display": null,
            "left": null
          }
        },
        "8049ba5001d346fab20b141d98b33217": {
          "model_module": "@jupyter-widgets/controls",
          "model_name": "DescriptionStyleModel",
          "state": {
            "_view_name": "StyleView",
            "_model_name": "DescriptionStyleModel",
            "description_width": "",
            "_view_module": "@jupyter-widgets/base",
            "_model_module_version": "1.5.0",
            "_view_count": null,
            "_view_module_version": "1.2.0",
            "_model_module": "@jupyter-widgets/controls"
          }
        },
        "4229f669fcda4ba8ab1f527ba52de75e": {
          "model_module": "@jupyter-widgets/base",
          "model_name": "LayoutModel",
          "state": {
            "_view_name": "LayoutView",
            "grid_template_rows": null,
            "right": null,
            "justify_content": null,
            "_view_module": "@jupyter-widgets/base",
            "overflow": null,
            "_model_module_version": "1.2.0",
            "_view_count": null,
            "flex_flow": null,
            "width": null,
            "min_width": null,
            "border": null,
            "align_items": null,
            "bottom": null,
            "_model_module": "@jupyter-widgets/base",
            "top": null,
            "grid_column": null,
            "overflow_y": null,
            "overflow_x": null,
            "grid_auto_flow": null,
            "grid_area": null,
            "grid_template_columns": null,
            "flex": null,
            "_model_name": "LayoutModel",
            "justify_items": null,
            "grid_row": null,
            "max_height": null,
            "align_content": null,
            "visibility": null,
            "align_self": null,
            "height": null,
            "min_height": null,
            "padding": null,
            "grid_auto_rows": null,
            "grid_gap": null,
            "max_width": null,
            "order": null,
            "_view_module_version": "1.2.0",
            "grid_template_areas": null,
            "object_position": null,
            "object_fit": null,
            "grid_auto_columns": null,
            "margin": null,
            "display": null,
            "left": null
          }
        }
      }
    }
  },
  "cells": [
    {
      "cell_type": "markdown",
      "metadata": {
        "id": "tlBlMJ2P3cf5"
      },
      "source": [
        "# [프로젝트] 청와대 청원으로 하는 한글 자연어 처리\n",
        "\n",
        "- 참고자료: 파이썬으로 데이터 주무르기(민형기) \n",
        "\n",
        "교재의 프로젝트 대신 청와대 청원을 분석해보겠습니다. 데이터 범위는 '답변된 청원'으로만 한정할 것입니다.\n",
        "\n",
        "먼저 [청와대 청원 홈페이지](https://www1.president.go.kr/petitions/answer)에서 모든 청원들을 가져와 데이터 프레임에 담고, 여러 카테고리 중 청원수가 많은 상위 1개의 카테고리를 선택해 청원 내용을 wordcloud로 시각화해보겠습니다. 또한 gensim을 활용해 Word2Vec으로 유사한 단어들도 함께 파악해보겠습니다! "
      ]
    },
    {
      "cell_type": "markdown",
      "metadata": {
        "id": "z9AxnRYv7kID"
      },
      "source": [
        "## 답변된 청원 웹크롤링 하기 \n",
        "\n",
        "자, 코드를 짜기 전에 우선 어떤 식으로 프로젝트를 진행할지 생각해봅시다. 어떻게 하면 '답변된 청원'을 모두 가져올 수 있을까요? 여러 페이지에 걸쳐 있는 청원들을 어떻게 웹크롤링으로 가져올 수 있을까요? 이러한 사고 없이 코드만 먼저 보시게 되면 실질적인 문제 해결 역량은 성장하지 못할 수도...🌝 그러니 한번 어떻게 크롤링해올 것인가 고민해보시고, 이제까지 배운 크롤링들을 모두 활용하여 크롤링해봐야지! 라는 생각으로 최대한 고민하고 해보고 잘 안풀릴 때 코드를 보시면 더욱 더욱 큰 도움이 될 수 있을 것 같습니다.  참고로 아래 크롤링 코드는 비효율적이고 지저분할 수 있지만, 어쨌든 잘 가져와서 데이터 프레임에 담겨집니다.\n",
        "\n",
        "**힌트:**\n",
        "- urllib과 BeautifulSoup을 활용해 웹크롤링 \n",
        "- 여러 페이지의 웹크롤링은 지난 스터디 '샌드위치 맛집 크롤링'을 활용\n",
        "\n",
        "빈공간에 한번 생각해보시고 아래 코드를 보시면 더욱 도움이 됩니다! 따로 부연설명은 많이 적지 않았구요, 혼자 먼저 해보시고 잘 안되는 부분에서 고민을 하고 이 코드를 보시면 해결이 될 수 있을 것 같네요~🙃"
      ]
    },
    {
      "cell_type": "code",
      "metadata": {
        "colab": {
          "base_uri": "https://localhost:8080/"
        },
        "id": "rG3W0wo42n79",
        "outputId": "017ff36a-61a4-42c1-e73e-e1ac8bc4535f"
      },
      "source": [
        "# 한글 폰트 설정\n",
        "# 까먹지 말고 런타임 다시 시작 해주시고 셀 실행 해주세요\n",
        "\n",
        "import matplotlib as mpl\n",
        "import matplotlib.pyplot as plt\n",
        " \n",
        "%config InlineBackend.figure_format = 'retina'\n",
        " \n",
        "!apt -qq -y install fonts-nanum\n",
        " \n",
        "import matplotlib.font_manager as fm\n",
        "fontpath = '/usr/share/fonts/truetype/nanum/NanumBarunGothic.ttf'\n",
        "font = fm.FontProperties(fname=fontpath, size=9)\n",
        "plt.rc('font', family='NanumBarunGothic') \n",
        "mpl.font_manager._rebuild()"
      ],
      "execution_count": 2,
      "outputs": [
        {
          "output_type": "stream",
          "text": [
            "fonts-nanum is already the newest version (20170925-1).\n",
            "0 upgraded, 0 newly installed, 0 to remove and 10 not upgraded.\n"
          ],
          "name": "stdout"
        }
      ]
    },
    {
      "cell_type": "code",
      "metadata": {
        "colab": {
          "base_uri": "https://localhost:8080/"
        },
        "id": "sH_qhwqp2n7_",
        "outputId": "bc8a8bfb-d9b8-4863-dbfa-79337ca8422d"
      },
      "source": [
        "# 자연어 처리 모듈 설치\n",
        "# 코드 실행 결과가 매우~~~ 깁니다.\n",
        "!apt-get update \n",
        "!apt-get install g++ openjdk-8-jdk python-dev python3-dev \n",
        "!pip3 install JPype1-py3 \n",
        "!pip3 install konlpy \n",
        "!JAVA_HOME=\"C:\\Program Files\\Java\\jdk-13.0.2\""
      ],
      "execution_count": 3,
      "outputs": [
        {
          "output_type": "stream",
          "text": [
            "\r0% [Working]\r            \rIgn:1 https://developer.download.nvidia.com/compute/cuda/repos/ubuntu1804/x86_64  InRelease\n",
            "\r0% [Connecting to archive.ubuntu.com] [Connecting to security.ubuntu.com (91.18\r                                                                               \rGet:2 https://cloud.r-project.org/bin/linux/ubuntu bionic-cran40/ InRelease [3,626 B]\n",
            "\r0% [Connecting to archive.ubuntu.com] [Connecting to security.ubuntu.com (91.18\r0% [Connecting to archive.ubuntu.com] [Connecting to security.ubuntu.com (91.18\r                                                                               \rIgn:3 https://developer.download.nvidia.com/compute/machine-learning/repos/ubuntu1804/x86_64  InRelease\n",
            "\r0% [Connecting to archive.ubuntu.com] [Connecting to security.ubuntu.com (91.18\r0% [2 InRelease gpgv 3,626 B] [Connecting to archive.ubuntu.com] [Connecting to\r                                                                               \rHit:4 https://developer.download.nvidia.com/compute/cuda/repos/ubuntu1804/x86_64  Release\n",
            "Hit:5 https://developer.download.nvidia.com/compute/machine-learning/repos/ubuntu1804/x86_64  Release\n",
            "Get:6 http://security.ubuntu.com/ubuntu bionic-security InRelease [88.7 kB]\n",
            "Get:7 http://ppa.launchpad.net/c2d4u.team/c2d4u4.0+/ubuntu bionic InRelease [15.9 kB]\n",
            "Hit:8 http://archive.ubuntu.com/ubuntu bionic InRelease\n",
            "Get:9 http://archive.ubuntu.com/ubuntu bionic-updates InRelease [88.7 kB]\n",
            "Hit:11 http://ppa.launchpad.net/cran/libgit2/ubuntu bionic InRelease\n",
            "Hit:13 http://ppa.launchpad.net/graphics-drivers/ppa/ubuntu bionic InRelease\n",
            "Get:14 http://archive.ubuntu.com/ubuntu bionic-backports InRelease [74.6 kB]\n",
            "Get:15 http://ppa.launchpad.net/c2d4u.team/c2d4u4.0+/ubuntu bionic/main Sources [1,732 kB]\n",
            "Get:16 http://security.ubuntu.com/ubuntu bionic-security/universe amd64 Packages [1,391 kB]\n",
            "Get:17 http://archive.ubuntu.com/ubuntu bionic-updates/main amd64 Packages [2,360 kB]\n",
            "Get:18 http://security.ubuntu.com/ubuntu bionic-security/main amd64 Packages [1,929 kB]\n",
            "Get:19 http://ppa.launchpad.net/c2d4u.team/c2d4u4.0+/ubuntu bionic/main amd64 Packages [886 kB]\n",
            "Get:20 http://archive.ubuntu.com/ubuntu bionic-updates/universe amd64 Packages [2,162 kB]\n",
            "Fetched 10.7 MB in 3s (3,099 kB/s)\n",
            "Reading package lists... Done\n",
            "Reading package lists... Done\n",
            "Building dependency tree       \n",
            "Reading state information... Done\n",
            "python-dev is already the newest version (2.7.15~rc1-1).\n",
            "g++ is already the newest version (4:7.4.0-1ubuntu2.3).\n",
            "g++ set to manually installed.\n",
            "python3-dev is already the newest version (3.6.7-1~18.04).\n",
            "The following additional packages will be installed:\n",
            "  fonts-dejavu-core fonts-dejavu-extra libatk-wrapper-java\n",
            "  libatk-wrapper-java-jni libgail-common libgail18 libgtk2.0-0 libgtk2.0-bin\n",
            "  libgtk2.0-common libxxf86dga1 openjdk-8-jdk-headless openjdk-8-jre\n",
            "  openjdk-8-jre-headless x11-utils\n",
            "Suggested packages:\n",
            "  gvfs openjdk-8-demo openjdk-8-source visualvm icedtea-8-plugin libnss-mdns\n",
            "  fonts-ipafont-gothic fonts-ipafont-mincho fonts-wqy-microhei\n",
            "  fonts-wqy-zenhei fonts-indic mesa-utils\n",
            "The following NEW packages will be installed:\n",
            "  fonts-dejavu-core fonts-dejavu-extra libatk-wrapper-java\n",
            "  libatk-wrapper-java-jni libgail-common libgail18 libgtk2.0-0 libgtk2.0-bin\n",
            "  libgtk2.0-common libxxf86dga1 openjdk-8-jdk openjdk-8-jdk-headless\n",
            "  openjdk-8-jre openjdk-8-jre-headless x11-utils\n",
            "0 upgraded, 15 newly installed, 0 to remove and 19 not upgraded.\n",
            "Need to get 43.5 MB of archives.\n",
            "After this operation, 163 MB of additional disk space will be used.\n",
            "Get:1 http://archive.ubuntu.com/ubuntu bionic/main amd64 libxxf86dga1 amd64 2:1.1.4-1 [13.7 kB]\n",
            "Get:2 http://archive.ubuntu.com/ubuntu bionic/main amd64 fonts-dejavu-core all 2.37-1 [1,041 kB]\n",
            "Get:3 http://archive.ubuntu.com/ubuntu bionic/main amd64 fonts-dejavu-extra all 2.37-1 [1,953 kB]\n",
            "Get:4 http://archive.ubuntu.com/ubuntu bionic/main amd64 x11-utils amd64 7.7+3build1 [196 kB]\n",
            "Get:5 http://archive.ubuntu.com/ubuntu bionic/main amd64 libatk-wrapper-java all 0.33.3-20ubuntu0.1 [34.7 kB]\n",
            "Get:6 http://archive.ubuntu.com/ubuntu bionic/main amd64 libatk-wrapper-java-jni amd64 0.33.3-20ubuntu0.1 [28.3 kB]\n",
            "Get:7 http://archive.ubuntu.com/ubuntu bionic/main amd64 libgtk2.0-common all 2.24.32-1ubuntu1 [125 kB]\n",
            "Get:8 http://archive.ubuntu.com/ubuntu bionic/main amd64 libgtk2.0-0 amd64 2.24.32-1ubuntu1 [1,769 kB]\n",
            "Get:9 http://archive.ubuntu.com/ubuntu bionic/main amd64 libgail18 amd64 2.24.32-1ubuntu1 [14.2 kB]\n",
            "Get:10 http://archive.ubuntu.com/ubuntu bionic/main amd64 libgail-common amd64 2.24.32-1ubuntu1 [112 kB]\n",
            "Get:11 http://archive.ubuntu.com/ubuntu bionic/main amd64 libgtk2.0-bin amd64 2.24.32-1ubuntu1 [7,536 B]\n",
            "Get:12 http://archive.ubuntu.com/ubuntu bionic-updates/universe amd64 openjdk-8-jre-headless amd64 8u282-b08-0ubuntu1~18.04 [28.2 MB]\n",
            "Get:13 http://archive.ubuntu.com/ubuntu bionic-updates/universe amd64 openjdk-8-jre amd64 8u282-b08-0ubuntu1~18.04 [69.7 kB]\n",
            "Get:14 http://archive.ubuntu.com/ubuntu bionic-updates/universe amd64 openjdk-8-jdk-headless amd64 8u282-b08-0ubuntu1~18.04 [8,267 kB]\n",
            "Get:15 http://archive.ubuntu.com/ubuntu bionic-updates/universe amd64 openjdk-8-jdk amd64 8u282-b08-0ubuntu1~18.04 [1,630 kB]\n",
            "Fetched 43.5 MB in 3s (12.8 MB/s)\n",
            "Selecting previously unselected package libxxf86dga1:amd64.\n",
            "(Reading database ... 146460 files and directories currently installed.)\n",
            "Preparing to unpack .../00-libxxf86dga1_2%3a1.1.4-1_amd64.deb ...\n",
            "Unpacking libxxf86dga1:amd64 (2:1.1.4-1) ...\n",
            "Selecting previously unselected package fonts-dejavu-core.\n",
            "Preparing to unpack .../01-fonts-dejavu-core_2.37-1_all.deb ...\n",
            "Unpacking fonts-dejavu-core (2.37-1) ...\n",
            "Selecting previously unselected package fonts-dejavu-extra.\n",
            "Preparing to unpack .../02-fonts-dejavu-extra_2.37-1_all.deb ...\n",
            "Unpacking fonts-dejavu-extra (2.37-1) ...\n",
            "Selecting previously unselected package x11-utils.\n",
            "Preparing to unpack .../03-x11-utils_7.7+3build1_amd64.deb ...\n",
            "Unpacking x11-utils (7.7+3build1) ...\n",
            "Selecting previously unselected package libatk-wrapper-java.\n",
            "Preparing to unpack .../04-libatk-wrapper-java_0.33.3-20ubuntu0.1_all.deb ...\n",
            "Unpacking libatk-wrapper-java (0.33.3-20ubuntu0.1) ...\n",
            "Selecting previously unselected package libatk-wrapper-java-jni:amd64.\n",
            "Preparing to unpack .../05-libatk-wrapper-java-jni_0.33.3-20ubuntu0.1_amd64.deb ...\n",
            "Unpacking libatk-wrapper-java-jni:amd64 (0.33.3-20ubuntu0.1) ...\n",
            "Selecting previously unselected package libgtk2.0-common.\n",
            "Preparing to unpack .../06-libgtk2.0-common_2.24.32-1ubuntu1_all.deb ...\n",
            "Unpacking libgtk2.0-common (2.24.32-1ubuntu1) ...\n",
            "Selecting previously unselected package libgtk2.0-0:amd64.\n",
            "Preparing to unpack .../07-libgtk2.0-0_2.24.32-1ubuntu1_amd64.deb ...\n",
            "Unpacking libgtk2.0-0:amd64 (2.24.32-1ubuntu1) ...\n",
            "Selecting previously unselected package libgail18:amd64.\n",
            "Preparing to unpack .../08-libgail18_2.24.32-1ubuntu1_amd64.deb ...\n",
            "Unpacking libgail18:amd64 (2.24.32-1ubuntu1) ...\n",
            "Selecting previously unselected package libgail-common:amd64.\n",
            "Preparing to unpack .../09-libgail-common_2.24.32-1ubuntu1_amd64.deb ...\n",
            "Unpacking libgail-common:amd64 (2.24.32-1ubuntu1) ...\n",
            "Selecting previously unselected package libgtk2.0-bin.\n",
            "Preparing to unpack .../10-libgtk2.0-bin_2.24.32-1ubuntu1_amd64.deb ...\n",
            "Unpacking libgtk2.0-bin (2.24.32-1ubuntu1) ...\n",
            "Selecting previously unselected package openjdk-8-jre-headless:amd64.\n",
            "Preparing to unpack .../11-openjdk-8-jre-headless_8u282-b08-0ubuntu1~18.04_amd64.deb ...\n",
            "Unpacking openjdk-8-jre-headless:amd64 (8u282-b08-0ubuntu1~18.04) ...\n",
            "Selecting previously unselected package openjdk-8-jre:amd64.\n",
            "Preparing to unpack .../12-openjdk-8-jre_8u282-b08-0ubuntu1~18.04_amd64.deb ...\n",
            "Unpacking openjdk-8-jre:amd64 (8u282-b08-0ubuntu1~18.04) ...\n",
            "Selecting previously unselected package openjdk-8-jdk-headless:amd64.\n",
            "Preparing to unpack .../13-openjdk-8-jdk-headless_8u282-b08-0ubuntu1~18.04_amd64.deb ...\n",
            "Unpacking openjdk-8-jdk-headless:amd64 (8u282-b08-0ubuntu1~18.04) ...\n",
            "Selecting previously unselected package openjdk-8-jdk:amd64.\n",
            "Preparing to unpack .../14-openjdk-8-jdk_8u282-b08-0ubuntu1~18.04_amd64.deb ...\n",
            "Unpacking openjdk-8-jdk:amd64 (8u282-b08-0ubuntu1~18.04) ...\n",
            "Setting up libgtk2.0-common (2.24.32-1ubuntu1) ...\n",
            "Setting up fonts-dejavu-core (2.37-1) ...\n",
            "Setting up libxxf86dga1:amd64 (2:1.1.4-1) ...\n",
            "Setting up fonts-dejavu-extra (2.37-1) ...\n",
            "Setting up openjdk-8-jre-headless:amd64 (8u282-b08-0ubuntu1~18.04) ...\n",
            "update-alternatives: using /usr/lib/jvm/java-8-openjdk-amd64/jre/bin/orbd to provide /usr/bin/orbd (orbd) in auto mode\n",
            "update-alternatives: using /usr/lib/jvm/java-8-openjdk-amd64/jre/bin/servertool to provide /usr/bin/servertool (servertool) in auto mode\n",
            "update-alternatives: using /usr/lib/jvm/java-8-openjdk-amd64/jre/bin/tnameserv to provide /usr/bin/tnameserv (tnameserv) in auto mode\n",
            "Setting up libgtk2.0-0:amd64 (2.24.32-1ubuntu1) ...\n",
            "Setting up libgail18:amd64 (2.24.32-1ubuntu1) ...\n",
            "Setting up openjdk-8-jdk-headless:amd64 (8u282-b08-0ubuntu1~18.04) ...\n",
            "update-alternatives: using /usr/lib/jvm/java-8-openjdk-amd64/bin/idlj to provide /usr/bin/idlj (idlj) in auto mode\n",
            "update-alternatives: using /usr/lib/jvm/java-8-openjdk-amd64/bin/wsimport to provide /usr/bin/wsimport (wsimport) in auto mode\n",
            "update-alternatives: using /usr/lib/jvm/java-8-openjdk-amd64/bin/jsadebugd to provide /usr/bin/jsadebugd (jsadebugd) in auto mode\n",
            "update-alternatives: using /usr/lib/jvm/java-8-openjdk-amd64/bin/native2ascii to provide /usr/bin/native2ascii (native2ascii) in auto mode\n",
            "update-alternatives: using /usr/lib/jvm/java-8-openjdk-amd64/bin/javah to provide /usr/bin/javah (javah) in auto mode\n",
            "update-alternatives: using /usr/lib/jvm/java-8-openjdk-amd64/bin/hsdb to provide /usr/bin/hsdb (hsdb) in auto mode\n",
            "update-alternatives: using /usr/lib/jvm/java-8-openjdk-amd64/bin/clhsdb to provide /usr/bin/clhsdb (clhsdb) in auto mode\n",
            "update-alternatives: using /usr/lib/jvm/java-8-openjdk-amd64/bin/xjc to provide /usr/bin/xjc (xjc) in auto mode\n",
            "update-alternatives: using /usr/lib/jvm/java-8-openjdk-amd64/bin/schemagen to provide /usr/bin/schemagen (schemagen) in auto mode\n",
            "update-alternatives: using /usr/lib/jvm/java-8-openjdk-amd64/bin/extcheck to provide /usr/bin/extcheck (extcheck) in auto mode\n",
            "update-alternatives: using /usr/lib/jvm/java-8-openjdk-amd64/bin/jhat to provide /usr/bin/jhat (jhat) in auto mode\n",
            "update-alternatives: using /usr/lib/jvm/java-8-openjdk-amd64/bin/wsgen to provide /usr/bin/wsgen (wsgen) in auto mode\n",
            "Setting up x11-utils (7.7+3build1) ...\n",
            "Setting up libgail-common:amd64 (2.24.32-1ubuntu1) ...\n",
            "Setting up libatk-wrapper-java (0.33.3-20ubuntu0.1) ...\n",
            "Setting up libgtk2.0-bin (2.24.32-1ubuntu1) ...\n",
            "Setting up libatk-wrapper-java-jni:amd64 (0.33.3-20ubuntu0.1) ...\n",
            "Setting up openjdk-8-jre:amd64 (8u282-b08-0ubuntu1~18.04) ...\n",
            "update-alternatives: using /usr/lib/jvm/java-8-openjdk-amd64/jre/bin/policytool to provide /usr/bin/policytool (policytool) in auto mode\n",
            "Setting up openjdk-8-jdk:amd64 (8u282-b08-0ubuntu1~18.04) ...\n",
            "update-alternatives: using /usr/lib/jvm/java-8-openjdk-amd64/bin/appletviewer to provide /usr/bin/appletviewer (appletviewer) in auto mode\n",
            "update-alternatives: using /usr/lib/jvm/java-8-openjdk-amd64/bin/jconsole to provide /usr/bin/jconsole (jconsole) in auto mode\n",
            "Processing triggers for man-db (2.8.3-2ubuntu0.1) ...\n",
            "Processing triggers for hicolor-icon-theme (0.17-2) ...\n",
            "Processing triggers for fontconfig (2.12.6-0ubuntu2) ...\n",
            "Processing triggers for mime-support (3.60ubuntu1) ...\n",
            "Processing triggers for libc-bin (2.27-3ubuntu1.4) ...\n",
            "/sbin/ldconfig.real: /usr/local/lib/python3.6/dist-packages/ideep4py/lib/libmkldnn.so.0 is not a symbolic link\n",
            "\n",
            "Collecting JPype1-py3\n",
            "\u001b[?25l  Downloading https://files.pythonhosted.org/packages/9b/81/63f5e4202c598f362ee4684b41890f993d6e58309c5d90703f570ab85f62/JPype1-py3-0.5.5.4.tar.gz (88kB)\n",
            "\u001b[K     |████████████████████████████████| 92kB 5.4MB/s \n",
            "\u001b[?25hBuilding wheels for collected packages: JPype1-py3\n",
            "  Building wheel for JPype1-py3 (setup.py) ... \u001b[?25l\u001b[?25hdone\n",
            "  Created wheel for JPype1-py3: filename=JPype1_py3-0.5.5.4-cp36-cp36m-linux_x86_64.whl size=2671441 sha256=b77a61f104f90dab1d5979b1b261ea992815595b36b2e1588881b1888831c17a\n",
            "  Stored in directory: /root/.cache/pip/wheels/52/37/1f/1015d908d12a0e9b239543d031fda0cded9823aa1306939541\n",
            "Successfully built JPype1-py3\n",
            "Installing collected packages: JPype1-py3\n",
            "Successfully installed JPype1-py3-0.5.5.4\n",
            "Collecting konlpy\n",
            "\u001b[?25l  Downloading https://files.pythonhosted.org/packages/85/0e/f385566fec837c0b83f216b2da65db9997b35dd675e107752005b7d392b1/konlpy-0.5.2-py2.py3-none-any.whl (19.4MB)\n",
            "\u001b[K     |████████████████████████████████| 19.4MB 61.4MB/s \n",
            "\u001b[?25hCollecting beautifulsoup4==4.6.0\n",
            "\u001b[?25l  Downloading https://files.pythonhosted.org/packages/9e/d4/10f46e5cfac773e22707237bfcd51bbffeaf0a576b0a847ec7ab15bd7ace/beautifulsoup4-4.6.0-py3-none-any.whl (86kB)\n",
            "\u001b[K     |████████████████████████████████| 92kB 9.3MB/s \n",
            "\u001b[?25hCollecting tweepy>=3.7.0\n",
            "  Downloading https://files.pythonhosted.org/packages/67/c3/6bed87f3b1e5ed2f34bd58bf7978e308c86e255193916be76e5a5ce5dfca/tweepy-3.10.0-py2.py3-none-any.whl\n",
            "Collecting colorama\n",
            "  Downloading https://files.pythonhosted.org/packages/44/98/5b86278fbbf250d239ae0ecb724f8572af1c91f4a11edf4d36a206189440/colorama-0.4.4-py2.py3-none-any.whl\n",
            "Collecting JPype1>=0.7.0\n",
            "\u001b[?25l  Downloading https://files.pythonhosted.org/packages/de/af/93f92b38ec1ff3091cd38982ed19cea2800fefb609b5801c41fc43c0781e/JPype1-1.2.1-cp36-cp36m-manylinux2010_x86_64.whl (457kB)\n",
            "\u001b[K     |████████████████████████████████| 460kB 39.9MB/s \n",
            "\u001b[?25hRequirement already satisfied: numpy>=1.6 in /usr/local/lib/python3.6/dist-packages (from konlpy) (1.19.5)\n",
            "Requirement already satisfied: lxml>=4.1.0 in /usr/local/lib/python3.6/dist-packages (from konlpy) (4.2.6)\n",
            "Requirement already satisfied: requests[socks]>=2.11.1 in /usr/local/lib/python3.6/dist-packages (from tweepy>=3.7.0->konlpy) (2.23.0)\n",
            "Requirement already satisfied: requests-oauthlib>=0.7.0 in /usr/local/lib/python3.6/dist-packages (from tweepy>=3.7.0->konlpy) (1.3.0)\n",
            "Requirement already satisfied: six>=1.10.0 in /usr/local/lib/python3.6/dist-packages (from tweepy>=3.7.0->konlpy) (1.15.0)\n",
            "Requirement already satisfied: typing-extensions; python_version < \"3.8\" in /usr/local/lib/python3.6/dist-packages (from JPype1>=0.7.0->konlpy) (3.7.4.3)\n",
            "Requirement already satisfied: chardet<4,>=3.0.2 in /usr/local/lib/python3.6/dist-packages (from requests[socks]>=2.11.1->tweepy>=3.7.0->konlpy) (3.0.4)\n",
            "Requirement already satisfied: certifi>=2017.4.17 in /usr/local/lib/python3.6/dist-packages (from requests[socks]>=2.11.1->tweepy>=3.7.0->konlpy) (2020.12.5)\n",
            "Requirement already satisfied: urllib3!=1.25.0,!=1.25.1,<1.26,>=1.21.1 in /usr/local/lib/python3.6/dist-packages (from requests[socks]>=2.11.1->tweepy>=3.7.0->konlpy) (1.24.3)\n",
            "Requirement already satisfied: idna<3,>=2.5 in /usr/local/lib/python3.6/dist-packages (from requests[socks]>=2.11.1->tweepy>=3.7.0->konlpy) (2.10)\n",
            "Requirement already satisfied: PySocks!=1.5.7,>=1.5.6; extra == \"socks\" in /usr/local/lib/python3.6/dist-packages (from requests[socks]>=2.11.1->tweepy>=3.7.0->konlpy) (1.7.1)\n",
            "Requirement already satisfied: oauthlib>=3.0.0 in /usr/local/lib/python3.6/dist-packages (from requests-oauthlib>=0.7.0->tweepy>=3.7.0->konlpy) (3.1.0)\n",
            "Installing collected packages: beautifulsoup4, tweepy, colorama, JPype1, konlpy\n",
            "  Found existing installation: beautifulsoup4 4.6.3\n",
            "    Uninstalling beautifulsoup4-4.6.3:\n",
            "      Successfully uninstalled beautifulsoup4-4.6.3\n",
            "  Found existing installation: tweepy 3.6.0\n",
            "    Uninstalling tweepy-3.6.0:\n",
            "      Successfully uninstalled tweepy-3.6.0\n",
            "Successfully installed JPype1-1.2.1 beautifulsoup4-4.6.0 colorama-0.4.4 konlpy-0.5.2 tweepy-3.10.0\n"
          ],
          "name": "stdout"
        }
      ]
    },
    {
      "cell_type": "code",
      "metadata": {
        "id": "m-HtzwpU3Y3C"
      },
      "source": [
        "from urllib.request import urlopen\n",
        "from bs4 import BeautifulSoup\n",
        "import pandas as pd"
      ],
      "execution_count": 4,
      "outputs": []
    },
    {
      "cell_type": "code",
      "metadata": {
        "id": "r4o5plRg9MjG"
      },
      "source": [
        "titles = []\n",
        "start_date = []\n",
        "end_date = []\n",
        "num_consent = []\n",
        "answer_date = []\n",
        "address = []\n",
        "\n",
        "def get_info(url): \n",
        "    res = urlopen(url)\n",
        "    soup = BeautifulSoup(res, \"html.parser\")\n",
        "    \n",
        "    # get titles, address(url)\n",
        "    contents = soup.find_all('div', class_='ans_name_title')\n",
        "    for n in range(0,len(contents)):\n",
        "        content = contents[n]\n",
        "        titles.append(content.a.get_text())\n",
        "        add_url = str(content.find('a')['href'])\n",
        "        address.append('https://www1.president.go.kr'+add_url)\n",
        "    \n",
        "    # 청원시작과 끝 날짜, 참여인원, 답변일 정보 얻기 \n",
        "    infos = soup.find_all('ol', class_='ans_name_info')\n",
        "    for info in infos: \n",
        "        start_date.append(info.find('p', class_='ans_list1_2').get_text()[2:-2])\n",
        "        end_date.append(info.find('p', class_='ans_list2_2').get_text()[2:-2])\n",
        "        num_consent.append(info.find('p', class_='ans_list3_2').get_text()[2:-2])\n",
        "        answer_date.append(info.find('p', class_='ans_list4_2').get_text()[2:-2])          "
      ],
      "execution_count": 5,
      "outputs": []
    },
    {
      "cell_type": "code",
      "metadata": {
        "id": "bVifn6By9QpW"
      },
      "source": [
        "for n in range(1,13): \n",
        "    url = 'https://www1.president.go.kr/petitions/answer?page=%d' % n\n",
        "    get_info(url)"
      ],
      "execution_count": 6,
      "outputs": []
    },
    {
      "cell_type": "code",
      "metadata": {
        "colab": {
          "base_uri": "https://localhost:8080/",
          "height": 598
        },
        "id": "6_gJ1DL89SnI",
        "outputId": "850e1d25-41dd-4801-9ac1-5990d6a1493c"
      },
      "source": [
        "data = {'제목':titles, '청원시작일':start_date, '청원종료일': end_date,\n",
        "       '참여인원': num_consent, '청원답변일':answer_date, 'URL':address}\n",
        "df = pd.DataFrame(data)\n",
        "df.head()"
      ],
      "execution_count": 7,
      "outputs": [
        {
          "output_type": "execute_result",
          "data": {
            "text/html": [
              "<div>\n",
              "<style scoped>\n",
              "    .dataframe tbody tr th:only-of-type {\n",
              "        vertical-align: middle;\n",
              "    }\n",
              "\n",
              "    .dataframe tbody tr th {\n",
              "        vertical-align: top;\n",
              "    }\n",
              "\n",
              "    .dataframe thead th {\n",
              "        text-align: right;\n",
              "    }\n",
              "</style>\n",
              "<table border=\"1\" class=\"dataframe\">\n",
              "  <thead>\n",
              "    <tr style=\"text-align: right;\">\n",
              "      <th></th>\n",
              "      <th>제목</th>\n",
              "      <th>청원시작일</th>\n",
              "      <th>청원종료일</th>\n",
              "      <th>참여인원</th>\n",
              "      <th>청원답변일</th>\n",
              "      <th>URL</th>\n",
              "    </tr>\n",
              "  </thead>\n",
              "  <tbody>\n",
              "    <tr>\n",
              "      <th>0</th>\n",
              "      <td>판사, 검사 자녀들의 입시비리 전수조사를 해 주시기 바랍니다</td>\n",
              "      <td>2020. 12. 24</td>\n",
              "      <td>2021. 01. 23</td>\n",
              "      <td>223,592</td>\n",
              "      <td>2021. 02. 19</td>\n",
              "      <td>https://www1.president.go.kr/petitions/594987</td>\n",
              "    </tr>\n",
              "    <tr>\n",
              "      <th>1</th>\n",
              "      <td>정경심 1심 재판부(임정엽, 권성수, 김선희)의 탄핵을 요구합니다.</td>\n",
              "      <td>2020. 12. 24</td>\n",
              "      <td>2021. 01. 23</td>\n",
              "      <td>459,416</td>\n",
              "      <td>2021. 02. 19</td>\n",
              "      <td>https://www1.president.go.kr/petitions/594995</td>\n",
              "    </tr>\n",
              "    <tr>\n",
              "      <th>2</th>\n",
              "      <td>딸의 남자친구가 제 딸과, 언니인 제 큰 딸까지 살해하였습니다.</td>\n",
              "      <td>2020. 12. 23</td>\n",
              "      <td>2021. 01. 22</td>\n",
              "      <td>260,545</td>\n",
              "      <td>2021. 02. 19</td>\n",
              "      <td>https://www1.president.go.kr/petitions/594944</td>\n",
              "    </tr>\n",
              "    <tr>\n",
              "      <th>3</th>\n",
              "      <td>잔인하고도 무서운 학교폭력으로 우리아들의 인생이 망가졌습니다.</td>\n",
              "      <td>2020. 12. 15</td>\n",
              "      <td>2021. 01. 14</td>\n",
              "      <td>375,026</td>\n",
              "      <td>2021. 02. 10</td>\n",
              "      <td>https://www1.president.go.kr/petitions/594707</td>\n",
              "    </tr>\n",
              "    <tr>\n",
              "      <th>4</th>\n",
              "      <td>코로나전쟁에 왜 자영업자만 일방적 총알받이가 되나요? 대출원리금 임대료 같이 멈춰야...</td>\n",
              "      <td>2020. 12. 07</td>\n",
              "      <td>2021. 01. 06</td>\n",
              "      <td>206,790</td>\n",
              "      <td>2021. 02. 02</td>\n",
              "      <td>https://www1.president.go.kr/petitions/594474</td>\n",
              "    </tr>\n",
              "  </tbody>\n",
              "</table>\n",
              "</div>"
            ],
            "text/plain": [
              "                                                  제목  ...                                            URL\n",
              "0                  판사, 검사 자녀들의 입시비리 전수조사를 해 주시기 바랍니다  ...  https://www1.president.go.kr/petitions/594987\n",
              "1              정경심 1심 재판부(임정엽, 권성수, 김선희)의 탄핵을 요구합니다.  ...  https://www1.president.go.kr/petitions/594995\n",
              "2                딸의 남자친구가 제 딸과, 언니인 제 큰 딸까지 살해하였습니다.  ...  https://www1.president.go.kr/petitions/594944\n",
              "3                 잔인하고도 무서운 학교폭력으로 우리아들의 인생이 망가졌습니다.  ...  https://www1.president.go.kr/petitions/594707\n",
              "4  코로나전쟁에 왜 자영업자만 일방적 총알받이가 되나요? 대출원리금 임대료 같이 멈춰야...  ...  https://www1.president.go.kr/petitions/594474\n",
              "\n",
              "[5 rows x 6 columns]"
            ]
          },
          "metadata": {
            "tags": []
          },
          "execution_count": 7
        }
      ]
    },
    {
      "cell_type": "code",
      "metadata": {
        "id": "95qPSXxG9UzL"
      },
      "source": [
        "# 1차 저장 \n",
        "df.to_csv('BlueHouse Petition data.csv', sep=',', encoding='utf-8')"
      ],
      "execution_count": 8,
      "outputs": []
    },
    {
      "cell_type": "markdown",
      "metadata": {
        "id": "FUZD_Zhu9XtS"
      },
      "source": [
        "여기까지 1차 저장을 해주었습니다. 각 청원 페이지에 들어가 세부 내용과 함께 청원 답변 등까지 모두 가져와 볼거에요."
      ]
    },
    {
      "cell_type": "code",
      "metadata": {
        "colab": {
          "base_uri": "https://localhost:8080/",
          "height": 598
        },
        "id": "1oCLr1iL9WIL",
        "outputId": "3aa61af3-74c0-42c8-88ac-16c69d8df509"
      },
      "source": [
        "# thousands는 왜 할까요? \n",
        "petition = pd.read_csv('BlueHouse Petition data.csv', thousands=',', encoding='utf-8', index_col=0)\n",
        "petition.head()"
      ],
      "execution_count": 9,
      "outputs": [
        {
          "output_type": "execute_result",
          "data": {
            "text/html": [
              "<div>\n",
              "<style scoped>\n",
              "    .dataframe tbody tr th:only-of-type {\n",
              "        vertical-align: middle;\n",
              "    }\n",
              "\n",
              "    .dataframe tbody tr th {\n",
              "        vertical-align: top;\n",
              "    }\n",
              "\n",
              "    .dataframe thead th {\n",
              "        text-align: right;\n",
              "    }\n",
              "</style>\n",
              "<table border=\"1\" class=\"dataframe\">\n",
              "  <thead>\n",
              "    <tr style=\"text-align: right;\">\n",
              "      <th></th>\n",
              "      <th>제목</th>\n",
              "      <th>청원시작일</th>\n",
              "      <th>청원종료일</th>\n",
              "      <th>참여인원</th>\n",
              "      <th>청원답변일</th>\n",
              "      <th>URL</th>\n",
              "    </tr>\n",
              "  </thead>\n",
              "  <tbody>\n",
              "    <tr>\n",
              "      <th>0</th>\n",
              "      <td>판사, 검사 자녀들의 입시비리 전수조사를 해 주시기 바랍니다</td>\n",
              "      <td>2020. 12. 24</td>\n",
              "      <td>2021. 01. 23</td>\n",
              "      <td>223592</td>\n",
              "      <td>2021. 02. 19</td>\n",
              "      <td>https://www1.president.go.kr/petitions/594987</td>\n",
              "    </tr>\n",
              "    <tr>\n",
              "      <th>1</th>\n",
              "      <td>정경심 1심 재판부(임정엽, 권성수, 김선희)의 탄핵을 요구합니다.</td>\n",
              "      <td>2020. 12. 24</td>\n",
              "      <td>2021. 01. 23</td>\n",
              "      <td>459416</td>\n",
              "      <td>2021. 02. 19</td>\n",
              "      <td>https://www1.president.go.kr/petitions/594995</td>\n",
              "    </tr>\n",
              "    <tr>\n",
              "      <th>2</th>\n",
              "      <td>딸의 남자친구가 제 딸과, 언니인 제 큰 딸까지 살해하였습니다.</td>\n",
              "      <td>2020. 12. 23</td>\n",
              "      <td>2021. 01. 22</td>\n",
              "      <td>260545</td>\n",
              "      <td>2021. 02. 19</td>\n",
              "      <td>https://www1.president.go.kr/petitions/594944</td>\n",
              "    </tr>\n",
              "    <tr>\n",
              "      <th>3</th>\n",
              "      <td>잔인하고도 무서운 학교폭력으로 우리아들의 인생이 망가졌습니다.</td>\n",
              "      <td>2020. 12. 15</td>\n",
              "      <td>2021. 01. 14</td>\n",
              "      <td>375026</td>\n",
              "      <td>2021. 02. 10</td>\n",
              "      <td>https://www1.president.go.kr/petitions/594707</td>\n",
              "    </tr>\n",
              "    <tr>\n",
              "      <th>4</th>\n",
              "      <td>코로나전쟁에 왜 자영업자만 일방적 총알받이가 되나요? 대출원리금 임대료 같이 멈춰야...</td>\n",
              "      <td>2020. 12. 07</td>\n",
              "      <td>2021. 01. 06</td>\n",
              "      <td>206790</td>\n",
              "      <td>2021. 02. 02</td>\n",
              "      <td>https://www1.president.go.kr/petitions/594474</td>\n",
              "    </tr>\n",
              "  </tbody>\n",
              "</table>\n",
              "</div>"
            ],
            "text/plain": [
              "                                                  제목  ...                                            URL\n",
              "0                  판사, 검사 자녀들의 입시비리 전수조사를 해 주시기 바랍니다  ...  https://www1.president.go.kr/petitions/594987\n",
              "1              정경심 1심 재판부(임정엽, 권성수, 김선희)의 탄핵을 요구합니다.  ...  https://www1.president.go.kr/petitions/594995\n",
              "2                딸의 남자친구가 제 딸과, 언니인 제 큰 딸까지 살해하였습니다.  ...  https://www1.president.go.kr/petitions/594944\n",
              "3                 잔인하고도 무서운 학교폭력으로 우리아들의 인생이 망가졌습니다.  ...  https://www1.president.go.kr/petitions/594707\n",
              "4  코로나전쟁에 왜 자영업자만 일방적 총알받이가 되나요? 대출원리금 임대료 같이 멈춰야...  ...  https://www1.president.go.kr/petitions/594474\n",
              "\n",
              "[5 rows x 6 columns]"
            ]
          },
          "metadata": {
            "tags": []
          },
          "execution_count": 9
        }
      ]
    },
    {
      "cell_type": "code",
      "metadata": {
        "colab": {
          "base_uri": "https://localhost:8080/"
        },
        "id": "Nak9kLOY9ewP",
        "outputId": "b17f0071-d689-4d96-a522-16a531230d09"
      },
      "source": [
        "len(petition)"
      ],
      "execution_count": 10,
      "outputs": [
        {
          "output_type": "execute_result",
          "data": {
            "text/plain": [
              "181"
            ]
          },
          "metadata": {
            "tags": []
          },
          "execution_count": 10
        }
      ]
    },
    {
      "cell_type": "markdown",
      "metadata": {
        "id": "1YLDD6QC9iUZ"
      },
      "source": [
        "의도한 청원 개수만큼 가져와졌습니다! 아래 코드는 대략 5-7분 정도 소요됩니다. 중간에 time.sleep()을 넣은 이유는 청와대 청원에서 웹크롤링(?) 매크로(?)를 막는 게 있는 것 같은데 시간을 주어서 헷갈리게(?) 하면 크롤링 됩니다."
      ]
    },
    {
      "cell_type": "code",
      "metadata": {
        "colab": {
          "base_uri": "https://localhost:8080/",
          "height": 139,
          "referenced_widgets": [
            "8a3227d47ac44156b531dfe749d8465c",
            "b955fbf9f7314fbc82c63e395060e8b0",
            "e18031be247946af934a9100ad08169a",
            "265ae18e29bf4237b5bea999bc272a6e",
            "55980e58a9e6461f8c223dfa5b839c10",
            "ca4184e7973f49d2a5859a279d637c8f",
            "8049ba5001d346fab20b141d98b33217",
            "4229f669fcda4ba8ab1f527ba52de75e"
          ]
        },
        "id": "HpncgVAb9hG4",
        "outputId": "99dcc07c-3a73-48d0-c2b3-8fa2031dfc78"
      },
      "source": [
        "import re \n",
        "import time\n",
        "from tqdm import tqdm_notebook\n",
        "from urllib.request import urlopen\n",
        "from bs4 import BeautifulSoup\n",
        "\n",
        "category =[]\n",
        "content = []\n",
        "answer = []\n",
        "person = []\n",
        "\n",
        "for n in tqdm_notebook(petition.index): \n",
        "    url = urlopen(petition['URL'][n]) \n",
        "    if n / 2 == 0:\n",
        "        time.sleep(1)\n",
        "    else: \n",
        "        time.sleep(2)\n",
        "    soup = BeautifulSoup(url, \"html.parser\") \n",
        "    \n",
        "    # get category \n",
        "    sector = soup.find('ul', class_='petitionsView_info_list')\n",
        "    try: \n",
        "        category.append(sector.li.get_text()[4:])\n",
        "    except AttributeError:\n",
        "        print('AttributeError: index-', n, 'URL-', petition['URL'][n])\n",
        "    person.append(sector.find_all('li')[3].get_text()[3:-6])\n",
        "\n",
        "\n",
        "    # get petition content \n",
        "    content_raw = soup.find_all('div', class_='View_write')\n",
        "    try: \n",
        "        if len(content_raw) > 1:\n",
        "            content_raw_text = content_raw[1].get_text()\n",
        "        else: \n",
        "            content_raw_text = content_raw[0].get_text()   \n",
        "    except IndexError: \n",
        "        print('IndexError:', petition['URL'][n])\n",
        "    \n",
        "    content_split = re.split('\\r|\\t|\\n|\\xa0', content_raw_text)\n",
        "    content.append(''.join(content_split))\n",
        "\n",
        "    # get petition answer \n",
        "    answer_raw = soup.find_all('div', class_='pr_tk25')\n",
        "    if len(answer_raw) > 1: \n",
        "        answer_raw_text = re.split(\"\\r|\\t|\\n|\\xa0\", answer_raw[1].get_text())\n",
        "    else: \n",
        "        answer_raw_text = re.split(\"\\r|\\t|\\n|\\xa0\", answer_raw[0].get_text())\n",
        "    answer_raw_text = ' '.join(answer_raw_text)\n",
        "    answer.append(answer_raw_text[7:]) "
      ],
      "execution_count": 11,
      "outputs": [
        {
          "output_type": "stream",
          "text": [
            "/usr/local/lib/python3.6/dist-packages/ipykernel_launcher.py:12: TqdmDeprecationWarning: This function will be removed in tqdm==5.0.0\n",
            "Please use `tqdm.notebook.tqdm` instead of `tqdm.tqdm_notebook`\n",
            "  if sys.path[0] == '':\n"
          ],
          "name": "stderr"
        },
        {
          "output_type": "display_data",
          "data": {
            "application/vnd.jupyter.widget-view+json": {
              "model_id": "8a3227d47ac44156b531dfe749d8465c",
              "version_minor": 0,
              "version_major": 2
            },
            "text/plain": [
              "HBox(children=(FloatProgress(value=0.0, max=181.0), HTML(value='')))"
            ]
          },
          "metadata": {
            "tags": []
          }
        },
        {
          "output_type": "stream",
          "text": [
            "\n"
          ],
          "name": "stdout"
        }
      ]
    },
    {
      "cell_type": "code",
      "metadata": {
        "colab": {
          "base_uri": "https://localhost:8080/"
        },
        "id": "du-qkO6K9zSY",
        "outputId": "09cee12b-0fe1-432d-9317-502b5fb20800"
      },
      "source": [
        "print(len(category), len(content), len(answer), len(person))"
      ],
      "execution_count": 12,
      "outputs": [
        {
          "output_type": "stream",
          "text": [
            "181 181 181 181\n"
          ],
          "name": "stdout"
        }
      ]
    },
    {
      "cell_type": "markdown",
      "metadata": {
        "id": "hnREDmlMC3dq"
      },
      "source": [
        "잘 출력되었습니다!"
      ]
    },
    {
      "cell_type": "code",
      "metadata": {
        "id": "nZavX1pBC02h"
      },
      "source": [
        "petition['카테고리'] = category\n",
        "petition['청원내용'] = content\n",
        "petition['청원답변'] = answer\n",
        "petition['청원인'] = person"
      ],
      "execution_count": 13,
      "outputs": []
    },
    {
      "cell_type": "markdown",
      "metadata": {
        "id": "Mk4dpcUOVcnR"
      },
      "source": [
        "갯수만 봤을 때는 잘 가져온 것처럼 보여도, 이상한 데이터가 크롤링되는 경우도 있어요. 크롤링한 데이터를 저장해 파일로 열어본 후 전체를 쭉 확인해보는 것도 중요한 작업입니다 "
      ]
    },
    {
      "cell_type": "code",
      "metadata": {
        "colab": {
          "base_uri": "https://localhost:8080/",
          "height": 64
        },
        "id": "23hBPodNC41B",
        "outputId": "3d23a495-2b2a-4653-f80f-41158168223b"
      },
      "source": [
        "petition[petition['청원내용'] == '']"
      ],
      "execution_count": 16,
      "outputs": [
        {
          "output_type": "execute_result",
          "data": {
            "text/html": [
              "<div>\n",
              "<style scoped>\n",
              "    .dataframe tbody tr th:only-of-type {\n",
              "        vertical-align: middle;\n",
              "    }\n",
              "\n",
              "    .dataframe tbody tr th {\n",
              "        vertical-align: top;\n",
              "    }\n",
              "\n",
              "    .dataframe thead th {\n",
              "        text-align: right;\n",
              "    }\n",
              "</style>\n",
              "<table border=\"1\" class=\"dataframe\">\n",
              "  <thead>\n",
              "    <tr style=\"text-align: right;\">\n",
              "      <th></th>\n",
              "      <th>제목</th>\n",
              "      <th>청원시작일</th>\n",
              "      <th>청원종료일</th>\n",
              "      <th>참여인원</th>\n",
              "      <th>청원답변일</th>\n",
              "      <th>URL</th>\n",
              "      <th>카테고리</th>\n",
              "      <th>청원내용</th>\n",
              "      <th>청원답변</th>\n",
              "      <th>청원인</th>\n",
              "    </tr>\n",
              "  </thead>\n",
              "  <tbody>\n",
              "  </tbody>\n",
              "</table>\n",
              "</div>"
            ],
            "text/plain": [
              "Empty DataFrame\n",
              "Columns: [제목, 청원시작일, 청원종료일, 참여인원, 청원답변일, URL, 카테고리, 청원내용, 청원답변, 청원인]\n",
              "Index: []"
            ]
          },
          "metadata": {
            "tags": []
          },
          "execution_count": 16
        }
      ]
    },
    {
      "cell_type": "markdown",
      "metadata": {
        "id": "lckbKFfa52JA"
      },
      "source": [
        "코드 실행결과 데이터가 모두 잘 크롤링 된 것 같습니다. 만약 잘못된 데이터가 있다면 제목 왼쪽의 숫자를 아래 코드에 입력해주세요. 없다면 아래의 코드는 생략하셔도 됩니다."
      ]
    },
    {
      "cell_type": "code",
      "metadata": {
        "id": "_HfQ06RuGiPi"
      },
      "source": [
        "for n in [147, 148, 149, 152]:  # 숫자는 예시입니다.\n",
        "    url = urlopen(petition['URL'][n]) \n",
        "    soup = BeautifulSoup(url, \"html.parser\") \n",
        "    \n",
        "    # get petition content \n",
        "    content_raw = soup.find_all('div', class_='View_write')\n",
        "    content_raw_text = content_raw[2].get_text()\n",
        "    content_split = re.split('\\r|\\t|\\n|\\xa0', content_raw_text)\n",
        "    petition['청원내용'][n] = ''.join(content_split)\n",
        "    \n",
        "    # get petition answer \n",
        "    answer_raw = soup.find_all('div', class_='pr_tk25')\n",
        "    answer_raw_text = re.split(\"\\r|\\t|\\n|\\xa0\", answer_raw[2].get_text())\n",
        "    answer_raw_text = ' '.join(answer_raw_text)\n",
        "    petition['청원답변'][n] = answer_raw_text[7:]"
      ],
      "execution_count": null,
      "outputs": []
    },
    {
      "cell_type": "code",
      "metadata": {
        "id": "ZJVYqgQ0GuGZ"
      },
      "source": [
        "# 이건 꼭 실행해주세요!\r\n",
        "petition.to_csv('Final BlueHouse Petition data.csv', sep=',', encoding='utf-8')"
      ],
      "execution_count": 18,
      "outputs": []
    },
    {
      "cell_type": "markdown",
      "metadata": {
        "id": "hE0TyjAbVq0_"
      },
      "source": [
        "여기까지가 데이터를 가져오는 과정이었습니다! 이 파일들은 다운로드를 해두시고 다음에 실행하실 때에는 파일을 드래그 하여 넣으신 다음에 쓰세요. 매번 크롤링해서 프로젝트를 진행하려면 시간이 너무 오래 걸립니다 ㅠ"
      ]
    },
    {
      "cell_type": "markdown",
      "metadata": {
        "id": "5zeWzKtcGyHH"
      },
      "source": [
        "## EDA(Exploratory Data Analysis) - 탐색적 자료 분석 "
      ]
    },
    {
      "cell_type": "code",
      "metadata": {
        "id": "ga5gje_9Gw69"
      },
      "source": [
        "import pandas as pd\n",
        "import platform\n",
        "import matplotlib.pyplot as plt\n",
        "import seaborn as sns\n",
        "%matplotlib inline"
      ],
      "execution_count": 19,
      "outputs": []
    },
    {
      "cell_type": "code",
      "metadata": {
        "colab": {
          "base_uri": "https://localhost:8080/",
          "height": 1000
        },
        "id": "xv1tGgIFG51j",
        "outputId": "172d27ed-cb39-43c0-8be7-8fc8e7fc0614"
      },
      "source": [
        "petition = pd.read_csv('Final BlueHouse Petition data.csv', \n",
        "                       index_col=0, parse_dates=['청원시작일','청원종료일','청원답변일'])\n",
        "petition.head()"
      ],
      "execution_count": 20,
      "outputs": [
        {
          "output_type": "execute_result",
          "data": {
            "text/html": [
              "<div>\n",
              "<style scoped>\n",
              "    .dataframe tbody tr th:only-of-type {\n",
              "        vertical-align: middle;\n",
              "    }\n",
              "\n",
              "    .dataframe tbody tr th {\n",
              "        vertical-align: top;\n",
              "    }\n",
              "\n",
              "    .dataframe thead th {\n",
              "        text-align: right;\n",
              "    }\n",
              "</style>\n",
              "<table border=\"1\" class=\"dataframe\">\n",
              "  <thead>\n",
              "    <tr style=\"text-align: right;\">\n",
              "      <th></th>\n",
              "      <th>제목</th>\n",
              "      <th>청원시작일</th>\n",
              "      <th>청원종료일</th>\n",
              "      <th>참여인원</th>\n",
              "      <th>청원답변일</th>\n",
              "      <th>URL</th>\n",
              "      <th>카테고리</th>\n",
              "      <th>청원내용</th>\n",
              "      <th>청원답변</th>\n",
              "      <th>청원인</th>\n",
              "    </tr>\n",
              "  </thead>\n",
              "  <tbody>\n",
              "    <tr>\n",
              "      <th>0</th>\n",
              "      <td>판사, 검사 자녀들의 입시비리 전수조사를 해 주시기 바랍니다</td>\n",
              "      <td>2020-12-24</td>\n",
              "      <td>2021-01-23</td>\n",
              "      <td>223592</td>\n",
              "      <td>2021-02-19</td>\n",
              "      <td>https://www1.president.go.kr/petitions/594987</td>\n",
              "      <td>정치개혁</td>\n",
              "      <td>입시제도를 위한 자녀들의 활동을 유죄로 판결하는 판사와 검사들의 자녀들은 과연 바르...</td>\n",
              "      <td>&lt;판사 및 검사 자녀 입시비리 전수 조사&gt; 국민청원에 답합니다.   ...</td>\n",
              "      <td>kakao</td>\n",
              "    </tr>\n",
              "    <tr>\n",
              "      <th>1</th>\n",
              "      <td>정경심 1심 재판부(임정엽, 권성수, 김선희)의 탄핵을 요구합니다.</td>\n",
              "      <td>2020-12-24</td>\n",
              "      <td>2021-01-23</td>\n",
              "      <td>459416</td>\n",
              "      <td>2021-02-19</td>\n",
              "      <td>https://www1.president.go.kr/petitions/594995</td>\n",
              "      <td>정치개혁</td>\n",
              "      <td>금일 청원은 청와대와 행정부가 직접적으로 행사할 권한이 아닌 국민을 대신하는 입법부...</td>\n",
              "      <td>&lt;정경심 교수 1심 재판부 탄핵&gt; 국민청원에 답합니다.   청원인께서...</td>\n",
              "      <td>facebook</td>\n",
              "    </tr>\n",
              "    <tr>\n",
              "      <th>2</th>\n",
              "      <td>딸의 남자친구가 제 딸과, 언니인 제 큰 딸까지 살해하였습니다.</td>\n",
              "      <td>2020-12-23</td>\n",
              "      <td>2021-01-22</td>\n",
              "      <td>260545</td>\n",
              "      <td>2021-02-19</td>\n",
              "      <td>https://www1.president.go.kr/petitions/594944</td>\n",
              "      <td>기타</td>\n",
              "      <td>심신미약을 주장하는 범인이 제발 마땅한 벌을 받을 수 있도록 꼭 청원 동의 부탁드립...</td>\n",
              "      <td>&lt;자매 살인사건 엄중처벌&gt; 국민청원에 답합니다.   청원인께서는 20...</td>\n",
              "      <td>naver</td>\n",
              "    </tr>\n",
              "    <tr>\n",
              "      <th>3</th>\n",
              "      <td>잔인하고도 무서운 학교폭력으로 우리아들의 인생이 망가졌습니다.</td>\n",
              "      <td>2020-12-15</td>\n",
              "      <td>2021-01-14</td>\n",
              "      <td>375026</td>\n",
              "      <td>2021-02-10</td>\n",
              "      <td>https://www1.president.go.kr/petitions/594707</td>\n",
              "      <td>기타</td>\n",
              "      <td>저희 아들은 학교폭력으로  지금 의식이 없이 중환자실에 누워있습니다.저희아이는 **...</td>\n",
              "      <td>안녕하십니까. 디지털소통센터장 강정수입니다.   스파링을 가장해 학교...</td>\n",
              "      <td>naver</td>\n",
              "    </tr>\n",
              "    <tr>\n",
              "      <th>4</th>\n",
              "      <td>코로나전쟁에 왜 자영업자만 일방적 총알받이가 되나요? 대출원리금 임대료 같이 멈춰야...</td>\n",
              "      <td>2020-12-07</td>\n",
              "      <td>2021-01-06</td>\n",
              "      <td>206790</td>\n",
              "      <td>2021-02-02</td>\n",
              "      <td>https://www1.president.go.kr/petitions/594474</td>\n",
              "      <td>보건복지</td>\n",
              "      <td>코로나 규제방향을 올 한해동안 보고 있으면거의 90%이상 자영업자만 희생을 시키고 ...</td>\n",
              "      <td>안녕하십니까? 자영업비서관 인태연입니다.   코로나로 인한 자영업자의...</td>\n",
              "      <td>naver</td>\n",
              "    </tr>\n",
              "  </tbody>\n",
              "</table>\n",
              "</div>"
            ],
            "text/plain": [
              "                                                  제목  ...       청원인\n",
              "0                  판사, 검사 자녀들의 입시비리 전수조사를 해 주시기 바랍니다  ...     kakao\n",
              "1              정경심 1심 재판부(임정엽, 권성수, 김선희)의 탄핵을 요구합니다.  ...  facebook\n",
              "2                딸의 남자친구가 제 딸과, 언니인 제 큰 딸까지 살해하였습니다.  ...     naver\n",
              "3                 잔인하고도 무서운 학교폭력으로 우리아들의 인생이 망가졌습니다.  ...     naver\n",
              "4  코로나전쟁에 왜 자영업자만 일방적 총알받이가 되나요? 대출원리금 임대료 같이 멈춰야...  ...     naver\n",
              "\n",
              "[5 rows x 10 columns]"
            ]
          },
          "metadata": {
            "tags": []
          },
          "execution_count": 20
        }
      ]
    },
    {
      "cell_type": "code",
      "metadata": {
        "colab": {
          "base_uri": "https://localhost:8080/"
        },
        "id": "Cg44OZjCG_Im",
        "outputId": "bd8e01e6-5ad7-41d3-d0bc-a0624cf3d65f"
      },
      "source": [
        "petition.shape"
      ],
      "execution_count": 21,
      "outputs": [
        {
          "output_type": "execute_result",
          "data": {
            "text/plain": [
              "(181, 10)"
            ]
          },
          "metadata": {
            "tags": []
          },
          "execution_count": 21
        }
      ]
    },
    {
      "cell_type": "markdown",
      "metadata": {
        "id": "KHcwZwPLHRQG"
      },
      "source": [
        "### 필요한 데이터만 남기기\n",
        "\n",
        "분석에 필요한 데이터들만 남겨봅니다."
      ]
    },
    {
      "cell_type": "code",
      "metadata": {
        "colab": {
          "base_uri": "https://localhost:8080/",
          "height": 498
        },
        "id": "BjTZCxWYHCMz",
        "outputId": "d39759bd-d606-469f-cb48-72c0951c2dde"
      },
      "source": [
        "petition.drop(['URL', '청원종료일','청원답변','청원인'], axis=1, inplace=True)\n",
        "petition.head()"
      ],
      "execution_count": 22,
      "outputs": [
        {
          "output_type": "execute_result",
          "data": {
            "text/html": [
              "<div>\n",
              "<style scoped>\n",
              "    .dataframe tbody tr th:only-of-type {\n",
              "        vertical-align: middle;\n",
              "    }\n",
              "\n",
              "    .dataframe tbody tr th {\n",
              "        vertical-align: top;\n",
              "    }\n",
              "\n",
              "    .dataframe thead th {\n",
              "        text-align: right;\n",
              "    }\n",
              "</style>\n",
              "<table border=\"1\" class=\"dataframe\">\n",
              "  <thead>\n",
              "    <tr style=\"text-align: right;\">\n",
              "      <th></th>\n",
              "      <th>제목</th>\n",
              "      <th>청원시작일</th>\n",
              "      <th>참여인원</th>\n",
              "      <th>청원답변일</th>\n",
              "      <th>카테고리</th>\n",
              "      <th>청원내용</th>\n",
              "    </tr>\n",
              "  </thead>\n",
              "  <tbody>\n",
              "    <tr>\n",
              "      <th>0</th>\n",
              "      <td>판사, 검사 자녀들의 입시비리 전수조사를 해 주시기 바랍니다</td>\n",
              "      <td>2020-12-24</td>\n",
              "      <td>223592</td>\n",
              "      <td>2021-02-19</td>\n",
              "      <td>정치개혁</td>\n",
              "      <td>입시제도를 위한 자녀들의 활동을 유죄로 판결하는 판사와 검사들의 자녀들은 과연 바르...</td>\n",
              "    </tr>\n",
              "    <tr>\n",
              "      <th>1</th>\n",
              "      <td>정경심 1심 재판부(임정엽, 권성수, 김선희)의 탄핵을 요구합니다.</td>\n",
              "      <td>2020-12-24</td>\n",
              "      <td>459416</td>\n",
              "      <td>2021-02-19</td>\n",
              "      <td>정치개혁</td>\n",
              "      <td>금일 청원은 청와대와 행정부가 직접적으로 행사할 권한이 아닌 국민을 대신하는 입법부...</td>\n",
              "    </tr>\n",
              "    <tr>\n",
              "      <th>2</th>\n",
              "      <td>딸의 남자친구가 제 딸과, 언니인 제 큰 딸까지 살해하였습니다.</td>\n",
              "      <td>2020-12-23</td>\n",
              "      <td>260545</td>\n",
              "      <td>2021-02-19</td>\n",
              "      <td>기타</td>\n",
              "      <td>심신미약을 주장하는 범인이 제발 마땅한 벌을 받을 수 있도록 꼭 청원 동의 부탁드립...</td>\n",
              "    </tr>\n",
              "    <tr>\n",
              "      <th>3</th>\n",
              "      <td>잔인하고도 무서운 학교폭력으로 우리아들의 인생이 망가졌습니다.</td>\n",
              "      <td>2020-12-15</td>\n",
              "      <td>375026</td>\n",
              "      <td>2021-02-10</td>\n",
              "      <td>기타</td>\n",
              "      <td>저희 아들은 학교폭력으로  지금 의식이 없이 중환자실에 누워있습니다.저희아이는 **...</td>\n",
              "    </tr>\n",
              "    <tr>\n",
              "      <th>4</th>\n",
              "      <td>코로나전쟁에 왜 자영업자만 일방적 총알받이가 되나요? 대출원리금 임대료 같이 멈춰야...</td>\n",
              "      <td>2020-12-07</td>\n",
              "      <td>206790</td>\n",
              "      <td>2021-02-02</td>\n",
              "      <td>보건복지</td>\n",
              "      <td>코로나 규제방향을 올 한해동안 보고 있으면거의 90%이상 자영업자만 희생을 시키고 ...</td>\n",
              "    </tr>\n",
              "  </tbody>\n",
              "</table>\n",
              "</div>"
            ],
            "text/plain": [
              "                                                  제목  ...                                               청원내용\n",
              "0                  판사, 검사 자녀들의 입시비리 전수조사를 해 주시기 바랍니다  ...  입시제도를 위한 자녀들의 활동을 유죄로 판결하는 판사와 검사들의 자녀들은 과연 바르...\n",
              "1              정경심 1심 재판부(임정엽, 권성수, 김선희)의 탄핵을 요구합니다.  ...  금일 청원은 청와대와 행정부가 직접적으로 행사할 권한이 아닌 국민을 대신하는 입법부...\n",
              "2                딸의 남자친구가 제 딸과, 언니인 제 큰 딸까지 살해하였습니다.  ...  심신미약을 주장하는 범인이 제발 마땅한 벌을 받을 수 있도록 꼭 청원 동의 부탁드립...\n",
              "3                 잔인하고도 무서운 학교폭력으로 우리아들의 인생이 망가졌습니다.  ...  저희 아들은 학교폭력으로  지금 의식이 없이 중환자실에 누워있습니다.저희아이는 **...\n",
              "4  코로나전쟁에 왜 자영업자만 일방적 총알받이가 되나요? 대출원리금 임대료 같이 멈춰야...  ...  코로나 규제방향을 올 한해동안 보고 있으면거의 90%이상 자영업자만 희생을 시키고 ...\n",
              "\n",
              "[5 rows x 6 columns]"
            ]
          },
          "metadata": {
            "tags": []
          },
          "execution_count": 22
        }
      ]
    },
    {
      "cell_type": "markdown",
      "metadata": {
        "id": "Sh9ytDGLHmQM"
      },
      "source": [
        "### 카테고리별 청원수 \n"
      ]
    },
    {
      "cell_type": "code",
      "metadata": {
        "colab": {
          "base_uri": "https://localhost:8080/"
        },
        "id": "icnVFSDkHdgf",
        "outputId": "1ba7549e-9e94-41b8-eeb1-fbaccdc62be7"
      },
      "source": [
        "petition_cate = petition['카테고리'].value_counts()\n",
        "petition_cate"
      ],
      "execution_count": 23,
      "outputs": [
        {
          "output_type": "execute_result",
          "data": {
            "text/plain": [
              "인권/성평등         43\n",
              "정치개혁           31\n",
              "안전/환경          26\n",
              "기타             23\n",
              "육아/교육          14\n",
              "보건복지           12\n",
              "문화/예술/체육/언론    10\n",
              "반려동물            7\n",
              "교통/건축/국토        6\n",
              "행정              4\n",
              "일자리             2\n",
              "외교/통일/국방        1\n",
              "경제민주화           1\n",
              "미래              1\n",
              "Name: 카테고리, dtype: int64"
            ]
          },
          "metadata": {
            "tags": []
          },
          "execution_count": 23
        }
      ]
    },
    {
      "cell_type": "code",
      "metadata": {
        "colab": {
          "base_uri": "https://localhost:8080/",
          "height": 593
        },
        "id": "SeQBXr2tHuX8",
        "outputId": "c412ae32-140f-4154-9442-854093892221"
      },
      "source": [
        "petition_cate.sort_values().plot(kind='barh', grid=True, figsize=(10,10))\n",
        "plt.show()"
      ],
      "execution_count": 24,
      "outputs": [
        {
          "output_type": "display_data",
          "data": {
            "image/png": "[encoded data removed]",
            "text/plain": [
              "<Figure size 720x720 with 1 Axes>"
            ]
          },
          "metadata": {
            "tags": [],
            "image/png": {
              "width": 664,
              "height": 576
            },
            "needs_background": "light"
          }
        }
      ]
    },
    {
      "cell_type": "markdown",
      "metadata": {
        "id": "ezl1Y2UOWdl1"
      },
      "source": [
        "인권/성평등 청원이 가장 많네요"
      ]
    },
    {
      "cell_type": "markdown",
      "metadata": {
        "id": "YwGofV6BIk2Z"
      },
      "source": [
        "### WordCloud로 시각화\n",
        "\n",
        "저번 시간에 배운 자연어처리와 wordcloud를 활용해 시각화를 진행해보겠습니다. 청원 데이터 전부를 하기에는 너무 오래걸리니까, 가장 많은 청원 영역인 인권/성평등 분야만 골라 진행해볼게요"
      ]
    },
    {
      "cell_type": "code",
      "metadata": {
        "colab": {
          "base_uri": "https://localhost:8080/"
        },
        "id": "zYiE-xInKUFg",
        "outputId": "14c9235e-0dfd-45a4-e920-042c83e09c91"
      },
      "source": [
        "humanRights = petition[petition['카테고리'] == '인권/성평등']\n",
        "humanRights.shape"
      ],
      "execution_count": 25,
      "outputs": [
        {
          "output_type": "execute_result",
          "data": {
            "text/plain": [
              "(43, 6)"
            ]
          },
          "metadata": {
            "tags": []
          },
          "execution_count": 25
        }
      ]
    },
    {
      "cell_type": "code",
      "metadata": {
        "colab": {
          "base_uri": "https://localhost:8080/"
        },
        "id": "-s_cy7BjI26Q",
        "outputId": "120c3fbe-f925-4759-f824-130f928ad3c4"
      },
      "source": [
        "# 자연어처리 모듈 설치\n",
        "!apt-get update \n",
        "!apt-get install g++ openjdk-8-jdk python-dev python3-dev \n",
        "!pip3 install JPype1-py3 \n",
        "!pip3 install konlpy \n",
        "!JAVA_HOME=\"C:\\Program Files\\Java\\jdk-13.0.2\""
      ],
      "execution_count": 26,
      "outputs": [
        {
          "output_type": "stream",
          "text": [
            "\r0% [Working]\r            \rIgn:1 https://developer.download.nvidia.com/compute/cuda/repos/ubuntu1804/x86_64  InRelease\n",
            "\r0% [Connecting to archive.ubuntu.com] [Connecting to security.ubuntu.com] [Conn\r                                                                               \rIgn:2 https://developer.download.nvidia.com/compute/machine-learning/repos/ubuntu1804/x86_64  InRelease\n",
            "\r0% [Connecting to archive.ubuntu.com] [Connecting to security.ubuntu.com] [Conn\r                                                                               \rHit:3 https://developer.download.nvidia.com/compute/cuda/repos/ubuntu1804/x86_64  Release\n",
            "\r0% [Connecting to archive.ubuntu.com] [Connecting to security.ubuntu.com] [Conn\r0% [Release.gpg gpgv 697 B] [Connecting to archive.ubuntu.com (91.189.88.142)] \r                                                                               \rHit:4 https://developer.download.nvidia.com/compute/machine-learning/repos/ubuntu1804/x86_64  Release\n",
            "Hit:5 https://cloud.r-project.org/bin/linux/ubuntu bionic-cran40/ InRelease\n",
            "Get:6 http://security.ubuntu.com/ubuntu bionic-security InRelease [88.7 kB]\n",
            "Hit:7 http://ppa.launchpad.net/c2d4u.team/c2d4u4.0+/ubuntu bionic InRelease\n",
            "Hit:9 http://archive.ubuntu.com/ubuntu bionic InRelease\n",
            "Get:10 http://archive.ubuntu.com/ubuntu bionic-updates InRelease [88.7 kB]\n",
            "Hit:12 http://ppa.launchpad.net/cran/libgit2/ubuntu bionic InRelease\n",
            "Hit:13 http://ppa.launchpad.net/graphics-drivers/ppa/ubuntu bionic InRelease\n",
            "Get:14 http://archive.ubuntu.com/ubuntu bionic-backports InRelease [74.6 kB]\n",
            "Fetched 252 kB in 2s (116 kB/s)\n",
            "Reading package lists... Done\n",
            "Reading package lists... Done\n",
            "Building dependency tree       \n",
            "Reading state information... Done\n",
            "python-dev is already the newest version (2.7.15~rc1-1).\n",
            "g++ is already the newest version (4:7.4.0-1ubuntu2.3).\n",
            "python3-dev is already the newest version (3.6.7-1~18.04).\n",
            "openjdk-8-jdk is already the newest version (8u282-b08-0ubuntu1~18.04).\n",
            "0 upgraded, 0 newly installed, 0 to remove and 19 not upgraded.\n",
            "Requirement already satisfied: JPype1-py3 in /usr/local/lib/python3.6/dist-packages (0.5.5.4)\n",
            "Requirement already satisfied: konlpy in /usr/local/lib/python3.6/dist-packages (0.5.2)\n",
            "Requirement already satisfied: beautifulsoup4==4.6.0 in /usr/local/lib/python3.6/dist-packages (from konlpy) (4.6.0)\n",
            "Requirement already satisfied: numpy>=1.6 in /usr/local/lib/python3.6/dist-packages (from konlpy) (1.19.5)\n",
            "Requirement already satisfied: tweepy>=3.7.0 in /usr/local/lib/python3.6/dist-packages (from konlpy) (3.10.0)\n",
            "Requirement already satisfied: JPype1>=0.7.0 in /usr/local/lib/python3.6/dist-packages (from konlpy) (1.2.1)\n",
            "Requirement already satisfied: colorama in /usr/local/lib/python3.6/dist-packages (from konlpy) (0.4.4)\n",
            "Requirement already satisfied: lxml>=4.1.0 in /usr/local/lib/python3.6/dist-packages (from konlpy) (4.2.6)\n",
            "Requirement already satisfied: six>=1.10.0 in /usr/local/lib/python3.6/dist-packages (from tweepy>=3.7.0->konlpy) (1.15.0)\n",
            "Requirement already satisfied: requests-oauthlib>=0.7.0 in /usr/local/lib/python3.6/dist-packages (from tweepy>=3.7.0->konlpy) (1.3.0)\n",
            "Requirement already satisfied: requests[socks]>=2.11.1 in /usr/local/lib/python3.6/dist-packages (from tweepy>=3.7.0->konlpy) (2.23.0)\n",
            "Requirement already satisfied: typing-extensions; python_version < \"3.8\" in /usr/local/lib/python3.6/dist-packages (from JPype1>=0.7.0->konlpy) (3.7.4.3)\n",
            "Requirement already satisfied: oauthlib>=3.0.0 in /usr/local/lib/python3.6/dist-packages (from requests-oauthlib>=0.7.0->tweepy>=3.7.0->konlpy) (3.1.0)\n",
            "Requirement already satisfied: idna<3,>=2.5 in /usr/local/lib/python3.6/dist-packages (from requests[socks]>=2.11.1->tweepy>=3.7.0->konlpy) (2.10)\n",
            "Requirement already satisfied: chardet<4,>=3.0.2 in /usr/local/lib/python3.6/dist-packages (from requests[socks]>=2.11.1->tweepy>=3.7.0->konlpy) (3.0.4)\n",
            "Requirement already satisfied: certifi>=2017.4.17 in /usr/local/lib/python3.6/dist-packages (from requests[socks]>=2.11.1->tweepy>=3.7.0->konlpy) (2020.12.5)\n",
            "Requirement already satisfied: urllib3!=1.25.0,!=1.25.1,<1.26,>=1.21.1 in /usr/local/lib/python3.6/dist-packages (from requests[socks]>=2.11.1->tweepy>=3.7.0->konlpy) (1.24.3)\n",
            "Requirement already satisfied: PySocks!=1.5.7,>=1.5.6; extra == \"socks\" in /usr/local/lib/python3.6/dist-packages (from requests[socks]>=2.11.1->tweepy>=3.7.0->konlpy) (1.7.1)\n"
          ],
          "name": "stdout"
        }
      ]
    },
    {
      "cell_type": "code",
      "metadata": {
        "id": "sth_hpsFIMfj"
      },
      "source": [
        "import nltk \n",
        "from konlpy.tag import Okt \n",
        "okt = Okt()"
      ],
      "execution_count": 27,
      "outputs": []
    },
    {
      "cell_type": "markdown",
      "metadata": {
        "id": "Xfl_xfNoJxm-"
      },
      "source": [
        "모든 청원내용을 하나의 변수 humanRights_text에다가 모두 넣어두겠습니다"
      ]
    },
    {
      "cell_type": "code",
      "metadata": {
        "colab": {
          "base_uri": "https://localhost:8080/"
        },
        "id": "oo3mzhcKJbn_",
        "outputId": "bae0a0cf-7859-44cb-d471-7f5befdc40a5"
      },
      "source": [
        "humanRights_text = ''\n",
        "\n",
        "for each_line in humanRights['청원내용']: \n",
        "  humanRights_text = humanRights_text + each_line + '\\n'\n",
        "\n",
        "# 형태소 단위로 쪼갠 token 만들기\n",
        "tokens_ko = okt.morphs(humanRights_text)\n",
        "tokens_ko"
      ],
      "execution_count": 28,
      "outputs": [
        {
          "output_type": "execute_result",
          "data": {
            "text/plain": [
              "['1',\n",
              " '.',\n",
              " '10',\n",
              " '개',\n",
              " '월간',\n",
              " '잔인하게',\n",
              " '학대',\n",
              " '당하다',\n",
              " '처참하게',\n",
              " '죽은',\n",
              " '16',\n",
              " '개월',\n",
              " '입양아',\n",
              " '가해자',\n",
              " '부부',\n",
              " '의',\n",
              " '공식',\n",
              " '적',\n",
              " '인',\n",
              " '신',\n",
              " '상공',\n",
              " '개',\n",
              " '를',\n",
              " '요청',\n",
              " '합니다',\n",
              " '.',\n",
              " '이',\n",
              " '부부',\n",
              " '는',\n",
              " '최근',\n",
              " '공개',\n",
              " '된',\n",
              " '피',\n",
              " '씨방',\n",
              " '살인',\n",
              " '사건',\n",
              " '사건',\n",
              " '김',\n",
              " '*',\n",
              " '수',\n",
              " ',',\n",
              " '극악',\n",
              " '무도',\n",
              " '한',\n",
              " '시',\n",
              " '신',\n",
              " '훼손',\n",
              " '으로',\n",
              " '온',\n",
              " '국민',\n",
              " '을',\n",
              " '경악',\n",
              " '시킨',\n",
              " '고',\n",
              " '*',\n",
              " '정',\n",
              " '보다',\n",
              " '더',\n",
              " '하면',\n",
              " '더',\n",
              " '했지',\n",
              " '결코',\n",
              " '덜',\n",
              " '하지',\n",
              " '않습니다',\n",
              " '.',\n",
              " '상대',\n",
              " '는',\n",
              " '부모',\n",
              " '의',\n",
              " '보살핌이',\n",
              " '가장',\n",
              " '절실',\n",
              " '한',\n",
              " '고작',\n",
              " '7',\n",
              " '개월',\n",
              " '-',\n",
              " '16',\n",
              " '개월',\n",
              " '영',\n",
              " '유아',\n",
              " '였다는',\n",
              " '점',\n",
              " ',',\n",
              " '10',\n",
              " '개월',\n",
              " '의',\n",
              " '장기간',\n",
              " '에',\n",
              " '걸쳐',\n",
              " '24시간',\n",
              " '자행',\n",
              " '된',\n",
              " '잔인한',\n",
              " '학대',\n",
              " '수법',\n",
              " ',',\n",
              " '작은',\n",
              " '아기',\n",
              " '의',\n",
              " '몸',\n",
              " '에',\n",
              " '성',\n",
              " '한',\n",
              " '곳',\n",
              " '이',\n",
              " '없고',\n",
              " '내장',\n",
              " '기관',\n",
              " '이',\n",
              " '절단',\n",
              " '될',\n",
              " '정도',\n",
              " '로',\n",
              " '잔혹한',\n",
              " '살해',\n",
              " '방법',\n",
              " ',',\n",
              " '살해',\n",
              " '후',\n",
              " '죄책감',\n",
              " '없이',\n",
              " '태연하게',\n",
              " '한',\n",
              " '행동',\n",
              " ',',\n",
              " '끝',\n",
              " '까지',\n",
              " '반성',\n",
              " '없이',\n",
              " '혐의',\n",
              " '를',\n",
              " '부인',\n",
              " '하는',\n",
              " '태도',\n",
              " '등',\n",
              " '을',\n",
              " '고려',\n",
              " '할',\n",
              " '때',\n",
              " '전무후무',\n",
              " '하게',\n",
              " '극악',\n",
              " '무도',\n",
              " '합니다',\n",
              " '.',\n",
              " '온',\n",
              " '국민',\n",
              " '의',\n",
              " '알',\n",
              " '권리',\n",
              " '와',\n",
              " ',',\n",
              " '아동학대',\n",
              " '근절',\n",
              " '을',\n",
              " '위',\n",
              " '한',\n",
              " '경',\n",
              " '각심',\n",
              " '을',\n",
              " '위',\n",
              " '해서라도',\n",
              " '저',\n",
              " '부부',\n",
              " '의',\n",
              " '신상',\n",
              " '은',\n",
              " '공개',\n",
              " '되어야',\n",
              " '함',\n",
              " '이',\n",
              " '마땅합니다',\n",
              " '.',\n",
              " '신상',\n",
              " '이',\n",
              " '공개',\n",
              " '되었을',\n",
              " '때',\n",
              " '의',\n",
              " '실익',\n",
              " '이',\n",
              " '훨씬',\n",
              " '크고',\n",
              " ',',\n",
              " '그',\n",
              " '실',\n",
              " '익은',\n",
              " '가해자',\n",
              " '혹은',\n",
              " '가해자',\n",
              " '가족',\n",
              " '중심',\n",
              " '이',\n",
              " '아닌',\n",
              " '피해자',\n",
              " '중심',\n",
              " '으로',\n",
              " '따져',\n",
              " '보아',\n",
              " '야',\n",
              " '합니다',\n",
              " '.',\n",
              " '2',\n",
              " '.',\n",
              " '이',\n",
              " '사건',\n",
              " '에',\n",
              " '대해',\n",
              " '학대',\n",
              " '치사',\n",
              " '가',\n",
              " '아닌',\n",
              " '살인죄',\n",
              " '로',\n",
              " '죄값',\n",
              " '을',\n",
              " '받게',\n",
              " '해주세요',\n",
              " '.',\n",
              " '16',\n",
              " '개월',\n",
              " '아기',\n",
              " '를',\n",
              " '쇳덩이',\n",
              " '로',\n",
              " '수',\n",
              " '차례',\n",
              " '내리',\n",
              " '찍고',\n",
              " '방치',\n",
              " '하면',\n",
              " '죽는다는것을',\n",
              " '모르는',\n",
              " '사람',\n",
              " '은',\n",
              " '없습니다',\n",
              " '.',\n",
              " '죽',\n",
              " '을',\n",
              " '줄',\n",
              " '몰랐다',\n",
              " '한',\n",
              " '들',\n",
              " '그것',\n",
              " '은',\n",
              " '말장난',\n",
              " '에',\n",
              " '불과합니다',\n",
              " '.',\n",
              " '이',\n",
              " '사건',\n",
              " '은',\n",
              " '학대',\n",
              " '부터',\n",
              " '장기간',\n",
              " '계획',\n",
              " '적',\n",
              " '으로',\n",
              " '가해졌지만',\n",
              " ',',\n",
              " '설사',\n",
              " '우발',\n",
              " '적',\n",
              " '이라',\n",
              " '주장',\n",
              " '한',\n",
              " '다',\n",
              " '한',\n",
              " '들',\n",
              " '살인',\n",
              " '은',\n",
              " '살인',\n",
              " '입니다',\n",
              " '.',\n",
              " '미필',\n",
              " '적',\n",
              " '고의',\n",
              " '도',\n",
              " '고의',\n",
              " '입니다',\n",
              " '.',\n",
              " '상대',\n",
              " '는',\n",
              " '힘없고',\n",
              " '말',\n",
              " '못',\n",
              " '하고',\n",
              " ',',\n",
              " '법적',\n",
              " '부모',\n",
              " '인',\n",
              " '가해자',\n",
              " '들',\n",
              " '에게',\n",
              " '학대',\n",
              " '당하면서도',\n",
              " '그',\n",
              " '들',\n",
              " '에게',\n",
              " '의지',\n",
              " '할',\n",
              " '수',\n",
              " '밖에',\n",
              " '없었던',\n",
              " ',',\n",
              " '막',\n",
              " '영아',\n",
              " '를',\n",
              " '벗어난',\n",
              " '힘없는',\n",
              " '16',\n",
              " '개월',\n",
              " '유아',\n",
              " '입니다',\n",
              " '.',\n",
              " '법정',\n",
              " '최고',\n",
              " '형',\n",
              " '인',\n",
              " '사형',\n",
              " '을',\n",
              " '받아도',\n",
              " '모자랄',\n",
              " '잔혹',\n",
              " '범죄',\n",
              " '입니다',\n",
              " '.',\n",
              " '이건',\n",
              " '명백한',\n",
              " '살인',\n",
              " '입니다',\n",
              " '.',\n",
              " '이',\n",
              " '사건',\n",
              " '을',\n",
              " '학대치사죄',\n",
              " '로',\n",
              " '다스린다면',\n",
              " ',',\n",
              " '앞',\n",
              " '으로',\n",
              " '아기',\n",
              " '를',\n",
              " '죽이고싶은',\n",
              " '사람',\n",
              " '들',\n",
              " '은',\n",
              " '살인죄',\n",
              " '보다',\n",
              " '가벼운',\n",
              " '학대치사죄',\n",
              " '를',\n",
              " '받기',\n",
              " '위해',\n",
              " '잔인하게',\n",
              " '학대',\n",
              " '하여',\n",
              " '죽일것이며',\n",
              " ',',\n",
              " '오히려',\n",
              " '아동학대',\n",
              " '를',\n",
              " '권장',\n",
              " '하는',\n",
              " '격',\n",
              " '이',\n",
              " '되고',\n",
              " '맙니',\n",
              " '다',\n",
              " '.',\n",
              " '세',\n",
              " '차례',\n",
              " '나',\n",
              " '경찰',\n",
              " '이',\n",
              " '신고',\n",
              " '를',\n",
              " '가벼이',\n",
              " '여겨',\n",
              " '아기',\n",
              " '를',\n",
              " '죽음',\n",
              " '으로',\n",
              " '몰고',\n",
              " '간',\n",
              " '이',\n",
              " '사건',\n",
              " '을',\n",
              " '학대',\n",
              " '치사',\n",
              " '로',\n",
              " '처리',\n",
              " '하는것은',\n",
              " '공권력',\n",
              " '이',\n",
              " '아기',\n",
              " '를',\n",
              " '두',\n",
              " '번',\n",
              " '죽이는',\n",
              " '일',\n",
              " '입니다',\n",
              " '.',\n",
              " '3',\n",
              " '.',\n",
              " '이번',\n",
              " '16',\n",
              " '개월',\n",
              " '입양아',\n",
              " '학대',\n",
              " '살인',\n",
              " '사건',\n",
              " '의',\n",
              " '자세한',\n",
              " '내막',\n",
              " '을',\n",
              " '대통령',\n",
              " '님',\n",
              " '이',\n",
              " '직접',\n",
              " '읽어',\n",
              " '보시',\n",
              " '고',\n",
              " '직접',\n",
              " '대응',\n",
              " '방안',\n",
              " '에',\n",
              " '대한',\n",
              " '지시',\n",
              " '를',\n",
              " '내려주십시오',\n",
              " '.',\n",
              " '그렇지',\n",
              " '않은',\n",
              " '한',\n",
              " ',',\n",
              " '이번',\n",
              " '사건',\n",
              " '역시',\n",
              " '솜방망이',\n",
              " '처벌',\n",
              " '로',\n",
              " '끝',\n",
              " '이나고',\n",
              " '앞',\n",
              " '으로도',\n",
              " '비슷한',\n",
              " '일',\n",
              " '은',\n",
              " '계속',\n",
              " '반복',\n",
              " '되며',\n",
              " '이',\n",
              " '아기',\n",
              " '의',\n",
              " '죽음',\n",
              " '은',\n",
              " '서서히',\n",
              " '잊혀질',\n",
              " '것',\n",
              " '입니다',\n",
              " '.',\n",
              " '4',\n",
              " '.',\n",
              " '아동학대',\n",
              " '범',\n",
              " ',',\n",
              " '아동성폭행',\n",
              " '범',\n",
              " '과',\n",
              " '아동',\n",
              " '관련',\n",
              " '흉악',\n",
              " '범죄자',\n",
              " '들',\n",
              " '의',\n",
              " '신',\n",
              " '상공',\n",
              " '개',\n",
              " '를',\n",
              " '의무',\n",
              " '화',\n",
              " '하고',\n",
              " ',',\n",
              " '아동학대',\n",
              " '최소',\n",
              " '형',\n",
              " '량',\n",
              " '을',\n",
              " '사형',\n",
              " '으로',\n",
              " '제정',\n",
              " '해주십시오',\n",
              " '.',\n",
              " '학대',\n",
              " '는',\n",
              " '인격',\n",
              " '살인',\n",
              " '입니다',\n",
              " '.',\n",
              " '인격',\n",
              " '살인',\n",
              " '도',\n",
              " '살인',\n",
              " '입니다',\n",
              " '.',\n",
              " '인격',\n",
              " '살인',\n",
              " '을',\n",
              " '신체',\n",
              " '살인',\n",
              " '보다',\n",
              " '가볍게',\n",
              " '보는것은',\n",
              " ',',\n",
              " '지극히',\n",
              " '가해자',\n",
              " '중심',\n",
              " '의',\n",
              " '시선',\n",
              " '입니다',\n",
              " '.',\n",
              " '특별히',\n",
              " '아동',\n",
              " '을',\n",
              " '학대',\n",
              " '하여',\n",
              " '죽음',\n",
              " '까지',\n",
              " '이르게',\n",
              " '하는',\n",
              " '학대',\n",
              " '치사',\n",
              " '의',\n",
              " '경우',\n",
              " '에는',\n",
              " '능지처참',\n",
              " '을',\n",
              " '시켜도',\n",
              " '모자란',\n",
              " '잔혹',\n",
              " '행위',\n",
              " '입니다',\n",
              " '.',\n",
              " '“',\n",
              " '조금',\n",
              " '이라도',\n",
              " '학대',\n",
              " '를',\n",
              " '하면',\n",
              " '무조건',\n",
              " '인생',\n",
              " '끝',\n",
              " '이다',\n",
              " ',',\n",
              " '나도',\n",
              " '잔인하게',\n",
              " '죽는다',\n",
              " '”',\n",
              " '라는',\n",
              " '선례',\n",
              " '를',\n",
              " '남기고',\n",
              " '지금',\n",
              " '도',\n",
              " '어디',\n",
              " '에선',\n",
              " '가',\n",
              " '학대',\n",
              " '를',\n",
              " '가하고',\n",
              " '있을',\n",
              " '학대',\n",
              " '범',\n",
              " '들',\n",
              " '에게',\n",
              " '경',\n",
              " '각심',\n",
              " '을',\n",
              " '주기',\n",
              " '위',\n",
              " '해서라도',\n",
              " '이번',\n",
              " '16',\n",
              " '개월',\n",
              " '입양아',\n",
              " '학대',\n",
              " '사건',\n",
              " '부터',\n",
              " '시행',\n",
              " '되어야',\n",
              " '할',\n",
              " '것',\n",
              " '입니다',\n",
              " '.',\n",
              " '저',\n",
              " '들',\n",
              " '을',\n",
              " '능지처참',\n",
              " '한다',\n",
              " '해도',\n",
              " ',',\n",
              " '어린',\n",
              " '아기',\n",
              " '가',\n",
              " '당했던',\n",
              " '고통',\n",
              " '의',\n",
              " '1/10',\n",
              " '도',\n",
              " '안될',\n",
              " '것',\n",
              " '입니다',\n",
              " '.',\n",
              " '2020년',\n",
              " '에',\n",
              " '사는',\n",
              " '우리',\n",
              " '는',\n",
              " '국민',\n",
              " '정서',\n",
              " '에',\n",
              " '맞지',\n",
              " '않는',\n",
              " '구습',\n",
              " '과',\n",
              " '옛',\n",
              " '선례',\n",
              " ',',\n",
              " '판례',\n",
              " '는',\n",
              " '버려',\n",
              " '야합니다',\n",
              " '.',\n",
              " '누구',\n",
              " '를',\n",
              " '위',\n",
              " '한',\n",
              " '판례',\n",
              " '입',\n",
              " '니까',\n",
              " '?',\n",
              " '이',\n",
              " '시',\n",
              " '대의',\n",
              " '판례',\n",
              " '는',\n",
              " '가해자',\n",
              " '의',\n",
              " '형량',\n",
              " '을',\n",
              " '줄여주는',\n",
              " '역할',\n",
              " '밖에',\n",
              " '못',\n",
              " '합니다',\n",
              " '.',\n",
              " '형벌',\n",
              " '이',\n",
              " '바뀌지',\n",
              " '않는',\n",
              " '한',\n",
              " '아동학대',\n",
              " '에',\n",
              " '대한',\n",
              " '인식',\n",
              " '또한',\n",
              " '변하지',\n",
              " '않을',\n",
              " '것',\n",
              " '입니다',\n",
              " '.',\n",
              " '반드시',\n",
              " '바뀌어야',\n",
              " '합니다',\n",
              " '.',\n",
              " '5',\n",
              " '.',\n",
              " '학대',\n",
              " '신고',\n",
              " '가',\n",
              " '들어왔을',\n",
              " '때',\n",
              " '의',\n",
              " '구체',\n",
              " '적',\n",
              " '이고',\n",
              " '명확한',\n",
              " '대응',\n",
              " '메뉴얼',\n",
              " '을',\n",
              " '제정',\n",
              " '해주시고',\n",
              " ',',\n",
              " '제대로',\n",
              " '대응',\n",
              " '을',\n",
              " '못',\n",
              " '한',\n",
              " '것',\n",
              " '이',\n",
              " '드러났을',\n",
              " '경우',\n",
              " '그',\n",
              " '피해자',\n",
              " '의',\n",
              " '피해',\n",
              " '에',\n",
              " '대한',\n",
              " '책임',\n",
              " '을',\n",
              " '경찰',\n",
              " '에게까지',\n",
              " '물',\n",
              " '을',\n",
              " '수',\n",
              " '있는',\n",
              " '법안',\n",
              " '을',\n",
              " '마련',\n",
              " '해주세요',\n",
              " '.',\n",
              " '이번',\n",
              " '에',\n",
              " '희생',\n",
              " '된',\n",
              " '16',\n",
              " '개월',\n",
              " '입양아',\n",
              " '의',\n",
              " '경우',\n",
              " ',',\n",
              " '세',\n",
              " '차례',\n",
              " '나',\n",
              " '신고',\n",
              " '가',\n",
              " '되었고',\n",
              " '의사',\n",
              " '의',\n",
              " '학대',\n",
              " '소견',\n",
              " '까지',\n",
              " '있었음에도',\n",
              " '용의자',\n",
              " '의',\n",
              " '말',\n",
              " '만',\n",
              " '듣고',\n",
              " '수사',\n",
              " '를',\n",
              " '제대로',\n",
              " '하지',\n",
              " '않아',\n",
              " '한',\n",
              " '생명',\n",
              " '이',\n",
              " '죽음',\n",
              " '까지',\n",
              " '이르',\n",
              " '렀습',\n",
              " '니',\n",
              " '다',\n",
              " '.',\n",
              " '이번',\n",
              " '에',\n",
              " '죽은',\n",
              " '아기',\n",
              " '의',\n",
              " '죽음',\n",
              " '은',\n",
              " ',',\n",
              " '반드시',\n",
              " '그',\n",
              " '담당',\n",
              " '경찰관',\n",
              " '들',\n",
              " '에게까지',\n",
              " '그',\n",
              " '책임',\n",
              " '을',\n",
              " '물어',\n",
              " '야합니다',\n",
              " '.',\n",
              " '그러나',\n",
              " '경찰서',\n",
              " '서장',\n",
              " '이',\n",
              " '사퇴',\n",
              " '한다',\n",
              " '한',\n",
              " '들',\n",
              " '죽은',\n",
              " '아기',\n",
              " '가',\n",
              " '돌아옵니까',\n",
              " '?',\n",
              " '죽은',\n",
              " '아이',\n",
              " '는',\n",
              " '돌아오지',\n",
              " '않습니다',\n",
              " '.',\n",
              " '아기',\n",
              " '의',\n",
              " '죽음',\n",
              " '을',\n",
              " '헛되',\n",
              " '지',\n",
              " '않게',\n",
              " '하기',\n",
              " '위해',\n",
              " '서는',\n",
              " '반드시',\n",
              " '아동학대',\n",
              " '에',\n",
              " '대한',\n",
              " '법',\n",
              " '이',\n",
              " '강력하게',\n",
              " '개정',\n",
              " '되어야하고',\n",
              " ',',\n",
              " '개정',\n",
              " '에서',\n",
              " '머무를',\n",
              " '것',\n",
              " '이',\n",
              " '아니라',\n",
              " '전례',\n",
              " '없는',\n",
              " '강도',\n",
              " '의',\n",
              " '새로운',\n",
              " '법안',\n",
              " '들',\n",
              " '도',\n",
              " '만들어져야',\n",
              " '할',\n",
              " '것',\n",
              " '입니다',\n",
              " '.',\n",
              " '6',\n",
              " '.',\n",
              " '이',\n",
              " '땅',\n",
              " '에',\n",
              " '태어난',\n",
              " '귀한',\n",
              " '생명',\n",
              " '조차',\n",
              " '지키지',\n",
              " '못',\n",
              " '하면서',\n",
              " ',',\n",
              " '출산율',\n",
              " '을',\n",
              " '논',\n",
              " '할',\n",
              " '자격',\n",
              " '은',\n",
              " '없습니다',\n",
              " '.',\n",
              " '탁상공론',\n",
              " '실효',\n",
              " '성',\n",
              " '없는',\n",
              " '출산',\n",
              " '정책',\n",
              " '에',\n",
              " '지출',\n",
              " '되는',\n",
              " '보',\n",
              " '이기',\n",
              " '식',\n",
              " '세금',\n",
              " '낭비',\n",
              " '에',\n",
              " '치중',\n",
              " '하기',\n",
              " '전',\n",
              " '에',\n",
              " ',',\n",
              " '태어난',\n",
              " '아기',\n",
              " '들',\n",
              " '부터',\n",
              " '보호',\n",
              " '하는',\n",
              " '강력한',\n",
              " '아동학대',\n",
              " '처벌',\n",
              " '법',\n",
              " '을',\n",
              " '만들어주십시오',\n",
              " '!!!!!!',\n",
              " '다른',\n",
              " '곳',\n",
              " '에',\n",
              " '갔다면',\n",
              " '충분히',\n",
              " '사랑받을',\n",
              " '수',\n",
              " '있었던',\n",
              " '천사',\n",
              " '같은',\n",
              " '어린',\n",
              " '아기',\n",
              " '를',\n",
              " '지켜주지',\n",
              " '못',\n",
              " '한',\n",
              " '제도',\n",
              " '적',\n",
              " '시스템',\n",
              " '을',\n",
              " '개선',\n",
              " '해주시고',\n",
              " ',',\n",
              " '전례',\n",
              " '없는',\n",
              " '강력한',\n",
              " '처벌',\n",
              " '로',\n",
              " '선례',\n",
              " '를',\n",
              " '만들어',\n",
              " '아동학대',\n",
              " '에',\n",
              " '대한',\n",
              " '인식',\n",
              " '을',\n",
              " '바꾸는',\n",
              " '계기',\n",
              " '로',\n",
              " '삼아',\n",
              " '죄',\n",
              " '없이',\n",
              " '고통',\n",
              " '만',\n",
              " '당하다',\n",
              " '처참하게',\n",
              " '죽은',\n",
              " '16',\n",
              " '개월',\n",
              " '아기',\n",
              " '의',\n",
              " '죽음',\n",
              " '이',\n",
              " '헛되',\n",
              " '지',\n",
              " '않도록',\n",
              " '도와주세요',\n",
              " '.',\n",
              " '그',\n",
              " '아기',\n",
              " '도',\n",
              " '이나라',\n",
              " '의',\n",
              " '국민',\n",
              " '이었습니다',\n",
              " '.',\n",
              " '간곡히',\n",
              " '간절히',\n",
              " '부탁드립니다',\n",
              " '.',\n",
              " '학대',\n",
              " '를',\n",
              " '근절',\n",
              " '하는',\n",
              " '가장',\n",
              " '효과',\n",
              " '적',\n",
              " '인',\n",
              " '방법',\n",
              " '은',\n",
              " '경',\n",
              " '중',\n",
              " '에',\n",
              " '상관없이',\n",
              " '학대',\n",
              " '를',\n",
              " '살인죄',\n",
              " '로',\n",
              " '다스리고',\n",
              " '법정',\n",
              " '최고',\n",
              " '형',\n",
              " '을',\n",
              " '선고',\n",
              " '하는',\n",
              " '것',\n",
              " '입니다',\n",
              " '.',\n",
              " '[',\n",
              " '본',\n",
              " '게시',\n",
              " '물의',\n",
              " ...]"
            ]
          },
          "metadata": {
            "tags": []
          },
          "execution_count": 28
        }
      ]
    },
    {
      "cell_type": "markdown",
      "metadata": {
        "id": "o66l2KG92n8v"
      },
      "source": [
        "token이 몇 개인지 봅시다"
      ]
    },
    {
      "cell_type": "code",
      "metadata": {
        "colab": {
          "base_uri": "https://localhost:8080/"
        },
        "id": "gcuXTo9YJ6FG",
        "outputId": "f67887cb-60ac-4c0f-d556-a17e9782c580"
      },
      "source": [
        "ko = nltk.Text(tokens_ko, name='인권/성평등 청원내용')\n",
        "print(len(ko.tokens))\n",
        "print(len(set(ko.tokens))) # 중복 제거 후! "
      ],
      "execution_count": 29,
      "outputs": [
        {
          "output_type": "stream",
          "text": [
            "31391\n",
            "5917\n"
          ],
          "name": "stdout"
        }
      ]
    },
    {
      "cell_type": "code",
      "metadata": {
        "colab": {
          "base_uri": "https://localhost:8080/"
        },
        "id": "bTWWcoP5K6aM",
        "outputId": "39439f58-9ebf-4461-af43-718a1b2b7eb8"
      },
      "source": [
        "ko = nltk.Text(tokens_ko, name='청원내용')\n",
        "ko.vocab().most_common(100)"
      ],
      "execution_count": 30,
      "outputs": [
        {
          "output_type": "execute_result",
          "data": {
            "text/plain": [
              "[('.', 1008),\n",
              " ('을', 923),\n",
              " ('이', 733),\n",
              " ('의', 682),\n",
              " ('에', 534),\n",
              " ('를', 507),\n",
              " (',', 489),\n",
              " ('가', 411),\n",
              " ('은', 306),\n",
              " ('는', 287),\n",
              " ('들', 287),\n",
              " ('으로', 271),\n",
              " ('한', 245),\n",
              " ('피해자', 243),\n",
              " ('가해자', 232),\n",
              " ('것', 222),\n",
              " ('로', 170),\n",
              " ('입니다', 167),\n",
              " ('수', 165),\n",
              " ('사건', 164),\n",
              " ('과', 162),\n",
              " ('에서', 156),\n",
              " ('도', 149),\n",
              " ('하는', 138),\n",
              " ('와', 135),\n",
              " ('하고', 134),\n",
              " ('그', 129),\n",
              " ('적', 127),\n",
              " ('할', 124),\n",
              " (\"'\", 120),\n",
              " ('합니다', 117),\n",
              " ('제', 117),\n",
              " ('에게', 116),\n",
              " ('저', 114),\n",
              " ('(', 110),\n",
              " ('고', 104),\n",
              " ('인', 103),\n",
              " (')', 102),\n",
              " ('여성', 101),\n",
              " ('‘', 100),\n",
              " ('하여', 90),\n",
              " ('처벌', 90),\n",
              " ('’', 88),\n",
              " ('등', 85),\n",
              " ('까지', 79),\n",
              " ('딸', 77),\n",
              " ('?', 71),\n",
              " ('또한', 69),\n",
              " ('된', 68),\n",
              " ('수사', 67),\n",
              " ('1', 66),\n",
              " ('국민', 64),\n",
              " ('2', 63),\n",
              " ('못', 63),\n",
              " ('경찰', 63),\n",
              " ('다', 61),\n",
              " ('있습니다', 61),\n",
              " ('성', 58),\n",
              " ('사람', 56),\n",
              " ('진술', 56),\n",
              " ('증거', 55),\n",
              " ('범죄', 52),\n",
              " ('있는', 52),\n",
              " (':', 51),\n",
              " ('일', 50),\n",
              " ('생각', 50),\n",
              " ('위', 49),\n",
              " ('아동', 49),\n",
              " ('피해', 49),\n",
              " ('만', 49),\n",
              " ('안', 49),\n",
              " ('보호', 48),\n",
              " ('친구', 48),\n",
              " ('해', 48),\n",
              " ('말', 47),\n",
              " ('자신', 47),\n",
              " ('위해', 44),\n",
              " ('성폭행', 44),\n",
              " ('->', 44),\n",
              " ('성범죄', 44),\n",
              " ('\\n', 43),\n",
              " ('검사', 43),\n",
              " ('명', 43),\n",
              " ('강간', 42),\n",
              " ('하지', 41),\n",
              " ('물', 41),\n",
              " ('청원', 41),\n",
              " ('하였습니다', 41),\n",
              " ('후', 39),\n",
              " ('3', 39),\n",
              " ('중', 39),\n",
              " ('대한', 38),\n",
              " ('행위', 38),\n",
              " ('분', 38),\n",
              " ('없는', 37),\n",
              " ('내용', 37),\n",
              " ('그리고', 37),\n",
              " ('폭행', 37),\n",
              " ('했습니다', 36),\n",
              " ('더', 35)]"
            ]
          },
          "metadata": {
            "tags": []
          },
          "execution_count": 30
        }
      ]
    },
    {
      "cell_type": "markdown",
      "metadata": {
        "id": "pD6YsutJ2n8x"
      },
      "source": [
        "불용어가 한가득이네요... 이제 한땀한땀 불용어를 제거해주도록 합시다"
      ]
    },
    {
      "cell_type": "code",
      "metadata": {
        "colab": {
          "base_uri": "https://localhost:8080/"
        },
        "id": "PTtUWZU9LPqm",
        "outputId": "7fed72e9-4b45-4d85-bda0-d0fa8665e31f"
      },
      "source": [
        "stop_words = ['.','을','이','의','를','에',',','가','들','은','는','으로','한','도',\n",
        "              '수','에서','로','것','그','과','제','입니다','할','하고','적',\"'\",'하는',\n",
        "              '합니다','와','에게','고','인',')','?','하여','등','저','있습니다','말','까지',\n",
        "              '(','1','그리고','다','2','만','딸','했습니다','안','된','못','일','더','위',\n",
        "              '있는','해','\\n','또한','명','하지','..','정말','물','많은','\"',\n",
        "              '중','3','게','너무','A','자','이런','때','되지','위해','에는','없는',\n",
        "              '및','요','때문','관련','대한','전','라고','되었습니다','하기','나','후','같은','해서',\n",
        "              '글','되어','주','차','하','내','없이','대해','잘', '‘']\n",
        "\n",
        "tokens_ko = [each_word for each_word in tokens_ko if each_word not in stop_words]\n",
        "\n",
        "ko = nltk.Text(tokens_ko, name='인권/성평등 청원내용')\n",
        "ko.vocab().most_common(50)"
      ],
      "execution_count": 44,
      "outputs": [
        {
          "output_type": "execute_result",
          "data": {
            "text/plain": [
              "[('피해자', 243),\n",
              " ('가해자', 232),\n",
              " ('사건', 164),\n",
              " ('여성', 101),\n",
              " ('처벌', 90),\n",
              " ('’', 88),\n",
              " ('수사', 67),\n",
              " ('국민', 64),\n",
              " ('경찰', 63),\n",
              " ('성', 58),\n",
              " ('사람', 56),\n",
              " ('진술', 56),\n",
              " ('증거', 55),\n",
              " ('범죄', 52),\n",
              " (':', 51),\n",
              " ('생각', 50),\n",
              " ('아동', 49),\n",
              " ('피해', 49),\n",
              " ('보호', 48),\n",
              " ('친구', 48),\n",
              " ('자신', 47),\n",
              " ('성폭행', 44),\n",
              " ('->', 44),\n",
              " ('성범죄', 44),\n",
              " ('검사', 43),\n",
              " ('강간', 42),\n",
              " ('청원', 41),\n",
              " ('하였습니다', 41),\n",
              " ('행위', 38),\n",
              " ('분', 38),\n",
              " ('내용', 37),\n",
              " ('폭행', 37),\n",
              " ('법', 35),\n",
              " ('이유', 35),\n",
              " ('술', 35),\n",
              " ('서', 33),\n",
              " ('사실', 33),\n",
              " ('결과', 33),\n",
              " ('영상', 33),\n",
              " ('청소년', 33),\n",
              " ('부터', 32),\n",
              " ('중위', 32),\n",
              " ('님', 31),\n",
              " ('성폭력', 31),\n",
              " ('저희', 30),\n",
              " ('판결', 30),\n",
              " ('이상', 30),\n",
              " ('여자', 30),\n",
              " ('신랑', 29),\n",
              " ('신고', 28)]"
            ]
          },
          "metadata": {
            "tags": []
          },
          "execution_count": 44
        }
      ]
    },
    {
      "cell_type": "code",
      "metadata": {
        "colab": {
          "base_uri": "https://localhost:8080/",
          "height": 424
        },
        "id": "d01Ybp4oOCYr",
        "outputId": "cd02d7e6-f8ba-4a52-8d6a-4a788530318b"
      },
      "source": [
        "plt.figure(figsize=(15,6))\n",
        "ko.plot(50)\n",
        "plt.show()"
      ],
      "execution_count": 45,
      "outputs": [
        {
          "output_type": "display_data",
          "data": {
            "image/png": "[encoded data removed]",
            "text/plain": [
              "<Figure size 1080x432 with 1 Axes>"
            ]
          },
          "metadata": {
            "tags": [],
            "image/png": {
              "width": 890,
              "height": 407
            },
            "needs_background": "light"
          }
        }
      ]
    },
    {
      "cell_type": "markdown",
      "metadata": {
        "id": "65gHDhlSW4aC"
      },
      "source": [
        "'피해자', '가해자', '사건', '여성', '처벌' 순으로 Top 5 words가 나왔습니다."
      ]
    },
    {
      "cell_type": "code",
      "metadata": {
        "id": "5kvj6Fu7O3mo"
      },
      "source": [
        "from wordcloud import WordCloud, STOPWORDS\n",
        "from PIL import Image"
      ],
      "execution_count": 46,
      "outputs": []
    },
    {
      "cell_type": "code",
      "metadata": {
        "id": "U_tD8VWKPbwz"
      },
      "source": [
        "data = dict(ko.vocab().most_common(150))"
      ],
      "execution_count": 47,
      "outputs": []
    },
    {
      "cell_type": "code",
      "metadata": {
        "colab": {
          "base_uri": "https://localhost:8080/",
          "height": 366
        },
        "id": "dAsragDwPDEW",
        "outputId": "0513ea12-e2e1-408b-8ed3-5ce222871d98"
      },
      "source": [
        "# for win : font_path='c:/Windows/Fonts/malgun.ttf'\n",
        "# 나눔바른고딕 글씨체 있으면 가능, 없을 경우 font_path를 바꾸세요!\n",
        "wordcloud = WordCloud(font_path='/usr/share/fonts/truetype/nanum/NanumBarunGothic.ttf',\n",
        "                      relative_scaling = 0.2,\n",
        "                      background_color='white',).generate_from_frequencies(data)\n",
        "plt.figure(figsize=(12,8))\n",
        "plt.imshow(wordcloud)\n",
        "plt.axis(\"off\")\n",
        "plt.show()"
      ],
      "execution_count": 48,
      "outputs": [
        {
          "output_type": "display_data",
          "data": {
            "image/png": "[encoded data removed]",
            "text/plain": [
              "<Figure size 864x576 with 1 Axes>"
            ]
          },
          "metadata": {
            "tags": [],
            "image/png": {
              "width": 683,
              "height": 349
            },
            "needs_background": "light"
          }
        }
      ]
    },
    {
      "cell_type": "markdown",
      "metadata": {
        "id": "Qv4atCtuyJ7J"
      },
      "source": [
        "### Word2Vec을 이용해 단어간 유사성 찾기 \n",
        "\n",
        " 이런 것도 있구나~ 정도만 생각하고 넘어가지면 됩니다. word2vec이라는게 있는데 이것을 통해서 (맥락 포함한) 단어간 유사성을 볼 수 있겠구나 하구요. gensim이라는 모듈에서 word2vec을 제공하고 있습니다.\n"
      ]
    },
    {
      "cell_type": "code",
      "metadata": {
        "id": "zlQSmTNmybFm"
      },
      "source": [
        "import gensim \n",
        "from gensim.models import word2vec"
      ],
      "execution_count": 49,
      "outputs": []
    },
    {
      "cell_type": "code",
      "metadata": {
        "id": "KK02IkwlPXPA"
      },
      "source": [
        "okt = Okt()\n",
        "results = []\n",
        "\n",
        "for line in humanRights['청원내용']: \n",
        "  # 형태소 분석 \n",
        "  malist = okt.pos(line, norm=True, stem=True)\n",
        "  # print(malist)\n",
        "  r = []\n",
        "\n",
        "  # word2vec 실행\n",
        "  for word in malist: \n",
        "    if not word[1] in ['Josa', 'Eomi','punctuation']:\n",
        "      r.append(word[0])\n",
        "\n",
        "  r1 = (\" \".join(r)).strip()\n",
        "  results.append(r1)\n",
        "  # print(r1)"
      ],
      "execution_count": 50,
      "outputs": []
    },
    {
      "cell_type": "code",
      "metadata": {
        "id": "Ih-69H8nHi2N"
      },
      "source": [
        "data_file = 'human_rights.data'\n",
        "with open(data_file, 'w', encoding='utf-8') as fp: \n",
        "  fp.write(\"\\n\".join(results))"
      ],
      "execution_count": 51,
      "outputs": []
    },
    {
      "cell_type": "markdown",
      "metadata": {
        "id": "-WuWNgmU2Qfj"
      },
      "source": [
        "만든 데이터 날라가지 않도록 우선 저장부터 해두고요! "
      ]
    },
    {
      "cell_type": "code",
      "metadata": {
        "id": "JsNtUFm5JFdR"
      },
      "source": [
        "data = word2vec.LineSentence(data_file)\n",
        "model = word2vec.Word2Vec(data, size=200, window=10, hs=1, min_count=2, sg=1)\n",
        "\n",
        "model.save('human_rights.model')"
      ],
      "execution_count": 52,
      "outputs": []
    },
    {
      "cell_type": "code",
      "metadata": {
        "colab": {
          "base_uri": "https://localhost:8080/"
        },
        "id": "OJUp6hxwJQWL",
        "outputId": "b230f272-79e8-44eb-eec8-ee3c75fc829c"
      },
      "source": [
        "model = word2vec.Word2Vec.load(\"human_rights.model\")\n",
        "# 1st 단어: 피해자\n",
        "model.most_similar(positive=['피해자'])"
      ],
      "execution_count": 53,
      "outputs": [
        {
          "output_type": "stream",
          "text": [
            "/usr/local/lib/python3.6/dist-packages/ipykernel_launcher.py:3: DeprecationWarning: Call to deprecated `most_similar` (Method will be removed in 4.0.0, use self.wv.most_similar() instead).\n",
            "  This is separate from the ipykernel package so we can avoid doing imports until\n"
          ],
          "name": "stderr"
        },
        {
          "output_type": "execute_result",
          "data": {
            "text/plain": [
              "[('사진', 0.9150283932685852),\n",
              " ('협박', 0.9141892194747925),\n",
              " ('군', 0.9038378000259399),\n",
              " ('동영상', 0.8973603248596191),\n",
              " ('계속', 0.8948149681091309),\n",
              " ('찍다', 0.8926734328269958),\n",
              " ('대부분', 0.8920836448669434),\n",
              " ('성희롱', 0.8918523788452148),\n",
              " ('하다', 0.8872294425964355),\n",
              " ('태도', 0.8833484053611755)]"
            ]
          },
          "metadata": {
            "tags": []
          },
          "execution_count": 53
        }
      ]
    },
    {
      "cell_type": "markdown",
      "metadata": {
        "id": "j_HprxSzXqpr"
      },
      "source": [
        "피해자와 긍정적으로 연관된 단어들입니다. 어떤 의미에서 긍정적인걸까요?"
      ]
    },
    {
      "cell_type": "code",
      "metadata": {
        "colab": {
          "base_uri": "https://localhost:8080/"
        },
        "id": "3DykTkkrJyjd",
        "outputId": "a33f9e16-c51d-47de-a5c2-30d7e4b1548b"
      },
      "source": [
        "# 2nd 단어: 가해자\n",
        "model.most_similar(positive=['가해자'])"
      ],
      "execution_count": 54,
      "outputs": [
        {
          "output_type": "stream",
          "text": [
            "/usr/local/lib/python3.6/dist-packages/ipykernel_launcher.py:2: DeprecationWarning: Call to deprecated `most_similar` (Method will be removed in 4.0.0, use self.wv.most_similar() instead).\n",
            "  \n"
          ],
          "name": "stderr"
        },
        {
          "output_type": "execute_result",
          "data": {
            "text/plain": [
              "[('후배', 0.9411976933479309),\n",
              " ('자신', 0.9370536208152771),\n",
              " ('먹이다', 0.9356449246406555),\n",
              " ('마시다', 0.9276288151741028),\n",
              " ('방치', 0.9196041822433472),\n",
              " ('말다', 0.9166461229324341),\n",
              " ('찍다', 0.9161152243614197),\n",
              " ('사망', 0.9123244285583496),\n",
              " ('게임', 0.9117426872253418),\n",
              " ('부르다', 0.9114404916763306)]"
            ]
          },
          "metadata": {
            "tags": []
          },
          "execution_count": 54
        }
      ]
    },
    {
      "cell_type": "markdown",
      "metadata": {
        "id": "3J1ZwhkcX2BA"
      },
      "source": [
        "가해자와 긍정적으로 연관된 단어들입니다. 피해자하고 확연히 차이가 나네요."
      ]
    },
    {
      "cell_type": "code",
      "metadata": {
        "colab": {
          "base_uri": "https://localhost:8080/"
        },
        "id": "WmR2WfJcKTYw",
        "outputId": "044db06b-307d-4cd7-e753-7828deab3807"
      },
      "source": [
        "model.most_similar(positive=['여성', '성범죄'])"
      ],
      "execution_count": 55,
      "outputs": [
        {
          "output_type": "stream",
          "text": [
            "/usr/local/lib/python3.6/dist-packages/ipykernel_launcher.py:1: DeprecationWarning: Call to deprecated `most_similar` (Method will be removed in 4.0.0, use self.wv.most_similar() instead).\n",
            "  \"\"\"Entry point for launching an IPython kernel.\n"
          ],
          "name": "stderr"
        },
        {
          "output_type": "execute_result",
          "data": {
            "text/plain": [
              "[('화장실', 0.9136096239089966),\n",
              " ('남성', 0.8988600969314575),\n",
              " ('그중', 0.8833297491073608),\n",
              " ('저지르다', 0.8829664587974548),\n",
              " ('기회', 0.8800559043884277),\n",
              " ('디지털', 0.8772540092468262),\n",
              " ('동시', 0.8739908933639526),\n",
              " ('크다', 0.8736681342124939),\n",
              " ('Target', 0.8703141808509827),\n",
              " ('세계', 0.8680324554443359)]"
            ]
          },
          "metadata": {
            "tags": []
          },
          "execution_count": 55
        }
      ]
    },
    {
      "cell_type": "markdown",
      "metadata": {
        "id": "JuXl0_5DYBPj"
      },
      "source": [
        "여성과 성범죄 두 단어와 함께 관련된 단어들의 리스트입니다. 여러가지가 나오네요. "
      ]
    },
    {
      "cell_type": "markdown",
      "metadata": {
        "id": "_ADlFxvoYHp5"
      },
      "source": [
        "## 과제\n",
        "\n",
        "여기서 끝내긴 너무 아쉬우니 과제가 나갑니다. 원망의 소리가 들리는 건 착각이겠죠? ㅎㅎ EDA 중심으로 한번 배워본 것들을 복습해봅시다. \n",
        "\n",
        "- 과제1:\n",
        "참여인원순 Top10 카테고리를 정렬하여 데이터프레임으로 나타내고, 이를 잘 나타낼 수 있는 표를 사용해 시각화 해주세요. \n",
        "\n",
        "- 과제2: \n",
        "petition의 청원시작일 칼럼은 청원이 게시된 날짜, 청원답변일은 청원이 답변된 날짜를 의미합니다. 이를 활용해 1) 청원 게시일부터 청원이 답변된 날짜까지의 평균을 구하고, 2) 카테고리별 평균 청원답변일수를 구하여 데이터프레임으로 나타내세요. \n",
        "\n",
        "- 과제3: \n",
        "카테고리 정치개혁의 청원내용을 wordcloud로 시각화하세요."
      ]
    },
    {
      "cell_type": "markdown",
      "metadata": {
        "id": "B6a_2zdEMVjI"
      },
      "source": [
        "## 공부를 끝내며 \n",
        "\n",
        "드디어 대망의 한글 자연어 처리 기초가 마무리되었습니다. 더불어 데분 스터디도 마무리되고요. 열심히 공부한 당신, 수고하셨습니다👏👏👏\n",
        "\n",
        "완벽하게 모든 코드를 섭렵하고 이해하고 그러지는 못했을 겁니다. 그게 당연한거에요. 실제 엔지니어들도 모든 코드들을 다 외워서 쓰지 않습니다. 뻥인 것 같다고요? 아니에요! 진짜 엔지니어들도 매일매일 구글링 해가면서 코딩합니다. 중요한 것은 이러한 분석기법이, 코딩기법이 있다는 것을 아는 것입니다.👩‍💻\n",
        "\n",
        "데이터분석 입문 스터디의 궁극적인 목표는 '기술적 상상력💻'을 길러주는 것입니다. 어떤 문제상황을 기술로서 해결할 수 있다는 가능성을 보여주는게 스터디의 가장 큰 목적입니다. 계속 까먹고, 잘 못하고 그런게 무슨 상관이 있나요. 예전에는 이런 방식으로 분석하는 것이 여러분들의 선택지에 없었다면, 이제는 잘 못하더라도 이렇게 해석하고 분석할 수 있다는 선택지의 방향이 생겼다는 사실에 의미를 둡시다. 자, 이제 자신이 정말 대단해보이지 않나요?\n",
        "\n",
        "다음주부터는 COCO(Cosadama Conference) 준비를 시작합니다. 여태까지 배운 지식들을 실제 데이터에 적용해 여러분들이 직접!!! 분석을 해볼 거예요. 어떠한 주제를, 어떠한 데이터를 갖고 분석해볼지 고민해보면 좋을 것 같습니다.\n",
        "\n",
        "두근두근💕 설렘을 가득 안고 COCO도 화이팅~"
      ]
    }
  ]
}