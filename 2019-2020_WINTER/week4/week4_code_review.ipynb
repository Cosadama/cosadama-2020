{
  "nbformat": 4,
  "nbformat_minor": 0,
  "metadata": {
    "colab": {
      "name": "week4_code_review.ipynb",
      "provenance": [],
      "collapsed_sections": [],
      "authorship_tag": "ABX9TyOvSp8ZaPkOwopHRuQD40FM",
      "include_colab_link": true
    },
    "kernelspec": {
      "name": "python3",
      "display_name": "Python 3"
    }
  },
  "cells": [
    {
      "cell_type": "markdown",
      "metadata": {
        "id": "view-in-github",
        "colab_type": "text"
      },
      "source": [
        "<a href=\"https://colab.research.google.com/github/givemetarte/cosadama/blob/master/week4_code_review.ipynb\" target=\"_parent\"><img src=\"https://colab.research.google.com/assets/colab-badge.svg\" alt=\"Open In Colab\"/></a>"
      ]
    },
    {
      "cell_type": "markdown",
      "metadata": {
        "id": "SJTSJ-WBYtxJ",
        "colab_type": "text"
      },
      "source": [
        "#Week3 코드 리뷰 \n",
        "작성자: 박하람  \n",
        "작성일: 2020-02-03\n",
        "\n",
        "![독일 뮌헨](https://t1.daumcdn.net/thumb/R720x0/?fname=http://t1.daumcdn.net/brunch/service/user/16iq/image/eUyxUNgJIXRO9lN7VwnhR14C2tU.jpg)\n",
        "p.s. 저는 뮌헨에서 고구마튀김을 먹고 맥주를 드링킹하며 코드리뷰를 쓰고 있습니다!\n",
        "\n",
        "\n",
        "4주차 과제가 그리 쉽진은 않았던 것 같습니다ㅎㅎ 그래도 지난주에 비해 열심히 과제를 참여해주셔서 기분이 좋네요! 그럼 오늘도 코드 리뷰를 한번 시작해볼까요? "
      ]
    },
    {
      "cell_type": "markdown",
      "metadata": {
        "id": "2WjbmnYvZ3_Z",
        "colab_type": "text"
      },
      "source": [
        "## 문제 1번 \n",
        "\n",
        "흠,,, 생각보다 여러가지 답안이 나와서 놀랐던 문제입니다. 문제 의도는 문자열 포매팅을 사용해서 문자를 예쁘게 출력하는 것이었습니다. 당연히 배운 것을 응용하게 문제를 내니 배운 내용을 떠올려서 코드를 작성하는 것이 이상적입니다! "
      ]
    },
    {
      "cell_type": "markdown",
      "metadata": {
        "id": "JZR4KjcUcYrK",
        "colab_type": "text"
      },
      "source": [
        "* GMS님의 답안이 제일 저의 의도에 부합한 답인데요. 다만, 세번째 153.288%를 출력하는 부분이 아쉽습니다. \n"
      ]
    },
    {
      "cell_type": "code",
      "metadata": {
        "id": "u3ax0IFGaQ-P",
        "colab_type": "code",
        "outputId": "65b18f8f-3e56-4117-e81d-2e2d07ae4f09",
        "colab": {
          "base_uri": "https://localhost:8080/",
          "height": 68
        }
      },
      "source": [
        "#GMS \n",
        "print('% 7.5s' % 'Hong')\n",
        "print('% 4.3d' % 273)\n",
        "print('% 9.3f' % 153.288, end = ''\n",
        "      '%')"
      ],
      "execution_count": 0,
      "outputs": [
        {
          "output_type": "stream",
          "text": [
            "   Hong\n",
            " 273\n",
            "  153.288%"
          ],
          "name": "stdout"
        }
      ]
    },
    {
      "cell_type": "markdown",
      "metadata": {
        "id": "o0_D2SnGcuUO",
        "colab_type": "text"
      },
      "source": [
        "가장 제 의도에 부합하고 깔끔한 코드는 바로 우리 멘토 문희님의 코드입니다! \n",
        "\n",
        "* 첫번째 줄은 뒤의 빈칸을 생각할 필요없이 hong까지 입력된 칸의 수만 세면 됩니다. **print 함수 자체가 기본적으로 줄바꿈이 내장**되어 있으니까요. \n",
        "* 두번째 줄 또한 이렇게 간단하게 표시할 수 있겠죠? \n",
        "* 세번째 줄은 **%를 이스케이프 코드로 간단하게 표시할 수 있는지**까지 물어보는 것이었는데요. 여러분들 중 한 분도 요런 생각을 하시지 않은 것 같아서 요것을 챙겨가시면 좋겠죠? "
      ]
    },
    {
      "cell_type": "code",
      "metadata": {
        "id": "1AX_mV6Hc8ou",
        "colab_type": "code",
        "outputId": "8af42c26-5d1a-47a8-ba6b-418ec4a245a8",
        "colab": {
          "base_uri": "https://localhost:8080/",
          "height": 68
        }
      },
      "source": [
        "print(\"%7s\" % \"HONG\")\n",
        "print(\"%4d\" % 273)\n",
        "print(\"%9.3f%%\" %153.288)\n"
      ],
      "execution_count": 0,
      "outputs": [
        {
          "output_type": "stream",
          "text": [
            "   HONG\n",
            " 273\n",
            "  153.288%\n"
          ],
          "name": "stdout"
        }
      ]
    },
    {
      "cell_type": "markdown",
      "metadata": {
        "id": "eoYD4BK-d2_C",
        "colab_type": "text"
      },
      "source": [
        "사실 제가 print 문을 하나만 써서 이것을 만들어라고 문제를 냈어야 하는 것인데, 그 조건을 안적었더라구요...ㅠㅠ 그래서 print 문 하나만으로 이것을 만들면 아래와 같이 만들 수 있습니다! 굉장히 간단하죠? "
      ]
    },
    {
      "cell_type": "code",
      "metadata": {
        "id": "9qnxc95rc-Kc",
        "colab_type": "code",
        "outputId": "13eb45fe-f9a0-406e-9b7b-ddfcfe5d74bf",
        "colab": {
          "base_uri": "https://localhost:8080/",
          "height": 68
        }
      },
      "source": [
        "print(\"%7s\\n%4d\\n%9.3f%%\" % (\"HONG\", 273, 153.288))"
      ],
      "execution_count": 0,
      "outputs": [
        {
          "output_type": "stream",
          "text": [
            "   HONG\n",
            " 273\n",
            "  153.288%\n"
          ],
          "name": "stdout"
        }
      ]
    },
    {
      "cell_type": "markdown",
      "metadata": {
        "id": "zUK7axfceYih",
        "colab_type": "text"
      },
      "source": [
        "## 문제 2번 \n",
        "\n",
        "대체적으로 2번 문제는 잘 풀어주셨습니다. for문과 문자열 포매팅을 사용해서 문제를 해결하는 것이었는데요, 다만 마지막 문자열 포매팅을 사용할 때 더 쉽게 사용할 수 있는 방법을 익힐 필요가 있습니다. \n",
        "\n",
        "* 혜진, 세훈, GMS, 성지현은 아래와 같이 잘 해결해주셨습니다. 대표적으로 혜진님의 코드를 가져와 봤습니다. 마지막 프린트문을 제외하고 코드도 깔끔하고 데이터의 특성에 맞게 변수 이름도 잘 써주었어요."
      ]
    },
    {
      "cell_type": "code",
      "metadata": {
        "id": "HJig2i3-ehxR",
        "colab_type": "code",
        "outputId": "3c769983-fd91-4a3f-8f86-598e593e9fc1",
        "colab": {
          "base_uri": "https://localhost:8080/",
          "height": 102
        }
      },
      "source": [
        "#혜진, 세훈, GMS, 성지현\n",
        "\n",
        "import random\n",
        "student = [ '백현', '찬열', '경수', '준면', '세훈' ]\n",
        "\n",
        "for i in student:\n",
        "    kor_score = random.randint(1,100)\n",
        "    eng_score = random.randint(1,100)\n",
        "    mth_score = random.randint(1,100)\n",
        "    total = kor_score + eng_score + mth_score\n",
        "    ave = total/3\n",
        "    print( i, ': 국어 -', \"%3d\" % kor_score, '영어 -', \"%3d\" % eng_score, '수학 -', \"%3d\" % mth_score, '총점 -', \"%3d\" % total, '평균 -', \"%6.2f\" % ave)"
      ],
      "execution_count": 0,
      "outputs": [
        {
          "output_type": "stream",
          "text": [
            "백현 : 국어 -  99 영어 -  22 수학 -  23 총점 - 144 평균 -  48.00\n",
            "찬열 : 국어 -  44 영어 -  51 수학 -  63 총점 - 158 평균 -  52.67\n",
            "경수 : 국어 -  31 영어 -  60 수학 -  23 총점 - 114 평균 -  38.00\n",
            "준면 : 국어 -  37 영어 -  42 수학 -  21 총점 - 100 평균 -  33.33\n",
            "세훈 : 국어 -  85 영어 -  56 수학 -  54 총점 - 195 평균 -  65.00\n"
          ],
          "name": "stdout"
        }
      ]
    },
    {
      "cell_type": "markdown",
      "metadata": {
        "id": "5F4F6bojgOo3",
        "colab_type": "text"
      },
      "source": [
        "* 제가 의도한 프린트문은 아래의 프린트문과 같습니다. 문희님의 코드를 가져와봤는데요, 아래와 같이 프린트문을 쓰면 더욱 더 편하게 문자열 포매팅을 사용할 수 있습니다. **여러 변수들을 튜플에다가 담아주면 되요!**\n",
        "* 문희님은 이렇게 Report_card라는 딕셔너리를 만들어 주셨습니다. 위와 같이 코드 작성시 따로 데이터를 담아줄 수 없으므로, 아래와 같이 **딕셔너리를 사용해 데이터를 담을 수 있도록 하는 것**도 중요합니다. "
      ]
    },
    {
      "cell_type": "code",
      "metadata": {
        "id": "Y483uVc5gNeC",
        "colab_type": "code",
        "outputId": "777124ee-598d-454f-de30-939ee72a24e7",
        "colab": {
          "base_uri": "https://localhost:8080/",
          "height": 122
        }
      },
      "source": [
        "student = ['a','b','c','d','e']\n",
        "import random\n",
        "Report_card = {}\n",
        "for i in student:\n",
        "\tk = int(random.randint(1,101))\n",
        "\te = int(random.randint(1,101))\n",
        "\tm = int(random.randint(1,101))\n",
        "  # 딕셔너리에다 각 점수와 총점, 평균을 리스트에 담아 value 값으로 넣어주는 것!\n",
        "\tReport_card[i] = [[k,e,m],k+e+m,(k+e+m)/3]\n",
        "\tprint(\"%s학생의 %s점수는 %3d점, %s점수는 %3d점, %s점수는 %3d점, 총점은 %3d점, 평균은 %0.2f점입니다.\" % (i,\"국어\",k,\"영어\",e,\"수학\",\n",
        "\t\t\t\tm,Report_card[i][1],Report_card[i][2]))\n"
      ],
      "execution_count": 0,
      "outputs": [
        {
          "output_type": "stream",
          "text": [
            "a학생의 국어점수는  62점, 영어점수는  79점, 수학점수는  48점, 총점은 189점, 평균은 63.00점입니다.\n",
            "b학생의 국어점수는  94점, 영어점수는   8점, 수학점수는  66점, 총점은 168점, 평균은 56.00점입니다.\n",
            "c학생의 국어점수는  68점, 영어점수는  70점, 수학점수는   2점, 총점은 140점, 평균은 46.67점입니다.\n",
            "d학생의 국어점수는  29점, 영어점수는  69점, 수학점수는  22점, 총점은 120점, 평균은 40.00점입니다.\n",
            "e학생의 국어점수는  83점, 영어점수는  97점, 수학점수는  72점, 총점은 252점, 평균은 84.00점입니다.\n"
          ],
          "name": "stdout"
        }
      ]
    },
    {
      "cell_type": "markdown",
      "metadata": {
        "id": "7XJ7vTjLhvDO",
        "colab_type": "text"
      },
      "source": [
        "## 문제 3번 \n",
        "\n",
        "재미있는 문제죠? 이 문제는 다들 잘 풀어주셨더라구요! 다만 좀 더 세련되게 프린트를 해주면 좋을 것 같습니다. 그냥 딕셔너리만 덜렁 프린트 하는 것보다는요."
      ]
    },
    {
      "cell_type": "code",
      "metadata": {
        "id": "-zS6zcibiMX9",
        "colab_type": "code",
        "outputId": "0802aee0-4222-4664-eae2-9ada8fe132ec",
        "colab": {
          "base_uri": "https://localhost:8080/",
          "height": 71
        }
      },
      "source": [
        "# 세훈, 혜진, 용주, GMS, 유동호, 성지현\n",
        "sentence = \"Not all that Mrs Bennet however with the assistance of her five daughters could ask on the subject was sufficent to draw from her husband any satisfactory description of Mr Bingley\"\n",
        "sentence_low = sentence.lower()\n",
        "print('m이 사용된 횟수는', sentence_low.count('m'))\n",
        "words = sentence_low.split(\" \")\n",
        "words.sort()\n",
        "novel_words={}\n",
        "for i in words:\n",
        "    novel_words[i] = words.count(i)\n",
        "print(novel_words)"
      ],
      "execution_count": 0,
      "outputs": [
        {
          "output_type": "stream",
          "text": [
            "m이 사용된 횟수는 3\n",
            "{'all': 1, 'any': 1, 'ask': 1, 'assistance': 1, 'bennet': 1, 'bingley': 1, 'could': 1, 'daughters': 1, 'description': 1, 'draw': 1, 'five': 1, 'from': 1, 'her': 2, 'however': 1, 'husband': 1, 'mr': 1, 'mrs': 1, 'not': 1, 'of': 2, 'on': 1, 'satisfactory': 1, 'subject': 1, 'sufficent': 1, 'that': 1, 'the': 2, 'to': 1, 'was': 1, 'with': 1}\n"
          ],
          "name": "stdout"
        }
      ]
    },
    {
      "cell_type": "markdown",
      "metadata": {
        "id": "QmxvwJM6jcfR",
        "colab_type": "text"
      },
      "source": [
        "그래서 가져온 것이 문희님의 코드입니다! **딕셔너리에 있는 데이터들을 하나씩 표시하고 싶을 때에는 아래와 같이 for문을 사용하여 출력하면 좋습니다.** 문자열 포매팅까지 해서 정말 이쁘게 출력되었죠!"
      ]
    },
    {
      "cell_type": "code",
      "metadata": {
        "id": "5dy15H6BjQi-",
        "colab_type": "code",
        "outputId": "d497cf72-1943-4767-cf83-61d7f61f6dc9",
        "colab": {
          "base_uri": "https://localhost:8080/",
          "height": 510
        }
      },
      "source": [
        "sentence =\"\"\"Not all that Mrs Bennet however with the assistance of her five daughters could ask on the subject was sufficient to draw from her husband any satisfactory description of Mr Bingley\"\"\"\n",
        "\n",
        "a = sentence.upper()\n",
        "print(\"m은 총 %d회 출현합니다.\" % a.count(\"M\"))\n",
        "\n",
        "word_list = list(a.split(\" \"))\n",
        "word_list.sort()\n",
        "word_dic = {}\n",
        "for i in word_list:\n",
        "    if i in word_dic.keys():\n",
        "        word_dic[i] = word_dic[i] + 1\n",
        "    else:\n",
        "        word_dic[i] = 1\n",
        "for i in word_dic:\n",
        "    print(\"%-20s 출현횟수 : %d회\" % (i,word_dic[i]))"
      ],
      "execution_count": 0,
      "outputs": [
        {
          "output_type": "stream",
          "text": [
            "m은 총 3회 출현합니다.\n",
            "ALL                  출현횟수 : 1회\n",
            "ANY                  출현횟수 : 1회\n",
            "ASK                  출현횟수 : 1회\n",
            "ASSISTANCE           출현횟수 : 1회\n",
            "BENNET               출현횟수 : 1회\n",
            "BINGLEY              출현횟수 : 1회\n",
            "COULD                출현횟수 : 1회\n",
            "DAUGHTERS            출현횟수 : 1회\n",
            "DESCRIPTION          출현횟수 : 1회\n",
            "DRAW                 출현횟수 : 1회\n",
            "FIVE                 출현횟수 : 1회\n",
            "FROM                 출현횟수 : 1회\n",
            "HER                  출현횟수 : 2회\n",
            "HOWEVER              출현횟수 : 1회\n",
            "HUSBAND              출현횟수 : 1회\n",
            "MR                   출현횟수 : 1회\n",
            "MRS                  출현횟수 : 1회\n",
            "NOT                  출현횟수 : 1회\n",
            "OF                   출현횟수 : 2회\n",
            "ON                   출현횟수 : 1회\n",
            "SATISFACTORY         출현횟수 : 1회\n",
            "SUBJECT              출현횟수 : 1회\n",
            "SUFFICIENT           출현횟수 : 1회\n",
            "THAT                 출현횟수 : 1회\n",
            "THE                  출현횟수 : 2회\n",
            "TO                   출현횟수 : 1회\n",
            "WAS                  출현횟수 : 1회\n",
            "WITH                 출현횟수 : 1회\n"
          ],
          "name": "stdout"
        }
      ]
    },
    {
      "cell_type": "markdown",
      "metadata": {
        "id": "mX5eueXZkAzi",
        "colab_type": "text"
      },
      "source": [
        "## 문제 4번 \n",
        "\n",
        "제가 처음 풀었을 때 이것 때문에 상당히 애를 먹었던 것이 기억나네요ㅎㅎ 저는 처음에 replace를 생각해주지 못했거든요. 그래서 +와 -를 모두 다른 리스트에 넣어주어 넣고 빼고 하느라 상당히 고생을 했다는...😂 여러분들은 모두 replace를 사용해서 잘 풀어주셨습니다! 대표적인 예시는 혜진님 것을 가져와 봤어요 \n"
      ]
    },
    {
      "cell_type": "code",
      "metadata": {
        "id": "lr8rt6AYjRIT",
        "colab_type": "code",
        "colab": {}
      },
      "source": [
        "# 혜진\n",
        "math = input('수식을 입력하세요: ')\n",
        "\n",
        "math_1 = math.replace(\"-\", \"+-\")\n",
        "math_2 = math_1.split(\"+\")\n",
        "result = 0\n",
        "for i in math_2:\n",
        "    result = result + int(i)\n",
        "    \n",
        "print('결과는', result)\n"
      ],
      "execution_count": 0,
      "outputs": []
    },
    {
      "cell_type": "markdown",
      "metadata": {
        "id": "gneGBfNClXeG",
        "colab_type": "text"
      },
      "source": [
        "## 문제 5번 \n",
        "\n",
        "대망의 5번 문제! 이 문제가 여러분들에게 가장 어려웠을 것으로 예상했는데요, 몇몇 분들은 못 푼분들도 있는 것 같네요. 그래서 예시 코드를 드릴테니 잘 복습해보시면 도움이 될 것 같습니다.\n",
        "p.s. 여러분의 자기소개 멘트가 너무 웃겼습니다..ㅋㅋㅋㅋ 경제학에 관심이 있어 공양미 3백석과 자신을 등가교환한 심청이, 순쇠고기 패티 햄버거ㅋㅋㅋㅋㅋ \n",
        "\n",
        "* 이번 문제에 좋은 코드를 작성해주신 분들은 성지현, 김세훈, GMS 님입니다. 코드가 짧아 더 효율적으로 문제를 잘 풀어주셨어요. \n",
        "\n",
        "* 성지현님과 김세훈님께서는 자기소개서 첫줄을 잘 분석해서 분류해주셨어요. 먼저 자기소개서의 첫번째 줄만 분리한 다음, 자기 소개서가 '저'로 시작하는지, '제'로 시작하는지 분류했죠. '저'로 시작하면 인덱스 -3번째 문자열이 '합'인지 '입'인지 구분하여 이름만 출력해주셨습니다. 문자열 인덱싱도 잘 활용하여 만들어주셨어요! "
      ]
    },
    {
      "cell_type": "code",
      "metadata": {
        "id": "f1EIe88alkyA",
        "colab_type": "code",
        "outputId": "81c9aabe-8d52-4f4a-d167-a6b1bd8599d8",
        "colab": {
          "base_uri": "https://localhost:8080/",
          "height": 51
        }
      },
      "source": [
        "# 성지현, 김세훈\n",
        "self_intro=input('자기소개서를 작성하세요.')\n",
        "first_sentence=self_intro.split('.')[0]\n",
        "if first_sentence[0]=='저':\n",
        "    if  first_sentence[-3]=='합':\n",
        "        name=first_sentence[first_sentence.index('저')+3:first_sentence.index('이라고')]\n",
        "    else:\n",
        "        name=first_sentence[first_sentence.index('저')+3:first_sentence.index('입')]\n",
        "else:\n",
        "    name=first_sentence[first_sentence.index('은')+2:first_sentence.index('입')]\n",
        "print(\"이름: %s\"%name)"
      ],
      "execution_count": 0,
      "outputs": [
        {
          "output_type": "stream",
          "text": [
            "자기소개서를 작성하세요.제 이름은 심청입니다.\n",
            "이름: 심청\n"
          ],
          "name": "stdout"
        }
      ]
    },
    {
      "cell_type": "markdown",
      "metadata": {
        "id": "WMcfQz2JocwJ",
        "colab_type": "text"
      },
      "source": [
        "* 조금 더 업그레이드 된 답안이 바로 GMS님의 답안입니다. **find**를 활용해서 더욱 쉽게 만들어주셨어요. 위의 코드 보다는 이 코드가 활용도가 높다고 할 수 있겠네요. (즉, 다른 비슷한 프로그램을 만들 때 재사용에 용이하다는 겁니다.) "
      ]
    },
    {
      "cell_type": "code",
      "metadata": {
        "id": "AzmpGyYJmP9K",
        "colab_type": "code",
        "outputId": "dea5d158-6120-46e7-8821-8d7fe6ff5fae",
        "colab": {
          "base_uri": "https://localhost:8080/",
          "height": 51
        }
      },
      "source": [
        "# GMS\n",
        "self = input('문장을 입력하세요')\n",
        "intro = self.split('.')[0]\n",
        "if intro.find('저는') == -1 :\n",
        "    name = intro[intro.index('이름은') + 3 : intro.index('입니다')]\n",
        "elif intro.find('입니다') == -1 :\n",
        "    name = intro[intro.index('저는') + 2 : intro.index('이라고')]\n",
        "else :\n",
        "    name = intro[intro.index('저는') + 2 : intro.index('입니다')]\n",
        "print('이름 :%s' % name)\n"
      ],
      "execution_count": 0,
      "outputs": [
        {
          "output_type": "stream",
          "text": [
            "문장을 입력하세요제 이름은 심청입니다.\n",
            "이름 : 심청\n"
          ],
          "name": "stdout"
        }
      ]
    },
    {
      "cell_type": "markdown",
      "metadata": {
        "id": "2_mFZA3cpopB",
        "colab_type": "text"
      },
      "source": [
        "* 그 다음, 우리 멘토 문희님처럼 이름을 **strip()**으로 처리해주어 더욱 더 깔끔하게 이름만 추출해줄 수 있습니다. 자기소개서에는 어떠한 내용이 들어갈 지 모르니 만일을 대비해 요렇게 더 깔끔하게 처리할 수 있다는 것 잊지마세요! \n",
        "\n",
        "* 그러나 find를 활용하게 될 경우에는 예상치 못한 이름에는 적절히 대응하지 못할 수 있습니다. 예를 들어 이름이 '이라고'라면? 아래와 같이 오류가 뜨겠죠... 이렇듯 프로그래밍은 예상치못한 변수까지 모두 생각해야 한다는 사실! "
      ]
    },
    {
      "cell_type": "code",
      "metadata": {
        "id": "NGtcaJO_osgE",
        "colab_type": "code",
        "outputId": "49cb21fa-87e9-43a1-ebf9-4069cbdd3bca",
        "colab": {
          "base_uri": "https://localhost:8080/",
          "height": 269
        }
      },
      "source": [
        "introduction = str(input(\"문장을 입력하세요.\"))\n",
        "\n",
        "i= introduction.split('.')[0]\n",
        "\n",
        "if i.find('저는') == -1:\n",
        "    name = i[i.index('이름은')+3:i.index('입니다')].strip()\n",
        "elif i.find('라고') != -1 :\n",
        "    name = i[i.index(\"저는\")+2:i.index('라고')].strip()\n",
        "else :\n",
        "    name = i[i.index('저는')+2:i.index('입니다')].strip()\n",
        "print(\"이름: %s\" % name)"
      ],
      "execution_count": 0,
      "outputs": [
        {
          "output_type": "stream",
          "text": [
            "문장을 입력하세요.제 이름은 이라고합니다.\n"
          ],
          "name": "stdout"
        },
        {
          "output_type": "error",
          "ename": "ValueError",
          "evalue": "ignored",
          "traceback": [
            "\u001b[0;31m---------------------------------------------------------------------------\u001b[0m",
            "\u001b[0;31mValueError\u001b[0m                                Traceback (most recent call last)",
            "\u001b[0;32m<ipython-input-18-7e0ae4671330>\u001b[0m in \u001b[0;36m<module>\u001b[0;34m()\u001b[0m\n\u001b[1;32m      4\u001b[0m \u001b[0;34m\u001b[0m\u001b[0m\n\u001b[1;32m      5\u001b[0m \u001b[0;32mif\u001b[0m \u001b[0mi\u001b[0m\u001b[0;34m.\u001b[0m\u001b[0mfind\u001b[0m\u001b[0;34m(\u001b[0m\u001b[0;34m'저는'\u001b[0m\u001b[0;34m)\u001b[0m \u001b[0;34m==\u001b[0m \u001b[0;34m-\u001b[0m\u001b[0;36m1\u001b[0m\u001b[0;34m:\u001b[0m\u001b[0;34m\u001b[0m\u001b[0;34m\u001b[0m\u001b[0m\n\u001b[0;32m----> 6\u001b[0;31m     \u001b[0mname\u001b[0m \u001b[0;34m=\u001b[0m \u001b[0mi\u001b[0m\u001b[0;34m[\u001b[0m\u001b[0mi\u001b[0m\u001b[0;34m.\u001b[0m\u001b[0mindex\u001b[0m\u001b[0;34m(\u001b[0m\u001b[0;34m'이름은'\u001b[0m\u001b[0;34m)\u001b[0m\u001b[0;34m+\u001b[0m\u001b[0;36m3\u001b[0m\u001b[0;34m:\u001b[0m\u001b[0mi\u001b[0m\u001b[0;34m.\u001b[0m\u001b[0mindex\u001b[0m\u001b[0;34m(\u001b[0m\u001b[0;34m'입니다'\u001b[0m\u001b[0;34m)\u001b[0m\u001b[0;34m]\u001b[0m\u001b[0;34m.\u001b[0m\u001b[0mstrip\u001b[0m\u001b[0;34m(\u001b[0m\u001b[0;34m)\u001b[0m\u001b[0;34m\u001b[0m\u001b[0;34m\u001b[0m\u001b[0m\n\u001b[0m\u001b[1;32m      7\u001b[0m \u001b[0;32melif\u001b[0m \u001b[0mi\u001b[0m\u001b[0;34m.\u001b[0m\u001b[0mfind\u001b[0m\u001b[0;34m(\u001b[0m\u001b[0;34m'라고'\u001b[0m\u001b[0;34m)\u001b[0m \u001b[0;34m!=\u001b[0m \u001b[0;34m-\u001b[0m\u001b[0;36m1\u001b[0m \u001b[0;34m:\u001b[0m\u001b[0;34m\u001b[0m\u001b[0;34m\u001b[0m\u001b[0m\n\u001b[1;32m      8\u001b[0m     \u001b[0mname\u001b[0m \u001b[0;34m=\u001b[0m \u001b[0mi\u001b[0m\u001b[0;34m[\u001b[0m\u001b[0mi\u001b[0m\u001b[0;34m.\u001b[0m\u001b[0mindex\u001b[0m\u001b[0;34m(\u001b[0m\u001b[0;34m\"저는\"\u001b[0m\u001b[0;34m)\u001b[0m\u001b[0;34m+\u001b[0m\u001b[0;36m2\u001b[0m\u001b[0;34m:\u001b[0m\u001b[0mi\u001b[0m\u001b[0;34m.\u001b[0m\u001b[0mindex\u001b[0m\u001b[0;34m(\u001b[0m\u001b[0;34m'라고'\u001b[0m\u001b[0;34m)\u001b[0m\u001b[0;34m]\u001b[0m\u001b[0;34m.\u001b[0m\u001b[0mstrip\u001b[0m\u001b[0;34m(\u001b[0m\u001b[0;34m)\u001b[0m\u001b[0;34m\u001b[0m\u001b[0;34m\u001b[0m\u001b[0m\n",
            "\u001b[0;31mValueError\u001b[0m: substring not found"
          ]
        }
      ]
    },
    {
      "cell_type": "markdown",
      "metadata": {
        "id": "2YViapRbq1NL",
        "colab_type": "text"
      },
      "source": [
        "이렇게 4주차 코드 리뷰를 해보았습니다. 여러분들이 잘 해주고 계셔서 넘넘 뿌듯하네요🥰 여러분은 궁금하지 않으시겠지만, 저는 뮌헨에서 요 4주차 리뷰글을 작성하고 있답니다! 공교롭게도 우리 멘토 문희님께서도 독일에 있어 곧 만납니다ㅎㅎ 저희끼리 먼저 회식을 좀 할게요...🍎\n",
        "\n",
        "그럼 건강 조심하시고, 다음 주차 코드 리뷰로 다시 만나용!"
      ]
    }
  ]
}