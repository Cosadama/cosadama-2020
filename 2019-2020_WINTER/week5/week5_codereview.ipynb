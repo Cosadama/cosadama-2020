{
  "nbformat": 4,
  "nbformat_minor": 0,
  "metadata": {
    "colab": {
      "name": "week5_codereview.ipynb",
      "provenance": [],
      "collapsed_sections": [],
      "include_colab_link": true
    },
    "kernelspec": {
      "name": "python3",
      "display_name": "Python 3"
    }
  },
  "cells": [
    {
      "cell_type": "markdown",
      "metadata": {
        "id": "view-in-github",
        "colab_type": "text"
      },
      "source": [
        "<a href=\"https://colab.research.google.com/github/givemetarte/cosadama/blob/master/week5_codereview.ipynb\" target=\"_parent\"><img src=\"https://colab.research.google.com/assets/colab-badge.svg\" alt=\"Open In Colab\"/></a>"
      ]
    },
    {
      "cell_type": "markdown",
      "metadata": {
        "id": "4d5WwCJgXD0y",
        "colab_type": "text"
      },
      "source": [
        "#Week 5 : Code Review\n",
        "####작성자 : 김문희 \n",
        "\n",
        "이번주에는 [seed님](https://colab.research.google.com/drive/14cp_TSn0VTtxUoeW4b_MliPQFTTIMeMb#scrollTo=maC-f9n7nSLO&forceEdit=true&sandboxMode=true),[pensurf님](https://colab.research.google.com/drive/1EOnGCc7AsSdXZ-2GPgOYvn1gcmqZ7jbg?authuser=1),[정찬님](https://colab.research.google.com/drive/1h5fMcsfj0aFTYJM6X1v-xN-glawFwNk-?authuser=1), [GMS님](https://colab.research.google.com/drive/1UYuDGCV2Bv7WqnKd156TE8tGNmldDJxl?authuser=1#scrollTo=Ttg8QPHNwgc-),[유동호님](https://colab.research.google.com/drive/1SmUobHo-Klr5sD6Q2zRGyyne7MIkmy7y)이 코드를 제출해주셨습니다! 짝짝짝!! \n",
        "\n",
        "저는 미리 공부해보면서 이번주가 고단한 주가 될거란걸 알고 있었어요. \n",
        "\n",
        "그렇지만 세상은 항상 견딜만큼의 시련만 준다고 하잖아요. 내가 이정도 과제는 가뿐히 넘길 수 있는 사람이라는 뜻이구나하고 스스로에게 마구 칭찬해줍시다. \n",
        "\n",
        "이번 주에 다양한 이유로 코드를 제출하지 못하신 분들이 있으실텐데요. 밀렸다고 생각하지 마시고 스터디를 끝내봅시다. 6주차는 5주차와 독립적인 내용이니까, 5주차를 못하셨더라도 충분히 공부하실 수 있을거에요. \n",
        "\n",
        "그럼 코드리뷰를 시작해보겠습니다! \n"
      ]
    },
    {
      "cell_type": "markdown",
      "metadata": {
        "id": "IXWCQdxkU4fF",
        "colab_type": "text"
      },
      "source": [
        "#두둥탁. 시작하기전에 __콜랩으로 파일불러오기__를 같이 배워볼까요?"
      ]
    },
    {
      "cell_type": "code",
      "metadata": {
        "id": "DmMGvBkAU9QB",
        "colab_type": "code",
        "colab": {}
      },
      "source": [
        "# 각자의 csv 파일을 공유 드라이브에 올린 후, 콜랩에서 불러올 수 있게 하기\n",
        "# 출처: http://studycolab.blogspot.com/2018/05/colaboratory-load-file-from-google-drive.html\n",
        "\n",
        "!pip install -U -q PyDrive\n",
        "\n",
        "\n",
        "from pydrive.auth import GoogleAuth\n",
        "\n",
        "from pydrive.drive import GoogleDrive\n",
        "\n",
        "from google.colab import auth\n",
        "\n",
        "from oauth2client.client import GoogleCredentials \n",
        "\n",
        "\n",
        "auth.authenticate_user()\n",
        "\n",
        "gauth = GoogleAuth()\n",
        "\n",
        "gauth.credentials = GoogleCredentials.get_application_default()\n",
        "\n",
        "drive = GoogleDrive(gauth)\n",
        "\n",
        "# key 입력해서 본인 계정으로 로그인 해주세요"
      ],
      "execution_count": 0,
      "outputs": []
    },
    {
      "cell_type": "code",
      "metadata": {
        "id": "M9Y2fmbZVHS_",
        "colab_type": "code",
        "colab": {}
      },
      "source": [
        "# 공유폴더에 csv올려주세요\n",
        "# 올라가있는 csv파일경로로 가서 우클릭,\n",
        "# '공유 가능한 링크 가져오기'누르면 나오는 주소 중 id= 뒷부분이 file_id 입니다:\n",
        "# 예시) https://drive.google.com/open?id=1me-5icTS7lt59s3mxqEtl7ZTYFvm-1pa\n",
        "\n",
        "file_id = '1me-5icTS7lt59s3mxqEtl7ZTYFvm-1pa'\n",
        "\n",
        "downloaded = drive.CreateFile({'id': file_id})\n",
        "\n",
        "downloaded.GetContentFile('dict_test.txt')  # 구글 드라이브에 새롭게 업로드\n",
        "downloaded = drive.CreateFile({'id':'1XtRkObAJZ_7_twnZg8ClPaeBhdHrvOWU'})\n",
        "downloaded.GetContentFile('flowchart.jpg')\n",
        "\n",
        "\n",
        "# 앞으로 부를 파일명으로 맘대로 적어주심 됩니다.\n",
        "# 밑에서 해당 파일명으로 불러올거에요.\n",
        "#모르겠다구요~ 그럼 그냥 넘어가세요~ "
      ],
      "execution_count": 0,
      "outputs": []
    },
    {
      "cell_type": "markdown",
      "metadata": {
        "id": "mLP8tz9MlPtz",
        "colab_type": "text"
      },
      "source": [
        "##좋은 코드란?\n",
        "좋은 코드란? Clean code that works\n",
        "\n",
        "[GMS님](https://colab.research.google.com/drive/1UYuDGCV2Bv7WqnKd156TE8tGNmldDJxl?authuser=1#scrollTo=Ttg8QPHNwgc-)\n",
        "의 코드는 그런 점에서 아주 좋은 코드라고 말할 수 있겠습니다.\n",
        "-  GMS님은 ```random.sample```과 리스트의 ```count()```를 사용하여 코드를 간결하게 만들었습니다.  \n",
        "- 특히, 딕셔너리 클래스를 훌륭하게 이해하고 이를 로직에 활용하였습니다.\n",
        "- 다만 아쉬운 점은 변수명과 함수명을 이해하기 힘들다는 것입니다. \n",
        "프로그래밍은 팀플레이이니 다른 사람이 알아보기 쉬운 코드스타일을 사용하는 것이 좋습니다.\n",
        "- GMS님의 코드\n",
        "```\n",
        "def lotto(i) :\n",
        "    rdm = random.sample(range(1, 46), 6)\n",
        "    return rdm\n",
        "ind = []\n",
        "for i in range(1, 10) :\n",
        "    Ln = lotto(i)\n",
        "    print('%d회 :' % i, Ln[ : ])\n",
        "    for i in range(0, 6) :\n",
        "        ind.append(Ln[i])\n",
        "fre = []\n",
        "for i in range(1, 46) :\n",
        "    a = ind.count(i)\n",
        "    print(i, ':', '%d회' % a)\n",
        "    fre.append(a)\n",
        "fre.sort(reverse = True)\n",
        "```"
      ]
    },
    {
      "cell_type": "markdown",
      "metadata": {
        "id": "pjgEgII8L-fP",
        "colab_type": "text"
      },
      "source": [
        "협업을 가능하게 하는 읽기 쉬운 코드\n",
        "\n",
        "- [seed](https://colab.research.google.com/drive/14cp_TSn0VTtxUoeW4b_MliPQFTTIMeMb#scrollTo=maC-f9n7nSLO&forceEdit=true&sandboxMode=true)님과 [유동호](https://colab.research.google.com/drive/1SmUobHo-Klr5sD6Q2zRGyyne7MIkmy7y)님은 읽기쉬운 변수명과 함수명을 사용해, 코워커들의 코드 이해를 도와주었습니다. \n",
        "- 동호님의 코드\n",
        "```\n",
        "  before_lotto=lotto_generator()\n",
        "  for i in before_lotto:\n",
        "    print(i, end=\" \")\n",
        "  print(\"\\n\")\n",
        "  numbers.append(before_lotto)  \n",
        "  ```\n",
        "- 보겸님의 코드 \n",
        "```\n",
        "f = open(\"dict_test.txt\", \"r\")\n",
        "my_word = input(\"단어? : \")\n",
        "while my_word != \"종료\" :\n",
        "````\n"
      ]
    },
    {
      "cell_type": "markdown",
      "metadata": {
        "id": "ycVOptkpYZE0",
        "colab_type": "text"
      },
      "source": [
        "#문제해결 절차를 고민하기(알고리즘) \n",
        "\n",
        "아래 코드를 잘 읽고 왜 에러가 났을지 생각해봅시다.\n",
        "\n"
      ]
    },
    {
      "cell_type": "code",
      "metadata": {
        "id": "HP-28ym_L9vO",
        "colab_type": "code",
        "outputId": "6cd44d7d-f005-453e-8eba-494974a9e465",
        "colab": {
          "base_uri": "https://localhost:8080/",
          "height": 378
        }
      },
      "source": [
        "# 과제 3번\n",
        "\n",
        "f = open(\"dict_test.txt\", \"r\")\n",
        "my_word = input(\"단어? : \")\n",
        "while my_word != \"종료\" :\n",
        "    while True :\n",
        "        line = f.readline()\n",
        "        line = line[:-1]\n",
        "        split_line = line.split(\":\")\n",
        "        sword = split_line[0].strip()\n",
        "        if sword == my_word :\n",
        "            print(line)\n",
        "            break\n",
        "        else : continue\n",
        "        if not line :\n",
        "            print(\"그런 단어는 없습니다\")\n",
        "    my_word = input(\"단어? : \")\n",
        "    continue\n",
        "f.close()\n",
        "\n",
        "#사전 자체는 잘 돌아가는데, 없는 단어를 입력하면 프로그램 진행이 안 되네요. 흠... 이건 어떻게 해결하면 좋을까요?\n"
      ],
      "execution_count": 0,
      "outputs": [
        {
          "output_type": "stream",
          "text": [
            "단어? : ANGEL\n"
          ],
          "name": "stdout"
        },
        {
          "output_type": "error",
          "ename": "KeyboardInterrupt",
          "evalue": "ignored",
          "traceback": [
            "\u001b[0;31m---------------------------------------------------------------------------\u001b[0m",
            "\u001b[0;31mKeyboardInterrupt\u001b[0m                         Traceback (most recent call last)",
            "\u001b[0;32m<ipython-input-4-3b2c69434ff1>\u001b[0m in \u001b[0;36m<module>\u001b[0;34m()\u001b[0m\n\u001b[1;32m      4\u001b[0m \u001b[0;32mwhile\u001b[0m \u001b[0mmy_word\u001b[0m \u001b[0;34m!=\u001b[0m \u001b[0;34m\"종료\"\u001b[0m \u001b[0;34m:\u001b[0m\u001b[0;34m\u001b[0m\u001b[0;34m\u001b[0m\u001b[0m\n\u001b[1;32m      5\u001b[0m     \u001b[0;32mwhile\u001b[0m \u001b[0;32mTrue\u001b[0m \u001b[0;34m:\u001b[0m\u001b[0;34m\u001b[0m\u001b[0;34m\u001b[0m\u001b[0m\n\u001b[0;32m----> 6\u001b[0;31m         \u001b[0mline\u001b[0m \u001b[0;34m=\u001b[0m \u001b[0mf\u001b[0m\u001b[0;34m.\u001b[0m\u001b[0mreadline\u001b[0m\u001b[0;34m(\u001b[0m\u001b[0;34m)\u001b[0m\u001b[0;34m\u001b[0m\u001b[0;34m\u001b[0m\u001b[0m\n\u001b[0m\u001b[1;32m      7\u001b[0m         \u001b[0mline\u001b[0m \u001b[0;34m=\u001b[0m \u001b[0mline\u001b[0m\u001b[0;34m[\u001b[0m\u001b[0;34m:\u001b[0m\u001b[0;34m-\u001b[0m\u001b[0;36m1\u001b[0m\u001b[0;34m]\u001b[0m\u001b[0;34m\u001b[0m\u001b[0;34m\u001b[0m\u001b[0m\n\u001b[1;32m      8\u001b[0m         \u001b[0msplit_line\u001b[0m \u001b[0;34m=\u001b[0m \u001b[0mline\u001b[0m\u001b[0;34m.\u001b[0m\u001b[0msplit\u001b[0m\u001b[0;34m(\u001b[0m\u001b[0;34m\":\"\u001b[0m\u001b[0;34m)\u001b[0m\u001b[0;34m\u001b[0m\u001b[0;34m\u001b[0m\u001b[0m\n",
            "\u001b[0;32m/usr/lib/python3.6/codecs.py\u001b[0m in \u001b[0;36mdecode\u001b[0;34m(self, input, final)\u001b[0m\n\u001b[1;32m    316\u001b[0m         \u001b[0;32mraise\u001b[0m \u001b[0mNotImplementedError\u001b[0m\u001b[0;34m\u001b[0m\u001b[0;34m\u001b[0m\u001b[0m\n\u001b[1;32m    317\u001b[0m \u001b[0;34m\u001b[0m\u001b[0m\n\u001b[0;32m--> 318\u001b[0;31m     \u001b[0;32mdef\u001b[0m \u001b[0mdecode\u001b[0m\u001b[0;34m(\u001b[0m\u001b[0mself\u001b[0m\u001b[0;34m,\u001b[0m \u001b[0minput\u001b[0m\u001b[0;34m,\u001b[0m \u001b[0mfinal\u001b[0m\u001b[0;34m=\u001b[0m\u001b[0;32mFalse\u001b[0m\u001b[0;34m)\u001b[0m\u001b[0;34m:\u001b[0m\u001b[0;34m\u001b[0m\u001b[0;34m\u001b[0m\u001b[0m\n\u001b[0m\u001b[1;32m    319\u001b[0m         \u001b[0;31m# decode input (taking the buffer into account)\u001b[0m\u001b[0;34m\u001b[0m\u001b[0;34m\u001b[0m\u001b[0;34m\u001b[0m\u001b[0m\n\u001b[1;32m    320\u001b[0m         \u001b[0mdata\u001b[0m \u001b[0;34m=\u001b[0m \u001b[0mself\u001b[0m\u001b[0;34m.\u001b[0m\u001b[0mbuffer\u001b[0m \u001b[0;34m+\u001b[0m \u001b[0minput\u001b[0m\u001b[0;34m\u001b[0m\u001b[0;34m\u001b[0m\u001b[0m\n",
            "\u001b[0;31mKeyboardInterrupt\u001b[0m: "
          ]
        }
      ]
    },
    {
      "cell_type": "markdown",
      "metadata": {
        "id": "GEecf6q8qcN7",
        "colab_type": "text"
      },
      "source": [
        "- seed의 문제해결절차를 살펴봅시다. \n",
        "![보겸코드](http://drive.google.com/uc?export=view&id=1XtRkObAJZ_7_twnZg8ClPaeBhdHrvOWU)\n"
      ]
    },
    {
      "cell_type": "markdown",
      "metadata": {
        "id": "d9dV6vieW9DH",
        "colab_type": "text"
      },
      "source": [
        "- 코딩을 하기전이나 하다가 막힐 때 순서도를 그려보면 어디서 잘못됐는지 짚어볼 수 있습니다.\n",
        "- ```read()``` 는 한 줄씩 읽고 다음 줄로 넘어감. 이전 데이터를 다시 읽을 수 없음.\n",
        "- ```True```라는 조건하에서 ```not line``` 이라는 조건은 명확하지 않다. 해석하자면 '방금 읽은 줄이 아니다'라는 뜻. \n",
        "- 이 때문에 프로그램이 작동하지 않고 루프만 돌고있음. 조건문 작성시 원하는바를 명확하게 설정해줄 필요가 있음. \n",
        " \n"
      ]
    },
    {
      "cell_type": "markdown",
      "metadata": {
        "id": "J0jhFJ_d1qmx",
        "colab_type": "text"
      },
      "source": [
        "\n",
        "- 해결하려면?  __데이터를 변수에 저장하기__ \n",
        "- 정찬님은 읽은 데이터를 모두 ```dict()```에 저장하여 문제를 해결했습니다. 데이터에 알맞은 자료형임은 물론 자료형의 기능(클래스의 기능)도 본 프로그램을 해결하는데 알맞습니다. "
      ]
    },
    {
      "cell_type": "code",
      "metadata": {
        "id": "jO7awhUU1qOr",
        "colab_type": "code",
        "outputId": "1d383bdc-e68b-486d-829c-6a55c7dd64a2",
        "colab": {
          "base_uri": "https://localhost:8080/",
          "height": 52
        }
      },
      "source": [
        "dictionary = {}\n",
        "with open(\"dict_test.txt\", 'r') as f:\n",
        "    for line in f:\n",
        "        items = line.split()\n",
        "        key, val = items[0], items[2:-1]\n",
        "        dictionary[key] = val\n",
        "\n",
        "word = input('단어?')\n",
        "print(word, dictionary[word])"
      ],
      "execution_count": 0,
      "outputs": [
        {
          "output_type": "stream",
          "text": [
            "단어?apple\n",
            "apple []\n"
          ],
          "name": "stdout"
        }
      ]
    },
    {
      "cell_type": "markdown",
      "metadata": {
        "id": "PmsfYIyFg8Wb",
        "colab_type": "text"
      },
      "source": [
        "- 잘 푸셨는데, 문제는 단어장이 뜻을 뱉어내지 못하는군요.\n",
        "- 해결방법은 ? split의 기준을 명확하게 설정한다. 현재는 공백 한칸으로 되어있음.\n",
        "- 공백은 자연어처리할때 아주 조심히 다뤄야한답니다. 사람들이 아무곳에나 띄어쓰기를 하기 때문이죠. \n",
        "- 사전데이터의 특성을 파악해보자면 띄어쓰기보다는 ```:```이 확실한 구분자로 존재합니다.```:```을 사용해 split(':')을해보시면 보다 좋은 사전을 만들 수 있을 것 같네요\n",
        "- 문제해결에서 중요한 것은 __문제해결구조__와 __자료형(클래스)__에 대한 이해입니다. 다음 과제에서는 큰 구조를 그리는 연습을 해봅시다."
      ]
    },
    {
      "cell_type": "markdown",
      "metadata": {
        "id": "QvuBZ3JeurU5",
        "colab_type": "text"
      },
      "source": [
        "한번 더? \n",
        "- GMS님의 로또과제구조는 Key:횟수 Value:숫자입니다. \n",
        "- 문제 : 이 주의 로또번호가 같은 숫자를 뱉어냄.\n"
      ]
    },
    {
      "cell_type": "code",
      "metadata": {
        "id": "BlIKQH3luq1Y",
        "colab_type": "code",
        "outputId": "a7dfc860-08f6-4b16-dfb8-c19309a31c84",
        "colab": {
          "base_uri": "https://localhost:8080/",
          "height": 979
        }
      },
      "source": [
        "import random\n",
        "def lotto(i) :\n",
        "  rdm = random.sample(range(1, 46), 6)\n",
        "  return rdm\n",
        "\n",
        "ind = []\n",
        "for i in range(1, 10) :\n",
        "    Ln = lotto(i)\n",
        "    print('%d회 :' % i, Ln[ : ]) \n",
        "    for i in range(0, 6) :\n",
        "        ind.append(Ln[i]) # 리스트에 중복된 숫자들이 들어감.중복이 필요한 경우인가 생각해볼 필요가 있음.\n",
        "\n",
        "fre = []\n",
        "for i in range(1, 46) :\n",
        "    a = ind.count(i)\n",
        "    print(i, ':', '%d회' % a)\n",
        "    fre.append(a) #리스트에 중복된 횟수가 들어감. 예를들어 3이 40번, 4도 40번 나올 수 있음. \n",
        "                    # 이 경우 fre = [40,40,40,40,40,40,40,40]이 될 수도 있음.\n",
        "                    #각 숫자에 대해 독립적인 값이 할당되지 않음\n",
        "fre.sort(reverse = True)\n",
        "\n",
        "b = {}\n",
        "for i in range(1, 46) : \n",
        "    b[ind.count(i)] = i # key를 횟수로 숫자 value를 찾고자함. \n",
        "                        # 딕셔너리는 replace가 가능하기 때문에, 객체를 할당할 때마다 value가 변함. \n",
        "                        # 이를테면, b[40] = 3 -> b[40] = 4\n",
        "print(b[fre[0]], b[fre[1]], b[fre[2]], b[fre[3]], b[fre[4]], b[fre[5]]) #앞에 써놨듯 fre리스트는 중복된 값.\n",
        "                                                                        #따라서 print(fre[40],fre[40],fre[40]...이 됨. \n"
      ],
      "execution_count": 0,
      "outputs": [
        {
          "output_type": "stream",
          "text": [
            "1회 : [45, 15, 31, 13, 27, 16]\n",
            "2회 : [7, 35, 16, 39, 3, 1]\n",
            "3회 : [32, 18, 35, 28, 30, 4]\n",
            "4회 : [29, 18, 3, 31, 2, 19]\n",
            "5회 : [9, 45, 18, 33, 31, 17]\n",
            "6회 : [16, 5, 39, 34, 37, 20]\n",
            "7회 : [8, 9, 40, 6, 39, 28]\n",
            "8회 : [33, 9, 4, 13, 35, 37]\n",
            "9회 : [25, 3, 8, 6, 28, 22]\n",
            "1 : 1회\n",
            "2 : 1회\n",
            "3 : 3회\n",
            "4 : 2회\n",
            "5 : 1회\n",
            "6 : 2회\n",
            "7 : 1회\n",
            "8 : 2회\n",
            "9 : 3회\n",
            "10 : 0회\n",
            "11 : 0회\n",
            "12 : 0회\n",
            "13 : 2회\n",
            "14 : 0회\n",
            "15 : 1회\n",
            "16 : 3회\n",
            "17 : 1회\n",
            "18 : 3회\n",
            "19 : 1회\n",
            "20 : 1회\n",
            "21 : 0회\n",
            "22 : 1회\n",
            "23 : 0회\n",
            "24 : 0회\n",
            "25 : 1회\n",
            "26 : 0회\n",
            "27 : 1회\n",
            "28 : 3회\n",
            "29 : 1회\n",
            "30 : 1회\n",
            "31 : 3회\n",
            "32 : 1회\n",
            "33 : 2회\n",
            "34 : 1회\n",
            "35 : 3회\n",
            "36 : 0회\n",
            "37 : 2회\n",
            "38 : 0회\n",
            "39 : 3회\n",
            "40 : 1회\n",
            "41 : 0회\n",
            "42 : 0회\n",
            "43 : 0회\n",
            "44 : 0회\n",
            "45 : 2회\n",
            "39 39 39 39 39 39\n"
          ],
          "name": "stdout"
        }
      ]
    },
    {
      "cell_type": "markdown",
      "metadata": {
        "id": "TsqidOroxV07",
        "colab_type": "text"
      },
      "source": [
        "개별숫자에 대해 독립적인 값을 할당할 필요가 있음. 적합한 자료형은 ```dict()```"
      ]
    },
    {
      "cell_type": "code",
      "metadata": {
        "id": "03Hjcuc8s2DB",
        "colab_type": "code",
        "colab": {}
      },
      "source": [
        "def lotto_stat(x):\n",
        "    results = {}               #숫자별 횟수를 담기위한 딕셔너리 제작.\n",
        "    for i in range(1,46):\n",
        "        results[i] = 0         #초깃값 세팅\n",
        "    for i in range(1,x+1):\n",
        "        lottery_nums = lotto_generator(i)\n",
        "        for i in lottery_nums:\n",
        "            results[i] = results[i] + 1 #나올때마다 횟수에 1씩 더해라.\n",
        "    print(\"\\n\")\n",
        "    for i in results.keys():\n",
        "        print(\"%s : %d회\" % (i,results[i]))\n",
        "    return results"
      ],
      "execution_count": 0,
      "outputs": []
    },
    {
      "cell_type": "markdown",
      "metadata": {
        "id": "XOlimdxVB74_",
        "colab_type": "text"
      },
      "source": [
        "# 중간결과물을 공유하기\n",
        "\n",
        "실무에서 상당수의 프로젝트는 일정 지연, 리소스 부족, 요구사항 변경 등 다양한 이유로 인해 계획한 범위를 모두 구현하지 못하고 끝나곤 합니다. 그렇기 때문에 작업의 순서를 잘 세워서 중간에 멈추더라도 중요한 부분이 완료될 수 있도록 하고, 중간 결과를 자주 공유하는 것이 중요합니다.\n",
        "\n",
        "- 이번 과제에서는 모두 중간결과물을 공유해주셨습니다. 아주 잘하셨어요!\n",
        "- [GMS님](https://colab.research.google.com/drive/1UYuDGCV2Bv7WqnKd156TE8tGNmldDJxl?authuser=1#scrollTo=Ttg8QPHNwgc-)은 끝말잇기프로그램 중 명사분류를 진행 중입니다. "
      ]
    },
    {
      "cell_type": "code",
      "metadata": {
        "id": "0Cbd1VCjJnGr",
        "colab_type": "code",
        "colab": {}
      },
      "source": [
        "# word + ' '를 안해서 시간 오래 걸림.\n",
        "\n",
        "# 명사는 분류 실패해서 지워버림.\n",
        "# C = word_list.replace('\\n', '.')\n",
        "# D = C.split('.')\n",
        "# if word + ': n' in D :\n",
        "#        noun = word "
      ],
      "execution_count": 0,
      "outputs": []
    },
    {
      "cell_type": "markdown",
      "metadata": {
        "id": "1bCwXtBcJu20",
        "colab_type": "text"
      },
      "source": [
        "```find()```를 활용하면 .n을 분류할 수 있을 것 같습니다."
      ]
    },
    {
      "cell_type": "code",
      "metadata": {
        "id": "dQhfAnDHJ0M0",
        "colab_type": "code",
        "colab": {}
      },
      "source": [
        "elif dict[key].find('n.') == -1:\n",
        "            print('명사를 입력하세요')"
      ],
      "execution_count": 0,
      "outputs": []
    },
    {
      "cell_type": "markdown",
      "metadata": {
        "id": "M3LJ9pIkM769",
        "colab_type": "text"
      },
      "source": [
        "자연어, 즉 사람들이 사용하는 언어를 처리하다보면 예상치못한 띄어쓰기, 대문자, 소문자 등을 맞닥뜨리게 됩니다. 그럴때마다 어떻게 처리하면 좋을지 고민도 깊어지구요. \n",
        "- GMS님과 [pensurf](https://colab.research.google.com/drive/1EOnGCc7AsSdXZ-2GPgOYvn1gcmqZ7jbg?authuser=1)님은 ```word + ' '```를 이용해 처리해주셨습니다. 다만 소문자가 들어가거나 중간에 예상치 못한 띄어쓰기가 들어간다면 에러가 날 수 있겠죠? \n",
        "- 이런 방식으로 ```strip()```이나 ```lower()```모듈을 활용하면 전처리가 더 쉬워지겠네요. "
      ]
    },
    {
      "cell_type": "code",
      "metadata": {
        "id": "DK08Uo0JM69n",
        "colab_type": "code",
        "colab": {}
      },
      "source": [
        "while True:\n",
        "        v = f.readline()\n",
        "        if v == '' : break\n",
        "        v = v[:-1]\n",
        "        v_list = v.split(':')\n",
        "        voca[v_list[0].strip()] = v_list[1]\n",
        "\n",
        "    key = str(input('단어?')).lower()\n"
      ],
      "execution_count": 0,
      "outputs": []
    },
    {
      "cell_type": "markdown",
      "metadata": {
        "id": "VP7DgJRvNzLU",
        "colab_type": "text"
      },
      "source": [
        "#함수로 나누기\n",
        "\n",
        "- [정찬](https://colab.research.google.com/drive/1h5fMcsfj0aFTYJM6X1v-xN-glawFwNk-?authuser=1)님은 자주 사용하는 코드를 함수로 만들어 재사용가능하게 하였습니다. 코드를 함수 단위로 잘 나눠두면 읽고 이해하기도 쉬워지고 나중에 수정하기도 좋으며, 재활용성도 높아집니다."
      ]
    },
    {
      "cell_type": "code",
      "metadata": {
        "id": "f02foX_AP9ZI",
        "colab_type": "code",
        "outputId": "e42828ae-edc4-4ee7-fe03-907713ab3e57",
        "colab": {
          "base_uri": "https://localhost:8080/",
          "height": 378
        }
      },
      "source": [
        "words = []\n",
        "with open(\"dict_test.txt\", 'r') as f:\n",
        "    for line in f:\n",
        "        items = line.split()\n",
        "        words.append(items[0])\n",
        "past = []        \n",
        "game = input('끝말 잇기?')\n",
        "def solution(words):\n",
        "    try_game = 's% 끝말 잇기?' % past[-1]\n",
        "    while game != '끝':\n",
        "        for game in words:\n",
        "            past.append(game)\n",
        "            words.remove(game)\n",
        "            if game in past:\n",
        "                print('중복된 단어입니다.', try_game)\n",
        "            else:\n",
        "                past.append(word)\n",
        "                print(try_game)\n",
        "                if past[-1]==game[-1]:\n",
        "                    print(try_game)\n",
        "                    if len(game) == 6:\n",
        "                        print(try_game)\n",
        "                        if game not in past:\n",
        "                            print(try_game)\n",
        "                        else:\n",
        "                            print('중복된 단어입니다.', try_game)\n",
        "                    else:\n",
        "                        print('단어가 짧거나 깁니다.', try_game)\n",
        "                else:\n",
        "                    print(try_game)\n",
        "\n",
        "solution(words)\n",
        "\n",
        "# 다른 조건은 대강 만족했는데 마지막 알파벳과 다음에 입력되는 알파벳이 같아야한다는 조건을 설정해주지 못해서 실패해버렸습니다. 사실 맨 아랫줄처럼 함수를 사용하는게 맞는지도 잘 모르겠습니다"
      ],
      "execution_count": 0,
      "outputs": [
        {
          "output_type": "stream",
          "text": [
            "끝말 잇기?apple\n"
          ],
          "name": "stdout"
        },
        {
          "output_type": "error",
          "ename": "IndexError",
          "evalue": "ignored",
          "traceback": [
            "\u001b[0;31m---------------------------------------------------------------------------\u001b[0m",
            "\u001b[0;31mIndexError\u001b[0m                                Traceback (most recent call last)",
            "\u001b[0;32m<ipython-input-4-a90e3f8cc592>\u001b[0m in \u001b[0;36m<module>\u001b[0;34m()\u001b[0m\n\u001b[1;32m     30\u001b[0m                     \u001b[0mprint\u001b[0m\u001b[0;34m(\u001b[0m\u001b[0mtry_game\u001b[0m\u001b[0;34m)\u001b[0m\u001b[0;34m\u001b[0m\u001b[0;34m\u001b[0m\u001b[0m\n\u001b[1;32m     31\u001b[0m \u001b[0;34m\u001b[0m\u001b[0m\n\u001b[0;32m---> 32\u001b[0;31m \u001b[0msolution\u001b[0m\u001b[0;34m(\u001b[0m\u001b[0mwords\u001b[0m\u001b[0;34m)\u001b[0m\u001b[0;34m\u001b[0m\u001b[0;34m\u001b[0m\u001b[0m\n\u001b[0m\u001b[1;32m     33\u001b[0m \u001b[0;34m\u001b[0m\u001b[0m\n\u001b[1;32m     34\u001b[0m \u001b[0;31m# 다른 조건은 대강 만족했는데 마지막 알파벳과 다음에 입력되는 알파벳이 같아야한다는 조건을 설정해주지 못해서 실패해버렸습니다. 사실 맨 아랫줄처럼 함수를 사용하는게 맞는지도 잘 모르겠습니다\u001b[0m\u001b[0;34m\u001b[0m\u001b[0;34m\u001b[0m\u001b[0;34m\u001b[0m\u001b[0m\n",
            "\u001b[0;32m<ipython-input-4-a90e3f8cc592>\u001b[0m in \u001b[0;36msolution\u001b[0;34m(words)\u001b[0m\n\u001b[1;32m      7\u001b[0m \u001b[0mgame\u001b[0m \u001b[0;34m=\u001b[0m \u001b[0minput\u001b[0m\u001b[0;34m(\u001b[0m\u001b[0;34m'끝말 잇기?'\u001b[0m\u001b[0;34m)\u001b[0m\u001b[0;34m\u001b[0m\u001b[0;34m\u001b[0m\u001b[0m\n\u001b[1;32m      8\u001b[0m \u001b[0;32mdef\u001b[0m \u001b[0msolution\u001b[0m\u001b[0;34m(\u001b[0m\u001b[0mwords\u001b[0m\u001b[0;34m)\u001b[0m\u001b[0;34m:\u001b[0m\u001b[0;34m\u001b[0m\u001b[0;34m\u001b[0m\u001b[0m\n\u001b[0;32m----> 9\u001b[0;31m     \u001b[0mtry_game\u001b[0m \u001b[0;34m=\u001b[0m \u001b[0;34m's% 끝말 잇기?'\u001b[0m \u001b[0;34m%\u001b[0m \u001b[0mpast\u001b[0m\u001b[0;34m[\u001b[0m\u001b[0;34m-\u001b[0m\u001b[0;36m1\u001b[0m\u001b[0;34m]\u001b[0m\u001b[0;34m\u001b[0m\u001b[0;34m\u001b[0m\u001b[0m\n\u001b[0m\u001b[1;32m     10\u001b[0m     \u001b[0;32mwhile\u001b[0m \u001b[0mgame\u001b[0m \u001b[0;34m!=\u001b[0m \u001b[0;34m'끝'\u001b[0m\u001b[0;34m:\u001b[0m\u001b[0;34m\u001b[0m\u001b[0;34m\u001b[0m\u001b[0m\n\u001b[1;32m     11\u001b[0m         \u001b[0;32mfor\u001b[0m \u001b[0mgame\u001b[0m \u001b[0;32min\u001b[0m \u001b[0mwords\u001b[0m\u001b[0;34m:\u001b[0m\u001b[0;34m\u001b[0m\u001b[0;34m\u001b[0m\u001b[0m\n",
            "\u001b[0;31mIndexError\u001b[0m: list index out of range"
          ]
        }
      ]
    },
    {
      "cell_type": "markdown",
      "metadata": {
        "id": "hUEPDNz8QISe",
        "colab_type": "text"
      },
      "source": [
        "```if```와 ```elif```를 사용해 로직을 완성할 수 있을 것 같습니다. "
      ]
    },
    {
      "cell_type": "markdown",
      "metadata": {
        "id": "oavFxkldRsn0",
        "colab_type": "text"
      },
      "source": [
        "문제 3번과 4번도 이런 방식으로 접근이 가능합니다. \n",
        "저는 과제 3번을 ```voc()```라는 함수로 만들어 4번 문제를 해결했습니다. "
      ]
    },
    {
      "cell_type": "code",
      "metadata": {
        "id": "JTHRVxjNQCwQ",
        "colab_type": "code",
        "outputId": "73e54d49-3729-4308-979b-83e94fa5c0cd",
        "colab": {
          "base_uri": "https://localhost:8080/",
          "height": 279
        }
      },
      "source": [
        "#과제 3\n",
        "def voc():\n",
        "    f = open('dict_test.txt','r')\n",
        "    voca = {}\n",
        "    while True:\n",
        "        v = f.readline()\n",
        "        if v == '' : break\n",
        "        v = v[:-1]\n",
        "        v_list = v.split(':')\n",
        "        voca[v_list[0].strip()] = v_list[1]\n",
        "    key = str(input('단어?')).lower()\n",
        "    print('%s %s' % (key, voca[key]))\n",
        "    return voca\n",
        "\n",
        "# 과제 4\n",
        "dict = voc()\n",
        "voc_list = []\n",
        "p_key = 'apple'\n",
        "while True:\n",
        "        key = str(input('%s 끝말잇기?, 종료하려면 end를 입력하세요.' %p_key))\n",
        "        if  key == 'end':break\n",
        "        elif len(key) > 5 :\n",
        "            print('단어가 길어요')\n",
        "            continue\n",
        "        elif key not in dict :\n",
        "            print('사전에 없는 말이에요')\n",
        "            continue\n",
        "        elif key in voc_list:\n",
        "            print('중복된 단어에요')\n",
        "            continue\n",
        "        elif key[0] != p_key[-1]:\n",
        "            print('%s의 끝 문자로 시작하세요' %p_key)\n",
        "        elif len(key) < 5 :\n",
        "            print('단어가 짧아요')\n",
        "        elif dict[key].find('n.') == -1:\n",
        "            print('명사를 입력하세요')\n",
        "        else :\n",
        "            print('%s 끝말잇기?' % key)\n",
        "            voc_list.append(key)\n",
        "            p_key = key"
      ],
      "execution_count": 0,
      "outputs": [
        {
          "output_type": "stream",
          "text": [
            "단어?apple\n",
            "apple  n.사과\n",
            "apple 끝말잇기?, 종료하려면 end를 입력하세요.ego\n",
            "단어가 짧아요\n",
            "apple 끝말잇기?, 종료하려면 end를 입력하세요.every\n",
            "명사를 입력하세요\n",
            "apple 끝말잇기?, 종료하려면 end를 입력하세요.entertainment\n",
            "단어가 길어요\n",
            "apple 끝말잇기?, 종료하려면 end를 입력하세요.fence\n",
            "apple의 끝 문자로 시작하세요\n",
            "apple 끝말잇기?, 종료하려면 end를 입력하세요.eagle\n",
            "eagle 끝말잇기?\n",
            "eagle 끝말잇기?, 종료하려면 end를 입력하세요.eagle\n",
            "중복된 단어에요\n",
            "eagle 끝말잇기?, 종료하려면 end를 입력하세요.end\n"
          ],
          "name": "stdout"
        }
      ]
    },
    {
      "cell_type": "markdown",
      "metadata": {
        "id": "rBtwlnWFz6Pp",
        "colab_type": "text"
      },
      "source": [
        "- 이번주에는 코드리뷰보다는 문제풀이에 가까워서 코드가 좀 길어졌네요. 비슷한 부분에서 비슷한 고민을 하신 것 같으니 꼼꼼히 읽어주세요. 예시답안을 깃헙에 올려둘테니 참고하시고 질문은 언제나 환영입니다.\n",
        "- 코드스타일에 신경을 많이쓰는 편이라 변수명, 자료형, 구조 등등 세세한 부분에 대한 얘기가 많았네요. 피곤하시겠지만,, 저는 꾸준히 이야기할 것이랍니다. \n",
        "- 어려운게 당연한 5주차였습니다. 고생많으셨어요. 그럼 6주차에 다시만나요!"
      ]
    },
    {
      "cell_type": "code",
      "metadata": {
        "id": "3awwh_1q5TBp",
        "colab_type": "code",
        "colab": {}
      },
      "source": [
        ""
      ],
      "execution_count": 0,
      "outputs": []
    }
  ]
}