{
 "cells": [
  {
   "cell_type": "markdown",
   "metadata": {},
   "source": [
    "# 🦉COSADAMA Introduction to Data Science Study\n",
    "\n",
    "- 작성자: 박하람 \n",
    "- 참고자료: 파이썬 머신러닝 완벽가이드(권철민), 비쥬얼프로그래밍 수업(김승태), 파이썬으로 데이터 주무르기(민형기)\n",
    "\n",
    "## 2. What are NumPy, matplotlib?\n",
    "\n",
    "이번 주차에는 **수치 데이터 처리 모듈 Numpy, 시각화 모듈 matplotlib**의 간단한 문법을 학습하려 합니다. 프로젝트를 먼저 실시하기에 앞서 이러한 모듈들을 어느정도 학습하는 것이 여러분들에게 더 도움이 되겠다 판단하여 아주 간단하게 모두를 다뤄보겠습니다.\n",
    "\n",
    "### 2.1 수치 데이터 처리 - NumPy\n",
    "\n",
    "NumPy는 데이터/수치 분석 모듈로 Numerical Python을 의미합니다. 파이썬에서 선형대수 기반의 프로그램을 쉽게 만들 수 있도록 지원하는 대표적인 패키지입니다. 루프(loop)를 사용하지 않고 대량 데이터의 배열 연산을 가능하게 하므로 빠른 배열 연산 속도를 보장합니다. 대량 데이터 기반의 과학과 공학 프로그램은 빠른 계산 능력이 매우 중요합니다. 때문에 파이썬 기반의 많은 과학과 공학 패키지는 넘파이에 의존하고 있습니다. 그러나 **수학 연산을 돕는 도구이지, 분석 도구는 아닙니다.** 넘파이는 내용이 상당히 방대하니 넘파이를 정복하겠다는 생각은 하지 맙시다. 데이터 분석에 우선적으로 필요한 부분만 최대한 빨리 학습하여 부족한 부분은 후에 채워가면서 학습하면 됩니다. \n",
    "\n",
    "아, **과제 문제가 3개 있으니 잊지 말고 제출해 주세요!**\n",
    "\n",
    "#### NumPy import 하기 "
   ]
  },
  {
   "cell_type": "code",
   "execution_count": 1,
   "metadata": {},
   "outputs": [],
   "source": [
    "import numpy as np"
   ]
  },
  {
   "cell_type": "markdown",
   "metadata": {},
   "source": [
    "#### 다차원 배열 ndarray \n",
    "- NumPy의 중요 자료형 \n",
    "- 표준 파이썬의 array와 비슷하지만 별개임\n",
    "- 다차원(Multi-dimentsion) 배열을 쉽게 생성하고 다양한 연산을 수행할 수 있음."
   ]
  },
  {
   "cell_type": "code",
   "execution_count": 2,
   "metadata": {},
   "outputs": [
    {
     "name": "stdout",
     "output_type": "stream",
     "text": [
      "<class 'list'>\n",
      "<class 'numpy.ndarray'>\n"
     ]
    }
   ],
   "source": [
    "list1 = [1,2,3]\n",
    "print(type(list1))   # 파이썬의 list\n",
    "array1 = np.array(list1)\n",
    "print(type(array1))  # 넘파이의 ndarray"
   ]
  },
  {
   "cell_type": "markdown",
   "metadata": {},
   "source": [
    "- array() 함수는 파이썬의 리스트와 같은 다양한 인자를 입력 받아서 ndarray로 변환하는 기능을 수행. \n",
    "- 생성된 ndarray 배열의 shape 변수는 ndarray의 크리, 즉 행과 열의 수를 튜플 형태로 가지고 있으며 이를 통해 ndarray 배열의 차원까지 알 수 있음."
   ]
  },
  {
   "cell_type": "code",
   "execution_count": 3,
   "metadata": {},
   "outputs": [
    {
     "data": {
      "text/plain": [
       "array([1, 2, 3])"
      ]
     },
     "execution_count": 3,
     "metadata": {},
     "output_type": "execute_result"
    }
   ],
   "source": [
    "array1 = np.array([1,2,3])\n",
    "array1"
   ]
  },
  {
   "cell_type": "code",
   "execution_count": 4,
   "metadata": {},
   "outputs": [
    {
     "data": {
      "text/plain": [
       "numpy.ndarray"
      ]
     },
     "execution_count": 4,
     "metadata": {},
     "output_type": "execute_result"
    }
   ],
   "source": [
    "type(array1)"
   ]
  },
  {
   "cell_type": "code",
   "execution_count": 5,
   "metadata": {},
   "outputs": [
    {
     "data": {
      "text/plain": [
       "(3,)"
      ]
     },
     "execution_count": 5,
     "metadata": {},
     "output_type": "execute_result"
    }
   ],
   "source": [
    "array1.shape # 쉼표 뒤가 없다면 1차원이라는 의미 "
   ]
  },
  {
   "cell_type": "code",
   "execution_count": 6,
   "metadata": {},
   "outputs": [
    {
     "data": {
      "text/plain": [
       "array([[1, 2, 3],\n",
       "       [2, 3, 4]])"
      ]
     },
     "execution_count": 6,
     "metadata": {},
     "output_type": "execute_result"
    }
   ],
   "source": [
    "# 2차원 ndarray 만들기 \n",
    "array2 = np.array([[1,2,3],\n",
    "                 [2,3,4]])\n",
    "array2   # 항상 데이터를 보는 습관 들이기!"
   ]
  },
  {
   "cell_type": "code",
   "execution_count": 7,
   "metadata": {},
   "outputs": [
    {
     "data": {
      "text/plain": [
       "numpy.ndarray"
      ]
     },
     "execution_count": 7,
     "metadata": {},
     "output_type": "execute_result"
    }
   ],
   "source": [
    "type(array2)"
   ]
  },
  {
   "cell_type": "code",
   "execution_count": 8,
   "metadata": {},
   "outputs": [
    {
     "data": {
      "text/plain": [
       "(2, 3)"
      ]
     },
     "execution_count": 8,
     "metadata": {},
     "output_type": "execute_result"
    }
   ],
   "source": [
    "array2.shape # 2개의 row와 3개의 column"
   ]
  },
  {
   "cell_type": "markdown",
   "metadata": {},
   "source": [
    "#### ndarray의 중요 속성\n",
    "- **ndarray.ndim** : ndarray의 차원\n",
    "- **ndarray.shape**: 배열의 모양 \n",
    "- **ndarray.size**: 배열의 원소의 개수 \n",
    "- **ndarray.dtype** : 원소의 자료형"
   ]
  },
  {
   "cell_type": "code",
   "execution_count": 9,
   "metadata": {},
   "outputs": [
    {
     "data": {
      "text/plain": [
       "1"
      ]
     },
     "execution_count": 9,
     "metadata": {},
     "output_type": "execute_result"
    }
   ],
   "source": [
    "array1.ndim  # 1차원이구나!"
   ]
  },
  {
   "cell_type": "code",
   "execution_count": 10,
   "metadata": {},
   "outputs": [
    {
     "data": {
      "text/plain": [
       "2"
      ]
     },
     "execution_count": 10,
     "metadata": {},
     "output_type": "execute_result"
    }
   ],
   "source": [
    "array2.ndim # 2차원이구나!"
   ]
  },
  {
   "cell_type": "code",
   "execution_count": 11,
   "metadata": {},
   "outputs": [
    {
     "data": {
      "text/plain": [
       "3"
      ]
     },
     "execution_count": 11,
     "metadata": {},
     "output_type": "execute_result"
    }
   ],
   "source": [
    "array1.size"
   ]
  },
  {
   "cell_type": "code",
   "execution_count": 12,
   "metadata": {},
   "outputs": [
    {
     "data": {
      "text/plain": [
       "6"
      ]
     },
     "execution_count": 12,
     "metadata": {},
     "output_type": "execute_result"
    }
   ],
   "source": [
    "array2.size"
   ]
  },
  {
   "cell_type": "code",
   "execution_count": 13,
   "metadata": {},
   "outputs": [
    {
     "data": {
      "text/plain": [
       "dtype('int32')"
      ]
     },
     "execution_count": 13,
     "metadata": {},
     "output_type": "execute_result"
    }
   ],
   "source": [
    "array1.dtype"
   ]
  },
  {
   "cell_type": "markdown",
   "metadata": {},
   "source": [
    "#### 배열 생성하기 \n",
    "\n",
    "- [numpy의 random 모듈 학습](https://nittaku.tistory.com/443)"
   ]
  },
  {
   "cell_type": "code",
   "execution_count": 14,
   "metadata": {},
   "outputs": [
    {
     "data": {
      "text/plain": [
       "array([[ 0.33657423,  0.89653759, -2.11299124],\n",
       "       [-0.33322897, -0.58722101, -1.4667888 ]])"
      ]
     },
     "execution_count": 14,
     "metadata": {},
     "output_type": "execute_result"
    }
   ],
   "source": [
    "data = np.random.randn(2,3) #0에서 1사이의 균일 분포에서 난수 생성\n",
    "data # 항상 이렇게 변수명을 적어 데이터가 어떻게 나오는지 보는 습관 들이기!"
   ]
  },
  {
   "cell_type": "code",
   "execution_count": 15,
   "metadata": {},
   "outputs": [
    {
     "data": {
      "text/plain": [
       "array([[  3.36574235,   8.96537594, -21.1299124 ],\n",
       "       [ -3.33228973,  -5.87221009, -14.66788802]])"
      ]
     },
     "execution_count": 15,
     "metadata": {},
     "output_type": "execute_result"
    }
   ],
   "source": [
    "data * 10"
   ]
  },
  {
   "cell_type": "code",
   "execution_count": 16,
   "metadata": {},
   "outputs": [
    {
     "data": {
      "text/plain": [
       "array([[ 0.67314847,  1.79307519, -4.22598248],\n",
       "       [-0.66645795, -1.17444202, -2.9335776 ]])"
      ]
     },
     "execution_count": 16,
     "metadata": {},
     "output_type": "execute_result"
    }
   ],
   "source": [
    "data + data # 배열 더하기"
   ]
  },
  {
   "cell_type": "code",
   "execution_count": 17,
   "metadata": {},
   "outputs": [
    {
     "data": {
      "text/plain": [
       "(2, 3)"
      ]
     },
     "execution_count": 17,
     "metadata": {},
     "output_type": "execute_result"
    }
   ],
   "source": [
    "# ndarray 배열의 모양 즉, 2개의 row와 3개의 column으로 구성\n",
    "data.shape "
   ]
  },
  {
   "cell_type": "code",
   "execution_count": 18,
   "metadata": {},
   "outputs": [
    {
     "data": {
      "text/plain": [
       "2"
      ]
     },
     "execution_count": 18,
     "metadata": {},
     "output_type": "execute_result"
    }
   ],
   "source": [
    "# 차원의 수\n",
    "data.ndim"
   ]
  },
  {
   "cell_type": "markdown",
   "metadata": {},
   "source": [
    "#### 배열 생성 array 함수\n",
    "- **array()**: 데이터를 기반으로 배열(ndarray)를 생성하는 함수"
   ]
  },
  {
   "cell_type": "code",
   "execution_count": 19,
   "metadata": {},
   "outputs": [
    {
     "data": {
      "text/plain": [
       "array([1. , 2.5, 3. , 4.5, 5. ])"
      ]
     },
     "execution_count": 19,
     "metadata": {},
     "output_type": "execute_result"
    }
   ],
   "source": [
    "alist = [1,2.5,3,4.5,5]\n",
    "arr1 = np.array(alist) # ndarray로 바꾸어준 것!\n",
    "arr1"
   ]
  },
  {
   "cell_type": "code",
   "execution_count": 20,
   "metadata": {},
   "outputs": [
    {
     "data": {
      "text/plain": [
       "array([[ 1,  2,  3,  4,  5],\n",
       "       [ 6,  7,  8,  9, 10]])"
      ]
     },
     "execution_count": 20,
     "metadata": {},
     "output_type": "execute_result"
    }
   ],
   "source": [
    "dalist = [[1,2,3,4,5],\n",
    "         [6,7,8,9,10]]\n",
    "arr2 = np.array(dalist)\n",
    "arr2"
   ]
  },
  {
   "cell_type": "markdown",
   "metadata": {},
   "source": [
    "#### ndarray를 편리하게 생성하기 - arange, zeros, ones\n",
    "\n",
    "특정 크기와 차원을 가진 ndarray를 연속값이나 0또는 1로 초기화해 쉽게 생성해야 할 필요가 있는 경우가 발생할 수 있음. 이 경우 **arange(), zeros(), ones()**를 이용해 쉽게 ndarray를 생성할 수 있음.\n",
    "\n",
    "- **np.arange()**: range의 numpy 버전. 0부터 함수 인자 값 -1까지의 값을 순차적으로 ndarray의 데이터값으로 변환해줌.\n",
    "- **np.zeros()**: 함수 인자로 튜플 형태의 shape 값을 입력하면 모든 값을 0으로 채운 해당 shape를 가진 ndarray를 반환함. \n",
    "- **np.ones()**: 함수 인자로 튜플 형태의 shape 값을 입력하면 모든 값을 1로 채운 해당 shape을 가진 ndarray를 반환함."
   ]
  },
  {
   "cell_type": "code",
   "execution_count": 21,
   "metadata": {},
   "outputs": [],
   "source": [
    "# 꿀팁! 내가 잘 모르는 게 나왔다! \n",
    "np.arange?"
   ]
  },
  {
   "cell_type": "markdown",
   "metadata": {},
   "source": [
    "이렇게 괄호 대신 **?**를 적어주면 도움말이 뜹니다! 그러면 영어로 옵션값(파라미터들)도 볼 수 있고, 어떤 함수인지도 알 수 있습니다. 무엇보다 가장 좋은 것은 제일 아래에 **examples**를 통해 이 함수가 어떤 기능을 하는지 직관적으로 알 수 있어요! "
   ]
  },
  {
   "cell_type": "code",
   "execution_count": 22,
   "metadata": {},
   "outputs": [
    {
     "data": {
      "text/plain": [
       "array([0, 1, 2])"
      ]
     },
     "execution_count": 22,
     "metadata": {},
     "output_type": "execute_result"
    }
   ],
   "source": [
    "# 예시를 하나 가져왔어요. 아, 이 함수는 파이썬의 range()와 비슷하구나~\n",
    "np.arange(3)"
   ]
  },
  {
   "cell_type": "code",
   "execution_count": 23,
   "metadata": {},
   "outputs": [
    {
     "data": {
      "text/plain": [
       "array([0, 1, 2, 3, 4, 5, 6, 7, 8, 9])"
      ]
     },
     "execution_count": 23,
     "metadata": {},
     "output_type": "execute_result"
    }
   ],
   "source": [
    "sequence_array = np.arange(10)\n",
    "sequence_array  # 항상 데이터 확인하는 것 잊지말기!"
   ]
  },
  {
   "cell_type": "code",
   "execution_count": 24,
   "metadata": {},
   "outputs": [
    {
     "data": {
      "text/plain": [
       "(10,)"
      ]
     },
     "execution_count": 24,
     "metadata": {},
     "output_type": "execute_result"
    }
   ],
   "source": [
    "sequence_array.shape  # 1차원이고, 칼럼이 10개네~!"
   ]
  },
  {
   "cell_type": "code",
   "execution_count": 25,
   "metadata": {},
   "outputs": [
    {
     "data": {
      "text/plain": [
       "array([0, 2, 4, 6, 8])"
      ]
     },
     "execution_count": 25,
     "metadata": {},
     "output_type": "execute_result"
    }
   ],
   "source": [
    "# 이 3개짜리는 무엇을 의미할까요?\n",
    "question = np.arange(0,10,2)\n",
    "question"
   ]
  },
  {
   "cell_type": "code",
   "execution_count": 26,
   "metadata": {},
   "outputs": [
    {
     "data": {
      "text/plain": [
       "array([[0, 0],\n",
       "       [0, 0],\n",
       "       [0, 0]])"
      ]
     },
     "execution_count": 26,
     "metadata": {},
     "output_type": "execute_result"
    }
   ],
   "source": [
    "zero_array = np.zeros((3,2), dtype='int32')\n",
    "zero_array"
   ]
  },
  {
   "cell_type": "code",
   "execution_count": 27,
   "metadata": {},
   "outputs": [
    {
     "data": {
      "text/plain": [
       "(3, 2)"
      ]
     },
     "execution_count": 27,
     "metadata": {},
     "output_type": "execute_result"
    }
   ],
   "source": [
    "zero_array.shape"
   ]
  },
  {
   "cell_type": "code",
   "execution_count": 28,
   "metadata": {},
   "outputs": [
    {
     "data": {
      "text/plain": [
       "array([[1., 1.],\n",
       "       [1., 1.],\n",
       "       [1., 1.]])"
      ]
     },
     "execution_count": 28,
     "metadata": {},
     "output_type": "execute_result"
    }
   ],
   "source": [
    "one_array = np.ones((3,2))\n",
    "one_array"
   ]
  },
  {
   "cell_type": "code",
   "execution_count": 29,
   "metadata": {},
   "outputs": [
    {
     "data": {
      "text/plain": [
       "(3, 2)"
      ]
     },
     "execution_count": 29,
     "metadata": {},
     "output_type": "execute_result"
    }
   ],
   "source": [
    "one_array.shape"
   ]
  },
  {
   "cell_type": "markdown",
   "metadata": {},
   "source": [
    "#### ndarray의 차원과 크기를 변경하는 reshape()\n",
    "\n",
    "- **np.reshape()**: ndarray를 특정 차원 및 크기로 변환 "
   ]
  },
  {
   "cell_type": "code",
   "execution_count": 30,
   "metadata": {},
   "outputs": [
    {
     "data": {
      "text/plain": [
       "array([[ 0,  1,  2],\n",
       "       [ 3,  4,  5],\n",
       "       [ 6,  7,  8],\n",
       "       [ 9, 10, 11]])"
      ]
     },
     "execution_count": 30,
     "metadata": {},
     "output_type": "execute_result"
    }
   ],
   "source": [
    "b = np.arange(12).reshape(4,3) # 4개의 로우, 3개의 컬럼으로!\n",
    "b"
   ]
  },
  {
   "cell_type": "code",
   "execution_count": 31,
   "metadata": {},
   "outputs": [
    {
     "data": {
      "text/plain": [
       "array([[[ 0,  1,  2,  3],\n",
       "        [ 4,  5,  6,  7],\n",
       "        [ 8,  9, 10, 11]],\n",
       "\n",
       "       [[12, 13, 14, 15],\n",
       "        [16, 17, 18, 19],\n",
       "        [20, 21, 22, 23]]])"
      ]
     },
     "execution_count": 31,
     "metadata": {},
     "output_type": "execute_result"
    }
   ],
   "source": [
    "c = np.arange(24).reshape(2,3,4) # 3차원으로 바꿔주세욤!\n",
    "c"
   ]
  },
  {
   "cell_type": "markdown",
   "metadata": {},
   "source": [
    "#### 수학 개념 함수 / 통계용 메서드들\n",
    "- sum(): 전체 또는 특정 축의 원소의 합계\n",
    "- mean(): 산술평균\n",
    "- std(): 표준편차\n",
    "- var(): 분산\n",
    "- min(), max(): 최소값, 최대값\n",
    "- cumsum(): 누적합\n",
    "- comprod(): 누적곱\n"
   ]
  },
  {
   "cell_type": "code",
   "execution_count": 32,
   "metadata": {},
   "outputs": [
    {
     "data": {
      "text/plain": [
       "array([[0.30804036, 0.70411508, 0.08159497],\n",
       "       [0.43746412, 0.5387499 , 0.32312268]])"
      ]
     },
     "execution_count": 32,
     "metadata": {},
     "output_type": "execute_result"
    }
   ],
   "source": [
    "a = np.random.random((2,3))\n",
    "a"
   ]
  },
  {
   "cell_type": "code",
   "execution_count": 33,
   "metadata": {},
   "outputs": [
    {
     "data": {
      "text/plain": [
       "2.3930871116957118"
      ]
     },
     "execution_count": 33,
     "metadata": {},
     "output_type": "execute_result"
    }
   ],
   "source": [
    "a.sum()"
   ]
  },
  {
   "cell_type": "code",
   "execution_count": 34,
   "metadata": {},
   "outputs": [
    {
     "data": {
      "text/plain": [
       "0.08159497080581557"
      ]
     },
     "execution_count": 34,
     "metadata": {},
     "output_type": "execute_result"
    }
   ],
   "source": [
    "a.min()"
   ]
  },
  {
   "cell_type": "code",
   "execution_count": 35,
   "metadata": {},
   "outputs": [
    {
     "data": {
      "text/plain": [
       "0.7041150766704284"
      ]
     },
     "execution_count": 35,
     "metadata": {},
     "output_type": "execute_result"
    }
   ],
   "source": [
    "a.max()"
   ]
  },
  {
   "cell_type": "code",
   "execution_count": 36,
   "metadata": {},
   "outputs": [
    {
     "data": {
      "text/plain": [
       "array([0.74550449, 1.24286497, 0.40471765])"
      ]
     },
     "execution_count": 36,
     "metadata": {},
     "output_type": "execute_result"
    }
   ],
   "source": [
    "a.sum(axis=0)   # 열의 합(아래 방향)"
   ]
  },
  {
   "cell_type": "code",
   "execution_count": 37,
   "metadata": {},
   "outputs": [
    {
     "data": {
      "text/plain": [
       "array([1.09375041, 1.2993367 ])"
      ]
     },
     "execution_count": 37,
     "metadata": {},
     "output_type": "execute_result"
    }
   ],
   "source": [
    "a.sum(axis=1)   # 행의 합(오른쪽 방향)"
   ]
  },
  {
   "cell_type": "code",
   "execution_count": 38,
   "metadata": {},
   "outputs": [
    {
     "data": {
      "text/plain": [
       "array([[0.30804036, 1.01215544, 1.09375041],\n",
       "       [0.43746412, 0.97621402, 1.2993367 ]])"
      ]
     },
     "execution_count": 38,
     "metadata": {},
     "output_type": "execute_result"
    }
   ],
   "source": [
    "a.cumsum(axis=1)  # 행의 누적합"
   ]
  },
  {
   "cell_type": "code",
   "execution_count": 39,
   "metadata": {},
   "outputs": [
    {
     "data": {
      "text/plain": [
       "array([[0, 1, 2],\n",
       "       [3, 4, 5],\n",
       "       [6, 7, 8]])"
      ]
     },
     "execution_count": 39,
     "metadata": {},
     "output_type": "execute_result"
    }
   ],
   "source": [
    "arr = np.array([[0,1,2],\n",
    "              [3,4,5],\n",
    "              [6,7,8]])\n",
    "arr"
   ]
  },
  {
   "cell_type": "code",
   "execution_count": 40,
   "metadata": {},
   "outputs": [
    {
     "data": {
      "text/plain": [
       "array([ 0,  1,  3,  6, 10, 15, 21, 28, 36], dtype=int32)"
      ]
     },
     "execution_count": 40,
     "metadata": {},
     "output_type": "execute_result"
    }
   ],
   "source": [
    "arr.cumsum()"
   ]
  },
  {
   "cell_type": "code",
   "execution_count": 41,
   "metadata": {},
   "outputs": [
    {
     "data": {
      "text/plain": [
       "array([[ 0,  1,  3],\n",
       "       [ 3,  7, 12],\n",
       "       [ 6, 13, 21]], dtype=int32)"
      ]
     },
     "execution_count": 41,
     "metadata": {},
     "output_type": "execute_result"
    }
   ],
   "source": [
    "arr.cumsum(axis = 1) # column 방향으로~"
   ]
  },
  {
   "cell_type": "markdown",
   "metadata": {},
   "source": [
    "질문이 들어왔는데요, numpy에서 axis=0은 row, axis=1은 column을 의미합니다. 그래서 column 방향이라고 한 것에 헷갈릴 수 있겠지만, 틀린 말이 아닙니다. 참고하세요~!"
   ]
  },
  {
   "cell_type": "markdown",
   "metadata": {},
   "source": [
    "#### Indexing \n",
    "\n",
    "- 기본적으로 list와 같은 방식"
   ]
  },
  {
   "cell_type": "code",
   "execution_count": 42,
   "metadata": {},
   "outputs": [
    {
     "data": {
      "text/plain": [
       "array([  0,   1,   8,  27,  64, 125, 216, 343, 512, 729], dtype=int32)"
      ]
     },
     "execution_count": 42,
     "metadata": {},
     "output_type": "execute_result"
    }
   ],
   "source": [
    "a = np.arange(10)**3\n",
    "a"
   ]
  },
  {
   "cell_type": "code",
   "execution_count": 43,
   "metadata": {},
   "outputs": [
    {
     "data": {
      "text/plain": [
       "8"
      ]
     },
     "execution_count": 43,
     "metadata": {},
     "output_type": "execute_result"
    }
   ],
   "source": [
    "a[2]"
   ]
  },
  {
   "cell_type": "code",
   "execution_count": 44,
   "metadata": {},
   "outputs": [
    {
     "data": {
      "text/plain": [
       "array([ 8, 27, 64], dtype=int32)"
      ]
     },
     "execution_count": 44,
     "metadata": {},
     "output_type": "execute_result"
    }
   ],
   "source": [
    "a[2:5]"
   ]
  },
  {
   "cell_type": "code",
   "execution_count": 45,
   "metadata": {},
   "outputs": [
    {
     "data": {
      "text/plain": [
       "array([-1000,     1, -1000,    27, -1000,   125,   216,   343,   512,\n",
       "         729], dtype=int32)"
      ]
     },
     "execution_count": 45,
     "metadata": {},
     "output_type": "execute_result"
    }
   ],
   "source": [
    "a[:6:2] = -1000  #a[0:6:2]에 모두 -1000을 넣는다\n",
    "a"
   ]
  },
  {
   "cell_type": "code",
   "execution_count": 46,
   "metadata": {},
   "outputs": [
    {
     "data": {
      "text/plain": [
       "array([  729,   512,   343,   216,   125, -1000,    27, -1000,     1,\n",
       "       -1000], dtype=int32)"
      ]
     },
     "execution_count": 46,
     "metadata": {},
     "output_type": "execute_result"
    }
   ],
   "source": [
    "a[::-1]"
   ]
  },
  {
   "cell_type": "code",
   "execution_count": 47,
   "metadata": {},
   "outputs": [
    {
     "data": {
      "text/plain": [
       "array([7, 8, 9])"
      ]
     },
     "execution_count": 47,
     "metadata": {},
     "output_type": "execute_result"
    }
   ],
   "source": [
    "# 다차원 ndarray의 인덱싱 \n",
    "arr2d = np.array([[1,2,3],\n",
    "                 [4,5,6],\n",
    "                 [7,8,9]])\n",
    "arr2d[2]"
   ]
  },
  {
   "cell_type": "code",
   "execution_count": 48,
   "metadata": {},
   "outputs": [
    {
     "data": {
      "text/plain": [
       "3"
      ]
     },
     "execution_count": 48,
     "metadata": {},
     "output_type": "execute_result"
    }
   ],
   "source": [
    "arr2d[0,2]"
   ]
  },
  {
   "cell_type": "markdown",
   "metadata": {},
   "source": [
    "####  Slicing"
   ]
  },
  {
   "cell_type": "code",
   "execution_count": 49,
   "metadata": {},
   "outputs": [
    {
     "data": {
      "text/plain": [
       "array([0, 1, 2, 3, 4, 5, 6, 7, 8, 9])"
      ]
     },
     "execution_count": 49,
     "metadata": {},
     "output_type": "execute_result"
    }
   ],
   "source": [
    "arr = np.arange(10)\n",
    "arr"
   ]
  },
  {
   "cell_type": "code",
   "execution_count": 50,
   "metadata": {},
   "outputs": [
    {
     "data": {
      "text/plain": [
       "array([5, 6, 7])"
      ]
     },
     "execution_count": 50,
     "metadata": {},
     "output_type": "execute_result"
    }
   ],
   "source": [
    "arr_slice = arr[5:8]\n",
    "arr_slice"
   ]
  },
  {
   "cell_type": "code",
   "execution_count": 51,
   "metadata": {},
   "outputs": [
    {
     "data": {
      "text/plain": [
       "array([[1, 2, 3],\n",
       "       [4, 5, 6],\n",
       "       [7, 8, 9]])"
      ]
     },
     "execution_count": 51,
     "metadata": {},
     "output_type": "execute_result"
    }
   ],
   "source": [
    "# 다차원 ndarray의 슬라이싱\n",
    "arr2d = np.array([[1,2,3],\n",
    "                 [4,5,6],\n",
    "                 [7,8,9]])\n",
    "arr2d"
   ]
  },
  {
   "cell_type": "code",
   "execution_count": 52,
   "metadata": {},
   "outputs": [
    {
     "data": {
      "text/plain": [
       "array([[1, 2, 3],\n",
       "       [4, 5, 6]])"
      ]
     },
     "execution_count": 52,
     "metadata": {},
     "output_type": "execute_result"
    }
   ],
   "source": [
    "arr2d[:2]"
   ]
  },
  {
   "cell_type": "code",
   "execution_count": 53,
   "metadata": {},
   "outputs": [
    {
     "data": {
      "text/plain": [
       "array([[2, 3],\n",
       "       [5, 6]])"
      ]
     },
     "execution_count": 53,
     "metadata": {},
     "output_type": "execute_result"
    }
   ],
   "source": [
    "arr2d[:2,1:]  # 생략 되어 있다면 0부터!"
   ]
  },
  {
   "cell_type": "markdown",
   "metadata": {},
   "source": [
    "#### Boolean Indexing\n",
    "- 조건 필터링과 검색을 동시에 할 수 있어 매우 자주 이용되는 인덱싱 방식"
   ]
  },
  {
   "cell_type": "code",
   "execution_count": 54,
   "metadata": {},
   "outputs": [
    {
     "data": {
      "text/plain": [
       "array([1, 2, 3, 4, 5, 6, 7, 8, 9])"
      ]
     },
     "execution_count": 54,
     "metadata": {},
     "output_type": "execute_result"
    }
   ],
   "source": [
    "array1d = np.arange(start=1, stop=10) #(1,10)과 같음\n",
    "array1d"
   ]
  },
  {
   "cell_type": "code",
   "execution_count": 55,
   "metadata": {},
   "outputs": [
    {
     "data": {
      "text/plain": [
       "array([6, 7, 8, 9])"
      ]
     },
     "execution_count": 55,
     "metadata": {},
     "output_type": "execute_result"
    }
   ],
   "source": [
    "# [ ] 안에 array1d > 5보다 높은 것만 가져오너라!\n",
    "boolean_array1d = array1d[array1d > 5]\n",
    "boolean_array1d"
   ]
  },
  {
   "cell_type": "code",
   "execution_count": 56,
   "metadata": {},
   "outputs": [
    {
     "data": {
      "text/plain": [
       "array([False, False, False, False, False,  True,  True,  True,  True])"
      ]
     },
     "execution_count": 56,
     "metadata": {},
     "output_type": "execute_result"
    }
   ],
   "source": [
    "array1d > 5 # 5이상이면 True로 표시"
   ]
  },
  {
   "cell_type": "markdown",
   "metadata": {},
   "source": [
    "#### 난수 생성 \n",
    "- np.random.rand(): 균등 분포에서 추철 \n",
    "- np.random.randint(): 주어진 범위 내의 임의의 난수 \n",
    "- np.random.randn(): 표준편차가 1이고 평균 0인 정규 분포에서 추출 \n",
    "- np.random.normal(): 정규 분포에서 추출"
   ]
  },
  {
   "cell_type": "code",
   "execution_count": 57,
   "metadata": {},
   "outputs": [
    {
     "data": {
      "text/plain": [
       "array([[ 0.15947163, -0.10381295, -1.40611371, -0.83275307],\n",
       "       [ 0.38743887, -0.74626072, -0.77014419,  0.0822977 ],\n",
       "       [-0.0492367 , -0.97997549, -0.22625832,  0.36076559],\n",
       "       [ 0.82263307, -0.33873647,  1.56631342, -0.97812027]])"
      ]
     },
     "execution_count": 57,
     "metadata": {},
     "output_type": "execute_result"
    }
   ],
   "source": [
    "a = np.random.normal(size=(4,4))\n",
    "a"
   ]
  },
  {
   "cell_type": "code",
   "execution_count": 58,
   "metadata": {},
   "outputs": [
    {
     "data": {
      "text/plain": [
       "array([[-1.69453078, -0.77045282,  0.07073747, -0.51623367],\n",
       "       [ 1.17230171, -1.75608976, -1.06318371, -0.28396412],\n",
       "       [ 1.67912299,  0.26406609,  0.06496775, -1.61263553],\n",
       "       [-0.19099145, -0.89348338,  1.54734076,  0.74781568]])"
      ]
     },
     "execution_count": 58,
     "metadata": {},
     "output_type": "execute_result"
    }
   ],
   "source": [
    "b = np.random.randn(4,4)\n",
    "b"
   ]
  },
  {
   "cell_type": "markdown",
   "metadata": {},
   "source": [
    "#### 실습1: numpy을 왜 사용할까? \n",
    "\n",
    "다음 프로그램을 작성해보자. \n",
    "- 1 또는 -1의 값을 랜덤하게 생성한다. 1이 나오면 한 칸 전진하고 -1이 나오면 한 칸 후진한다. \n",
    "- 이 과정을 1000회 반복한다. 그 때 나의 위치는 어디인가? "
   ]
  },
  {
   "cell_type": "code",
   "execution_count": 59,
   "metadata": {},
   "outputs": [],
   "source": [
    "# numpy를 모르고 파이썬 프로그래밍만으로 만들 때 \n",
    "import random\n",
    "position = 0\n",
    "walk = [position]\n",
    "for i in range(1000):\n",
    "    step = 1 if random.randint(0,1) else -1\n",
    "    position + step\n",
    "    walk.append(position)"
   ]
  },
  {
   "cell_type": "markdown",
   "metadata": {},
   "source": [
    "이것을 numpy 버전으로 만드시오. 단, 변수는 draws, steps, walk 이 3가지만 사용하여야 한다."
   ]
  },
  {
   "cell_type": "markdown",
   "metadata": {},
   "source": [
    "#### 실습2: numpy를 왜 사용할까? \n",
    "𝒚 = 𝒙^𝟑 +𝟑𝒙^𝟐 +𝟑𝒙 + 𝟏의 그래프를 그려라. x와 y에 값을 넣어 에러를 해결하세요!"
   ]
  },
  {
   "cell_type": "code",
   "execution_count": 60,
   "metadata": {
    "scrolled": true
   },
   "outputs": [
    {
     "ename": "NameError",
     "evalue": "name '_________' is not defined",
     "output_type": "error",
     "traceback": [
      "\u001b[1;31m---------------------------------------------------------------------------\u001b[0m",
      "\u001b[1;31mNameError\u001b[0m                                 Traceback (most recent call last)",
      "\u001b[1;32m<ipython-input-60-88a47a7f80d7>\u001b[0m in \u001b[0;36m<module>\u001b[1;34m\u001b[0m\n\u001b[0;32m      3\u001b[0m \u001b[0mget_ipython\u001b[0m\u001b[1;33m(\u001b[0m\u001b[1;33m)\u001b[0m\u001b[1;33m.\u001b[0m\u001b[0mrun_line_magic\u001b[0m\u001b[1;33m(\u001b[0m\u001b[1;34m'matplotlib'\u001b[0m\u001b[1;33m,\u001b[0m \u001b[1;34m'inline'\u001b[0m\u001b[1;33m)\u001b[0m\u001b[1;33m\u001b[0m\u001b[1;33m\u001b[0m\u001b[0m\n\u001b[0;32m      4\u001b[0m \u001b[1;33m\u001b[0m\u001b[0m\n\u001b[1;32m----> 5\u001b[1;33m \u001b[0mx\u001b[0m \u001b[1;33m=\u001b[0m \u001b[0m_________\u001b[0m\u001b[1;33m\u001b[0m\u001b[1;33m\u001b[0m\u001b[0m\n\u001b[0m\u001b[0;32m      6\u001b[0m \u001b[0my\u001b[0m \u001b[1;33m=\u001b[0m \u001b[0m_________\u001b[0m\u001b[1;33m\u001b[0m\u001b[1;33m\u001b[0m\u001b[0m\n\u001b[0;32m      7\u001b[0m \u001b[1;33m\u001b[0m\u001b[0m\n",
      "\u001b[1;31mNameError\u001b[0m: name '_________' is not defined"
     ]
    }
   ],
   "source": [
    "import pandas as pd\n",
    "import matplotlib.pyplot as plt\n",
    "%matplotlib inline\n",
    "\n",
    "x = _________\n",
    "y = _________\n",
    "\n",
    "df = pd.DataFrame(x,y)\n",
    "plt.plot(df)"
   ]
  },
  {
   "cell_type": "markdown",
   "metadata": {},
   "source": [
    "여기까지가 수치 데이터 처리에 사용되는 NumPy였습니다! \n",
    "지금 바로 당장에는 사용하지 않을 것 같아요. 당장에 많이 사용되는 것은 pandas겠지만 그래도 pandas 배우는 김에 numpy도 배우고 넘어가야하지 않겠어요. \n",
    "\n",
    "**과제방에 실습 1,2를 올려주시면 됩니다!**"
   ]
  },
  {
   "cell_type": "markdown",
   "metadata": {},
   "source": [
    "# 🦉COSADAMA Introduction to Data Science Study\n",
    "\n",
    "- 작성자: 박하람 \n",
    "- 참고자료: 파이썬 머신러닝 완벽가이드(권철민), 비쥬얼프로그래밍 수업(김승태), 파이썬으로 데이터 주무르기(민형기)\n",
    "\n",
    "\n",
    "### 2.2. 시각화 - Matplotlib\n",
    "\n",
    "시각화는 **수집한 데이터의 의미를 명확히 이해할 수 있도록 단순하고 직관적이게 표현**해줍니다. 수많은 줄글 보다 하나의 표가 더 직관적으로 정보를 이해할 수 있죠. 신문기사를 봐도 단순히 수치를 얘기한 것보다 그래프를 이용해 제시한 것이 훨씬 더 이해가 잘 가는 것처럼요. \n",
    "파이썬 기반의 대표적인 시각화로는 **matplotlib과 seaborn**이 있습니다. 판다스 자체에서도 그래프를 표시할 수 있는 방법이 있지만, matplotlib가 더욱 편합니다. 그러나 matplotlib보다 seaborn이 더 고급화된 시각화 도구라 seaborn 또한 많이 쓰입니다. 우리는 간단하게 matplotlib부터 학습해 볼겁니다. \n",
    "\n",
    "- **주교재 56-65쪽과 함께 보기**\n",
    "\n",
    "#### matplotlib 라이브러리 구축하기"
   ]
  },
  {
   "cell_type": "code",
   "execution_count": 61,
   "metadata": {},
   "outputs": [],
   "source": [
    "import matplotlib.pyplot as plt \n",
    "%matplotlib inline   "
   ]
  },
  {
   "cell_type": "markdown",
   "metadata": {},
   "source": [
    "matplotlib 중 그래프를 그리는 모듈은 matplotlib.pyplot입니다. **%matplotlib inline**은 현재 이 페이지에 그래프를 내장해서 보여주는 아주 편리한 방식입니다. 보통 이 두 가지는 필수로 적어두고 시각화를 진행합니다.\n",
    "\n",
    "\n",
    "1. 라이브러리를 import 한다. \n",
    "2. 가시화할 데이터를 로딩(생성)한다. \n",
    "3. 그래프의 속성을 설정한다. (레이블, 색상, 각 축의 제목 등) \n",
    "4. 그래프를 그린다. \n",
    "5. 그래프를 출력한다. \n",
    "\n",
    "이런 순서로 시각화가 진행됩니다.\n",
    "\n",
    "#### 아주 간단한 그래프 그리기"
   ]
  },
  {
   "cell_type": "code",
   "execution_count": 62,
   "metadata": {},
   "outputs": [
    {
     "data": {
      "image/png": "[encoded data removed]",
      "text/plain": [
       "<Figure size 432x288 with 1 Axes>"
      ]
     },
     "metadata": {
      "needs_background": "light"
     },
     "output_type": "display_data"
    }
   ],
   "source": [
    "import numpy as np\n",
    "\n",
    "plt.plot([1.5,3.5,-2,1.6,1.5,3.5,-2,1.6])\n",
    "plt.plot(np.random.randn(50).cumsum(), 'k--')\n",
    "plt.show()"
   ]
  },
  {
   "cell_type": "markdown",
   "metadata": {},
   "source": [
    "축하합니다! 여러분은 방금 첫 그래프를 그려보았습니다. 매우 간단하죠? 그럼 어떻게 해서 이런 2개의 그래프가 나올 수 있었는지 알아봅시다."
   ]
  },
  {
   "cell_type": "code",
   "execution_count": 63,
   "metadata": {},
   "outputs": [
    {
     "data": {
      "image/png": "[encoded data removed]",
      "text/plain": [
       "<Figure size 432x288 with 1 Axes>"
      ]
     },
     "metadata": {
      "needs_background": "light"
     },
     "output_type": "display_data"
    }
   ],
   "source": [
    "plt.plot([1.5,3.5,-2,1.6,1.5,3.5,-2,1.6])  # 선그래프 그리기\n",
    "plt.show()  # 그래프 보여줘라!"
   ]
  },
  {
   "cell_type": "markdown",
   "metadata": {},
   "source": [
    "이 그래프는 이 전의 파란색 그래프입니다. x축이 달라서 그렇지 실제로는 앞의 파란색 그래프와 같은 그래프에요. "
   ]
  },
  {
   "cell_type": "code",
   "execution_count": 64,
   "metadata": {},
   "outputs": [
    {
     "data": {
      "image/png": "[encoded data removed]",
      "text/plain": [
       "<Figure size 432x288 with 1 Axes>"
      ]
     },
     "metadata": {
      "needs_background": "light"
     },
     "output_type": "display_data"
    }
   ],
   "source": [
    "plt.plot(np.random.randn(50).cumsum(), 'k--')\n",
    "plt.show()"
   ]
  },
  {
   "cell_type": "markdown",
   "metadata": {},
   "source": [
    "어, 이건 왜 앞의 것을 그래로 붙였는데 앞과 그래프 분포가 다르죠? 넘파이를 배웠다면 random.randn() 때문이란 걸 아실 겁니다. 그런데 왜 검은 색 점선일까요? 옵션을 **'k--'**로 선택했기 때문에 그래요. k는 black의 k이고, --는 점선을 의미해요.\n",
    "\n",
    "#### 히스토그램 그리기"
   ]
  },
  {
   "cell_type": "code",
   "execution_count": 65,
   "metadata": {},
   "outputs": [
    {
     "data": {
      "image/png": "[encoded data removed]",
      "text/plain": [
       "<Figure size 432x288 with 1 Axes>"
      ]
     },
     "metadata": {
      "needs_background": "light"
     },
     "output_type": "display_data"
    }
   ],
   "source": [
    "import numpy as np\n",
    "import matplotlib.pyplot as plt\n",
    "\n",
    "mu = 100\n",
    "sigma = 15\n",
    "x = np.random.normal(mu, sigma, 10000)\n",
    "\n",
    "ax = plt.gca()\n",
    "\n",
    "# the histogram of the data \n",
    "ax.hist(x, bins=35, color='r')  #히스토그램을 그리자\n",
    "ax.set_xlabel('Values')       #x축을 values로 설정!\n",
    "ax.set_ylabel('Frequency')    #y축을 Frequency로 설정!\n",
    "\n",
    "# title을 이렇게 적어주세요~\n",
    "ax.set_title(r'$\\mathrm{Histogram:}\\ \\mu=%d,\\ \\sigma=%d$' % (mu, sigma)) \n",
    "\n",
    "plt.show()"
   ]
  },
  {
   "cell_type": "markdown",
   "metadata": {},
   "source": [
    "짠! 이렇게 히스토그램이 그려졌습니다. matplotlib에 있는 그래프는 수만가지로 매우 다양합니다. 그래서 하나씩 변경해보면서 어떻게 그릴 수 있을까 직접 해보는 것이 좋아요. 이건 막 외우는게 아닙니다. 이 데이터를 보니까 내가 이런 그래프가 필요하겠구나 - 이런 그래프를 만드려면 어떤 코드를 넣어야 하지 이렇게 그 때 그 때 찾아가면서 맞게 적용하면 되는 겁니다. 코드를 복붙해서 하나하나씩 기능을 알아보세요! \n",
    "\n",
    "#### 파이 그래프 그리기"
   ]
  },
  {
   "cell_type": "code",
   "execution_count": 66,
   "metadata": {},
   "outputs": [
    {
     "data": {
      "image/png": "[encoded data removed]",
      "text/plain": [
       "<Figure size 576x576 with 1 Axes>"
      ]
     },
     "metadata": {},
     "output_type": "display_data"
    }
   ],
   "source": [
    "import matplotlib.pyplot as plt\n",
    "\n",
    "# make a square figure and axes\n",
    "# pie chart looks best in square figures \n",
    "# otherwise it looks like ellipses \n",
    "plt.figure(1, figsize=(8, 8))\n",
    "ax = plt.axes([0.1, 0.1, 0.8, 0.8])\n",
    "\n",
    "# The slices will be ordered and plotted counter-clockwise. \n",
    "labels = 'Spring', 'Summer', 'Autumn', 'Winter'\n",
    "values = [15, 16, 16, 28]\n",
    "explode =[0.1, 0.1, 0.1, 0.1]\n",
    "\n",
    "# make a pie\n",
    "plt.pie(values, explode=explode, labels=labels,autopct='%1.1f%%', startangle=67)\n",
    "\n",
    "plt.title('Rainy days by season')\n",
    "\n",
    "plt.show()"
   ]
  },
  {
   "cell_type": "markdown",
   "metadata": {},
   "source": [
    "오, 파이 그래프는 이렇게 그리는 것이군요! 이것도 하나씩 수치를 바꿔가거나 구글링해서 특성이 무엇인지 파악하세요. 이게 matplotlib를 학습하는 쉬운 길입니다. \n",
    "\n",
    "#### 여러 개의 그래프를 한번에 그리기 \n",
    "그래프를 그릴 때에는 figure를 생성해서 사용합니다. 하나의 큰 figure에 subplot(각각의 그래프)들이 들어가는 거에요. 쉽게 말해 figure는 그래프를 포함할 수 있는 윈도우(껍데기)이며, 그래프는 또 그 안에 별도로 생성해주어야 합니다. "
   ]
  },
  {
   "cell_type": "code",
   "execution_count": 67,
   "metadata": {},
   "outputs": [
    {
     "data": {
      "text/plain": [
       "[<matplotlib.lines.Line2D at 0x1ccd56b0730>]"
      ]
     },
     "execution_count": 67,
     "metadata": {},
     "output_type": "execute_result"
    },
    {
     "data": {
      "image/png": "[encoded data removed]",
      "text/plain": [
       "<Figure size 432x288 with 3 Axes>"
      ]
     },
     "metadata": {
      "needs_background": "light"
     },
     "output_type": "display_data"
    }
   ],
   "source": [
    "fig = plt.figure()   #figure 생성 \n",
    "\n",
    "ax1 = fig.add_subplot(2,2,1)   #2*2 크기의 1번 서브플롯 \n",
    "ax2 = fig.add_subplot(2,2,2)   #2*2 크기의 2번 서브플롯 \n",
    "ax3 = fig.add_subplot(2,2,3)   #2*2 크기의 3번 서브플롯\n",
    "\n",
    "ax1.hist(np.random.randn(100), bins=20, color='k', alpha=0.3)\n",
    "ax2.scatter(np.arange(30), np.arange(30) + 3 * np.random.randn(30))\n",
    "ax3.plot([1.5,3.5,-2,1.6])"
   ]
  },
  {
   "cell_type": "markdown",
   "metadata": {},
   "source": [
    "아하! ax1에는 히스토그램, ax2에는 산점도, ax3에는 선 그래프를 그린 것이구나! 그런데 히스토그램 속의 옵션 값은 무엇을 의미하는거지? 숫자를 바꿔가면서 이리저리 그려보세요 그러면 무엇을 의미하는지 알 수 있어요. 그래도 모르겠다?"
   ]
  },
  {
   "cell_type": "code",
   "execution_count": 68,
   "metadata": {},
   "outputs": [],
   "source": [
    "plt.hist?"
   ]
  },
  {
   "cell_type": "markdown",
   "metadata": {},
   "source": [
    "우리에게는 **도움말**이 있죠? 이를 통해 파라미터의 의미를 알 수 있습니다. \n",
    "\n",
    "산점도를 더 쉬운 예제로 이해해보죠."
   ]
  },
  {
   "cell_type": "code",
   "execution_count": 69,
   "metadata": {},
   "outputs": [
    {
     "data": {
      "text/plain": [
       "<matplotlib.collections.PathCollection at 0x1ccd5735730>"
      ]
     },
     "execution_count": 69,
     "metadata": {},
     "output_type": "execute_result"
    },
    {
     "data": {
      "image/png": "[encoded data removed]",
      "text/plain": [
       "<Figure size 432x288 with 1 Axes>"
      ]
     },
     "metadata": {
      "needs_background": "light"
     },
     "output_type": "display_data"
    }
   ],
   "source": [
    "x_values = [1,2,3,4,5]\n",
    "y_values = [1,4,9,16,25]\n",
    "\n",
    "plt.scatter(x_values, y_values, s = 40)"
   ]
  },
  {
   "cell_type": "code",
   "execution_count": 70,
   "metadata": {},
   "outputs": [
    {
     "data": {
      "text/plain": [
       "<matplotlib.collections.PathCollection at 0x1ccd5793df0>"
      ]
     },
     "execution_count": 70,
     "metadata": {},
     "output_type": "execute_result"
    },
    {
     "data": {
      "image/png": "[encoded data removed]",
      "text/plain": [
       "<Figure size 432x288 with 1 Axes>"
      ]
     },
     "metadata": {
      "needs_background": "light"
     },
     "output_type": "display_data"
    }
   ],
   "source": [
    "x_values = [1,2,3,4,5]\n",
    "y_values = [1,4,9,16,25]\n",
    "\n",
    "plt.scatter(x_values, y_values, s = 10)"
   ]
  },
  {
   "cell_type": "markdown",
   "metadata": {},
   "source": [
    "아하! 옵션값 s가 점의 크기를 말하는 것이었군요! x와 y 데이터는 저렇게 공급해주는 거군요! 이렇게 이해하면 됩니다. \n",
    "\n",
    "#### 그래프 꾸미기"
   ]
  },
  {
   "cell_type": "code",
   "execution_count": 71,
   "metadata": {},
   "outputs": [
    {
     "data": {
      "text/plain": [
       "[<matplotlib.lines.Line2D at 0x1ccd67d1700>]"
      ]
     },
     "execution_count": 71,
     "metadata": {},
     "output_type": "execute_result"
    },
    {
     "data": {
      "image/png": "[encoded data removed]",
      "text/plain": [
       "<Figure size 432x288 with 1 Axes>"
      ]
     },
     "metadata": {
      "needs_background": "light"
     },
     "output_type": "display_data"
    }
   ],
   "source": [
    "x = [1,2,3,4,5]\n",
    "y = [1,4,9,16,25]\n",
    "\n",
    "plt.plot(x, y, 'g--') # green색 점선"
   ]
  },
  {
   "cell_type": "code",
   "execution_count": 72,
   "metadata": {},
   "outputs": [],
   "source": [
    "plt.plot?"
   ]
  },
  {
   "cell_type": "markdown",
   "metadata": {},
   "source": [
    "**Markers**\n",
    "\n",
    "``'.'``          point marker\n",
    "``','``          pixel marker\n",
    "``'o'``          circle marker\n",
    "``'v'``          triangle_down marker\n",
    "``'^'``          triangle_up marker\n",
    "``'<'``          triangle_left marker\n",
    "``'>'``          triangle_right marker\n",
    "``'1'``          tri_down marker\n",
    "``'2'``          tri_up marker\n",
    "``'3'``          tri_left marker\n",
    "``'4'``          tri_right marker\n",
    "``'s'``          square marker\n",
    "``'p'``          pentagon marker\n",
    "``'*'``          star marker\n",
    "``'h'``          hexagon1 marker\n",
    "``'H'``          hexagon2 marker\n",
    "``'+'``          plus marker\n",
    "``'x'``          x marker\n",
    "``'D'``          diamond marker\n",
    "``'d'``          thin_diamond marker\n",
    "``'|'``          vline marker\n",
    "``'_'``          hline marker\n",
    "\n",
    "**Line Styles**\n",
    "\n",
    "``'-'``          solid line style\n",
    "``'--'``         dashed line style\n",
    "``'-.'``         dash-dot line style\n",
    "``':'``          dotted line style\n",
    "\n",
    "\n",
    "등등등등..... 그 외에도 도움말을 보면 다양하게 그래프를 꾸밀 수 있습니다!\n",
    "\n",
    "#### 범례 추가하기"
   ]
  },
  {
   "cell_type": "code",
   "execution_count": 73,
   "metadata": {},
   "outputs": [
    {
     "data": {
      "text/plain": [
       "<matplotlib.legend.Legend at 0x1ccd682fcd0>"
      ]
     },
     "execution_count": 73,
     "metadata": {},
     "output_type": "execute_result"
    },
    {
     "data": {
      "image/png": "[encoded data removed]",
      "text/plain": [
       "<Figure size 432x288 with 1 Axes>"
      ]
     },
     "metadata": {
      "needs_background": "light"
     },
     "output_type": "display_data"
    }
   ],
   "source": [
    "fig = plt.figure()\n",
    "ax = fig.add_subplot(1,1,1)\n",
    "\n",
    "ax.plot(np.random.randn(1000).cumsum(), 'k', label='one')\n",
    "ax.plot(np.random.randn(1000).cumsum(), 'g--', label='two')\n",
    "ax.plot(np.random.randn(1000).cumsum(), 'r.', label='three')\n",
    "\n",
    "ax.legend(loc='best')  #범례 위치가 best인 곳에 놓아라"
   ]
  },
  {
   "cell_type": "markdown",
   "metadata": {},
   "source": [
    "범례가 여기 보면, 왼쪽 제일 아래에 one, two, three로 잘 표시되어 있네요. 얘가 생각하기에 여기 위치가 범례가 있기에 제일 best라고 생각하는 것 같아요! \n",
    "\n",
    "#### 그래프에 한글 표시하기 \n",
    "\n",
    "matplotlib이 기본으로 가진 **폰트는 한글을 지원하지 않기 때문에** matplotlib의 폰트를 변경할 필요가 있어요. 그래서 아래와 같이 항상 써줘야 합니다!"
   ]
  },
  {
   "cell_type": "code",
   "execution_count": 74,
   "metadata": {},
   "outputs": [],
   "source": [
    "# 이거는 그냥 가져다 붙이면 됩니다. 이해 할 필요 없어요.\n",
    "import platform \n",
    "\n",
    "from matplotlib import font_manager, rc \n",
    "plt.rcParams['axes.unicode_minus'] = False\n",
    "\n",
    "if platform.system() == 'Darwin':\n",
    "    rc('font', family='AppleGothic')\n",
    "elif platform.system() == 'Windows':\n",
    "    path = \"c:/Windows/Fonts/malgun.ttf\"\n",
    "    font_name = font_manager.FontProperties(fname=path).get_name()\n",
    "    rc('font', family=font_name)\n",
    "else:\n",
    "    print('Unknown system')"
   ]
  },
  {
   "cell_type": "markdown",
   "metadata": {},
   "source": [
    "이렇게 해서 matplotlib 사용법에 대해 아주 간단하게 알아보았습니다. 주교재의 설명과 함께 보시면 더욱 더 잘 이해할 수 있을 겁니다! \n",
    "\n",
    "더 다양한 그래프를 보고 싶다면 [matplotlib 홈페이지](https://matplotlib.org/index.html)에 examples에 들어가시면 됩니다. 좀 몇개 그래프가 내가 쓸만하다 하는 것을 골라놓은 다음에 내용을 숙지하고 써먹으면 됩니다.\n",
    "\n",
    "#### 실습과제: 득표율 그래프 그리기\n",
    "\n",
    "방송국의 개표 결과가 나왔다. 1번 후보 홍길동이 20.0%, 2번 후보 심청이 37.3%, 3번 후보 이순신이 21.3%, 4번 후보 강감찬이 21.3%를 차지했다. 이를 기반으로 파이 그래프를 그려라. \n",
    "\n"
   ]
  }
 ],
 "metadata": {
  "kernelspec": {
   "display_name": "Python 3",
   "language": "python",
   "name": "python3"
  },
  "language_info": {
   "codemirror_mode": {
    "name": "ipython",
    "version": 3
   },
   "file_extension": ".py",
   "mimetype": "text/x-python",
   "name": "python",
   "nbconvert_exporter": "python",
   "pygments_lexer": "ipython3",
   "version": "3.8.5"
  }
 },
 "nbformat": 4,
 "nbformat_minor": 2
}
