{
 "cells": [
  {
   "cell_type": "markdown",
   "metadata": {},
   "source": [
    "# 🦉COSADAMA Introduction to Data Science Study\n",
    "\n",
    "- 일자: 2020-06-01\n",
    "- 작성자: 박하람 \n",
    "- 참고자료: 파이썬으로 데이터 주무르기(민형기)\n",
    "- 교재: 235 - 264쪽 (깃헙 교안으로 공부하면서, 궁금한 부분은 교재를 참고하세요. 혹은 깃헙 교안을 다 보고 교재를 복습 겸 읽어봐도 됩니다!)\n",
    "\n",
    "## 8. 19대 대선 결과 분석 \n",
    "\n",
    "이번 프로젝트 **19대 대선 결과 분석**에서는 무지 재미있는 작업을 해볼겁니다! 투표율로 대한민국 지도 시각화를 해볼 것인데요😍(소리 질러!) 현 문재인 대통령을 만들었던 19대 대통령 투표율을 시각화해 볼 것이에요. 19대 대선에서는 민주당 문재인, 자한당 홍준표, 국민당 안철수가 유력 후보였는데요! 이 세 후보를 지역별로 시각화해보고, 문재인 vs. 홍준표 / 홍준표 vs. 안철수 / 문재인 vs. 안철수까지 비교해서 시각화해볼 것입니다. 완전 신나죠잉? \n",
    "\n",
    "이번에는 지난 시간에 사용한 Selenium과 BeautifulSoup을 다시 사용해서 웹크롤링 해올 것이구요, 혜식님의 코드를 일부 가져와 대한민국 지도를 시각화했던 것이 기억나시죠? 이번 프로젝트에서는 다시 사용해서 시각화해보려고 합니다🥰 마찬가지로 복습이 되겠지요🐶\n",
    "\n",
    "✘ 주의할 점 ✘\n",
    "- 교재 235 - 248쪽은 선거관리 위원회 홈페이지가 재보궐선거로 구성화면이 변경되었기 때문에 활용할 수 없습니다...😢 \n",
    "- 교재는 6-3부터 다시 참고할 수 있습니다! 6-1과 6-2절은 요 깃헙을 참고해주시길 바라요! \n",
    "\n",
    "### 8.1 Selinium과 Beautiful Soup을 이용한 데이터 획득 준비 작업 \n",
    "\n",
    "우선 필요한 모듈들을 모두 import해줍시다."
   ]
  },
  {
   "cell_type": "code",
   "execution_count": 1,
   "metadata": {},
   "outputs": [],
   "source": [
    "import pandas as pd\n",
    "import numpy as np\n",
    "\n",
    "import platform\n",
    "import matplotlib.pyplot as plt\n",
    "\n",
    "%matplotlib inline\n",
    "\n",
    "path = \"c:/Windows/Fonts/malgun.ttf\"\n",
    "from matplotlib import font_manager, rc\n",
    "if platform.system() == 'Darwin':\n",
    "    rc('font', family='AppleGothic')\n",
    "elif platform.system() == 'Windows':\n",
    "    font_name = font_manager.FontProperties(fname=path).get_name()\n",
    "    rc('font', family=font_name)\n",
    "else:\n",
    "    print('Unknown system... sorry~~~~')    \n",
    "\n",
    "plt.rcParams['axes.unicode_minus'] = False"
   ]
  },
  {
   "cell_type": "markdown",
   "metadata": {},
   "source": [
    "Selenium을 사용해서 웹크롤링 할 것이기 때문에 Selenium도 import 해주고요."
   ]
  },
  {
   "cell_type": "code",
   "execution_count": 2,
   "metadata": {},
   "outputs": [],
   "source": [
    "from selenium import webdriver\n",
    "import time"
   ]
  },
  {
   "cell_type": "markdown",
   "metadata": {},
   "source": [
    "그 다음부터는 이전에 했을 때 고대로 적용하면 됩니다. 공식이니 뭐 이해할 필요 없이 웹드라이버 위치 찾아서 넣고! 홈페이지 찾아서 넣으면 되겠죵? \n",
    "\n",
    "- [중앙선거관리위원회 선거통계시스템](http://info.nec.go.kr/main/showDocument.xhtml?electionId=0000000000&topMenuId=VC&secondMenuId=VCCP09): 요 사이트에서 대통령선거, 국회의원선거, 지방선거까지 모두 확인할 수 있습니다 :) "
   ]
  },
  {
   "cell_type": "code",
   "execution_count": 3,
   "metadata": {},
   "outputs": [],
   "source": [
    "# 본인의 웹드라이버 위치 넣으세요! \n",
    "driver = webdriver.Chrome('/Users/harampark/Documents/chromedriver')\n",
    "# 원하는 홈페이지로 슝~\n",
    "driver.get(\"http://info.nec.go.kr/main/showDocument.xhtml?electionId=0000000000&topMenuId=VC&secondMenuId=VCCP09\")"
   ]
  },
  {
   "cell_type": "markdown",
   "metadata": {},
   "source": [
    "![대통령 선거](images/1.png)\n",
    "\n",
    "우리가 원하는 것은 대통령 선거니 대통령 선거를 클릭해줘야겠죠? ID를 활용하여 클릭을 명령하라고 할 것이기 때문에 개발자도구로 해당 부분의 ID를 확인합니다! "
   ]
  },
  {
   "cell_type": "code",
   "execution_count": 4,
   "metadata": {},
   "outputs": [],
   "source": [
    "driver.find_element_by_id(\"electionType1\").click()"
   ]
  },
  {
   "cell_type": "markdown",
   "metadata": {},
   "source": [
    "- elem.send_keys('원하는 키 선택')\n",
    "\n",
    "메서드 체인으로 연결해서 제19대와 대통령 선거를 클릭할 겁니다! "
   ]
  },
  {
   "cell_type": "code",
   "execution_count": 5,
   "metadata": {},
   "outputs": [],
   "source": [
    "# 해당 부분의 ID 찾고 제19대 누르라고 명령! \n",
    "driver.find_element_by_id(\"electionName\").send_keys(\"제19대\")"
   ]
  },
  {
   "cell_type": "code",
   "execution_count": 6,
   "metadata": {},
   "outputs": [],
   "source": [
    "# 해당 부분의 ID 찾고 대통령 선거 누르라고 명령!\n",
    "driver.find_element_by_id(\"electionCode\").send_keys(\"대통령선거\")"
   ]
  },
  {
   "cell_type": "markdown",
   "metadata": {},
   "source": [
    "![대통령 선거](images/2.png)\n",
    "\n",
    "여기까지 오셨다면 잘하셨습니다. 그 다음에 '시도' 파트에서는 광역시와 시도 이름들까지 가져와서 리스트를 만들어주려고 해요. 그래서 '시도'의 xpath을 복사해 준 후, option이라는 태그를 클릭해 텍스트만 가져오려고 합니다! "
   ]
  },
  {
   "cell_type": "code",
   "execution_count": 7,
   "metadata": {},
   "outputs": [
    {
     "data": {
      "text/plain": [
       "['▽ 선 택',\n",
       " '▷ 전 체',\n",
       " '서울특별시',\n",
       " '부산광역시',\n",
       " '대구광역시',\n",
       " '인천광역시',\n",
       " '광주광역시',\n",
       " '대전광역시',\n",
       " '울산광역시',\n",
       " '세종특별자치시',\n",
       " '경기도',\n",
       " '강원도',\n",
       " '충청북도',\n",
       " '충청남도',\n",
       " '전라북도',\n",
       " '전라남도',\n",
       " '경상북도',\n",
       " '경상남도',\n",
       " '제주특별자치도']"
      ]
     },
     "execution_count": 7,
     "metadata": {},
     "output_type": "execute_result"
    }
   ],
   "source": [
    "sido_list_raw = driver.find_element_by_xpath(\"\"\"//*[@id=\"cityCode\"]\"\"\")\n",
    "sido_list = sido_list_raw.find_elements_by_tag_name(\"option\") # 옵션이라는 태그 이름! \n",
    "sido_names_values = [option.text for option in sido_list] # 옵션의 텍스트만!\n",
    "sido_names_values"
   ]
  },
  {
   "cell_type": "code",
   "execution_count": 8,
   "metadata": {},
   "outputs": [
    {
     "data": {
      "text/plain": [
       "['서울특별시',\n",
       " '부산광역시',\n",
       " '대구광역시',\n",
       " '인천광역시',\n",
       " '광주광역시',\n",
       " '대전광역시',\n",
       " '울산광역시',\n",
       " '세종특별자치시',\n",
       " '경기도',\n",
       " '강원도',\n",
       " '충청북도',\n",
       " '충청남도',\n",
       " '전라북도',\n",
       " '전라남도',\n",
       " '경상북도',\n",
       " '경상남도',\n",
       " '제주특별자치도']"
      ]
     },
     "execution_count": 8,
     "metadata": {},
     "output_type": "execute_result"
    }
   ],
   "source": [
    "# 선택, 전체 없애고 나머지만 가져오자!\n",
    "sido_names_values = sido_names_values[2:]\n",
    "sido_names_values"
   ]
  },
  {
   "cell_type": "markdown",
   "metadata": {},
   "source": [
    "이렇게 시도 리스트들을 다 잘 가져왔네요! 이후에 사용되니까 이를 변수에 잘 저장해 놨구요. 본격적으로 데이터를 가져와봅시다. \n",
    "\n",
    "### 8.2 19대 대선 개표 결과 데이터 획득하기 \n",
    "\n",
    "이번 장에서는 여러분들이 활용을 어려워하시는 함수 사용을 많이 해볼 거에요. 함수는 편리한데요, 반복적으로 수행해야 하는 것들이 있을 때 함수를 활용하면 코드 길이를 확 줄일 수 있거든요. 코드가 더 이뻐지는거죠. 그래서 지난 시간에 배웠던 파이썬 정규표현식 모듈 re를 활용하여 잘 가공해보도록 합시다! \n",
    "\n",
    "우선 re를 import해주고, **get_num**이라는 함수를 만들어줬어요. "
   ]
  },
  {
   "cell_type": "code",
   "execution_count": 9,
   "metadata": {},
   "outputs": [],
   "source": [
    "import re\n",
    "\n",
    "def get_num(tmp):\n",
    "    return float(re.split('\\(', tmp)[0].replace(',',''))"
   ]
  },
  {
   "cell_type": "markdown",
   "metadata": {},
   "source": [
    "![함수](images/3.png)\n",
    "\n",
    "후에 웹크롤링으로 이 데이터를 가져오게 될 경우, ( )를 제외한 앞의 득표수만 가져오고 싶어서 만든 함수에요! re.split으로 '(' 이전으로 나눈후, 첫번째 항목=왼쪽 숫자만 얻어서, replace로 콤마를 제거하고 float 형으로 바꿔주는 함수에요. 이렇게 말하면 감이 안오실 수 있어서 하나 예시를 들어볼게요."
   ]
  },
  {
   "cell_type": "code",
   "execution_count": 14,
   "metadata": {},
   "outputs": [
    {
     "data": {
      "text/plain": [
       "24395.0"
      ]
     },
     "execution_count": 14,
     "metadata": {},
     "output_type": "execute_result"
    }
   ],
   "source": [
    "data = '24,395(412.3)'\n",
    "get_num(data)"
   ]
  },
  {
   "cell_type": "markdown",
   "metadata": {},
   "source": [
    "이제 조금 이해가 가시죠? \n",
    "\n",
    "그 다음에는 **move_sido**라는 함수를 만들어 줄 것이에요. 이 함수는 광역시도 이름을 리스트에 전송하고 검색 버튼을 누르는 역할을 해요. "
   ]
  },
  {
   "cell_type": "code",
   "execution_count": 15,
   "metadata": {},
   "outputs": [],
   "source": [
    "from selenium.webdriver.common.by import By\n",
    "from selenium.webdriver.support.ui import WebDriverWait\n",
    "from selenium.webdriver.support import expected_conditions as EC\n",
    "\n",
    "wait = WebDriverWait(driver, 10) # 10초 기다려주세요! \n",
    "\n",
    "def move_sido(name):\n",
    "    element = driver.find_element_by_id(\"cityCode\") \n",
    "    element.send_keys(name)\n",
    "    make_xpath = \"\"\"//*[@id=\"searchBtn\"]\"\"\"   # 검색 버튼의 xpath \n",
    "    wait.until(EC.element_to_be_clickable((By.XPATH,make_xpath)))  # 검색 버튼이 생길 때까지 기다리기! \n",
    "    driver.find_element_by_xpath(make_xpath).click() # 검색 버튼 클릭 "
   ]
  },
  {
   "cell_type": "markdown",
   "metadata": {},
   "source": [
    "시도 리스트에서 원하는 시도를 검색할 때 누를 곳의 id를 먼저 찾아주고요,(\"cityCode\") 그 다음에는 앞서 뽑아낸 광역시도 리스트를 이름에 넣어주어 클릭하도록 할 것이에요. 아래 사진과 같이요! \n",
    "![함수](images/4.png)\n",
    "\n",
    "그 다음에는 누른 후에 '검색'이라는 버튼이 나오게 되는데, 바로 나오지 않기 때문에 시간 간격을 주는 거랍니다. 검색 버튼의 xpath를 카피해 클릭하도록 하면 데이터 결과가 나오겠죠. \n",
    "![함수](images/5.png)\n",
    "\n",
    "그 다음에는 **append_data**라는 함수를 만들 것인데요, 빈 내용으로 미리 준비한 딕셔너리에 append 명령으로 읽은 데이터를 하나씩 추가하는 기능이에요. 앞의 get_num 함수를 활용해서 문재인, 홍준표, 안철수 후보들의 득표수만 가져올 수 있도록 함수를 만든 것이에요."
   ]
  },
  {
   "cell_type": "code",
   "execution_count": 17,
   "metadata": {},
   "outputs": [],
   "source": [
    "def append_data(df, sido_name, data):\n",
    "    for each in df[0].values[1:]:\n",
    "        data['광역시도'].append(sido_name)\n",
    "        data['시군'].append(each[0]) \n",
    "        data['pop'].append(each[2])\n",
    "        data['moon'].append(get_num(each[3]))\n",
    "        data['hong'].append(get_num(each[4]))\n",
    "        data['ahn'].append(get_num(each[5]))"
   ]
  },
  {
   "cell_type": "markdown",
   "metadata": {},
   "source": [
    "데이터를 담아서 데이터프레임으로 만들 것이니 하나 빈 변수를 만들어 주고요. "
   ]
  },
  {
   "cell_type": "code",
   "execution_count": 18,
   "metadata": {},
   "outputs": [],
   "source": [
    "election_result_raw = {'광역시도' : [],\n",
    "                       '시군' : [],\n",
    "                       'pop' : [],\n",
    "                       'moon' : [],\n",
    "                       'hong' : [],    \n",
    "                       'ahn' : [] }"
   ]
  },
  {
   "cell_type": "code",
   "execution_count": null,
   "metadata": {},
   "outputs": [],
   "source": []
  }
 ],
 "metadata": {
  "kernelspec": {
   "display_name": "Python 3",
   "language": "python",
   "name": "python3"
  },
  "language_info": {
   "codemirror_mode": {
    "name": "ipython",
    "version": 3
   },
   "file_extension": ".py",
   "mimetype": "text/x-python",
   "name": "python",
   "nbconvert_exporter": "python",
   "pygments_lexer": "ipython3",
   "version": "3.7.4"
  }
 },
 "nbformat": 4,
 "nbformat_minor": 2
}
