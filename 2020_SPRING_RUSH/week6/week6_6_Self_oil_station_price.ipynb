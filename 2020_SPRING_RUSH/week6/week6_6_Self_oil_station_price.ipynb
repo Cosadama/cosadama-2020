{
 "cells": [
  {
   "cell_type": "markdown",
   "metadata": {},
   "source": [
    "# 🦉COSADAMA Introduction to Data Science Study\n",
    "\n",
    "- 일자: 2020-05-11\n",
    "- 작성자: 박하람 \n",
    "- 참고자료: 파이썬으로 데이터 주무르기(민형기)\n",
    "- 교재: 169 - 198쪽 (깃헙 교안으로 공부하면서, 궁금한 부분은 교재를 참고하세요. 혹은 깃헙 교안을 다 보고 교재를 복습 겸 읽어봐도 됩니다!)\n",
    "\n",
    "## 6. 셀프 주유소는 정말 저렴할까\n",
    "\n",
    "모두들 중간고사는 무사히 잘 치르셨나요? 스스로 해보는 데이터 분석 과제도 어떤 자료를 가지고 하셨는지 무척 궁금하네요😊 오늘은 중간고사 전 마지막 주차에서 배운 웹 크롤링 BeautifulSoup을 다시 활용해볼 것이구요, urllib 라이브러리 대신 Selenium을 사용해 urllib으로 크롤링이 불가능한 사이트를 크롤링해보려 합니다. 더불어 중간고사 이전부터 학습한 pandas, Google Maps, Folium과 Seaborn 등도 모두 다시 활용해 볼 것이에요. 좋은 리뷰가 될 것 같죠?💖\n",
    "\n",
    "이번 프로젝트는 '셀프 주요소는 정말로 저렴한지'를 팩트 체크해보는 것입니다. 한국석유공사 오피넷에서 Selenium으로 데이터를 크롤링해볼 것이구요, 엑셀파일에 담아 glob 모듈을 활용해 다수의 엑셀파일을 위치를 찾아 읽어보는 것까지 해볼 겁니다. 또한 박스 플롯으로 시각화해 실제로 셀프 주유소가 저렴한지 알아보고, 대체적으로 휘발유 값이 저렴한 구는 어디인지 Google Maps와 Folium으로 시각화해볼 겁니다.(익숙하죵?ㅎㅎ) 마지막으로는 주유소 가격 상하위 10개를 뽑아 지도에 시각화해 볼 것이랍니다. 이번 주차도 매우 흥미로운 주제이나, 다만 Selenium을 활용하는 것이 어려울 수 있어요. 그러니 궁금한 것이나 막히는 부분이 있다면 언제든 슬랙으로 질문해주세요! 그럼 이번 주차 공부도 시작합니다🐻\n",
    "\n",
    "### 6.1 Selenium 사용하기\n",
    "\n",
    "지난 시간에는 urllib을 활용해서 정보를 가져왔어요. 하지만 이번에는 urllib 라이브러리를 사용해 크롤링할 수 없기 때문에 이 때 사용하는 Selenium를 배워볼 것이에요. 우선, 우리가 주유소 가격과 위치를 끌어오려면, 주유소 정보들이 있는 opinet 사이트를 이용해보려 합니다. \n",
    "\n",
    "- [opinet - 싼 주유소 찾기 - 지역별](http://www.opinet.co.kr/searRgSelect.do): 이 페이지를 선택하면 opinet 사이트가 나올 것이에요. 여기에서 싼 주유소 찾기를 누르고, 지역별을 누르면 우리가 얻고자 하는 사이트가 나와요. \n",
    "\n",
    "그런데 문제는 이렇게 지역별 사이트에 들어가도, url 주소가 달라지지 않았기 때문에 해당 url을 복사해 다시 로드하면 Opinet 처음 사이트로 돌아가게 된답니다. 그럴 때에는 url 주소만 있으면 되는 urllib를 사용할 수 없겠죠. 그렇게 해서 사용하는 것이 바로 Selenium입니다.\n",
    "\n",
    "#### Selenium 설치와 웹 드라이버 \n",
    "\n",
    "Selenium은 터미널에 pip로 설치하시면 됩니다. 그러나 Selenium을 사용하기 위해서는 사용하는 브라우저에 맞춰 웹 드라이버를 다운 받아야 해요. 본인이 사파리를 쓰시면 사파리 웹 드라이버를, 크롬을 쓰시는 크롬 웹 드라이버를 쓰시면 돼요. 저는 크롬 드라이버가 더 깔기 편해서 크롬 드라이버를 추천드려요. \n",
    "\n",
    "- pip install selenium 터미널에 입력 \n",
    "- [본인에게 맞는 웹브라우저 별로 드라이브 설치 - 경로설정 주의](https://sacko.tistory.com/13)\n",
    "\n",
    "웹 브라우저를 다운받으신 후, data나 소스코드가 있는 폴더에 drive를 압축 해제해주시면 된답니다.(교재 171쪽) 이 때 파일경로가 중요한데요, 파일경로를 확인하는 방법은 아주 간단하게 Terminal(명령 프롬프트)을 열고 drive 파일을 터미널에 끌어 올려다 넣으시면 이동경로가 나타나게 됩니다. 아래 분홍색이 이동경로에요.\n",
    "\n",
    "![파일 경로](images/file_path_img.png)\n",
    "\n",
    "이동경로를 기억해 두시고 먼저 selenium을 import 해보겠습니다."
   ]
  },
  {
   "cell_type": "code",
   "execution_count": 1,
   "metadata": {},
   "outputs": [],
   "source": [
    "from selenium import webdriver"
   ]
  },
  {
   "cell_type": "markdown",
   "metadata": {},
   "source": [
    "이동경로를 아래에다 넣어주고, get에다가는 원하는 사이트의 주소를 입력합니다."
   ]
  },
  {
   "cell_type": "code",
   "execution_count": 2,
   "metadata": {},
   "outputs": [],
   "source": [
    "driver = webdriver.Chrome('/Users/harampark/Documents/chromedriver') # 나의 이동경로라 복붙 X\n",
    "driver.get(\"https://nid.naver.com/nidlogin.login?mode=form&url=https%3A%2F%2Fwww.naver.com\")"
   ]
  },
  {
   "cell_type": "markdown",
   "metadata": {},
   "source": [
    "#### Selenium으로 Naver 로그인하기 \n",
    "\n",
    "어, 그러니까 갑자기 새로운 화면창이 떴죠? 위에 'Chrome이 자동화된 테스트 소프트웨어에 의해 제어되고 있습니다.'라고 하는게 뜨면 잘 된 것이랍니다. 웬만하면 이 화면은 직접 건들이지 않고, Selenium이 만지게 하는게 좋아요.(코드를 작성할 때 혼선이 생길 수 있기 때문) \n",
    "\n",
    "스크린샷을 하고 싶다면 아래와 같은 명령을 사용하면 됩니다."
   ]
  },
  {
   "cell_type": "code",
   "execution_count": 3,
   "metadata": {},
   "outputs": [
    {
     "data": {
      "text/plain": [
       "True"
      ]
     },
     "execution_count": 3,
     "metadata": {},
     "output_type": "execute_result"
    }
   ],
   "source": [
    "# 스크린샷 - 파일 경로 확인, 확장자 확인, 미리 images 폴더 만들어놓아야 함\n",
    "driver.save_screenshot('001.png')"
   ]
  },
  {
   "cell_type": "markdown",
   "metadata": {},
   "source": [
    "![파일 경로](images/001.png)\n",
    "\n",
    "이렇게 나오면 잘 캡처가 되었다고 할 수 있죠. 그럼 이제 Selenium으로 로그인을 해보도록 할게요. 로그인을 하려면, 크롬 개발자 도구를 사용해 아이디와 패스워드가 적힌 곳의 id를 알아야 해요. 잘 기억이 안난다면 136-138쪽을 보시구요, 이번에는 find_element_by_id를 사용해서 id를 찾는 것이랍니다!"
   ]
  },
  {
   "cell_type": "code",
   "execution_count": 5,
   "metadata": {},
   "outputs": [],
   "source": [
    "elem_login = driver.find_element_by_id(\"id\")\n",
    "elem_login.clear()  # 미리 입력된 글자를 지워주는 것(자동로그인 경우)\n",
    "elem_login.send_keys(\"********\")\n",
    "\n",
    "elem_login = driver.find_element_by_id(\"pw\")\n",
    "elem_login.clear()\n",
    "elem_login.send_keys(\"**********\")"
   ]
  },
  {
   "cell_type": "markdown",
   "metadata": {},
   "source": [
    "![파일 경로](images/002.png)\n",
    "\n",
    "이렇게 스스로 적혀져 있다면 잘 하셨습니다. 그 다음에는 로그인을 눌러야 클릭이 되잖아요? 그 클릭하는 방법은 xpath를 찾아서 클릭하는 방법이에요. 교재 174-175쪽을 보면 xpath copy를 하는 방법을 알 수 있어요. 그렇게 복사한 xpath을 아래에다 적어주시면 됩니다."
   ]
  },
  {
   "cell_type": "code",
   "execution_count": 7,
   "metadata": {},
   "outputs": [],
   "source": [
    "xpath = \"\"\"//*[@id=\"log.login\"]\"\"\"\n",
    "driver.find_element_by_xpath(xpath).click() # xpath 위치를 클릭해라"
   ]
  },
  {
   "cell_type": "markdown",
   "metadata": {},
   "source": [
    "![003](images/003.png)\n",
    "\n",
    "엇, 로그인을 했는데 이렇게 막히네요. 이게 바로 캡차라는 기술인데요, 요렇게 자동으로 로그인이 되는 것을 막기 위해서 컴퓨터를 이용해 로그인 했다고 의심이 되는 로그인은 캡차로 인증하게 합니다. 네이버에서 매크로로 댓글 조작을 했니 어쨌니 이런 논란이 많았잖아요. 네이버는 아무래도 사측에서 암묵적으로 가담했다는 증거를 피하기 위해서 혹은 해킹이 쉽게 되지 않기 위해서 이런 캡차를 해놓은 것이랍니다. \n",
    "\n",
    "여담으로 캡차는 고서를 찍어서 올리는 경우도 있는데요, 이런 캡차도 있지만, 다른 캡차들 중에는 고서에서 컴퓨터가 알아보기 힘들지만, 사람은 입력할 수 있는 단어를 찍어서 올리기도 해요. 그래서 그 데이터를 쌓아서 충분한 데이터가 모이면 컴퓨터도 이제 그것을 읽을 수 있도록 학습하는 거죠. 신기하죵😉\n",
    "\n",
    "#### Selenium으로 다음 사이트 로그인하기 \n",
    "\n",
    "Anyway, 캡차를 피해가는 방법도 있지만, 이게 네이버에서 수시로 피해가는 방법을 막아버리기도 하고, 캡차를 넘어서면서까지 크롤링할 필요는 아직 없어서 다음 사이트에서 로그인을 해볼게요. 앞서 어떻게 사용하는지 알았으니, 다음 로그인 페이지는 아이디와 패스워드를 입력해 클릭하는 것까지 생각해보시고 그 다음 코드를 보면 더 좋을 것 같네요! \n",
    "\n",
    "- [다음 로그인 사이트](https://accounts.kakao.com/login?continue=https%3A%2F%2Flogins.daum.net%2Faccounts%2Fksso.do%3Frescue%3Dtrue%26url%3Dhttps%253A%252F%252Fwww.daum.net%252F)"
   ]
  },
  {
   "cell_type": "code",
   "execution_count": 26,
   "metadata": {},
   "outputs": [],
   "source": [
    "from selenium import webdriver\n",
    "import time\n",
    "\n",
    "driver = webdriver.Chrome('/Users/harampark/Documents/chromedriver')\n",
    "driver.get(\"https://accounts.kakao.com/login?continue=https%3A%2F%2Flogins.daum.net%2Faccounts%2Fksso.do%3Frescue%3Dtrue%26url%3Dhttps%253A%252F%252Fwww.daum.net%252F\")\n",
    "\n",
    "elem_login = driver.find_element_by_id(\"id_email_2\")\n",
    "elem_login.clear()\n",
    "elem_login.send_keys(\"**********\")\n",
    "time.sleep(3)\n",
    "\n",
    "elem_login = driver.find_element_by_id(\"id_password_3\")\n",
    "elem_login.clear()\n",
    "elem_login.send_keys(\"**********\")\n",
    "time.sleep(3)\n",
    "\n",
    "xpath = \"\"\"//*[@id=\"login-form\"]/fieldset/div[8]/button\"\"\"\n",
    "driver.find_element_by_xpath(xpath).click()"
   ]
  },
  {
   "cell_type": "markdown",
   "metadata": {},
   "source": [
    "![image](images/004.png)\n",
    "\n",
    "이렇게 나오면 성공! \n",
    "\n",
    "#### 다음 메일 사용자 정보 얻기\n",
    "그 다음에는 메일에 들어가 메일 사용자들을 크롤링해보려 합니다. 그럼 메일 사이트에 접근해야겠죠? Xpath를 이용해 클릭할 수 있겠지만, 아래처럼 바로 메일 사이트에 접근할 수 있어요."
   ]
  },
  {
   "cell_type": "code",
   "execution_count": 27,
   "metadata": {},
   "outputs": [],
   "source": [
    "# 메일 접근 \n",
    "driver.get(\"https://mail.daum.net/\")"
   ]
  },
  {
   "cell_type": "markdown",
   "metadata": {},
   "source": [
    "![이메일 접근](images/005.png)\n",
    "\n",
    "위와 같이 나오면 된겁니다. 여기에서 저렇게 빨간색 네모칸에 있는 이메일 보낸 이들을 추출해보려고 합니다. (안 쓰는 메일이라...ㅋㅋㅋㅋㅋ 코어벨 이런거 밖에 없네요.) 그 다음은 익숙한 BeautifulSoup으로 가공해주면 됩니다! "
   ]
  },
  {
   "cell_type": "code",
   "execution_count": 28,
   "metadata": {},
   "outputs": [],
   "source": [
    "from bs4 import BeautifulSoup\n",
    "\n",
    "html = driver.page_source # 현재 접근한 페이지의 소스를 받을 수 있음.\n",
    "soup = BeautifulSoup(html, 'html.parser')"
   ]
  },
  {
   "cell_type": "markdown",
   "metadata": {},
   "source": [
    "크롬 개발자 도구를 사용해서 태그가 무엇이고 class는 뭔지도 알아내볼게요. a 태그의 link_from이라는 태그이고, find_all로 다 가져와 보겠습니다. (꼭 찾아보셔야 해요!) "
   ]
  },
  {
   "cell_type": "code",
   "execution_count": 29,
   "metadata": {},
   "outputs": [
    {
     "data": {
      "text/plain": [
       "[<a class=\"link_from\" href=\"javascript:;\" title='\"코아벨스 미국법 연구소 운영자\" &lt;koa-bels@hanmail.net&gt;'>코아벨스 미국법 연구소 운영자</a>,\n",
       " <a class=\"link_from\" href=\"javascript:;\" title='\"코아벨스 미국법 연구소 운영자\" &lt;koa-bels@hanmail.net&gt;'>코아벨스 미국법 연구소 운영자</a>,\n",
       " <a class=\"link_from\" href=\"javascript:;\" title='\"코아벨스 미국법 연구소 운영자\" &lt;koa-bels@hanmail.net&gt;'>코아벨스 미국법 연구소 운영자</a>,\n",
       " <a class=\"link_from\" href=\"javascript:;\" title='\"코아벨스 미국법 연구소 운영자\" &lt;koa-bels@hanmail.net&gt;'>코아벨스 미국법 연구소 운영자</a>,\n",
       " <a class=\"link_from\" href=\"javascript:;\" title='\"영어이야기클럽 운영자\" &lt;yhhah@hanmail.net&gt;'>영어이야기클럽 운영자</a>,\n",
       " <a class=\"link_from\" href=\"javascript:;\" title='\"코아벨스 미국법 연구소 운영자\" &lt;koa-bels@hanmail.net&gt;'>코아벨스 미국법 연구소 운영자</a>,\n",
       " <a class=\"link_from\" href=\"javascript:;\" title='\"코아벨스 미국법 연구소 운영자\" &lt;koa-bels@hanmail.net&gt;'>코아벨스 미국법 연구소 운영자</a>,\n",
       " <a class=\"link_from\" href=\"javascript:;\" title='\"코아벨스 미국법 연구소 운영자\" &lt;koa-bels@hanmail.net&gt;'>코아벨스 미국법 연구소 운영자</a>,\n",
       " <a class=\"link_from\" href=\"javascript:;\" title='\"코아벨스 미국법 연구소 운영자\" &lt;koa-bels@hanmail.net&gt;'>코아벨스 미국법 연구소 운영자</a>,\n",
       " <a class=\"link_from\" href=\"javascript:;\" title='\"코아벨스 미국법 연구소 운영자\" &lt;koa-bels@hanmail.net&gt;'>코아벨스 미국법 연구소 운영자</a>,\n",
       " <a class=\"link_from\" href=\"javascript:;\" title='\"코아벨스 미국법 연구소 운영자\" &lt;koa-bels@hanmail.net&gt;'>코아벨스 미국법 연구소 운영자</a>,\n",
       " <a class=\"link_from\" href=\"javascript:;\" title='\"코아벨스 미국법 연구소 운영자\" &lt;koa-bels@hanmail.net&gt;'>코아벨스 미국법 연구소 운영자</a>,\n",
       " <a class=\"link_from\" href=\"javascript:;\" title='\"코아벨스 미국법 연구소 운영자\" &lt;koa-bels@hanmail.net&gt;'>코아벨스 미국법 연구소 운영자</a>,\n",
       " <a class=\"link_from\" href=\"javascript:;\" title='\"코아벨스 미국법 연구소 운영자\" &lt;koa-bels@hanmail.net&gt;'>코아벨스 미국법 연구소 운영자</a>,\n",
       " <a class=\"link_from\" href=\"javascript:;\" title='\"코아벨스 미국법 연구소 운영자\" &lt;koa-bels@hanmail.net&gt;'>코아벨스 미국법 연구소 운영자</a>]"
      ]
     },
     "execution_count": 29,
     "metadata": {},
     "output_type": "execute_result"
    }
   ],
   "source": [
    "raw_list = soup.find_all('a', 'link_from')\n",
    "raw_list"
   ]
  },
  {
   "cell_type": "markdown",
   "metadata": {},
   "source": [
    "잘 가져와 졌고요. 사용자 이름만 뽑아내려면 아래와 같이 하면 되겠죠."
   ]
  },
  {
   "cell_type": "code",
   "execution_count": 30,
   "metadata": {},
   "outputs": [
    {
     "data": {
      "text/plain": [
       "'코아벨스 미국법 연구소 운영자'"
      ]
     },
     "execution_count": 30,
     "metadata": {},
     "output_type": "execute_result"
    }
   ],
   "source": [
    "raw_list[0].get_text()"
   ]
  },
  {
   "cell_type": "markdown",
   "metadata": {},
   "source": [
    "그럼 for문으로 이 이름들만 가져와 볼게요. 지난 시간에 한거 떠올리시고 먼저 코드가 어떻게 작성될 지 생각한 후에 실행해보고 아래 코드들을 보시면 더 좋을 것 같네요!"
   ]
  },
  {
   "cell_type": "code",
   "execution_count": 31,
   "metadata": {},
   "outputs": [
    {
     "name": "stdout",
     "output_type": "stream",
     "text": [
      "코아벨스 미국법 연구소 운영자\n",
      "코아벨스 미국법 연구소 운영자\n",
      "코아벨스 미국법 연구소 운영자\n",
      "코아벨스 미국법 연구소 운영자\n",
      "영어이야기클럽 운영자\n",
      "코아벨스 미국법 연구소 운영자\n",
      "코아벨스 미국법 연구소 운영자\n",
      "코아벨스 미국법 연구소 운영자\n",
      "코아벨스 미국법 연구소 운영자\n",
      "코아벨스 미국법 연구소 운영자\n",
      "코아벨스 미국법 연구소 운영자\n",
      "코아벨스 미국법 연구소 운영자\n",
      "코아벨스 미국법 연구소 운영자\n",
      "코아벨스 미국법 연구소 운영자\n",
      "코아벨스 미국법 연구소 운영자\n"
     ]
    }
   ],
   "source": [
    "for n in range(0, len(raw_list)):\n",
    "    send_list = raw_list[n].get_text()\n",
    "    print(send_list)"
   ]
  },
  {
   "cell_type": "markdown",
   "metadata": {},
   "source": [
    "이렇게 정보를 모두 얻었으니, 이만 driver를 종료해봅시다."
   ]
  },
  {
   "cell_type": "code",
   "execution_count": 32,
   "metadata": {},
   "outputs": [],
   "source": [
    "driver.close()  # 크롬 드라이버 종료"
   ]
  },
  {
   "cell_type": "markdown",
   "metadata": {},
   "source": [
    "그럼 대략적인 Selenium 사용법에 대해 익힌 것 같네요. 그럼 본격적으로 이번주 프로젝트를 시작해보겠습니다. \n",
    "\n",
    "### 6.2 서울시 구별 주유소 가격 정보 얻기 \n",
    "\n",
    "- [opinet - 싼 주유소 찾기 - 지역별](http://www.opinet.co.kr/searRgSelect.do)\n",
    "\n",
    "지역별 주소 사이트를 selenium으로 들어가려면 어떻게 해야 할까요? 아래와 같이 하면 됩니다. "
   ]
  },
  {
   "cell_type": "code",
   "execution_count": 44,
   "metadata": {},
   "outputs": [],
   "source": [
    "driver = webdriver.Chrome('/Users/harampark/Documents/chromedriver')\n",
    "driver.get(\"http://www.opinet.co.kr/searRgSelect.do\")\n",
    "driver.get(\"http://www.opinet.co.kr/searRgSelect.do\") # 두번 해야 들어가 짐."
   ]
  },
  {
   "cell_type": "markdown",
   "metadata": {},
   "source": [
    "짜잔! 이렇게 두번 해주면 지역별 사이트에 들어갈 수 있어요. \n",
    "\n",
    "![지역별](images/006.png)\n",
    "\n",
    "서울시 구별로 정보를 얻어올 것이니, 빨간색 박스 마포구라 적혀져 있는 곳을 바꾸어줘야겠고, 바꾼 결과로 조회 버튼까지 눌러줘야겠지요. 또 아래처럼 엑셀 저장 버튼까지 눌러줘야 엑셀로 결과가 저장되겠죠. \n",
    "\n",
    "![엑셀 저장](images/007.png)\n",
    "\n",
    "그럼 우선 '구' 버튼부터 눌르며 바꿔보죠. 이 때 필요한 것이 xpath에요. 크롬 개발자 도구로 해당 구 버튼의 xpath를 copy하고요, 확보한 xpath를 이용해 element를 찾고 gu_list_raw 변수에 저장합니다.\n",
    "\n",
    "- [selenium 문법](https://github.com/SeongJaeMoon/PracPython/blob/master/selenium_dom_selector.md)"
   ]
  },
  {
   "cell_type": "code",
   "execution_count": 45,
   "metadata": {},
   "outputs": [],
   "source": [
    "gu_list_raw = driver.find_element_by_xpath(\"\"\"//*[@id=\"SIGUNGU_NM0\"]\"\"\")"
   ]
  },
  {
   "cell_type": "markdown",
   "metadata": {},
   "source": [
    "그 다음에는 구 이름이 option이라는 태그에 저장되어 있으니까, 아래와 같이 option이라는 태그를 찾아 줍니다."
   ]
  },
  {
   "cell_type": "code",
   "execution_count": 46,
   "metadata": {},
   "outputs": [
    {
     "data": {
      "text/plain": [
       "[<selenium.webdriver.remote.webelement.WebElement (session=\"a469a7b1c5b169154f414967f8278567\", element=\"d918f706-e514-43ad-81a0-aa58f61d4ba0\")>,\n",
       " <selenium.webdriver.remote.webelement.WebElement (session=\"a469a7b1c5b169154f414967f8278567\", element=\"c10978a4-6320-4406-9574-e4ffe7f1bc5b\")>,\n",
       " <selenium.webdriver.remote.webelement.WebElement (session=\"a469a7b1c5b169154f414967f8278567\", element=\"1ee91ad2-2a32-4ac5-bc5d-7526e91d859a\")>,\n",
       " <selenium.webdriver.remote.webelement.WebElement (session=\"a469a7b1c5b169154f414967f8278567\", element=\"1c19bd81-6e49-4f70-9152-e24535a844ed\")>,\n",
       " <selenium.webdriver.remote.webelement.WebElement (session=\"a469a7b1c5b169154f414967f8278567\", element=\"8cac6a4e-9afb-456b-a659-f226ed6e226e\")>]"
      ]
     },
     "execution_count": 46,
     "metadata": {},
     "output_type": "execute_result"
    }
   ],
   "source": [
    "gu_list = gu_list_raw.find_elements_by_tag_name(\"option\")\n",
    "gu_list[:5]"
   ]
  },
  {
   "cell_type": "markdown",
   "metadata": {},
   "source": [
    "이것처럼 gu_list에는 우리가 원한게 잘 보이지 않죠? 구 이름은 option의 value라는 곳에 있었으니까요, value를 아래와 같이 가져옵니다."
   ]
  },
  {
   "cell_type": "code",
   "execution_count": 47,
   "metadata": {},
   "outputs": [
    {
     "data": {
      "text/plain": [
       "['강남구',\n",
       " '강동구',\n",
       " '강북구',\n",
       " '강서구',\n",
       " '관악구',\n",
       " '광진구',\n",
       " '구로구',\n",
       " '금천구',\n",
       " '노원구',\n",
       " '도봉구',\n",
       " '동대문구',\n",
       " '동작구',\n",
       " '마포구',\n",
       " '서대문구',\n",
       " '서초구',\n",
       " '성동구',\n",
       " '성북구',\n",
       " '송파구',\n",
       " '양천구',\n",
       " '영등포구',\n",
       " '용산구',\n",
       " '은평구',\n",
       " '종로구',\n",
       " '중구',\n",
       " '중랑구']"
      ]
     },
     "execution_count": 47,
     "metadata": {},
     "output_type": "execute_result"
    }
   ],
   "source": [
    "gu_names = [option.get_attribute(\"value\") for option in gu_list]\n",
    "gu_names.remove('')  # 이것을 넣었다 빼보세요. 어떤 기능인지 알 수 있습니다.\n",
    "gu_names"
   ]
  },
  {
   "cell_type": "code",
   "execution_count": 52,
   "metadata": {},
   "outputs": [
    {
     "data": {
      "text/plain": [
       "25"
      ]
     },
     "execution_count": 52,
     "metadata": {},
     "output_type": "execute_result"
    }
   ],
   "source": [
    "len(gu_names)"
   ]
  },
  {
   "cell_type": "markdown",
   "metadata": {},
   "source": [
    "리스트로 구성되어 있죠? 총 구가 25이네요. 이후 엑셀 파일이 총 25개가 다운로드 되었는지 확인하셔야 해요. 구 이름이 있는 태그에 gu_names에서 첫번째 것만 한번 입력해보도록 할게요. "
   ]
  },
  {
   "cell_type": "code",
   "execution_count": 48,
   "metadata": {},
   "outputs": [],
   "source": [
    "element = driver.find_element_by_id(\"SIGUNGU_NM0\")\n",
    "element.send_keys(gu_names[0])"
   ]
  },
  {
   "cell_type": "markdown",
   "metadata": {},
   "source": [
    "![강남구](images/008.png)\n",
    "\n",
    "저렇게 강남구로 바뀌었죠? 그러면 이제는 조회버튼을 눌러야 되겠네요. 그럼 조회 버튼은 또 xpath를 사용해 클릭해주면 됩니다. (조회버튼 xpath copy하는 것 잊지 마세요!) "
   ]
  },
  {
   "cell_type": "code",
   "execution_count": 49,
   "metadata": {},
   "outputs": [],
   "source": [
    "#조회버튼의 Xpath를 찾아서 클릭\n",
    "xpath ='''//*[@id=\"searRgSelect\"]/span'''\n",
    "element_sel_gu = driver.find_element_by_xpath(xpath).click()"
   ]
  },
  {
   "cell_type": "markdown",
   "metadata": {},
   "source": [
    "![강남구 조회](images/009.png)\n",
    "\n",
    "이렇게 바뀌었다면, okay! 이제는 엑셀을 얻어야 하니까, 또 xpath를 알아내서 엑셀 저장 버튼을 클릭하면 되겠죠! "
   ]
  },
  {
   "cell_type": "code",
   "execution_count": 50,
   "metadata": {},
   "outputs": [],
   "source": [
    "xpath ='''//*[@id=\"glopopd_excel\"]/span'''\n",
    "element_get_excel = driver.find_element_by_xpath(xpath).click()"
   ]
  },
  {
   "cell_type": "markdown",
   "metadata": {},
   "source": [
    "그러면 웹 브라우저에서 다운로드 시 사용되는 폴더에서 '지역_위치별(주유소)'가 생성된 것을 확인할 수 있을 겁니다. \n",
    "\n",
    "그렇다면 이제 알았으니, 전체 구들의 엑셀 파일을 모두 가져와봅시다. 시간이 꽤 오래 걸리는 작업일 것이기 때문에 tqdm을 사용해서 걸리는 시간을 시각화 해볼 것이구요. 어떻게 코드가 구성될지 한번 생각해보신다음 아래 코드를 확인하세요! "
   ]
  },
  {
   "cell_type": "code",
   "execution_count": 51,
   "metadata": {},
   "outputs": [
    {
     "data": {
      "application/vnd.jupyter.widget-view+json": {
       "model_id": "a7d1ffd8f2ba470abc7c42baaa49a63d",
       "version_major": 2,
       "version_minor": 0
      },
      "text/plain": [
       "HBox(children=(IntProgress(value=0, max=25), HTML(value='')))"
      ]
     },
     "metadata": {},
     "output_type": "display_data"
    },
    {
     "name": "stdout",
     "output_type": "stream",
     "text": [
      "\n"
     ]
    }
   ],
   "source": [
    "import time\n",
    "from tqdm import tqdm_notebook\n",
    "\n",
    "for gu in tqdm_notebook(gu_names): \n",
    "    element = driver.find_element_by_id(\"SIGUNGU_NM0\")\n",
    "    element.send_keys(gu)\n",
    "    \n",
    "    time.sleep(2) # 중간중간 기다리라는 time.sleep 명령 \n",
    "    \n",
    "    xpath ='''//*[@id=\"searRgSelect\"]/span'''\n",
    "    element_sel_gu = driver.find_element_by_xpath(xpath).click()\n",
    "    \n",
    "    time.sleep(1)\n",
    "    \n",
    "    xpath ='''//*[@id=\"glopopd_excel\"]/span'''\n",
    "    element_get_excel = driver.find_element_by_xpath(xpath).click()\n",
    "    \n",
    "    time.sleep(1)"
   ]
  },
  {
   "cell_type": "markdown",
   "metadata": {},
   "source": [
    "![다운로드](images/010.png)\n",
    "\n",
    "이렇게 총 25개의 파일이 다운로드되어 있으면 됩니다. 그럼 이제 웹 드라이버를 종료하면 끝! "
   ]
  },
  {
   "cell_type": "code",
   "execution_count": 53,
   "metadata": {},
   "outputs": [],
   "source": [
    "driver.close()"
   ]
  },
  {
   "cell_type": "markdown",
   "metadata": {},
   "source": [
    "### 6.3 구별 주유 가격에 대한 데이터의 정리 \n",
    "\n",
    "이제는 구별 주유 가격에 대한 데이터를 정리해보려 합니다. 이제는 정말 익숙해진 pandas를 활용하여 이것저것 요리해부죠. 우선 다운로드 폴더에 담겨져 있는 엑셀 파일을 본인의 코드가 적혀있는 파일에다 옮깁니다. 저는 새롭게 data라는 폴더를 모두 담아서 거기다 넣어놨어요. \n",
    "\n",
    "#### glob으로 원하는 파일 쉽게 가져오기\n",
    "원하는 파일을 가져오려면 파일경로가 필요합니다. 쉽게 파일을 가져올 수 있도록 해주는 모듈이 glob이에요. 해당 모듈들을 import 해보겠습니다."
   ]
  },
  {
   "cell_type": "code",
   "execution_count": 54,
   "metadata": {},
   "outputs": [],
   "source": [
    "import pandas as pd \n",
    "from glob import glob"
   ]
  },
  {
   "cell_type": "markdown",
   "metadata": {},
   "source": [
    "- [glob의 간단한 사용법](https://wikidocs.net/83)\n",
    "\n",
    "glob을 이용하면 쉽게 파일들을 가져올 수 있어요. 아래 *는 지역으로 시작하는 것은 모두 가져오라는 거에요. 지역 뒤의 이름은 상관이 없는거죠."
   ]
  },
  {
   "cell_type": "code",
   "execution_count": 55,
   "metadata": {},
   "outputs": [
    {
     "data": {
      "text/plain": [
       "['data/지역_위치별(주유소) (9).xls',\n",
       " 'data/지역_위치별(주유소) (12).xls',\n",
       " 'data/지역_위치별(주유소) (5).xls',\n",
       " 'data/지역_위치별(주유소) (24).xls',\n",
       " 'data/지역_위치별(주유소) (4).xls',\n",
       " 'data/지역_위치별(주유소) (13).xls',\n",
       " 'data/지역_위치별(주유소) (8).xls',\n",
       " 'data/지역_위치별(주유소) (3).xls',\n",
       " 'data/지역_위치별(주유소) (18).xls',\n",
       " 'data/지역_위치별(주유소) (22).xls',\n",
       " 'data/지역_위치별(주유소) (14).xls',\n",
       " 'data/지역_위치별(주유소) (15).xls',\n",
       " 'data/지역_위치별(주유소) (23).xls',\n",
       " 'data/지역_위치별(주유소) (19).xls',\n",
       " 'data/지역_위치별(주유소) (2).xls',\n",
       " 'data/지역_위치별(주유소) (20).xls',\n",
       " 'data/지역_위치별(주유소) (1).xls',\n",
       " 'data/지역_위치별(주유소) (16).xls',\n",
       " 'data/지역_위치별(주유소) (17).xls',\n",
       " 'data/지역_위치별(주유소) (21).xls',\n",
       " 'data/지역_위치별(주유소) (10).xls',\n",
       " 'data/지역_위치별(주유소).xls',\n",
       " 'data/지역_위치별(주유소) (7).xls',\n",
       " 'data/지역_위치별(주유소) (6).xls',\n",
       " 'data/지역_위치별(주유소) (11).xls']"
      ]
     },
     "execution_count": 55,
     "metadata": {},
     "output_type": "execute_result"
    }
   ],
   "source": [
    "glob('data/지역*.xls')"
   ]
  },
  {
   "cell_type": "code",
   "execution_count": 56,
   "metadata": {},
   "outputs": [
    {
     "data": {
      "text/plain": [
       "25"
      ]
     },
     "execution_count": 56,
     "metadata": {},
     "output_type": "execute_result"
    }
   ],
   "source": [
    "len(glob('data/지역*.xls'))"
   ]
  },
  {
   "cell_type": "markdown",
   "metadata": {},
   "source": [
    "25개도 맞네요. 그럼 이것들을 모두 가져와서 file에다 저장해보겠습니다. "
   ]
  },
  {
   "cell_type": "code",
   "execution_count": 57,
   "metadata": {},
   "outputs": [
    {
     "data": {
      "text/plain": [
       "['data/지역_위치별(주유소) (9).xls',\n",
       " 'data/지역_위치별(주유소) (12).xls',\n",
       " 'data/지역_위치별(주유소) (5).xls',\n",
       " 'data/지역_위치별(주유소) (24).xls',\n",
       " 'data/지역_위치별(주유소) (4).xls',\n",
       " 'data/지역_위치별(주유소) (13).xls',\n",
       " 'data/지역_위치별(주유소) (8).xls',\n",
       " 'data/지역_위치별(주유소) (3).xls',\n",
       " 'data/지역_위치별(주유소) (18).xls',\n",
       " 'data/지역_위치별(주유소) (22).xls',\n",
       " 'data/지역_위치별(주유소) (14).xls',\n",
       " 'data/지역_위치별(주유소) (15).xls',\n",
       " 'data/지역_위치별(주유소) (23).xls',\n",
       " 'data/지역_위치별(주유소) (19).xls',\n",
       " 'data/지역_위치별(주유소) (2).xls',\n",
       " 'data/지역_위치별(주유소) (20).xls',\n",
       " 'data/지역_위치별(주유소) (1).xls',\n",
       " 'data/지역_위치별(주유소) (16).xls',\n",
       " 'data/지역_위치별(주유소) (17).xls',\n",
       " 'data/지역_위치별(주유소) (21).xls',\n",
       " 'data/지역_위치별(주유소) (10).xls',\n",
       " 'data/지역_위치별(주유소).xls',\n",
       " 'data/지역_위치별(주유소) (7).xls',\n",
       " 'data/지역_위치별(주유소) (6).xls',\n",
       " 'data/지역_위치별(주유소) (11).xls']"
      ]
     },
     "execution_count": 57,
     "metadata": {},
     "output_type": "execute_result"
    }
   ],
   "source": [
    "stations_files = glob('data/지역*.xls')\n",
    "stations_files"
   ]
  },
  {
   "cell_type": "markdown",
   "metadata": {},
   "source": [
    "#### 25개 파일 병합하기\n",
    "\n",
    "pandas로 가공하려면 우선 이 25개의 파일들을 하나의 DataFrame에 담아야 하겠죠? 이를 모두 병합하기 위해서 열 방향으로 합쳐지는 concat 함수를 이용할 겁니다."
   ]
  },
  {
   "cell_type": "code",
   "execution_count": 58,
   "metadata": {},
   "outputs": [
    {
     "data": {
      "text/html": [
       "<div>\n",
       "<style scoped>\n",
       "    .dataframe tbody tr th:only-of-type {\n",
       "        vertical-align: middle;\n",
       "    }\n",
       "\n",
       "    .dataframe tbody tr th {\n",
       "        vertical-align: top;\n",
       "    }\n",
       "\n",
       "    .dataframe thead th {\n",
       "        text-align: right;\n",
       "    }\n",
       "</style>\n",
       "<table border=\"1\" class=\"dataframe\">\n",
       "  <thead>\n",
       "    <tr style=\"text-align: right;\">\n",
       "      <th></th>\n",
       "      <th>지역</th>\n",
       "      <th>상호</th>\n",
       "      <th>주소</th>\n",
       "      <th>상표</th>\n",
       "      <th>전화번호</th>\n",
       "      <th>셀프여부</th>\n",
       "      <th>고급휘발유</th>\n",
       "      <th>휘발유</th>\n",
       "      <th>경유</th>\n",
       "      <th>실내등유</th>\n",
       "    </tr>\n",
       "  </thead>\n",
       "  <tbody>\n",
       "    <tr>\n",
       "      <td>0</td>\n",
       "      <td>서울특별시</td>\n",
       "      <td>한이에너지(주)KLP제1주유소</td>\n",
       "      <td>서울 도봉구 도봉로 596 (창동)</td>\n",
       "      <td>현대오일뱅크</td>\n",
       "      <td>02-902-5189</td>\n",
       "      <td>N</td>\n",
       "      <td>-</td>\n",
       "      <td>1277</td>\n",
       "      <td>1077</td>\n",
       "      <td>-</td>\n",
       "    </tr>\n",
       "    <tr>\n",
       "      <td>1</td>\n",
       "      <td>서울특별시</td>\n",
       "      <td>도봉제일주유소(주)송만에너지</td>\n",
       "      <td>서울 도봉구 도봉로 783 (도봉동)</td>\n",
       "      <td>현대오일뱅크</td>\n",
       "      <td>02-955-5185</td>\n",
       "      <td>N</td>\n",
       "      <td>-</td>\n",
       "      <td>1277</td>\n",
       "      <td>1077</td>\n",
       "      <td>900</td>\n",
       "    </tr>\n",
       "    <tr>\n",
       "      <td>2</td>\n",
       "      <td>서울특별시</td>\n",
       "      <td>정다운셀프주유소</td>\n",
       "      <td>서울특별시 도봉구 도봉로 635 (쌍문동)</td>\n",
       "      <td>SK에너지</td>\n",
       "      <td>02-996-5151</td>\n",
       "      <td>Y</td>\n",
       "      <td>-</td>\n",
       "      <td>1279</td>\n",
       "      <td>1079</td>\n",
       "      <td>-</td>\n",
       "    </tr>\n",
       "    <tr>\n",
       "      <td>3</td>\n",
       "      <td>서울특별시</td>\n",
       "      <td>삼미북부셀프주유소</td>\n",
       "      <td>서울특별시 도봉구  도봉로 437 (쌍문동)</td>\n",
       "      <td>SK에너지</td>\n",
       "      <td>02-992-5561</td>\n",
       "      <td>Y</td>\n",
       "      <td>-</td>\n",
       "      <td>1279</td>\n",
       "      <td>1079</td>\n",
       "      <td>1100</td>\n",
       "    </tr>\n",
       "    <tr>\n",
       "      <td>4</td>\n",
       "      <td>서울특별시</td>\n",
       "      <td>SK네트웍스(주)도봉행복주유소</td>\n",
       "      <td>서울 도봉구  도봉로 941 (도봉동)</td>\n",
       "      <td>SK에너지</td>\n",
       "      <td>02-3492-7371</td>\n",
       "      <td>Y</td>\n",
       "      <td>-</td>\n",
       "      <td>1279</td>\n",
       "      <td>1079</td>\n",
       "      <td>-</td>\n",
       "    </tr>\n",
       "  </tbody>\n",
       "</table>\n",
       "</div>"
      ],
      "text/plain": [
       "      지역                상호                        주소      상표          전화번호  \\\n",
       "0  서울특별시  한이에너지(주)KLP제1주유소       서울 도봉구 도봉로 596 (창동)  현대오일뱅크   02-902-5189   \n",
       "1  서울특별시   도봉제일주유소(주)송만에너지      서울 도봉구 도봉로 783 (도봉동)  현대오일뱅크   02-955-5185   \n",
       "2  서울특별시          정다운셀프주유소   서울특별시 도봉구 도봉로 635 (쌍문동)   SK에너지   02-996-5151   \n",
       "3  서울특별시         삼미북부셀프주유소  서울특별시 도봉구  도봉로 437 (쌍문동)   SK에너지   02-992-5561   \n",
       "4  서울특별시  SK네트웍스(주)도봉행복주유소     서울 도봉구  도봉로 941 (도봉동)   SK에너지  02-3492-7371   \n",
       "\n",
       "  셀프여부 고급휘발유   휘발유    경유  실내등유  \n",
       "0    N     -  1277  1077     -  \n",
       "1    N     -  1277  1077   900  \n",
       "2    Y     -  1279  1079     -  \n",
       "3    Y     -  1279  1079  1100  \n",
       "4    Y     -  1279  1079     -  "
      ]
     },
     "execution_count": 58,
     "metadata": {},
     "output_type": "execute_result"
    }
   ],
   "source": [
    "# 25개의 DataFrame이 담길 리스트\n",
    "tmp_raw = []\n",
    "\n",
    "for file_name in stations_files:\n",
    "    # 한 개씩 DataFrame을 불러오기\n",
    "    tmp = pd.read_excel(file_name, header=2)\n",
    "    # tmp_raw에다 추가하기\n",
    "    tmp_raw.append(tmp)\n",
    "    \n",
    "# 25개의 DataFrame 병합하기    \n",
    "station_raw = pd.concat(tmp_raw)\n",
    "station_raw.head()"
   ]
  },
  {
   "cell_type": "markdown",
   "metadata": {},
   "source": [
    "이제 우리에게 익숙한 데이터프레임이네요. 여기에는 지역, 상호, 주소, 상표, 셀프여부, 휘발유 값 등이 들어있네요. 우리가 이번에 할 프로젝트의 주제는 셀프 주유소가 정말로 싼지 아닌지 팩트체크를 해보는 것이었잖아요. 그러니까 여기에서 중요한 컬럼은 셀프여부가 되겠구요, 구별로 알아보려고 했으니 주소가 중요할 겁니다. (지역은 모두 서울이라 필요가 없어요.) 이렇게 데이터의 특성을 파악하는게 중요하고요. 전반적으로 어떻게 담겨있는지 알기 위해서 아래를 확인해보았습니다."
   ]
  },
  {
   "cell_type": "code",
   "execution_count": 59,
   "metadata": {},
   "outputs": [
    {
     "name": "stdout",
     "output_type": "stream",
     "text": [
      "<class 'pandas.core.frame.DataFrame'>\n",
      "Int64Index: 501 entries, 0 to 9\n",
      "Data columns (total 10 columns):\n",
      "지역       501 non-null object\n",
      "상호       501 non-null object\n",
      "주소       501 non-null object\n",
      "상표       501 non-null object\n",
      "전화번호     501 non-null object\n",
      "셀프여부     501 non-null object\n",
      "고급휘발유    501 non-null object\n",
      "휘발유      501 non-null object\n",
      "경유       501 non-null object\n",
      "실내등유     501 non-null object\n",
      "dtypes: object(10)\n",
      "memory usage: 43.1+ KB\n"
     ]
    }
   ],
   "source": [
    "station_raw.info()"
   ]
  },
  {
   "cell_type": "markdown",
   "metadata": {},
   "source": [
    "중요한 컬럼이 휘발유라고 했죠? 휘발유 값만 알아볼 것인데 이게 숫자가 아닌 object로 되어 있어서 숫자형으로 바꾸어줘야 계산이 가능하겠죠. 이를 후에 처리해줘야겠죠. \n",
    "\n",
    "필요한 컬럼들만 추려서 stations에 담아볼게요. 중요한 것이 1) 상호 2) 주소 3) 휘발유 4) 셀프여부 5) 상호니까 이것들만 남겨보겠습니다."
   ]
  },
  {
   "cell_type": "code",
   "execution_count": 60,
   "metadata": {},
   "outputs": [
    {
     "data": {
      "text/html": [
       "<div>\n",
       "<style scoped>\n",
       "    .dataframe tbody tr th:only-of-type {\n",
       "        vertical-align: middle;\n",
       "    }\n",
       "\n",
       "    .dataframe tbody tr th {\n",
       "        vertical-align: top;\n",
       "    }\n",
       "\n",
       "    .dataframe thead th {\n",
       "        text-align: right;\n",
       "    }\n",
       "</style>\n",
       "<table border=\"1\" class=\"dataframe\">\n",
       "  <thead>\n",
       "    <tr style=\"text-align: right;\">\n",
       "      <th></th>\n",
       "      <th>Oil_store</th>\n",
       "      <th>주소</th>\n",
       "      <th>가격</th>\n",
       "      <th>셀프</th>\n",
       "      <th>상표</th>\n",
       "    </tr>\n",
       "  </thead>\n",
       "  <tbody>\n",
       "    <tr>\n",
       "      <td>0</td>\n",
       "      <td>한이에너지(주)KLP제1주유소</td>\n",
       "      <td>서울 도봉구 도봉로 596 (창동)</td>\n",
       "      <td>1277</td>\n",
       "      <td>N</td>\n",
       "      <td>현대오일뱅크</td>\n",
       "    </tr>\n",
       "    <tr>\n",
       "      <td>1</td>\n",
       "      <td>도봉제일주유소(주)송만에너지</td>\n",
       "      <td>서울 도봉구 도봉로 783 (도봉동)</td>\n",
       "      <td>1277</td>\n",
       "      <td>N</td>\n",
       "      <td>현대오일뱅크</td>\n",
       "    </tr>\n",
       "    <tr>\n",
       "      <td>2</td>\n",
       "      <td>정다운셀프주유소</td>\n",
       "      <td>서울특별시 도봉구 도봉로 635 (쌍문동)</td>\n",
       "      <td>1279</td>\n",
       "      <td>Y</td>\n",
       "      <td>SK에너지</td>\n",
       "    </tr>\n",
       "    <tr>\n",
       "      <td>3</td>\n",
       "      <td>삼미북부셀프주유소</td>\n",
       "      <td>서울특별시 도봉구  도봉로 437 (쌍문동)</td>\n",
       "      <td>1279</td>\n",
       "      <td>Y</td>\n",
       "      <td>SK에너지</td>\n",
       "    </tr>\n",
       "    <tr>\n",
       "      <td>4</td>\n",
       "      <td>SK네트웍스(주)도봉행복주유소</td>\n",
       "      <td>서울 도봉구  도봉로 941 (도봉동)</td>\n",
       "      <td>1279</td>\n",
       "      <td>Y</td>\n",
       "      <td>SK에너지</td>\n",
       "    </tr>\n",
       "  </tbody>\n",
       "</table>\n",
       "</div>"
      ],
      "text/plain": [
       "          Oil_store                        주소    가격 셀프      상표\n",
       "0  한이에너지(주)KLP제1주유소       서울 도봉구 도봉로 596 (창동)  1277  N  현대오일뱅크\n",
       "1   도봉제일주유소(주)송만에너지      서울 도봉구 도봉로 783 (도봉동)  1277  N  현대오일뱅크\n",
       "2          정다운셀프주유소   서울특별시 도봉구 도봉로 635 (쌍문동)  1279  Y   SK에너지\n",
       "3         삼미북부셀프주유소  서울특별시 도봉구  도봉로 437 (쌍문동)  1279  Y   SK에너지\n",
       "4  SK네트웍스(주)도봉행복주유소     서울 도봉구  도봉로 941 (도봉동)  1279  Y   SK에너지"
      ]
     },
     "execution_count": 60,
     "metadata": {},
     "output_type": "execute_result"
    }
   ],
   "source": [
    "stations = pd.DataFrame({'Oil_store':station_raw['상호'],\n",
    "                        '주소':station_raw['주소'],\n",
    "                        '가격':station_raw['휘발유'],\n",
    "                        '셀프':station_raw['셀프여부'],\n",
    "                        '상표':station_raw['상표']})\n",
    "stations.head()"
   ]
  },
  {
   "cell_type": "markdown",
   "metadata": {},
   "source": [
    "#### 데이터 가공하기 \n",
    "\n",
    "이제는 주소에서 구만 뽑아서 저장해줘야겠죠. 주소에서 구만 가져올 거에요. split을 사용해 쉽게 가져오면 됩니다. 새로운 컬럼 구에다 담아주었어요."
   ]
  },
  {
   "cell_type": "code",
   "execution_count": 61,
   "metadata": {},
   "outputs": [
    {
     "data": {
      "text/html": [
       "<div>\n",
       "<style scoped>\n",
       "    .dataframe tbody tr th:only-of-type {\n",
       "        vertical-align: middle;\n",
       "    }\n",
       "\n",
       "    .dataframe tbody tr th {\n",
       "        vertical-align: top;\n",
       "    }\n",
       "\n",
       "    .dataframe thead th {\n",
       "        text-align: right;\n",
       "    }\n",
       "</style>\n",
       "<table border=\"1\" class=\"dataframe\">\n",
       "  <thead>\n",
       "    <tr style=\"text-align: right;\">\n",
       "      <th></th>\n",
       "      <th>Oil_store</th>\n",
       "      <th>주소</th>\n",
       "      <th>가격</th>\n",
       "      <th>셀프</th>\n",
       "      <th>상표</th>\n",
       "      <th>구</th>\n",
       "    </tr>\n",
       "  </thead>\n",
       "  <tbody>\n",
       "    <tr>\n",
       "      <td>0</td>\n",
       "      <td>한이에너지(주)KLP제1주유소</td>\n",
       "      <td>서울 도봉구 도봉로 596 (창동)</td>\n",
       "      <td>1277</td>\n",
       "      <td>N</td>\n",
       "      <td>현대오일뱅크</td>\n",
       "      <td>도봉구</td>\n",
       "    </tr>\n",
       "    <tr>\n",
       "      <td>1</td>\n",
       "      <td>도봉제일주유소(주)송만에너지</td>\n",
       "      <td>서울 도봉구 도봉로 783 (도봉동)</td>\n",
       "      <td>1277</td>\n",
       "      <td>N</td>\n",
       "      <td>현대오일뱅크</td>\n",
       "      <td>도봉구</td>\n",
       "    </tr>\n",
       "    <tr>\n",
       "      <td>2</td>\n",
       "      <td>정다운셀프주유소</td>\n",
       "      <td>서울특별시 도봉구 도봉로 635 (쌍문동)</td>\n",
       "      <td>1279</td>\n",
       "      <td>Y</td>\n",
       "      <td>SK에너지</td>\n",
       "      <td>도봉구</td>\n",
       "    </tr>\n",
       "    <tr>\n",
       "      <td>3</td>\n",
       "      <td>삼미북부셀프주유소</td>\n",
       "      <td>서울특별시 도봉구  도봉로 437 (쌍문동)</td>\n",
       "      <td>1279</td>\n",
       "      <td>Y</td>\n",
       "      <td>SK에너지</td>\n",
       "      <td>도봉구</td>\n",
       "    </tr>\n",
       "    <tr>\n",
       "      <td>4</td>\n",
       "      <td>SK네트웍스(주)도봉행복주유소</td>\n",
       "      <td>서울 도봉구  도봉로 941 (도봉동)</td>\n",
       "      <td>1279</td>\n",
       "      <td>Y</td>\n",
       "      <td>SK에너지</td>\n",
       "      <td>도봉구</td>\n",
       "    </tr>\n",
       "  </tbody>\n",
       "</table>\n",
       "</div>"
      ],
      "text/plain": [
       "          Oil_store                        주소    가격 셀프      상표    구\n",
       "0  한이에너지(주)KLP제1주유소       서울 도봉구 도봉로 596 (창동)  1277  N  현대오일뱅크  도봉구\n",
       "1   도봉제일주유소(주)송만에너지      서울 도봉구 도봉로 783 (도봉동)  1277  N  현대오일뱅크  도봉구\n",
       "2          정다운셀프주유소   서울특별시 도봉구 도봉로 635 (쌍문동)  1279  Y   SK에너지  도봉구\n",
       "3         삼미북부셀프주유소  서울특별시 도봉구  도봉로 437 (쌍문동)  1279  Y   SK에너지  도봉구\n",
       "4  SK네트웍스(주)도봉행복주유소     서울 도봉구  도봉로 941 (도봉동)  1279  Y   SK에너지  도봉구"
      ]
     },
     "execution_count": 61,
     "metadata": {},
     "output_type": "execute_result"
    }
   ],
   "source": [
    "stations['구'] = [eachAddress.split()[1] for eachAddress in stations['주소']]\n",
    "stations.head()"
   ]
  },
  {
   "cell_type": "markdown",
   "metadata": {},
   "source": [
    "25개의 구가 모두 잘 추출되었는지 확인하기 위해서는 아래와 같이 unique()를 통해 확인할 수 있습니다."
   ]
  },
  {
   "cell_type": "code",
   "execution_count": 62,
   "metadata": {},
   "outputs": [
    {
     "data": {
      "text/plain": [
       "array(['도봉구', '마포구', '광진구', '중랑구', '관악구', '서대문구', '노원구', '강서구', '양천구',\n",
       "       '종로구', '서초구', '성동구', '중구', '영등포구', '강북구', '용산구', '강동구', '성북구',\n",
       "       '송파구', '은평구', '동대문구', '강남구', '금천구', '구로구', '동작구'], dtype=object)"
      ]
     },
     "execution_count": 62,
     "metadata": {},
     "output_type": "execute_result"
    }
   ],
   "source": [
    "stations['구'].unique()"
   ]
  },
  {
   "cell_type": "markdown",
   "metadata": {},
   "source": [
    "이상하게 추출된 구도 없고, 대충 다 담긴 것 같은데, 총 25개인지 확인해보는게 좋을 것 같네요."
   ]
  },
  {
   "cell_type": "code",
   "execution_count": 63,
   "metadata": {},
   "outputs": [
    {
     "data": {
      "text/plain": [
       "25"
      ]
     },
     "execution_count": 63,
     "metadata": {},
     "output_type": "execute_result"
    }
   ],
   "source": [
    "len(stations['구'].unique())"
   ]
  },
  {
   "cell_type": "markdown",
   "metadata": {},
   "source": [
    "그 다음엔 가격들을 전반적으로 살펴보도록 할게요. false 밖에 없다는 말은 결측값이 없다는 말인데, 결측값이 없다고 다 된걸까요? "
   ]
  },
  {
   "cell_type": "code",
   "execution_count": 68,
   "metadata": {},
   "outputs": [
    {
     "data": {
      "text/plain": [
       "False    501\n",
       "Name: 가격, dtype: int64"
      ]
     },
     "execution_count": 68,
     "metadata": {},
     "output_type": "execute_result"
    }
   ],
   "source": [
    "stations['가격'].isnull().value_counts()"
   ]
  },
  {
   "cell_type": "code",
   "execution_count": 70,
   "metadata": {},
   "outputs": [
    {
     "data": {
      "text/plain": [
       "array([1277, 1279, 1285, 1289, 1299, 1325, 1335, 1337, 1365, 1369, 1379,\n",
       "       1383, 1498, '1447', '1457', '1498', '1567', '1569', '1619', '1639',\n",
       "       '1709', '1749', '1829', '-', 1306, 1307, 1327, 1345, 1357, 1359,\n",
       "       1378, 1398, 1399, 1430, 1459, 1560, 1267, 1297, 1348, 1358, 1372,\n",
       "       1375, 1374, 1417, 1418, 1439, 1458, 1469, 1478, 1489, 1499, 1550,\n",
       "       1329, 1344, 1349, 1680, 1917, 1354, 1392, 1397, 1480, 1495, 1525,\n",
       "       1598, 1258, 1286, 1287, 1290, 1295, 1314, 1346, 1347, 1387, 1394,\n",
       "       1415, 1419, 1424, 1425, 1434, 1435, 1448, 1462, 1488, 1535, 1789,\n",
       "       1268, 1284, 1294, 1315, 1316, 1318, 1336, 1377, 1396, 1483, 1579,\n",
       "       1787, 1420, 1490, 1898, 1988, 1998, 1999, 1319, 1407, 1409, 1428,\n",
       "       1437, 1438, 1445, 1446, 1447, 1467, 1497, 1519, 1589, 1879, 1887,\n",
       "       1978, 1308, 1326, 1368, 1388, 1429, 1455, 1648, 1798, 1968, 1688,\n",
       "       1758, 1859, 2035, 2049, 2059, 2079, 2088, 2099, 1339, 1588, 1799,\n",
       "       1840, 1875, 1890, 1929, 1930, 1936, 1257, 1309, 1558, 1668, 1669,\n",
       "       1757, 1884, 1948, 1985, 1990, 2018, 1380, 1463, 1468, 1487, 1528,\n",
       "       1548, 1237, 1262, 1266, 1272, 1281, 1298, 1317, 1385, 1411, 1412,\n",
       "       1413, 1443, 1449, 1619, '1279', '1285', '1294', '1297', '1299',\n",
       "       '1305', '1339', '1348', '1349', '1368', '1375', '1443', 1275, 1595,\n",
       "       '1409', '1419', '1428', '1438', '1439', '1455', '1458', '1469',\n",
       "       '1485', '1495', '1595', '1648', '1663', '1676', '1698', '1699',\n",
       "       '1729', '1777', '1799', '1838', '1844', '1875', '1878', '1880',\n",
       "       '1883', '1895', '2082', 1355, 1338, 1565], dtype=object)"
      ]
     },
     "execution_count": 70,
     "metadata": {},
     "output_type": "execute_result"
    }
   ],
   "source": [
    "stations['가격'].unique()"
   ]
  },
  {
   "cell_type": "markdown",
   "metadata": {},
   "source": [
    "중간에 '-'가 보이시죠? '-'로 가격정보가 없는 것을 저렇게 표시해놨네요. 어떤 행이 가격 정보가 없는 것인지 불린 인덱싱을 사용해서 알아볼게요."
   ]
  },
  {
   "cell_type": "code",
   "execution_count": 71,
   "metadata": {},
   "outputs": [
    {
     "data": {
      "text/html": [
       "<div>\n",
       "<style scoped>\n",
       "    .dataframe tbody tr th:only-of-type {\n",
       "        vertical-align: middle;\n",
       "    }\n",
       "\n",
       "    .dataframe tbody tr th {\n",
       "        vertical-align: top;\n",
       "    }\n",
       "\n",
       "    .dataframe thead th {\n",
       "        text-align: right;\n",
       "    }\n",
       "</style>\n",
       "<table border=\"1\" class=\"dataframe\">\n",
       "  <thead>\n",
       "    <tr style=\"text-align: right;\">\n",
       "      <th></th>\n",
       "      <th>Oil_store</th>\n",
       "      <th>주소</th>\n",
       "      <th>가격</th>\n",
       "      <th>셀프</th>\n",
       "      <th>상표</th>\n",
       "      <th>구</th>\n",
       "    </tr>\n",
       "  </thead>\n",
       "  <tbody>\n",
       "    <tr>\n",
       "      <td>12</td>\n",
       "      <td>서강주유소</td>\n",
       "      <td>서울 마포구 독막로 134 (창전동)</td>\n",
       "      <td>-</td>\n",
       "      <td>N</td>\n",
       "      <td>SK에너지</td>\n",
       "      <td>마포구</td>\n",
       "    </tr>\n",
       "    <tr>\n",
       "      <td>16</td>\n",
       "      <td>삼융주유소</td>\n",
       "      <td>서울 은평구 수색로 299 (수색동)</td>\n",
       "      <td>-</td>\n",
       "      <td>N</td>\n",
       "      <td>SK에너지</td>\n",
       "      <td>은평구</td>\n",
       "    </tr>\n",
       "    <tr>\n",
       "      <td>40</td>\n",
       "      <td>삼성주유소</td>\n",
       "      <td>서울 강남구 삼성로 521 (삼성동)</td>\n",
       "      <td>-</td>\n",
       "      <td>N</td>\n",
       "      <td>SK에너지</td>\n",
       "      <td>강남구</td>\n",
       "    </tr>\n",
       "    <tr>\n",
       "      <td>41</td>\n",
       "      <td>동우주유소</td>\n",
       "      <td>서울특별시 강남구  봉은사로 311 (논현동)</td>\n",
       "      <td>-</td>\n",
       "      <td>N</td>\n",
       "      <td>SK에너지</td>\n",
       "      <td>강남구</td>\n",
       "    </tr>\n",
       "  </tbody>\n",
       "</table>\n",
       "</div>"
      ],
      "text/plain": [
       "   Oil_store                         주소 가격 셀프     상표    구\n",
       "12     서강주유소       서울 마포구 독막로 134 (창전동)  -  N  SK에너지  마포구\n",
       "16     삼융주유소       서울 은평구 수색로 299 (수색동)  -  N  SK에너지  은평구\n",
       "40     삼성주유소       서울 강남구 삼성로 521 (삼성동)  -  N  SK에너지  강남구\n",
       "41     동우주유소  서울특별시 강남구  봉은사로 311 (논현동)  -  N  SK에너지  강남구"
      ]
     },
     "execution_count": 71,
     "metadata": {},
     "output_type": "execute_result"
    }
   ],
   "source": [
    "stations[stations['가격'] == '-']"
   ]
  },
  {
   "cell_type": "markdown",
   "metadata": {},
   "source": [
    "총 4개의 주유소에서 가격이 없군요. 이 row를 없애도록 하겠습니다. "
   ]
  },
  {
   "cell_type": "code",
   "execution_count": 72,
   "metadata": {},
   "outputs": [
    {
     "data": {
      "text/html": [
       "<div>\n",
       "<style scoped>\n",
       "    .dataframe tbody tr th:only-of-type {\n",
       "        vertical-align: middle;\n",
       "    }\n",
       "\n",
       "    .dataframe tbody tr th {\n",
       "        vertical-align: top;\n",
       "    }\n",
       "\n",
       "    .dataframe thead th {\n",
       "        text-align: right;\n",
       "    }\n",
       "</style>\n",
       "<table border=\"1\" class=\"dataframe\">\n",
       "  <thead>\n",
       "    <tr style=\"text-align: right;\">\n",
       "      <th></th>\n",
       "      <th>Oil_store</th>\n",
       "      <th>주소</th>\n",
       "      <th>가격</th>\n",
       "      <th>셀프</th>\n",
       "      <th>상표</th>\n",
       "      <th>구</th>\n",
       "    </tr>\n",
       "  </thead>\n",
       "  <tbody>\n",
       "  </tbody>\n",
       "</table>\n",
       "</div>"
      ],
      "text/plain": [
       "Empty DataFrame\n",
       "Columns: [Oil_store, 주소, 가격, 셀프, 상표, 구]\n",
       "Index: []"
      ]
     },
     "execution_count": 72,
     "metadata": {},
     "output_type": "execute_result"
    }
   ],
   "source": [
    "stations = stations[stations['가격'] != '-']\n",
    "stations[stations['가격'] == '-']"
   ]
  },
  {
   "cell_type": "markdown",
   "metadata": {},
   "source": [
    "잘 지워졌네요."
   ]
  },
  {
   "cell_type": "code",
   "execution_count": 73,
   "metadata": {},
   "outputs": [
    {
     "name": "stdout",
     "output_type": "stream",
     "text": [
      "<class 'pandas.core.frame.DataFrame'>\n",
      "Int64Index: 497 entries, 0 to 9\n",
      "Data columns (total 6 columns):\n",
      "Oil_store    497 non-null object\n",
      "주소           497 non-null object\n",
      "가격           497 non-null object\n",
      "셀프           497 non-null object\n",
      "상표           497 non-null object\n",
      "구            497 non-null object\n",
      "dtypes: object(6)\n",
      "memory usage: 27.2+ KB\n"
     ]
    }
   ],
   "source": [
    "stations.info()"
   ]
  },
  {
   "cell_type": "markdown",
   "metadata": {},
   "source": [
    "가격이 아직도 숫자가 아닌 object니 수정해보도록 하겠습니다."
   ]
  },
  {
   "cell_type": "code",
   "execution_count": 74,
   "metadata": {},
   "outputs": [
    {
     "name": "stdout",
     "output_type": "stream",
     "text": [
      "<class 'pandas.core.frame.DataFrame'>\n",
      "Int64Index: 497 entries, 0 to 9\n",
      "Data columns (total 6 columns):\n",
      "Oil_store    497 non-null object\n",
      "주소           497 non-null object\n",
      "가격           497 non-null float64\n",
      "셀프           497 non-null object\n",
      "상표           497 non-null object\n",
      "구            497 non-null object\n",
      "dtypes: float64(1), object(5)\n",
      "memory usage: 27.2+ KB\n"
     ]
    }
   ],
   "source": [
    "stations['가격'] = stations['가격'].astype('float')\n",
    "stations.info()"
   ]
  },
  {
   "cell_type": "markdown",
   "metadata": {},
   "source": [
    "잘 변경 됐네요! 이 정도로 데이터를 가공하면 된 것 같습니다.  \n",
    "\n",
    "### 6.4 boxplot으로 셀프 주유소 가격 확인해보기 \n",
    "\n",
    "저어번에 boxplot에 대해 배워봤을 겁니다. 그만큼 boxplot은 데이터의 전반적인 수치들을 확인하기에 편리한 시각화에요. 셀프 주유소가 정말로 저렴한지 boxplot으로 시각화해보겠습니다. 우선 matplotlib의 한글 문제를 처리하고 필요한 모듈들을 import 할게요."
   ]
  },
  {
   "cell_type": "code",
   "execution_count": 75,
   "metadata": {},
   "outputs": [],
   "source": [
    "import matplotlib.pyplot as plt\n",
    "import seaborn as sns\n",
    "%matplotlib inline\n",
    "\n",
    "import platform\n",
    "\n",
    "path = \"c:/Windows/Fonts/malgun.ttf\"\n",
    "from matplotlib import font_manager, rc\n",
    "if platform.system() == 'Darwin':\n",
    "    rc('font', family='AppleGothic')\n",
    "elif platform.system() == 'Windows':\n",
    "    font_name = font_manager.FontProperties(fname=path).get_name()\n",
    "    rc('font', family=font_name)\n",
    "else:\n",
    "    print('Unknown system... sorry~~~~') "
   ]
  },
  {
   "cell_type": "markdown",
   "metadata": {},
   "source": [
    "셀프 유무에 따른 가격을 확인해보겠습니다."
   ]
  },
  {
   "cell_type": "code",
   "execution_count": 76,
   "metadata": {},
   "outputs": [
    {
     "data": {
      "text/plain": [
       "<matplotlib.axes._subplots.AxesSubplot at 0x1a24c6d5d0>"
      ]
     },
     "execution_count": 76,
     "metadata": {},
     "output_type": "execute_result"
    },
    {
     "data": {
      "image/png": "[encoded data removed]",
      "text/plain": [
       "<Figure size 864x576 with 1 Axes>"
      ]
     },
     "metadata": {
      "needs_background": "light"
     },
     "output_type": "display_data"
    }
   ],
   "source": [
    "stations.boxplot(column='가격', by='셀프', figsize=(12,8))"
   ]
  },
  {
   "cell_type": "markdown",
   "metadata": {},
   "source": [
    "확실히 셀프 주유소가 싼 가격이란게 보이죠? 검은색 점들은 이상치라는 거고, 평균도 셀프주유소가 훨씬 낮고, 전반적으로 셀프 주유소가 더 싼 것을 알 수 있습니다. \n",
    "\n",
    "이제는 상표에 따라서 boxplot을 시각화해볼게요."
   ]
  },
  {
   "cell_type": "code",
   "execution_count": 77,
   "metadata": {},
   "outputs": [
    {
     "data": {
      "image/png": "[encoded data removed]",
      "text/plain": [
       "<Figure size 864x576 with 1 Axes>"
      ]
     },
     "metadata": {
      "needs_background": "light"
     },
     "output_type": "display_data"
    }
   ],
   "source": [
    "plt.figure(figsize=(12,8))\n",
    "sns.boxplot(x='상표', y='가격', hue='셀프', data=stations, palette='Set3')\n",
    "plt.show()"
   ]
  },
  {
   "cell_type": "markdown",
   "metadata": {},
   "source": [
    "어헛, sk에너지가 상당히 비싸네요. 여기서도 같은 상표라도 셀프 주유소들이 더 싸게 가격이 분포되어 있고요, 알뜰 주유소가 알뜰이라는 이름 답게 싸다는 것 또한 알 수 있네요.\n",
    "\n",
    "셀프 주유소인지 아닌지는 제외하고 상표로만 boxplot을 보겠습니다."
   ]
  },
  {
   "cell_type": "code",
   "execution_count": 78,
   "metadata": {},
   "outputs": [
    {
     "data": {
      "image/png": "[encoded data removed]",
      "text/plain": [
       "<Figure size 864x576 with 1 Axes>"
      ]
     },
     "metadata": {
      "needs_background": "light"
     },
     "output_type": "display_data"
    }
   ],
   "source": [
    "plt.figure(figsize=(12,8))\n",
    "sns.boxplot(x='상표', y='가격', data=stations, palette='Set3')\n",
    "sns.swarmplot(x='상표', y='가격', data=stations, color='.8')  # 1로 하면 환공포증 느낌...\n",
    "plt.show()"
   ]
  },
  {
   "cell_type": "markdown",
   "metadata": {},
   "source": [
    "1로 해보세요... 진짜 징그러워요...(소름) 아무튼 알뜰주유소 이용을 추천합니다ㅎㅎ 대기업들은 돈도 많으면서 더 비싸네요😅\n",
    "\n",
    "결과적으로 '셀프 주유소는 더 저렴한가'는 맞다고 할 수 있네요! 요렇게 팩트체크를 완료해봤습니다. \n",
    "\n",
    "### 6.5 서울시 구별 주유 가격 확인하기 \n",
    "\n",
    "여기까지만 하면 아쉽잖아요. 그래서 구별로 가격의 정도를 시각화해보려고 합니다. 그래서 앞서 주소에서 구를 추출한 것이에요. 이전에 사용했던 json, folium, googlemaps를 사용해서 시각화해줄 겁니다. 필요한 모듈을 import 해줄게요."
   ]
  },
  {
   "cell_type": "code",
   "execution_count": 79,
   "metadata": {},
   "outputs": [],
   "source": [
    "import json\n",
    "import folium\n",
    "import googlemaps\n",
    "import warnings  # futurewarning 뜨지 않도록! \n",
    "warnings.simplefilter(action = \"ignore\", category = FutureWarning)"
   ]
  },
  {
   "cell_type": "markdown",
   "metadata": {},
   "source": [
    "가격별로 먼저 제일 비싼곳부터 나열해볼게요. 딱 10개를 가져와보겠습니다."
   ]
  },
  {
   "cell_type": "code",
   "execution_count": 80,
   "metadata": {},
   "outputs": [
    {
     "data": {
      "text/html": [
       "<div>\n",
       "<style scoped>\n",
       "    .dataframe tbody tr th:only-of-type {\n",
       "        vertical-align: middle;\n",
       "    }\n",
       "\n",
       "    .dataframe tbody tr th {\n",
       "        vertical-align: top;\n",
       "    }\n",
       "\n",
       "    .dataframe thead th {\n",
       "        text-align: right;\n",
       "    }\n",
       "</style>\n",
       "<table border=\"1\" class=\"dataframe\">\n",
       "  <thead>\n",
       "    <tr style=\"text-align: right;\">\n",
       "      <th></th>\n",
       "      <th>Oil_store</th>\n",
       "      <th>주소</th>\n",
       "      <th>가격</th>\n",
       "      <th>셀프</th>\n",
       "      <th>상표</th>\n",
       "      <th>구</th>\n",
       "    </tr>\n",
       "  </thead>\n",
       "  <tbody>\n",
       "    <tr>\n",
       "      <td>11</td>\n",
       "      <td>서남주유소</td>\n",
       "      <td>서울 중구 통일로 30</td>\n",
       "      <td>2099.0</td>\n",
       "      <td>N</td>\n",
       "      <td>SK에너지</td>\n",
       "      <td>중구</td>\n",
       "    </tr>\n",
       "    <tr>\n",
       "      <td>10</td>\n",
       "      <td>장충주유소</td>\n",
       "      <td>서울 중구 장충단로 202 (장충동1가)</td>\n",
       "      <td>2088.0</td>\n",
       "      <td>N</td>\n",
       "      <td>SK에너지</td>\n",
       "      <td>중구</td>\n",
       "    </tr>\n",
       "    <tr>\n",
       "      <td>39</td>\n",
       "      <td>뉴서울(강남)</td>\n",
       "      <td>서울 강남구 언주로 716 (논현동)</td>\n",
       "      <td>2082.0</td>\n",
       "      <td>N</td>\n",
       "      <td>SK에너지</td>\n",
       "      <td>강남구</td>\n",
       "    </tr>\n",
       "    <tr>\n",
       "      <td>9</td>\n",
       "      <td>에스씨(주) 역전주유소</td>\n",
       "      <td>서울 중구 퇴계로 15</td>\n",
       "      <td>2079.0</td>\n",
       "      <td>N</td>\n",
       "      <td>GS칼텍스</td>\n",
       "      <td>중구</td>\n",
       "    </tr>\n",
       "    <tr>\n",
       "      <td>13</td>\n",
       "      <td>서계주유소</td>\n",
       "      <td>서울 용산구 청파로 367 (서계동)</td>\n",
       "      <td>2059.0</td>\n",
       "      <td>N</td>\n",
       "      <td>GS칼텍스</td>\n",
       "      <td>용산구</td>\n",
       "    </tr>\n",
       "    <tr>\n",
       "      <td>8</td>\n",
       "      <td>필동주유소</td>\n",
       "      <td>서울 중구  퇴계로 196 (필동2가)</td>\n",
       "      <td>2059.0</td>\n",
       "      <td>N</td>\n",
       "      <td>GS칼텍스</td>\n",
       "      <td>중구</td>\n",
       "    </tr>\n",
       "    <tr>\n",
       "      <td>7</td>\n",
       "      <td>SK에너지(주) 퇴계로주유소</td>\n",
       "      <td>서울 중구 퇴계로 228 (필동2가)</td>\n",
       "      <td>2049.0</td>\n",
       "      <td>N</td>\n",
       "      <td>SK에너지</td>\n",
       "      <td>중구</td>\n",
       "    </tr>\n",
       "    <tr>\n",
       "      <td>6</td>\n",
       "      <td>지에스칼텍스(주)초동주유소</td>\n",
       "      <td>서울 중구 마른내로 31</td>\n",
       "      <td>2035.0</td>\n",
       "      <td>N</td>\n",
       "      <td>GS칼텍스</td>\n",
       "      <td>중구</td>\n",
       "    </tr>\n",
       "    <tr>\n",
       "      <td>12</td>\n",
       "      <td>수림석유 제3한강주유소</td>\n",
       "      <td>서울 용산구 한남대로 45 (한남동)</td>\n",
       "      <td>2018.0</td>\n",
       "      <td>N</td>\n",
       "      <td>GS칼텍스</td>\n",
       "      <td>용산구</td>\n",
       "    </tr>\n",
       "    <tr>\n",
       "      <td>8</td>\n",
       "      <td>SK네트웍스(주)재동주유소</td>\n",
       "      <td>서울 종로구 율곡로 58 (경운동)</td>\n",
       "      <td>1999.0</td>\n",
       "      <td>N</td>\n",
       "      <td>SK에너지</td>\n",
       "      <td>종로구</td>\n",
       "    </tr>\n",
       "  </tbody>\n",
       "</table>\n",
       "</div>"
      ],
      "text/plain": [
       "          Oil_store                      주소      가격 셀프     상표    구\n",
       "11            서남주유소            서울 중구 통일로 30  2099.0  N  SK에너지   중구\n",
       "10            장충주유소  서울 중구 장충단로 202 (장충동1가)  2088.0  N  SK에너지   중구\n",
       "39          뉴서울(강남)    서울 강남구 언주로 716 (논현동)  2082.0  N  SK에너지  강남구\n",
       "9      에스씨(주) 역전주유소            서울 중구 퇴계로 15  2079.0  N  GS칼텍스   중구\n",
       "13            서계주유소    서울 용산구 청파로 367 (서계동)  2059.0  N  GS칼텍스  용산구\n",
       "8             필동주유소   서울 중구  퇴계로 196 (필동2가)  2059.0  N  GS칼텍스   중구\n",
       "7   SK에너지(주) 퇴계로주유소    서울 중구 퇴계로 228 (필동2가)  2049.0  N  SK에너지   중구\n",
       "6    지에스칼텍스(주)초동주유소           서울 중구 마른내로 31  2035.0  N  GS칼텍스   중구\n",
       "12     수림석유 제3한강주유소    서울 용산구 한남대로 45 (한남동)  2018.0  N  GS칼텍스  용산구\n",
       "8    SK네트웍스(주)재동주유소     서울 종로구 율곡로 58 (경운동)  1999.0  N  SK에너지  종로구"
      ]
     },
     "execution_count": 80,
     "metadata": {},
     "output_type": "execute_result"
    }
   ],
   "source": [
    "stations.sort_values(by='가격', ascending=False).head(10)"
   ]
  },
  {
   "cell_type": "markdown",
   "metadata": {},
   "source": [
    "강남이 비쌀 줄 알았는데, 중구, 용산구 쪽에 비싼 주유소들이 많군요. 중구에는 광화문, 시청 등이 있어서 일까요. 상당히 비싸네요. 2000원대가 웬말입니까!! \n",
    "\n",
    "다음에는 저의 집이 서대문에 있어서 싼 주소가 어딨는지 알아봤어요."
   ]
  },
  {
   "cell_type": "code",
   "execution_count": 82,
   "metadata": {},
   "outputs": [
    {
     "data": {
      "text/html": [
       "<div>\n",
       "<style scoped>\n",
       "    .dataframe tbody tr th:only-of-type {\n",
       "        vertical-align: middle;\n",
       "    }\n",
       "\n",
       "    .dataframe tbody tr th {\n",
       "        vertical-align: top;\n",
       "    }\n",
       "\n",
       "    .dataframe thead th {\n",
       "        text-align: right;\n",
       "    }\n",
       "</style>\n",
       "<table border=\"1\" class=\"dataframe\">\n",
       "  <thead>\n",
       "    <tr style=\"text-align: right;\">\n",
       "      <th></th>\n",
       "      <th>Oil_store</th>\n",
       "      <th>주소</th>\n",
       "      <th>가격</th>\n",
       "      <th>셀프</th>\n",
       "      <th>상표</th>\n",
       "      <th>구</th>\n",
       "    </tr>\n",
       "  </thead>\n",
       "  <tbody>\n",
       "    <tr>\n",
       "      <td>0</td>\n",
       "      <td>(주)창원이엔지 홍제지점</td>\n",
       "      <td>서울 서대문구 통일로 455 (홍제동)</td>\n",
       "      <td>1329.0</td>\n",
       "      <td>N</td>\n",
       "      <td>현대오일뱅크</td>\n",
       "      <td>서대문구</td>\n",
       "    </tr>\n",
       "    <tr>\n",
       "      <td>1</td>\n",
       "      <td>삼미상사(주)서부주유소</td>\n",
       "      <td>서울 서대문구 성산로 255 (연희동)</td>\n",
       "      <td>1344.0</td>\n",
       "      <td>Y</td>\n",
       "      <td>SK에너지</td>\n",
       "      <td>서대문구</td>\n",
       "    </tr>\n",
       "    <tr>\n",
       "      <td>2</td>\n",
       "      <td>(주)가재울뉴타운주유소</td>\n",
       "      <td>서울 서대문구 모래내로 205</td>\n",
       "      <td>1344.0</td>\n",
       "      <td>Y</td>\n",
       "      <td>현대오일뱅크</td>\n",
       "      <td>서대문구</td>\n",
       "    </tr>\n",
       "    <tr>\n",
       "      <td>3</td>\n",
       "      <td>(주)마봉 구도일주유소 두꺼비</td>\n",
       "      <td>서울 서대문구 성산로 312 (연희동)</td>\n",
       "      <td>1344.0</td>\n",
       "      <td>Y</td>\n",
       "      <td>S-OIL</td>\n",
       "      <td>서대문구</td>\n",
       "    </tr>\n",
       "    <tr>\n",
       "      <td>4</td>\n",
       "      <td>남정주유소</td>\n",
       "      <td>서울특별시 서대문구  모래내로 243 (남가좌동)</td>\n",
       "      <td>1349.0</td>\n",
       "      <td>N</td>\n",
       "      <td>GS칼텍스</td>\n",
       "      <td>서대문구</td>\n",
       "    </tr>\n",
       "    <tr>\n",
       "      <td>5</td>\n",
       "      <td>(주)마봉 신우주유소</td>\n",
       "      <td>서울 서대문구 가좌로 106 (홍은동)</td>\n",
       "      <td>1349.0</td>\n",
       "      <td>Y</td>\n",
       "      <td>S-OIL</td>\n",
       "      <td>서대문구</td>\n",
       "    </tr>\n",
       "    <tr>\n",
       "      <td>6</td>\n",
       "      <td>코리아상사연세주유소</td>\n",
       "      <td>서울 서대문구 연희로 184</td>\n",
       "      <td>1369.0</td>\n",
       "      <td>Y</td>\n",
       "      <td>GS칼텍스</td>\n",
       "      <td>서대문구</td>\n",
       "    </tr>\n",
       "    <tr>\n",
       "      <td>7</td>\n",
       "      <td>지에스칼텍스(주)홍제동주유소</td>\n",
       "      <td>서울 서대문구 통일로 372</td>\n",
       "      <td>1375.0</td>\n",
       "      <td>Y</td>\n",
       "      <td>GS칼텍스</td>\n",
       "      <td>서대문구</td>\n",
       "    </tr>\n",
       "    <tr>\n",
       "      <td>8</td>\n",
       "      <td>삼보셀프주유소</td>\n",
       "      <td>서울 서대문구 연희로 78 (연희동)</td>\n",
       "      <td>1378.0</td>\n",
       "      <td>Y</td>\n",
       "      <td>SK에너지</td>\n",
       "      <td>서대문구</td>\n",
       "    </tr>\n",
       "    <tr>\n",
       "      <td>9</td>\n",
       "      <td>광호주유소</td>\n",
       "      <td>서울 서대문구 연희로 266 (홍은동)</td>\n",
       "      <td>1378.0</td>\n",
       "      <td>N</td>\n",
       "      <td>SK에너지</td>\n",
       "      <td>서대문구</td>\n",
       "    </tr>\n",
       "    <tr>\n",
       "      <td>10</td>\n",
       "      <td>연희주유소</td>\n",
       "      <td>서울 서대문구 연희로 129 (연희동 89-7번지)</td>\n",
       "      <td>1378.0</td>\n",
       "      <td>N</td>\n",
       "      <td>SK에너지</td>\n",
       "      <td>서대문구</td>\n",
       "    </tr>\n",
       "    <tr>\n",
       "      <td>11</td>\n",
       "      <td>중앙에너비스 동교지점</td>\n",
       "      <td>서울 서대문구 연희로 12 (창천동)</td>\n",
       "      <td>1378.0</td>\n",
       "      <td>Y</td>\n",
       "      <td>SK에너지</td>\n",
       "      <td>서대문구</td>\n",
       "    </tr>\n",
       "    <tr>\n",
       "      <td>12</td>\n",
       "      <td>KH에너지㈜직영 독립문주유소</td>\n",
       "      <td>서울 서대문구 통일로 384 (홍제동)</td>\n",
       "      <td>1398.0</td>\n",
       "      <td>N</td>\n",
       "      <td>SK에너지</td>\n",
       "      <td>서대문구</td>\n",
       "    </tr>\n",
       "    <tr>\n",
       "      <td>13</td>\n",
       "      <td>문화촌주유소</td>\n",
       "      <td>서울 서대문구 세검정로 87 (홍제동)</td>\n",
       "      <td>1680.0</td>\n",
       "      <td>N</td>\n",
       "      <td>S-OIL</td>\n",
       "      <td>서대문구</td>\n",
       "    </tr>\n",
       "    <tr>\n",
       "      <td>14</td>\n",
       "      <td>행촌제2주유소</td>\n",
       "      <td>서울 서대문구 성산로 490 (대신동)</td>\n",
       "      <td>1917.0</td>\n",
       "      <td>N</td>\n",
       "      <td>SK에너지</td>\n",
       "      <td>서대문구</td>\n",
       "    </tr>\n",
       "  </tbody>\n",
       "</table>\n",
       "</div>"
      ],
      "text/plain": [
       "           Oil_store                            주소      가격 셀프      상표     구\n",
       "0      (주)창원이엔지 홍제지점         서울 서대문구 통일로 455 (홍제동)  1329.0  N  현대오일뱅크  서대문구\n",
       "1       삼미상사(주)서부주유소         서울 서대문구 성산로 255 (연희동)  1344.0  Y   SK에너지  서대문구\n",
       "2       (주)가재울뉴타운주유소              서울 서대문구 모래내로 205  1344.0  Y  현대오일뱅크  서대문구\n",
       "3   (주)마봉 구도일주유소 두꺼비         서울 서대문구 성산로 312 (연희동)  1344.0  Y   S-OIL  서대문구\n",
       "4              남정주유소   서울특별시 서대문구  모래내로 243 (남가좌동)  1349.0  N   GS칼텍스  서대문구\n",
       "5        (주)마봉 신우주유소         서울 서대문구 가좌로 106 (홍은동)  1349.0  Y   S-OIL  서대문구\n",
       "6         코리아상사연세주유소               서울 서대문구 연희로 184  1369.0  Y   GS칼텍스  서대문구\n",
       "7    지에스칼텍스(주)홍제동주유소               서울 서대문구 통일로 372  1375.0  Y   GS칼텍스  서대문구\n",
       "8            삼보셀프주유소          서울 서대문구 연희로 78 (연희동)  1378.0  Y   SK에너지  서대문구\n",
       "9              광호주유소         서울 서대문구 연희로 266 (홍은동)  1378.0  N   SK에너지  서대문구\n",
       "10             연희주유소  서울 서대문구 연희로 129 (연희동 89-7번지)  1378.0  N   SK에너지  서대문구\n",
       "11       중앙에너비스 동교지점          서울 서대문구 연희로 12 (창천동)  1378.0  Y   SK에너지  서대문구\n",
       "12   KH에너지㈜직영 독립문주유소         서울 서대문구 통일로 384 (홍제동)  1398.0  N   SK에너지  서대문구\n",
       "13            문화촌주유소         서울 서대문구 세검정로 87 (홍제동)  1680.0  N   S-OIL  서대문구\n",
       "14           행촌제2주유소         서울 서대문구 성산로 490 (대신동)  1917.0  N   SK에너지  서대문구"
      ]
     },
     "execution_count": 82,
     "metadata": {},
     "output_type": "execute_result"
    }
   ],
   "source": [
    "stations[stations['구'] == '서대문구'].sort_values(by='가격')"
   ]
  },
  {
   "cell_type": "markdown",
   "metadata": {},
   "source": [
    "오홍, 1번째 index가 우리집과 제일 가까운 곳이네요^6^ \n",
    "\n",
    "서울시에서 가장 낮은 주유소들을 어디에 있는지도 볼게요."
   ]
  },
  {
   "cell_type": "code",
   "execution_count": 83,
   "metadata": {},
   "outputs": [
    {
     "data": {
      "text/html": [
       "<div>\n",
       "<style scoped>\n",
       "    .dataframe tbody tr th:only-of-type {\n",
       "        vertical-align: middle;\n",
       "    }\n",
       "\n",
       "    .dataframe tbody tr th {\n",
       "        vertical-align: top;\n",
       "    }\n",
       "\n",
       "    .dataframe thead th {\n",
       "        text-align: right;\n",
       "    }\n",
       "</style>\n",
       "<table border=\"1\" class=\"dataframe\">\n",
       "  <thead>\n",
       "    <tr style=\"text-align: right;\">\n",
       "      <th></th>\n",
       "      <th>Oil_store</th>\n",
       "      <th>주소</th>\n",
       "      <th>가격</th>\n",
       "      <th>셀프</th>\n",
       "      <th>상표</th>\n",
       "      <th>구</th>\n",
       "    </tr>\n",
       "  </thead>\n",
       "  <tbody>\n",
       "    <tr>\n",
       "      <td>2</td>\n",
       "      <td>강산제2주유소</td>\n",
       "      <td>서울 성북구 보국문로 52</td>\n",
       "      <td>1237.0</td>\n",
       "      <td>Y</td>\n",
       "      <td>현대오일뱅크</td>\n",
       "      <td>성북구</td>\n",
       "    </tr>\n",
       "    <tr>\n",
       "      <td>0</td>\n",
       "      <td>이케이에너지㈜ 강산주유소</td>\n",
       "      <td>서울 성북구 보문로 27 (보문동7가)</td>\n",
       "      <td>1237.0</td>\n",
       "      <td>Y</td>\n",
       "      <td>GS칼텍스</td>\n",
       "      <td>성북구</td>\n",
       "    </tr>\n",
       "    <tr>\n",
       "      <td>3</td>\n",
       "      <td>(주)삼표에너지 정릉주유소</td>\n",
       "      <td>서울 성북구 보국문로 35 (정릉동)</td>\n",
       "      <td>1237.0</td>\n",
       "      <td>Y</td>\n",
       "      <td>GS칼텍스</td>\n",
       "      <td>성북구</td>\n",
       "    </tr>\n",
       "    <tr>\n",
       "      <td>1</td>\n",
       "      <td>원천주유소</td>\n",
       "      <td>서울 성북구 돌곶이로 142 (장위동)</td>\n",
       "      <td>1237.0</td>\n",
       "      <td>N</td>\n",
       "      <td>알뜰주유소</td>\n",
       "      <td>성북구</td>\n",
       "    </tr>\n",
       "    <tr>\n",
       "      <td>1</td>\n",
       "      <td>북서울고속주유소</td>\n",
       "      <td>서울 강북구 삼양로 410 (수유동)</td>\n",
       "      <td>1257.0</td>\n",
       "      <td>Y</td>\n",
       "      <td>S-OIL</td>\n",
       "      <td>강북구</td>\n",
       "    </tr>\n",
       "    <tr>\n",
       "      <td>0</td>\n",
       "      <td>(주)석산에너지</td>\n",
       "      <td>서울 강북구 삼양로 316 (수유동)</td>\n",
       "      <td>1257.0</td>\n",
       "      <td>Y</td>\n",
       "      <td>현대오일뱅크</td>\n",
       "      <td>강북구</td>\n",
       "    </tr>\n",
       "    <tr>\n",
       "      <td>1</td>\n",
       "      <td>화곡역주유소</td>\n",
       "      <td>서울특별시 강서구  강서로 154 (화곡동)</td>\n",
       "      <td>1258.0</td>\n",
       "      <td>Y</td>\n",
       "      <td>알뜰주유소</td>\n",
       "      <td>강서구</td>\n",
       "    </tr>\n",
       "    <tr>\n",
       "      <td>0</td>\n",
       "      <td>뉴신정주유소</td>\n",
       "      <td>서울 강서구 곰달래로 207(화곡동)</td>\n",
       "      <td>1258.0</td>\n",
       "      <td>N</td>\n",
       "      <td>알뜰주유소</td>\n",
       "      <td>강서구</td>\n",
       "    </tr>\n",
       "    <tr>\n",
       "      <td>0</td>\n",
       "      <td>형산석유(주)원주유소</td>\n",
       "      <td>서울 양천구 남부순환로 408</td>\n",
       "      <td>1258.0</td>\n",
       "      <td>N</td>\n",
       "      <td>현대오일뱅크</td>\n",
       "      <td>양천구</td>\n",
       "    </tr>\n",
       "    <tr>\n",
       "      <td>1</td>\n",
       "      <td>현대주유소</td>\n",
       "      <td>서울 양천구 남부순환로 372 (신월동)</td>\n",
       "      <td>1258.0</td>\n",
       "      <td>Y</td>\n",
       "      <td>S-OIL</td>\n",
       "      <td>양천구</td>\n",
       "    </tr>\n",
       "  </tbody>\n",
       "</table>\n",
       "</div>"
      ],
      "text/plain": [
       "        Oil_store                        주소      가격 셀프      상표    구\n",
       "2         강산제2주유소            서울 성북구 보국문로 52  1237.0  Y  현대오일뱅크  성북구\n",
       "0   이케이에너지㈜ 강산주유소     서울 성북구 보문로 27 (보문동7가)  1237.0  Y   GS칼텍스  성북구\n",
       "3  (주)삼표에너지 정릉주유소      서울 성북구 보국문로 35 (정릉동)  1237.0  Y   GS칼텍스  성북구\n",
       "1           원천주유소     서울 성북구 돌곶이로 142 (장위동)  1237.0  N   알뜰주유소  성북구\n",
       "1        북서울고속주유소      서울 강북구 삼양로 410 (수유동)  1257.0  Y   S-OIL  강북구\n",
       "0        (주)석산에너지      서울 강북구 삼양로 316 (수유동)  1257.0  Y  현대오일뱅크  강북구\n",
       "1          화곡역주유소  서울특별시 강서구  강서로 154 (화곡동)  1258.0  Y   알뜰주유소  강서구\n",
       "0          뉴신정주유소      서울 강서구 곰달래로 207(화곡동)  1258.0  N   알뜰주유소  강서구\n",
       "0     형산석유(주)원주유소          서울 양천구 남부순환로 408  1258.0  N  현대오일뱅크  양천구\n",
       "1           현대주유소    서울 양천구 남부순환로 372 (신월동)  1258.0  Y   S-OIL  양천구"
      ]
     },
     "execution_count": 83,
     "metadata": {},
     "output_type": "execute_result"
    }
   ],
   "source": [
    "stations.sort_values(by='가격', ascending=True).head(10)"
   ]
  },
  {
   "cell_type": "markdown",
   "metadata": {},
   "source": [
    "성북구, 강북구, 강서구 이런 구들에 많군요. \n",
    "\n",
    "하지만 단순히 10개의 데이터를 가지고 이런 구들이 비싸다 싸다를 말하긴 힘들죠. 그래서 평균을 내서 대체적인 가격을 비교해보겠습니다. "
   ]
  },
  {
   "cell_type": "code",
   "execution_count": 84,
   "metadata": {},
   "outputs": [
    {
     "data": {
      "text/html": [
       "<div>\n",
       "<style scoped>\n",
       "    .dataframe tbody tr th:only-of-type {\n",
       "        vertical-align: middle;\n",
       "    }\n",
       "\n",
       "    .dataframe tbody tr th {\n",
       "        vertical-align: top;\n",
       "    }\n",
       "\n",
       "    .dataframe thead th {\n",
       "        text-align: right;\n",
       "    }\n",
       "</style>\n",
       "<table border=\"1\" class=\"dataframe\">\n",
       "  <thead>\n",
       "    <tr style=\"text-align: right;\">\n",
       "      <th></th>\n",
       "      <th>가격</th>\n",
       "    </tr>\n",
       "    <tr>\n",
       "      <th>구</th>\n",
       "      <th></th>\n",
       "    </tr>\n",
       "  </thead>\n",
       "  <tbody>\n",
       "    <tr>\n",
       "      <td>강남구</td>\n",
       "      <td>1615.775000</td>\n",
       "    </tr>\n",
       "    <tr>\n",
       "      <td>강동구</td>\n",
       "      <td>1461.312500</td>\n",
       "    </tr>\n",
       "    <tr>\n",
       "      <td>강북구</td>\n",
       "      <td>1297.461538</td>\n",
       "    </tr>\n",
       "    <tr>\n",
       "      <td>강서구</td>\n",
       "      <td>1381.647059</td>\n",
       "    </tr>\n",
       "    <tr>\n",
       "      <td>관악구</td>\n",
       "      <td>1456.375000</td>\n",
       "    </tr>\n",
       "  </tbody>\n",
       "</table>\n",
       "</div>"
      ],
      "text/plain": [
       "              가격\n",
       "구               \n",
       "강남구  1615.775000\n",
       "강동구  1461.312500\n",
       "강북구  1297.461538\n",
       "강서구  1381.647059\n",
       "관악구  1456.375000"
      ]
     },
     "execution_count": 84,
     "metadata": {},
     "output_type": "execute_result"
    }
   ],
   "source": [
    "import numpy as np \n",
    "gu_data = pd.pivot_table(stations, index=['구'], values=[\"가격\"], aggfunc=np.mean)\n",
    "gu_data.head()"
   ]
  },
  {
   "cell_type": "markdown",
   "metadata": {},
   "source": [
    "이것을 지도에 시각화해서 나타내보겠습니다."
   ]
  },
  {
   "cell_type": "code",
   "execution_count": 86,
   "metadata": {},
   "outputs": [
    {
     "data": {
      "text/html": [
       "<div style=\"width:100%;\"><div style=\"position:relative;width:100%;height:0;padding-bottom:60%;\"><iframe src=\"about:blank\" style=\"position:absolute;width:100%;height:100%;left:0;top:0;border:none !important;\" data-html=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 onload=\"this.contentDocument.open();this.contentDocument.write(atob(this.getAttribute('data-html')));this.contentDocument.close();\" allowfullscreen webkitallowfullscreen mozallowfullscreen></iframe></div></div>"
      ],
      "text/plain": [
       "<folium.folium.Map at 0x1a2634f850>"
      ]
     },
     "execution_count": 86,
     "metadata": {},
     "output_type": "execute_result"
    }
   ],
   "source": [
    "geo_path = 'data/skorea_municipalities_geo_simple.json'\n",
    "geo_str = json.load(open(geo_path, encoding='utf-8'))\n",
    "\n",
    "map = folium.Map(location=[37.5502, 126.982], zoom_start=10.5, \n",
    "                 tiles='Stamen Toner')\n",
    "\n",
    "map.choropleth(geo_data = geo_str,\n",
    "               data = gu_data,\n",
    "               columns=[gu_data.index, '가격'],\n",
    "               fill_color='PuRd', #PuRd, YlGnBu\n",
    "               key_on='feature.id')\n",
    "map"
   ]
  },
  {
   "cell_type": "markdown",
   "metadata": {},
   "source": [
    "오호라 이렇게 하니, 확실히 중구와 용산구가 비싸네요. 거기다 종로구도 무척 비싸고, 강남구도 확실히 비싸네요. \n",
    "\n",
    "### 6.6 서울시 주유 가격 상하위 10개 주유소 지도에 표시하기\n",
    "\n",
    "이번에는 서울시에 있는 주유가격 상하위 10개 주유소를 지도에 표시해보도록 하겠습니다. 구별로 따지는게 아니라, 개별 주유소별로 따져보는 거에요. 상하위 10개 주유소만 따로 변수에 담아보겠습니다."
   ]
  },
  {
   "cell_type": "code",
   "execution_count": 90,
   "metadata": {},
   "outputs": [
    {
     "data": {
      "text/html": [
       "<div>\n",
       "<style scoped>\n",
       "    .dataframe tbody tr th:only-of-type {\n",
       "        vertical-align: middle;\n",
       "    }\n",
       "\n",
       "    .dataframe tbody tr th {\n",
       "        vertical-align: top;\n",
       "    }\n",
       "\n",
       "    .dataframe thead th {\n",
       "        text-align: right;\n",
       "    }\n",
       "</style>\n",
       "<table border=\"1\" class=\"dataframe\">\n",
       "  <thead>\n",
       "    <tr style=\"text-align: right;\">\n",
       "      <th></th>\n",
       "      <th>Oil_store</th>\n",
       "      <th>주소</th>\n",
       "      <th>가격</th>\n",
       "      <th>셀프</th>\n",
       "      <th>상표</th>\n",
       "      <th>구</th>\n",
       "    </tr>\n",
       "  </thead>\n",
       "  <tbody>\n",
       "    <tr>\n",
       "      <td>11</td>\n",
       "      <td>서남주유소</td>\n",
       "      <td>서울 중구 통일로 30</td>\n",
       "      <td>2099.0</td>\n",
       "      <td>N</td>\n",
       "      <td>SK에너지</td>\n",
       "      <td>중구</td>\n",
       "    </tr>\n",
       "    <tr>\n",
       "      <td>10</td>\n",
       "      <td>장충주유소</td>\n",
       "      <td>서울 중구 장충단로 202 (장충동1가)</td>\n",
       "      <td>2088.0</td>\n",
       "      <td>N</td>\n",
       "      <td>SK에너지</td>\n",
       "      <td>중구</td>\n",
       "    </tr>\n",
       "    <tr>\n",
       "      <td>39</td>\n",
       "      <td>뉴서울(강남)</td>\n",
       "      <td>서울 강남구 언주로 716 (논현동)</td>\n",
       "      <td>2082.0</td>\n",
       "      <td>N</td>\n",
       "      <td>SK에너지</td>\n",
       "      <td>강남구</td>\n",
       "    </tr>\n",
       "    <tr>\n",
       "      <td>9</td>\n",
       "      <td>에스씨(주) 역전주유소</td>\n",
       "      <td>서울 중구 퇴계로 15</td>\n",
       "      <td>2079.0</td>\n",
       "      <td>N</td>\n",
       "      <td>GS칼텍스</td>\n",
       "      <td>중구</td>\n",
       "    </tr>\n",
       "    <tr>\n",
       "      <td>13</td>\n",
       "      <td>서계주유소</td>\n",
       "      <td>서울 용산구 청파로 367 (서계동)</td>\n",
       "      <td>2059.0</td>\n",
       "      <td>N</td>\n",
       "      <td>GS칼텍스</td>\n",
       "      <td>용산구</td>\n",
       "    </tr>\n",
       "    <tr>\n",
       "      <td>8</td>\n",
       "      <td>필동주유소</td>\n",
       "      <td>서울 중구  퇴계로 196 (필동2가)</td>\n",
       "      <td>2059.0</td>\n",
       "      <td>N</td>\n",
       "      <td>GS칼텍스</td>\n",
       "      <td>중구</td>\n",
       "    </tr>\n",
       "    <tr>\n",
       "      <td>7</td>\n",
       "      <td>SK에너지(주) 퇴계로주유소</td>\n",
       "      <td>서울 중구 퇴계로 228 (필동2가)</td>\n",
       "      <td>2049.0</td>\n",
       "      <td>N</td>\n",
       "      <td>SK에너지</td>\n",
       "      <td>중구</td>\n",
       "    </tr>\n",
       "    <tr>\n",
       "      <td>6</td>\n",
       "      <td>지에스칼텍스(주)초동주유소</td>\n",
       "      <td>서울 중구 마른내로 31</td>\n",
       "      <td>2035.0</td>\n",
       "      <td>N</td>\n",
       "      <td>GS칼텍스</td>\n",
       "      <td>중구</td>\n",
       "    </tr>\n",
       "    <tr>\n",
       "      <td>12</td>\n",
       "      <td>수림석유 제3한강주유소</td>\n",
       "      <td>서울 용산구 한남대로 45 (한남동)</td>\n",
       "      <td>2018.0</td>\n",
       "      <td>N</td>\n",
       "      <td>GS칼텍스</td>\n",
       "      <td>용산구</td>\n",
       "    </tr>\n",
       "    <tr>\n",
       "      <td>8</td>\n",
       "      <td>SK네트웍스(주)재동주유소</td>\n",
       "      <td>서울 종로구 율곡로 58 (경운동)</td>\n",
       "      <td>1999.0</td>\n",
       "      <td>N</td>\n",
       "      <td>SK에너지</td>\n",
       "      <td>종로구</td>\n",
       "    </tr>\n",
       "  </tbody>\n",
       "</table>\n",
       "</div>"
      ],
      "text/plain": [
       "          Oil_store                      주소      가격 셀프     상표    구\n",
       "11            서남주유소            서울 중구 통일로 30  2099.0  N  SK에너지   중구\n",
       "10            장충주유소  서울 중구 장충단로 202 (장충동1가)  2088.0  N  SK에너지   중구\n",
       "39          뉴서울(강남)    서울 강남구 언주로 716 (논현동)  2082.0  N  SK에너지  강남구\n",
       "9      에스씨(주) 역전주유소            서울 중구 퇴계로 15  2079.0  N  GS칼텍스   중구\n",
       "13            서계주유소    서울 용산구 청파로 367 (서계동)  2059.0  N  GS칼텍스  용산구\n",
       "8             필동주유소   서울 중구  퇴계로 196 (필동2가)  2059.0  N  GS칼텍스   중구\n",
       "7   SK에너지(주) 퇴계로주유소    서울 중구 퇴계로 228 (필동2가)  2049.0  N  SK에너지   중구\n",
       "6    지에스칼텍스(주)초동주유소           서울 중구 마른내로 31  2035.0  N  GS칼텍스   중구\n",
       "12     수림석유 제3한강주유소    서울 용산구 한남대로 45 (한남동)  2018.0  N  GS칼텍스  용산구\n",
       "8    SK네트웍스(주)재동주유소     서울 종로구 율곡로 58 (경운동)  1999.0  N  SK에너지  종로구"
      ]
     },
     "execution_count": 90,
     "metadata": {},
     "output_type": "execute_result"
    }
   ],
   "source": [
    "oil_price_top10 = stations.sort_values(by='가격', ascending=False).head(10)\n",
    "oil_price_top10"
   ]
  },
  {
   "cell_type": "code",
   "execution_count": 91,
   "metadata": {},
   "outputs": [
    {
     "data": {
      "text/html": [
       "<div>\n",
       "<style scoped>\n",
       "    .dataframe tbody tr th:only-of-type {\n",
       "        vertical-align: middle;\n",
       "    }\n",
       "\n",
       "    .dataframe tbody tr th {\n",
       "        vertical-align: top;\n",
       "    }\n",
       "\n",
       "    .dataframe thead th {\n",
       "        text-align: right;\n",
       "    }\n",
       "</style>\n",
       "<table border=\"1\" class=\"dataframe\">\n",
       "  <thead>\n",
       "    <tr style=\"text-align: right;\">\n",
       "      <th></th>\n",
       "      <th>Oil_store</th>\n",
       "      <th>주소</th>\n",
       "      <th>가격</th>\n",
       "      <th>셀프</th>\n",
       "      <th>상표</th>\n",
       "      <th>구</th>\n",
       "    </tr>\n",
       "  </thead>\n",
       "  <tbody>\n",
       "    <tr>\n",
       "      <td>2</td>\n",
       "      <td>강산제2주유소</td>\n",
       "      <td>서울 성북구 보국문로 52</td>\n",
       "      <td>1237.0</td>\n",
       "      <td>Y</td>\n",
       "      <td>현대오일뱅크</td>\n",
       "      <td>성북구</td>\n",
       "    </tr>\n",
       "    <tr>\n",
       "      <td>0</td>\n",
       "      <td>이케이에너지㈜ 강산주유소</td>\n",
       "      <td>서울 성북구 보문로 27 (보문동7가)</td>\n",
       "      <td>1237.0</td>\n",
       "      <td>Y</td>\n",
       "      <td>GS칼텍스</td>\n",
       "      <td>성북구</td>\n",
       "    </tr>\n",
       "    <tr>\n",
       "      <td>3</td>\n",
       "      <td>(주)삼표에너지 정릉주유소</td>\n",
       "      <td>서울 성북구 보국문로 35 (정릉동)</td>\n",
       "      <td>1237.0</td>\n",
       "      <td>Y</td>\n",
       "      <td>GS칼텍스</td>\n",
       "      <td>성북구</td>\n",
       "    </tr>\n",
       "    <tr>\n",
       "      <td>1</td>\n",
       "      <td>원천주유소</td>\n",
       "      <td>서울 성북구 돌곶이로 142 (장위동)</td>\n",
       "      <td>1237.0</td>\n",
       "      <td>N</td>\n",
       "      <td>알뜰주유소</td>\n",
       "      <td>성북구</td>\n",
       "    </tr>\n",
       "    <tr>\n",
       "      <td>1</td>\n",
       "      <td>북서울고속주유소</td>\n",
       "      <td>서울 강북구 삼양로 410 (수유동)</td>\n",
       "      <td>1257.0</td>\n",
       "      <td>Y</td>\n",
       "      <td>S-OIL</td>\n",
       "      <td>강북구</td>\n",
       "    </tr>\n",
       "    <tr>\n",
       "      <td>0</td>\n",
       "      <td>(주)석산에너지</td>\n",
       "      <td>서울 강북구 삼양로 316 (수유동)</td>\n",
       "      <td>1257.0</td>\n",
       "      <td>Y</td>\n",
       "      <td>현대오일뱅크</td>\n",
       "      <td>강북구</td>\n",
       "    </tr>\n",
       "    <tr>\n",
       "      <td>1</td>\n",
       "      <td>화곡역주유소</td>\n",
       "      <td>서울특별시 강서구  강서로 154 (화곡동)</td>\n",
       "      <td>1258.0</td>\n",
       "      <td>Y</td>\n",
       "      <td>알뜰주유소</td>\n",
       "      <td>강서구</td>\n",
       "    </tr>\n",
       "    <tr>\n",
       "      <td>0</td>\n",
       "      <td>뉴신정주유소</td>\n",
       "      <td>서울 강서구 곰달래로 207(화곡동)</td>\n",
       "      <td>1258.0</td>\n",
       "      <td>N</td>\n",
       "      <td>알뜰주유소</td>\n",
       "      <td>강서구</td>\n",
       "    </tr>\n",
       "    <tr>\n",
       "      <td>0</td>\n",
       "      <td>형산석유(주)원주유소</td>\n",
       "      <td>서울 양천구 남부순환로 408</td>\n",
       "      <td>1258.0</td>\n",
       "      <td>N</td>\n",
       "      <td>현대오일뱅크</td>\n",
       "      <td>양천구</td>\n",
       "    </tr>\n",
       "    <tr>\n",
       "      <td>1</td>\n",
       "      <td>현대주유소</td>\n",
       "      <td>서울 양천구 남부순환로 372 (신월동)</td>\n",
       "      <td>1258.0</td>\n",
       "      <td>Y</td>\n",
       "      <td>S-OIL</td>\n",
       "      <td>양천구</td>\n",
       "    </tr>\n",
       "  </tbody>\n",
       "</table>\n",
       "</div>"
      ],
      "text/plain": [
       "        Oil_store                        주소      가격 셀프      상표    구\n",
       "2         강산제2주유소            서울 성북구 보국문로 52  1237.0  Y  현대오일뱅크  성북구\n",
       "0   이케이에너지㈜ 강산주유소     서울 성북구 보문로 27 (보문동7가)  1237.0  Y   GS칼텍스  성북구\n",
       "3  (주)삼표에너지 정릉주유소      서울 성북구 보국문로 35 (정릉동)  1237.0  Y   GS칼텍스  성북구\n",
       "1           원천주유소     서울 성북구 돌곶이로 142 (장위동)  1237.0  N   알뜰주유소  성북구\n",
       "1        북서울고속주유소      서울 강북구 삼양로 410 (수유동)  1257.0  Y   S-OIL  강북구\n",
       "0        (주)석산에너지      서울 강북구 삼양로 316 (수유동)  1257.0  Y  현대오일뱅크  강북구\n",
       "1          화곡역주유소  서울특별시 강서구  강서로 154 (화곡동)  1258.0  Y   알뜰주유소  강서구\n",
       "0          뉴신정주유소      서울 강서구 곰달래로 207(화곡동)  1258.0  N   알뜰주유소  강서구\n",
       "0     형산석유(주)원주유소          서울 양천구 남부순환로 408  1258.0  N  현대오일뱅크  양천구\n",
       "1           현대주유소    서울 양천구 남부순환로 372 (신월동)  1258.0  Y   S-OIL  양천구"
      ]
     },
     "execution_count": 91,
     "metadata": {},
     "output_type": "execute_result"
    }
   ],
   "source": [
    "oil_price_bottom10 = stations.sort_values(by='가격', ascending=True).head(10)\n",
    "oil_price_bottom10"
   ]
  },
  {
   "cell_type": "markdown",
   "metadata": {},
   "source": [
    "지도에 시각화 하려면 위도와 경도가 필요하니, 구글 맵키를 준비해주시구요."
   ]
  },
  {
   "cell_type": "code",
   "execution_count": 93,
   "metadata": {},
   "outputs": [],
   "source": [
    "gmaps_key = \"**************\"\n",
    "gmaps = googlemaps.Client(key=gmaps_key)"
   ]
  },
  {
   "cell_type": "markdown",
   "metadata": {},
   "source": [
    "아래 코드를 입력하면 lat과 lng 정보를 모두 담아 oil_price_top10과 oil_price_bottom10에다 새로운 칼럼으로 담아줍니다. (코드는 교재에 실린 코드와는 다릅니다.)"
   ]
  },
  {
   "cell_type": "code",
   "execution_count": 94,
   "metadata": {},
   "outputs": [
    {
     "data": {
      "application/vnd.jupyter.widget-view+json": {
       "model_id": "9a705550d5b2467fbe165445672e33e9",
       "version_major": 2,
       "version_minor": 0
      },
      "text/plain": [
       "HBox(children=(IntProgress(value=0, max=10), HTML(value='')))"
      ]
     },
     "metadata": {},
     "output_type": "display_data"
    },
    {
     "name": "stdout",
     "output_type": "stream",
     "text": [
      "\n"
     ]
    },
    {
     "data": {
      "text/html": [
       "<div>\n",
       "<style scoped>\n",
       "    .dataframe tbody tr th:only-of-type {\n",
       "        vertical-align: middle;\n",
       "    }\n",
       "\n",
       "    .dataframe tbody tr th {\n",
       "        vertical-align: top;\n",
       "    }\n",
       "\n",
       "    .dataframe thead th {\n",
       "        text-align: right;\n",
       "    }\n",
       "</style>\n",
       "<table border=\"1\" class=\"dataframe\">\n",
       "  <thead>\n",
       "    <tr style=\"text-align: right;\">\n",
       "      <th></th>\n",
       "      <th>Oil_store</th>\n",
       "      <th>주소</th>\n",
       "      <th>가격</th>\n",
       "      <th>셀프</th>\n",
       "      <th>상표</th>\n",
       "      <th>구</th>\n",
       "      <th>lat</th>\n",
       "      <th>lng</th>\n",
       "    </tr>\n",
       "  </thead>\n",
       "  <tbody>\n",
       "    <tr>\n",
       "      <td>11</td>\n",
       "      <td>서남주유소</td>\n",
       "      <td>서울 중구 통일로 30</td>\n",
       "      <td>2099.0</td>\n",
       "      <td>N</td>\n",
       "      <td>SK에너지</td>\n",
       "      <td>중구</td>\n",
       "      <td>37.558348</td>\n",
       "      <td>126.972090</td>\n",
       "    </tr>\n",
       "    <tr>\n",
       "      <td>10</td>\n",
       "      <td>장충주유소</td>\n",
       "      <td>서울 중구 장충단로 202 (장충동1가)</td>\n",
       "      <td>2088.0</td>\n",
       "      <td>N</td>\n",
       "      <td>SK에너지</td>\n",
       "      <td>중구</td>\n",
       "      <td>37.562719</td>\n",
       "      <td>127.007010</td>\n",
       "    </tr>\n",
       "    <tr>\n",
       "      <td>39</td>\n",
       "      <td>뉴서울(강남)</td>\n",
       "      <td>서울 강남구 언주로 716 (논현동)</td>\n",
       "      <td>2082.0</td>\n",
       "      <td>N</td>\n",
       "      <td>SK에너지</td>\n",
       "      <td>강남구</td>\n",
       "      <td>37.517636</td>\n",
       "      <td>127.035756</td>\n",
       "    </tr>\n",
       "    <tr>\n",
       "      <td>9</td>\n",
       "      <td>에스씨(주) 역전주유소</td>\n",
       "      <td>서울 중구 퇴계로 15</td>\n",
       "      <td>2079.0</td>\n",
       "      <td>N</td>\n",
       "      <td>GS칼텍스</td>\n",
       "      <td>중구</td>\n",
       "      <td>37.557001</td>\n",
       "      <td>126.974495</td>\n",
       "    </tr>\n",
       "    <tr>\n",
       "      <td>13</td>\n",
       "      <td>서계주유소</td>\n",
       "      <td>서울 용산구 청파로 367 (서계동)</td>\n",
       "      <td>2059.0</td>\n",
       "      <td>N</td>\n",
       "      <td>GS칼텍스</td>\n",
       "      <td>용산구</td>\n",
       "      <td>37.552290</td>\n",
       "      <td>126.968935</td>\n",
       "    </tr>\n",
       "    <tr>\n",
       "      <td>8</td>\n",
       "      <td>필동주유소</td>\n",
       "      <td>서울 중구  퇴계로 196 (필동2가)</td>\n",
       "      <td>2059.0</td>\n",
       "      <td>N</td>\n",
       "      <td>GS칼텍스</td>\n",
       "      <td>중구</td>\n",
       "      <td>37.560850</td>\n",
       "      <td>126.993653</td>\n",
       "    </tr>\n",
       "    <tr>\n",
       "      <td>7</td>\n",
       "      <td>SK에너지(주) 퇴계로주유소</td>\n",
       "      <td>서울 중구 퇴계로 228 (필동2가)</td>\n",
       "      <td>2049.0</td>\n",
       "      <td>N</td>\n",
       "      <td>SK에너지</td>\n",
       "      <td>중구</td>\n",
       "      <td>37.561648</td>\n",
       "      <td>126.997142</td>\n",
       "    </tr>\n",
       "    <tr>\n",
       "      <td>6</td>\n",
       "      <td>지에스칼텍스(주)초동주유소</td>\n",
       "      <td>서울 중구 마른내로 31</td>\n",
       "      <td>2035.0</td>\n",
       "      <td>N</td>\n",
       "      <td>GS칼텍스</td>\n",
       "      <td>중구</td>\n",
       "      <td>37.564944</td>\n",
       "      <td>126.991136</td>\n",
       "    </tr>\n",
       "    <tr>\n",
       "      <td>12</td>\n",
       "      <td>수림석유 제3한강주유소</td>\n",
       "      <td>서울 용산구 한남대로 45 (한남동)</td>\n",
       "      <td>2018.0</td>\n",
       "      <td>N</td>\n",
       "      <td>GS칼텍스</td>\n",
       "      <td>용산구</td>\n",
       "      <td>37.532731</td>\n",
       "      <td>127.007481</td>\n",
       "    </tr>\n",
       "    <tr>\n",
       "      <td>8</td>\n",
       "      <td>SK네트웍스(주)재동주유소</td>\n",
       "      <td>서울 종로구 율곡로 58 (경운동)</td>\n",
       "      <td>1999.0</td>\n",
       "      <td>N</td>\n",
       "      <td>SK에너지</td>\n",
       "      <td>종로구</td>\n",
       "      <td>37.560850</td>\n",
       "      <td>126.993653</td>\n",
       "    </tr>\n",
       "  </tbody>\n",
       "</table>\n",
       "</div>"
      ],
      "text/plain": [
       "          Oil_store                      주소      가격 셀프     상표    구        lat  \\\n",
       "11            서남주유소            서울 중구 통일로 30  2099.0  N  SK에너지   중구  37.558348   \n",
       "10            장충주유소  서울 중구 장충단로 202 (장충동1가)  2088.0  N  SK에너지   중구  37.562719   \n",
       "39          뉴서울(강남)    서울 강남구 언주로 716 (논현동)  2082.0  N  SK에너지  강남구  37.517636   \n",
       "9      에스씨(주) 역전주유소            서울 중구 퇴계로 15  2079.0  N  GS칼텍스   중구  37.557001   \n",
       "13            서계주유소    서울 용산구 청파로 367 (서계동)  2059.0  N  GS칼텍스  용산구  37.552290   \n",
       "8             필동주유소   서울 중구  퇴계로 196 (필동2가)  2059.0  N  GS칼텍스   중구  37.560850   \n",
       "7   SK에너지(주) 퇴계로주유소    서울 중구 퇴계로 228 (필동2가)  2049.0  N  SK에너지   중구  37.561648   \n",
       "6    지에스칼텍스(주)초동주유소           서울 중구 마른내로 31  2035.0  N  GS칼텍스   중구  37.564944   \n",
       "12     수림석유 제3한강주유소    서울 용산구 한남대로 45 (한남동)  2018.0  N  GS칼텍스  용산구  37.532731   \n",
       "8    SK네트웍스(주)재동주유소     서울 종로구 율곡로 58 (경운동)  1999.0  N  SK에너지  종로구  37.560850   \n",
       "\n",
       "           lng  \n",
       "11  126.972090  \n",
       "10  127.007010  \n",
       "39  127.035756  \n",
       "9   126.974495  \n",
       "13  126.968935  \n",
       "8   126.993653  \n",
       "7   126.997142  \n",
       "6   126.991136  \n",
       "12  127.007481  \n",
       "8   126.993653  "
      ]
     },
     "execution_count": 94,
     "metadata": {},
     "output_type": "execute_result"
    }
   ],
   "source": [
    "from tqdm import tqdm_notebook\n",
    "\n",
    "lat = []\n",
    "lng = []\n",
    "\n",
    "for n in tqdm_notebook(oil_price_top10.index):\n",
    "    # 주소를 '(' 기준으로 나눠 첫번째 주소만 가져와라 \n",
    "    tmp_add = str(oil_price_top10['주소'][n]).split('(')[0]\n",
    "    # tmp_add를 기준으로 주소를 입력해라 \n",
    "    tmp_map = gmaps.geocode(tmp_add)\n",
    "\n",
    "    # tmp_map의 첫번째 값에서 'geometry'를 구하고, 거기에서 다시 'location'을 구해라\n",
    "    tmp_loc = tmp_map[0].get('geometry').get('location')\n",
    "    lat.append(tmp_loc['lat'])\n",
    "    lng.append(tmp_loc['lng'])\n",
    "\n",
    "# 각각 새로운 컬럼 형성 \n",
    "oil_price_top10['lat'] = lat\n",
    "oil_price_top10['lng'] = lng\n",
    "oil_price_top10"
   ]
  },
  {
   "cell_type": "markdown",
   "metadata": {},
   "source": [
    "엇, 그런데 인덱스가 이상하네요. 8이 2번 들어가 있어요."
   ]
  },
  {
   "cell_type": "code",
   "execution_count": 96,
   "metadata": {},
   "outputs": [
    {
     "data": {
      "application/vnd.jupyter.widget-view+json": {
       "model_id": "b443b741a61c46a2b590fd3061ad0a68",
       "version_major": 2,
       "version_minor": 0
      },
      "text/plain": [
       "HBox(children=(IntProgress(value=0, max=10), HTML(value='')))"
      ]
     },
     "metadata": {},
     "output_type": "display_data"
    },
    {
     "name": "stdout",
     "output_type": "stream",
     "text": [
      "\n"
     ]
    },
    {
     "data": {
      "text/html": [
       "<div>\n",
       "<style scoped>\n",
       "    .dataframe tbody tr th:only-of-type {\n",
       "        vertical-align: middle;\n",
       "    }\n",
       "\n",
       "    .dataframe tbody tr th {\n",
       "        vertical-align: top;\n",
       "    }\n",
       "\n",
       "    .dataframe thead th {\n",
       "        text-align: right;\n",
       "    }\n",
       "</style>\n",
       "<table border=\"1\" class=\"dataframe\">\n",
       "  <thead>\n",
       "    <tr style=\"text-align: right;\">\n",
       "      <th></th>\n",
       "      <th>Oil_store</th>\n",
       "      <th>주소</th>\n",
       "      <th>가격</th>\n",
       "      <th>셀프</th>\n",
       "      <th>상표</th>\n",
       "      <th>구</th>\n",
       "      <th>lat</th>\n",
       "      <th>lng</th>\n",
       "    </tr>\n",
       "  </thead>\n",
       "  <tbody>\n",
       "    <tr>\n",
       "      <td>2</td>\n",
       "      <td>강산제2주유소</td>\n",
       "      <td>서울 성북구 보국문로 52</td>\n",
       "      <td>1237.0</td>\n",
       "      <td>Y</td>\n",
       "      <td>현대오일뱅크</td>\n",
       "      <td>성북구</td>\n",
       "      <td>37.609163</td>\n",
       "      <td>127.010074</td>\n",
       "    </tr>\n",
       "    <tr>\n",
       "      <td>0</td>\n",
       "      <td>이케이에너지㈜ 강산주유소</td>\n",
       "      <td>서울 성북구 보문로 27 (보문동7가)</td>\n",
       "      <td>1237.0</td>\n",
       "      <td>Y</td>\n",
       "      <td>GS칼텍스</td>\n",
       "      <td>성북구</td>\n",
       "      <td>37.577912</td>\n",
       "      <td>127.022774</td>\n",
       "    </tr>\n",
       "    <tr>\n",
       "      <td>3</td>\n",
       "      <td>(주)삼표에너지 정릉주유소</td>\n",
       "      <td>서울 성북구 보국문로 35 (정릉동)</td>\n",
       "      <td>1237.0</td>\n",
       "      <td>Y</td>\n",
       "      <td>GS칼텍스</td>\n",
       "      <td>성북구</td>\n",
       "      <td>37.607660</td>\n",
       "      <td>127.009858</td>\n",
       "    </tr>\n",
       "    <tr>\n",
       "      <td>1</td>\n",
       "      <td>원천주유소</td>\n",
       "      <td>서울 성북구 돌곶이로 142 (장위동)</td>\n",
       "      <td>1237.0</td>\n",
       "      <td>N</td>\n",
       "      <td>알뜰주유소</td>\n",
       "      <td>성북구</td>\n",
       "      <td>37.614921</td>\n",
       "      <td>127.052752</td>\n",
       "    </tr>\n",
       "    <tr>\n",
       "      <td>1</td>\n",
       "      <td>북서울고속주유소</td>\n",
       "      <td>서울 강북구 삼양로 410 (수유동)</td>\n",
       "      <td>1257.0</td>\n",
       "      <td>Y</td>\n",
       "      <td>S-OIL</td>\n",
       "      <td>강북구</td>\n",
       "      <td>37.614921</td>\n",
       "      <td>127.052752</td>\n",
       "    </tr>\n",
       "    <tr>\n",
       "      <td>0</td>\n",
       "      <td>(주)석산에너지</td>\n",
       "      <td>서울 강북구 삼양로 316 (수유동)</td>\n",
       "      <td>1257.0</td>\n",
       "      <td>Y</td>\n",
       "      <td>현대오일뱅크</td>\n",
       "      <td>강북구</td>\n",
       "      <td>37.577912</td>\n",
       "      <td>127.022774</td>\n",
       "    </tr>\n",
       "    <tr>\n",
       "      <td>1</td>\n",
       "      <td>화곡역주유소</td>\n",
       "      <td>서울특별시 강서구  강서로 154 (화곡동)</td>\n",
       "      <td>1258.0</td>\n",
       "      <td>Y</td>\n",
       "      <td>알뜰주유소</td>\n",
       "      <td>강서구</td>\n",
       "      <td>37.614921</td>\n",
       "      <td>127.052752</td>\n",
       "    </tr>\n",
       "    <tr>\n",
       "      <td>0</td>\n",
       "      <td>뉴신정주유소</td>\n",
       "      <td>서울 강서구 곰달래로 207(화곡동)</td>\n",
       "      <td>1258.0</td>\n",
       "      <td>N</td>\n",
       "      <td>알뜰주유소</td>\n",
       "      <td>강서구</td>\n",
       "      <td>37.577912</td>\n",
       "      <td>127.022774</td>\n",
       "    </tr>\n",
       "    <tr>\n",
       "      <td>0</td>\n",
       "      <td>형산석유(주)원주유소</td>\n",
       "      <td>서울 양천구 남부순환로 408</td>\n",
       "      <td>1258.0</td>\n",
       "      <td>N</td>\n",
       "      <td>현대오일뱅크</td>\n",
       "      <td>양천구</td>\n",
       "      <td>37.577912</td>\n",
       "      <td>127.022774</td>\n",
       "    </tr>\n",
       "    <tr>\n",
       "      <td>1</td>\n",
       "      <td>현대주유소</td>\n",
       "      <td>서울 양천구 남부순환로 372 (신월동)</td>\n",
       "      <td>1258.0</td>\n",
       "      <td>Y</td>\n",
       "      <td>S-OIL</td>\n",
       "      <td>양천구</td>\n",
       "      <td>37.614921</td>\n",
       "      <td>127.052752</td>\n",
       "    </tr>\n",
       "  </tbody>\n",
       "</table>\n",
       "</div>"
      ],
      "text/plain": [
       "        Oil_store                        주소      가격 셀프      상표    구  \\\n",
       "2         강산제2주유소            서울 성북구 보국문로 52  1237.0  Y  현대오일뱅크  성북구   \n",
       "0   이케이에너지㈜ 강산주유소     서울 성북구 보문로 27 (보문동7가)  1237.0  Y   GS칼텍스  성북구   \n",
       "3  (주)삼표에너지 정릉주유소      서울 성북구 보국문로 35 (정릉동)  1237.0  Y   GS칼텍스  성북구   \n",
       "1           원천주유소     서울 성북구 돌곶이로 142 (장위동)  1237.0  N   알뜰주유소  성북구   \n",
       "1        북서울고속주유소      서울 강북구 삼양로 410 (수유동)  1257.0  Y   S-OIL  강북구   \n",
       "0        (주)석산에너지      서울 강북구 삼양로 316 (수유동)  1257.0  Y  현대오일뱅크  강북구   \n",
       "1          화곡역주유소  서울특별시 강서구  강서로 154 (화곡동)  1258.0  Y   알뜰주유소  강서구   \n",
       "0          뉴신정주유소      서울 강서구 곰달래로 207(화곡동)  1258.0  N   알뜰주유소  강서구   \n",
       "0     형산석유(주)원주유소          서울 양천구 남부순환로 408  1258.0  N  현대오일뱅크  양천구   \n",
       "1           현대주유소    서울 양천구 남부순환로 372 (신월동)  1258.0  Y   S-OIL  양천구   \n",
       "\n",
       "         lat         lng  \n",
       "2  37.609163  127.010074  \n",
       "0  37.577912  127.022774  \n",
       "3  37.607660  127.009858  \n",
       "1  37.614921  127.052752  \n",
       "1  37.614921  127.052752  \n",
       "0  37.577912  127.022774  \n",
       "1  37.614921  127.052752  \n",
       "0  37.577912  127.022774  \n",
       "0  37.577912  127.022774  \n",
       "1  37.614921  127.052752  "
      ]
     },
     "execution_count": 96,
     "metadata": {},
     "output_type": "execute_result"
    }
   ],
   "source": [
    "lat = []\n",
    "lng = []\n",
    "\n",
    "for n in tqdm_notebook(oil_price_bottom10.index):\n",
    "    # 주소를 '(' 기준으로 나눠 첫번째 주소만 가져와라 \n",
    "    tmp_add = str(oil_price_bottom10['주소'][n]).split('(')[0]\n",
    "    # tmp_add를 기준으로 주소를 입력해라 \n",
    "    tmp_map = gmaps.geocode(tmp_add)\n",
    "\n",
    "    # tmp_map의 첫번째 값에서 'geometry'를 구하고, 거기에서 다시 'location'을 구해라\n",
    "    tmp_loc = tmp_map[0].get('geometry').get('location')\n",
    "    lat.append(tmp_loc['lat'])\n",
    "    lng.append(tmp_loc['lng'])\n",
    "\n",
    "# 각각 새로운 컬럼 형성 \n",
    "oil_price_bottom10['lat'] = lat\n",
    "oil_price_bottom10['lng'] = lng\n",
    "oil_price_bottom10"
   ]
  },
  {
   "cell_type": "markdown",
   "metadata": {},
   "source": [
    "어, 그런데 하위 10개도 index가 이상하죠. 아마 병합하는 과정에서 인덱스를 재설정하지 않아서 이런 결과가 나타난 것 같아요. 이러면 이후가 문제가 생기게 돼요. 아래처럼 인덱스 별로 위도와 경도를 뽑아보면, 6번째 값부터 이상하게 추출이 되죠? 그러면 Folium에 넣었을 때 오류가 떠요! "
   ]
  },
  {
   "cell_type": "code",
   "execution_count": 97,
   "metadata": {},
   "outputs": [
    {
     "name": "stdout",
     "output_type": "stream",
     "text": [
      "[37.5583477, 126.9720901]\n",
      "[37.5627192, 127.0070101]\n",
      "[37.51763589999999, 127.0357559]\n",
      "[37.5570008, 126.9744945]\n",
      "[37.5522895, 126.9689354]\n",
      "[8    37.56085\n",
      "8    37.56085\n",
      "Name: lat, dtype: float64, 8    126.993653\n",
      "8    126.993653\n",
      "Name: lng, dtype: float64]\n",
      "[37.5616483, 126.9971419]\n",
      "[37.5649444, 126.9911359]\n",
      "[37.5327311, 127.0074814]\n",
      "[8    37.56085\n",
      "8    37.56085\n",
      "Name: lat, dtype: float64, 8    126.993653\n",
      "8    126.993653\n",
      "Name: lng, dtype: float64]\n"
     ]
    }
   ],
   "source": [
    "for n in oil_price_top10.index:\n",
    "    print([oil_price_top10['lat'][n], oil_price_top10['lng'][n]])"
   ]
  },
  {
   "cell_type": "markdown",
   "metadata": {},
   "source": [
    "그래서 이 문제를 해결하기 위해 index를 다시 설정해줍니다. "
   ]
  },
  {
   "cell_type": "code",
   "execution_count": 100,
   "metadata": {},
   "outputs": [
    {
     "data": {
      "text/html": [
       "<div>\n",
       "<style scoped>\n",
       "    .dataframe tbody tr th:only-of-type {\n",
       "        vertical-align: middle;\n",
       "    }\n",
       "\n",
       "    .dataframe tbody tr th {\n",
       "        vertical-align: top;\n",
       "    }\n",
       "\n",
       "    .dataframe thead th {\n",
       "        text-align: right;\n",
       "    }\n",
       "</style>\n",
       "<table border=\"1\" class=\"dataframe\">\n",
       "  <thead>\n",
       "    <tr style=\"text-align: right;\">\n",
       "      <th></th>\n",
       "      <th>Oil_store</th>\n",
       "      <th>주소</th>\n",
       "      <th>가격</th>\n",
       "      <th>셀프</th>\n",
       "      <th>상표</th>\n",
       "      <th>구</th>\n",
       "      <th>lat</th>\n",
       "      <th>lng</th>\n",
       "    </tr>\n",
       "  </thead>\n",
       "  <tbody>\n",
       "    <tr>\n",
       "      <td>0</td>\n",
       "      <td>서남주유소</td>\n",
       "      <td>서울 중구 통일로 30</td>\n",
       "      <td>2099.0</td>\n",
       "      <td>N</td>\n",
       "      <td>SK에너지</td>\n",
       "      <td>중구</td>\n",
       "      <td>37.558348</td>\n",
       "      <td>126.972090</td>\n",
       "    </tr>\n",
       "    <tr>\n",
       "      <td>1</td>\n",
       "      <td>장충주유소</td>\n",
       "      <td>서울 중구 장충단로 202 (장충동1가)</td>\n",
       "      <td>2088.0</td>\n",
       "      <td>N</td>\n",
       "      <td>SK에너지</td>\n",
       "      <td>중구</td>\n",
       "      <td>37.562719</td>\n",
       "      <td>127.007010</td>\n",
       "    </tr>\n",
       "    <tr>\n",
       "      <td>2</td>\n",
       "      <td>뉴서울(강남)</td>\n",
       "      <td>서울 강남구 언주로 716 (논현동)</td>\n",
       "      <td>2082.0</td>\n",
       "      <td>N</td>\n",
       "      <td>SK에너지</td>\n",
       "      <td>강남구</td>\n",
       "      <td>37.517636</td>\n",
       "      <td>127.035756</td>\n",
       "    </tr>\n",
       "    <tr>\n",
       "      <td>3</td>\n",
       "      <td>에스씨(주) 역전주유소</td>\n",
       "      <td>서울 중구 퇴계로 15</td>\n",
       "      <td>2079.0</td>\n",
       "      <td>N</td>\n",
       "      <td>GS칼텍스</td>\n",
       "      <td>중구</td>\n",
       "      <td>37.557001</td>\n",
       "      <td>126.974495</td>\n",
       "    </tr>\n",
       "    <tr>\n",
       "      <td>4</td>\n",
       "      <td>서계주유소</td>\n",
       "      <td>서울 용산구 청파로 367 (서계동)</td>\n",
       "      <td>2059.0</td>\n",
       "      <td>N</td>\n",
       "      <td>GS칼텍스</td>\n",
       "      <td>용산구</td>\n",
       "      <td>37.552290</td>\n",
       "      <td>126.968935</td>\n",
       "    </tr>\n",
       "    <tr>\n",
       "      <td>5</td>\n",
       "      <td>필동주유소</td>\n",
       "      <td>서울 중구  퇴계로 196 (필동2가)</td>\n",
       "      <td>2059.0</td>\n",
       "      <td>N</td>\n",
       "      <td>GS칼텍스</td>\n",
       "      <td>중구</td>\n",
       "      <td>37.560850</td>\n",
       "      <td>126.993653</td>\n",
       "    </tr>\n",
       "    <tr>\n",
       "      <td>6</td>\n",
       "      <td>SK에너지(주) 퇴계로주유소</td>\n",
       "      <td>서울 중구 퇴계로 228 (필동2가)</td>\n",
       "      <td>2049.0</td>\n",
       "      <td>N</td>\n",
       "      <td>SK에너지</td>\n",
       "      <td>중구</td>\n",
       "      <td>37.561648</td>\n",
       "      <td>126.997142</td>\n",
       "    </tr>\n",
       "    <tr>\n",
       "      <td>7</td>\n",
       "      <td>지에스칼텍스(주)초동주유소</td>\n",
       "      <td>서울 중구 마른내로 31</td>\n",
       "      <td>2035.0</td>\n",
       "      <td>N</td>\n",
       "      <td>GS칼텍스</td>\n",
       "      <td>중구</td>\n",
       "      <td>37.564944</td>\n",
       "      <td>126.991136</td>\n",
       "    </tr>\n",
       "    <tr>\n",
       "      <td>8</td>\n",
       "      <td>수림석유 제3한강주유소</td>\n",
       "      <td>서울 용산구 한남대로 45 (한남동)</td>\n",
       "      <td>2018.0</td>\n",
       "      <td>N</td>\n",
       "      <td>GS칼텍스</td>\n",
       "      <td>용산구</td>\n",
       "      <td>37.532731</td>\n",
       "      <td>127.007481</td>\n",
       "    </tr>\n",
       "    <tr>\n",
       "      <td>9</td>\n",
       "      <td>SK네트웍스(주)재동주유소</td>\n",
       "      <td>서울 종로구 율곡로 58 (경운동)</td>\n",
       "      <td>1999.0</td>\n",
       "      <td>N</td>\n",
       "      <td>SK에너지</td>\n",
       "      <td>종로구</td>\n",
       "      <td>37.560850</td>\n",
       "      <td>126.993653</td>\n",
       "    </tr>\n",
       "  </tbody>\n",
       "</table>\n",
       "</div>"
      ],
      "text/plain": [
       "         Oil_store                      주소      가격 셀프     상표    구        lat  \\\n",
       "0            서남주유소            서울 중구 통일로 30  2099.0  N  SK에너지   중구  37.558348   \n",
       "1            장충주유소  서울 중구 장충단로 202 (장충동1가)  2088.0  N  SK에너지   중구  37.562719   \n",
       "2          뉴서울(강남)    서울 강남구 언주로 716 (논현동)  2082.0  N  SK에너지  강남구  37.517636   \n",
       "3     에스씨(주) 역전주유소            서울 중구 퇴계로 15  2079.0  N  GS칼텍스   중구  37.557001   \n",
       "4            서계주유소    서울 용산구 청파로 367 (서계동)  2059.0  N  GS칼텍스  용산구  37.552290   \n",
       "5            필동주유소   서울 중구  퇴계로 196 (필동2가)  2059.0  N  GS칼텍스   중구  37.560850   \n",
       "6  SK에너지(주) 퇴계로주유소    서울 중구 퇴계로 228 (필동2가)  2049.0  N  SK에너지   중구  37.561648   \n",
       "7   지에스칼텍스(주)초동주유소           서울 중구 마른내로 31  2035.0  N  GS칼텍스   중구  37.564944   \n",
       "8     수림석유 제3한강주유소    서울 용산구 한남대로 45 (한남동)  2018.0  N  GS칼텍스  용산구  37.532731   \n",
       "9   SK네트웍스(주)재동주유소     서울 종로구 율곡로 58 (경운동)  1999.0  N  SK에너지  종로구  37.560850   \n",
       "\n",
       "          lng  \n",
       "0  126.972090  \n",
       "1  127.007010  \n",
       "2  127.035756  \n",
       "3  126.974495  \n",
       "4  126.968935  \n",
       "5  126.993653  \n",
       "6  126.997142  \n",
       "7  126.991136  \n",
       "8  127.007481  \n",
       "9  126.993653  "
      ]
     },
     "execution_count": 100,
     "metadata": {},
     "output_type": "execute_result"
    }
   ],
   "source": [
    "oil_price_top10.reset_index(inplace=True)\n",
    "oil_price_top10.drop('index',1,inplace=True)\n",
    "oil_price_top10"
   ]
  },
  {
   "cell_type": "code",
   "execution_count": 101,
   "metadata": {},
   "outputs": [
    {
     "name": "stdout",
     "output_type": "stream",
     "text": [
      "[37.5583477, 126.9720901]\n",
      "[37.5627192, 127.0070101]\n",
      "[37.51763589999999, 127.0357559]\n",
      "[37.5570008, 126.9744945]\n",
      "[37.5522895, 126.9689354]\n",
      "[37.56084999999999, 126.9936529]\n",
      "[37.5616483, 126.9971419]\n",
      "[37.5649444, 126.9911359]\n",
      "[37.5327311, 127.0074814]\n",
      "[37.56084999999999, 126.9936529]\n"
     ]
    }
   ],
   "source": [
    "for n in oil_price_top10.index:\n",
    "    print([oil_price_top10['lat'][n], oil_price_top10['lng'][n]])"
   ]
  },
  {
   "cell_type": "markdown",
   "metadata": {},
   "source": [
    "이제 잘 도출이 되네요! 그럼 하위 10개도 제대로 해줍시다."
   ]
  },
  {
   "cell_type": "code",
   "execution_count": 102,
   "metadata": {},
   "outputs": [
    {
     "data": {
      "text/html": [
       "<div>\n",
       "<style scoped>\n",
       "    .dataframe tbody tr th:only-of-type {\n",
       "        vertical-align: middle;\n",
       "    }\n",
       "\n",
       "    .dataframe tbody tr th {\n",
       "        vertical-align: top;\n",
       "    }\n",
       "\n",
       "    .dataframe thead th {\n",
       "        text-align: right;\n",
       "    }\n",
       "</style>\n",
       "<table border=\"1\" class=\"dataframe\">\n",
       "  <thead>\n",
       "    <tr style=\"text-align: right;\">\n",
       "      <th></th>\n",
       "      <th>Oil_store</th>\n",
       "      <th>주소</th>\n",
       "      <th>가격</th>\n",
       "      <th>셀프</th>\n",
       "      <th>상표</th>\n",
       "      <th>구</th>\n",
       "      <th>lat</th>\n",
       "      <th>lng</th>\n",
       "    </tr>\n",
       "  </thead>\n",
       "  <tbody>\n",
       "    <tr>\n",
       "      <td>0</td>\n",
       "      <td>강산제2주유소</td>\n",
       "      <td>서울 성북구 보국문로 52</td>\n",
       "      <td>1237.0</td>\n",
       "      <td>Y</td>\n",
       "      <td>현대오일뱅크</td>\n",
       "      <td>성북구</td>\n",
       "      <td>37.609163</td>\n",
       "      <td>127.010074</td>\n",
       "    </tr>\n",
       "    <tr>\n",
       "      <td>1</td>\n",
       "      <td>이케이에너지㈜ 강산주유소</td>\n",
       "      <td>서울 성북구 보문로 27 (보문동7가)</td>\n",
       "      <td>1237.0</td>\n",
       "      <td>Y</td>\n",
       "      <td>GS칼텍스</td>\n",
       "      <td>성북구</td>\n",
       "      <td>37.577912</td>\n",
       "      <td>127.022774</td>\n",
       "    </tr>\n",
       "    <tr>\n",
       "      <td>2</td>\n",
       "      <td>(주)삼표에너지 정릉주유소</td>\n",
       "      <td>서울 성북구 보국문로 35 (정릉동)</td>\n",
       "      <td>1237.0</td>\n",
       "      <td>Y</td>\n",
       "      <td>GS칼텍스</td>\n",
       "      <td>성북구</td>\n",
       "      <td>37.607660</td>\n",
       "      <td>127.009858</td>\n",
       "    </tr>\n",
       "    <tr>\n",
       "      <td>3</td>\n",
       "      <td>원천주유소</td>\n",
       "      <td>서울 성북구 돌곶이로 142 (장위동)</td>\n",
       "      <td>1237.0</td>\n",
       "      <td>N</td>\n",
       "      <td>알뜰주유소</td>\n",
       "      <td>성북구</td>\n",
       "      <td>37.614921</td>\n",
       "      <td>127.052752</td>\n",
       "    </tr>\n",
       "    <tr>\n",
       "      <td>4</td>\n",
       "      <td>북서울고속주유소</td>\n",
       "      <td>서울 강북구 삼양로 410 (수유동)</td>\n",
       "      <td>1257.0</td>\n",
       "      <td>Y</td>\n",
       "      <td>S-OIL</td>\n",
       "      <td>강북구</td>\n",
       "      <td>37.614921</td>\n",
       "      <td>127.052752</td>\n",
       "    </tr>\n",
       "    <tr>\n",
       "      <td>5</td>\n",
       "      <td>(주)석산에너지</td>\n",
       "      <td>서울 강북구 삼양로 316 (수유동)</td>\n",
       "      <td>1257.0</td>\n",
       "      <td>Y</td>\n",
       "      <td>현대오일뱅크</td>\n",
       "      <td>강북구</td>\n",
       "      <td>37.577912</td>\n",
       "      <td>127.022774</td>\n",
       "    </tr>\n",
       "    <tr>\n",
       "      <td>6</td>\n",
       "      <td>화곡역주유소</td>\n",
       "      <td>서울특별시 강서구  강서로 154 (화곡동)</td>\n",
       "      <td>1258.0</td>\n",
       "      <td>Y</td>\n",
       "      <td>알뜰주유소</td>\n",
       "      <td>강서구</td>\n",
       "      <td>37.614921</td>\n",
       "      <td>127.052752</td>\n",
       "    </tr>\n",
       "    <tr>\n",
       "      <td>7</td>\n",
       "      <td>뉴신정주유소</td>\n",
       "      <td>서울 강서구 곰달래로 207(화곡동)</td>\n",
       "      <td>1258.0</td>\n",
       "      <td>N</td>\n",
       "      <td>알뜰주유소</td>\n",
       "      <td>강서구</td>\n",
       "      <td>37.577912</td>\n",
       "      <td>127.022774</td>\n",
       "    </tr>\n",
       "    <tr>\n",
       "      <td>8</td>\n",
       "      <td>형산석유(주)원주유소</td>\n",
       "      <td>서울 양천구 남부순환로 408</td>\n",
       "      <td>1258.0</td>\n",
       "      <td>N</td>\n",
       "      <td>현대오일뱅크</td>\n",
       "      <td>양천구</td>\n",
       "      <td>37.577912</td>\n",
       "      <td>127.022774</td>\n",
       "    </tr>\n",
       "    <tr>\n",
       "      <td>9</td>\n",
       "      <td>현대주유소</td>\n",
       "      <td>서울 양천구 남부순환로 372 (신월동)</td>\n",
       "      <td>1258.0</td>\n",
       "      <td>Y</td>\n",
       "      <td>S-OIL</td>\n",
       "      <td>양천구</td>\n",
       "      <td>37.614921</td>\n",
       "      <td>127.052752</td>\n",
       "    </tr>\n",
       "  </tbody>\n",
       "</table>\n",
       "</div>"
      ],
      "text/plain": [
       "        Oil_store                        주소      가격 셀프      상표    구  \\\n",
       "0         강산제2주유소            서울 성북구 보국문로 52  1237.0  Y  현대오일뱅크  성북구   \n",
       "1   이케이에너지㈜ 강산주유소     서울 성북구 보문로 27 (보문동7가)  1237.0  Y   GS칼텍스  성북구   \n",
       "2  (주)삼표에너지 정릉주유소      서울 성북구 보국문로 35 (정릉동)  1237.0  Y   GS칼텍스  성북구   \n",
       "3           원천주유소     서울 성북구 돌곶이로 142 (장위동)  1237.0  N   알뜰주유소  성북구   \n",
       "4        북서울고속주유소      서울 강북구 삼양로 410 (수유동)  1257.0  Y   S-OIL  강북구   \n",
       "5        (주)석산에너지      서울 강북구 삼양로 316 (수유동)  1257.0  Y  현대오일뱅크  강북구   \n",
       "6          화곡역주유소  서울특별시 강서구  강서로 154 (화곡동)  1258.0  Y   알뜰주유소  강서구   \n",
       "7          뉴신정주유소      서울 강서구 곰달래로 207(화곡동)  1258.0  N   알뜰주유소  강서구   \n",
       "8     형산석유(주)원주유소          서울 양천구 남부순환로 408  1258.0  N  현대오일뱅크  양천구   \n",
       "9           현대주유소    서울 양천구 남부순환로 372 (신월동)  1258.0  Y   S-OIL  양천구   \n",
       "\n",
       "         lat         lng  \n",
       "0  37.609163  127.010074  \n",
       "1  37.577912  127.022774  \n",
       "2  37.607660  127.009858  \n",
       "3  37.614921  127.052752  \n",
       "4  37.614921  127.052752  \n",
       "5  37.577912  127.022774  \n",
       "6  37.614921  127.052752  \n",
       "7  37.577912  127.022774  \n",
       "8  37.577912  127.022774  \n",
       "9  37.614921  127.052752  "
      ]
     },
     "execution_count": 102,
     "metadata": {},
     "output_type": "execute_result"
    }
   ],
   "source": [
    "oil_price_bottom10.reset_index(inplace=True)\n",
    "oil_price_bottom10.drop('index',1,inplace=True)\n",
    "oil_price_bottom10"
   ]
  },
  {
   "cell_type": "code",
   "execution_count": 103,
   "metadata": {},
   "outputs": [
    {
     "name": "stdout",
     "output_type": "stream",
     "text": [
      "[37.6091627, 127.0100739]\n",
      "[37.5779125, 127.0227737]\n",
      "[37.6076598, 127.0098583]\n",
      "[37.614921, 127.0527521]\n",
      "[37.614921, 127.0527521]\n",
      "[37.5779125, 127.0227737]\n",
      "[37.614921, 127.0527521]\n",
      "[37.5779125, 127.0227737]\n",
      "[37.5779125, 127.0227737]\n",
      "[37.614921, 127.0527521]\n"
     ]
    }
   ],
   "source": [
    "for n in oil_price_bottom10.index:\n",
    "    print([oil_price_bottom10['lat'][n], oil_price_bottom10['lng'][n]])"
   ]
  },
  {
   "cell_type": "markdown",
   "metadata": {},
   "source": [
    "잘 정리되었습니다! 그럼 이제 지도에다 시각화해봅시다! (아래 코드는 교재 코드에요. 교재에서는 혹시나 몰라서 결측값에 대비해 if로 처리해줬어요) "
   ]
  },
  {
   "cell_type": "code",
   "execution_count": 104,
   "metadata": {},
   "outputs": [
    {
     "data": {
      "text/html": [
       "<div style=\"width:100%;\"><div style=\"position:relative;width:100%;height:0;padding-bottom:60%;\"><iframe src=\"about:blank\" style=\"position:absolute;width:100%;height:100%;left:0;top:0;border:none !important;\" data-html=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 onload=\"this.contentDocument.open();this.contentDocument.write(atob(this.getAttribute('data-html')));this.contentDocument.close();\" allowfullscreen webkitallowfullscreen mozallowfullscreen></iframe></div></div>"
      ],
      "text/plain": [
       "<folium.folium.Map at 0x111a78390>"
      ]
     },
     "execution_count": 104,
     "metadata": {},
     "output_type": "execute_result"
    }
   ],
   "source": [
    "map = folium.Map(location=[37.5202, 126.975], zoom_start=10.5)\n",
    "\n",
    "for n in oil_price_top10.index:\n",
    "    if pd.notnull(oil_price_top10['lat'][n]):\n",
    "        folium.CircleMarker([oil_price_top10['lat'][n], oil_price_top10['lng'][n]], \n",
    "                                  radius=15, color='#CD3181', \n",
    "                                  fill_color='#CD3181',\n",
    "                                  fill=True).add_to(map)\n",
    "    \n",
    "for n in oil_price_bottom10.index:\n",
    "    if pd.notnull(oil_price_bottom10['lat'][n]): \n",
    "        folium.CircleMarker([oil_price_bottom10['lat'][n], \n",
    "                                  oil_price_bottom10['lng'][n]], \n",
    "                                  radius=15, color='#3186cc', \n",
    "                                  fill_color='#3186cc',\n",
    "                                  fill=True).add_to(map)\n",
    "        \n",
    "map"
   ]
  },
  {
   "cell_type": "markdown",
   "metadata": {},
   "source": [
    "대체로 '중구','용산구'에 비싼 주유소가 몰려있고, '강북구','성북구'에 싼 주유소가 몰려있다는 것을 확인할 수 있네요! \n",
    "\n",
    "### 공부를 끝내며 \n",
    "\n",
    "이번 장은 Selenium을 활용하는데 많은 어려움을 겪으셨을 것 같습니다. 웹 드라이버 설치부터 사용까지 쉽지 않으셨을 것이라 생각하는데요! 그래도 여기까지 온 것이면 해결을 다 하셨다는 얘기겠죠? 이렇게 팩트 체크를 해보니 어떠셨나요? 이번 주차도 무척 재미있는 프로젝트였던 것 같습니다. 기존에 익숙했던 pandas, folium, google maps, sns, matplotlib 등은 계속해서 사용할테니 사용법에 익숙해지시면 좋겠네요! 그럼 다음 프로젝트에서 만나요!❤️"
   ]
  }
 ],
 "metadata": {
  "kernelspec": {
   "display_name": "Python 3",
   "language": "python",
   "name": "python3"
  },
  "language_info": {
   "codemirror_mode": {
    "name": "ipython",
    "version": 3
   },
   "file_extension": ".py",
   "mimetype": "text/x-python",
   "name": "python",
   "nbconvert_exporter": "python",
   "pygments_lexer": "ipython3",
   "version": "3.7.4"
  }
 },
 "nbformat": 4,
 "nbformat_minor": 2
}
